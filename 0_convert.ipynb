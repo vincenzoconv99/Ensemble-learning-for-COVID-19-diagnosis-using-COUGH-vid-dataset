{
 "cells": [
  {
   "cell_type": "code",
   "execution_count": 8,
   "metadata": {},
   "outputs": [],
   "source": [
    "import numpy as np\n",
    "import pandas as pd\n",
    "import os\n",
    "import subprocess\n",
    "from pathlib import Path\n",
    "\n",
    "\n",
    "def convert_files(folder):\n",
    "    \"\"\"Convert files from .webm and .ogg to .wav\n",
    "    folder: path to coughvid database and metadata_compiled csv\"\"\"\n",
    "\n",
    "    df = pd.read_csv(folder + 'metadata_compiled.csv')\n",
    "    names_to_convert = df.uuid.to_numpy()\n",
    "    for counter, name in enumerate(names_to_convert):\n",
    "        if (counter%1000 == 0):\n",
    "            print(\"Finished {0}/{1}\".format(counter,len(names_to_convert)))\n",
    "        if os.path.isfile(folder + name + '.webm'):\n",
    "            subprocess.call([\"ffmpeg\", \"-i\", folder+name+\".webm\", folder+name+\".wav\"])\n",
    "        elif os.path.isfile(folder + name + '.ogg'):\n",
    "            subprocess.call([\"ffmpeg\", \"-i\", folder+name+\".ogg\", folder+name+\".wav\"])\n",
    "        else:\n",
    "            print(\"Error: No file name {0}\".format(name))"
   ]
  },
  {
   "cell_type": "code",
   "execution_count": 9,
   "metadata": {},
   "outputs": [
    {
     "name": "stdout",
     "output_type": "stream",
     "text": [
      "Finished 0/27550\n",
      "Finished 1000/27550\n",
      "Finished 2000/27550\n",
      "Finished 3000/27550\n",
      "Finished 4000/27550\n",
      "Finished 5000/27550\n",
      "Finished 6000/27550\n",
      "Finished 7000/27550\n",
      "Finished 8000/27550\n",
      "Finished 9000/27550\n",
      "Finished 10000/27550\n",
      "Finished 11000/27550\n",
      "Finished 12000/27550\n",
      "Finished 13000/27550\n",
      "Finished 14000/27550\n",
      "Finished 15000/27550\n",
      "Finished 16000/27550\n",
      "Finished 17000/27550\n",
      "Finished 18000/27550\n",
      "Finished 19000/27550\n",
      "Finished 20000/27550\n",
      "Finished 21000/27550\n",
      "Finished 22000/27550\n",
      "Finished 23000/27550\n",
      "Finished 24000/27550\n",
      "Finished 25000/27550\n",
      "Finished 26000/27550\n",
      "Finished 27000/27550\n"
     ]
    }
   ],
   "source": [
    "convert_files('../dataset/coughvid/')"
   ]
  }
 ],
 "metadata": {
  "kernelspec": {
   "display_name": "Python 3",
   "language": "python",
   "name": "python3"
  },
  "language_info": {
   "codemirror_mode": {
    "name": "ipython",
    "version": 3
   },
   "file_extension": ".py",
   "mimetype": "text/x-python",
   "name": "python",
   "nbconvert_exporter": "python",
   "pygments_lexer": "ipython3",
   "version": "3.8.3"
  }
 },
 "nbformat": 4,
 "nbformat_minor": 4
}
