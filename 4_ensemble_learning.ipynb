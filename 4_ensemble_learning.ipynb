{
 "cells": [
  {
   "cell_type": "code",
   "execution_count": 22,
   "metadata": {
    "scrolled": true
   },
   "outputs": [
    {
     "name": "stdout",
     "output_type": "stream",
     "text": [
      "Requirement already satisfied: lightgbm in c:\\users\\vince\\appdata\\roaming\\python\\python38\\site-packages (3.3.0)\n",
      "Requirement already satisfied: numpy in c:\\users\\vince\\anaconda3\\lib\\site-packages (from lightgbm) (1.19.5)\n",
      "Requirement already satisfied: scipy in c:\\users\\vince\\anaconda3\\lib\\site-packages (from lightgbm) (1.5.4)\n",
      "Requirement already satisfied: wheel in c:\\users\\vince\\anaconda3\\lib\\site-packages (from lightgbm) (0.37.0)\n",
      "Requirement already satisfied: scikit-learn!=0.22.0 in c:\\users\\vince\\anaconda3\\lib\\site-packages (from lightgbm) (0.23.2)\n",
      "Requirement already satisfied: joblib>=0.11 in c:\\users\\vince\\anaconda3\\lib\\site-packages (from scikit-learn!=0.22.0->lightgbm) (1.0.1)\n",
      "Requirement already satisfied: threadpoolctl>=2.0.0 in c:\\users\\vince\\anaconda3\\lib\\site-packages (from scikit-learn!=0.22.0->lightgbm) (2.1.0)\n"
     ]
    },
    {
     "name": "stderr",
     "output_type": "stream",
     "text": [
      "WARNING: You are using pip version 21.0.1; however, version 21.3.1 is available.\n",
      "You should consider upgrading via the 'c:\\users\\vince\\anaconda3\\python.exe -m pip install --upgrade pip' command.\n"
     ]
    },
    {
     "name": "stdout",
     "output_type": "stream",
     "text": [
      "Requirement already satisfied: hypopt in c:\\users\\vince\\anaconda3\\lib\\site-packages (1.0.9)\n",
      "Requirement already satisfied: numpy>=1.11.3 in c:\\users\\vince\\anaconda3\\lib\\site-packages (from hypopt) (1.19.5)\n",
      "Requirement already satisfied: scikit-learn>=0.18 in c:\\users\\vince\\anaconda3\\lib\\site-packages (from hypopt) (0.23.2)\n",
      "Requirement already satisfied: scipy>=0.19.1 in c:\\users\\vince\\anaconda3\\lib\\site-packages (from scikit-learn>=0.18->hypopt) (1.5.4)\n",
      "Requirement already satisfied: joblib>=0.11 in c:\\users\\vince\\anaconda3\\lib\\site-packages (from scikit-learn>=0.18->hypopt) (1.0.1)\n",
      "Requirement already satisfied: threadpoolctl>=2.0.0 in c:\\users\\vince\\anaconda3\\lib\\site-packages (from scikit-learn>=0.18->hypopt) (2.1.0)\n"
     ]
    },
    {
     "name": "stderr",
     "output_type": "stream",
     "text": [
      "WARNING: You are using pip version 21.0.1; however, version 21.3.1 is available.\n",
      "You should consider upgrading via the 'c:\\users\\vince\\anaconda3\\python.exe -m pip install --upgrade pip' command.\n"
     ]
    }
   ],
   "source": [
    "!pip install lightgbm\n",
    "!pip install hypopt --upgrade\n",
    "import pandas as pd\n",
    "import numpy as np\n",
    "from sklearn.preprocessing import StandardScaler\n",
    "from sklearn.ensemble import VotingClassifier\n",
    "from sklearn.neighbors import KNeighborsClassifier\n",
    "from sklearn.ensemble import RandomForestClassifier\n",
    "from sklearn.ensemble import ExtraTreesClassifier\n",
    "from lightgbm import LGBMClassifier\n",
    "from sklearn.svm import SVC\n",
    "from sklearn.model_selection import train_test_split\n",
    "from sklearn.metrics import confusion_matrix\n",
    "from sklearn.model_selection import StratifiedKFold\n",
    "from sklearn.model_selection import GridSearchCV\n",
    "import joblib\n",
    "from joblib import dump, load\n",
    "import hypopt\n",
    "from hypopt import GridSearch\n",
    "import pickle\n",
    "from tensorflow import keras\n",
    "import kerastuner as kt\n",
    "import tensorflow as tf\n",
    "from tensorflow.keras.layers import *\n",
    "from tensorflow.keras.constraints import max_norm\n",
    "from tensorflow.keras import backend as K\n",
    "from tensorflow.keras.models import load_model"
   ]
  },
  {
   "cell_type": "code",
   "execution_count": 2,
   "metadata": {},
   "outputs": [],
   "source": [
    "X_all = pd.read_pickle(\"X_all.pkl\")\n",
    "Y_all = pd.read_pickle(\"Y_all.pkl\")"
   ]
  },
  {
   "cell_type": "code",
   "execution_count": null,
   "metadata": {},
   "outputs": [],
   "source": [
    "X_all = np.asarray(X_all)\n",
    "Y_all = np.asarray(Y_all)"
   ]
  },
  {
   "cell_type": "code",
   "execution_count": 14,
   "metadata": {},
   "outputs": [],
   "source": [
    "np.save('X_all.npy', X_all)\n",
    "np.save('Y_all.npy', Y_all)"
   ]
  },
  {
   "cell_type": "code",
   "execution_count": 10,
   "metadata": {},
   "outputs": [],
   "source": [
    "samples_classifications = dict()"
   ]
  },
  {
   "cell_type": "markdown",
   "metadata": {},
   "source": [
    "<h3>Learning single models</h3> (Subject Independent)"
   ]
  },
  {
   "cell_type": "markdown",
   "metadata": {},
   "source": [
    "KNN tuning and cross validation"
   ]
  },
  {
   "cell_type": "code",
   "execution_count": 41,
   "metadata": {
    "scrolled": true
   },
   "outputs": [
    {
     "name": "stdout",
     "output_type": "stream",
     "text": [
      "Iteration  0\n",
      "[[135  48]\n",
      " [ 65 144]]\n",
      "f1-score 0.7117346938775511\n",
      "{'algorithm': 'ball_tree', 'leaf_size': 30, 'metric': 'manhattan', 'n_neighbors': 1, 'weights': 'uniform'}\n",
      "\n",
      "\n",
      "Iteration  1\n",
      "[[146  37]\n",
      " [ 77 132]]\n",
      "f1-score 0.7091836734693877\n",
      "{'algorithm': 'auto', 'leaf_size': 10, 'metric': 'minkowski', 'n_neighbors': 1, 'weights': 'uniform'}\n",
      "\n",
      "\n",
      "Iteration  2\n",
      "[[149  34]\n",
      " [ 70 139]]\n",
      "f1-score 0.7346938775510204\n",
      "{'algorithm': 'auto', 'leaf_size': 10, 'metric': 'minkowski', 'n_neighbors': 1, 'weights': 'uniform'}\n",
      "\n",
      "\n",
      "Iteration  3\n",
      "[[129  54]\n",
      " [ 71 138]]\n",
      "f1-score 0.6811224489795918\n",
      "{'algorithm': 'brute', 'leaf_size': 20, 'metric': 'manhattan', 'n_neighbors': 1, 'weights': 'distance'}\n",
      "\n",
      "\n",
      "Iteration  4\n",
      "[[137  46]\n",
      " [ 72 137]]\n",
      "f1-score 0.6989795918367347\n",
      "{'algorithm': 'auto', 'leaf_size': 10, 'metric': 'minkowski', 'n_neighbors': 1, 'weights': 'uniform'}\n",
      "\n",
      "\n",
      "Iteration  5\n",
      "[[129  54]\n",
      " [ 80 129]]\n",
      "f1-score 0.6581632653061225\n",
      "{'algorithm': 'auto', 'leaf_size': 10, 'metric': 'minkowski', 'n_neighbors': 1, 'weights': 'uniform'}\n",
      "\n",
      "\n",
      "Iteration  6\n",
      "[[132  51]\n",
      " [ 87 122]]\n",
      "f1-score 0.6479591836734694\n",
      "{'algorithm': 'auto', 'leaf_size': 50, 'metric': 'manhattan', 'n_neighbors': 1, 'weights': 'uniform'}\n",
      "\n",
      "\n",
      "Iteration  7\n",
      "[[129  53]\n",
      " [ 79 130]]\n",
      "f1-score 0.6624040920716112\n",
      "{'algorithm': 'auto', 'leaf_size': 10, 'metric': 'minkowski', 'n_neighbors': 1, 'weights': 'uniform'}\n",
      "\n",
      "\n",
      "Iteration  8\n",
      "[[143  40]\n",
      " [ 87 121]]\n",
      "f1-score 0.6751918158567775\n",
      "{'algorithm': 'auto', 'leaf_size': 10, 'metric': 'minkowski', 'n_neighbors': 1, 'weights': 'uniform'}\n",
      "\n",
      "\n",
      "Iteration  9\n",
      "[[129  54]\n",
      " [ 69 139]]\n",
      "f1-score 0.6854219948849105\n",
      "{'algorithm': 'auto', 'leaf_size': 50, 'metric': 'manhattan', 'n_neighbors': 1, 'weights': 'uniform'}\n",
      "\n",
      "\n"
     ]
    }
   ],
   "source": [
    "skf = StratifiedKFold(n_splits=10, shuffle=True, random_state=42)\n",
    "final_cm=np.array([[0, 0],[0, 0]])\n",
    "\n",
    "\n",
    "for index, (train, test) in enumerate(skf.split(X_all, Y_all)):\n",
    "    print('Iteration ', index)\n",
    "    \n",
    "    # Creating folds and validation set for tuning\n",
    "    X_train = X_all[train]\n",
    "    y_train = Y_all[train]\n",
    "    X_test = X_all[test]\n",
    "    y_test = Y_all[test]\n",
    "    X_train, X_val, y_train, y_val = train_test_split(X_train, y_train, test_size=0.3, random_state=42)\n",
    "    \n",
    "    # Defining search space\n",
    "    param_grid = { \n",
    "                    'n_neighbors' : [1,3,5,7,9,11,13,15], #[x for x in range(1, 105, 2)],\n",
    "                    'weights' : ['uniform', 'distance'],\n",
    "                    'metric' : ['minkowski','euclidean', 'manhattan'],\n",
    "                    'algorithm' : ['auto', 'ball_tree', 'kd_tree', 'brute'],\n",
    "                    'leaf_size' : [10, 20, 30, 40 , 50, 60, 70, 80, 90]\n",
    "                    \n",
    "        \n",
    "    }\n",
    "    \n",
    "    # Tuning on defined validation set of current iteration\n",
    "    gs = GridSearch(model = KNeighborsClassifier(), param_grid = param_grid, parallelize=False)\n",
    "    gs.fit(X_train, y_train, X_val, y_val, scoring='f1')\n",
    "    \n",
    "    dump(gs.best_estimator_, './models/knn_'+str(index)+'.joblib') \n",
    "    preds = gs.best_estimator_.predict(X_test)\n",
    "    final_cm += confusion_matrix(y_test, preds)\n",
    "    \n",
    "    for i,x in enumerate(test):\n",
    "        if x in samples_classifications:\n",
    "            samples_classifications[x]['KNN']= preds[i]\n",
    "        else:\n",
    "            samples_classifications[x]= {'KNN': preds[i]}\n",
    "    \n",
    "    print(confusion_matrix(y_test, preds))\n",
    "    print('f1-score', gs.best_estimator_.score(X_test, y_test))\n",
    "    print(gs.best_params)\n",
    "    print('\\n')"
   ]
  },
  {
   "cell_type": "code",
   "execution_count": 43,
   "metadata": {
    "scrolled": true
   },
   "outputs": [
    {
     "data": {
      "text/plain": [
       "array([[1358,  471],\n",
       "       [ 757, 1331]])"
      ]
     },
     "execution_count": 43,
     "metadata": {},
     "output_type": "execute_result"
    }
   ],
   "source": [
    "final_cm"
   ]
  },
  {
   "cell_type": "markdown",
   "metadata": {},
   "source": [
    "ET tuning and cross validation"
   ]
  },
  {
   "cell_type": "code",
   "execution_count": 14,
   "metadata": {
    "scrolled": true
   },
   "outputs": [
    {
     "name": "stdout",
     "output_type": "stream",
     "text": [
      "Iteration  0\n",
      "[[109  74]\n",
      " [ 35 174]]\n",
      "f1-score 0.7219387755102041\n",
      "{'bootstrap': False, 'max_depth': 50, 'max_features': 'auto', 'min_samples_leaf': 1, 'min_samples_split': 4, 'n_estimators': 190}\n",
      "\n",
      "\n",
      "Iteration  1\n",
      "[[ 89  94]\n",
      " [ 47 162]]\n",
      "f1-score 0.6403061224489796\n",
      "{'bootstrap': False, 'max_depth': 50, 'max_features': 'log2', 'min_samples_leaf': 2, 'min_samples_split': 2, 'n_estimators': 100}\n",
      "\n",
      "\n",
      "Iteration  2\n",
      "[[107  76]\n",
      " [ 34 175]]\n",
      "f1-score 0.7193877551020408\n",
      "{'bootstrap': False, 'max_depth': 32, 'max_features': 'sqrt', 'min_samples_leaf': 1, 'min_samples_split': 6, 'n_estimators': 170}\n",
      "\n",
      "\n",
      "Iteration  3\n",
      "[[ 97  86]\n",
      " [ 31 178]]\n",
      "f1-score 0.701530612244898\n",
      "{'bootstrap': False, 'max_depth': 32, 'max_features': 'auto', 'min_samples_leaf': 1, 'min_samples_split': 2, 'n_estimators': 190}\n",
      "\n",
      "\n",
      "Iteration  4\n",
      "[[107  76]\n",
      " [ 37 172]]\n",
      "f1-score 0.7117346938775511\n",
      "{'bootstrap': False, 'max_depth': 50, 'max_features': 'log2', 'min_samples_leaf': 1, 'min_samples_split': 6, 'n_estimators': 170}\n",
      "\n",
      "\n",
      "Iteration  5\n",
      "[[103  80]\n",
      " [ 43 166]]\n",
      "f1-score 0.6862244897959183\n",
      "{'bootstrap': False, 'max_depth': 32, 'max_features': 'log2', 'min_samples_leaf': 1, 'min_samples_split': 6, 'n_estimators': 190}\n",
      "\n",
      "\n",
      "Iteration  6\n",
      "[[ 99  84]\n",
      " [ 45 164]]\n",
      "f1-score 0.6709183673469388\n",
      "{'bootstrap': False, 'max_depth': 32, 'max_features': 'sqrt', 'min_samples_leaf': 1, 'min_samples_split': 2, 'n_estimators': 160}\n",
      "\n",
      "\n",
      "Iteration  7\n",
      "[[ 97  85]\n",
      " [ 46 163]]\n",
      "f1-score 0.6649616368286445\n",
      "{'bootstrap': False, 'max_depth': 50, 'max_features': 'log2', 'min_samples_leaf': 2, 'min_samples_split': 2, 'n_estimators': 170}\n",
      "\n",
      "\n",
      "Iteration  8\n",
      "[[120  63]\n",
      " [ 46 162]]\n",
      "f1-score 0.7212276214833759\n",
      "{'bootstrap': False, 'max_depth': 50, 'max_features': 'log2', 'min_samples_leaf': 1, 'min_samples_split': 4, 'n_estimators': 190}\n",
      "\n",
      "\n",
      "Iteration  9\n",
      "[[103  80]\n",
      " [ 36 172]]\n",
      "f1-score 0.7033248081841432\n",
      "{'bootstrap': False, 'max_depth': 50, 'max_features': 'sqrt', 'min_samples_leaf': 2, 'min_samples_split': 2, 'n_estimators': 100}\n",
      "\n",
      "\n"
     ]
    }
   ],
   "source": [
    "skf = StratifiedKFold(n_splits=10, shuffle=True, random_state=42)\n",
    "final_cm=np.array([[0, 0],[0, 0]])\n",
    "\n",
    "\n",
    "for index, (train, test) in enumerate(skf.split(X_all, Y_all)):\n",
    "    print('Iteration ', index)\n",
    "    \n",
    "    # Creating folds and validation set for tuning\n",
    "    X_train = X_all[train]\n",
    "    y_train = Y_all[train]\n",
    "    X_test = X_all[test]\n",
    "    y_test = Y_all[test]\n",
    "    X_train, X_val, y_train, y_val = train_test_split(X_train, y_train, test_size=0.3, random_state=42)\n",
    "    \n",
    "    # Defining search space\n",
    "    param_grid = {\n",
    "                    'n_estimators': range(10,200,10),\n",
    "                    'max_depth': [2,8,16,32,50],\n",
    "                    'min_samples_split': [2,4,6],\n",
    "                    'min_samples_leaf': [1,2],\n",
    "                    'max_features': ['auto','sqrt','log2'],    \n",
    "                    'bootstrap': [True, False]\n",
    "    }\n",
    "    # Tuning on defined validation set of current iteration\n",
    "    gs = GridSearch(model = ExtraTreesClassifier(), param_grid = param_grid, parallelize=False)\n",
    "    gs.fit(X_train, y_train, X_val, y_val, scoring='f1')\n",
    "    \n",
    "    dump(gs.best_estimator_, './models/et_'+str(index)+'.joblib') \n",
    "    preds = gs.best_estimator_.predict(X_test)\n",
    "    final_cm += confusion_matrix(y_test, preds)\n",
    "    \n",
    "    for i,x in enumerate(test):\n",
    "        if x in samples_classifications:\n",
    "            samples_classifications[x]['ET']= preds[i]\n",
    "        else:\n",
    "            samples_classifications[x]= {'ET': preds[i]}\n",
    "    print(confusion_matrix(y_test, preds))\n",
    "    print('f1-score', gs.best_estimator_.score(X_test, y_test))\n",
    "    print(gs.best_params)\n",
    "    print('\\n')"
   ]
  },
  {
   "cell_type": "code",
   "execution_count": 16,
   "metadata": {},
   "outputs": [
    {
     "data": {
      "text/plain": [
       "array([[1031,  798],\n",
       "       [ 400, 1688]])"
      ]
     },
     "execution_count": 16,
     "metadata": {},
     "output_type": "execute_result"
    }
   ],
   "source": [
    "final_cm"
   ]
  },
  {
   "cell_type": "markdown",
   "metadata": {},
   "source": [
    "RF tuning and cross validation"
   ]
  },
  {
   "cell_type": "code",
   "execution_count": 21,
   "metadata": {
    "scrolled": true
   },
   "outputs": [
    {
     "name": "stdout",
     "output_type": "stream",
     "text": [
      "Iteration  0\n",
      "[[123  60]\n",
      " [ 38 171]]\n",
      "f1-score 0.75\n",
      "{'bootstrap': False, 'max_depth': 16, 'max_features': 'log2', 'min_samples_leaf': 2, 'min_samples_split': 6, 'n_estimators': 190}\n",
      "\n",
      "\n",
      "Iteration  1\n",
      "[[107  76]\n",
      " [ 55 154]]\n",
      "f1-score 0.6658163265306123\n",
      "{'bootstrap': False, 'max_depth': 50, 'max_features': 'auto', 'min_samples_leaf': 1, 'min_samples_split': 2, 'n_estimators': 180}\n",
      "\n",
      "\n",
      "Iteration  2\n",
      "[[114  69]\n",
      " [ 39 170]]\n",
      "f1-score 0.7244897959183674\n",
      "{'bootstrap': False, 'max_depth': 50, 'max_features': 'sqrt', 'min_samples_leaf': 2, 'min_samples_split': 6, 'n_estimators': 180}\n",
      "\n",
      "\n",
      "Iteration  3\n",
      "[[107  76]\n",
      " [ 34 175]]\n",
      "f1-score 0.7193877551020408\n",
      "{'bootstrap': False, 'max_depth': 16, 'max_features': 'sqrt', 'min_samples_leaf': 2, 'min_samples_split': 6, 'n_estimators': 160}\n",
      "\n",
      "\n",
      "Iteration  4\n",
      "[[119  64]\n",
      " [ 49 160]]\n",
      "f1-score 0.7117346938775511\n",
      "{'bootstrap': False, 'max_depth': 50, 'max_features': 'sqrt', 'min_samples_leaf': 1, 'min_samples_split': 2, 'n_estimators': 150}\n",
      "\n",
      "\n",
      "Iteration  5\n",
      "[[110  73]\n",
      " [ 44 165]]\n",
      "f1-score 0.701530612244898\n",
      "{'bootstrap': False, 'max_depth': 32, 'max_features': 'sqrt', 'min_samples_leaf': 1, 'min_samples_split': 2, 'n_estimators': 110}\n",
      "\n",
      "\n",
      "Iteration  6\n",
      "[[ 99  84]\n",
      " [ 54 155]]\n",
      "f1-score 0.6479591836734694\n",
      "{'bootstrap': False, 'max_depth': 32, 'max_features': 'sqrt', 'min_samples_leaf': 1, 'min_samples_split': 2, 'n_estimators': 80}\n",
      "\n",
      "\n",
      "Iteration  7\n",
      "[[116  66]\n",
      " [ 53 156]]\n",
      "f1-score 0.6956521739130435\n",
      "{'bootstrap': False, 'max_depth': 16, 'max_features': 'log2', 'min_samples_leaf': 2, 'min_samples_split': 6, 'n_estimators': 180}\n",
      "\n",
      "\n",
      "Iteration  8\n",
      "[[118  65]\n",
      " [ 51 157]]\n",
      "f1-score 0.7033248081841432\n",
      "{'bootstrap': False, 'max_depth': 50, 'max_features': 'log2', 'min_samples_leaf': 1, 'min_samples_split': 2, 'n_estimators': 160}\n",
      "\n",
      "\n",
      "Iteration  9\n",
      "[[115  68]\n",
      " [ 42 166]]\n",
      "f1-score 0.7186700767263428\n",
      "{'bootstrap': False, 'max_depth': 50, 'max_features': 'auto', 'min_samples_leaf': 2, 'min_samples_split': 4, 'n_estimators': 180}\n",
      "\n",
      "\n"
     ]
    }
   ],
   "source": [
    "skf = StratifiedKFold(n_splits=10, shuffle=True, random_state=42)\n",
    "final_cm=np.array([[0, 0],[0, 0]])\n",
    "\n",
    "\n",
    "for index, (train, test) in enumerate(skf.split(X_all, Y_all)):\n",
    "    print('Iteration ', index)\n",
    "    \n",
    "    # Creating folds and validation set for tuning\n",
    "    X_train = X_all[train]\n",
    "    y_train = Y_all[train]\n",
    "    X_test = X_all[test]\n",
    "    y_test = Y_all[test]\n",
    "    X_train, X_val, y_train, y_val = train_test_split(X_train, y_train, test_size=0.3, random_state=42)\n",
    "    \n",
    "    # Defining search space\n",
    "    param_grid = {\n",
    "                    'n_estimators': range(10,200,10),\n",
    "                    'max_depth': [2,8,16,32,50],\n",
    "                    'min_samples_split': [2,4,6],\n",
    "                    'min_samples_leaf': [1,2],\n",
    "                    'max_features': ['auto','sqrt','log2'],    \n",
    "                    'bootstrap': [True, False]\n",
    "    }\n",
    "    # Tuning on defined validation set of current iteration\n",
    "    gs = GridSearch(model = RandomForestClassifier(), param_grid = param_grid, parallelize=False)\n",
    "    gs.fit(X_train, y_train, X_val, y_val)\n",
    "    \n",
    "    dump(gs.best_estimator_, './models/rf_'+str(index)+'.joblib') \n",
    "    preds = gs.best_estimator_.predict(X_test)\n",
    "    final_cm += confusion_matrix(y_test, preds)\n",
    "    \n",
    "    for i,x in enumerate(test):\n",
    "        if x in samples_classifications:\n",
    "            samples_classifications[x]['RF']= preds[i]\n",
    "        else:\n",
    "            samples_classifications[x]= {'RF': preds[i]}\n",
    "    \n",
    "    print(confusion_matrix(y_test, preds))\n",
    "    print('f1-score', gs.best_estimator_.score(X_test, y_test))\n",
    "    print(gs.best_params)\n",
    "    print('\\n')"
   ]
  },
  {
   "cell_type": "code",
   "execution_count": 22,
   "metadata": {},
   "outputs": [
    {
     "data": {
      "text/plain": [
       "array([[1128,  701],\n",
       "       [ 459, 1629]])"
      ]
     },
     "execution_count": 22,
     "metadata": {},
     "output_type": "execute_result"
    }
   ],
   "source": [
    "final_cm"
   ]
  },
  {
   "cell_type": "markdown",
   "metadata": {},
   "source": [
    "SVM tuning and cross validation"
   ]
  },
  {
   "cell_type": "code",
   "execution_count": 31,
   "metadata": {
    "scrolled": true
   },
   "outputs": [
    {
     "name": "stdout",
     "output_type": "stream",
     "text": [
      "Iteration  0\n",
      "[[142  41]\n",
      " [ 44 165]]\n",
      "f1-score 0.7831632653061225\n",
      "{'C': 10, 'degree': 5, 'gamma': 'auto', 'kernel': 'poly'}\n",
      "\n",
      "\n",
      "Iteration  1\n",
      "[[128  55]\n",
      " [ 48 161]]\n",
      "f1-score 0.7372448979591837\n",
      "{'C': 10, 'degree': 5, 'gamma': 'scale', 'kernel': 'rbf'}\n",
      "\n",
      "\n",
      "Iteration  2\n",
      "[[125  58]\n",
      " [ 43 166]]\n",
      "f1-score 0.7423469387755102\n",
      "{'C': 10, 'degree': 7, 'gamma': 'auto', 'kernel': 'poly'}\n",
      "\n",
      "\n",
      "Iteration  3\n",
      "[[130  53]\n",
      " [ 52 157]]\n",
      "f1-score 0.7321428571428571\n",
      "{'C': 10, 'degree': 4, 'gamma': 'scale', 'kernel': 'poly'}\n",
      "\n",
      "\n",
      "Iteration  4\n",
      "[[143  40]\n",
      " [ 56 153]]\n",
      "f1-score 0.7551020408163265\n",
      "{'C': 10, 'degree': 5, 'gamma': 'auto', 'kernel': 'poly'}\n",
      "\n",
      "\n",
      "Iteration  5\n",
      "[[120  63]\n",
      " [ 52 157]]\n",
      "f1-score 0.7066326530612245\n",
      "{'C': 10, 'degree': 6, 'gamma': 'scale', 'kernel': 'poly'}\n",
      "\n",
      "\n",
      "Iteration  6\n",
      "[[119  64]\n",
      " [ 64 145]]\n",
      "f1-score 0.673469387755102\n",
      "{'C': 10, 'degree': 5, 'gamma': 'scale', 'kernel': 'poly'}\n",
      "\n",
      "\n",
      "Iteration  7\n",
      "[[127  55]\n",
      " [ 57 152]]\n",
      "f1-score 0.7135549872122762\n",
      "{'C': 10, 'degree': 8, 'gamma': 'auto', 'kernel': 'poly'}\n",
      "\n",
      "\n",
      "Iteration  8\n",
      "[[129  54]\n",
      " [ 52 156]]\n",
      "f1-score 0.7289002557544757\n",
      "{'C': 10, 'degree': 5, 'gamma': 'auto', 'kernel': 'poly'}\n",
      "\n",
      "\n",
      "Iteration  9\n",
      "[[122  61]\n",
      " [ 49 159]]\n",
      "f1-score 0.7186700767263428\n",
      "{'C': 10, 'degree': 6, 'gamma': 'scale', 'kernel': 'poly'}\n",
      "\n",
      "\n"
     ]
    }
   ],
   "source": [
    "skf = StratifiedKFold(n_splits=10, shuffle=True, random_state=42)\n",
    "final_cm=np.array([[0, 0],[0, 0]])\n",
    "\n",
    "\n",
    "for index, (train, test) in enumerate(skf.split(X_all, Y_all)):\n",
    "    print('Iteration ', index)\n",
    "    \n",
    "    # Creating folds and validation set for tuning\n",
    "    X_train = X_all[train]\n",
    "    y_train = Y_all[train]\n",
    "    X_test = X_all[test]\n",
    "    y_test = Y_all[test]\n",
    "    X_train, X_val, y_train, y_val = train_test_split(X_train, y_train, test_size=0.3, random_state=42)\n",
    "    \n",
    "    # Defining search space\n",
    "    param_grid = {\n",
    "                    'C': [0.1, 1, 10, 100, 1000],\n",
    "                    'kernel': ['poly', 'linear', 'rbf'],\n",
    "                    'degree': [1, 2, 3, 4, 5, 6, 7, 8, 9],\n",
    "                    'gamma': ['scale', 'auto']\n",
    "    }\n",
    "    # Tuning on defined validation set of current iteration\n",
    "    gs = GridSearch(model = SVC(), param_grid = param_grid, parallelize=False)\n",
    "    gs.fit(X_train, y_train, X_val, y_val)\n",
    "    \n",
    "    dump(gs.best_estimator_, './models/svc_'+str(index)+'.joblib') \n",
    "    preds = gs.best_estimator_.predict(X_test)\n",
    "    final_cm += confusion_matrix(y_test, preds)\n",
    "    \n",
    "    for i,x in enumerate(test):\n",
    "        if x in samples_classifications:\n",
    "            samples_classifications[x]['SVC']= preds[i]\n",
    "        else:\n",
    "            samples_classifications[x]= {'SVC': preds[i]}\n",
    "    \n",
    "    print(confusion_matrix(y_test, preds))\n",
    "    print('f1-score', gs.best_estimator_.score(X_test, y_test))\n",
    "    print(gs.best_params)\n",
    "    print('\\n')"
   ]
  },
  {
   "cell_type": "code",
   "execution_count": 32,
   "metadata": {},
   "outputs": [
    {
     "data": {
      "text/plain": [
       "array([[1285,  544],\n",
       "       [ 517, 1571]])"
      ]
     },
     "execution_count": 32,
     "metadata": {},
     "output_type": "execute_result"
    }
   ],
   "source": [
    "final_cm"
   ]
  },
  {
   "cell_type": "markdown",
   "metadata": {},
   "source": [
    "Lightgbm tuning and cross validation"
   ]
  },
  {
   "cell_type": "code",
   "execution_count": 37,
   "metadata": {
    "scrolled": true
   },
   "outputs": [
    {
     "name": "stdout",
     "output_type": "stream",
     "text": [
      "Iteration  0\n",
      "[[134  49]\n",
      " [ 51 158]]\n",
      "f1-score 0.7448979591836735\n",
      "{'learning_rate': 0.3, 'max_depth': 50, 'min_child_samples': 2, 'n_estimators': 160}\n",
      "\n",
      "\n",
      "Iteration  1\n",
      "[[117  66]\n",
      " [ 63 146]]\n",
      "f1-score 0.6709183673469388\n",
      "{'learning_rate': 0.3, 'max_depth': 16, 'min_child_samples': 2, 'n_estimators': 140}\n",
      "\n",
      "\n",
      "Iteration  2\n",
      "[[123  60]\n",
      " [ 58 151]]\n",
      "f1-score 0.6989795918367347\n",
      "{'learning_rate': 0.3, 'max_depth': 32, 'min_child_samples': 1, 'n_estimators': 90}\n",
      "\n",
      "\n",
      "Iteration  3\n",
      "[[117  66]\n",
      " [ 55 154]]\n",
      "f1-score 0.6913265306122449\n",
      "{'learning_rate': 0.3, 'max_depth': 16, 'min_child_samples': 1, 'n_estimators': 190}\n",
      "\n",
      "\n",
      "Iteration  4\n",
      "[[124  59]\n",
      " [ 65 144]]\n",
      "f1-score 0.6836734693877551\n",
      "{'learning_rate': 0.2, 'max_depth': 50, 'min_child_samples': 1, 'n_estimators': 180}\n",
      "\n",
      "\n",
      "Iteration  5\n",
      "[[119  64]\n",
      " [ 56 153]]\n",
      "f1-score 0.6938775510204082\n",
      "{'learning_rate': 0.3, 'max_depth': 8, 'min_child_samples': 2, 'n_estimators': 190}\n",
      "\n",
      "\n",
      "Iteration  6\n",
      "[[ 97  86]\n",
      " [ 51 158]]\n",
      "f1-score 0.6505102040816326\n",
      "{'learning_rate': 0.2, 'max_depth': 8, 'min_child_samples': 2, 'n_estimators': 190}\n",
      "\n",
      "\n",
      "Iteration  7\n",
      "[[118  64]\n",
      " [ 64 145]]\n",
      "f1-score 0.6726342710997443\n",
      "{'learning_rate': 0.2, 'max_depth': 50, 'min_child_samples': 1, 'n_estimators': 170}\n",
      "\n",
      "\n",
      "Iteration  8\n",
      "[[117  66]\n",
      " [ 60 148]]\n",
      "f1-score 0.6777493606138107\n",
      "{'learning_rate': 0.3, 'max_depth': 32, 'min_child_samples': 1, 'n_estimators': 190}\n",
      "\n",
      "\n",
      "Iteration  9\n",
      "[[119  64]\n",
      " [ 59 149]]\n",
      "f1-score 0.6854219948849105\n",
      "{'learning_rate': 0.3, 'max_depth': 16, 'min_child_samples': 1, 'n_estimators': 190}\n",
      "\n",
      "\n"
     ]
    }
   ],
   "source": [
    "skf = StratifiedKFold(n_splits=10, shuffle=True, random_state=42)\n",
    "final_cm=np.array([[0, 0],[0, 0]])\n",
    "\n",
    "\n",
    "for index, (train, test) in enumerate(skf.split(X_all, Y_all)):\n",
    "    print('Iteration ', index)\n",
    "    \n",
    "    # Creating folds and validation set for tuning\n",
    "    X_train = X_all[train]\n",
    "    y_train = Y_all[train]\n",
    "    X_test = X_all[test]\n",
    "    y_test = Y_all[test]\n",
    "    X_train, X_val, y_train, y_val = train_test_split(X_train, y_train, test_size=0.3, random_state=42)\n",
    "    \n",
    "    # Defining search space\n",
    "    param_grid = {\n",
    "                    'n_estimators': range(10,200,10),\n",
    "                    'max_depth': [2,8,16,32,50],\n",
    "                    'min_child_samples': [1,2],\n",
    "                    'learning_rate': [0.01, 0.1, 0.2, 0.3]\n",
    "    }\n",
    "    # Tuning on defined validation set of current iteration\n",
    "    gs = GridSearch(model = LGBMClassifier(), param_grid = param_grid, parallelize=False)\n",
    "    gs.fit(X_train, y_train, X_val, y_val)\n",
    "    \n",
    "    dump(gs.best_estimator_, './models/lgbm_'+str(index)+'.joblib') \n",
    "    preds = gs.best_estimator_.predict(X_test)\n",
    "    final_cm += confusion_matrix(y_test, preds)\n",
    "    \n",
    "    for i,x in enumerate(test):\n",
    "        if x in samples_classifications:\n",
    "            samples_classifications[x]['LGBM']= preds[i]\n",
    "        else:\n",
    "            samples_classifications[x]= {'LGBM': preds[i]}\n",
    "    \n",
    "    print(confusion_matrix(y_test, preds))\n",
    "    print('f1-score', gs.best_estimator_.score(X_test, y_test))\n",
    "    print(gs.best_params)\n",
    "    print('\\n')"
   ]
  },
  {
   "cell_type": "code",
   "execution_count": 38,
   "metadata": {},
   "outputs": [
    {
     "data": {
      "text/plain": [
       "array([[1185,  644],\n",
       "       [ 582, 1506]])"
      ]
     },
     "execution_count": 38,
     "metadata": {},
     "output_type": "execute_result"
    }
   ],
   "source": [
    "final_cm"
   ]
  },
  {
   "cell_type": "markdown",
   "metadata": {},
   "source": [
    "ANN crossvalidation with tuning"
   ]
  },
  {
   "cell_type": "code",
   "execution_count": 50,
   "metadata": {},
   "outputs": [],
   "source": [
    "def f1score(y_true, y_pred):\n",
    "    def recall(y_true, y_pred):\n",
    "        true_positives = K.sum(K.round(K.clip(y_true * y_pred, 0, 1)))\n",
    "        possible_positives = K.sum(K.round(K.clip(y_true, 0, 1)))\n",
    "        recall = true_positives / (possible_positives + K.epsilon())\n",
    "        return recall\n",
    "\n",
    "    def precision(y_true, y_pred):\n",
    "        true_positives = K.sum(K.round(K.clip(y_true * y_pred, 0, 1)))\n",
    "        predicted_positives = K.sum(K.round(K.clip(y_pred, 0, 1)))\n",
    "        precision = true_positives / (predicted_positives + K.epsilon())\n",
    "        return precision\n",
    "\n",
    "    precision = precision(y_true, y_pred)\n",
    "    recall = recall(y_true, y_pred)\n",
    "    return 2*((precision*recall)/(precision+recall+K.epsilon()))"
   ]
  },
  {
   "cell_type": "code",
   "execution_count": 30,
   "metadata": {
    "scrolled": false
   },
   "outputs": [
    {
     "name": "stdout",
     "output_type": "stream",
     "text": [
      "Trial 200 Complete [00h 00m 07s]\n",
      "val_f1_score: 0.7275139093399048\n",
      "\n",
      "Best val_f1_score So Far: 0.7688758969306946\n",
      "Total elapsed time: 00h 37m 22s\n",
      "INFO:tensorflow:Oracle triggered exit\n",
      "\n",
      "\n"
     ]
    }
   ],
   "source": [
    "from contextlib import redirect_stdout\n",
    "\n",
    "class Tuner(kt.BayesianOptimization):\n",
    "    def run_trial(self, trial, *args, **kwargs):\n",
    "        kwargs['batch_size'] = trial.hyperparameters.Int('batch_size', min_value = 8, max_value = 512, step = 8, default = 128)\n",
    "        super().run_trial(trial, *args, **kwargs)\n",
    "\n",
    "def create_hypermodel(hp):\n",
    "    input = x = Input(shape = (47))\n",
    "\n",
    "    for i in range(hp.Int('num_layers', min_value = 1, max_value = 5, step=2)):\n",
    "        x = Dense(\n",
    "            units = hp.Int('units_' + str(i), min_value = 32, max_value = 128, default = 120), activation = 'relu')(x)\n",
    "        x = Dropout(\n",
    "            rate = hp.Float('drop_rate_' + str(i), min_value = 0.0, max_value = 0.9, step = 0.1, default = 0.0)\n",
    "        )(x)\n",
    "\n",
    "    output = Dense( 1, 'sigmoid')(x)\n",
    "    model = tf.keras.Model(input, output)\n",
    "\n",
    "    lr = hp.Float('lr', min_value = 1e-5, max_value = 1e-1, default = 1e-3)\n",
    "    decay = hp.Float('decay', min_value = 1e-6, max_value = 1e-2, default = 1e-3)\n",
    "    model.compile(\n",
    "        optimizer = tf.keras.optimizers.Adam(lr, decay = decay),\n",
    "        loss = tf.keras.losses.BinaryCrossentropy(),\n",
    "        metrics = [f1_score] #f1 score\n",
    "    )\n",
    "    return model\n",
    "\n",
    "\n",
    "OBJECTIVE = kt.Objective('val_f1_score', direction = 'max')\n",
    "MAX_TRIALS = 200\n",
    "EXECUTIONS_PER_TRIAL = 1\n",
    "\n",
    "callbacks = [\n",
    "               tf.keras.callbacks.EarlyStopping(\n",
    "                   monitor = 'val_f1_score',\n",
    "                   min_delta = 0.00001,\n",
    "                   patience = 5,\n",
    "                   mode = 'max',\n",
    "                   restore_best_weights = True\n",
    "               )\n",
    "  ]\n",
    "\n",
    "hp = kt.HyperParameters()\n",
    "\n",
    "\n",
    "skf = StratifiedKFold(n_splits=10, shuffle=True, random_state=42)\n",
    "final_cm = np.array([[0, 0],[0, 0]])\n",
    "\n",
    "for index, (train, test) in enumerate(skf.split(X_all, Y_all)):\n",
    "    print('Iteration ', index)\n",
    "    \n",
    "    # Creating folds and validation set for tuning\n",
    "    X_train = X_all[train]\n",
    "    y_train = Y_all[train]\n",
    "    X_test = X_all[test]\n",
    "    y_test = Y_all[test]\n",
    "    X_train, X_val, y_train, y_val = train_test_split(X_train, y_train, test_size=0.3, random_state=42)\n",
    "    \n",
    "    tuner = Tuner(\n",
    "        create_hypermodel,\n",
    "        objective = OBJECTIVE,\n",
    "        hyperparameters = hp,\n",
    "        tune_new_entries = True,\n",
    "        max_trials = MAX_TRIALS,\n",
    "        project_name='dnn2_'+str(index),\n",
    "        executions_per_trial = EXECUTIONS_PER_TRIAL,\n",
    "        seed = 42\n",
    "    )\n",
    "    \n",
    "    tuner.search(\n",
    "        X_train,\n",
    "        y_train,\n",
    "        epochs = 200,\n",
    "        validation_data=(X_val, y_val),\n",
    "        callbacks = callbacks,\n",
    "        verbose = 1\n",
    "    )\n",
    "    best_model = tuner.get_best_models()[0]\n",
    "    best_model.save('./models/dnn_'+str(index)+'.h5')\n",
    "    preds = best_model.predict(X_test)\n",
    "    y_pred = [ 1 if x>0.5 else 0 for x in preds]\n",
    "    final_cm += confusion_matrix(y_test, y_pred)\n",
    "    \n",
    "    for i,x in enumerate(test):\n",
    "        if x in samples_classifications:\n",
    "            samples_classifications[x]['ANN']= y_pred[i]\n",
    "        else:\n",
    "            samples_classifications[x]= {'ANN': y_pred[i]}\n",
    "    \n",
    "    with open('tuning.txt', 'a') as f:\n",
    "        f.write(str(confusion_matrix(y_test, y_pred)))\n",
    "        with redirect_stdout(f):\n",
    "            tuner.results_summary()\n",
    "    print('\\n')"
   ]
  },
  {
   "cell_type": "code",
   "execution_count": 31,
   "metadata": {},
   "outputs": [
    {
     "data": {
      "text/plain": [
       "array([[1029,  800],\n",
       "       [ 484, 1604]])"
      ]
     },
     "execution_count": 31,
     "metadata": {},
     "output_type": "execute_result"
    }
   ],
   "source": [
    "final_cm"
   ]
  },
  {
   "cell_type": "code",
   "execution_count": 32,
   "metadata": {},
   "outputs": [],
   "source": [
    "with open('samples_classifications.pickle', 'wb') as handle:\n",
    "    pickle.dump(samples_classifications, handle, protocol=pickle.HIGHEST_PROTOCOL)"
   ]
  },
  {
   "cell_type": "markdown",
   "metadata": {},
   "source": [
    "<h3>Ensembling best classifiers</h3> (Subject independent)"
   ]
  },
  {
   "cell_type": "code",
   "execution_count": 20,
   "metadata": {},
   "outputs": [],
   "source": [
    "dataset_covid_healthy = pd.read_pickle(\"dataset_covid_healthy.pkl\")\n",
    "_ = dataset_covid_healthy.pop('uuid')\n",
    "Y = dataset_covid_healthy.pop('status')"
   ]
  },
  {
   "cell_type": "code",
   "execution_count": null,
   "metadata": {},
   "outputs": [],
   "source": [
    "\n",
    "dataset_covid_healthy = StandardScaler().fit_transform(dataset_covid_healthy)"
   ]
  },
  {
   "cell_type": "markdown",
   "metadata": {},
   "source": [
    "K-fold crossvalidation with best fold models"
   ]
  },
  {
   "cell_type": "code",
   "execution_count": 51,
   "metadata": {},
   "outputs": [],
   "source": [
    "def build_nn():\n",
    "    model = load_model('./models/dnn_4.h5', custom_objects={\"f1_score\" : f1score})\n",
    "    model.compile(\n",
    "        optimizer='Adam',\n",
    "        loss='binary_crossentropy',\n",
    "        metrics=[f1score]\n",
    "    )\n",
    "    return model"
   ]
  },
  {
   "cell_type": "code",
   "execution_count": 52,
   "metadata": {},
   "outputs": [
    {
     "name": "stderr",
     "output_type": "stream",
     "text": [
      "<ipython-input-52-ba74d13a0907>:48: DeprecationWarning: KerasClassifier is deprecated, use Sci-Keras (https://github.com/adriangb/scikeras) instead.\n",
      "  ANN_best = keras.wrappers.scikit_learn.KerasClassifier(build_nn, epochs= 200, verbose=False)\n"
     ]
    },
    {
     "name": "stdout",
     "output_type": "stream",
     "text": [
      "[Voting] ...................... (1 of 4) Processing KNN, total=   0.0s\n",
      "[Voting] ...................... (2 of 4) Processing SVC, total=   3.8s\n",
      "[Voting] ..................... (3 of 4) Processing LGBM, total=   0.3s\n",
      "WARNING:tensorflow:Error in loading the saved optimizer state. As a result, your model is starting with a freshly initialized optimizer.\n",
      "[Voting] ...................... (4 of 4) Processing ANN, total=  19.4s\n",
      "[[72 55]\n",
      " [40 70]]\n",
      "accuracy 0.5991561181434599\n",
      "f1_score 0.5957446808510639\n",
      "zero one loss 0.4008438818565401\n"
     ]
    },
    {
     "name": "stderr",
     "output_type": "stream",
     "text": [
      "<ipython-input-52-ba74d13a0907>:48: DeprecationWarning: KerasClassifier is deprecated, use Sci-Keras (https://github.com/adriangb/scikeras) instead.\n",
      "  ANN_best = keras.wrappers.scikit_learn.KerasClassifier(build_nn, epochs= 200, verbose=False)\n"
     ]
    },
    {
     "name": "stdout",
     "output_type": "stream",
     "text": [
      "[Voting] ...................... (1 of 4) Processing KNN, total=   0.0s\n",
      "[Voting] ...................... (2 of 4) Processing SVC, total=   4.0s\n",
      "[Voting] ..................... (3 of 4) Processing LGBM, total=   0.3s\n",
      "WARNING:tensorflow:Error in loading the saved optimizer state. As a result, your model is starting with a freshly initialized optimizer.\n",
      "[Voting] ...................... (4 of 4) Processing ANN, total=  18.4s\n",
      "[[61 38]\n",
      " [46 65]]\n",
      "accuracy 0.6\n",
      "f1_score 0.6074766355140188\n",
      "zero one loss 0.4\n"
     ]
    },
    {
     "name": "stderr",
     "output_type": "stream",
     "text": [
      "<ipython-input-52-ba74d13a0907>:48: DeprecationWarning: KerasClassifier is deprecated, use Sci-Keras (https://github.com/adriangb/scikeras) instead.\n",
      "  ANN_best = keras.wrappers.scikit_learn.KerasClassifier(build_nn, epochs= 200, verbose=False)\n"
     ]
    },
    {
     "name": "stdout",
     "output_type": "stream",
     "text": [
      "[Voting] ...................... (1 of 4) Processing KNN, total=   0.0s\n",
      "[Voting] ...................... (2 of 4) Processing SVC, total=   3.8s\n",
      "[Voting] ..................... (3 of 4) Processing LGBM, total=   0.2s\n",
      "WARNING:tensorflow:Error in loading the saved optimizer state. As a result, your model is starting with a freshly initialized optimizer.\n",
      "[Voting] ...................... (4 of 4) Processing ANN, total=  19.7s\n",
      "[[60 27]\n",
      " [48 56]]\n",
      "accuracy 0.6073298429319371\n",
      "f1_score 0.5989304812834224\n",
      "zero one loss 0.39267015706806285\n"
     ]
    },
    {
     "name": "stderr",
     "output_type": "stream",
     "text": [
      "<ipython-input-52-ba74d13a0907>:48: DeprecationWarning: KerasClassifier is deprecated, use Sci-Keras (https://github.com/adriangb/scikeras) instead.\n",
      "  ANN_best = keras.wrappers.scikit_learn.KerasClassifier(build_nn, epochs= 200, verbose=False)\n"
     ]
    },
    {
     "name": "stdout",
     "output_type": "stream",
     "text": [
      "[Voting] ...................... (1 of 4) Processing KNN, total=   0.0s\n",
      "[Voting] ...................... (2 of 4) Processing SVC, total=   3.9s\n",
      "[Voting] ..................... (3 of 4) Processing LGBM, total=   0.3s\n",
      "WARNING:tensorflow:Error in loading the saved optimizer state. As a result, your model is starting with a freshly initialized optimizer.\n",
      "[Voting] ...................... (4 of 4) Processing ANN, total=  18.7s\n",
      "[[69 31]\n",
      " [30 64]]\n",
      "accuracy 0.6855670103092784\n",
      "f1_score 0.6772486772486772\n",
      "zero one loss 0.31443298969072164\n"
     ]
    },
    {
     "name": "stderr",
     "output_type": "stream",
     "text": [
      "<ipython-input-52-ba74d13a0907>:48: DeprecationWarning: KerasClassifier is deprecated, use Sci-Keras (https://github.com/adriangb/scikeras) instead.\n",
      "  ANN_best = keras.wrappers.scikit_learn.KerasClassifier(build_nn, epochs= 200, verbose=False)\n"
     ]
    },
    {
     "name": "stdout",
     "output_type": "stream",
     "text": [
      "[Voting] ...................... (1 of 4) Processing KNN, total=   0.0s\n",
      "[Voting] ...................... (2 of 4) Processing SVC, total=   3.9s\n",
      "[Voting] ..................... (3 of 4) Processing LGBM, total=   0.2s\n",
      "WARNING:tensorflow:Error in loading the saved optimizer state. As a result, your model is starting with a freshly initialized optimizer.\n",
      "[Voting] ...................... (4 of 4) Processing ANN, total=  18.7s\n",
      "[[62 48]\n",
      " [42 77]]\n",
      "accuracy 0.6069868995633187\n",
      "f1_score 0.6311475409836066\n",
      "zero one loss 0.39301310043668125\n"
     ]
    },
    {
     "name": "stderr",
     "output_type": "stream",
     "text": [
      "<ipython-input-52-ba74d13a0907>:48: DeprecationWarning: KerasClassifier is deprecated, use Sci-Keras (https://github.com/adriangb/scikeras) instead.\n",
      "  ANN_best = keras.wrappers.scikit_learn.KerasClassifier(build_nn, epochs= 200, verbose=False)\n"
     ]
    },
    {
     "name": "stdout",
     "output_type": "stream",
     "text": [
      "[Voting] ...................... (1 of 4) Processing KNN, total=   0.0s\n",
      "[Voting] ...................... (2 of 4) Processing SVC, total=   4.1s\n",
      "[Voting] ..................... (3 of 4) Processing LGBM, total=   0.3s\n",
      "WARNING:tensorflow:Error in loading the saved optimizer state. As a result, your model is starting with a freshly initialized optimizer.\n",
      "[Voting] ...................... (4 of 4) Processing ANN, total=  18.9s\n",
      "[[41 28]\n",
      " [36 52]]\n",
      "accuracy 0.5923566878980892\n",
      "f1_score 0.6190476190476191\n",
      "zero one loss 0.40764331210191085\n"
     ]
    },
    {
     "name": "stderr",
     "output_type": "stream",
     "text": [
      "<ipython-input-52-ba74d13a0907>:48: DeprecationWarning: KerasClassifier is deprecated, use Sci-Keras (https://github.com/adriangb/scikeras) instead.\n",
      "  ANN_best = keras.wrappers.scikit_learn.KerasClassifier(build_nn, epochs= 200, verbose=False)\n"
     ]
    },
    {
     "name": "stdout",
     "output_type": "stream",
     "text": [
      "[Voting] ...................... (1 of 4) Processing KNN, total=   0.0s\n",
      "[Voting] ...................... (2 of 4) Processing SVC, total=   4.2s\n",
      "[Voting] ..................... (3 of 4) Processing LGBM, total=   0.3s\n",
      "WARNING:tensorflow:Error in loading the saved optimizer state. As a result, your model is starting with a freshly initialized optimizer.\n",
      "[Voting] ...................... (4 of 4) Processing ANN, total=  18.5s\n",
      "[[52 33]\n",
      " [36 72]]\n",
      "accuracy 0.6424870466321243\n",
      "f1_score 0.676056338028169\n",
      "zero one loss 0.3575129533678757\n"
     ]
    },
    {
     "name": "stderr",
     "output_type": "stream",
     "text": [
      "<ipython-input-52-ba74d13a0907>:48: DeprecationWarning: KerasClassifier is deprecated, use Sci-Keras (https://github.com/adriangb/scikeras) instead.\n",
      "  ANN_best = keras.wrappers.scikit_learn.KerasClassifier(build_nn, epochs= 200, verbose=False)\n"
     ]
    },
    {
     "name": "stdout",
     "output_type": "stream",
     "text": [
      "[Voting] ...................... (1 of 4) Processing KNN, total=   0.0s\n",
      "[Voting] ...................... (2 of 4) Processing SVC, total=   4.0s\n",
      "[Voting] ..................... (3 of 4) Processing LGBM, total=   0.3s\n",
      "WARNING:tensorflow:Error in loading the saved optimizer state. As a result, your model is starting with a freshly initialized optimizer.\n",
      "[Voting] ...................... (4 of 4) Processing ANN, total=  19.4s\n",
      "[[43 50]\n",
      " [24 70]]\n",
      "accuracy 0.6042780748663101\n",
      "f1_score 0.6542056074766355\n",
      "zero one loss 0.39572192513368987\n"
     ]
    },
    {
     "name": "stderr",
     "output_type": "stream",
     "text": [
      "<ipython-input-52-ba74d13a0907>:48: DeprecationWarning: KerasClassifier is deprecated, use Sci-Keras (https://github.com/adriangb/scikeras) instead.\n",
      "  ANN_best = keras.wrappers.scikit_learn.KerasClassifier(build_nn, epochs= 200, verbose=False)\n"
     ]
    },
    {
     "name": "stdout",
     "output_type": "stream",
     "text": [
      "[Voting] ...................... (1 of 4) Processing KNN, total=   0.0s\n",
      "[Voting] ...................... (2 of 4) Processing SVC, total=   3.7s\n",
      "[Voting] ..................... (3 of 4) Processing LGBM, total=   0.2s\n",
      "WARNING:tensorflow:Error in loading the saved optimizer state. As a result, your model is starting with a freshly initialized optimizer.\n",
      "[Voting] ...................... (4 of 4) Processing ANN, total=  18.3s\n",
      "[[82 58]\n",
      " [36 80]]\n",
      "accuracy 0.6328125\n",
      "f1_score 0.6299212598425198\n",
      "zero one loss 0.3671875\n"
     ]
    },
    {
     "name": "stderr",
     "output_type": "stream",
     "text": [
      "<ipython-input-52-ba74d13a0907>:48: DeprecationWarning: KerasClassifier is deprecated, use Sci-Keras (https://github.com/adriangb/scikeras) instead.\n",
      "  ANN_best = keras.wrappers.scikit_learn.KerasClassifier(build_nn, epochs= 200, verbose=False)\n"
     ]
    },
    {
     "name": "stdout",
     "output_type": "stream",
     "text": [
      "[Voting] ...................... (1 of 4) Processing KNN, total=   0.0s\n",
      "[Voting] ...................... (2 of 4) Processing SVC, total=   3.7s\n",
      "[Voting] ..................... (3 of 4) Processing LGBM, total=   0.3s\n",
      "WARNING:tensorflow:Error in loading the saved optimizer state. As a result, your model is starting with a freshly initialized optimizer.\n",
      "[Voting] ...................... (4 of 4) Processing ANN, total=  19.2s\n",
      "[[53 38]\n",
      " [42 79]]\n",
      "accuracy 0.6226415094339622\n",
      "f1_score 0.6638655462184875\n",
      "zero one loss 0.37735849056603776\n"
     ]
    },
    {
     "name": "stderr",
     "output_type": "stream",
     "text": [
      "<ipython-input-52-ba74d13a0907>:48: DeprecationWarning: KerasClassifier is deprecated, use Sci-Keras (https://github.com/adriangb/scikeras) instead.\n",
      "  ANN_best = keras.wrappers.scikit_learn.KerasClassifier(build_nn, epochs= 200, verbose=False)\n"
     ]
    },
    {
     "name": "stdout",
     "output_type": "stream",
     "text": [
      "[Voting] ...................... (1 of 4) Processing KNN, total=   0.0s\n",
      "[Voting] ...................... (2 of 4) Processing SVC, total=   4.1s\n",
      "[Voting] ..................... (3 of 4) Processing LGBM, total=   0.2s\n",
      "WARNING:tensorflow:Error in loading the saved optimizer state. As a result, your model is starting with a freshly initialized optimizer.\n",
      "[Voting] ...................... (4 of 4) Processing ANN, total=  18.5s\n",
      "[[57 28]\n",
      " [35 62]]\n",
      "accuracy 0.6538461538461539\n",
      "f1_score 0.6631016042780747\n",
      "zero one loss 0.34615384615384615\n"
     ]
    },
    {
     "name": "stderr",
     "output_type": "stream",
     "text": [
      "<ipython-input-52-ba74d13a0907>:48: DeprecationWarning: KerasClassifier is deprecated, use Sci-Keras (https://github.com/adriangb/scikeras) instead.\n",
      "  ANN_best = keras.wrappers.scikit_learn.KerasClassifier(build_nn, epochs= 200, verbose=False)\n"
     ]
    },
    {
     "name": "stdout",
     "output_type": "stream",
     "text": [
      "[Voting] ...................... (1 of 4) Processing KNN, total=   0.0s\n",
      "[Voting] ...................... (2 of 4) Processing SVC, total=   3.7s\n",
      "[Voting] ..................... (3 of 4) Processing LGBM, total=   0.4s\n",
      "WARNING:tensorflow:Error in loading the saved optimizer state. As a result, your model is starting with a freshly initialized optimizer.\n",
      "[Voting] ...................... (4 of 4) Processing ANN, total=  18.8s\n",
      "[[39 34]\n",
      " [37 52]]\n",
      "accuracy 0.5617283950617284\n",
      "f1_score 0.5942857142857143\n",
      "zero one loss 0.43827160493827155\n"
     ]
    },
    {
     "name": "stderr",
     "output_type": "stream",
     "text": [
      "<ipython-input-52-ba74d13a0907>:48: DeprecationWarning: KerasClassifier is deprecated, use Sci-Keras (https://github.com/adriangb/scikeras) instead.\n",
      "  ANN_best = keras.wrappers.scikit_learn.KerasClassifier(build_nn, epochs= 200, verbose=False)\n"
     ]
    },
    {
     "name": "stdout",
     "output_type": "stream",
     "text": [
      "[Voting] ...................... (1 of 4) Processing KNN, total=   0.0s\n",
      "[Voting] ...................... (2 of 4) Processing SVC, total=   3.7s\n",
      "[Voting] ..................... (3 of 4) Processing LGBM, total=   0.2s\n",
      "WARNING:tensorflow:Error in loading the saved optimizer state. As a result, your model is starting with a freshly initialized optimizer.\n",
      "[Voting] ...................... (4 of 4) Processing ANN, total=  18.4s\n",
      "[[59 46]\n",
      " [33 80]]\n",
      "accuracy 0.6376146788990825\n",
      "f1_score 0.6694560669456067\n",
      "zero one loss 0.3623853211009175\n"
     ]
    },
    {
     "name": "stderr",
     "output_type": "stream",
     "text": [
      "<ipython-input-52-ba74d13a0907>:48: DeprecationWarning: KerasClassifier is deprecated, use Sci-Keras (https://github.com/adriangb/scikeras) instead.\n",
      "  ANN_best = keras.wrappers.scikit_learn.KerasClassifier(build_nn, epochs= 200, verbose=False)\n"
     ]
    },
    {
     "name": "stdout",
     "output_type": "stream",
     "text": [
      "[Voting] ...................... (1 of 4) Processing KNN, total=   0.0s\n",
      "[Voting] ...................... (2 of 4) Processing SVC, total=   3.7s\n",
      "[Voting] ..................... (3 of 4) Processing LGBM, total=   0.4s\n",
      "WARNING:tensorflow:Error in loading the saved optimizer state. As a result, your model is starting with a freshly initialized optimizer.\n",
      "[Voting] ...................... (4 of 4) Processing ANN, total=  18.7s\n",
      "[[46 25]\n",
      " [40 89]]\n",
      "accuracy 0.675\n",
      "f1_score 0.7325102880658437\n",
      "zero one loss 0.32499999999999996\n"
     ]
    },
    {
     "name": "stderr",
     "output_type": "stream",
     "text": [
      "<ipython-input-52-ba74d13a0907>:48: DeprecationWarning: KerasClassifier is deprecated, use Sci-Keras (https://github.com/adriangb/scikeras) instead.\n",
      "  ANN_best = keras.wrappers.scikit_learn.KerasClassifier(build_nn, epochs= 200, verbose=False)\n"
     ]
    },
    {
     "name": "stdout",
     "output_type": "stream",
     "text": [
      "[Voting] ...................... (1 of 4) Processing KNN, total=   0.0s\n",
      "[Voting] ...................... (2 of 4) Processing SVC, total=   3.8s\n",
      "[Voting] ..................... (3 of 4) Processing LGBM, total=   0.2s\n",
      "WARNING:tensorflow:Error in loading the saved optimizer state. As a result, your model is starting with a freshly initialized optimizer.\n",
      "[Voting] ...................... (4 of 4) Processing ANN, total=  18.7s\n",
      "[[43 38]\n",
      " [38 72]]\n",
      "accuracy 0.6020942408376964\n",
      "f1_score 0.6545454545454545\n",
      "zero one loss 0.39790575916230364\n"
     ]
    },
    {
     "name": "stderr",
     "output_type": "stream",
     "text": [
      "<ipython-input-52-ba74d13a0907>:48: DeprecationWarning: KerasClassifier is deprecated, use Sci-Keras (https://github.com/adriangb/scikeras) instead.\n",
      "  ANN_best = keras.wrappers.scikit_learn.KerasClassifier(build_nn, epochs= 200, verbose=False)\n"
     ]
    },
    {
     "name": "stdout",
     "output_type": "stream",
     "text": [
      "[Voting] ...................... (1 of 4) Processing KNN, total=   0.0s\n",
      "[Voting] ...................... (2 of 4) Processing SVC, total=   3.9s\n",
      "[Voting] ..................... (3 of 4) Processing LGBM, total=   0.3s\n",
      "WARNING:tensorflow:Error in loading the saved optimizer state. As a result, your model is starting with a freshly initialized optimizer.\n",
      "[Voting] ...................... (4 of 4) Processing ANN, total=  18.7s\n",
      "[[49 27]\n",
      " [45 67]]\n",
      "accuracy 0.6170212765957447\n",
      "f1_score 0.6504854368932039\n",
      "zero one loss 0.3829787234042553\n"
     ]
    },
    {
     "name": "stderr",
     "output_type": "stream",
     "text": [
      "<ipython-input-52-ba74d13a0907>:48: DeprecationWarning: KerasClassifier is deprecated, use Sci-Keras (https://github.com/adriangb/scikeras) instead.\n",
      "  ANN_best = keras.wrappers.scikit_learn.KerasClassifier(build_nn, epochs= 200, verbose=False)\n"
     ]
    },
    {
     "name": "stdout",
     "output_type": "stream",
     "text": [
      "[Voting] ...................... (1 of 4) Processing KNN, total=   0.0s\n",
      "[Voting] ...................... (2 of 4) Processing SVC, total=   3.9s\n",
      "[Voting] ..................... (3 of 4) Processing LGBM, total=   0.2s\n",
      "WARNING:tensorflow:Error in loading the saved optimizer state. As a result, your model is starting with a freshly initialized optimizer.\n",
      "[Voting] ...................... (4 of 4) Processing ANN, total=  18.7s\n",
      "[[47 41]\n",
      " [32 57]]\n",
      "accuracy 0.5875706214689266\n",
      "f1_score 0.6096256684491977\n",
      "zero one loss 0.4124293785310734\n"
     ]
    },
    {
     "name": "stderr",
     "output_type": "stream",
     "text": [
      "<ipython-input-52-ba74d13a0907>:48: DeprecationWarning: KerasClassifier is deprecated, use Sci-Keras (https://github.com/adriangb/scikeras) instead.\n",
      "  ANN_best = keras.wrappers.scikit_learn.KerasClassifier(build_nn, epochs= 200, verbose=False)\n"
     ]
    },
    {
     "name": "stdout",
     "output_type": "stream",
     "text": [
      "[Voting] ...................... (1 of 4) Processing KNN, total=   0.0s\n",
      "[Voting] ...................... (2 of 4) Processing SVC, total=   4.0s\n",
      "[Voting] ..................... (3 of 4) Processing LGBM, total=   0.2s\n",
      "WARNING:tensorflow:Error in loading the saved optimizer state. As a result, your model is starting with a freshly initialized optimizer.\n",
      "[Voting] ...................... (4 of 4) Processing ANN, total=  19.5s\n",
      "[[46 32]\n",
      " [36 51]]\n",
      "accuracy 0.5878787878787879\n",
      "f1_score 0.6\n",
      "zero one loss 0.4121212121212121\n"
     ]
    },
    {
     "name": "stderr",
     "output_type": "stream",
     "text": [
      "<ipython-input-52-ba74d13a0907>:48: DeprecationWarning: KerasClassifier is deprecated, use Sci-Keras (https://github.com/adriangb/scikeras) instead.\n",
      "  ANN_best = keras.wrappers.scikit_learn.KerasClassifier(build_nn, epochs= 200, verbose=False)\n"
     ]
    },
    {
     "name": "stdout",
     "output_type": "stream",
     "text": [
      "[Voting] ...................... (1 of 4) Processing KNN, total=   0.0s\n",
      "[Voting] ...................... (2 of 4) Processing SVC, total=   3.8s\n",
      "[Voting] ..................... (3 of 4) Processing LGBM, total=   0.2s\n",
      "WARNING:tensorflow:Error in loading the saved optimizer state. As a result, your model is starting with a freshly initialized optimizer.\n",
      "[Voting] ...................... (4 of 4) Processing ANN, total=  18.6s\n",
      "[[58 34]\n",
      " [33 61]]\n",
      "accuracy 0.6397849462365591\n",
      "f1_score 0.6455026455026456\n",
      "zero one loss 0.3602150537634409\n"
     ]
    },
    {
     "name": "stderr",
     "output_type": "stream",
     "text": [
      "<ipython-input-52-ba74d13a0907>:48: DeprecationWarning: KerasClassifier is deprecated, use Sci-Keras (https://github.com/adriangb/scikeras) instead.\n",
      "  ANN_best = keras.wrappers.scikit_learn.KerasClassifier(build_nn, epochs= 200, verbose=False)\n"
     ]
    },
    {
     "name": "stdout",
     "output_type": "stream",
     "text": [
      "[Voting] ...................... (1 of 4) Processing KNN, total=   0.0s\n",
      "[Voting] ...................... (2 of 4) Processing SVC, total=   3.8s\n",
      "[Voting] ..................... (3 of 4) Processing LGBM, total=   0.2s\n",
      "WARNING:tensorflow:Error in loading the saved optimizer state. As a result, your model is starting with a freshly initialized optimizer.\n",
      "[Voting] ...................... (4 of 4) Processing ANN, total=  18.6s\n",
      "[[47 32]\n",
      " [29 74]]\n",
      "accuracy 0.6648351648351648\n",
      "f1_score 0.7081339712918661\n",
      "zero one loss 0.3351648351648352\n"
     ]
    }
   ],
   "source": [
    "from sklearn.metrics import accuracy_score,f1_score, zero_one_loss\n",
    "\n",
    "skf = StratifiedKFold(n_splits=20, shuffle=True, random_state=42)\n",
    "final_cm=np.array([[0, 0],[0, 0]])\n",
    "\n",
    "dataset_covid_healthy = pd.read_pickle(\"dataset_covid_healthy.pkl\")\n",
    "uuids_status_unique= dataset_covid_healthy.filter(items=['uuid','status']).drop_duplicates()\n",
    "uuids = np.array(uuids_status_unique['uuid'])\n",
    "y_uuids = np.array(uuids_status_unique['status'])\n",
    "\n",
    "for train, test in skf.split(uuids, y_uuids):\n",
    "    train_uuids = uuids[train]\n",
    "    test_uuids = uuids[test]\n",
    "    \n",
    "    X_train = []\n",
    "    y_train = []\n",
    "    X_test = []\n",
    "    y_test = []\n",
    "    \n",
    "    for x in dataset_covid_healthy.iterrows():\n",
    "        if x[1]['uuid'] in train_uuids:\n",
    "            X_train.append(x[1][1:48])\n",
    "            if x[1]['status']=='healthy':\n",
    "                y_train.append(1)\n",
    "            else:\n",
    "                y_train.append(0)\n",
    "        elif x[1]['uuid'] in test_uuids:\n",
    "            X_test.append(x[1][1:48])\n",
    "            if x[1]['status']=='healthy':\n",
    "                y_test.append(1)\n",
    "            else:\n",
    "                y_test.append(0)\n",
    "    \n",
    "    X_train = np.array(X_train)\n",
    "    y_train = np.array(y_train)\n",
    "    X_test = np.array(X_test)\n",
    "    y_test = np.array(y_test)\n",
    "    \n",
    "    #Normalization\n",
    "    scaler = StandardScaler()\n",
    "    X_train = scaler.fit_transform(X_train)\n",
    "    X_test = scaler.transform(X_test)\n",
    "\n",
    "    KNN_best = KNeighborsClassifier(algorithm='auto', leaf_size=10, metric='minkowski', n_neighbors= 1, weights='uniform')\n",
    "    SVC_best = SVC( C=10, degree= 5, gamma='auto', kernel='poly')\n",
    "    SVC_best.probability=True\n",
    "    LGBM_best = LGBMClassifier(learning_rate=0.3, max_depth=50, min_child_samples=2, n_estimators=160)\n",
    "    ANN_best = keras.wrappers.scikit_learn.KerasClassifier(build_nn, epochs= 200, verbose=False)\n",
    "    ANN_best._estimator_type = \"classifier\"\n",
    "\n",
    "    voting_clf = VotingClassifier(estimators=[('KNN', KNN_best), ('SVC', SVC_best), ('LGBM', LGBM_best), ('ANN', ANN_best)], \n",
    "                                              voting='soft', flatten_transform=True, verbose=True, n_jobs=1)\n",
    "    voting_clf.fit(X_train, y_train)\n",
    "    preds =  voting_clf.predict(X_test)\n",
    "    final_cm += confusion_matrix(y_test, preds)\n",
    "    print(confusion_matrix(y_test, preds))\n",
    "    print('accuracy', accuracy_score(y_test, preds))\n",
    "    print('f1_score', f1_score(y_test, preds))\n",
    "    print('zero one loss', zero_one_loss(y_test, preds))"
   ]
  },
  {
   "cell_type": "code",
   "execution_count": 53,
   "metadata": {},
   "outputs": [
    {
     "data": {
      "text/plain": [
       "array([[1086,  743],\n",
       "       [ 738, 1350]])"
      ]
     },
     "execution_count": 53,
     "metadata": {},
     "output_type": "execute_result"
    }
   ],
   "source": [
    "final_cm"
   ]
  },
  {
   "cell_type": "markdown",
   "metadata": {},
   "source": [
    "Leave one out crossvalidation with best fold models"
   ]
  },
  {
   "cell_type": "code",
   "execution_count": 54,
   "metadata": {
    "scrolled": true
   },
   "outputs": [
    {
     "name": "stderr",
     "output_type": "stream",
     "text": [
      "<ipython-input-54-0786b9e49dc3>:22: DeprecationWarning: KerasClassifier is deprecated, use Sci-Keras (https://github.com/adriangb/scikeras) instead.\n",
      "  ANN_best = keras.wrappers.scikit_learn.KerasClassifier(build_nn, epochs= 200, verbose=False)\n"
     ]
    },
    {
     "name": "stdout",
     "output_type": "stream",
     "text": [
      "[Voting] ...................... (1 of 4) Processing KNN, total=   0.0s\n",
      "[Voting] ...................... (2 of 4) Processing SVC, total=   4.5s\n",
      "[Voting] ..................... (3 of 4) Processing LGBM, total=   0.2s\n",
      "WARNING:tensorflow:Error in loading the saved optimizer state. As a result, your model is starting with a freshly initialized optimizer.\n",
      "[Voting] ...................... (4 of 4) Processing ANN, total=  23.5s\n",
      "Iterazione 0 [[0 0]\n",
      " [2 1]]\n",
      "accuracy 0.3333333333333333\n"
     ]
    },
    {
     "name": "stderr",
     "output_type": "stream",
     "text": [
      "<ipython-input-54-0786b9e49dc3>:22: DeprecationWarning: KerasClassifier is deprecated, use Sci-Keras (https://github.com/adriangb/scikeras) instead.\n",
      "  ANN_best = keras.wrappers.scikit_learn.KerasClassifier(build_nn, epochs= 200, verbose=False)\n"
     ]
    },
    {
     "name": "stdout",
     "output_type": "stream",
     "text": [
      "[Voting] ...................... (1 of 4) Processing KNN, total=   0.0s\n",
      "[Voting] ...................... (2 of 4) Processing SVC, total=   5.5s\n",
      "[Voting] ..................... (3 of 4) Processing LGBM, total=   0.3s\n",
      "WARNING:tensorflow:Error in loading the saved optimizer state. As a result, your model is starting with a freshly initialized optimizer.\n",
      "[Voting] ...................... (4 of 4) Processing ANN, total=  29.6s\n",
      "Iterazione 1 [[0 0]\n",
      " [1 3]]\n",
      "accuracy 0.75\n"
     ]
    },
    {
     "name": "stderr",
     "output_type": "stream",
     "text": [
      "<ipython-input-54-0786b9e49dc3>:22: DeprecationWarning: KerasClassifier is deprecated, use Sci-Keras (https://github.com/adriangb/scikeras) instead.\n",
      "  ANN_best = keras.wrappers.scikit_learn.KerasClassifier(build_nn, epochs= 200, verbose=False)\n"
     ]
    },
    {
     "name": "stdout",
     "output_type": "stream",
     "text": [
      "[Voting] ...................... (1 of 4) Processing KNN, total=   0.0s\n",
      "[Voting] ...................... (2 of 4) Processing SVC, total=   5.2s\n",
      "[Voting] ..................... (3 of 4) Processing LGBM, total=   0.5s\n",
      "WARNING:tensorflow:Error in loading the saved optimizer state. As a result, your model is starting with a freshly initialized optimizer.\n",
      "[Voting] ...................... (4 of 4) Processing ANN, total=  20.7s\n",
      "WARNING:tensorflow:5 out of the last 15 calls to <function Model.make_predict_function.<locals>.predict_function at 0x000002051FA9B820> triggered tf.function retracing. Tracing is expensive and the excessive number of tracings could be due to (1) creating @tf.function repeatedly in a loop, (2) passing tensors with different shapes, (3) passing Python objects instead of tensors. For (1), please define your @tf.function outside of the loop. For (2), @tf.function has experimental_relax_shapes=True option that relaxes argument shapes that can avoid unnecessary retracing. For (3), please refer to https://www.tensorflow.org/guide/function#controlling_retracing and https://www.tensorflow.org/api_docs/python/tf/function for  more details.\n",
      "Iterazione 2 [[0 0]\n",
      " [0 1]]\n",
      "accuracy 1.0\n"
     ]
    },
    {
     "name": "stderr",
     "output_type": "stream",
     "text": [
      "<ipython-input-54-0786b9e49dc3>:22: DeprecationWarning: KerasClassifier is deprecated, use Sci-Keras (https://github.com/adriangb/scikeras) instead.\n",
      "  ANN_best = keras.wrappers.scikit_learn.KerasClassifier(build_nn, epochs= 200, verbose=False)\n"
     ]
    },
    {
     "name": "stdout",
     "output_type": "stream",
     "text": [
      "[Voting] ...................... (1 of 4) Processing KNN, total=   0.0s\n",
      "[Voting] ...................... (2 of 4) Processing SVC, total=   4.4s\n",
      "[Voting] ..................... (3 of 4) Processing LGBM, total=   0.3s\n",
      "WARNING:tensorflow:Error in loading the saved optimizer state. As a result, your model is starting with a freshly initialized optimizer.\n",
      "[Voting] ...................... (4 of 4) Processing ANN, total=  19.5s\n",
      "WARNING:tensorflow:6 out of the last 16 calls to <function Model.make_predict_function.<locals>.predict_function at 0x000002051F73D280> triggered tf.function retracing. Tracing is expensive and the excessive number of tracings could be due to (1) creating @tf.function repeatedly in a loop, (2) passing tensors with different shapes, (3) passing Python objects instead of tensors. For (1), please define your @tf.function outside of the loop. For (2), @tf.function has experimental_relax_shapes=True option that relaxes argument shapes that can avoid unnecessary retracing. For (3), please refer to https://www.tensorflow.org/guide/function#controlling_retracing and https://www.tensorflow.org/api_docs/python/tf/function for  more details.\n",
      "Iterazione 3 [[ 0  0]\n",
      " [ 0 12]]\n",
      "accuracy 1.0\n"
     ]
    },
    {
     "name": "stderr",
     "output_type": "stream",
     "text": [
      "<ipython-input-54-0786b9e49dc3>:22: DeprecationWarning: KerasClassifier is deprecated, use Sci-Keras (https://github.com/adriangb/scikeras) instead.\n",
      "  ANN_best = keras.wrappers.scikit_learn.KerasClassifier(build_nn, epochs= 200, verbose=False)\n"
     ]
    },
    {
     "name": "stdout",
     "output_type": "stream",
     "text": [
      "[Voting] ...................... (1 of 4) Processing KNN, total=   0.0s\n",
      "[Voting] ...................... (2 of 4) Processing SVC, total=   4.3s\n",
      "[Voting] ..................... (3 of 4) Processing LGBM, total=   0.2s\n",
      "WARNING:tensorflow:Error in loading the saved optimizer state. As a result, your model is starting with a freshly initialized optimizer.\n",
      "[Voting] ...................... (4 of 4) Processing ANN, total=  19.5s\n",
      "Iterazione 4 [[0 0]\n",
      " [3 2]]\n",
      "accuracy 0.4\n"
     ]
    },
    {
     "name": "stderr",
     "output_type": "stream",
     "text": [
      "<ipython-input-54-0786b9e49dc3>:22: DeprecationWarning: KerasClassifier is deprecated, use Sci-Keras (https://github.com/adriangb/scikeras) instead.\n",
      "  ANN_best = keras.wrappers.scikit_learn.KerasClassifier(build_nn, epochs= 200, verbose=False)\n"
     ]
    },
    {
     "name": "stdout",
     "output_type": "stream",
     "text": [
      "[Voting] ...................... (1 of 4) Processing KNN, total=   0.0s\n",
      "[Voting] ...................... (2 of 4) Processing SVC, total=   4.3s\n",
      "[Voting] ..................... (3 of 4) Processing LGBM, total=   0.2s\n",
      "WARNING:tensorflow:Error in loading the saved optimizer state. As a result, your model is starting with a freshly initialized optimizer.\n",
      "[Voting] ...................... (4 of 4) Processing ANN, total=  19.6s\n",
      "Iterazione 5 [[1 1]\n",
      " [0 0]]\n",
      "accuracy 0.5\n"
     ]
    },
    {
     "name": "stderr",
     "output_type": "stream",
     "text": [
      "<ipython-input-54-0786b9e49dc3>:22: DeprecationWarning: KerasClassifier is deprecated, use Sci-Keras (https://github.com/adriangb/scikeras) instead.\n",
      "  ANN_best = keras.wrappers.scikit_learn.KerasClassifier(build_nn, epochs= 200, verbose=False)\n"
     ]
    },
    {
     "name": "stdout",
     "output_type": "stream",
     "text": [
      "[Voting] ...................... (1 of 4) Processing KNN, total=   0.0s\n",
      "[Voting] ...................... (2 of 4) Processing SVC, total=   4.2s\n",
      "[Voting] ..................... (3 of 4) Processing LGBM, total=   0.2s\n",
      "WARNING:tensorflow:Error in loading the saved optimizer state. As a result, your model is starting with a freshly initialized optimizer.\n",
      "[Voting] ...................... (4 of 4) Processing ANN, total=  19.6s\n",
      "Iterazione 6 [[11  0]\n",
      " [ 0  0]]\n",
      "accuracy 1.0\n"
     ]
    },
    {
     "name": "stderr",
     "output_type": "stream",
     "text": [
      "<ipython-input-54-0786b9e49dc3>:22: DeprecationWarning: KerasClassifier is deprecated, use Sci-Keras (https://github.com/adriangb/scikeras) instead.\n",
      "  ANN_best = keras.wrappers.scikit_learn.KerasClassifier(build_nn, epochs= 200, verbose=False)\n"
     ]
    },
    {
     "name": "stdout",
     "output_type": "stream",
     "text": [
      "[Voting] ...................... (1 of 4) Processing KNN, total=   0.0s\n",
      "[Voting] ...................... (2 of 4) Processing SVC, total=   4.5s\n",
      "[Voting] ..................... (3 of 4) Processing LGBM, total=   0.4s\n",
      "WARNING:tensorflow:Error in loading the saved optimizer state. As a result, your model is starting with a freshly initialized optimizer.\n",
      "[Voting] ...................... (4 of 4) Processing ANN, total=  19.7s\n",
      "Iterazione 7 [[0 1]\n",
      " [0 0]]\n",
      "accuracy 0.0\n"
     ]
    },
    {
     "name": "stderr",
     "output_type": "stream",
     "text": [
      "<ipython-input-54-0786b9e49dc3>:22: DeprecationWarning: KerasClassifier is deprecated, use Sci-Keras (https://github.com/adriangb/scikeras) instead.\n",
      "  ANN_best = keras.wrappers.scikit_learn.KerasClassifier(build_nn, epochs= 200, verbose=False)\n"
     ]
    },
    {
     "name": "stdout",
     "output_type": "stream",
     "text": [
      "[Voting] ...................... (1 of 4) Processing KNN, total=   0.0s\n",
      "[Voting] ...................... (2 of 4) Processing SVC, total=   4.3s\n",
      "[Voting] ..................... (3 of 4) Processing LGBM, total=   0.2s\n",
      "WARNING:tensorflow:Error in loading the saved optimizer state. As a result, your model is starting with a freshly initialized optimizer.\n",
      "[Voting] ...................... (4 of 4) Processing ANN, total=  19.3s\n",
      "Iterazione 8 [[0 0]\n",
      " [1 0]]\n",
      "accuracy 0.0\n"
     ]
    },
    {
     "name": "stderr",
     "output_type": "stream",
     "text": [
      "<ipython-input-54-0786b9e49dc3>:22: DeprecationWarning: KerasClassifier is deprecated, use Sci-Keras (https://github.com/adriangb/scikeras) instead.\n",
      "  ANN_best = keras.wrappers.scikit_learn.KerasClassifier(build_nn, epochs= 200, verbose=False)\n"
     ]
    },
    {
     "name": "stdout",
     "output_type": "stream",
     "text": [
      "[Voting] ...................... (1 of 4) Processing KNN, total=   0.0s\n",
      "[Voting] ...................... (2 of 4) Processing SVC, total=   4.4s\n",
      "[Voting] ..................... (3 of 4) Processing LGBM, total=   0.2s\n",
      "WARNING:tensorflow:Error in loading the saved optimizer state. As a result, your model is starting with a freshly initialized optimizer.\n",
      "[Voting] ...................... (4 of 4) Processing ANN, total=  19.5s\n",
      "Iterazione 9 [[5 1]\n",
      " [0 0]]\n",
      "accuracy 0.8333333333333334\n"
     ]
    },
    {
     "name": "stderr",
     "output_type": "stream",
     "text": [
      "<ipython-input-54-0786b9e49dc3>:22: DeprecationWarning: KerasClassifier is deprecated, use Sci-Keras (https://github.com/adriangb/scikeras) instead.\n",
      "  ANN_best = keras.wrappers.scikit_learn.KerasClassifier(build_nn, epochs= 200, verbose=False)\n"
     ]
    },
    {
     "name": "stdout",
     "output_type": "stream",
     "text": [
      "[Voting] ...................... (1 of 4) Processing KNN, total=   0.0s\n",
      "[Voting] ...................... (2 of 4) Processing SVC, total=   4.2s\n",
      "[Voting] ..................... (3 of 4) Processing LGBM, total=   0.2s\n",
      "WARNING:tensorflow:Error in loading the saved optimizer state. As a result, your model is starting with a freshly initialized optimizer.\n",
      "[Voting] ...................... (4 of 4) Processing ANN, total=  19.4s\n",
      "Iterazione 10 [[2 2]\n",
      " [0 0]]\n",
      "accuracy 0.5\n"
     ]
    },
    {
     "name": "stderr",
     "output_type": "stream",
     "text": [
      "<ipython-input-54-0786b9e49dc3>:22: DeprecationWarning: KerasClassifier is deprecated, use Sci-Keras (https://github.com/adriangb/scikeras) instead.\n",
      "  ANN_best = keras.wrappers.scikit_learn.KerasClassifier(build_nn, epochs= 200, verbose=False)\n"
     ]
    },
    {
     "name": "stdout",
     "output_type": "stream",
     "text": [
      "[Voting] ...................... (1 of 4) Processing KNN, total=   0.0s\n",
      "[Voting] ...................... (2 of 4) Processing SVC, total=   4.1s\n",
      "[Voting] ..................... (3 of 4) Processing LGBM, total=   0.2s\n",
      "WARNING:tensorflow:Error in loading the saved optimizer state. As a result, your model is starting with a freshly initialized optimizer.\n",
      "[Voting] ...................... (4 of 4) Processing ANN, total=  19.8s\n",
      "Iterazione 11 [[0 0]\n",
      " [4 2]]\n",
      "accuracy 0.3333333333333333\n"
     ]
    },
    {
     "name": "stderr",
     "output_type": "stream",
     "text": [
      "<ipython-input-54-0786b9e49dc3>:22: DeprecationWarning: KerasClassifier is deprecated, use Sci-Keras (https://github.com/adriangb/scikeras) instead.\n",
      "  ANN_best = keras.wrappers.scikit_learn.KerasClassifier(build_nn, epochs= 200, verbose=False)\n"
     ]
    },
    {
     "name": "stdout",
     "output_type": "stream",
     "text": [
      "[Voting] ...................... (1 of 4) Processing KNN, total=   0.0s\n",
      "[Voting] ...................... (2 of 4) Processing SVC, total=   4.2s\n",
      "[Voting] ..................... (3 of 4) Processing LGBM, total=   0.2s\n",
      "WARNING:tensorflow:Error in loading the saved optimizer state. As a result, your model is starting with a freshly initialized optimizer.\n",
      "[Voting] ...................... (4 of 4) Processing ANN, total=  19.8s\n",
      "Iterazione 12 [[0 0]\n",
      " [2 1]]\n",
      "accuracy 0.3333333333333333\n"
     ]
    },
    {
     "name": "stderr",
     "output_type": "stream",
     "text": [
      "<ipython-input-54-0786b9e49dc3>:22: DeprecationWarning: KerasClassifier is deprecated, use Sci-Keras (https://github.com/adriangb/scikeras) instead.\n",
      "  ANN_best = keras.wrappers.scikit_learn.KerasClassifier(build_nn, epochs= 200, verbose=False)\n"
     ]
    },
    {
     "name": "stdout",
     "output_type": "stream",
     "text": [
      "[Voting] ...................... (1 of 4) Processing KNN, total=   0.0s\n",
      "[Voting] ...................... (2 of 4) Processing SVC, total=   4.5s\n",
      "[Voting] ..................... (3 of 4) Processing LGBM, total=   0.2s\n",
      "WARNING:tensorflow:Error in loading the saved optimizer state. As a result, your model is starting with a freshly initialized optimizer.\n",
      "[Voting] ...................... (4 of 4) Processing ANN, total=  19.2s\n",
      "Iterazione 13 [[2 2]\n",
      " [0 0]]\n",
      "accuracy 0.5\n"
     ]
    },
    {
     "name": "stderr",
     "output_type": "stream",
     "text": [
      "<ipython-input-54-0786b9e49dc3>:22: DeprecationWarning: KerasClassifier is deprecated, use Sci-Keras (https://github.com/adriangb/scikeras) instead.\n",
      "  ANN_best = keras.wrappers.scikit_learn.KerasClassifier(build_nn, epochs= 200, verbose=False)\n"
     ]
    },
    {
     "name": "stdout",
     "output_type": "stream",
     "text": [
      "[Voting] ...................... (1 of 4) Processing KNN, total=   0.0s\n",
      "[Voting] ...................... (2 of 4) Processing SVC, total=   4.4s\n",
      "[Voting] ..................... (3 of 4) Processing LGBM, total=   0.2s\n",
      "WARNING:tensorflow:Error in loading the saved optimizer state. As a result, your model is starting with a freshly initialized optimizer.\n",
      "[Voting] ...................... (4 of 4) Processing ANN, total=  19.5s\n",
      "Iterazione 14 [[0 0]\n",
      " [1 5]]\n",
      "accuracy 0.8333333333333334\n"
     ]
    },
    {
     "name": "stderr",
     "output_type": "stream",
     "text": [
      "<ipython-input-54-0786b9e49dc3>:22: DeprecationWarning: KerasClassifier is deprecated, use Sci-Keras (https://github.com/adriangb/scikeras) instead.\n",
      "  ANN_best = keras.wrappers.scikit_learn.KerasClassifier(build_nn, epochs= 200, verbose=False)\n"
     ]
    },
    {
     "name": "stdout",
     "output_type": "stream",
     "text": [
      "[Voting] ...................... (1 of 4) Processing KNN, total=   0.0s\n",
      "[Voting] ...................... (2 of 4) Processing SVC, total=   4.4s\n",
      "[Voting] ..................... (3 of 4) Processing LGBM, total=   0.2s\n",
      "WARNING:tensorflow:Error in loading the saved optimizer state. As a result, your model is starting with a freshly initialized optimizer.\n",
      "[Voting] ...................... (4 of 4) Processing ANN, total=  19.7s\n",
      "Iterazione 15 [[0 0]\n",
      " [0 2]]\n",
      "accuracy 1.0\n"
     ]
    },
    {
     "name": "stderr",
     "output_type": "stream",
     "text": [
      "<ipython-input-54-0786b9e49dc3>:22: DeprecationWarning: KerasClassifier is deprecated, use Sci-Keras (https://github.com/adriangb/scikeras) instead.\n",
      "  ANN_best = keras.wrappers.scikit_learn.KerasClassifier(build_nn, epochs= 200, verbose=False)\n"
     ]
    },
    {
     "name": "stdout",
     "output_type": "stream",
     "text": [
      "[Voting] ...................... (1 of 4) Processing KNN, total=   0.0s\n",
      "[Voting] ...................... (2 of 4) Processing SVC, total=   4.3s\n",
      "[Voting] ..................... (3 of 4) Processing LGBM, total=   0.2s\n",
      "WARNING:tensorflow:Error in loading the saved optimizer state. As a result, your model is starting with a freshly initialized optimizer.\n",
      "[Voting] ...................... (4 of 4) Processing ANN, total=  19.5s\n",
      "Iterazione 16 [[0 0]\n",
      " [4 3]]\n",
      "accuracy 0.42857142857142855\n"
     ]
    },
    {
     "name": "stderr",
     "output_type": "stream",
     "text": [
      "<ipython-input-54-0786b9e49dc3>:22: DeprecationWarning: KerasClassifier is deprecated, use Sci-Keras (https://github.com/adriangb/scikeras) instead.\n",
      "  ANN_best = keras.wrappers.scikit_learn.KerasClassifier(build_nn, epochs= 200, verbose=False)\n"
     ]
    },
    {
     "name": "stdout",
     "output_type": "stream",
     "text": [
      "[Voting] ...................... (1 of 4) Processing KNN, total=   0.0s\n",
      "[Voting] ...................... (2 of 4) Processing SVC, total=   4.4s\n",
      "[Voting] ..................... (3 of 4) Processing LGBM, total=   0.2s\n",
      "WARNING:tensorflow:Error in loading the saved optimizer state. As a result, your model is starting with a freshly initialized optimizer.\n",
      "[Voting] ...................... (4 of 4) Processing ANN, total=  19.7s\n",
      "Iterazione 17 [[0 0]\n",
      " [1 3]]\n",
      "accuracy 0.75\n"
     ]
    },
    {
     "name": "stderr",
     "output_type": "stream",
     "text": [
      "<ipython-input-54-0786b9e49dc3>:22: DeprecationWarning: KerasClassifier is deprecated, use Sci-Keras (https://github.com/adriangb/scikeras) instead.\n",
      "  ANN_best = keras.wrappers.scikit_learn.KerasClassifier(build_nn, epochs= 200, verbose=False)\n"
     ]
    },
    {
     "name": "stdout",
     "output_type": "stream",
     "text": [
      "[Voting] ...................... (1 of 4) Processing KNN, total=   0.0s\n",
      "[Voting] ...................... (2 of 4) Processing SVC, total=   4.5s\n",
      "[Voting] ..................... (3 of 4) Processing LGBM, total=   0.2s\n",
      "WARNING:tensorflow:Error in loading the saved optimizer state. As a result, your model is starting with a freshly initialized optimizer.\n",
      "[Voting] ...................... (4 of 4) Processing ANN, total=  23.4s\n",
      "Iterazione 18 [[0 0]\n",
      " [3 3]]\n",
      "accuracy 0.5\n"
     ]
    },
    {
     "name": "stderr",
     "output_type": "stream",
     "text": [
      "<ipython-input-54-0786b9e49dc3>:22: DeprecationWarning: KerasClassifier is deprecated, use Sci-Keras (https://github.com/adriangb/scikeras) instead.\n",
      "  ANN_best = keras.wrappers.scikit_learn.KerasClassifier(build_nn, epochs= 200, verbose=False)\n"
     ]
    },
    {
     "name": "stdout",
     "output_type": "stream",
     "text": [
      "[Voting] ...................... (1 of 4) Processing KNN, total=   0.0s\n",
      "[Voting] ...................... (2 of 4) Processing SVC, total=   5.5s\n",
      "[Voting] ..................... (3 of 4) Processing LGBM, total=   0.3s\n",
      "WARNING:tensorflow:Error in loading the saved optimizer state. As a result, your model is starting with a freshly initialized optimizer.\n",
      "[Voting] ...................... (4 of 4) Processing ANN, total=  25.8s\n",
      "Iterazione 19 [[0 0]\n",
      " [1 4]]\n",
      "accuracy 0.8\n"
     ]
    },
    {
     "name": "stderr",
     "output_type": "stream",
     "text": [
      "<ipython-input-54-0786b9e49dc3>:22: DeprecationWarning: KerasClassifier is deprecated, use Sci-Keras (https://github.com/adriangb/scikeras) instead.\n",
      "  ANN_best = keras.wrappers.scikit_learn.KerasClassifier(build_nn, epochs= 200, verbose=False)\n"
     ]
    },
    {
     "name": "stdout",
     "output_type": "stream",
     "text": [
      "[Voting] ...................... (1 of 4) Processing KNN, total=   0.0s\n",
      "[Voting] ...................... (2 of 4) Processing SVC, total=   5.3s\n",
      "[Voting] ..................... (3 of 4) Processing LGBM, total=   0.3s\n",
      "WARNING:tensorflow:Error in loading the saved optimizer state. As a result, your model is starting with a freshly initialized optimizer.\n",
      "[Voting] ...................... (4 of 4) Processing ANN, total=  25.2s\n",
      "Iterazione 20 [[3 1]\n",
      " [0 0]]\n",
      "accuracy 0.75\n"
     ]
    },
    {
     "name": "stderr",
     "output_type": "stream",
     "text": [
      "<ipython-input-54-0786b9e49dc3>:22: DeprecationWarning: KerasClassifier is deprecated, use Sci-Keras (https://github.com/adriangb/scikeras) instead.\n",
      "  ANN_best = keras.wrappers.scikit_learn.KerasClassifier(build_nn, epochs= 200, verbose=False)\n"
     ]
    },
    {
     "name": "stdout",
     "output_type": "stream",
     "text": [
      "[Voting] ...................... (1 of 4) Processing KNN, total=   0.0s\n",
      "[Voting] ...................... (2 of 4) Processing SVC, total=   5.3s\n",
      "[Voting] ..................... (3 of 4) Processing LGBM, total=   0.3s\n",
      "WARNING:tensorflow:Error in loading the saved optimizer state. As a result, your model is starting with a freshly initialized optimizer.\n",
      "[Voting] ...................... (4 of 4) Processing ANN, total=  24.0s\n",
      "Iterazione 21 [[0 0]\n",
      " [1 4]]\n",
      "accuracy 0.8\n"
     ]
    },
    {
     "name": "stderr",
     "output_type": "stream",
     "text": [
      "<ipython-input-54-0786b9e49dc3>:22: DeprecationWarning: KerasClassifier is deprecated, use Sci-Keras (https://github.com/adriangb/scikeras) instead.\n",
      "  ANN_best = keras.wrappers.scikit_learn.KerasClassifier(build_nn, epochs= 200, verbose=False)\n"
     ]
    },
    {
     "name": "stdout",
     "output_type": "stream",
     "text": [
      "[Voting] ...................... (1 of 4) Processing KNN, total=   0.0s\n",
      "[Voting] ...................... (2 of 4) Processing SVC, total=   5.0s\n",
      "[Voting] ..................... (3 of 4) Processing LGBM, total=   0.3s\n",
      "WARNING:tensorflow:Error in loading the saved optimizer state. As a result, your model is starting with a freshly initialized optimizer.\n",
      "[Voting] ...................... (4 of 4) Processing ANN, total=  24.1s\n",
      "Iterazione 22 [[2 1]\n",
      " [0 0]]\n",
      "accuracy 0.6666666666666666\n"
     ]
    },
    {
     "name": "stderr",
     "output_type": "stream",
     "text": [
      "<ipython-input-54-0786b9e49dc3>:22: DeprecationWarning: KerasClassifier is deprecated, use Sci-Keras (https://github.com/adriangb/scikeras) instead.\n",
      "  ANN_best = keras.wrappers.scikit_learn.KerasClassifier(build_nn, epochs= 200, verbose=False)\n"
     ]
    },
    {
     "name": "stdout",
     "output_type": "stream",
     "text": [
      "[Voting] ...................... (1 of 4) Processing KNN, total=   0.0s\n",
      "[Voting] ...................... (2 of 4) Processing SVC, total=   5.0s\n",
      "[Voting] ..................... (3 of 4) Processing LGBM, total=   0.3s\n",
      "WARNING:tensorflow:Error in loading the saved optimizer state. As a result, your model is starting with a freshly initialized optimizer.\n",
      "[Voting] ...................... (4 of 4) Processing ANN, total=  23.3s\n",
      "Iterazione 23 [[0 1]\n",
      " [0 0]]\n",
      "accuracy 0.0\n"
     ]
    },
    {
     "name": "stderr",
     "output_type": "stream",
     "text": [
      "<ipython-input-54-0786b9e49dc3>:22: DeprecationWarning: KerasClassifier is deprecated, use Sci-Keras (https://github.com/adriangb/scikeras) instead.\n",
      "  ANN_best = keras.wrappers.scikit_learn.KerasClassifier(build_nn, epochs= 200, verbose=False)\n"
     ]
    },
    {
     "name": "stdout",
     "output_type": "stream",
     "text": [
      "[Voting] ...................... (1 of 4) Processing KNN, total=   0.0s\n",
      "[Voting] ...................... (2 of 4) Processing SVC, total=   4.9s\n",
      "[Voting] ..................... (3 of 4) Processing LGBM, total=   0.3s\n",
      "WARNING:tensorflow:Error in loading the saved optimizer state. As a result, your model is starting with a freshly initialized optimizer.\n",
      "[Voting] ...................... (4 of 4) Processing ANN, total=  23.2s\n",
      "Iterazione 24 [[0 0]\n",
      " [1 1]]\n",
      "accuracy 0.5\n"
     ]
    },
    {
     "name": "stderr",
     "output_type": "stream",
     "text": [
      "<ipython-input-54-0786b9e49dc3>:22: DeprecationWarning: KerasClassifier is deprecated, use Sci-Keras (https://github.com/adriangb/scikeras) instead.\n",
      "  ANN_best = keras.wrappers.scikit_learn.KerasClassifier(build_nn, epochs= 200, verbose=False)\n"
     ]
    },
    {
     "name": "stdout",
     "output_type": "stream",
     "text": [
      "[Voting] ...................... (1 of 4) Processing KNN, total=   0.0s\n",
      "[Voting] ...................... (2 of 4) Processing SVC, total=   4.8s\n",
      "[Voting] ..................... (3 of 4) Processing LGBM, total=   0.3s\n",
      "WARNING:tensorflow:Error in loading the saved optimizer state. As a result, your model is starting with a freshly initialized optimizer.\n",
      "[Voting] ...................... (4 of 4) Processing ANN, total=  24.0s\n",
      "Iterazione 25 [[0 0]\n",
      " [2 3]]\n",
      "accuracy 0.6\n"
     ]
    },
    {
     "name": "stderr",
     "output_type": "stream",
     "text": [
      "<ipython-input-54-0786b9e49dc3>:22: DeprecationWarning: KerasClassifier is deprecated, use Sci-Keras (https://github.com/adriangb/scikeras) instead.\n",
      "  ANN_best = keras.wrappers.scikit_learn.KerasClassifier(build_nn, epochs= 200, verbose=False)\n"
     ]
    },
    {
     "name": "stdout",
     "output_type": "stream",
     "text": [
      "[Voting] ...................... (1 of 4) Processing KNN, total=   0.0s\n",
      "[Voting] ...................... (2 of 4) Processing SVC, total=   4.9s\n",
      "[Voting] ..................... (3 of 4) Processing LGBM, total=   0.3s\n",
      "WARNING:tensorflow:Error in loading the saved optimizer state. As a result, your model is starting with a freshly initialized optimizer.\n",
      "[Voting] ...................... (4 of 4) Processing ANN, total=  23.3s\n",
      "Iterazione 26 [[0 0]\n",
      " [0 3]]\n",
      "accuracy 1.0\n"
     ]
    },
    {
     "name": "stderr",
     "output_type": "stream",
     "text": [
      "<ipython-input-54-0786b9e49dc3>:22: DeprecationWarning: KerasClassifier is deprecated, use Sci-Keras (https://github.com/adriangb/scikeras) instead.\n",
      "  ANN_best = keras.wrappers.scikit_learn.KerasClassifier(build_nn, epochs= 200, verbose=False)\n"
     ]
    },
    {
     "name": "stdout",
     "output_type": "stream",
     "text": [
      "[Voting] ...................... (1 of 4) Processing KNN, total=   0.0s\n",
      "[Voting] ...................... (2 of 4) Processing SVC, total=   4.8s\n",
      "[Voting] ..................... (3 of 4) Processing LGBM, total=   0.3s\n",
      "WARNING:tensorflow:Error in loading the saved optimizer state. As a result, your model is starting with a freshly initialized optimizer.\n",
      "[Voting] ...................... (4 of 4) Processing ANN, total=  23.6s\n",
      "Iterazione 27 [[0 0]\n",
      " [2 1]]\n",
      "accuracy 0.3333333333333333\n"
     ]
    },
    {
     "name": "stderr",
     "output_type": "stream",
     "text": [
      "<ipython-input-54-0786b9e49dc3>:22: DeprecationWarning: KerasClassifier is deprecated, use Sci-Keras (https://github.com/adriangb/scikeras) instead.\n",
      "  ANN_best = keras.wrappers.scikit_learn.KerasClassifier(build_nn, epochs= 200, verbose=False)\n"
     ]
    },
    {
     "name": "stdout",
     "output_type": "stream",
     "text": [
      "[Voting] ...................... (1 of 4) Processing KNN, total=   0.0s\n",
      "[Voting] ...................... (2 of 4) Processing SVC, total=   5.0s\n",
      "[Voting] ..................... (3 of 4) Processing LGBM, total=   0.3s\n",
      "WARNING:tensorflow:Error in loading the saved optimizer state. As a result, your model is starting with a freshly initialized optimizer.\n",
      "[Voting] ...................... (4 of 4) Processing ANN, total=  23.5s\n",
      "Iterazione 28 [[0 0]\n",
      " [3 3]]\n",
      "accuracy 0.5\n"
     ]
    },
    {
     "name": "stderr",
     "output_type": "stream",
     "text": [
      "<ipython-input-54-0786b9e49dc3>:22: DeprecationWarning: KerasClassifier is deprecated, use Sci-Keras (https://github.com/adriangb/scikeras) instead.\n",
      "  ANN_best = keras.wrappers.scikit_learn.KerasClassifier(build_nn, epochs= 200, verbose=False)\n"
     ]
    },
    {
     "name": "stdout",
     "output_type": "stream",
     "text": [
      "[Voting] ...................... (1 of 4) Processing KNN, total=   0.0s\n",
      "[Voting] ...................... (2 of 4) Processing SVC, total=   5.0s\n",
      "[Voting] ..................... (3 of 4) Processing LGBM, total=   0.4s\n",
      "WARNING:tensorflow:Error in loading the saved optimizer state. As a result, your model is starting with a freshly initialized optimizer.\n",
      "[Voting] ...................... (4 of 4) Processing ANN, total=  24.1s\n",
      "Iterazione 29 [[5 0]\n",
      " [0 0]]\n",
      "accuracy 1.0\n"
     ]
    },
    {
     "name": "stderr",
     "output_type": "stream",
     "text": [
      "<ipython-input-54-0786b9e49dc3>:22: DeprecationWarning: KerasClassifier is deprecated, use Sci-Keras (https://github.com/adriangb/scikeras) instead.\n",
      "  ANN_best = keras.wrappers.scikit_learn.KerasClassifier(build_nn, epochs= 200, verbose=False)\n"
     ]
    },
    {
     "name": "stdout",
     "output_type": "stream",
     "text": [
      "[Voting] ...................... (1 of 4) Processing KNN, total=   0.0s\n",
      "[Voting] ...................... (2 of 4) Processing SVC, total=   5.1s\n",
      "[Voting] ..................... (3 of 4) Processing LGBM, total=   0.3s\n",
      "WARNING:tensorflow:Error in loading the saved optimizer state. As a result, your model is starting with a freshly initialized optimizer.\n",
      "[Voting] ...................... (4 of 4) Processing ANN, total=  24.6s\n",
      "Iterazione 30 [[0 0]\n",
      " [0 8]]\n",
      "accuracy 1.0\n"
     ]
    },
    {
     "name": "stderr",
     "output_type": "stream",
     "text": [
      "<ipython-input-54-0786b9e49dc3>:22: DeprecationWarning: KerasClassifier is deprecated, use Sci-Keras (https://github.com/adriangb/scikeras) instead.\n",
      "  ANN_best = keras.wrappers.scikit_learn.KerasClassifier(build_nn, epochs= 200, verbose=False)\n"
     ]
    },
    {
     "name": "stdout",
     "output_type": "stream",
     "text": [
      "[Voting] ...................... (1 of 4) Processing KNN, total=   0.1s\n",
      "[Voting] ...................... (2 of 4) Processing SVC, total=   5.0s\n",
      "[Voting] ..................... (3 of 4) Processing LGBM, total=   0.2s\n",
      "WARNING:tensorflow:Error in loading the saved optimizer state. As a result, your model is starting with a freshly initialized optimizer.\n",
      "[Voting] ...................... (4 of 4) Processing ANN, total=  21.4s\n",
      "Iterazione 31 [[3 1]\n",
      " [0 0]]\n",
      "accuracy 0.75\n"
     ]
    },
    {
     "name": "stderr",
     "output_type": "stream",
     "text": [
      "<ipython-input-54-0786b9e49dc3>:22: DeprecationWarning: KerasClassifier is deprecated, use Sci-Keras (https://github.com/adriangb/scikeras) instead.\n",
      "  ANN_best = keras.wrappers.scikit_learn.KerasClassifier(build_nn, epochs= 200, verbose=False)\n"
     ]
    },
    {
     "name": "stdout",
     "output_type": "stream",
     "text": [
      "[Voting] ...................... (1 of 4) Processing KNN, total=   0.0s\n",
      "[Voting] ...................... (2 of 4) Processing SVC, total=   4.5s\n",
      "[Voting] ..................... (3 of 4) Processing LGBM, total=   0.2s\n",
      "WARNING:tensorflow:Error in loading the saved optimizer state. As a result, your model is starting with a freshly initialized optimizer.\n",
      "[Voting] ...................... (4 of 4) Processing ANN, total=  20.8s\n",
      "Iterazione 32 [[0 0]\n",
      " [2 1]]\n",
      "accuracy 0.3333333333333333\n"
     ]
    },
    {
     "name": "stderr",
     "output_type": "stream",
     "text": [
      "<ipython-input-54-0786b9e49dc3>:22: DeprecationWarning: KerasClassifier is deprecated, use Sci-Keras (https://github.com/adriangb/scikeras) instead.\n",
      "  ANN_best = keras.wrappers.scikit_learn.KerasClassifier(build_nn, epochs= 200, verbose=False)\n"
     ]
    },
    {
     "name": "stdout",
     "output_type": "stream",
     "text": [
      "[Voting] ...................... (1 of 4) Processing KNN, total=   0.0s\n",
      "[Voting] ...................... (2 of 4) Processing SVC, total=   4.8s\n",
      "[Voting] ..................... (3 of 4) Processing LGBM, total=   0.2s\n",
      "WARNING:tensorflow:Error in loading the saved optimizer state. As a result, your model is starting with a freshly initialized optimizer.\n",
      "[Voting] ...................... (4 of 4) Processing ANN, total=  21.5s\n",
      "Iterazione 33 [[0 0]\n",
      " [1 0]]\n",
      "accuracy 0.0\n"
     ]
    },
    {
     "name": "stderr",
     "output_type": "stream",
     "text": [
      "<ipython-input-54-0786b9e49dc3>:22: DeprecationWarning: KerasClassifier is deprecated, use Sci-Keras (https://github.com/adriangb/scikeras) instead.\n",
      "  ANN_best = keras.wrappers.scikit_learn.KerasClassifier(build_nn, epochs= 200, verbose=False)\n"
     ]
    },
    {
     "name": "stdout",
     "output_type": "stream",
     "text": [
      "[Voting] ...................... (1 of 4) Processing KNN, total=   0.0s\n",
      "[Voting] ...................... (2 of 4) Processing SVC, total=   4.7s\n",
      "[Voting] ..................... (3 of 4) Processing LGBM, total=   0.3s\n",
      "WARNING:tensorflow:Error in loading the saved optimizer state. As a result, your model is starting with a freshly initialized optimizer.\n",
      "[Voting] ...................... (4 of 4) Processing ANN, total=  21.6s\n",
      "Iterazione 34 [[0 0]\n",
      " [2 2]]\n",
      "accuracy 0.5\n"
     ]
    },
    {
     "name": "stderr",
     "output_type": "stream",
     "text": [
      "<ipython-input-54-0786b9e49dc3>:22: DeprecationWarning: KerasClassifier is deprecated, use Sci-Keras (https://github.com/adriangb/scikeras) instead.\n",
      "  ANN_best = keras.wrappers.scikit_learn.KerasClassifier(build_nn, epochs= 200, verbose=False)\n"
     ]
    },
    {
     "name": "stdout",
     "output_type": "stream",
     "text": [
      "[Voting] ...................... (1 of 4) Processing KNN, total=   0.0s\n",
      "[Voting] ...................... (2 of 4) Processing SVC, total=   4.7s\n",
      "[Voting] ..................... (3 of 4) Processing LGBM, total=   0.2s\n",
      "WARNING:tensorflow:Error in loading the saved optimizer state. As a result, your model is starting with a freshly initialized optimizer.\n",
      "[Voting] ...................... (4 of 4) Processing ANN, total=  20.9s\n",
      "Iterazione 35 [[2 0]\n",
      " [0 0]]\n",
      "accuracy 1.0\n"
     ]
    },
    {
     "name": "stderr",
     "output_type": "stream",
     "text": [
      "<ipython-input-54-0786b9e49dc3>:22: DeprecationWarning: KerasClassifier is deprecated, use Sci-Keras (https://github.com/adriangb/scikeras) instead.\n",
      "  ANN_best = keras.wrappers.scikit_learn.KerasClassifier(build_nn, epochs= 200, verbose=False)\n"
     ]
    },
    {
     "name": "stdout",
     "output_type": "stream",
     "text": [
      "[Voting] ...................... (1 of 4) Processing KNN, total=   0.0s\n",
      "[Voting] ...................... (2 of 4) Processing SVC, total=   4.9s\n",
      "[Voting] ..................... (3 of 4) Processing LGBM, total=   0.2s\n",
      "WARNING:tensorflow:Error in loading the saved optimizer state. As a result, your model is starting with a freshly initialized optimizer.\n",
      "[Voting] ...................... (4 of 4) Processing ANN, total=  20.7s\n",
      "Iterazione 36 [[0 0]\n",
      " [0 2]]\n",
      "accuracy 1.0\n"
     ]
    },
    {
     "name": "stderr",
     "output_type": "stream",
     "text": [
      "<ipython-input-54-0786b9e49dc3>:22: DeprecationWarning: KerasClassifier is deprecated, use Sci-Keras (https://github.com/adriangb/scikeras) instead.\n",
      "  ANN_best = keras.wrappers.scikit_learn.KerasClassifier(build_nn, epochs= 200, verbose=False)\n"
     ]
    },
    {
     "name": "stdout",
     "output_type": "stream",
     "text": [
      "[Voting] ...................... (1 of 4) Processing KNN, total=   0.0s\n",
      "[Voting] ...................... (2 of 4) Processing SVC, total=   4.5s\n",
      "[Voting] ..................... (3 of 4) Processing LGBM, total=   0.4s\n",
      "WARNING:tensorflow:Error in loading the saved optimizer state. As a result, your model is starting with a freshly initialized optimizer.\n",
      "[Voting] ...................... (4 of 4) Processing ANN, total=  22.8s\n",
      "Iterazione 37 [[0 6]\n",
      " [0 0]]\n",
      "accuracy 0.0\n"
     ]
    },
    {
     "name": "stderr",
     "output_type": "stream",
     "text": [
      "<ipython-input-54-0786b9e49dc3>:22: DeprecationWarning: KerasClassifier is deprecated, use Sci-Keras (https://github.com/adriangb/scikeras) instead.\n",
      "  ANN_best = keras.wrappers.scikit_learn.KerasClassifier(build_nn, epochs= 200, verbose=False)\n"
     ]
    },
    {
     "name": "stdout",
     "output_type": "stream",
     "text": [
      "[Voting] ...................... (1 of 4) Processing KNN, total=   0.0s\n",
      "[Voting] ...................... (2 of 4) Processing SVC, total=   4.8s\n",
      "[Voting] ..................... (3 of 4) Processing LGBM, total=   0.2s\n",
      "WARNING:tensorflow:Error in loading the saved optimizer state. As a result, your model is starting with a freshly initialized optimizer.\n",
      "[Voting] ...................... (4 of 4) Processing ANN, total=  27.8s\n",
      "Iterazione 38 [[1 2]\n",
      " [0 0]]\n",
      "accuracy 0.3333333333333333\n"
     ]
    },
    {
     "name": "stderr",
     "output_type": "stream",
     "text": [
      "<ipython-input-54-0786b9e49dc3>:22: DeprecationWarning: KerasClassifier is deprecated, use Sci-Keras (https://github.com/adriangb/scikeras) instead.\n",
      "  ANN_best = keras.wrappers.scikit_learn.KerasClassifier(build_nn, epochs= 200, verbose=False)\n"
     ]
    },
    {
     "name": "stdout",
     "output_type": "stream",
     "text": [
      "[Voting] ...................... (1 of 4) Processing KNN, total=   0.0s\n",
      "[Voting] ...................... (2 of 4) Processing SVC, total=   5.3s\n",
      "[Voting] ..................... (3 of 4) Processing LGBM, total=   0.6s\n",
      "WARNING:tensorflow:Error in loading the saved optimizer state. As a result, your model is starting with a freshly initialized optimizer.\n",
      "[Voting] ...................... (4 of 4) Processing ANN, total=  22.6s\n",
      "Iterazione 39 [[0 0]\n",
      " [6 2]]\n",
      "accuracy 0.25\n"
     ]
    },
    {
     "name": "stderr",
     "output_type": "stream",
     "text": [
      "<ipython-input-54-0786b9e49dc3>:22: DeprecationWarning: KerasClassifier is deprecated, use Sci-Keras (https://github.com/adriangb/scikeras) instead.\n",
      "  ANN_best = keras.wrappers.scikit_learn.KerasClassifier(build_nn, epochs= 200, verbose=False)\n"
     ]
    },
    {
     "name": "stdout",
     "output_type": "stream",
     "text": [
      "[Voting] ...................... (1 of 4) Processing KNN, total=   0.0s\n",
      "[Voting] ...................... (2 of 4) Processing SVC, total=   4.5s\n",
      "[Voting] ..................... (3 of 4) Processing LGBM, total=   0.2s\n",
      "WARNING:tensorflow:Error in loading the saved optimizer state. As a result, your model is starting with a freshly initialized optimizer.\n",
      "[Voting] ...................... (4 of 4) Processing ANN, total=  22.4s\n",
      "Iterazione 40 [[2 0]\n",
      " [0 0]]\n",
      "accuracy 1.0\n"
     ]
    },
    {
     "name": "stderr",
     "output_type": "stream",
     "text": [
      "<ipython-input-54-0786b9e49dc3>:22: DeprecationWarning: KerasClassifier is deprecated, use Sci-Keras (https://github.com/adriangb/scikeras) instead.\n",
      "  ANN_best = keras.wrappers.scikit_learn.KerasClassifier(build_nn, epochs= 200, verbose=False)\n"
     ]
    },
    {
     "name": "stdout",
     "output_type": "stream",
     "text": [
      "[Voting] ...................... (1 of 4) Processing KNN, total=   0.0s\n",
      "[Voting] ...................... (2 of 4) Processing SVC, total=   5.0s\n",
      "[Voting] ..................... (3 of 4) Processing LGBM, total=   0.3s\n",
      "WARNING:tensorflow:Error in loading the saved optimizer state. As a result, your model is starting with a freshly initialized optimizer.\n",
      "[Voting] ...................... (4 of 4) Processing ANN, total=  22.0s\n",
      "Iterazione 41 [[0 0]\n",
      " [1 1]]\n",
      "accuracy 0.5\n"
     ]
    },
    {
     "name": "stderr",
     "output_type": "stream",
     "text": [
      "<ipython-input-54-0786b9e49dc3>:22: DeprecationWarning: KerasClassifier is deprecated, use Sci-Keras (https://github.com/adriangb/scikeras) instead.\n",
      "  ANN_best = keras.wrappers.scikit_learn.KerasClassifier(build_nn, epochs= 200, verbose=False)\n"
     ]
    },
    {
     "name": "stdout",
     "output_type": "stream",
     "text": [
      "[Voting] ...................... (1 of 4) Processing KNN, total=   0.0s\n",
      "[Voting] ...................... (2 of 4) Processing SVC, total=   4.8s\n",
      "[Voting] ..................... (3 of 4) Processing LGBM, total=   0.2s\n",
      "WARNING:tensorflow:Error in loading the saved optimizer state. As a result, your model is starting with a freshly initialized optimizer.\n",
      "[Voting] ...................... (4 of 4) Processing ANN, total=  20.7s\n",
      "Iterazione 42 [[6 1]\n",
      " [0 0]]\n",
      "accuracy 0.8571428571428571\n"
     ]
    },
    {
     "name": "stderr",
     "output_type": "stream",
     "text": [
      "<ipython-input-54-0786b9e49dc3>:22: DeprecationWarning: KerasClassifier is deprecated, use Sci-Keras (https://github.com/adriangb/scikeras) instead.\n",
      "  ANN_best = keras.wrappers.scikit_learn.KerasClassifier(build_nn, epochs= 200, verbose=False)\n"
     ]
    },
    {
     "name": "stdout",
     "output_type": "stream",
     "text": [
      "[Voting] ...................... (1 of 4) Processing KNN, total=   0.0s\n",
      "[Voting] ...................... (2 of 4) Processing SVC, total=   4.6s\n",
      "[Voting] ..................... (3 of 4) Processing LGBM, total=   0.3s\n",
      "WARNING:tensorflow:Error in loading the saved optimizer state. As a result, your model is starting with a freshly initialized optimizer.\n",
      "[Voting] ...................... (4 of 4) Processing ANN, total=  20.3s\n",
      "Iterazione 43 [[0 0]\n",
      " [1 0]]\n",
      "accuracy 0.0\n"
     ]
    },
    {
     "name": "stderr",
     "output_type": "stream",
     "text": [
      "<ipython-input-54-0786b9e49dc3>:22: DeprecationWarning: KerasClassifier is deprecated, use Sci-Keras (https://github.com/adriangb/scikeras) instead.\n",
      "  ANN_best = keras.wrappers.scikit_learn.KerasClassifier(build_nn, epochs= 200, verbose=False)\n"
     ]
    },
    {
     "name": "stdout",
     "output_type": "stream",
     "text": [
      "[Voting] ...................... (1 of 4) Processing KNN, total=   0.0s\n",
      "[Voting] ...................... (2 of 4) Processing SVC, total=   4.5s\n",
      "[Voting] ..................... (3 of 4) Processing LGBM, total=   0.3s\n",
      "WARNING:tensorflow:Error in loading the saved optimizer state. As a result, your model is starting with a freshly initialized optimizer.\n",
      "[Voting] ...................... (4 of 4) Processing ANN, total=  21.0s\n",
      "Iterazione 44 [[0 0]\n",
      " [2 2]]\n",
      "accuracy 0.5\n"
     ]
    },
    {
     "name": "stderr",
     "output_type": "stream",
     "text": [
      "<ipython-input-54-0786b9e49dc3>:22: DeprecationWarning: KerasClassifier is deprecated, use Sci-Keras (https://github.com/adriangb/scikeras) instead.\n",
      "  ANN_best = keras.wrappers.scikit_learn.KerasClassifier(build_nn, epochs= 200, verbose=False)\n"
     ]
    },
    {
     "name": "stdout",
     "output_type": "stream",
     "text": [
      "[Voting] ...................... (1 of 4) Processing KNN, total=   0.0s\n",
      "[Voting] ...................... (2 of 4) Processing SVC, total=   4.7s\n",
      "[Voting] ..................... (3 of 4) Processing LGBM, total=   0.2s\n",
      "WARNING:tensorflow:Error in loading the saved optimizer state. As a result, your model is starting with a freshly initialized optimizer.\n",
      "[Voting] ...................... (4 of 4) Processing ANN, total=  20.9s\n",
      "Iterazione 45 [[0 0]\n",
      " [2 1]]\n",
      "accuracy 0.3333333333333333\n"
     ]
    },
    {
     "name": "stderr",
     "output_type": "stream",
     "text": [
      "<ipython-input-54-0786b9e49dc3>:22: DeprecationWarning: KerasClassifier is deprecated, use Sci-Keras (https://github.com/adriangb/scikeras) instead.\n",
      "  ANN_best = keras.wrappers.scikit_learn.KerasClassifier(build_nn, epochs= 200, verbose=False)\n"
     ]
    },
    {
     "name": "stdout",
     "output_type": "stream",
     "text": [
      "[Voting] ...................... (1 of 4) Processing KNN, total=   0.0s\n",
      "[Voting] ...................... (2 of 4) Processing SVC, total=   4.4s\n",
      "[Voting] ..................... (3 of 4) Processing LGBM, total=   0.4s\n",
      "WARNING:tensorflow:Error in loading the saved optimizer state. As a result, your model is starting with a freshly initialized optimizer.\n",
      "[Voting] ...................... (4 of 4) Processing ANN, total=  20.8s\n",
      "Iterazione 46 [[0 0]\n",
      " [3 1]]\n",
      "accuracy 0.25\n"
     ]
    },
    {
     "name": "stderr",
     "output_type": "stream",
     "text": [
      "<ipython-input-54-0786b9e49dc3>:22: DeprecationWarning: KerasClassifier is deprecated, use Sci-Keras (https://github.com/adriangb/scikeras) instead.\n",
      "  ANN_best = keras.wrappers.scikit_learn.KerasClassifier(build_nn, epochs= 200, verbose=False)\n"
     ]
    },
    {
     "name": "stdout",
     "output_type": "stream",
     "text": [
      "[Voting] ...................... (1 of 4) Processing KNN, total=   0.0s\n",
      "[Voting] ...................... (2 of 4) Processing SVC, total=   4.9s\n",
      "[Voting] ..................... (3 of 4) Processing LGBM, total=   0.3s\n",
      "WARNING:tensorflow:Error in loading the saved optimizer state. As a result, your model is starting with a freshly initialized optimizer.\n",
      "[Voting] ...................... (4 of 4) Processing ANN, total=  22.1s\n",
      "Iterazione 47 [[3 2]\n",
      " [0 0]]\n",
      "accuracy 0.6\n"
     ]
    },
    {
     "name": "stderr",
     "output_type": "stream",
     "text": [
      "<ipython-input-54-0786b9e49dc3>:22: DeprecationWarning: KerasClassifier is deprecated, use Sci-Keras (https://github.com/adriangb/scikeras) instead.\n",
      "  ANN_best = keras.wrappers.scikit_learn.KerasClassifier(build_nn, epochs= 200, verbose=False)\n"
     ]
    },
    {
     "name": "stdout",
     "output_type": "stream",
     "text": [
      "[Voting] ...................... (1 of 4) Processing KNN, total=   0.0s\n",
      "[Voting] ...................... (2 of 4) Processing SVC, total=   5.1s\n",
      "[Voting] ..................... (3 of 4) Processing LGBM, total=   0.3s\n",
      "WARNING:tensorflow:Error in loading the saved optimizer state. As a result, your model is starting with a freshly initialized optimizer.\n",
      "[Voting] ...................... (4 of 4) Processing ANN, total=  20.6s\n",
      "Iterazione 48 [[3 2]\n",
      " [0 0]]\n",
      "accuracy 0.6\n"
     ]
    },
    {
     "name": "stderr",
     "output_type": "stream",
     "text": [
      "<ipython-input-54-0786b9e49dc3>:22: DeprecationWarning: KerasClassifier is deprecated, use Sci-Keras (https://github.com/adriangb/scikeras) instead.\n",
      "  ANN_best = keras.wrappers.scikit_learn.KerasClassifier(build_nn, epochs= 200, verbose=False)\n"
     ]
    },
    {
     "name": "stdout",
     "output_type": "stream",
     "text": [
      "[Voting] ...................... (1 of 4) Processing KNN, total=   0.0s\n",
      "[Voting] ...................... (2 of 4) Processing SVC, total=   4.5s\n",
      "[Voting] ..................... (3 of 4) Processing LGBM, total=   0.2s\n",
      "WARNING:tensorflow:Error in loading the saved optimizer state. As a result, your model is starting with a freshly initialized optimizer.\n",
      "[Voting] ...................... (4 of 4) Processing ANN, total=  20.0s\n",
      "Iterazione 49 [[0 0]\n",
      " [0 4]]\n",
      "accuracy 1.0\n"
     ]
    },
    {
     "name": "stderr",
     "output_type": "stream",
     "text": [
      "<ipython-input-54-0786b9e49dc3>:22: DeprecationWarning: KerasClassifier is deprecated, use Sci-Keras (https://github.com/adriangb/scikeras) instead.\n",
      "  ANN_best = keras.wrappers.scikit_learn.KerasClassifier(build_nn, epochs= 200, verbose=False)\n"
     ]
    },
    {
     "name": "stdout",
     "output_type": "stream",
     "text": [
      "[Voting] ...................... (1 of 4) Processing KNN, total=   0.0s\n",
      "[Voting] ...................... (2 of 4) Processing SVC, total=   4.7s\n",
      "[Voting] ..................... (3 of 4) Processing LGBM, total=   0.2s\n",
      "WARNING:tensorflow:Error in loading the saved optimizer state. As a result, your model is starting with a freshly initialized optimizer.\n",
      "[Voting] ...................... (4 of 4) Processing ANN, total=  21.1s\n",
      "Iterazione 50 [[0 0]\n",
      " [0 2]]\n",
      "accuracy 1.0\n"
     ]
    },
    {
     "name": "stderr",
     "output_type": "stream",
     "text": [
      "<ipython-input-54-0786b9e49dc3>:22: DeprecationWarning: KerasClassifier is deprecated, use Sci-Keras (https://github.com/adriangb/scikeras) instead.\n",
      "  ANN_best = keras.wrappers.scikit_learn.KerasClassifier(build_nn, epochs= 200, verbose=False)\n"
     ]
    },
    {
     "name": "stdout",
     "output_type": "stream",
     "text": [
      "[Voting] ...................... (1 of 4) Processing KNN, total=   0.0s\n",
      "[Voting] ...................... (2 of 4) Processing SVC, total=   4.8s\n",
      "[Voting] ..................... (3 of 4) Processing LGBM, total=   0.5s\n",
      "WARNING:tensorflow:Error in loading the saved optimizer state. As a result, your model is starting with a freshly initialized optimizer.\n",
      "[Voting] ...................... (4 of 4) Processing ANN, total=  24.4s\n",
      "Iterazione 51 [[4 0]\n",
      " [0 0]]\n",
      "accuracy 1.0\n"
     ]
    },
    {
     "name": "stderr",
     "output_type": "stream",
     "text": [
      "<ipython-input-54-0786b9e49dc3>:22: DeprecationWarning: KerasClassifier is deprecated, use Sci-Keras (https://github.com/adriangb/scikeras) instead.\n",
      "  ANN_best = keras.wrappers.scikit_learn.KerasClassifier(build_nn, epochs= 200, verbose=False)\n"
     ]
    },
    {
     "name": "stdout",
     "output_type": "stream",
     "text": [
      "[Voting] ...................... (1 of 4) Processing KNN, total=   0.0s\n",
      "[Voting] ...................... (2 of 4) Processing SVC, total=   4.5s\n",
      "[Voting] ..................... (3 of 4) Processing LGBM, total=   0.2s\n",
      "WARNING:tensorflow:Error in loading the saved optimizer state. As a result, your model is starting with a freshly initialized optimizer.\n",
      "[Voting] ...................... (4 of 4) Processing ANN, total=  20.9s\n",
      "Iterazione 52 [[0 0]\n",
      " [3 0]]\n",
      "accuracy 0.0\n"
     ]
    },
    {
     "name": "stderr",
     "output_type": "stream",
     "text": [
      "<ipython-input-54-0786b9e49dc3>:22: DeprecationWarning: KerasClassifier is deprecated, use Sci-Keras (https://github.com/adriangb/scikeras) instead.\n",
      "  ANN_best = keras.wrappers.scikit_learn.KerasClassifier(build_nn, epochs= 200, verbose=False)\n"
     ]
    },
    {
     "name": "stdout",
     "output_type": "stream",
     "text": [
      "[Voting] ...................... (1 of 4) Processing KNN, total=   0.0s\n",
      "[Voting] ...................... (2 of 4) Processing SVC, total=   4.8s\n",
      "[Voting] ..................... (3 of 4) Processing LGBM, total=   0.3s\n",
      "WARNING:tensorflow:Error in loading the saved optimizer state. As a result, your model is starting with a freshly initialized optimizer.\n",
      "[Voting] ...................... (4 of 4) Processing ANN, total=  19.8s\n",
      "Iterazione 53 [[0 0]\n",
      " [2 0]]\n",
      "accuracy 0.0\n"
     ]
    },
    {
     "name": "stderr",
     "output_type": "stream",
     "text": [
      "<ipython-input-54-0786b9e49dc3>:22: DeprecationWarning: KerasClassifier is deprecated, use Sci-Keras (https://github.com/adriangb/scikeras) instead.\n",
      "  ANN_best = keras.wrappers.scikit_learn.KerasClassifier(build_nn, epochs= 200, verbose=False)\n"
     ]
    },
    {
     "name": "stdout",
     "output_type": "stream",
     "text": [
      "[Voting] ...................... (1 of 4) Processing KNN, total=   0.0s\n",
      "[Voting] ...................... (2 of 4) Processing SVC, total=   4.5s\n",
      "[Voting] ..................... (3 of 4) Processing LGBM, total=   0.2s\n",
      "WARNING:tensorflow:Error in loading the saved optimizer state. As a result, your model is starting with a freshly initialized optimizer.\n",
      "[Voting] ...................... (4 of 4) Processing ANN, total=  20.0s\n",
      "Iterazione 54 [[0 0]\n",
      " [1 6]]\n",
      "accuracy 0.8571428571428571\n"
     ]
    },
    {
     "name": "stderr",
     "output_type": "stream",
     "text": [
      "<ipython-input-54-0786b9e49dc3>:22: DeprecationWarning: KerasClassifier is deprecated, use Sci-Keras (https://github.com/adriangb/scikeras) instead.\n",
      "  ANN_best = keras.wrappers.scikit_learn.KerasClassifier(build_nn, epochs= 200, verbose=False)\n"
     ]
    },
    {
     "name": "stdout",
     "output_type": "stream",
     "text": [
      "[Voting] ...................... (1 of 4) Processing KNN, total=   0.0s\n",
      "[Voting] ...................... (2 of 4) Processing SVC, total=   4.6s\n",
      "[Voting] ..................... (3 of 4) Processing LGBM, total=   0.2s\n",
      "WARNING:tensorflow:Error in loading the saved optimizer state. As a result, your model is starting with a freshly initialized optimizer.\n",
      "[Voting] ...................... (4 of 4) Processing ANN, total=  21.5s\n",
      "Iterazione 55 [[6 0]\n",
      " [0 0]]\n",
      "accuracy 1.0\n"
     ]
    },
    {
     "name": "stderr",
     "output_type": "stream",
     "text": [
      "<ipython-input-54-0786b9e49dc3>:22: DeprecationWarning: KerasClassifier is deprecated, use Sci-Keras (https://github.com/adriangb/scikeras) instead.\n",
      "  ANN_best = keras.wrappers.scikit_learn.KerasClassifier(build_nn, epochs= 200, verbose=False)\n"
     ]
    },
    {
     "name": "stdout",
     "output_type": "stream",
     "text": [
      "[Voting] ...................... (1 of 4) Processing KNN, total=   0.0s\n",
      "[Voting] ...................... (2 of 4) Processing SVC, total=   5.6s\n",
      "[Voting] ..................... (3 of 4) Processing LGBM, total=   0.5s\n",
      "WARNING:tensorflow:Error in loading the saved optimizer state. As a result, your model is starting with a freshly initialized optimizer.\n",
      "[Voting] ...................... (4 of 4) Processing ANN, total=  20.6s\n",
      "Iterazione 56 [[0 0]\n",
      " [0 4]]\n",
      "accuracy 1.0\n"
     ]
    },
    {
     "name": "stderr",
     "output_type": "stream",
     "text": [
      "<ipython-input-54-0786b9e49dc3>:22: DeprecationWarning: KerasClassifier is deprecated, use Sci-Keras (https://github.com/adriangb/scikeras) instead.\n",
      "  ANN_best = keras.wrappers.scikit_learn.KerasClassifier(build_nn, epochs= 200, verbose=False)\n"
     ]
    },
    {
     "name": "stdout",
     "output_type": "stream",
     "text": [
      "[Voting] ...................... (1 of 4) Processing KNN, total=   0.0s\n",
      "[Voting] ...................... (2 of 4) Processing SVC, total=   4.7s\n",
      "[Voting] ..................... (3 of 4) Processing LGBM, total=   0.2s\n",
      "WARNING:tensorflow:Error in loading the saved optimizer state. As a result, your model is starting with a freshly initialized optimizer.\n",
      "[Voting] ...................... (4 of 4) Processing ANN, total=  21.8s\n",
      "Iterazione 57 [[1 2]\n",
      " [0 0]]\n",
      "accuracy 0.3333333333333333\n"
     ]
    },
    {
     "name": "stderr",
     "output_type": "stream",
     "text": [
      "<ipython-input-54-0786b9e49dc3>:22: DeprecationWarning: KerasClassifier is deprecated, use Sci-Keras (https://github.com/adriangb/scikeras) instead.\n",
      "  ANN_best = keras.wrappers.scikit_learn.KerasClassifier(build_nn, epochs= 200, verbose=False)\n"
     ]
    },
    {
     "name": "stdout",
     "output_type": "stream",
     "text": [
      "[Voting] ...................... (1 of 4) Processing KNN, total=   0.0s\n",
      "[Voting] ...................... (2 of 4) Processing SVC, total=   4.5s\n",
      "[Voting] ..................... (3 of 4) Processing LGBM, total=   0.2s\n",
      "WARNING:tensorflow:Error in loading the saved optimizer state. As a result, your model is starting with a freshly initialized optimizer.\n",
      "[Voting] ...................... (4 of 4) Processing ANN, total=  21.6s\n",
      "Iterazione 58 [[2 1]\n",
      " [0 0]]\n",
      "accuracy 0.6666666666666666\n"
     ]
    },
    {
     "name": "stderr",
     "output_type": "stream",
     "text": [
      "<ipython-input-54-0786b9e49dc3>:22: DeprecationWarning: KerasClassifier is deprecated, use Sci-Keras (https://github.com/adriangb/scikeras) instead.\n",
      "  ANN_best = keras.wrappers.scikit_learn.KerasClassifier(build_nn, epochs= 200, verbose=False)\n"
     ]
    },
    {
     "name": "stdout",
     "output_type": "stream",
     "text": [
      "[Voting] ...................... (1 of 4) Processing KNN, total=   0.0s\n",
      "[Voting] ...................... (2 of 4) Processing SVC, total=   4.6s\n",
      "[Voting] ..................... (3 of 4) Processing LGBM, total=   0.2s\n",
      "WARNING:tensorflow:Error in loading the saved optimizer state. As a result, your model is starting with a freshly initialized optimizer.\n",
      "[Voting] ...................... (4 of 4) Processing ANN, total=  22.6s\n",
      "Iterazione 59 [[2 3]\n",
      " [0 0]]\n",
      "accuracy 0.4\n"
     ]
    },
    {
     "name": "stderr",
     "output_type": "stream",
     "text": [
      "<ipython-input-54-0786b9e49dc3>:22: DeprecationWarning: KerasClassifier is deprecated, use Sci-Keras (https://github.com/adriangb/scikeras) instead.\n",
      "  ANN_best = keras.wrappers.scikit_learn.KerasClassifier(build_nn, epochs= 200, verbose=False)\n"
     ]
    },
    {
     "name": "stdout",
     "output_type": "stream",
     "text": [
      "[Voting] ...................... (1 of 4) Processing KNN, total=   0.0s\n",
      "[Voting] ...................... (2 of 4) Processing SVC, total=   5.3s\n",
      "[Voting] ..................... (3 of 4) Processing LGBM, total=   0.3s\n",
      "WARNING:tensorflow:Error in loading the saved optimizer state. As a result, your model is starting with a freshly initialized optimizer.\n",
      "[Voting] ...................... (4 of 4) Processing ANN, total=  20.9s\n",
      "Iterazione 60 [[2 0]\n",
      " [0 0]]\n",
      "accuracy 1.0\n"
     ]
    },
    {
     "name": "stderr",
     "output_type": "stream",
     "text": [
      "<ipython-input-54-0786b9e49dc3>:22: DeprecationWarning: KerasClassifier is deprecated, use Sci-Keras (https://github.com/adriangb/scikeras) instead.\n",
      "  ANN_best = keras.wrappers.scikit_learn.KerasClassifier(build_nn, epochs= 200, verbose=False)\n"
     ]
    },
    {
     "name": "stdout",
     "output_type": "stream",
     "text": [
      "[Voting] ...................... (1 of 4) Processing KNN, total=   0.0s\n",
      "[Voting] ...................... (2 of 4) Processing SVC, total=   5.3s\n",
      "[Voting] ..................... (3 of 4) Processing LGBM, total=   0.3s\n",
      "WARNING:tensorflow:Error in loading the saved optimizer state. As a result, your model is starting with a freshly initialized optimizer.\n",
      "[Voting] ...................... (4 of 4) Processing ANN, total=  22.4s\n",
      "Iterazione 61 [[0 0]\n",
      " [0 6]]\n",
      "accuracy 1.0\n"
     ]
    },
    {
     "name": "stderr",
     "output_type": "stream",
     "text": [
      "<ipython-input-54-0786b9e49dc3>:22: DeprecationWarning: KerasClassifier is deprecated, use Sci-Keras (https://github.com/adriangb/scikeras) instead.\n",
      "  ANN_best = keras.wrappers.scikit_learn.KerasClassifier(build_nn, epochs= 200, verbose=False)\n"
     ]
    },
    {
     "name": "stdout",
     "output_type": "stream",
     "text": [
      "[Voting] ...................... (1 of 4) Processing KNN, total=   0.0s\n",
      "[Voting] ...................... (2 of 4) Processing SVC, total=   4.9s\n",
      "[Voting] ..................... (3 of 4) Processing LGBM, total=   0.2s\n",
      "WARNING:tensorflow:Error in loading the saved optimizer state. As a result, your model is starting with a freshly initialized optimizer.\n",
      "[Voting] ...................... (4 of 4) Processing ANN, total=  20.2s\n",
      "Iterazione 62 [[0 0]\n",
      " [3 2]]\n",
      "accuracy 0.4\n"
     ]
    },
    {
     "name": "stderr",
     "output_type": "stream",
     "text": [
      "<ipython-input-54-0786b9e49dc3>:22: DeprecationWarning: KerasClassifier is deprecated, use Sci-Keras (https://github.com/adriangb/scikeras) instead.\n",
      "  ANN_best = keras.wrappers.scikit_learn.KerasClassifier(build_nn, epochs= 200, verbose=False)\n"
     ]
    },
    {
     "name": "stdout",
     "output_type": "stream",
     "text": [
      "[Voting] ...................... (1 of 4) Processing KNN, total=   0.0s\n",
      "[Voting] ...................... (2 of 4) Processing SVC, total=   5.2s\n",
      "[Voting] ..................... (3 of 4) Processing LGBM, total=   0.2s\n",
      "WARNING:tensorflow:Error in loading the saved optimizer state. As a result, your model is starting with a freshly initialized optimizer.\n",
      "[Voting] ...................... (4 of 4) Processing ANN, total=  20.2s\n",
      "Iterazione 63 [[0 2]\n",
      " [0 0]]\n",
      "accuracy 0.0\n"
     ]
    },
    {
     "name": "stderr",
     "output_type": "stream",
     "text": [
      "<ipython-input-54-0786b9e49dc3>:22: DeprecationWarning: KerasClassifier is deprecated, use Sci-Keras (https://github.com/adriangb/scikeras) instead.\n",
      "  ANN_best = keras.wrappers.scikit_learn.KerasClassifier(build_nn, epochs= 200, verbose=False)\n"
     ]
    },
    {
     "name": "stdout",
     "output_type": "stream",
     "text": [
      "[Voting] ...................... (1 of 4) Processing KNN, total=   0.0s\n",
      "[Voting] ...................... (2 of 4) Processing SVC, total=   4.9s\n",
      "[Voting] ..................... (3 of 4) Processing LGBM, total=   0.2s\n",
      "WARNING:tensorflow:Error in loading the saved optimizer state. As a result, your model is starting with a freshly initialized optimizer.\n",
      "[Voting] ...................... (4 of 4) Processing ANN, total=  21.7s\n",
      "Iterazione 64 [[3 4]\n",
      " [0 0]]\n",
      "accuracy 0.42857142857142855\n"
     ]
    },
    {
     "name": "stderr",
     "output_type": "stream",
     "text": [
      "<ipython-input-54-0786b9e49dc3>:22: DeprecationWarning: KerasClassifier is deprecated, use Sci-Keras (https://github.com/adriangb/scikeras) instead.\n",
      "  ANN_best = keras.wrappers.scikit_learn.KerasClassifier(build_nn, epochs= 200, verbose=False)\n"
     ]
    },
    {
     "name": "stdout",
     "output_type": "stream",
     "text": [
      "[Voting] ...................... (1 of 4) Processing KNN, total=   0.0s\n",
      "[Voting] ...................... (2 of 4) Processing SVC, total=   5.0s\n",
      "[Voting] ..................... (3 of 4) Processing LGBM, total=   0.3s\n",
      "WARNING:tensorflow:Error in loading the saved optimizer state. As a result, your model is starting with a freshly initialized optimizer.\n",
      "[Voting] ...................... (4 of 4) Processing ANN, total=  21.3s\n",
      "Iterazione 65 [[0 0]\n",
      " [4 3]]\n",
      "accuracy 0.42857142857142855\n"
     ]
    },
    {
     "name": "stderr",
     "output_type": "stream",
     "text": [
      "<ipython-input-54-0786b9e49dc3>:22: DeprecationWarning: KerasClassifier is deprecated, use Sci-Keras (https://github.com/adriangb/scikeras) instead.\n",
      "  ANN_best = keras.wrappers.scikit_learn.KerasClassifier(build_nn, epochs= 200, verbose=False)\n"
     ]
    },
    {
     "name": "stdout",
     "output_type": "stream",
     "text": [
      "[Voting] ...................... (1 of 4) Processing KNN, total=   0.0s\n",
      "[Voting] ...................... (2 of 4) Processing SVC, total=   4.4s\n",
      "[Voting] ..................... (3 of 4) Processing LGBM, total=   0.2s\n",
      "WARNING:tensorflow:Error in loading the saved optimizer state. As a result, your model is starting with a freshly initialized optimizer.\n",
      "[Voting] ...................... (4 of 4) Processing ANN, total=  19.5s\n",
      "Iterazione 66 [[0 3]\n",
      " [0 0]]\n",
      "accuracy 0.0\n"
     ]
    },
    {
     "name": "stderr",
     "output_type": "stream",
     "text": [
      "<ipython-input-54-0786b9e49dc3>:22: DeprecationWarning: KerasClassifier is deprecated, use Sci-Keras (https://github.com/adriangb/scikeras) instead.\n",
      "  ANN_best = keras.wrappers.scikit_learn.KerasClassifier(build_nn, epochs= 200, verbose=False)\n"
     ]
    },
    {
     "name": "stdout",
     "output_type": "stream",
     "text": [
      "[Voting] ...................... (1 of 4) Processing KNN, total=   0.0s\n",
      "[Voting] ...................... (2 of 4) Processing SVC, total=   4.5s\n",
      "[Voting] ..................... (3 of 4) Processing LGBM, total=   0.2s\n",
      "WARNING:tensorflow:Error in loading the saved optimizer state. As a result, your model is starting with a freshly initialized optimizer.\n",
      "[Voting] ...................... (4 of 4) Processing ANN, total=  19.5s\n",
      "Iterazione 67 [[0 0]\n",
      " [1 3]]\n",
      "accuracy 0.75\n"
     ]
    },
    {
     "name": "stderr",
     "output_type": "stream",
     "text": [
      "<ipython-input-54-0786b9e49dc3>:22: DeprecationWarning: KerasClassifier is deprecated, use Sci-Keras (https://github.com/adriangb/scikeras) instead.\n",
      "  ANN_best = keras.wrappers.scikit_learn.KerasClassifier(build_nn, epochs= 200, verbose=False)\n"
     ]
    },
    {
     "name": "stdout",
     "output_type": "stream",
     "text": [
      "[Voting] ...................... (1 of 4) Processing KNN, total=   0.0s\n",
      "[Voting] ...................... (2 of 4) Processing SVC, total=   4.6s\n",
      "[Voting] ..................... (3 of 4) Processing LGBM, total=   0.2s\n",
      "WARNING:tensorflow:Error in loading the saved optimizer state. As a result, your model is starting with a freshly initialized optimizer.\n",
      "[Voting] ...................... (4 of 4) Processing ANN, total=  19.5s\n",
      "Iterazione 68 [[0 0]\n",
      " [1 6]]\n",
      "accuracy 0.8571428571428571\n"
     ]
    },
    {
     "name": "stderr",
     "output_type": "stream",
     "text": [
      "<ipython-input-54-0786b9e49dc3>:22: DeprecationWarning: KerasClassifier is deprecated, use Sci-Keras (https://github.com/adriangb/scikeras) instead.\n",
      "  ANN_best = keras.wrappers.scikit_learn.KerasClassifier(build_nn, epochs= 200, verbose=False)\n"
     ]
    },
    {
     "name": "stdout",
     "output_type": "stream",
     "text": [
      "[Voting] ...................... (1 of 4) Processing KNN, total=   0.0s\n",
      "[Voting] ...................... (2 of 4) Processing SVC, total=   4.6s\n",
      "[Voting] ..................... (3 of 4) Processing LGBM, total=   0.2s\n",
      "WARNING:tensorflow:Error in loading the saved optimizer state. As a result, your model is starting with a freshly initialized optimizer.\n",
      "[Voting] ...................... (4 of 4) Processing ANN, total=  19.5s\n",
      "Iterazione 69 [[1 1]\n",
      " [0 0]]\n",
      "accuracy 0.5\n"
     ]
    },
    {
     "name": "stderr",
     "output_type": "stream",
     "text": [
      "<ipython-input-54-0786b9e49dc3>:22: DeprecationWarning: KerasClassifier is deprecated, use Sci-Keras (https://github.com/adriangb/scikeras) instead.\n",
      "  ANN_best = keras.wrappers.scikit_learn.KerasClassifier(build_nn, epochs= 200, verbose=False)\n"
     ]
    },
    {
     "name": "stdout",
     "output_type": "stream",
     "text": [
      "[Voting] ...................... (1 of 4) Processing KNN, total=   0.0s\n",
      "[Voting] ...................... (2 of 4) Processing SVC, total=   4.7s\n",
      "[Voting] ..................... (3 of 4) Processing LGBM, total=   0.2s\n",
      "WARNING:tensorflow:Error in loading the saved optimizer state. As a result, your model is starting with a freshly initialized optimizer.\n",
      "[Voting] ...................... (4 of 4) Processing ANN, total=  24.2s\n",
      "Iterazione 70 [[2 1]\n",
      " [0 0]]\n",
      "accuracy 0.6666666666666666\n"
     ]
    },
    {
     "name": "stderr",
     "output_type": "stream",
     "text": [
      "<ipython-input-54-0786b9e49dc3>:22: DeprecationWarning: KerasClassifier is deprecated, use Sci-Keras (https://github.com/adriangb/scikeras) instead.\n",
      "  ANN_best = keras.wrappers.scikit_learn.KerasClassifier(build_nn, epochs= 200, verbose=False)\n"
     ]
    },
    {
     "name": "stdout",
     "output_type": "stream",
     "text": [
      "[Voting] ...................... (1 of 4) Processing KNN, total=   0.1s\n",
      "[Voting] ...................... (2 of 4) Processing SVC, total=   8.0s\n",
      "[Voting] ..................... (3 of 4) Processing LGBM, total=   0.7s\n",
      "WARNING:tensorflow:Error in loading the saved optimizer state. As a result, your model is starting with a freshly initialized optimizer.\n",
      "[Voting] ...................... (4 of 4) Processing ANN, total=  37.8s\n",
      "Iterazione 71 [[1 2]\n",
      " [0 0]]\n",
      "accuracy 0.3333333333333333\n"
     ]
    },
    {
     "name": "stderr",
     "output_type": "stream",
     "text": [
      "<ipython-input-54-0786b9e49dc3>:22: DeprecationWarning: KerasClassifier is deprecated, use Sci-Keras (https://github.com/adriangb/scikeras) instead.\n",
      "  ANN_best = keras.wrappers.scikit_learn.KerasClassifier(build_nn, epochs= 200, verbose=False)\n"
     ]
    },
    {
     "name": "stdout",
     "output_type": "stream",
     "text": [
      "[Voting] ...................... (1 of 4) Processing KNN, total=   0.0s\n",
      "[Voting] ...................... (2 of 4) Processing SVC, total=   5.9s\n",
      "[Voting] ..................... (3 of 4) Processing LGBM, total=   0.4s\n",
      "WARNING:tensorflow:Error in loading the saved optimizer state. As a result, your model is starting with a freshly initialized optimizer.\n",
      "[Voting] ...................... (4 of 4) Processing ANN, total=  25.0s\n",
      "Iterazione 72 [[0 0]\n",
      " [2 3]]\n",
      "accuracy 0.6\n"
     ]
    },
    {
     "name": "stderr",
     "output_type": "stream",
     "text": [
      "<ipython-input-54-0786b9e49dc3>:22: DeprecationWarning: KerasClassifier is deprecated, use Sci-Keras (https://github.com/adriangb/scikeras) instead.\n",
      "  ANN_best = keras.wrappers.scikit_learn.KerasClassifier(build_nn, epochs= 200, verbose=False)\n"
     ]
    },
    {
     "name": "stdout",
     "output_type": "stream",
     "text": [
      "[Voting] ...................... (1 of 4) Processing KNN, total=   0.0s\n",
      "[Voting] ...................... (2 of 4) Processing SVC, total=   5.9s\n",
      "[Voting] ..................... (3 of 4) Processing LGBM, total=   0.3s\n",
      "WARNING:tensorflow:Error in loading the saved optimizer state. As a result, your model is starting with a freshly initialized optimizer.\n",
      "[Voting] ...................... (4 of 4) Processing ANN, total=  25.5s\n",
      "Iterazione 73 [[2 1]\n",
      " [0 0]]\n",
      "accuracy 0.6666666666666666\n"
     ]
    },
    {
     "name": "stderr",
     "output_type": "stream",
     "text": [
      "<ipython-input-54-0786b9e49dc3>:22: DeprecationWarning: KerasClassifier is deprecated, use Sci-Keras (https://github.com/adriangb/scikeras) instead.\n",
      "  ANN_best = keras.wrappers.scikit_learn.KerasClassifier(build_nn, epochs= 200, verbose=False)\n"
     ]
    },
    {
     "name": "stdout",
     "output_type": "stream",
     "text": [
      "[Voting] ...................... (1 of 4) Processing KNN, total=   0.0s\n",
      "[Voting] ...................... (2 of 4) Processing SVC, total=   5.4s\n",
      "[Voting] ..................... (3 of 4) Processing LGBM, total=   0.4s\n",
      "WARNING:tensorflow:Error in loading the saved optimizer state. As a result, your model is starting with a freshly initialized optimizer.\n",
      "[Voting] ...................... (4 of 4) Processing ANN, total=  25.1s\n",
      "Iterazione 74 [[1 2]\n",
      " [0 0]]\n",
      "accuracy 0.3333333333333333\n"
     ]
    },
    {
     "name": "stderr",
     "output_type": "stream",
     "text": [
      "<ipython-input-54-0786b9e49dc3>:22: DeprecationWarning: KerasClassifier is deprecated, use Sci-Keras (https://github.com/adriangb/scikeras) instead.\n",
      "  ANN_best = keras.wrappers.scikit_learn.KerasClassifier(build_nn, epochs= 200, verbose=False)\n"
     ]
    },
    {
     "name": "stdout",
     "output_type": "stream",
     "text": [
      "[Voting] ...................... (1 of 4) Processing KNN, total=   0.0s\n",
      "[Voting] ...................... (2 of 4) Processing SVC, total=   5.6s\n",
      "[Voting] ..................... (3 of 4) Processing LGBM, total=   0.4s\n",
      "WARNING:tensorflow:Error in loading the saved optimizer state. As a result, your model is starting with a freshly initialized optimizer.\n",
      "[Voting] ...................... (4 of 4) Processing ANN, total=  27.7s\n",
      "Iterazione 75 [[2 1]\n",
      " [0 0]]\n",
      "accuracy 0.6666666666666666\n"
     ]
    },
    {
     "name": "stderr",
     "output_type": "stream",
     "text": [
      "<ipython-input-54-0786b9e49dc3>:22: DeprecationWarning: KerasClassifier is deprecated, use Sci-Keras (https://github.com/adriangb/scikeras) instead.\n",
      "  ANN_best = keras.wrappers.scikit_learn.KerasClassifier(build_nn, epochs= 200, verbose=False)\n"
     ]
    },
    {
     "name": "stdout",
     "output_type": "stream",
     "text": [
      "[Voting] ...................... (1 of 4) Processing KNN, total=   0.0s\n",
      "[Voting] ...................... (2 of 4) Processing SVC, total=   5.7s\n",
      "[Voting] ..................... (3 of 4) Processing LGBM, total=   0.3s\n",
      "WARNING:tensorflow:Error in loading the saved optimizer state. As a result, your model is starting with a freshly initialized optimizer.\n",
      "[Voting] ...................... (4 of 4) Processing ANN, total=  25.8s\n",
      "Iterazione 76 [[0 0]\n",
      " [1 6]]\n",
      "accuracy 0.8571428571428571\n"
     ]
    },
    {
     "name": "stderr",
     "output_type": "stream",
     "text": [
      "<ipython-input-54-0786b9e49dc3>:22: DeprecationWarning: KerasClassifier is deprecated, use Sci-Keras (https://github.com/adriangb/scikeras) instead.\n",
      "  ANN_best = keras.wrappers.scikit_learn.KerasClassifier(build_nn, epochs= 200, verbose=False)\n"
     ]
    },
    {
     "name": "stdout",
     "output_type": "stream",
     "text": [
      "[Voting] ...................... (1 of 4) Processing KNN, total=   0.0s\n",
      "[Voting] ...................... (2 of 4) Processing SVC, total=   5.4s\n",
      "[Voting] ..................... (3 of 4) Processing LGBM, total=   0.3s\n",
      "WARNING:tensorflow:Error in loading the saved optimizer state. As a result, your model is starting with a freshly initialized optimizer.\n",
      "[Voting] ...................... (4 of 4) Processing ANN, total=  25.1s\n",
      "Iterazione 77 [[0 0]\n",
      " [0 2]]\n",
      "accuracy 1.0\n"
     ]
    },
    {
     "name": "stderr",
     "output_type": "stream",
     "text": [
      "<ipython-input-54-0786b9e49dc3>:22: DeprecationWarning: KerasClassifier is deprecated, use Sci-Keras (https://github.com/adriangb/scikeras) instead.\n",
      "  ANN_best = keras.wrappers.scikit_learn.KerasClassifier(build_nn, epochs= 200, verbose=False)\n"
     ]
    },
    {
     "name": "stdout",
     "output_type": "stream",
     "text": [
      "[Voting] ...................... (1 of 4) Processing KNN, total=   0.0s\n",
      "[Voting] ...................... (2 of 4) Processing SVC, total=   5.1s\n",
      "[Voting] ..................... (3 of 4) Processing LGBM, total=   0.4s\n",
      "WARNING:tensorflow:Error in loading the saved optimizer state. As a result, your model is starting with a freshly initialized optimizer.\n",
      "[Voting] ...................... (4 of 4) Processing ANN, total=  24.8s\n",
      "Iterazione 78 [[4 4]\n",
      " [0 0]]\n",
      "accuracy 0.5\n"
     ]
    },
    {
     "name": "stderr",
     "output_type": "stream",
     "text": [
      "<ipython-input-54-0786b9e49dc3>:22: DeprecationWarning: KerasClassifier is deprecated, use Sci-Keras (https://github.com/adriangb/scikeras) instead.\n",
      "  ANN_best = keras.wrappers.scikit_learn.KerasClassifier(build_nn, epochs= 200, verbose=False)\n"
     ]
    },
    {
     "name": "stdout",
     "output_type": "stream",
     "text": [
      "[Voting] ...................... (1 of 4) Processing KNN, total=   0.0s\n",
      "[Voting] ...................... (2 of 4) Processing SVC, total=   4.8s\n",
      "[Voting] ..................... (3 of 4) Processing LGBM, total=   0.2s\n",
      "WARNING:tensorflow:Error in loading the saved optimizer state. As a result, your model is starting with a freshly initialized optimizer.\n",
      "[Voting] ...................... (4 of 4) Processing ANN, total=  23.2s\n",
      "Iterazione 79 [[0 0]\n",
      " [0 1]]\n",
      "accuracy 1.0\n"
     ]
    },
    {
     "name": "stderr",
     "output_type": "stream",
     "text": [
      "<ipython-input-54-0786b9e49dc3>:22: DeprecationWarning: KerasClassifier is deprecated, use Sci-Keras (https://github.com/adriangb/scikeras) instead.\n",
      "  ANN_best = keras.wrappers.scikit_learn.KerasClassifier(build_nn, epochs= 200, verbose=False)\n"
     ]
    },
    {
     "name": "stdout",
     "output_type": "stream",
     "text": [
      "[Voting] ...................... (1 of 4) Processing KNN, total=   0.0s\n",
      "[Voting] ...................... (2 of 4) Processing SVC, total=   4.5s\n",
      "[Voting] ..................... (3 of 4) Processing LGBM, total=   0.2s\n",
      "WARNING:tensorflow:Error in loading the saved optimizer state. As a result, your model is starting with a freshly initialized optimizer.\n",
      "[Voting] ...................... (4 of 4) Processing ANN, total=  22.2s\n",
      "Iterazione 80 [[2 0]\n",
      " [0 0]]\n",
      "accuracy 1.0\n"
     ]
    },
    {
     "name": "stderr",
     "output_type": "stream",
     "text": [
      "<ipython-input-54-0786b9e49dc3>:22: DeprecationWarning: KerasClassifier is deprecated, use Sci-Keras (https://github.com/adriangb/scikeras) instead.\n",
      "  ANN_best = keras.wrappers.scikit_learn.KerasClassifier(build_nn, epochs= 200, verbose=False)\n"
     ]
    },
    {
     "name": "stdout",
     "output_type": "stream",
     "text": [
      "[Voting] ...................... (1 of 4) Processing KNN, total=   0.0s\n",
      "[Voting] ...................... (2 of 4) Processing SVC, total=   5.4s\n",
      "[Voting] ..................... (3 of 4) Processing LGBM, total=   0.2s\n",
      "WARNING:tensorflow:Error in loading the saved optimizer state. As a result, your model is starting with a freshly initialized optimizer.\n",
      "[Voting] ...................... (4 of 4) Processing ANN, total=  20.5s\n",
      "Iterazione 81 [[5 1]\n",
      " [0 0]]\n",
      "accuracy 0.8333333333333334\n"
     ]
    },
    {
     "name": "stderr",
     "output_type": "stream",
     "text": [
      "<ipython-input-54-0786b9e49dc3>:22: DeprecationWarning: KerasClassifier is deprecated, use Sci-Keras (https://github.com/adriangb/scikeras) instead.\n",
      "  ANN_best = keras.wrappers.scikit_learn.KerasClassifier(build_nn, epochs= 200, verbose=False)\n"
     ]
    },
    {
     "name": "stdout",
     "output_type": "stream",
     "text": [
      "[Voting] ...................... (1 of 4) Processing KNN, total=   0.0s\n",
      "[Voting] ...................... (2 of 4) Processing SVC, total=   4.9s\n",
      "[Voting] ..................... (3 of 4) Processing LGBM, total=   0.3s\n",
      "WARNING:tensorflow:Error in loading the saved optimizer state. As a result, your model is starting with a freshly initialized optimizer.\n",
      "[Voting] ...................... (4 of 4) Processing ANN, total=  23.0s\n",
      "Iterazione 82 [[0 0]\n",
      " [4 1]]\n",
      "accuracy 0.2\n"
     ]
    },
    {
     "name": "stderr",
     "output_type": "stream",
     "text": [
      "<ipython-input-54-0786b9e49dc3>:22: DeprecationWarning: KerasClassifier is deprecated, use Sci-Keras (https://github.com/adriangb/scikeras) instead.\n",
      "  ANN_best = keras.wrappers.scikit_learn.KerasClassifier(build_nn, epochs= 200, verbose=False)\n"
     ]
    },
    {
     "name": "stdout",
     "output_type": "stream",
     "text": [
      "[Voting] ...................... (1 of 4) Processing KNN, total=   0.0s\n",
      "[Voting] ...................... (2 of 4) Processing SVC, total=   5.0s\n",
      "[Voting] ..................... (3 of 4) Processing LGBM, total=   0.3s\n",
      "WARNING:tensorflow:Error in loading the saved optimizer state. As a result, your model is starting with a freshly initialized optimizer.\n",
      "[Voting] ...................... (4 of 4) Processing ANN, total=  19.8s\n",
      "Iterazione 83 [[0 0]\n",
      " [1 3]]\n",
      "accuracy 0.75\n"
     ]
    },
    {
     "name": "stderr",
     "output_type": "stream",
     "text": [
      "<ipython-input-54-0786b9e49dc3>:22: DeprecationWarning: KerasClassifier is deprecated, use Sci-Keras (https://github.com/adriangb/scikeras) instead.\n",
      "  ANN_best = keras.wrappers.scikit_learn.KerasClassifier(build_nn, epochs= 200, verbose=False)\n"
     ]
    },
    {
     "name": "stdout",
     "output_type": "stream",
     "text": [
      "[Voting] ...................... (1 of 4) Processing KNN, total=   0.0s\n",
      "[Voting] ...................... (2 of 4) Processing SVC, total=   4.4s\n",
      "[Voting] ..................... (3 of 4) Processing LGBM, total=   0.2s\n",
      "WARNING:tensorflow:Error in loading the saved optimizer state. As a result, your model is starting with a freshly initialized optimizer.\n",
      "[Voting] ...................... (4 of 4) Processing ANN, total=  21.6s\n",
      "Iterazione 84 [[2 5]\n",
      " [0 0]]\n",
      "accuracy 0.2857142857142857\n"
     ]
    },
    {
     "name": "stderr",
     "output_type": "stream",
     "text": [
      "<ipython-input-54-0786b9e49dc3>:22: DeprecationWarning: KerasClassifier is deprecated, use Sci-Keras (https://github.com/adriangb/scikeras) instead.\n",
      "  ANN_best = keras.wrappers.scikit_learn.KerasClassifier(build_nn, epochs= 200, verbose=False)\n"
     ]
    },
    {
     "name": "stdout",
     "output_type": "stream",
     "text": [
      "[Voting] ...................... (1 of 4) Processing KNN, total=   0.0s\n",
      "[Voting] ...................... (2 of 4) Processing SVC, total=   4.7s\n",
      "[Voting] ..................... (3 of 4) Processing LGBM, total=   0.3s\n",
      "WARNING:tensorflow:Error in loading the saved optimizer state. As a result, your model is starting with a freshly initialized optimizer.\n",
      "[Voting] ...................... (4 of 4) Processing ANN, total=  20.8s\n",
      "Iterazione 85 [[0 0]\n",
      " [0 3]]\n",
      "accuracy 1.0\n"
     ]
    },
    {
     "name": "stderr",
     "output_type": "stream",
     "text": [
      "<ipython-input-54-0786b9e49dc3>:22: DeprecationWarning: KerasClassifier is deprecated, use Sci-Keras (https://github.com/adriangb/scikeras) instead.\n",
      "  ANN_best = keras.wrappers.scikit_learn.KerasClassifier(build_nn, epochs= 200, verbose=False)\n"
     ]
    },
    {
     "name": "stdout",
     "output_type": "stream",
     "text": [
      "[Voting] ...................... (1 of 4) Processing KNN, total=   0.0s\n",
      "[Voting] ...................... (2 of 4) Processing SVC, total=   5.0s\n",
      "[Voting] ..................... (3 of 4) Processing LGBM, total=   0.2s\n",
      "WARNING:tensorflow:Error in loading the saved optimizer state. As a result, your model is starting with a freshly initialized optimizer.\n",
      "[Voting] ...................... (4 of 4) Processing ANN, total=  20.6s\n",
      "Iterazione 86 [[2 2]\n",
      " [0 0]]\n",
      "accuracy 0.5\n"
     ]
    },
    {
     "name": "stderr",
     "output_type": "stream",
     "text": [
      "<ipython-input-54-0786b9e49dc3>:22: DeprecationWarning: KerasClassifier is deprecated, use Sci-Keras (https://github.com/adriangb/scikeras) instead.\n",
      "  ANN_best = keras.wrappers.scikit_learn.KerasClassifier(build_nn, epochs= 200, verbose=False)\n"
     ]
    },
    {
     "name": "stdout",
     "output_type": "stream",
     "text": [
      "[Voting] ...................... (1 of 4) Processing KNN, total=   0.0s\n",
      "[Voting] ...................... (2 of 4) Processing SVC, total=   4.6s\n",
      "[Voting] ..................... (3 of 4) Processing LGBM, total=   0.2s\n",
      "WARNING:tensorflow:Error in loading the saved optimizer state. As a result, your model is starting with a freshly initialized optimizer.\n",
      "[Voting] ...................... (4 of 4) Processing ANN, total=  22.9s\n",
      "Iterazione 87 [[5 3]\n",
      " [0 0]]\n",
      "accuracy 0.625\n"
     ]
    },
    {
     "name": "stderr",
     "output_type": "stream",
     "text": [
      "<ipython-input-54-0786b9e49dc3>:22: DeprecationWarning: KerasClassifier is deprecated, use Sci-Keras (https://github.com/adriangb/scikeras) instead.\n",
      "  ANN_best = keras.wrappers.scikit_learn.KerasClassifier(build_nn, epochs= 200, verbose=False)\n"
     ]
    },
    {
     "name": "stdout",
     "output_type": "stream",
     "text": [
      "[Voting] ...................... (1 of 4) Processing KNN, total=   0.0s\n",
      "[Voting] ...................... (2 of 4) Processing SVC, total=   5.0s\n",
      "[Voting] ..................... (3 of 4) Processing LGBM, total=   0.2s\n",
      "WARNING:tensorflow:Error in loading the saved optimizer state. As a result, your model is starting with a freshly initialized optimizer.\n",
      "[Voting] ...................... (4 of 4) Processing ANN, total=  24.8s\n",
      "Iterazione 88 [[1 0]\n",
      " [0 0]]\n",
      "accuracy 1.0\n"
     ]
    },
    {
     "name": "stderr",
     "output_type": "stream",
     "text": [
      "<ipython-input-54-0786b9e49dc3>:22: DeprecationWarning: KerasClassifier is deprecated, use Sci-Keras (https://github.com/adriangb/scikeras) instead.\n",
      "  ANN_best = keras.wrappers.scikit_learn.KerasClassifier(build_nn, epochs= 200, verbose=False)\n"
     ]
    },
    {
     "name": "stdout",
     "output_type": "stream",
     "text": [
      "[Voting] ...................... (1 of 4) Processing KNN, total=   0.0s\n",
      "[Voting] ...................... (2 of 4) Processing SVC, total=   5.0s\n",
      "[Voting] ..................... (3 of 4) Processing LGBM, total=   0.2s\n",
      "WARNING:tensorflow:Error in loading the saved optimizer state. As a result, your model is starting with a freshly initialized optimizer.\n",
      "[Voting] ...................... (4 of 4) Processing ANN, total=  23.6s\n",
      "Iterazione 89 [[0 0]\n",
      " [4 1]]\n",
      "accuracy 0.2\n"
     ]
    },
    {
     "name": "stderr",
     "output_type": "stream",
     "text": [
      "<ipython-input-54-0786b9e49dc3>:22: DeprecationWarning: KerasClassifier is deprecated, use Sci-Keras (https://github.com/adriangb/scikeras) instead.\n",
      "  ANN_best = keras.wrappers.scikit_learn.KerasClassifier(build_nn, epochs= 200, verbose=False)\n"
     ]
    },
    {
     "name": "stdout",
     "output_type": "stream",
     "text": [
      "[Voting] ...................... (1 of 4) Processing KNN, total=   0.0s\n",
      "[Voting] ...................... (2 of 4) Processing SVC, total=   5.5s\n",
      "[Voting] ..................... (3 of 4) Processing LGBM, total=   0.3s\n",
      "WARNING:tensorflow:Error in loading the saved optimizer state. As a result, your model is starting with a freshly initialized optimizer.\n",
      "[Voting] ...................... (4 of 4) Processing ANN, total=  22.5s\n",
      "Iterazione 90 [[5 0]\n",
      " [0 0]]\n",
      "accuracy 1.0\n"
     ]
    },
    {
     "name": "stderr",
     "output_type": "stream",
     "text": [
      "<ipython-input-54-0786b9e49dc3>:22: DeprecationWarning: KerasClassifier is deprecated, use Sci-Keras (https://github.com/adriangb/scikeras) instead.\n",
      "  ANN_best = keras.wrappers.scikit_learn.KerasClassifier(build_nn, epochs= 200, verbose=False)\n"
     ]
    },
    {
     "name": "stdout",
     "output_type": "stream",
     "text": [
      "[Voting] ...................... (1 of 4) Processing KNN, total=   0.0s\n",
      "[Voting] ...................... (2 of 4) Processing SVC, total=   4.8s\n",
      "[Voting] ..................... (3 of 4) Processing LGBM, total=   0.2s\n",
      "WARNING:tensorflow:Error in loading the saved optimizer state. As a result, your model is starting with a freshly initialized optimizer.\n",
      "[Voting] ...................... (4 of 4) Processing ANN, total=  20.5s\n",
      "Iterazione 91 [[0 1]\n",
      " [0 0]]\n",
      "accuracy 0.0\n"
     ]
    },
    {
     "name": "stderr",
     "output_type": "stream",
     "text": [
      "<ipython-input-54-0786b9e49dc3>:22: DeprecationWarning: KerasClassifier is deprecated, use Sci-Keras (https://github.com/adriangb/scikeras) instead.\n",
      "  ANN_best = keras.wrappers.scikit_learn.KerasClassifier(build_nn, epochs= 200, verbose=False)\n"
     ]
    },
    {
     "name": "stdout",
     "output_type": "stream",
     "text": [
      "[Voting] ...................... (1 of 4) Processing KNN, total=   0.0s\n",
      "[Voting] ...................... (2 of 4) Processing SVC, total=   4.7s\n",
      "[Voting] ..................... (3 of 4) Processing LGBM, total=   0.2s\n",
      "WARNING:tensorflow:Error in loading the saved optimizer state. As a result, your model is starting with a freshly initialized optimizer.\n",
      "[Voting] ...................... (4 of 4) Processing ANN, total=  22.4s\n",
      "Iterazione 92 [[1 2]\n",
      " [0 0]]\n",
      "accuracy 0.3333333333333333\n"
     ]
    },
    {
     "name": "stderr",
     "output_type": "stream",
     "text": [
      "<ipython-input-54-0786b9e49dc3>:22: DeprecationWarning: KerasClassifier is deprecated, use Sci-Keras (https://github.com/adriangb/scikeras) instead.\n",
      "  ANN_best = keras.wrappers.scikit_learn.KerasClassifier(build_nn, epochs= 200, verbose=False)\n"
     ]
    },
    {
     "name": "stdout",
     "output_type": "stream",
     "text": [
      "[Voting] ...................... (1 of 4) Processing KNN, total=   0.0s\n",
      "[Voting] ...................... (2 of 4) Processing SVC, total=   5.3s\n",
      "[Voting] ..................... (3 of 4) Processing LGBM, total=   0.5s\n",
      "WARNING:tensorflow:Error in loading the saved optimizer state. As a result, your model is starting with a freshly initialized optimizer.\n",
      "[Voting] ...................... (4 of 4) Processing ANN, total=  36.3s\n",
      "Iterazione 93 [[0 0]\n",
      " [3 1]]\n",
      "accuracy 0.25\n"
     ]
    },
    {
     "name": "stderr",
     "output_type": "stream",
     "text": [
      "<ipython-input-54-0786b9e49dc3>:22: DeprecationWarning: KerasClassifier is deprecated, use Sci-Keras (https://github.com/adriangb/scikeras) instead.\n",
      "  ANN_best = keras.wrappers.scikit_learn.KerasClassifier(build_nn, epochs= 200, verbose=False)\n"
     ]
    },
    {
     "name": "stdout",
     "output_type": "stream",
     "text": [
      "[Voting] ...................... (1 of 4) Processing KNN, total=   0.0s\n",
      "[Voting] ...................... (2 of 4) Processing SVC, total=   4.8s\n",
      "[Voting] ..................... (3 of 4) Processing LGBM, total=   0.5s\n",
      "WARNING:tensorflow:Error in loading the saved optimizer state. As a result, your model is starting with a freshly initialized optimizer.\n",
      "[Voting] ...................... (4 of 4) Processing ANN, total=  22.1s\n",
      "Iterazione 94 [[14 10]\n",
      " [ 0  0]]\n",
      "accuracy 0.5833333333333334\n"
     ]
    },
    {
     "name": "stderr",
     "output_type": "stream",
     "text": [
      "<ipython-input-54-0786b9e49dc3>:22: DeprecationWarning: KerasClassifier is deprecated, use Sci-Keras (https://github.com/adriangb/scikeras) instead.\n",
      "  ANN_best = keras.wrappers.scikit_learn.KerasClassifier(build_nn, epochs= 200, verbose=False)\n"
     ]
    },
    {
     "name": "stdout",
     "output_type": "stream",
     "text": [
      "[Voting] ...................... (1 of 4) Processing KNN, total=   0.0s\n",
      "[Voting] ...................... (2 of 4) Processing SVC, total=   4.8s\n",
      "[Voting] ..................... (3 of 4) Processing LGBM, total=   0.4s\n",
      "WARNING:tensorflow:Error in loading the saved optimizer state. As a result, your model is starting with a freshly initialized optimizer.\n",
      "[Voting] ...................... (4 of 4) Processing ANN, total=  25.1s\n",
      "Iterazione 95 [[0 0]\n",
      " [0 7]]\n",
      "accuracy 1.0\n"
     ]
    },
    {
     "name": "stderr",
     "output_type": "stream",
     "text": [
      "<ipython-input-54-0786b9e49dc3>:22: DeprecationWarning: KerasClassifier is deprecated, use Sci-Keras (https://github.com/adriangb/scikeras) instead.\n",
      "  ANN_best = keras.wrappers.scikit_learn.KerasClassifier(build_nn, epochs= 200, verbose=False)\n"
     ]
    },
    {
     "name": "stdout",
     "output_type": "stream",
     "text": [
      "[Voting] ...................... (1 of 4) Processing KNN, total=   0.0s\n",
      "[Voting] ...................... (2 of 4) Processing SVC, total=   4.7s\n",
      "[Voting] ..................... (3 of 4) Processing LGBM, total=   0.3s\n",
      "WARNING:tensorflow:Error in loading the saved optimizer state. As a result, your model is starting with a freshly initialized optimizer.\n",
      "[Voting] ...................... (4 of 4) Processing ANN, total=  20.3s\n",
      "Iterazione 96 [[0 0]\n",
      " [3 3]]\n",
      "accuracy 0.5\n"
     ]
    },
    {
     "name": "stderr",
     "output_type": "stream",
     "text": [
      "<ipython-input-54-0786b9e49dc3>:22: DeprecationWarning: KerasClassifier is deprecated, use Sci-Keras (https://github.com/adriangb/scikeras) instead.\n",
      "  ANN_best = keras.wrappers.scikit_learn.KerasClassifier(build_nn, epochs= 200, verbose=False)\n"
     ]
    },
    {
     "name": "stdout",
     "output_type": "stream",
     "text": [
      "[Voting] ...................... (1 of 4) Processing KNN, total=   0.0s\n",
      "[Voting] ...................... (2 of 4) Processing SVC, total=   4.8s\n",
      "[Voting] ..................... (3 of 4) Processing LGBM, total=   0.3s\n",
      "WARNING:tensorflow:Error in loading the saved optimizer state. As a result, your model is starting with a freshly initialized optimizer.\n",
      "[Voting] ...................... (4 of 4) Processing ANN, total=  21.6s\n",
      "Iterazione 97 [[0 0]\n",
      " [6 3]]\n",
      "accuracy 0.3333333333333333\n"
     ]
    },
    {
     "name": "stderr",
     "output_type": "stream",
     "text": [
      "<ipython-input-54-0786b9e49dc3>:22: DeprecationWarning: KerasClassifier is deprecated, use Sci-Keras (https://github.com/adriangb/scikeras) instead.\n",
      "  ANN_best = keras.wrappers.scikit_learn.KerasClassifier(build_nn, epochs= 200, verbose=False)\n"
     ]
    },
    {
     "name": "stdout",
     "output_type": "stream",
     "text": [
      "[Voting] ...................... (1 of 4) Processing KNN, total=   0.0s\n",
      "[Voting] ...................... (2 of 4) Processing SVC, total=   4.8s\n",
      "[Voting] ..................... (3 of 4) Processing LGBM, total=   0.3s\n",
      "WARNING:tensorflow:Error in loading the saved optimizer state. As a result, your model is starting with a freshly initialized optimizer.\n",
      "[Voting] ...................... (4 of 4) Processing ANN, total=  21.4s\n",
      "Iterazione 98 [[0 0]\n",
      " [3 0]]\n",
      "accuracy 0.0\n"
     ]
    },
    {
     "name": "stderr",
     "output_type": "stream",
     "text": [
      "<ipython-input-54-0786b9e49dc3>:22: DeprecationWarning: KerasClassifier is deprecated, use Sci-Keras (https://github.com/adriangb/scikeras) instead.\n",
      "  ANN_best = keras.wrappers.scikit_learn.KerasClassifier(build_nn, epochs= 200, verbose=False)\n"
     ]
    },
    {
     "name": "stdout",
     "output_type": "stream",
     "text": [
      "[Voting] ...................... (1 of 4) Processing KNN, total=   0.0s\n",
      "[Voting] ...................... (2 of 4) Processing SVC, total=   4.7s\n",
      "[Voting] ..................... (3 of 4) Processing LGBM, total=   0.2s\n",
      "WARNING:tensorflow:Error in loading the saved optimizer state. As a result, your model is starting with a freshly initialized optimizer.\n",
      "[Voting] ...................... (4 of 4) Processing ANN, total=  20.8s\n",
      "Iterazione 99 [[ 0  0]\n",
      " [ 3 15]]\n",
      "accuracy 0.8333333333333334\n"
     ]
    },
    {
     "name": "stderr",
     "output_type": "stream",
     "text": [
      "<ipython-input-54-0786b9e49dc3>:22: DeprecationWarning: KerasClassifier is deprecated, use Sci-Keras (https://github.com/adriangb/scikeras) instead.\n",
      "  ANN_best = keras.wrappers.scikit_learn.KerasClassifier(build_nn, epochs= 200, verbose=False)\n"
     ]
    },
    {
     "name": "stdout",
     "output_type": "stream",
     "text": [
      "[Voting] ...................... (1 of 4) Processing KNN, total=   0.0s\n",
      "[Voting] ...................... (2 of 4) Processing SVC, total=   4.7s\n",
      "[Voting] ..................... (3 of 4) Processing LGBM, total=   0.2s\n",
      "WARNING:tensorflow:Error in loading the saved optimizer state. As a result, your model is starting with a freshly initialized optimizer.\n",
      "[Voting] ...................... (4 of 4) Processing ANN, total=  20.4s\n",
      "Iterazione 100 [[0 0]\n",
      " [0 2]]\n",
      "accuracy 1.0\n"
     ]
    },
    {
     "name": "stderr",
     "output_type": "stream",
     "text": [
      "<ipython-input-54-0786b9e49dc3>:22: DeprecationWarning: KerasClassifier is deprecated, use Sci-Keras (https://github.com/adriangb/scikeras) instead.\n",
      "  ANN_best = keras.wrappers.scikit_learn.KerasClassifier(build_nn, epochs= 200, verbose=False)\n"
     ]
    },
    {
     "name": "stdout",
     "output_type": "stream",
     "text": [
      "[Voting] ...................... (1 of 4) Processing KNN, total=   0.0s\n",
      "[Voting] ...................... (2 of 4) Processing SVC, total=   4.8s\n",
      "[Voting] ..................... (3 of 4) Processing LGBM, total=   0.3s\n",
      "WARNING:tensorflow:Error in loading the saved optimizer state. As a result, your model is starting with a freshly initialized optimizer.\n",
      "[Voting] ...................... (4 of 4) Processing ANN, total=  21.0s\n",
      "Iterazione 101 [[0 0]\n",
      " [1 4]]\n",
      "accuracy 0.8\n"
     ]
    },
    {
     "name": "stderr",
     "output_type": "stream",
     "text": [
      "<ipython-input-54-0786b9e49dc3>:22: DeprecationWarning: KerasClassifier is deprecated, use Sci-Keras (https://github.com/adriangb/scikeras) instead.\n",
      "  ANN_best = keras.wrappers.scikit_learn.KerasClassifier(build_nn, epochs= 200, verbose=False)\n"
     ]
    },
    {
     "name": "stdout",
     "output_type": "stream",
     "text": [
      "[Voting] ...................... (1 of 4) Processing KNN, total=   0.0s\n",
      "[Voting] ...................... (2 of 4) Processing SVC, total=   4.4s\n",
      "[Voting] ..................... (3 of 4) Processing LGBM, total=   0.2s\n",
      "WARNING:tensorflow:Error in loading the saved optimizer state. As a result, your model is starting with a freshly initialized optimizer.\n",
      "[Voting] ...................... (4 of 4) Processing ANN, total=  19.6s\n",
      "Iterazione 102 [[4 1]\n",
      " [0 0]]\n",
      "accuracy 0.8\n"
     ]
    },
    {
     "name": "stderr",
     "output_type": "stream",
     "text": [
      "<ipython-input-54-0786b9e49dc3>:22: DeprecationWarning: KerasClassifier is deprecated, use Sci-Keras (https://github.com/adriangb/scikeras) instead.\n",
      "  ANN_best = keras.wrappers.scikit_learn.KerasClassifier(build_nn, epochs= 200, verbose=False)\n"
     ]
    },
    {
     "name": "stdout",
     "output_type": "stream",
     "text": [
      "[Voting] ...................... (1 of 4) Processing KNN, total=   0.0s\n",
      "[Voting] ...................... (2 of 4) Processing SVC, total=   4.5s\n",
      "[Voting] ..................... (3 of 4) Processing LGBM, total=   0.2s\n",
      "WARNING:tensorflow:Error in loading the saved optimizer state. As a result, your model is starting with a freshly initialized optimizer.\n",
      "[Voting] ...................... (4 of 4) Processing ANN, total=  20.1s\n",
      "Iterazione 103 [[2 0]\n",
      " [0 0]]\n",
      "accuracy 1.0\n"
     ]
    },
    {
     "name": "stderr",
     "output_type": "stream",
     "text": [
      "<ipython-input-54-0786b9e49dc3>:22: DeprecationWarning: KerasClassifier is deprecated, use Sci-Keras (https://github.com/adriangb/scikeras) instead.\n",
      "  ANN_best = keras.wrappers.scikit_learn.KerasClassifier(build_nn, epochs= 200, verbose=False)\n"
     ]
    },
    {
     "name": "stdout",
     "output_type": "stream",
     "text": [
      "[Voting] ...................... (1 of 4) Processing KNN, total=   0.0s\n",
      "[Voting] ...................... (2 of 4) Processing SVC, total=   4.2s\n",
      "[Voting] ..................... (3 of 4) Processing LGBM, total=   0.4s\n",
      "WARNING:tensorflow:Error in loading the saved optimizer state. As a result, your model is starting with a freshly initialized optimizer.\n",
      "[Voting] ...................... (4 of 4) Processing ANN, total=  19.8s\n",
      "Iterazione 104 [[7 3]\n",
      " [0 0]]\n",
      "accuracy 0.7\n"
     ]
    },
    {
     "name": "stderr",
     "output_type": "stream",
     "text": [
      "<ipython-input-54-0786b9e49dc3>:22: DeprecationWarning: KerasClassifier is deprecated, use Sci-Keras (https://github.com/adriangb/scikeras) instead.\n",
      "  ANN_best = keras.wrappers.scikit_learn.KerasClassifier(build_nn, epochs= 200, verbose=False)\n"
     ]
    },
    {
     "name": "stdout",
     "output_type": "stream",
     "text": [
      "[Voting] ...................... (1 of 4) Processing KNN, total=   0.0s\n",
      "[Voting] ...................... (2 of 4) Processing SVC, total=   4.4s\n",
      "[Voting] ..................... (3 of 4) Processing LGBM, total=   0.2s\n",
      "WARNING:tensorflow:Error in loading the saved optimizer state. As a result, your model is starting with a freshly initialized optimizer.\n",
      "[Voting] ...................... (4 of 4) Processing ANN, total=  19.6s\n",
      "Iterazione 105 [[3 4]\n",
      " [0 0]]\n",
      "accuracy 0.42857142857142855\n"
     ]
    },
    {
     "name": "stderr",
     "output_type": "stream",
     "text": [
      "<ipython-input-54-0786b9e49dc3>:22: DeprecationWarning: KerasClassifier is deprecated, use Sci-Keras (https://github.com/adriangb/scikeras) instead.\n",
      "  ANN_best = keras.wrappers.scikit_learn.KerasClassifier(build_nn, epochs= 200, verbose=False)\n"
     ]
    },
    {
     "name": "stdout",
     "output_type": "stream",
     "text": [
      "[Voting] ...................... (1 of 4) Processing KNN, total=   0.0s\n",
      "[Voting] ...................... (2 of 4) Processing SVC, total=   4.5s\n",
      "[Voting] ..................... (3 of 4) Processing LGBM, total=   0.2s\n",
      "WARNING:tensorflow:Error in loading the saved optimizer state. As a result, your model is starting with a freshly initialized optimizer.\n",
      "[Voting] ...................... (4 of 4) Processing ANN, total=  19.5s\n",
      "Iterazione 106 [[0 0]\n",
      " [1 2]]\n",
      "accuracy 0.6666666666666666\n"
     ]
    },
    {
     "name": "stderr",
     "output_type": "stream",
     "text": [
      "<ipython-input-54-0786b9e49dc3>:22: DeprecationWarning: KerasClassifier is deprecated, use Sci-Keras (https://github.com/adriangb/scikeras) instead.\n",
      "  ANN_best = keras.wrappers.scikit_learn.KerasClassifier(build_nn, epochs= 200, verbose=False)\n"
     ]
    },
    {
     "name": "stdout",
     "output_type": "stream",
     "text": [
      "[Voting] ...................... (1 of 4) Processing KNN, total=   0.0s\n",
      "[Voting] ...................... (2 of 4) Processing SVC, total=   4.4s\n",
      "[Voting] ..................... (3 of 4) Processing LGBM, total=   0.2s\n",
      "WARNING:tensorflow:Error in loading the saved optimizer state. As a result, your model is starting with a freshly initialized optimizer.\n",
      "[Voting] ...................... (4 of 4) Processing ANN, total=  19.4s\n",
      "Iterazione 107 [[0 0]\n",
      " [1 0]]\n",
      "accuracy 0.0\n"
     ]
    },
    {
     "name": "stderr",
     "output_type": "stream",
     "text": [
      "<ipython-input-54-0786b9e49dc3>:22: DeprecationWarning: KerasClassifier is deprecated, use Sci-Keras (https://github.com/adriangb/scikeras) instead.\n",
      "  ANN_best = keras.wrappers.scikit_learn.KerasClassifier(build_nn, epochs= 200, verbose=False)\n"
     ]
    },
    {
     "name": "stdout",
     "output_type": "stream",
     "text": [
      "[Voting] ...................... (1 of 4) Processing KNN, total=   0.0s\n",
      "[Voting] ...................... (2 of 4) Processing SVC, total=   4.3s\n",
      "[Voting] ..................... (3 of 4) Processing LGBM, total=   0.2s\n",
      "WARNING:tensorflow:Error in loading the saved optimizer state. As a result, your model is starting with a freshly initialized optimizer.\n",
      "[Voting] ...................... (4 of 4) Processing ANN, total=  19.5s\n",
      "Iterazione 108 [[0 0]\n",
      " [4 1]]\n",
      "accuracy 0.2\n"
     ]
    },
    {
     "name": "stderr",
     "output_type": "stream",
     "text": [
      "<ipython-input-54-0786b9e49dc3>:22: DeprecationWarning: KerasClassifier is deprecated, use Sci-Keras (https://github.com/adriangb/scikeras) instead.\n",
      "  ANN_best = keras.wrappers.scikit_learn.KerasClassifier(build_nn, epochs= 200, verbose=False)\n"
     ]
    },
    {
     "name": "stdout",
     "output_type": "stream",
     "text": [
      "[Voting] ...................... (1 of 4) Processing KNN, total=   0.0s\n",
      "[Voting] ...................... (2 of 4) Processing SVC, total=   4.4s\n",
      "[Voting] ..................... (3 of 4) Processing LGBM, total=   0.2s\n",
      "WARNING:tensorflow:Error in loading the saved optimizer state. As a result, your model is starting with a freshly initialized optimizer.\n",
      "[Voting] ...................... (4 of 4) Processing ANN, total=  19.8s\n",
      "Iterazione 109 [[0 0]\n",
      " [5 2]]\n",
      "accuracy 0.2857142857142857\n"
     ]
    },
    {
     "name": "stderr",
     "output_type": "stream",
     "text": [
      "<ipython-input-54-0786b9e49dc3>:22: DeprecationWarning: KerasClassifier is deprecated, use Sci-Keras (https://github.com/adriangb/scikeras) instead.\n",
      "  ANN_best = keras.wrappers.scikit_learn.KerasClassifier(build_nn, epochs= 200, verbose=False)\n"
     ]
    },
    {
     "name": "stdout",
     "output_type": "stream",
     "text": [
      "[Voting] ...................... (1 of 4) Processing KNN, total=   0.0s\n",
      "[Voting] ...................... (2 of 4) Processing SVC, total=   4.4s\n",
      "[Voting] ..................... (3 of 4) Processing LGBM, total=   0.2s\n",
      "WARNING:tensorflow:Error in loading the saved optimizer state. As a result, your model is starting with a freshly initialized optimizer.\n",
      "[Voting] ...................... (4 of 4) Processing ANN, total=  19.6s\n",
      "Iterazione 110 [[1 1]\n",
      " [0 0]]\n",
      "accuracy 0.5\n"
     ]
    },
    {
     "name": "stderr",
     "output_type": "stream",
     "text": [
      "<ipython-input-54-0786b9e49dc3>:22: DeprecationWarning: KerasClassifier is deprecated, use Sci-Keras (https://github.com/adriangb/scikeras) instead.\n",
      "  ANN_best = keras.wrappers.scikit_learn.KerasClassifier(build_nn, epochs= 200, verbose=False)\n"
     ]
    },
    {
     "name": "stdout",
     "output_type": "stream",
     "text": [
      "[Voting] ...................... (1 of 4) Processing KNN, total=   0.0s\n",
      "[Voting] ...................... (2 of 4) Processing SVC, total=   4.4s\n",
      "[Voting] ..................... (3 of 4) Processing LGBM, total=   0.2s\n",
      "WARNING:tensorflow:Error in loading the saved optimizer state. As a result, your model is starting with a freshly initialized optimizer.\n",
      "[Voting] ...................... (4 of 4) Processing ANN, total=  19.8s\n",
      "Iterazione 111 [[6 6]\n",
      " [0 0]]\n",
      "accuracy 0.5\n"
     ]
    },
    {
     "name": "stderr",
     "output_type": "stream",
     "text": [
      "<ipython-input-54-0786b9e49dc3>:22: DeprecationWarning: KerasClassifier is deprecated, use Sci-Keras (https://github.com/adriangb/scikeras) instead.\n",
      "  ANN_best = keras.wrappers.scikit_learn.KerasClassifier(build_nn, epochs= 200, verbose=False)\n"
     ]
    },
    {
     "name": "stdout",
     "output_type": "stream",
     "text": [
      "[Voting] ...................... (1 of 4) Processing KNN, total=   0.0s\n",
      "[Voting] ...................... (2 of 4) Processing SVC, total=   4.5s\n",
      "[Voting] ..................... (3 of 4) Processing LGBM, total=   0.2s\n",
      "WARNING:tensorflow:Error in loading the saved optimizer state. As a result, your model is starting with a freshly initialized optimizer.\n",
      "[Voting] ...................... (4 of 4) Processing ANN, total=  19.9s\n",
      "Iterazione 112 [[3 2]\n",
      " [0 0]]\n",
      "accuracy 0.6\n"
     ]
    },
    {
     "name": "stderr",
     "output_type": "stream",
     "text": [
      "<ipython-input-54-0786b9e49dc3>:22: DeprecationWarning: KerasClassifier is deprecated, use Sci-Keras (https://github.com/adriangb/scikeras) instead.\n",
      "  ANN_best = keras.wrappers.scikit_learn.KerasClassifier(build_nn, epochs= 200, verbose=False)\n"
     ]
    },
    {
     "name": "stdout",
     "output_type": "stream",
     "text": [
      "[Voting] ...................... (1 of 4) Processing KNN, total=   0.0s\n",
      "[Voting] ...................... (2 of 4) Processing SVC, total=   4.4s\n",
      "[Voting] ..................... (3 of 4) Processing LGBM, total=   0.2s\n",
      "WARNING:tensorflow:Error in loading the saved optimizer state. As a result, your model is starting with a freshly initialized optimizer.\n",
      "[Voting] ...................... (4 of 4) Processing ANN, total=  19.5s\n",
      "Iterazione 113 [[0 0]\n",
      " [4 3]]\n",
      "accuracy 0.42857142857142855\n"
     ]
    },
    {
     "name": "stderr",
     "output_type": "stream",
     "text": [
      "<ipython-input-54-0786b9e49dc3>:22: DeprecationWarning: KerasClassifier is deprecated, use Sci-Keras (https://github.com/adriangb/scikeras) instead.\n",
      "  ANN_best = keras.wrappers.scikit_learn.KerasClassifier(build_nn, epochs= 200, verbose=False)\n"
     ]
    },
    {
     "name": "stdout",
     "output_type": "stream",
     "text": [
      "[Voting] ...................... (1 of 4) Processing KNN, total=   0.0s\n",
      "[Voting] ...................... (2 of 4) Processing SVC, total=   4.4s\n",
      "[Voting] ..................... (3 of 4) Processing LGBM, total=   0.2s\n",
      "WARNING:tensorflow:Error in loading the saved optimizer state. As a result, your model is starting with a freshly initialized optimizer.\n",
      "[Voting] ...................... (4 of 4) Processing ANN, total=  19.8s\n",
      "Iterazione 114 [[1 1]\n",
      " [0 0]]\n",
      "accuracy 0.5\n"
     ]
    },
    {
     "name": "stderr",
     "output_type": "stream",
     "text": [
      "<ipython-input-54-0786b9e49dc3>:22: DeprecationWarning: KerasClassifier is deprecated, use Sci-Keras (https://github.com/adriangb/scikeras) instead.\n",
      "  ANN_best = keras.wrappers.scikit_learn.KerasClassifier(build_nn, epochs= 200, verbose=False)\n"
     ]
    },
    {
     "name": "stdout",
     "output_type": "stream",
     "text": [
      "[Voting] ...................... (1 of 4) Processing KNN, total=   0.0s\n",
      "[Voting] ...................... (2 of 4) Processing SVC, total=   4.5s\n",
      "[Voting] ..................... (3 of 4) Processing LGBM, total=   0.2s\n",
      "WARNING:tensorflow:Error in loading the saved optimizer state. As a result, your model is starting with a freshly initialized optimizer.\n",
      "[Voting] ...................... (4 of 4) Processing ANN, total=  20.0s\n",
      "Iterazione 115 [[1 3]\n",
      " [0 0]]\n",
      "accuracy 0.25\n"
     ]
    },
    {
     "name": "stderr",
     "output_type": "stream",
     "text": [
      "<ipython-input-54-0786b9e49dc3>:22: DeprecationWarning: KerasClassifier is deprecated, use Sci-Keras (https://github.com/adriangb/scikeras) instead.\n",
      "  ANN_best = keras.wrappers.scikit_learn.KerasClassifier(build_nn, epochs= 200, verbose=False)\n"
     ]
    },
    {
     "name": "stdout",
     "output_type": "stream",
     "text": [
      "[Voting] ...................... (1 of 4) Processing KNN, total=   0.0s\n",
      "[Voting] ...................... (2 of 4) Processing SVC, total=   4.4s\n",
      "[Voting] ..................... (3 of 4) Processing LGBM, total=   0.2s\n",
      "WARNING:tensorflow:Error in loading the saved optimizer state. As a result, your model is starting with a freshly initialized optimizer.\n",
      "[Voting] ...................... (4 of 4) Processing ANN, total=  19.6s\n",
      "Iterazione 116 [[2 3]\n",
      " [0 0]]\n",
      "accuracy 0.4\n"
     ]
    },
    {
     "name": "stderr",
     "output_type": "stream",
     "text": [
      "<ipython-input-54-0786b9e49dc3>:22: DeprecationWarning: KerasClassifier is deprecated, use Sci-Keras (https://github.com/adriangb/scikeras) instead.\n",
      "  ANN_best = keras.wrappers.scikit_learn.KerasClassifier(build_nn, epochs= 200, verbose=False)\n"
     ]
    },
    {
     "name": "stdout",
     "output_type": "stream",
     "text": [
      "[Voting] ...................... (1 of 4) Processing KNN, total=   0.0s\n",
      "[Voting] ...................... (2 of 4) Processing SVC, total=   4.5s\n",
      "[Voting] ..................... (3 of 4) Processing LGBM, total=   0.2s\n",
      "WARNING:tensorflow:Error in loading the saved optimizer state. As a result, your model is starting with a freshly initialized optimizer.\n",
      "[Voting] ...................... (4 of 4) Processing ANN, total=  19.4s\n",
      "Iterazione 117 [[2 5]\n",
      " [0 0]]\n",
      "accuracy 0.2857142857142857\n"
     ]
    },
    {
     "name": "stderr",
     "output_type": "stream",
     "text": [
      "<ipython-input-54-0786b9e49dc3>:22: DeprecationWarning: KerasClassifier is deprecated, use Sci-Keras (https://github.com/adriangb/scikeras) instead.\n",
      "  ANN_best = keras.wrappers.scikit_learn.KerasClassifier(build_nn, epochs= 200, verbose=False)\n"
     ]
    },
    {
     "name": "stdout",
     "output_type": "stream",
     "text": [
      "[Voting] ...................... (1 of 4) Processing KNN, total=   0.0s\n",
      "[Voting] ...................... (2 of 4) Processing SVC, total=   4.4s\n",
      "[Voting] ..................... (3 of 4) Processing LGBM, total=   0.3s\n",
      "WARNING:tensorflow:Error in loading the saved optimizer state. As a result, your model is starting with a freshly initialized optimizer.\n",
      "[Voting] ...................... (4 of 4) Processing ANN, total=  19.7s\n",
      "Iterazione 118 [[0 0]\n",
      " [0 3]]\n",
      "accuracy 1.0\n"
     ]
    },
    {
     "name": "stderr",
     "output_type": "stream",
     "text": [
      "<ipython-input-54-0786b9e49dc3>:22: DeprecationWarning: KerasClassifier is deprecated, use Sci-Keras (https://github.com/adriangb/scikeras) instead.\n",
      "  ANN_best = keras.wrappers.scikit_learn.KerasClassifier(build_nn, epochs= 200, verbose=False)\n"
     ]
    },
    {
     "name": "stdout",
     "output_type": "stream",
     "text": [
      "[Voting] ...................... (1 of 4) Processing KNN, total=   0.0s\n",
      "[Voting] ...................... (2 of 4) Processing SVC, total=   4.3s\n",
      "[Voting] ..................... (3 of 4) Processing LGBM, total=   0.2s\n",
      "WARNING:tensorflow:Error in loading the saved optimizer state. As a result, your model is starting with a freshly initialized optimizer.\n",
      "[Voting] ...................... (4 of 4) Processing ANN, total=  19.7s\n",
      "Iterazione 119 [[0 0]\n",
      " [2 3]]\n",
      "accuracy 0.6\n"
     ]
    },
    {
     "name": "stderr",
     "output_type": "stream",
     "text": [
      "<ipython-input-54-0786b9e49dc3>:22: DeprecationWarning: KerasClassifier is deprecated, use Sci-Keras (https://github.com/adriangb/scikeras) instead.\n",
      "  ANN_best = keras.wrappers.scikit_learn.KerasClassifier(build_nn, epochs= 200, verbose=False)\n"
     ]
    },
    {
     "name": "stdout",
     "output_type": "stream",
     "text": [
      "[Voting] ...................... (1 of 4) Processing KNN, total=   0.0s\n",
      "[Voting] ...................... (2 of 4) Processing SVC, total=   4.5s\n",
      "[Voting] ..................... (3 of 4) Processing LGBM, total=   0.2s\n",
      "WARNING:tensorflow:Error in loading the saved optimizer state. As a result, your model is starting with a freshly initialized optimizer.\n",
      "[Voting] ...................... (4 of 4) Processing ANN, total=  19.5s\n",
      "Iterazione 120 [[0 0]\n",
      " [0 1]]\n",
      "accuracy 1.0\n"
     ]
    },
    {
     "name": "stderr",
     "output_type": "stream",
     "text": [
      "<ipython-input-54-0786b9e49dc3>:22: DeprecationWarning: KerasClassifier is deprecated, use Sci-Keras (https://github.com/adriangb/scikeras) instead.\n",
      "  ANN_best = keras.wrappers.scikit_learn.KerasClassifier(build_nn, epochs= 200, verbose=False)\n"
     ]
    },
    {
     "name": "stdout",
     "output_type": "stream",
     "text": [
      "[Voting] ...................... (1 of 4) Processing KNN, total=   0.0s\n",
      "[Voting] ...................... (2 of 4) Processing SVC, total=   4.3s\n",
      "[Voting] ..................... (3 of 4) Processing LGBM, total=   0.2s\n",
      "WARNING:tensorflow:Error in loading the saved optimizer state. As a result, your model is starting with a freshly initialized optimizer.\n",
      "[Voting] ...................... (4 of 4) Processing ANN, total=  19.7s\n",
      "Iterazione 121 [[0 0]\n",
      " [2 0]]\n",
      "accuracy 0.0\n"
     ]
    },
    {
     "name": "stderr",
     "output_type": "stream",
     "text": [
      "<ipython-input-54-0786b9e49dc3>:22: DeprecationWarning: KerasClassifier is deprecated, use Sci-Keras (https://github.com/adriangb/scikeras) instead.\n",
      "  ANN_best = keras.wrappers.scikit_learn.KerasClassifier(build_nn, epochs= 200, verbose=False)\n"
     ]
    },
    {
     "name": "stdout",
     "output_type": "stream",
     "text": [
      "[Voting] ...................... (1 of 4) Processing KNN, total=   0.0s\n",
      "[Voting] ...................... (2 of 4) Processing SVC, total=   4.3s\n",
      "[Voting] ..................... (3 of 4) Processing LGBM, total=   0.2s\n",
      "WARNING:tensorflow:Error in loading the saved optimizer state. As a result, your model is starting with a freshly initialized optimizer.\n",
      "[Voting] ...................... (4 of 4) Processing ANN, total=  19.6s\n",
      "Iterazione 122 [[0 0]\n",
      " [3 3]]\n",
      "accuracy 0.5\n"
     ]
    },
    {
     "name": "stderr",
     "output_type": "stream",
     "text": [
      "<ipython-input-54-0786b9e49dc3>:22: DeprecationWarning: KerasClassifier is deprecated, use Sci-Keras (https://github.com/adriangb/scikeras) instead.\n",
      "  ANN_best = keras.wrappers.scikit_learn.KerasClassifier(build_nn, epochs= 200, verbose=False)\n"
     ]
    },
    {
     "name": "stdout",
     "output_type": "stream",
     "text": [
      "[Voting] ...................... (1 of 4) Processing KNN, total=   0.0s\n",
      "[Voting] ...................... (2 of 4) Processing SVC, total=   4.2s\n",
      "[Voting] ..................... (3 of 4) Processing LGBM, total=   0.2s\n",
      "WARNING:tensorflow:Error in loading the saved optimizer state. As a result, your model is starting with a freshly initialized optimizer.\n",
      "[Voting] ...................... (4 of 4) Processing ANN, total=  19.6s\n",
      "Iterazione 123 [[0 0]\n",
      " [2 3]]\n",
      "accuracy 0.6\n"
     ]
    },
    {
     "name": "stderr",
     "output_type": "stream",
     "text": [
      "<ipython-input-54-0786b9e49dc3>:22: DeprecationWarning: KerasClassifier is deprecated, use Sci-Keras (https://github.com/adriangb/scikeras) instead.\n",
      "  ANN_best = keras.wrappers.scikit_learn.KerasClassifier(build_nn, epochs= 200, verbose=False)\n"
     ]
    },
    {
     "name": "stdout",
     "output_type": "stream",
     "text": [
      "[Voting] ...................... (1 of 4) Processing KNN, total=   0.0s\n",
      "[Voting] ...................... (2 of 4) Processing SVC, total=   4.2s\n",
      "[Voting] ..................... (3 of 4) Processing LGBM, total=   0.2s\n",
      "WARNING:tensorflow:Error in loading the saved optimizer state. As a result, your model is starting with a freshly initialized optimizer.\n",
      "[Voting] ...................... (4 of 4) Processing ANN, total=  19.6s\n",
      "Iterazione 124 [[0 0]\n",
      " [0 2]]\n",
      "accuracy 1.0\n"
     ]
    },
    {
     "name": "stderr",
     "output_type": "stream",
     "text": [
      "<ipython-input-54-0786b9e49dc3>:22: DeprecationWarning: KerasClassifier is deprecated, use Sci-Keras (https://github.com/adriangb/scikeras) instead.\n",
      "  ANN_best = keras.wrappers.scikit_learn.KerasClassifier(build_nn, epochs= 200, verbose=False)\n"
     ]
    },
    {
     "name": "stdout",
     "output_type": "stream",
     "text": [
      "[Voting] ...................... (1 of 4) Processing KNN, total=   0.0s\n",
      "[Voting] ...................... (2 of 4) Processing SVC, total=   4.2s\n",
      "[Voting] ..................... (3 of 4) Processing LGBM, total=   0.2s\n",
      "WARNING:tensorflow:Error in loading the saved optimizer state. As a result, your model is starting with a freshly initialized optimizer.\n",
      "[Voting] ...................... (4 of 4) Processing ANN, total=  19.7s\n",
      "Iterazione 125 [[0 0]\n",
      " [6 2]]\n",
      "accuracy 0.25\n"
     ]
    },
    {
     "name": "stderr",
     "output_type": "stream",
     "text": [
      "<ipython-input-54-0786b9e49dc3>:22: DeprecationWarning: KerasClassifier is deprecated, use Sci-Keras (https://github.com/adriangb/scikeras) instead.\n",
      "  ANN_best = keras.wrappers.scikit_learn.KerasClassifier(build_nn, epochs= 200, verbose=False)\n"
     ]
    },
    {
     "name": "stdout",
     "output_type": "stream",
     "text": [
      "[Voting] ...................... (1 of 4) Processing KNN, total=   0.0s\n",
      "[Voting] ...................... (2 of 4) Processing SVC, total=   4.2s\n",
      "[Voting] ..................... (3 of 4) Processing LGBM, total=   0.2s\n",
      "WARNING:tensorflow:Error in loading the saved optimizer state. As a result, your model is starting with a freshly initialized optimizer.\n",
      "[Voting] ...................... (4 of 4) Processing ANN, total=  19.5s\n",
      "Iterazione 126 [[2 0]\n",
      " [0 0]]\n",
      "accuracy 1.0\n"
     ]
    },
    {
     "name": "stderr",
     "output_type": "stream",
     "text": [
      "<ipython-input-54-0786b9e49dc3>:22: DeprecationWarning: KerasClassifier is deprecated, use Sci-Keras (https://github.com/adriangb/scikeras) instead.\n",
      "  ANN_best = keras.wrappers.scikit_learn.KerasClassifier(build_nn, epochs= 200, verbose=False)\n"
     ]
    },
    {
     "name": "stdout",
     "output_type": "stream",
     "text": [
      "[Voting] ...................... (1 of 4) Processing KNN, total=   0.0s\n",
      "[Voting] ...................... (2 of 4) Processing SVC, total=   4.5s\n",
      "[Voting] ..................... (3 of 4) Processing LGBM, total=   0.2s\n",
      "WARNING:tensorflow:Error in loading the saved optimizer state. As a result, your model is starting with a freshly initialized optimizer.\n",
      "[Voting] ...................... (4 of 4) Processing ANN, total=  19.5s\n",
      "Iterazione 127 [[0 0]\n",
      " [2 0]]\n",
      "accuracy 0.0\n"
     ]
    },
    {
     "name": "stderr",
     "output_type": "stream",
     "text": [
      "<ipython-input-54-0786b9e49dc3>:22: DeprecationWarning: KerasClassifier is deprecated, use Sci-Keras (https://github.com/adriangb/scikeras) instead.\n",
      "  ANN_best = keras.wrappers.scikit_learn.KerasClassifier(build_nn, epochs= 200, verbose=False)\n"
     ]
    },
    {
     "name": "stdout",
     "output_type": "stream",
     "text": [
      "[Voting] ...................... (1 of 4) Processing KNN, total=   0.0s\n",
      "[Voting] ...................... (2 of 4) Processing SVC, total=   4.3s\n",
      "[Voting] ..................... (3 of 4) Processing LGBM, total=   0.2s\n",
      "WARNING:tensorflow:Error in loading the saved optimizer state. As a result, your model is starting with a freshly initialized optimizer.\n",
      "[Voting] ...................... (4 of 4) Processing ANN, total=  20.8s\n",
      "Iterazione 128 [[0 0]\n",
      " [2 1]]\n",
      "accuracy 0.3333333333333333\n"
     ]
    },
    {
     "name": "stderr",
     "output_type": "stream",
     "text": [
      "<ipython-input-54-0786b9e49dc3>:22: DeprecationWarning: KerasClassifier is deprecated, use Sci-Keras (https://github.com/adriangb/scikeras) instead.\n",
      "  ANN_best = keras.wrappers.scikit_learn.KerasClassifier(build_nn, epochs= 200, verbose=False)\n"
     ]
    },
    {
     "name": "stdout",
     "output_type": "stream",
     "text": [
      "[Voting] ...................... (1 of 4) Processing KNN, total=   0.0s\n",
      "[Voting] ...................... (2 of 4) Processing SVC, total=   4.3s\n",
      "[Voting] ..................... (3 of 4) Processing LGBM, total=   0.2s\n",
      "WARNING:tensorflow:Error in loading the saved optimizer state. As a result, your model is starting with a freshly initialized optimizer.\n",
      "[Voting] ...................... (4 of 4) Processing ANN, total=  21.1s\n",
      "Iterazione 129 [[2 0]\n",
      " [0 0]]\n",
      "accuracy 1.0\n"
     ]
    },
    {
     "name": "stderr",
     "output_type": "stream",
     "text": [
      "<ipython-input-54-0786b9e49dc3>:22: DeprecationWarning: KerasClassifier is deprecated, use Sci-Keras (https://github.com/adriangb/scikeras) instead.\n",
      "  ANN_best = keras.wrappers.scikit_learn.KerasClassifier(build_nn, epochs= 200, verbose=False)\n"
     ]
    },
    {
     "name": "stdout",
     "output_type": "stream",
     "text": [
      "[Voting] ...................... (1 of 4) Processing KNN, total=   0.0s\n",
      "[Voting] ...................... (2 of 4) Processing SVC, total=   4.4s\n",
      "[Voting] ..................... (3 of 4) Processing LGBM, total=   0.2s\n",
      "WARNING:tensorflow:Error in loading the saved optimizer state. As a result, your model is starting with a freshly initialized optimizer.\n",
      "[Voting] ...................... (4 of 4) Processing ANN, total=  20.9s\n",
      "Iterazione 130 [[0 0]\n",
      " [2 2]]\n",
      "accuracy 0.5\n"
     ]
    },
    {
     "name": "stderr",
     "output_type": "stream",
     "text": [
      "<ipython-input-54-0786b9e49dc3>:22: DeprecationWarning: KerasClassifier is deprecated, use Sci-Keras (https://github.com/adriangb/scikeras) instead.\n",
      "  ANN_best = keras.wrappers.scikit_learn.KerasClassifier(build_nn, epochs= 200, verbose=False)\n"
     ]
    },
    {
     "name": "stdout",
     "output_type": "stream",
     "text": [
      "[Voting] ...................... (1 of 4) Processing KNN, total=   0.0s\n",
      "[Voting] ...................... (2 of 4) Processing SVC, total=   4.2s\n",
      "[Voting] ..................... (3 of 4) Processing LGBM, total=   0.2s\n",
      "WARNING:tensorflow:Error in loading the saved optimizer state. As a result, your model is starting with a freshly initialized optimizer.\n",
      "[Voting] ...................... (4 of 4) Processing ANN, total=  20.2s\n",
      "Iterazione 131 [[4 0]\n",
      " [0 0]]\n",
      "accuracy 1.0\n"
     ]
    },
    {
     "name": "stderr",
     "output_type": "stream",
     "text": [
      "<ipython-input-54-0786b9e49dc3>:22: DeprecationWarning: KerasClassifier is deprecated, use Sci-Keras (https://github.com/adriangb/scikeras) instead.\n",
      "  ANN_best = keras.wrappers.scikit_learn.KerasClassifier(build_nn, epochs= 200, verbose=False)\n"
     ]
    },
    {
     "name": "stdout",
     "output_type": "stream",
     "text": [
      "[Voting] ...................... (1 of 4) Processing KNN, total=   0.0s\n",
      "[Voting] ...................... (2 of 4) Processing SVC, total=   4.3s\n",
      "[Voting] ..................... (3 of 4) Processing LGBM, total=   0.2s\n",
      "WARNING:tensorflow:Error in loading the saved optimizer state. As a result, your model is starting with a freshly initialized optimizer.\n",
      "[Voting] ...................... (4 of 4) Processing ANN, total=  20.7s\n",
      "Iterazione 132 [[0 0]\n",
      " [0 6]]\n",
      "accuracy 1.0\n"
     ]
    },
    {
     "name": "stderr",
     "output_type": "stream",
     "text": [
      "<ipython-input-54-0786b9e49dc3>:22: DeprecationWarning: KerasClassifier is deprecated, use Sci-Keras (https://github.com/adriangb/scikeras) instead.\n",
      "  ANN_best = keras.wrappers.scikit_learn.KerasClassifier(build_nn, epochs= 200, verbose=False)\n"
     ]
    },
    {
     "name": "stdout",
     "output_type": "stream",
     "text": [
      "[Voting] ...................... (1 of 4) Processing KNN, total=   0.0s\n",
      "[Voting] ...................... (2 of 4) Processing SVC, total=   4.3s\n",
      "[Voting] ..................... (3 of 4) Processing LGBM, total=   0.2s\n",
      "WARNING:tensorflow:Error in loading the saved optimizer state. As a result, your model is starting with a freshly initialized optimizer.\n",
      "[Voting] ...................... (4 of 4) Processing ANN, total=  20.8s\n",
      "Iterazione 133 [[0 0]\n",
      " [1 1]]\n",
      "accuracy 0.5\n"
     ]
    },
    {
     "name": "stderr",
     "output_type": "stream",
     "text": [
      "<ipython-input-54-0786b9e49dc3>:22: DeprecationWarning: KerasClassifier is deprecated, use Sci-Keras (https://github.com/adriangb/scikeras) instead.\n",
      "  ANN_best = keras.wrappers.scikit_learn.KerasClassifier(build_nn, epochs= 200, verbose=False)\n"
     ]
    },
    {
     "name": "stdout",
     "output_type": "stream",
     "text": [
      "[Voting] ...................... (1 of 4) Processing KNN, total=   0.0s\n",
      "[Voting] ...................... (2 of 4) Processing SVC, total=   4.3s\n",
      "[Voting] ..................... (3 of 4) Processing LGBM, total=   0.2s\n",
      "WARNING:tensorflow:Error in loading the saved optimizer state. As a result, your model is starting with a freshly initialized optimizer.\n",
      "[Voting] ...................... (4 of 4) Processing ANN, total=  20.4s\n",
      "Iterazione 134 [[0 0]\n",
      " [2 2]]\n",
      "accuracy 0.5\n"
     ]
    },
    {
     "name": "stderr",
     "output_type": "stream",
     "text": [
      "<ipython-input-54-0786b9e49dc3>:22: DeprecationWarning: KerasClassifier is deprecated, use Sci-Keras (https://github.com/adriangb/scikeras) instead.\n",
      "  ANN_best = keras.wrappers.scikit_learn.KerasClassifier(build_nn, epochs= 200, verbose=False)\n"
     ]
    },
    {
     "name": "stdout",
     "output_type": "stream",
     "text": [
      "[Voting] ...................... (1 of 4) Processing KNN, total=   0.0s\n",
      "[Voting] ...................... (2 of 4) Processing SVC, total=   4.2s\n",
      "[Voting] ..................... (3 of 4) Processing LGBM, total=   0.3s\n",
      "WARNING:tensorflow:Error in loading the saved optimizer state. As a result, your model is starting with a freshly initialized optimizer.\n",
      "[Voting] ...................... (4 of 4) Processing ANN, total=  20.6s\n",
      "Iterazione 135 [[0 0]\n",
      " [1 5]]\n",
      "accuracy 0.8333333333333334\n"
     ]
    },
    {
     "name": "stderr",
     "output_type": "stream",
     "text": [
      "<ipython-input-54-0786b9e49dc3>:22: DeprecationWarning: KerasClassifier is deprecated, use Sci-Keras (https://github.com/adriangb/scikeras) instead.\n",
      "  ANN_best = keras.wrappers.scikit_learn.KerasClassifier(build_nn, epochs= 200, verbose=False)\n"
     ]
    },
    {
     "name": "stdout",
     "output_type": "stream",
     "text": [
      "[Voting] ...................... (1 of 4) Processing KNN, total=   0.0s\n",
      "[Voting] ...................... (2 of 4) Processing SVC, total=   4.3s\n",
      "[Voting] ..................... (3 of 4) Processing LGBM, total=   0.2s\n",
      "WARNING:tensorflow:Error in loading the saved optimizer state. As a result, your model is starting with a freshly initialized optimizer.\n",
      "[Voting] ...................... (4 of 4) Processing ANN, total=  20.8s\n",
      "Iterazione 136 [[2 2]\n",
      " [0 0]]\n",
      "accuracy 0.5\n"
     ]
    },
    {
     "name": "stderr",
     "output_type": "stream",
     "text": [
      "<ipython-input-54-0786b9e49dc3>:22: DeprecationWarning: KerasClassifier is deprecated, use Sci-Keras (https://github.com/adriangb/scikeras) instead.\n",
      "  ANN_best = keras.wrappers.scikit_learn.KerasClassifier(build_nn, epochs= 200, verbose=False)\n"
     ]
    },
    {
     "name": "stdout",
     "output_type": "stream",
     "text": [
      "[Voting] ...................... (1 of 4) Processing KNN, total=   0.0s\n",
      "[Voting] ...................... (2 of 4) Processing SVC, total=   4.4s\n",
      "[Voting] ..................... (3 of 4) Processing LGBM, total=   0.2s\n",
      "WARNING:tensorflow:Error in loading the saved optimizer state. As a result, your model is starting with a freshly initialized optimizer.\n",
      "[Voting] ...................... (4 of 4) Processing ANN, total=  20.7s\n",
      "Iterazione 137 [[5 1]\n",
      " [0 0]]\n",
      "accuracy 0.8333333333333334\n"
     ]
    },
    {
     "name": "stderr",
     "output_type": "stream",
     "text": [
      "<ipython-input-54-0786b9e49dc3>:22: DeprecationWarning: KerasClassifier is deprecated, use Sci-Keras (https://github.com/adriangb/scikeras) instead.\n",
      "  ANN_best = keras.wrappers.scikit_learn.KerasClassifier(build_nn, epochs= 200, verbose=False)\n"
     ]
    },
    {
     "name": "stdout",
     "output_type": "stream",
     "text": [
      "[Voting] ...................... (1 of 4) Processing KNN, total=   0.0s\n",
      "[Voting] ...................... (2 of 4) Processing SVC, total=   4.4s\n",
      "[Voting] ..................... (3 of 4) Processing LGBM, total=   0.2s\n",
      "WARNING:tensorflow:Error in loading the saved optimizer state. As a result, your model is starting with a freshly initialized optimizer.\n",
      "[Voting] ...................... (4 of 4) Processing ANN, total=  20.2s\n",
      "Iterazione 138 [[0 0]\n",
      " [0 1]]\n",
      "accuracy 1.0\n"
     ]
    },
    {
     "name": "stderr",
     "output_type": "stream",
     "text": [
      "<ipython-input-54-0786b9e49dc3>:22: DeprecationWarning: KerasClassifier is deprecated, use Sci-Keras (https://github.com/adriangb/scikeras) instead.\n",
      "  ANN_best = keras.wrappers.scikit_learn.KerasClassifier(build_nn, epochs= 200, verbose=False)\n"
     ]
    },
    {
     "name": "stdout",
     "output_type": "stream",
     "text": [
      "[Voting] ...................... (1 of 4) Processing KNN, total=   0.0s\n",
      "[Voting] ...................... (2 of 4) Processing SVC, total=   4.1s\n",
      "[Voting] ..................... (3 of 4) Processing LGBM, total=   0.2s\n",
      "WARNING:tensorflow:Error in loading the saved optimizer state. As a result, your model is starting with a freshly initialized optimizer.\n",
      "[Voting] ...................... (4 of 4) Processing ANN, total=  20.6s\n",
      "Iterazione 139 [[0 0]\n",
      " [3 1]]\n",
      "accuracy 0.25\n"
     ]
    },
    {
     "name": "stderr",
     "output_type": "stream",
     "text": [
      "<ipython-input-54-0786b9e49dc3>:22: DeprecationWarning: KerasClassifier is deprecated, use Sci-Keras (https://github.com/adriangb/scikeras) instead.\n",
      "  ANN_best = keras.wrappers.scikit_learn.KerasClassifier(build_nn, epochs= 200, verbose=False)\n"
     ]
    },
    {
     "name": "stdout",
     "output_type": "stream",
     "text": [
      "[Voting] ...................... (1 of 4) Processing KNN, total=   0.0s\n",
      "[Voting] ...................... (2 of 4) Processing SVC, total=   4.2s\n",
      "[Voting] ..................... (3 of 4) Processing LGBM, total=   0.2s\n",
      "WARNING:tensorflow:Error in loading the saved optimizer state. As a result, your model is starting with a freshly initialized optimizer.\n",
      "[Voting] ...................... (4 of 4) Processing ANN, total=  20.9s\n",
      "Iterazione 140 [[2 3]\n",
      " [0 0]]\n",
      "accuracy 0.4\n"
     ]
    },
    {
     "name": "stderr",
     "output_type": "stream",
     "text": [
      "<ipython-input-54-0786b9e49dc3>:22: DeprecationWarning: KerasClassifier is deprecated, use Sci-Keras (https://github.com/adriangb/scikeras) instead.\n",
      "  ANN_best = keras.wrappers.scikit_learn.KerasClassifier(build_nn, epochs= 200, verbose=False)\n"
     ]
    },
    {
     "name": "stdout",
     "output_type": "stream",
     "text": [
      "[Voting] ...................... (1 of 4) Processing KNN, total=   0.0s\n",
      "[Voting] ...................... (2 of 4) Processing SVC, total=   4.4s\n",
      "[Voting] ..................... (3 of 4) Processing LGBM, total=   0.2s\n",
      "WARNING:tensorflow:Error in loading the saved optimizer state. As a result, your model is starting with a freshly initialized optimizer.\n",
      "[Voting] ...................... (4 of 4) Processing ANN, total=  20.9s\n",
      "Iterazione 141 [[0 0]\n",
      " [1 0]]\n",
      "accuracy 0.0\n"
     ]
    },
    {
     "name": "stderr",
     "output_type": "stream",
     "text": [
      "<ipython-input-54-0786b9e49dc3>:22: DeprecationWarning: KerasClassifier is deprecated, use Sci-Keras (https://github.com/adriangb/scikeras) instead.\n",
      "  ANN_best = keras.wrappers.scikit_learn.KerasClassifier(build_nn, epochs= 200, verbose=False)\n"
     ]
    },
    {
     "name": "stdout",
     "output_type": "stream",
     "text": [
      "[Voting] ...................... (1 of 4) Processing KNN, total=   0.0s\n",
      "[Voting] ...................... (2 of 4) Processing SVC, total=   4.2s\n",
      "[Voting] ..................... (3 of 4) Processing LGBM, total=   0.2s\n",
      "WARNING:tensorflow:Error in loading the saved optimizer state. As a result, your model is starting with a freshly initialized optimizer.\n",
      "[Voting] ...................... (4 of 4) Processing ANN, total=  20.5s\n",
      "Iterazione 142 [[0 0]\n",
      " [5 0]]\n",
      "accuracy 0.0\n"
     ]
    },
    {
     "name": "stderr",
     "output_type": "stream",
     "text": [
      "<ipython-input-54-0786b9e49dc3>:22: DeprecationWarning: KerasClassifier is deprecated, use Sci-Keras (https://github.com/adriangb/scikeras) instead.\n",
      "  ANN_best = keras.wrappers.scikit_learn.KerasClassifier(build_nn, epochs= 200, verbose=False)\n"
     ]
    },
    {
     "name": "stdout",
     "output_type": "stream",
     "text": [
      "[Voting] ...................... (1 of 4) Processing KNN, total=   0.0s\n",
      "[Voting] ...................... (2 of 4) Processing SVC, total=   4.4s\n",
      "[Voting] ..................... (3 of 4) Processing LGBM, total=   0.2s\n",
      "WARNING:tensorflow:Error in loading the saved optimizer state. As a result, your model is starting with a freshly initialized optimizer.\n",
      "[Voting] ...................... (4 of 4) Processing ANN, total=  20.7s\n",
      "Iterazione 143 [[0 0]\n",
      " [3 3]]\n",
      "accuracy 0.5\n"
     ]
    },
    {
     "name": "stderr",
     "output_type": "stream",
     "text": [
      "<ipython-input-54-0786b9e49dc3>:22: DeprecationWarning: KerasClassifier is deprecated, use Sci-Keras (https://github.com/adriangb/scikeras) instead.\n",
      "  ANN_best = keras.wrappers.scikit_learn.KerasClassifier(build_nn, epochs= 200, verbose=False)\n"
     ]
    },
    {
     "name": "stdout",
     "output_type": "stream",
     "text": [
      "[Voting] ...................... (1 of 4) Processing KNN, total=   0.0s\n",
      "[Voting] ...................... (2 of 4) Processing SVC, total=   4.3s\n",
      "[Voting] ..................... (3 of 4) Processing LGBM, total=   0.2s\n",
      "WARNING:tensorflow:Error in loading the saved optimizer state. As a result, your model is starting with a freshly initialized optimizer.\n",
      "[Voting] ...................... (4 of 4) Processing ANN, total=  21.0s\n",
      "Iterazione 144 [[0 0]\n",
      " [0 2]]\n",
      "accuracy 1.0\n"
     ]
    },
    {
     "name": "stderr",
     "output_type": "stream",
     "text": [
      "<ipython-input-54-0786b9e49dc3>:22: DeprecationWarning: KerasClassifier is deprecated, use Sci-Keras (https://github.com/adriangb/scikeras) instead.\n",
      "  ANN_best = keras.wrappers.scikit_learn.KerasClassifier(build_nn, epochs= 200, verbose=False)\n"
     ]
    },
    {
     "name": "stdout",
     "output_type": "stream",
     "text": [
      "[Voting] ...................... (1 of 4) Processing KNN, total=   0.0s\n",
      "[Voting] ...................... (2 of 4) Processing SVC, total=   4.2s\n",
      "[Voting] ..................... (3 of 4) Processing LGBM, total=   0.2s\n",
      "WARNING:tensorflow:Error in loading the saved optimizer state. As a result, your model is starting with a freshly initialized optimizer.\n",
      "[Voting] ...................... (4 of 4) Processing ANN, total=  20.3s\n",
      "Iterazione 145 [[2 1]\n",
      " [0 0]]\n",
      "accuracy 0.6666666666666666\n"
     ]
    },
    {
     "name": "stderr",
     "output_type": "stream",
     "text": [
      "<ipython-input-54-0786b9e49dc3>:22: DeprecationWarning: KerasClassifier is deprecated, use Sci-Keras (https://github.com/adriangb/scikeras) instead.\n",
      "  ANN_best = keras.wrappers.scikit_learn.KerasClassifier(build_nn, epochs= 200, verbose=False)\n"
     ]
    },
    {
     "name": "stdout",
     "output_type": "stream",
     "text": [
      "[Voting] ...................... (1 of 4) Processing KNN, total=   0.0s\n",
      "[Voting] ...................... (2 of 4) Processing SVC, total=   4.3s\n",
      "[Voting] ..................... (3 of 4) Processing LGBM, total=   0.2s\n",
      "WARNING:tensorflow:Error in loading the saved optimizer state. As a result, your model is starting with a freshly initialized optimizer.\n",
      "[Voting] ...................... (4 of 4) Processing ANN, total=  20.8s\n",
      "Iterazione 146 [[1 1]\n",
      " [0 0]]\n",
      "accuracy 0.5\n"
     ]
    },
    {
     "name": "stderr",
     "output_type": "stream",
     "text": [
      "<ipython-input-54-0786b9e49dc3>:22: DeprecationWarning: KerasClassifier is deprecated, use Sci-Keras (https://github.com/adriangb/scikeras) instead.\n",
      "  ANN_best = keras.wrappers.scikit_learn.KerasClassifier(build_nn, epochs= 200, verbose=False)\n"
     ]
    },
    {
     "name": "stdout",
     "output_type": "stream",
     "text": [
      "[Voting] ...................... (1 of 4) Processing KNN, total=   0.0s\n",
      "[Voting] ...................... (2 of 4) Processing SVC, total=   4.2s\n",
      "[Voting] ..................... (3 of 4) Processing LGBM, total=   0.2s\n",
      "WARNING:tensorflow:Error in loading the saved optimizer state. As a result, your model is starting with a freshly initialized optimizer.\n",
      "[Voting] ...................... (4 of 4) Processing ANN, total=  20.8s\n",
      "Iterazione 147 [[2 4]\n",
      " [0 0]]\n",
      "accuracy 0.3333333333333333\n"
     ]
    },
    {
     "name": "stderr",
     "output_type": "stream",
     "text": [
      "<ipython-input-54-0786b9e49dc3>:22: DeprecationWarning: KerasClassifier is deprecated, use Sci-Keras (https://github.com/adriangb/scikeras) instead.\n",
      "  ANN_best = keras.wrappers.scikit_learn.KerasClassifier(build_nn, epochs= 200, verbose=False)\n"
     ]
    },
    {
     "name": "stdout",
     "output_type": "stream",
     "text": [
      "[Voting] ...................... (1 of 4) Processing KNN, total=   0.0s\n",
      "[Voting] ...................... (2 of 4) Processing SVC, total=   4.4s\n",
      "[Voting] ..................... (3 of 4) Processing LGBM, total=   0.2s\n",
      "WARNING:tensorflow:Error in loading the saved optimizer state. As a result, your model is starting with a freshly initialized optimizer.\n",
      "[Voting] ...................... (4 of 4) Processing ANN, total=  20.7s\n",
      "Iterazione 148 [[1 1]\n",
      " [0 0]]\n",
      "accuracy 0.5\n"
     ]
    },
    {
     "name": "stderr",
     "output_type": "stream",
     "text": [
      "<ipython-input-54-0786b9e49dc3>:22: DeprecationWarning: KerasClassifier is deprecated, use Sci-Keras (https://github.com/adriangb/scikeras) instead.\n",
      "  ANN_best = keras.wrappers.scikit_learn.KerasClassifier(build_nn, epochs= 200, verbose=False)\n"
     ]
    },
    {
     "name": "stdout",
     "output_type": "stream",
     "text": [
      "[Voting] ...................... (1 of 4) Processing KNN, total=   0.0s\n",
      "[Voting] ...................... (2 of 4) Processing SVC, total=   4.2s\n",
      "[Voting] ..................... (3 of 4) Processing LGBM, total=   0.2s\n",
      "WARNING:tensorflow:Error in loading the saved optimizer state. As a result, your model is starting with a freshly initialized optimizer.\n",
      "[Voting] ...................... (4 of 4) Processing ANN, total=  20.7s\n",
      "Iterazione 149 [[1 1]\n",
      " [0 0]]\n",
      "accuracy 0.5\n"
     ]
    },
    {
     "name": "stderr",
     "output_type": "stream",
     "text": [
      "<ipython-input-54-0786b9e49dc3>:22: DeprecationWarning: KerasClassifier is deprecated, use Sci-Keras (https://github.com/adriangb/scikeras) instead.\n",
      "  ANN_best = keras.wrappers.scikit_learn.KerasClassifier(build_nn, epochs= 200, verbose=False)\n"
     ]
    },
    {
     "name": "stdout",
     "output_type": "stream",
     "text": [
      "[Voting] ...................... (1 of 4) Processing KNN, total=   0.0s\n",
      "[Voting] ...................... (2 of 4) Processing SVC, total=   4.3s\n",
      "[Voting] ..................... (3 of 4) Processing LGBM, total=   0.2s\n",
      "WARNING:tensorflow:Error in loading the saved optimizer state. As a result, your model is starting with a freshly initialized optimizer.\n",
      "[Voting] ...................... (4 of 4) Processing ANN, total=  21.0s\n",
      "Iterazione 150 [[0 0]\n",
      " [0 1]]\n",
      "accuracy 1.0\n"
     ]
    },
    {
     "name": "stderr",
     "output_type": "stream",
     "text": [
      "<ipython-input-54-0786b9e49dc3>:22: DeprecationWarning: KerasClassifier is deprecated, use Sci-Keras (https://github.com/adriangb/scikeras) instead.\n",
      "  ANN_best = keras.wrappers.scikit_learn.KerasClassifier(build_nn, epochs= 200, verbose=False)\n"
     ]
    },
    {
     "name": "stdout",
     "output_type": "stream",
     "text": [
      "[Voting] ...................... (1 of 4) Processing KNN, total=   0.0s\n",
      "[Voting] ...................... (2 of 4) Processing SVC, total=   4.3s\n",
      "[Voting] ..................... (3 of 4) Processing LGBM, total=   0.2s\n",
      "WARNING:tensorflow:Error in loading the saved optimizer state. As a result, your model is starting with a freshly initialized optimizer.\n",
      "[Voting] ...................... (4 of 4) Processing ANN, total=  20.8s\n",
      "Iterazione 151 [[0 0]\n",
      " [0 2]]\n",
      "accuracy 1.0\n"
     ]
    },
    {
     "name": "stderr",
     "output_type": "stream",
     "text": [
      "<ipython-input-54-0786b9e49dc3>:22: DeprecationWarning: KerasClassifier is deprecated, use Sci-Keras (https://github.com/adriangb/scikeras) instead.\n",
      "  ANN_best = keras.wrappers.scikit_learn.KerasClassifier(build_nn, epochs= 200, verbose=False)\n"
     ]
    },
    {
     "name": "stdout",
     "output_type": "stream",
     "text": [
      "[Voting] ...................... (1 of 4) Processing KNN, total=   0.0s\n",
      "[Voting] ...................... (2 of 4) Processing SVC, total=   4.3s\n",
      "[Voting] ..................... (3 of 4) Processing LGBM, total=   0.2s\n",
      "WARNING:tensorflow:Error in loading the saved optimizer state. As a result, your model is starting with a freshly initialized optimizer.\n",
      "[Voting] ...................... (4 of 4) Processing ANN, total=  20.9s\n",
      "Iterazione 152 [[0 0]\n",
      " [2 3]]\n",
      "accuracy 0.6\n"
     ]
    },
    {
     "name": "stderr",
     "output_type": "stream",
     "text": [
      "<ipython-input-54-0786b9e49dc3>:22: DeprecationWarning: KerasClassifier is deprecated, use Sci-Keras (https://github.com/adriangb/scikeras) instead.\n",
      "  ANN_best = keras.wrappers.scikit_learn.KerasClassifier(build_nn, epochs= 200, verbose=False)\n"
     ]
    },
    {
     "name": "stdout",
     "output_type": "stream",
     "text": [
      "[Voting] ...................... (1 of 4) Processing KNN, total=   0.0s\n",
      "[Voting] ...................... (2 of 4) Processing SVC, total=   4.4s\n",
      "[Voting] ..................... (3 of 4) Processing LGBM, total=   0.2s\n",
      "WARNING:tensorflow:Error in loading the saved optimizer state. As a result, your model is starting with a freshly initialized optimizer.\n",
      "[Voting] ...................... (4 of 4) Processing ANN, total=  20.5s\n",
      "Iterazione 153 [[0 2]\n",
      " [0 0]]\n",
      "accuracy 0.0\n"
     ]
    },
    {
     "name": "stderr",
     "output_type": "stream",
     "text": [
      "<ipython-input-54-0786b9e49dc3>:22: DeprecationWarning: KerasClassifier is deprecated, use Sci-Keras (https://github.com/adriangb/scikeras) instead.\n",
      "  ANN_best = keras.wrappers.scikit_learn.KerasClassifier(build_nn, epochs= 200, verbose=False)\n"
     ]
    },
    {
     "name": "stdout",
     "output_type": "stream",
     "text": [
      "[Voting] ...................... (1 of 4) Processing KNN, total=   0.0s\n",
      "[Voting] ...................... (2 of 4) Processing SVC, total=   4.4s\n",
      "[Voting] ..................... (3 of 4) Processing LGBM, total=   0.3s\n",
      "WARNING:tensorflow:Error in loading the saved optimizer state. As a result, your model is starting with a freshly initialized optimizer.\n",
      "[Voting] ...................... (4 of 4) Processing ANN, total=  20.4s\n",
      "Iterazione 154 [[1 4]\n",
      " [0 0]]\n",
      "accuracy 0.2\n"
     ]
    },
    {
     "name": "stderr",
     "output_type": "stream",
     "text": [
      "<ipython-input-54-0786b9e49dc3>:22: DeprecationWarning: KerasClassifier is deprecated, use Sci-Keras (https://github.com/adriangb/scikeras) instead.\n",
      "  ANN_best = keras.wrappers.scikit_learn.KerasClassifier(build_nn, epochs= 200, verbose=False)\n"
     ]
    },
    {
     "name": "stdout",
     "output_type": "stream",
     "text": [
      "[Voting] ...................... (1 of 4) Processing KNN, total=   0.0s\n",
      "[Voting] ...................... (2 of 4) Processing SVC, total=   4.3s\n",
      "[Voting] ..................... (3 of 4) Processing LGBM, total=   0.2s\n",
      "WARNING:tensorflow:Error in loading the saved optimizer state. As a result, your model is starting with a freshly initialized optimizer.\n",
      "[Voting] ...................... (4 of 4) Processing ANN, total=  20.8s\n",
      "Iterazione 155 [[0 0]\n",
      " [3 6]]\n",
      "accuracy 0.6666666666666666\n"
     ]
    },
    {
     "name": "stderr",
     "output_type": "stream",
     "text": [
      "<ipython-input-54-0786b9e49dc3>:22: DeprecationWarning: KerasClassifier is deprecated, use Sci-Keras (https://github.com/adriangb/scikeras) instead.\n",
      "  ANN_best = keras.wrappers.scikit_learn.KerasClassifier(build_nn, epochs= 200, verbose=False)\n"
     ]
    },
    {
     "name": "stdout",
     "output_type": "stream",
     "text": [
      "[Voting] ...................... (1 of 4) Processing KNN, total=   0.0s\n",
      "[Voting] ...................... (2 of 4) Processing SVC, total=   4.1s\n",
      "[Voting] ..................... (3 of 4) Processing LGBM, total=   0.2s\n",
      "WARNING:tensorflow:Error in loading the saved optimizer state. As a result, your model is starting with a freshly initialized optimizer.\n",
      "[Voting] ...................... (4 of 4) Processing ANN, total=  20.7s\n",
      "Iterazione 156 [[0 0]\n",
      " [0 4]]\n",
      "accuracy 1.0\n"
     ]
    },
    {
     "name": "stderr",
     "output_type": "stream",
     "text": [
      "<ipython-input-54-0786b9e49dc3>:22: DeprecationWarning: KerasClassifier is deprecated, use Sci-Keras (https://github.com/adriangb/scikeras) instead.\n",
      "  ANN_best = keras.wrappers.scikit_learn.KerasClassifier(build_nn, epochs= 200, verbose=False)\n"
     ]
    },
    {
     "name": "stdout",
     "output_type": "stream",
     "text": [
      "[Voting] ...................... (1 of 4) Processing KNN, total=   0.0s\n",
      "[Voting] ...................... (2 of 4) Processing SVC, total=   4.2s\n",
      "[Voting] ..................... (3 of 4) Processing LGBM, total=   0.2s\n",
      "WARNING:tensorflow:Error in loading the saved optimizer state. As a result, your model is starting with a freshly initialized optimizer.\n",
      "[Voting] ...................... (4 of 4) Processing ANN, total=  20.5s\n",
      "Iterazione 157 [[ 0  0]\n",
      " [ 6 16]]\n",
      "accuracy 0.7272727272727273\n"
     ]
    },
    {
     "name": "stderr",
     "output_type": "stream",
     "text": [
      "<ipython-input-54-0786b9e49dc3>:22: DeprecationWarning: KerasClassifier is deprecated, use Sci-Keras (https://github.com/adriangb/scikeras) instead.\n",
      "  ANN_best = keras.wrappers.scikit_learn.KerasClassifier(build_nn, epochs= 200, verbose=False)\n"
     ]
    },
    {
     "name": "stdout",
     "output_type": "stream",
     "text": [
      "[Voting] ...................... (1 of 4) Processing KNN, total=   0.0s\n",
      "[Voting] ...................... (2 of 4) Processing SVC, total=   4.1s\n",
      "[Voting] ..................... (3 of 4) Processing LGBM, total=   0.2s\n",
      "WARNING:tensorflow:Error in loading the saved optimizer state. As a result, your model is starting with a freshly initialized optimizer.\n",
      "[Voting] ...................... (4 of 4) Processing ANN, total=  20.5s\n",
      "Iterazione 158 [[4 0]\n",
      " [0 0]]\n",
      "accuracy 1.0\n"
     ]
    },
    {
     "name": "stderr",
     "output_type": "stream",
     "text": [
      "<ipython-input-54-0786b9e49dc3>:22: DeprecationWarning: KerasClassifier is deprecated, use Sci-Keras (https://github.com/adriangb/scikeras) instead.\n",
      "  ANN_best = keras.wrappers.scikit_learn.KerasClassifier(build_nn, epochs= 200, verbose=False)\n"
     ]
    },
    {
     "name": "stdout",
     "output_type": "stream",
     "text": [
      "[Voting] ...................... (1 of 4) Processing KNN, total=   0.0s\n",
      "[Voting] ...................... (2 of 4) Processing SVC, total=   4.4s\n",
      "[Voting] ..................... (3 of 4) Processing LGBM, total=   0.2s\n",
      "WARNING:tensorflow:Error in loading the saved optimizer state. As a result, your model is starting with a freshly initialized optimizer.\n",
      "[Voting] ...................... (4 of 4) Processing ANN, total=  20.8s\n",
      "Iterazione 159 [[1 1]\n",
      " [0 0]]\n",
      "accuracy 0.5\n"
     ]
    },
    {
     "name": "stderr",
     "output_type": "stream",
     "text": [
      "<ipython-input-54-0786b9e49dc3>:22: DeprecationWarning: KerasClassifier is deprecated, use Sci-Keras (https://github.com/adriangb/scikeras) instead.\n",
      "  ANN_best = keras.wrappers.scikit_learn.KerasClassifier(build_nn, epochs= 200, verbose=False)\n"
     ]
    },
    {
     "name": "stdout",
     "output_type": "stream",
     "text": [
      "[Voting] ...................... (1 of 4) Processing KNN, total=   0.0s\n",
      "[Voting] ...................... (2 of 4) Processing SVC, total=   4.3s\n",
      "[Voting] ..................... (3 of 4) Processing LGBM, total=   0.2s\n",
      "WARNING:tensorflow:Error in loading the saved optimizer state. As a result, your model is starting with a freshly initialized optimizer.\n",
      "[Voting] ...................... (4 of 4) Processing ANN, total=  21.0s\n",
      "Iterazione 160 [[0 0]\n",
      " [2 4]]\n",
      "accuracy 0.6666666666666666\n"
     ]
    },
    {
     "name": "stderr",
     "output_type": "stream",
     "text": [
      "<ipython-input-54-0786b9e49dc3>:22: DeprecationWarning: KerasClassifier is deprecated, use Sci-Keras (https://github.com/adriangb/scikeras) instead.\n",
      "  ANN_best = keras.wrappers.scikit_learn.KerasClassifier(build_nn, epochs= 200, verbose=False)\n"
     ]
    },
    {
     "name": "stdout",
     "output_type": "stream",
     "text": [
      "[Voting] ...................... (1 of 4) Processing KNN, total=   0.0s\n",
      "[Voting] ...................... (2 of 4) Processing SVC, total=   4.4s\n",
      "[Voting] ..................... (3 of 4) Processing LGBM, total=   0.2s\n",
      "WARNING:tensorflow:Error in loading the saved optimizer state. As a result, your model is starting with a freshly initialized optimizer.\n",
      "[Voting] ...................... (4 of 4) Processing ANN, total=  20.6s\n",
      "Iterazione 161 [[0 0]\n",
      " [0 1]]\n",
      "accuracy 1.0\n"
     ]
    },
    {
     "name": "stderr",
     "output_type": "stream",
     "text": [
      "<ipython-input-54-0786b9e49dc3>:22: DeprecationWarning: KerasClassifier is deprecated, use Sci-Keras (https://github.com/adriangb/scikeras) instead.\n",
      "  ANN_best = keras.wrappers.scikit_learn.KerasClassifier(build_nn, epochs= 200, verbose=False)\n"
     ]
    },
    {
     "name": "stdout",
     "output_type": "stream",
     "text": [
      "[Voting] ...................... (1 of 4) Processing KNN, total=   0.0s\n",
      "[Voting] ...................... (2 of 4) Processing SVC, total=   4.4s\n",
      "[Voting] ..................... (3 of 4) Processing LGBM, total=   0.2s\n",
      "WARNING:tensorflow:Error in loading the saved optimizer state. As a result, your model is starting with a freshly initialized optimizer.\n",
      "[Voting] ...................... (4 of 4) Processing ANN, total=  20.7s\n",
      "Iterazione 162 [[0 0]\n",
      " [1 2]]\n",
      "accuracy 0.6666666666666666\n"
     ]
    },
    {
     "name": "stderr",
     "output_type": "stream",
     "text": [
      "<ipython-input-54-0786b9e49dc3>:22: DeprecationWarning: KerasClassifier is deprecated, use Sci-Keras (https://github.com/adriangb/scikeras) instead.\n",
      "  ANN_best = keras.wrappers.scikit_learn.KerasClassifier(build_nn, epochs= 200, verbose=False)\n"
     ]
    },
    {
     "name": "stdout",
     "output_type": "stream",
     "text": [
      "[Voting] ...................... (1 of 4) Processing KNN, total=   0.0s\n",
      "[Voting] ...................... (2 of 4) Processing SVC, total=   4.3s\n",
      "[Voting] ..................... (3 of 4) Processing LGBM, total=   0.2s\n",
      "WARNING:tensorflow:Error in loading the saved optimizer state. As a result, your model is starting with a freshly initialized optimizer.\n",
      "[Voting] ...................... (4 of 4) Processing ANN, total=  21.0s\n",
      "Iterazione 163 [[1 1]\n",
      " [0 0]]\n",
      "accuracy 0.5\n"
     ]
    },
    {
     "name": "stderr",
     "output_type": "stream",
     "text": [
      "<ipython-input-54-0786b9e49dc3>:22: DeprecationWarning: KerasClassifier is deprecated, use Sci-Keras (https://github.com/adriangb/scikeras) instead.\n",
      "  ANN_best = keras.wrappers.scikit_learn.KerasClassifier(build_nn, epochs= 200, verbose=False)\n"
     ]
    },
    {
     "name": "stdout",
     "output_type": "stream",
     "text": [
      "[Voting] ...................... (1 of 4) Processing KNN, total=   0.0s\n",
      "[Voting] ...................... (2 of 4) Processing SVC, total=   4.3s\n",
      "[Voting] ..................... (3 of 4) Processing LGBM, total=   0.2s\n",
      "WARNING:tensorflow:Error in loading the saved optimizer state. As a result, your model is starting with a freshly initialized optimizer.\n",
      "[Voting] ...................... (4 of 4) Processing ANN, total=  21.6s\n",
      "Iterazione 164 [[0 0]\n",
      " [0 2]]\n",
      "accuracy 1.0\n"
     ]
    },
    {
     "name": "stderr",
     "output_type": "stream",
     "text": [
      "<ipython-input-54-0786b9e49dc3>:22: DeprecationWarning: KerasClassifier is deprecated, use Sci-Keras (https://github.com/adriangb/scikeras) instead.\n",
      "  ANN_best = keras.wrappers.scikit_learn.KerasClassifier(build_nn, epochs= 200, verbose=False)\n"
     ]
    },
    {
     "name": "stdout",
     "output_type": "stream",
     "text": [
      "[Voting] ...................... (1 of 4) Processing KNN, total=   0.0s\n",
      "[Voting] ...................... (2 of 4) Processing SVC, total=   4.6s\n",
      "[Voting] ..................... (3 of 4) Processing LGBM, total=   0.3s\n",
      "WARNING:tensorflow:Error in loading the saved optimizer state. As a result, your model is starting with a freshly initialized optimizer.\n",
      "[Voting] ...................... (4 of 4) Processing ANN, total=  21.3s\n",
      "Iterazione 165 [[0 0]\n",
      " [4 2]]\n",
      "accuracy 0.3333333333333333\n"
     ]
    },
    {
     "name": "stderr",
     "output_type": "stream",
     "text": [
      "<ipython-input-54-0786b9e49dc3>:22: DeprecationWarning: KerasClassifier is deprecated, use Sci-Keras (https://github.com/adriangb/scikeras) instead.\n",
      "  ANN_best = keras.wrappers.scikit_learn.KerasClassifier(build_nn, epochs= 200, verbose=False)\n"
     ]
    },
    {
     "name": "stdout",
     "output_type": "stream",
     "text": [
      "[Voting] ...................... (1 of 4) Processing KNN, total=   0.0s\n",
      "[Voting] ...................... (2 of 4) Processing SVC, total=   5.0s\n",
      "[Voting] ..................... (3 of 4) Processing LGBM, total=   0.3s\n",
      "WARNING:tensorflow:Error in loading the saved optimizer state. As a result, your model is starting with a freshly initialized optimizer.\n",
      "[Voting] ...................... (4 of 4) Processing ANN, total=  21.7s\n",
      "Iterazione 166 [[0 0]\n",
      " [4 0]]\n",
      "accuracy 0.0\n"
     ]
    },
    {
     "name": "stderr",
     "output_type": "stream",
     "text": [
      "<ipython-input-54-0786b9e49dc3>:22: DeprecationWarning: KerasClassifier is deprecated, use Sci-Keras (https://github.com/adriangb/scikeras) instead.\n",
      "  ANN_best = keras.wrappers.scikit_learn.KerasClassifier(build_nn, epochs= 200, verbose=False)\n"
     ]
    },
    {
     "name": "stdout",
     "output_type": "stream",
     "text": [
      "[Voting] ...................... (1 of 4) Processing KNN, total=   0.0s\n",
      "[Voting] ...................... (2 of 4) Processing SVC, total=   4.9s\n",
      "[Voting] ..................... (3 of 4) Processing LGBM, total=   0.2s\n",
      "WARNING:tensorflow:Error in loading the saved optimizer state. As a result, your model is starting with a freshly initialized optimizer.\n",
      "[Voting] ...................... (4 of 4) Processing ANN, total=  20.8s\n",
      "Iterazione 167 [[1 2]\n",
      " [0 0]]\n",
      "accuracy 0.3333333333333333\n"
     ]
    },
    {
     "name": "stderr",
     "output_type": "stream",
     "text": [
      "<ipython-input-54-0786b9e49dc3>:22: DeprecationWarning: KerasClassifier is deprecated, use Sci-Keras (https://github.com/adriangb/scikeras) instead.\n",
      "  ANN_best = keras.wrappers.scikit_learn.KerasClassifier(build_nn, epochs= 200, verbose=False)\n"
     ]
    },
    {
     "name": "stdout",
     "output_type": "stream",
     "text": [
      "[Voting] ...................... (1 of 4) Processing KNN, total=   0.0s\n",
      "[Voting] ...................... (2 of 4) Processing SVC, total=   4.9s\n",
      "[Voting] ..................... (3 of 4) Processing LGBM, total=   0.2s\n",
      "WARNING:tensorflow:Error in loading the saved optimizer state. As a result, your model is starting with a freshly initialized optimizer.\n",
      "[Voting] ...................... (4 of 4) Processing ANN, total=  21.8s\n",
      "Iterazione 168 [[6 4]\n",
      " [0 0]]\n",
      "accuracy 0.6\n"
     ]
    },
    {
     "name": "stderr",
     "output_type": "stream",
     "text": [
      "<ipython-input-54-0786b9e49dc3>:22: DeprecationWarning: KerasClassifier is deprecated, use Sci-Keras (https://github.com/adriangb/scikeras) instead.\n",
      "  ANN_best = keras.wrappers.scikit_learn.KerasClassifier(build_nn, epochs= 200, verbose=False)\n"
     ]
    },
    {
     "name": "stdout",
     "output_type": "stream",
     "text": [
      "[Voting] ...................... (1 of 4) Processing KNN, total=   0.0s\n",
      "[Voting] ...................... (2 of 4) Processing SVC, total=   4.9s\n",
      "[Voting] ..................... (3 of 4) Processing LGBM, total=   0.3s\n",
      "WARNING:tensorflow:Error in loading the saved optimizer state. As a result, your model is starting with a freshly initialized optimizer.\n",
      "[Voting] ...................... (4 of 4) Processing ANN, total=  21.1s\n",
      "Iterazione 169 [[0 0]\n",
      " [8 4]]\n",
      "accuracy 0.3333333333333333\n"
     ]
    },
    {
     "name": "stderr",
     "output_type": "stream",
     "text": [
      "<ipython-input-54-0786b9e49dc3>:22: DeprecationWarning: KerasClassifier is deprecated, use Sci-Keras (https://github.com/adriangb/scikeras) instead.\n",
      "  ANN_best = keras.wrappers.scikit_learn.KerasClassifier(build_nn, epochs= 200, verbose=False)\n"
     ]
    },
    {
     "name": "stdout",
     "output_type": "stream",
     "text": [
      "[Voting] ...................... (1 of 4) Processing KNN, total=   0.0s\n",
      "[Voting] ...................... (2 of 4) Processing SVC, total=   4.9s\n",
      "[Voting] ..................... (3 of 4) Processing LGBM, total=   0.3s\n",
      "WARNING:tensorflow:Error in loading the saved optimizer state. As a result, your model is starting with a freshly initialized optimizer.\n",
      "[Voting] ...................... (4 of 4) Processing ANN, total=  20.6s\n",
      "Iterazione 170 [[6 0]\n",
      " [0 0]]\n",
      "accuracy 1.0\n"
     ]
    },
    {
     "name": "stderr",
     "output_type": "stream",
     "text": [
      "<ipython-input-54-0786b9e49dc3>:22: DeprecationWarning: KerasClassifier is deprecated, use Sci-Keras (https://github.com/adriangb/scikeras) instead.\n",
      "  ANN_best = keras.wrappers.scikit_learn.KerasClassifier(build_nn, epochs= 200, verbose=False)\n"
     ]
    },
    {
     "name": "stdout",
     "output_type": "stream",
     "text": [
      "[Voting] ...................... (1 of 4) Processing KNN, total=   0.0s\n",
      "[Voting] ...................... (2 of 4) Processing SVC, total=   4.9s\n",
      "[Voting] ..................... (3 of 4) Processing LGBM, total=   0.4s\n",
      "WARNING:tensorflow:Error in loading the saved optimizer state. As a result, your model is starting with a freshly initialized optimizer.\n",
      "[Voting] ...................... (4 of 4) Processing ANN, total=  20.7s\n",
      "Iterazione 171 [[0 0]\n",
      " [0 1]]\n",
      "accuracy 1.0\n"
     ]
    },
    {
     "name": "stderr",
     "output_type": "stream",
     "text": [
      "<ipython-input-54-0786b9e49dc3>:22: DeprecationWarning: KerasClassifier is deprecated, use Sci-Keras (https://github.com/adriangb/scikeras) instead.\n",
      "  ANN_best = keras.wrappers.scikit_learn.KerasClassifier(build_nn, epochs= 200, verbose=False)\n"
     ]
    },
    {
     "name": "stdout",
     "output_type": "stream",
     "text": [
      "[Voting] ...................... (1 of 4) Processing KNN, total=   0.0s\n",
      "[Voting] ...................... (2 of 4) Processing SVC, total=   4.8s\n",
      "[Voting] ..................... (3 of 4) Processing LGBM, total=   0.3s\n",
      "WARNING:tensorflow:Error in loading the saved optimizer state. As a result, your model is starting with a freshly initialized optimizer.\n",
      "[Voting] ...................... (4 of 4) Processing ANN, total=  21.5s\n",
      "Iterazione 172 [[4 0]\n",
      " [0 0]]\n",
      "accuracy 1.0\n"
     ]
    },
    {
     "name": "stderr",
     "output_type": "stream",
     "text": [
      "<ipython-input-54-0786b9e49dc3>:22: DeprecationWarning: KerasClassifier is deprecated, use Sci-Keras (https://github.com/adriangb/scikeras) instead.\n",
      "  ANN_best = keras.wrappers.scikit_learn.KerasClassifier(build_nn, epochs= 200, verbose=False)\n"
     ]
    },
    {
     "name": "stdout",
     "output_type": "stream",
     "text": [
      "[Voting] ...................... (1 of 4) Processing KNN, total=   0.0s\n",
      "[Voting] ...................... (2 of 4) Processing SVC, total=   4.9s\n",
      "[Voting] ..................... (3 of 4) Processing LGBM, total=   0.3s\n",
      "WARNING:tensorflow:Error in loading the saved optimizer state. As a result, your model is starting with a freshly initialized optimizer.\n",
      "[Voting] ...................... (4 of 4) Processing ANN, total=  21.3s\n",
      "Iterazione 173 [[6 4]\n",
      " [0 0]]\n",
      "accuracy 0.6\n"
     ]
    },
    {
     "name": "stderr",
     "output_type": "stream",
     "text": [
      "<ipython-input-54-0786b9e49dc3>:22: DeprecationWarning: KerasClassifier is deprecated, use Sci-Keras (https://github.com/adriangb/scikeras) instead.\n",
      "  ANN_best = keras.wrappers.scikit_learn.KerasClassifier(build_nn, epochs= 200, verbose=False)\n"
     ]
    },
    {
     "name": "stdout",
     "output_type": "stream",
     "text": [
      "[Voting] ...................... (1 of 4) Processing KNN, total=   0.0s\n",
      "[Voting] ...................... (2 of 4) Processing SVC, total=   4.8s\n",
      "[Voting] ..................... (3 of 4) Processing LGBM, total=   0.3s\n",
      "WARNING:tensorflow:Error in loading the saved optimizer state. As a result, your model is starting with a freshly initialized optimizer.\n",
      "[Voting] ...................... (4 of 4) Processing ANN, total=  20.4s\n",
      "Iterazione 174 [[0 0]\n",
      " [3 2]]\n",
      "accuracy 0.4\n"
     ]
    },
    {
     "name": "stderr",
     "output_type": "stream",
     "text": [
      "<ipython-input-54-0786b9e49dc3>:22: DeprecationWarning: KerasClassifier is deprecated, use Sci-Keras (https://github.com/adriangb/scikeras) instead.\n",
      "  ANN_best = keras.wrappers.scikit_learn.KerasClassifier(build_nn, epochs= 200, verbose=False)\n"
     ]
    },
    {
     "name": "stdout",
     "output_type": "stream",
     "text": [
      "[Voting] ...................... (1 of 4) Processing KNN, total=   0.0s\n",
      "[Voting] ...................... (2 of 4) Processing SVC, total=   4.8s\n",
      "[Voting] ..................... (3 of 4) Processing LGBM, total=   0.2s\n",
      "WARNING:tensorflow:Error in loading the saved optimizer state. As a result, your model is starting with a freshly initialized optimizer.\n",
      "[Voting] ...................... (4 of 4) Processing ANN, total=  20.3s\n",
      "Iterazione 175 [[0 0]\n",
      " [2 4]]\n",
      "accuracy 0.6666666666666666\n"
     ]
    },
    {
     "name": "stderr",
     "output_type": "stream",
     "text": [
      "<ipython-input-54-0786b9e49dc3>:22: DeprecationWarning: KerasClassifier is deprecated, use Sci-Keras (https://github.com/adriangb/scikeras) instead.\n",
      "  ANN_best = keras.wrappers.scikit_learn.KerasClassifier(build_nn, epochs= 200, verbose=False)\n"
     ]
    },
    {
     "name": "stdout",
     "output_type": "stream",
     "text": [
      "[Voting] ...................... (1 of 4) Processing KNN, total=   0.0s\n",
      "[Voting] ...................... (2 of 4) Processing SVC, total=   4.6s\n",
      "[Voting] ..................... (3 of 4) Processing LGBM, total=   0.2s\n",
      "WARNING:tensorflow:Error in loading the saved optimizer state. As a result, your model is starting with a freshly initialized optimizer.\n",
      "[Voting] ...................... (4 of 4) Processing ANN, total=  20.5s\n",
      "Iterazione 176 [[0 0]\n",
      " [2 4]]\n",
      "accuracy 0.6666666666666666\n"
     ]
    },
    {
     "name": "stderr",
     "output_type": "stream",
     "text": [
      "<ipython-input-54-0786b9e49dc3>:22: DeprecationWarning: KerasClassifier is deprecated, use Sci-Keras (https://github.com/adriangb/scikeras) instead.\n",
      "  ANN_best = keras.wrappers.scikit_learn.KerasClassifier(build_nn, epochs= 200, verbose=False)\n"
     ]
    },
    {
     "name": "stdout",
     "output_type": "stream",
     "text": [
      "[Voting] ...................... (1 of 4) Processing KNN, total=   0.0s\n",
      "[Voting] ...................... (2 of 4) Processing SVC, total=   4.9s\n",
      "[Voting] ..................... (3 of 4) Processing LGBM, total=   0.2s\n",
      "WARNING:tensorflow:Error in loading the saved optimizer state. As a result, your model is starting with a freshly initialized optimizer.\n",
      "[Voting] ...................... (4 of 4) Processing ANN, total=  20.2s\n",
      "Iterazione 177 [[0 0]\n",
      " [2 5]]\n",
      "accuracy 0.7142857142857143\n"
     ]
    },
    {
     "name": "stderr",
     "output_type": "stream",
     "text": [
      "<ipython-input-54-0786b9e49dc3>:22: DeprecationWarning: KerasClassifier is deprecated, use Sci-Keras (https://github.com/adriangb/scikeras) instead.\n",
      "  ANN_best = keras.wrappers.scikit_learn.KerasClassifier(build_nn, epochs= 200, verbose=False)\n"
     ]
    },
    {
     "name": "stdout",
     "output_type": "stream",
     "text": [
      "[Voting] ...................... (1 of 4) Processing KNN, total=   0.0s\n",
      "[Voting] ...................... (2 of 4) Processing SVC, total=   4.7s\n",
      "[Voting] ..................... (3 of 4) Processing LGBM, total=   0.4s\n",
      "WARNING:tensorflow:Error in loading the saved optimizer state. As a result, your model is starting with a freshly initialized optimizer.\n",
      "[Voting] ...................... (4 of 4) Processing ANN, total=  21.0s\n",
      "Iterazione 178 [[0 0]\n",
      " [2 0]]\n",
      "accuracy 0.0\n"
     ]
    },
    {
     "name": "stderr",
     "output_type": "stream",
     "text": [
      "<ipython-input-54-0786b9e49dc3>:22: DeprecationWarning: KerasClassifier is deprecated, use Sci-Keras (https://github.com/adriangb/scikeras) instead.\n",
      "  ANN_best = keras.wrappers.scikit_learn.KerasClassifier(build_nn, epochs= 200, verbose=False)\n"
     ]
    },
    {
     "name": "stdout",
     "output_type": "stream",
     "text": [
      "[Voting] ...................... (1 of 4) Processing KNN, total=   0.0s\n",
      "[Voting] ...................... (2 of 4) Processing SVC, total=   5.0s\n",
      "[Voting] ..................... (3 of 4) Processing LGBM, total=   0.3s\n",
      "WARNING:tensorflow:Error in loading the saved optimizer state. As a result, your model is starting with a freshly initialized optimizer.\n",
      "[Voting] ...................... (4 of 4) Processing ANN, total=  22.1s\n",
      "Iterazione 179 [[1 8]\n",
      " [0 0]]\n",
      "accuracy 0.1111111111111111\n"
     ]
    },
    {
     "name": "stderr",
     "output_type": "stream",
     "text": [
      "<ipython-input-54-0786b9e49dc3>:22: DeprecationWarning: KerasClassifier is deprecated, use Sci-Keras (https://github.com/adriangb/scikeras) instead.\n",
      "  ANN_best = keras.wrappers.scikit_learn.KerasClassifier(build_nn, epochs= 200, verbose=False)\n"
     ]
    },
    {
     "name": "stdout",
     "output_type": "stream",
     "text": [
      "[Voting] ...................... (1 of 4) Processing KNN, total=   0.0s\n",
      "[Voting] ...................... (2 of 4) Processing SVC, total=   4.5s\n",
      "[Voting] ..................... (3 of 4) Processing LGBM, total=   0.3s\n",
      "WARNING:tensorflow:Error in loading the saved optimizer state. As a result, your model is starting with a freshly initialized optimizer.\n",
      "[Voting] ...................... (4 of 4) Processing ANN, total=  20.7s\n",
      "Iterazione 180 [[0 0]\n",
      " [1 5]]\n",
      "accuracy 0.8333333333333334\n"
     ]
    },
    {
     "name": "stderr",
     "output_type": "stream",
     "text": [
      "<ipython-input-54-0786b9e49dc3>:22: DeprecationWarning: KerasClassifier is deprecated, use Sci-Keras (https://github.com/adriangb/scikeras) instead.\n",
      "  ANN_best = keras.wrappers.scikit_learn.KerasClassifier(build_nn, epochs= 200, verbose=False)\n"
     ]
    },
    {
     "name": "stdout",
     "output_type": "stream",
     "text": [
      "[Voting] ...................... (1 of 4) Processing KNN, total=   0.0s\n",
      "[Voting] ...................... (2 of 4) Processing SVC, total=   4.9s\n",
      "[Voting] ..................... (3 of 4) Processing LGBM, total=   0.4s\n",
      "WARNING:tensorflow:Error in loading the saved optimizer state. As a result, your model is starting with a freshly initialized optimizer.\n",
      "[Voting] ...................... (4 of 4) Processing ANN, total=  20.8s\n",
      "Iterazione 181 [[0 0]\n",
      " [0 7]]\n",
      "accuracy 1.0\n"
     ]
    },
    {
     "name": "stderr",
     "output_type": "stream",
     "text": [
      "<ipython-input-54-0786b9e49dc3>:22: DeprecationWarning: KerasClassifier is deprecated, use Sci-Keras (https://github.com/adriangb/scikeras) instead.\n",
      "  ANN_best = keras.wrappers.scikit_learn.KerasClassifier(build_nn, epochs= 200, verbose=False)\n"
     ]
    },
    {
     "name": "stdout",
     "output_type": "stream",
     "text": [
      "[Voting] ...................... (1 of 4) Processing KNN, total=   0.0s\n",
      "[Voting] ...................... (2 of 4) Processing SVC, total=   4.7s\n",
      "[Voting] ..................... (3 of 4) Processing LGBM, total=   0.2s\n",
      "WARNING:tensorflow:Error in loading the saved optimizer state. As a result, your model is starting with a freshly initialized optimizer.\n",
      "[Voting] ...................... (4 of 4) Processing ANN, total=  20.5s\n",
      "Iterazione 182 [[0 0]\n",
      " [5 3]]\n",
      "accuracy 0.375\n"
     ]
    },
    {
     "name": "stderr",
     "output_type": "stream",
     "text": [
      "<ipython-input-54-0786b9e49dc3>:22: DeprecationWarning: KerasClassifier is deprecated, use Sci-Keras (https://github.com/adriangb/scikeras) instead.\n",
      "  ANN_best = keras.wrappers.scikit_learn.KerasClassifier(build_nn, epochs= 200, verbose=False)\n"
     ]
    },
    {
     "name": "stdout",
     "output_type": "stream",
     "text": [
      "[Voting] ...................... (1 of 4) Processing KNN, total=   0.0s\n",
      "[Voting] ...................... (2 of 4) Processing SVC, total=   4.8s\n",
      "[Voting] ..................... (3 of 4) Processing LGBM, total=   0.2s\n",
      "WARNING:tensorflow:Error in loading the saved optimizer state. As a result, your model is starting with a freshly initialized optimizer.\n",
      "[Voting] ...................... (4 of 4) Processing ANN, total=  20.1s\n",
      "Iterazione 183 [[0 0]\n",
      " [1 0]]\n",
      "accuracy 0.0\n"
     ]
    },
    {
     "name": "stderr",
     "output_type": "stream",
     "text": [
      "<ipython-input-54-0786b9e49dc3>:22: DeprecationWarning: KerasClassifier is deprecated, use Sci-Keras (https://github.com/adriangb/scikeras) instead.\n",
      "  ANN_best = keras.wrappers.scikit_learn.KerasClassifier(build_nn, epochs= 200, verbose=False)\n"
     ]
    },
    {
     "name": "stdout",
     "output_type": "stream",
     "text": [
      "[Voting] ...................... (1 of 4) Processing KNN, total=   0.0s\n",
      "[Voting] ...................... (2 of 4) Processing SVC, total=   4.8s\n",
      "[Voting] ..................... (3 of 4) Processing LGBM, total=   0.2s\n",
      "WARNING:tensorflow:Error in loading the saved optimizer state. As a result, your model is starting with a freshly initialized optimizer.\n",
      "[Voting] ...................... (4 of 4) Processing ANN, total=  20.2s\n",
      "Iterazione 184 [[0 0]\n",
      " [2 2]]\n",
      "accuracy 0.5\n"
     ]
    },
    {
     "name": "stderr",
     "output_type": "stream",
     "text": [
      "<ipython-input-54-0786b9e49dc3>:22: DeprecationWarning: KerasClassifier is deprecated, use Sci-Keras (https://github.com/adriangb/scikeras) instead.\n",
      "  ANN_best = keras.wrappers.scikit_learn.KerasClassifier(build_nn, epochs= 200, verbose=False)\n"
     ]
    },
    {
     "name": "stdout",
     "output_type": "stream",
     "text": [
      "[Voting] ...................... (1 of 4) Processing KNN, total=   0.0s\n",
      "[Voting] ...................... (2 of 4) Processing SVC, total=   4.7s\n",
      "[Voting] ..................... (3 of 4) Processing LGBM, total=   0.2s\n",
      "WARNING:tensorflow:Error in loading the saved optimizer state. As a result, your model is starting with a freshly initialized optimizer.\n",
      "[Voting] ...................... (4 of 4) Processing ANN, total=  20.4s\n",
      "Iterazione 185 [[1 1]\n",
      " [0 0]]\n",
      "accuracy 0.5\n"
     ]
    },
    {
     "name": "stderr",
     "output_type": "stream",
     "text": [
      "<ipython-input-54-0786b9e49dc3>:22: DeprecationWarning: KerasClassifier is deprecated, use Sci-Keras (https://github.com/adriangb/scikeras) instead.\n",
      "  ANN_best = keras.wrappers.scikit_learn.KerasClassifier(build_nn, epochs= 200, verbose=False)\n"
     ]
    },
    {
     "name": "stdout",
     "output_type": "stream",
     "text": [
      "[Voting] ...................... (1 of 4) Processing KNN, total=   0.0s\n",
      "[Voting] ...................... (2 of 4) Processing SVC, total=   4.6s\n",
      "[Voting] ..................... (3 of 4) Processing LGBM, total=   0.2s\n",
      "WARNING:tensorflow:Error in loading the saved optimizer state. As a result, your model is starting with a freshly initialized optimizer.\n",
      "[Voting] ...................... (4 of 4) Processing ANN, total=  20.6s\n",
      "Iterazione 186 [[0 0]\n",
      " [2 1]]\n",
      "accuracy 0.3333333333333333\n"
     ]
    },
    {
     "name": "stderr",
     "output_type": "stream",
     "text": [
      "<ipython-input-54-0786b9e49dc3>:22: DeprecationWarning: KerasClassifier is deprecated, use Sci-Keras (https://github.com/adriangb/scikeras) instead.\n",
      "  ANN_best = keras.wrappers.scikit_learn.KerasClassifier(build_nn, epochs= 200, verbose=False)\n"
     ]
    },
    {
     "name": "stdout",
     "output_type": "stream",
     "text": [
      "[Voting] ...................... (1 of 4) Processing KNN, total=   0.0s\n",
      "[Voting] ...................... (2 of 4) Processing SVC, total=   4.7s\n",
      "[Voting] ..................... (3 of 4) Processing LGBM, total=   0.3s\n",
      "WARNING:tensorflow:Error in loading the saved optimizer state. As a result, your model is starting with a freshly initialized optimizer.\n",
      "[Voting] ...................... (4 of 4) Processing ANN, total=  20.3s\n",
      "Iterazione 187 [[0 0]\n",
      " [2 7]]\n",
      "accuracy 0.7777777777777778\n"
     ]
    },
    {
     "name": "stderr",
     "output_type": "stream",
     "text": [
      "<ipython-input-54-0786b9e49dc3>:22: DeprecationWarning: KerasClassifier is deprecated, use Sci-Keras (https://github.com/adriangb/scikeras) instead.\n",
      "  ANN_best = keras.wrappers.scikit_learn.KerasClassifier(build_nn, epochs= 200, verbose=False)\n"
     ]
    },
    {
     "name": "stdout",
     "output_type": "stream",
     "text": [
      "[Voting] ...................... (1 of 4) Processing KNN, total=   0.0s\n",
      "[Voting] ...................... (2 of 4) Processing SVC, total=   4.7s\n",
      "[Voting] ..................... (3 of 4) Processing LGBM, total=   0.3s\n",
      "WARNING:tensorflow:Error in loading the saved optimizer state. As a result, your model is starting with a freshly initialized optimizer.\n",
      "[Voting] ...................... (4 of 4) Processing ANN, total=  21.8s\n",
      "Iterazione 188 [[4 3]\n",
      " [0 0]]\n",
      "accuracy 0.5714285714285714\n"
     ]
    },
    {
     "name": "stderr",
     "output_type": "stream",
     "text": [
      "<ipython-input-54-0786b9e49dc3>:22: DeprecationWarning: KerasClassifier is deprecated, use Sci-Keras (https://github.com/adriangb/scikeras) instead.\n",
      "  ANN_best = keras.wrappers.scikit_learn.KerasClassifier(build_nn, epochs= 200, verbose=False)\n"
     ]
    },
    {
     "name": "stdout",
     "output_type": "stream",
     "text": [
      "[Voting] ...................... (1 of 4) Processing KNN, total=   0.0s\n",
      "[Voting] ...................... (2 of 4) Processing SVC, total=   4.7s\n",
      "[Voting] ..................... (3 of 4) Processing LGBM, total=   0.2s\n",
      "WARNING:tensorflow:Error in loading the saved optimizer state. As a result, your model is starting with a freshly initialized optimizer.\n",
      "[Voting] ...................... (4 of 4) Processing ANN, total=  20.0s\n",
      "Iterazione 189 [[0 0]\n",
      " [2 0]]\n",
      "accuracy 0.0\n"
     ]
    },
    {
     "name": "stderr",
     "output_type": "stream",
     "text": [
      "<ipython-input-54-0786b9e49dc3>:22: DeprecationWarning: KerasClassifier is deprecated, use Sci-Keras (https://github.com/adriangb/scikeras) instead.\n",
      "  ANN_best = keras.wrappers.scikit_learn.KerasClassifier(build_nn, epochs= 200, verbose=False)\n"
     ]
    },
    {
     "name": "stdout",
     "output_type": "stream",
     "text": [
      "[Voting] ...................... (1 of 4) Processing KNN, total=   0.0s\n",
      "[Voting] ...................... (2 of 4) Processing SVC, total=   4.7s\n",
      "[Voting] ..................... (3 of 4) Processing LGBM, total=   0.2s\n",
      "WARNING:tensorflow:Error in loading the saved optimizer state. As a result, your model is starting with a freshly initialized optimizer.\n",
      "[Voting] ...................... (4 of 4) Processing ANN, total=  20.1s\n",
      "Iterazione 190 [[4 4]\n",
      " [0 0]]\n",
      "accuracy 0.5\n"
     ]
    },
    {
     "name": "stderr",
     "output_type": "stream",
     "text": [
      "<ipython-input-54-0786b9e49dc3>:22: DeprecationWarning: KerasClassifier is deprecated, use Sci-Keras (https://github.com/adriangb/scikeras) instead.\n",
      "  ANN_best = keras.wrappers.scikit_learn.KerasClassifier(build_nn, epochs= 200, verbose=False)\n"
     ]
    },
    {
     "name": "stdout",
     "output_type": "stream",
     "text": [
      "[Voting] ...................... (1 of 4) Processing KNN, total=   0.0s\n",
      "[Voting] ...................... (2 of 4) Processing SVC, total=   4.9s\n",
      "[Voting] ..................... (3 of 4) Processing LGBM, total=   0.2s\n",
      "WARNING:tensorflow:Error in loading the saved optimizer state. As a result, your model is starting with a freshly initialized optimizer.\n",
      "[Voting] ...................... (4 of 4) Processing ANN, total=  21.2s\n",
      "Iterazione 191 [[0 0]\n",
      " [0 6]]\n",
      "accuracy 1.0\n"
     ]
    },
    {
     "name": "stderr",
     "output_type": "stream",
     "text": [
      "<ipython-input-54-0786b9e49dc3>:22: DeprecationWarning: KerasClassifier is deprecated, use Sci-Keras (https://github.com/adriangb/scikeras) instead.\n",
      "  ANN_best = keras.wrappers.scikit_learn.KerasClassifier(build_nn, epochs= 200, verbose=False)\n"
     ]
    },
    {
     "name": "stdout",
     "output_type": "stream",
     "text": [
      "[Voting] ...................... (1 of 4) Processing KNN, total=   0.0s\n",
      "[Voting] ...................... (2 of 4) Processing SVC, total=   4.9s\n",
      "[Voting] ..................... (3 of 4) Processing LGBM, total=   0.2s\n",
      "WARNING:tensorflow:Error in loading the saved optimizer state. As a result, your model is starting with a freshly initialized optimizer.\n",
      "[Voting] ...................... (4 of 4) Processing ANN, total=  20.1s\n",
      "Iterazione 192 [[0 2]\n",
      " [0 0]]\n",
      "accuracy 0.0\n"
     ]
    },
    {
     "name": "stderr",
     "output_type": "stream",
     "text": [
      "<ipython-input-54-0786b9e49dc3>:22: DeprecationWarning: KerasClassifier is deprecated, use Sci-Keras (https://github.com/adriangb/scikeras) instead.\n",
      "  ANN_best = keras.wrappers.scikit_learn.KerasClassifier(build_nn, epochs= 200, verbose=False)\n"
     ]
    },
    {
     "name": "stdout",
     "output_type": "stream",
     "text": [
      "[Voting] ...................... (1 of 4) Processing KNN, total=   0.0s\n",
      "[Voting] ...................... (2 of 4) Processing SVC, total=   4.7s\n",
      "[Voting] ..................... (3 of 4) Processing LGBM, total=   0.3s\n",
      "WARNING:tensorflow:Error in loading the saved optimizer state. As a result, your model is starting with a freshly initialized optimizer.\n",
      "[Voting] ...................... (4 of 4) Processing ANN, total=  20.1s\n",
      "Iterazione 193 [[1 0]\n",
      " [0 0]]\n",
      "accuracy 1.0\n"
     ]
    },
    {
     "name": "stderr",
     "output_type": "stream",
     "text": [
      "<ipython-input-54-0786b9e49dc3>:22: DeprecationWarning: KerasClassifier is deprecated, use Sci-Keras (https://github.com/adriangb/scikeras) instead.\n",
      "  ANN_best = keras.wrappers.scikit_learn.KerasClassifier(build_nn, epochs= 200, verbose=False)\n"
     ]
    },
    {
     "name": "stdout",
     "output_type": "stream",
     "text": [
      "[Voting] ...................... (1 of 4) Processing KNN, total=   0.0s\n",
      "[Voting] ...................... (2 of 4) Processing SVC, total=   4.5s\n",
      "[Voting] ..................... (3 of 4) Processing LGBM, total=   0.3s\n",
      "WARNING:tensorflow:Error in loading the saved optimizer state. As a result, your model is starting with a freshly initialized optimizer.\n",
      "[Voting] ...................... (4 of 4) Processing ANN, total=  22.3s\n",
      "Iterazione 194 [[0 0]\n",
      " [1 3]]\n",
      "accuracy 0.75\n"
     ]
    },
    {
     "name": "stderr",
     "output_type": "stream",
     "text": [
      "<ipython-input-54-0786b9e49dc3>:22: DeprecationWarning: KerasClassifier is deprecated, use Sci-Keras (https://github.com/adriangb/scikeras) instead.\n",
      "  ANN_best = keras.wrappers.scikit_learn.KerasClassifier(build_nn, epochs= 200, verbose=False)\n"
     ]
    },
    {
     "name": "stdout",
     "output_type": "stream",
     "text": [
      "[Voting] ...................... (1 of 4) Processing KNN, total=   0.0s\n",
      "[Voting] ...................... (2 of 4) Processing SVC, total=   4.8s\n",
      "[Voting] ..................... (3 of 4) Processing LGBM, total=   0.3s\n",
      "WARNING:tensorflow:Error in loading the saved optimizer state. As a result, your model is starting with a freshly initialized optimizer.\n",
      "[Voting] ...................... (4 of 4) Processing ANN, total=  21.2s\n",
      "Iterazione 195 [[7 0]\n",
      " [0 0]]\n",
      "accuracy 1.0\n"
     ]
    },
    {
     "name": "stderr",
     "output_type": "stream",
     "text": [
      "<ipython-input-54-0786b9e49dc3>:22: DeprecationWarning: KerasClassifier is deprecated, use Sci-Keras (https://github.com/adriangb/scikeras) instead.\n",
      "  ANN_best = keras.wrappers.scikit_learn.KerasClassifier(build_nn, epochs= 200, verbose=False)\n"
     ]
    },
    {
     "name": "stdout",
     "output_type": "stream",
     "text": [
      "[Voting] ...................... (1 of 4) Processing KNN, total=   0.0s\n",
      "[Voting] ...................... (2 of 4) Processing SVC, total=   4.6s\n",
      "[Voting] ..................... (3 of 4) Processing LGBM, total=   0.3s\n",
      "WARNING:tensorflow:Error in loading the saved optimizer state. As a result, your model is starting with a freshly initialized optimizer.\n",
      "[Voting] ...................... (4 of 4) Processing ANN, total=  20.3s\n",
      "Iterazione 196 [[0 0]\n",
      " [1 1]]\n",
      "accuracy 0.5\n"
     ]
    },
    {
     "name": "stderr",
     "output_type": "stream",
     "text": [
      "<ipython-input-54-0786b9e49dc3>:22: DeprecationWarning: KerasClassifier is deprecated, use Sci-Keras (https://github.com/adriangb/scikeras) instead.\n",
      "  ANN_best = keras.wrappers.scikit_learn.KerasClassifier(build_nn, epochs= 200, verbose=False)\n"
     ]
    },
    {
     "name": "stdout",
     "output_type": "stream",
     "text": [
      "[Voting] ...................... (1 of 4) Processing KNN, total=   0.0s\n",
      "[Voting] ...................... (2 of 4) Processing SVC, total=   4.4s\n",
      "[Voting] ..................... (3 of 4) Processing LGBM, total=   0.2s\n",
      "WARNING:tensorflow:Error in loading the saved optimizer state. As a result, your model is starting with a freshly initialized optimizer.\n",
      "[Voting] ...................... (4 of 4) Processing ANN, total=  21.9s\n",
      "Iterazione 197 [[0 0]\n",
      " [2 0]]\n",
      "accuracy 0.0\n"
     ]
    },
    {
     "name": "stderr",
     "output_type": "stream",
     "text": [
      "<ipython-input-54-0786b9e49dc3>:22: DeprecationWarning: KerasClassifier is deprecated, use Sci-Keras (https://github.com/adriangb/scikeras) instead.\n",
      "  ANN_best = keras.wrappers.scikit_learn.KerasClassifier(build_nn, epochs= 200, verbose=False)\n"
     ]
    },
    {
     "name": "stdout",
     "output_type": "stream",
     "text": [
      "[Voting] ...................... (1 of 4) Processing KNN, total=   0.0s\n",
      "[Voting] ...................... (2 of 4) Processing SVC, total=   5.1s\n",
      "[Voting] ..................... (3 of 4) Processing LGBM, total=   0.3s\n",
      "WARNING:tensorflow:Error in loading the saved optimizer state. As a result, your model is starting with a freshly initialized optimizer.\n",
      "[Voting] ...................... (4 of 4) Processing ANN, total=  22.6s\n",
      "Iterazione 198 [[3 1]\n",
      " [0 0]]\n",
      "accuracy 0.75\n"
     ]
    },
    {
     "name": "stderr",
     "output_type": "stream",
     "text": [
      "<ipython-input-54-0786b9e49dc3>:22: DeprecationWarning: KerasClassifier is deprecated, use Sci-Keras (https://github.com/adriangb/scikeras) instead.\n",
      "  ANN_best = keras.wrappers.scikit_learn.KerasClassifier(build_nn, epochs= 200, verbose=False)\n"
     ]
    },
    {
     "name": "stdout",
     "output_type": "stream",
     "text": [
      "[Voting] ...................... (1 of 4) Processing KNN, total=   0.0s\n",
      "[Voting] ...................... (2 of 4) Processing SVC, total=   5.0s\n",
      "[Voting] ..................... (3 of 4) Processing LGBM, total=   0.3s\n",
      "WARNING:tensorflow:Error in loading the saved optimizer state. As a result, your model is starting with a freshly initialized optimizer.\n",
      "[Voting] ...................... (4 of 4) Processing ANN, total=  22.2s\n",
      "Iterazione 199 [[0 0]\n",
      " [1 1]]\n",
      "accuracy 0.5\n"
     ]
    },
    {
     "name": "stderr",
     "output_type": "stream",
     "text": [
      "<ipython-input-54-0786b9e49dc3>:22: DeprecationWarning: KerasClassifier is deprecated, use Sci-Keras (https://github.com/adriangb/scikeras) instead.\n",
      "  ANN_best = keras.wrappers.scikit_learn.KerasClassifier(build_nn, epochs= 200, verbose=False)\n"
     ]
    },
    {
     "name": "stdout",
     "output_type": "stream",
     "text": [
      "[Voting] ...................... (1 of 4) Processing KNN, total=   0.0s\n",
      "[Voting] ...................... (2 of 4) Processing SVC, total=   4.9s\n",
      "[Voting] ..................... (3 of 4) Processing LGBM, total=   0.3s\n",
      "WARNING:tensorflow:Error in loading the saved optimizer state. As a result, your model is starting with a freshly initialized optimizer.\n",
      "[Voting] ...................... (4 of 4) Processing ANN, total=  22.3s\n",
      "Iterazione 200 [[0 0]\n",
      " [5 1]]\n",
      "accuracy 0.16666666666666666\n"
     ]
    },
    {
     "name": "stderr",
     "output_type": "stream",
     "text": [
      "<ipython-input-54-0786b9e49dc3>:22: DeprecationWarning: KerasClassifier is deprecated, use Sci-Keras (https://github.com/adriangb/scikeras) instead.\n",
      "  ANN_best = keras.wrappers.scikit_learn.KerasClassifier(build_nn, epochs= 200, verbose=False)\n"
     ]
    },
    {
     "name": "stdout",
     "output_type": "stream",
     "text": [
      "[Voting] ...................... (1 of 4) Processing KNN, total=   0.0s\n",
      "[Voting] ...................... (2 of 4) Processing SVC, total=   4.8s\n",
      "[Voting] ..................... (3 of 4) Processing LGBM, total=   0.3s\n",
      "WARNING:tensorflow:Error in loading the saved optimizer state. As a result, your model is starting with a freshly initialized optimizer.\n",
      "[Voting] ...................... (4 of 4) Processing ANN, total=  22.4s\n",
      "Iterazione 201 [[0 0]\n",
      " [0 2]]\n",
      "accuracy 1.0\n"
     ]
    },
    {
     "name": "stderr",
     "output_type": "stream",
     "text": [
      "<ipython-input-54-0786b9e49dc3>:22: DeprecationWarning: KerasClassifier is deprecated, use Sci-Keras (https://github.com/adriangb/scikeras) instead.\n",
      "  ANN_best = keras.wrappers.scikit_learn.KerasClassifier(build_nn, epochs= 200, verbose=False)\n"
     ]
    },
    {
     "name": "stdout",
     "output_type": "stream",
     "text": [
      "[Voting] ...................... (1 of 4) Processing KNN, total=   0.0s\n",
      "[Voting] ...................... (2 of 4) Processing SVC, total=   5.0s\n",
      "[Voting] ..................... (3 of 4) Processing LGBM, total=   0.3s\n",
      "WARNING:tensorflow:Error in loading the saved optimizer state. As a result, your model is starting with a freshly initialized optimizer.\n",
      "[Voting] ...................... (4 of 4) Processing ANN, total=  22.7s\n",
      "Iterazione 202 [[0 0]\n",
      " [0 1]]\n",
      "accuracy 1.0\n"
     ]
    },
    {
     "name": "stderr",
     "output_type": "stream",
     "text": [
      "<ipython-input-54-0786b9e49dc3>:22: DeprecationWarning: KerasClassifier is deprecated, use Sci-Keras (https://github.com/adriangb/scikeras) instead.\n",
      "  ANN_best = keras.wrappers.scikit_learn.KerasClassifier(build_nn, epochs= 200, verbose=False)\n"
     ]
    },
    {
     "name": "stdout",
     "output_type": "stream",
     "text": [
      "[Voting] ...................... (1 of 4) Processing KNN, total=   0.0s\n",
      "[Voting] ...................... (2 of 4) Processing SVC, total=   5.1s\n",
      "[Voting] ..................... (3 of 4) Processing LGBM, total=   0.3s\n",
      "WARNING:tensorflow:Error in loading the saved optimizer state. As a result, your model is starting with a freshly initialized optimizer.\n",
      "[Voting] ...................... (4 of 4) Processing ANN, total=  22.0s\n",
      "Iterazione 203 [[0 0]\n",
      " [0 2]]\n",
      "accuracy 1.0\n"
     ]
    },
    {
     "name": "stderr",
     "output_type": "stream",
     "text": [
      "<ipython-input-54-0786b9e49dc3>:22: DeprecationWarning: KerasClassifier is deprecated, use Sci-Keras (https://github.com/adriangb/scikeras) instead.\n",
      "  ANN_best = keras.wrappers.scikit_learn.KerasClassifier(build_nn, epochs= 200, verbose=False)\n"
     ]
    },
    {
     "name": "stdout",
     "output_type": "stream",
     "text": [
      "[Voting] ...................... (1 of 4) Processing KNN, total=   0.0s\n",
      "[Voting] ...................... (2 of 4) Processing SVC, total=   5.0s\n",
      "[Voting] ..................... (3 of 4) Processing LGBM, total=   0.2s\n",
      "WARNING:tensorflow:Error in loading the saved optimizer state. As a result, your model is starting with a freshly initialized optimizer.\n",
      "[Voting] ...................... (4 of 4) Processing ANN, total=  21.2s\n",
      "Iterazione 204 [[1 2]\n",
      " [0 0]]\n",
      "accuracy 0.3333333333333333\n"
     ]
    },
    {
     "name": "stderr",
     "output_type": "stream",
     "text": [
      "<ipython-input-54-0786b9e49dc3>:22: DeprecationWarning: KerasClassifier is deprecated, use Sci-Keras (https://github.com/adriangb/scikeras) instead.\n",
      "  ANN_best = keras.wrappers.scikit_learn.KerasClassifier(build_nn, epochs= 200, verbose=False)\n"
     ]
    },
    {
     "name": "stdout",
     "output_type": "stream",
     "text": [
      "[Voting] ...................... (1 of 4) Processing KNN, total=   0.0s\n",
      "[Voting] ...................... (2 of 4) Processing SVC, total=   5.0s\n",
      "[Voting] ..................... (3 of 4) Processing LGBM, total=   0.3s\n",
      "WARNING:tensorflow:Error in loading the saved optimizer state. As a result, your model is starting with a freshly initialized optimizer.\n",
      "[Voting] ...................... (4 of 4) Processing ANN, total=  21.3s\n",
      "Iterazione 205 [[6 2]\n",
      " [0 0]]\n",
      "accuracy 0.75\n"
     ]
    },
    {
     "name": "stderr",
     "output_type": "stream",
     "text": [
      "<ipython-input-54-0786b9e49dc3>:22: DeprecationWarning: KerasClassifier is deprecated, use Sci-Keras (https://github.com/adriangb/scikeras) instead.\n",
      "  ANN_best = keras.wrappers.scikit_learn.KerasClassifier(build_nn, epochs= 200, verbose=False)\n"
     ]
    },
    {
     "name": "stdout",
     "output_type": "stream",
     "text": [
      "[Voting] ...................... (1 of 4) Processing KNN, total=   0.0s\n",
      "[Voting] ...................... (2 of 4) Processing SVC, total=   4.7s\n",
      "[Voting] ..................... (3 of 4) Processing LGBM, total=   0.3s\n",
      "WARNING:tensorflow:Error in loading the saved optimizer state. As a result, your model is starting with a freshly initialized optimizer.\n",
      "[Voting] ...................... (4 of 4) Processing ANN, total=  21.3s\n",
      "Iterazione 206 [[4 2]\n",
      " [0 0]]\n",
      "accuracy 0.6666666666666666\n"
     ]
    },
    {
     "name": "stderr",
     "output_type": "stream",
     "text": [
      "<ipython-input-54-0786b9e49dc3>:22: DeprecationWarning: KerasClassifier is deprecated, use Sci-Keras (https://github.com/adriangb/scikeras) instead.\n",
      "  ANN_best = keras.wrappers.scikit_learn.KerasClassifier(build_nn, epochs= 200, verbose=False)\n"
     ]
    },
    {
     "name": "stdout",
     "output_type": "stream",
     "text": [
      "[Voting] ...................... (1 of 4) Processing KNN, total=   0.0s\n",
      "[Voting] ...................... (2 of 4) Processing SVC, total=   4.8s\n",
      "[Voting] ..................... (3 of 4) Processing LGBM, total=   0.3s\n",
      "WARNING:tensorflow:Error in loading the saved optimizer state. As a result, your model is starting with a freshly initialized optimizer.\n",
      "[Voting] ...................... (4 of 4) Processing ANN, total=  21.1s\n",
      "Iterazione 207 [[1 3]\n",
      " [0 0]]\n",
      "accuracy 0.25\n"
     ]
    },
    {
     "name": "stderr",
     "output_type": "stream",
     "text": [
      "<ipython-input-54-0786b9e49dc3>:22: DeprecationWarning: KerasClassifier is deprecated, use Sci-Keras (https://github.com/adriangb/scikeras) instead.\n",
      "  ANN_best = keras.wrappers.scikit_learn.KerasClassifier(build_nn, epochs= 200, verbose=False)\n"
     ]
    },
    {
     "name": "stdout",
     "output_type": "stream",
     "text": [
      "[Voting] ...................... (1 of 4) Processing KNN, total=   0.0s\n",
      "[Voting] ...................... (2 of 4) Processing SVC, total=   4.8s\n",
      "[Voting] ..................... (3 of 4) Processing LGBM, total=   0.3s\n",
      "WARNING:tensorflow:Error in loading the saved optimizer state. As a result, your model is starting with a freshly initialized optimizer.\n",
      "[Voting] ...................... (4 of 4) Processing ANN, total=  21.0s\n",
      "Iterazione 208 [[0 3]\n",
      " [0 0]]\n",
      "accuracy 0.0\n"
     ]
    },
    {
     "name": "stderr",
     "output_type": "stream",
     "text": [
      "<ipython-input-54-0786b9e49dc3>:22: DeprecationWarning: KerasClassifier is deprecated, use Sci-Keras (https://github.com/adriangb/scikeras) instead.\n",
      "  ANN_best = keras.wrappers.scikit_learn.KerasClassifier(build_nn, epochs= 200, verbose=False)\n"
     ]
    },
    {
     "name": "stdout",
     "output_type": "stream",
     "text": [
      "[Voting] ...................... (1 of 4) Processing KNN, total=   0.0s\n",
      "[Voting] ...................... (2 of 4) Processing SVC, total=   5.0s\n",
      "[Voting] ..................... (3 of 4) Processing LGBM, total=   0.3s\n",
      "WARNING:tensorflow:Error in loading the saved optimizer state. As a result, your model is starting with a freshly initialized optimizer.\n",
      "[Voting] ...................... (4 of 4) Processing ANN, total=  21.2s\n",
      "Iterazione 209 [[0 0]\n",
      " [0 1]]\n",
      "accuracy 1.0\n"
     ]
    },
    {
     "name": "stderr",
     "output_type": "stream",
     "text": [
      "<ipython-input-54-0786b9e49dc3>:22: DeprecationWarning: KerasClassifier is deprecated, use Sci-Keras (https://github.com/adriangb/scikeras) instead.\n",
      "  ANN_best = keras.wrappers.scikit_learn.KerasClassifier(build_nn, epochs= 200, verbose=False)\n"
     ]
    },
    {
     "name": "stdout",
     "output_type": "stream",
     "text": [
      "[Voting] ...................... (1 of 4) Processing KNN, total=   0.0s\n",
      "[Voting] ...................... (2 of 4) Processing SVC, total=   5.0s\n",
      "[Voting] ..................... (3 of 4) Processing LGBM, total=   0.2s\n",
      "WARNING:tensorflow:Error in loading the saved optimizer state. As a result, your model is starting with a freshly initialized optimizer.\n",
      "[Voting] ...................... (4 of 4) Processing ANN, total=  21.0s\n",
      "Iterazione 210 [[0 0]\n",
      " [1 3]]\n",
      "accuracy 0.75\n"
     ]
    },
    {
     "name": "stderr",
     "output_type": "stream",
     "text": [
      "<ipython-input-54-0786b9e49dc3>:22: DeprecationWarning: KerasClassifier is deprecated, use Sci-Keras (https://github.com/adriangb/scikeras) instead.\n",
      "  ANN_best = keras.wrappers.scikit_learn.KerasClassifier(build_nn, epochs= 200, verbose=False)\n"
     ]
    },
    {
     "name": "stdout",
     "output_type": "stream",
     "text": [
      "[Voting] ...................... (1 of 4) Processing KNN, total=   0.0s\n",
      "[Voting] ...................... (2 of 4) Processing SVC, total=   4.9s\n",
      "[Voting] ..................... (3 of 4) Processing LGBM, total=   0.3s\n",
      "WARNING:tensorflow:Error in loading the saved optimizer state. As a result, your model is starting with a freshly initialized optimizer.\n",
      "[Voting] ...................... (4 of 4) Processing ANN, total=  21.0s\n",
      "Iterazione 211 [[2 0]\n",
      " [0 0]]\n",
      "accuracy 1.0\n"
     ]
    },
    {
     "name": "stderr",
     "output_type": "stream",
     "text": [
      "<ipython-input-54-0786b9e49dc3>:22: DeprecationWarning: KerasClassifier is deprecated, use Sci-Keras (https://github.com/adriangb/scikeras) instead.\n",
      "  ANN_best = keras.wrappers.scikit_learn.KerasClassifier(build_nn, epochs= 200, verbose=False)\n"
     ]
    },
    {
     "name": "stdout",
     "output_type": "stream",
     "text": [
      "[Voting] ...................... (1 of 4) Processing KNN, total=   0.0s\n",
      "[Voting] ...................... (2 of 4) Processing SVC, total=   5.0s\n",
      "[Voting] ..................... (3 of 4) Processing LGBM, total=   0.3s\n",
      "WARNING:tensorflow:Error in loading the saved optimizer state. As a result, your model is starting with a freshly initialized optimizer.\n",
      "[Voting] ...................... (4 of 4) Processing ANN, total=  21.2s\n",
      "Iterazione 212 [[0 0]\n",
      " [1 1]]\n",
      "accuracy 0.5\n"
     ]
    },
    {
     "name": "stderr",
     "output_type": "stream",
     "text": [
      "<ipython-input-54-0786b9e49dc3>:22: DeprecationWarning: KerasClassifier is deprecated, use Sci-Keras (https://github.com/adriangb/scikeras) instead.\n",
      "  ANN_best = keras.wrappers.scikit_learn.KerasClassifier(build_nn, epochs= 200, verbose=False)\n"
     ]
    },
    {
     "name": "stdout",
     "output_type": "stream",
     "text": [
      "[Voting] ...................... (1 of 4) Processing KNN, total=   0.0s\n",
      "[Voting] ...................... (2 of 4) Processing SVC, total=   4.9s\n",
      "[Voting] ..................... (3 of 4) Processing LGBM, total=   0.3s\n",
      "WARNING:tensorflow:Error in loading the saved optimizer state. As a result, your model is starting with a freshly initialized optimizer.\n",
      "[Voting] ...................... (4 of 4) Processing ANN, total=  21.1s\n",
      "Iterazione 213 [[0 2]\n",
      " [0 0]]\n",
      "accuracy 0.0\n"
     ]
    },
    {
     "name": "stderr",
     "output_type": "stream",
     "text": [
      "<ipython-input-54-0786b9e49dc3>:22: DeprecationWarning: KerasClassifier is deprecated, use Sci-Keras (https://github.com/adriangb/scikeras) instead.\n",
      "  ANN_best = keras.wrappers.scikit_learn.KerasClassifier(build_nn, epochs= 200, verbose=False)\n"
     ]
    },
    {
     "name": "stdout",
     "output_type": "stream",
     "text": [
      "[Voting] ...................... (1 of 4) Processing KNN, total=   0.0s\n",
      "[Voting] ...................... (2 of 4) Processing SVC, total=   5.0s\n",
      "[Voting] ..................... (3 of 4) Processing LGBM, total=   0.2s\n",
      "WARNING:tensorflow:Error in loading the saved optimizer state. As a result, your model is starting with a freshly initialized optimizer.\n",
      "[Voting] ...................... (4 of 4) Processing ANN, total=  20.9s\n",
      "Iterazione 214 [[0 0]\n",
      " [0 2]]\n",
      "accuracy 1.0\n"
     ]
    },
    {
     "name": "stderr",
     "output_type": "stream",
     "text": [
      "<ipython-input-54-0786b9e49dc3>:22: DeprecationWarning: KerasClassifier is deprecated, use Sci-Keras (https://github.com/adriangb/scikeras) instead.\n",
      "  ANN_best = keras.wrappers.scikit_learn.KerasClassifier(build_nn, epochs= 200, verbose=False)\n"
     ]
    },
    {
     "name": "stdout",
     "output_type": "stream",
     "text": [
      "[Voting] ...................... (1 of 4) Processing KNN, total=   0.0s\n",
      "[Voting] ...................... (2 of 4) Processing SVC, total=   4.8s\n",
      "[Voting] ..................... (3 of 4) Processing LGBM, total=   0.4s\n",
      "WARNING:tensorflow:Error in loading the saved optimizer state. As a result, your model is starting with a freshly initialized optimizer.\n",
      "[Voting] ...................... (4 of 4) Processing ANN, total=  21.0s\n",
      "Iterazione 215 [[0 3]\n",
      " [0 0]]\n",
      "accuracy 0.0\n"
     ]
    },
    {
     "name": "stderr",
     "output_type": "stream",
     "text": [
      "<ipython-input-54-0786b9e49dc3>:22: DeprecationWarning: KerasClassifier is deprecated, use Sci-Keras (https://github.com/adriangb/scikeras) instead.\n",
      "  ANN_best = keras.wrappers.scikit_learn.KerasClassifier(build_nn, epochs= 200, verbose=False)\n"
     ]
    },
    {
     "name": "stdout",
     "output_type": "stream",
     "text": [
      "[Voting] ...................... (1 of 4) Processing KNN, total=   0.0s\n",
      "[Voting] ...................... (2 of 4) Processing SVC, total=   4.8s\n",
      "[Voting] ..................... (3 of 4) Processing LGBM, total=   0.2s\n",
      "WARNING:tensorflow:Error in loading the saved optimizer state. As a result, your model is starting with a freshly initialized optimizer.\n",
      "[Voting] ...................... (4 of 4) Processing ANN, total=  20.2s\n",
      "Iterazione 216 [[0 0]\n",
      " [2 4]]\n",
      "accuracy 0.6666666666666666\n"
     ]
    },
    {
     "name": "stderr",
     "output_type": "stream",
     "text": [
      "<ipython-input-54-0786b9e49dc3>:22: DeprecationWarning: KerasClassifier is deprecated, use Sci-Keras (https://github.com/adriangb/scikeras) instead.\n",
      "  ANN_best = keras.wrappers.scikit_learn.KerasClassifier(build_nn, epochs= 200, verbose=False)\n"
     ]
    },
    {
     "name": "stdout",
     "output_type": "stream",
     "text": [
      "[Voting] ...................... (1 of 4) Processing KNN, total=   0.0s\n",
      "[Voting] ...................... (2 of 4) Processing SVC, total=   4.7s\n",
      "[Voting] ..................... (3 of 4) Processing LGBM, total=   0.2s\n",
      "WARNING:tensorflow:Error in loading the saved optimizer state. As a result, your model is starting with a freshly initialized optimizer.\n",
      "[Voting] ...................... (4 of 4) Processing ANN, total=  20.1s\n",
      "Iterazione 217 [[4 2]\n",
      " [0 0]]\n",
      "accuracy 0.6666666666666666\n"
     ]
    },
    {
     "name": "stderr",
     "output_type": "stream",
     "text": [
      "<ipython-input-54-0786b9e49dc3>:22: DeprecationWarning: KerasClassifier is deprecated, use Sci-Keras (https://github.com/adriangb/scikeras) instead.\n",
      "  ANN_best = keras.wrappers.scikit_learn.KerasClassifier(build_nn, epochs= 200, verbose=False)\n"
     ]
    },
    {
     "name": "stdout",
     "output_type": "stream",
     "text": [
      "[Voting] ...................... (1 of 4) Processing KNN, total=   0.0s\n",
      "[Voting] ...................... (2 of 4) Processing SVC, total=   4.7s\n",
      "[Voting] ..................... (3 of 4) Processing LGBM, total=   0.2s\n",
      "WARNING:tensorflow:Error in loading the saved optimizer state. As a result, your model is starting with a freshly initialized optimizer.\n",
      "[Voting] ...................... (4 of 4) Processing ANN, total=  20.4s\n",
      "Iterazione 218 [[0 0]\n",
      " [4 1]]\n",
      "accuracy 0.2\n"
     ]
    },
    {
     "name": "stderr",
     "output_type": "stream",
     "text": [
      "<ipython-input-54-0786b9e49dc3>:22: DeprecationWarning: KerasClassifier is deprecated, use Sci-Keras (https://github.com/adriangb/scikeras) instead.\n",
      "  ANN_best = keras.wrappers.scikit_learn.KerasClassifier(build_nn, epochs= 200, verbose=False)\n"
     ]
    },
    {
     "name": "stdout",
     "output_type": "stream",
     "text": [
      "[Voting] ...................... (1 of 4) Processing KNN, total=   0.0s\n",
      "[Voting] ...................... (2 of 4) Processing SVC, total=   4.7s\n",
      "[Voting] ..................... (3 of 4) Processing LGBM, total=   0.2s\n",
      "WARNING:tensorflow:Error in loading the saved optimizer state. As a result, your model is starting with a freshly initialized optimizer.\n",
      "[Voting] ...................... (4 of 4) Processing ANN, total=  21.5s\n",
      "Iterazione 219 [[0 0]\n",
      " [2 1]]\n",
      "accuracy 0.3333333333333333\n"
     ]
    },
    {
     "name": "stderr",
     "output_type": "stream",
     "text": [
      "<ipython-input-54-0786b9e49dc3>:22: DeprecationWarning: KerasClassifier is deprecated, use Sci-Keras (https://github.com/adriangb/scikeras) instead.\n",
      "  ANN_best = keras.wrappers.scikit_learn.KerasClassifier(build_nn, epochs= 200, verbose=False)\n"
     ]
    },
    {
     "name": "stdout",
     "output_type": "stream",
     "text": [
      "[Voting] ...................... (1 of 4) Processing KNN, total=   0.0s\n",
      "[Voting] ...................... (2 of 4) Processing SVC, total=   4.8s\n",
      "[Voting] ..................... (3 of 4) Processing LGBM, total=   0.2s\n",
      "WARNING:tensorflow:Error in loading the saved optimizer state. As a result, your model is starting with a freshly initialized optimizer.\n",
      "[Voting] ...................... (4 of 4) Processing ANN, total=  22.1s\n",
      "Iterazione 220 [[1 0]\n",
      " [0 0]]\n",
      "accuracy 1.0\n"
     ]
    },
    {
     "name": "stderr",
     "output_type": "stream",
     "text": [
      "<ipython-input-54-0786b9e49dc3>:22: DeprecationWarning: KerasClassifier is deprecated, use Sci-Keras (https://github.com/adriangb/scikeras) instead.\n",
      "  ANN_best = keras.wrappers.scikit_learn.KerasClassifier(build_nn, epochs= 200, verbose=False)\n"
     ]
    },
    {
     "name": "stdout",
     "output_type": "stream",
     "text": [
      "[Voting] ...................... (1 of 4) Processing KNN, total=   0.0s\n",
      "[Voting] ...................... (2 of 4) Processing SVC, total=   4.7s\n",
      "[Voting] ..................... (3 of 4) Processing LGBM, total=   0.3s\n",
      "WARNING:tensorflow:Error in loading the saved optimizer state. As a result, your model is starting with a freshly initialized optimizer.\n",
      "[Voting] ...................... (4 of 4) Processing ANN, total=  20.3s\n",
      "Iterazione 221 [[0 0]\n",
      " [4 0]]\n",
      "accuracy 0.0\n"
     ]
    },
    {
     "name": "stderr",
     "output_type": "stream",
     "text": [
      "<ipython-input-54-0786b9e49dc3>:22: DeprecationWarning: KerasClassifier is deprecated, use Sci-Keras (https://github.com/adriangb/scikeras) instead.\n",
      "  ANN_best = keras.wrappers.scikit_learn.KerasClassifier(build_nn, epochs= 200, verbose=False)\n"
     ]
    },
    {
     "name": "stdout",
     "output_type": "stream",
     "text": [
      "[Voting] ...................... (1 of 4) Processing KNN, total=   0.0s\n",
      "[Voting] ...................... (2 of 4) Processing SVC, total=   4.9s\n",
      "[Voting] ..................... (3 of 4) Processing LGBM, total=   0.2s\n",
      "WARNING:tensorflow:Error in loading the saved optimizer state. As a result, your model is starting with a freshly initialized optimizer.\n",
      "[Voting] ...................... (4 of 4) Processing ANN, total=  21.0s\n",
      "Iterazione 222 [[0 0]\n",
      " [2 2]]\n",
      "accuracy 0.5\n"
     ]
    },
    {
     "name": "stderr",
     "output_type": "stream",
     "text": [
      "<ipython-input-54-0786b9e49dc3>:22: DeprecationWarning: KerasClassifier is deprecated, use Sci-Keras (https://github.com/adriangb/scikeras) instead.\n",
      "  ANN_best = keras.wrappers.scikit_learn.KerasClassifier(build_nn, epochs= 200, verbose=False)\n"
     ]
    },
    {
     "name": "stdout",
     "output_type": "stream",
     "text": [
      "[Voting] ...................... (1 of 4) Processing KNN, total=   0.0s\n",
      "[Voting] ...................... (2 of 4) Processing SVC, total=   4.7s\n",
      "[Voting] ..................... (3 of 4) Processing LGBM, total=   0.2s\n",
      "WARNING:tensorflow:Error in loading the saved optimizer state. As a result, your model is starting with a freshly initialized optimizer.\n",
      "[Voting] ...................... (4 of 4) Processing ANN, total=  20.2s\n",
      "Iterazione 223 [[0 1]\n",
      " [0 0]]\n",
      "accuracy 0.0\n"
     ]
    },
    {
     "name": "stderr",
     "output_type": "stream",
     "text": [
      "<ipython-input-54-0786b9e49dc3>:22: DeprecationWarning: KerasClassifier is deprecated, use Sci-Keras (https://github.com/adriangb/scikeras) instead.\n",
      "  ANN_best = keras.wrappers.scikit_learn.KerasClassifier(build_nn, epochs= 200, verbose=False)\n"
     ]
    },
    {
     "name": "stdout",
     "output_type": "stream",
     "text": [
      "[Voting] ...................... (1 of 4) Processing KNN, total=   0.0s\n",
      "[Voting] ...................... (2 of 4) Processing SVC, total=   4.6s\n",
      "[Voting] ..................... (3 of 4) Processing LGBM, total=   0.3s\n",
      "WARNING:tensorflow:Error in loading the saved optimizer state. As a result, your model is starting with a freshly initialized optimizer.\n",
      "[Voting] ...................... (4 of 4) Processing ANN, total=  21.5s\n",
      "Iterazione 224 [[0 0]\n",
      " [0 5]]\n",
      "accuracy 1.0\n"
     ]
    },
    {
     "name": "stderr",
     "output_type": "stream",
     "text": [
      "<ipython-input-54-0786b9e49dc3>:22: DeprecationWarning: KerasClassifier is deprecated, use Sci-Keras (https://github.com/adriangb/scikeras) instead.\n",
      "  ANN_best = keras.wrappers.scikit_learn.KerasClassifier(build_nn, epochs= 200, verbose=False)\n"
     ]
    },
    {
     "name": "stdout",
     "output_type": "stream",
     "text": [
      "[Voting] ...................... (1 of 4) Processing KNN, total=   0.0s\n",
      "[Voting] ...................... (2 of 4) Processing SVC, total=   4.7s\n",
      "[Voting] ..................... (3 of 4) Processing LGBM, total=   0.3s\n",
      "WARNING:tensorflow:Error in loading the saved optimizer state. As a result, your model is starting with a freshly initialized optimizer.\n",
      "[Voting] ...................... (4 of 4) Processing ANN, total=  20.7s\n",
      "Iterazione 225 [[ 0  0]\n",
      " [ 0 10]]\n",
      "accuracy 1.0\n"
     ]
    },
    {
     "name": "stderr",
     "output_type": "stream",
     "text": [
      "<ipython-input-54-0786b9e49dc3>:22: DeprecationWarning: KerasClassifier is deprecated, use Sci-Keras (https://github.com/adriangb/scikeras) instead.\n",
      "  ANN_best = keras.wrappers.scikit_learn.KerasClassifier(build_nn, epochs= 200, verbose=False)\n"
     ]
    },
    {
     "name": "stdout",
     "output_type": "stream",
     "text": [
      "[Voting] ...................... (1 of 4) Processing KNN, total=   0.0s\n",
      "[Voting] ...................... (2 of 4) Processing SVC, total=   4.9s\n",
      "[Voting] ..................... (3 of 4) Processing LGBM, total=   0.3s\n",
      "WARNING:tensorflow:Error in loading the saved optimizer state. As a result, your model is starting with a freshly initialized optimizer.\n",
      "[Voting] ...................... (4 of 4) Processing ANN, total=  21.1s\n",
      "Iterazione 226 [[2 2]\n",
      " [0 0]]\n",
      "accuracy 0.5\n"
     ]
    },
    {
     "name": "stderr",
     "output_type": "stream",
     "text": [
      "<ipython-input-54-0786b9e49dc3>:22: DeprecationWarning: KerasClassifier is deprecated, use Sci-Keras (https://github.com/adriangb/scikeras) instead.\n",
      "  ANN_best = keras.wrappers.scikit_learn.KerasClassifier(build_nn, epochs= 200, verbose=False)\n"
     ]
    },
    {
     "name": "stdout",
     "output_type": "stream",
     "text": [
      "[Voting] ...................... (1 of 4) Processing KNN, total=   0.0s\n",
      "[Voting] ...................... (2 of 4) Processing SVC, total=   4.8s\n",
      "[Voting] ..................... (3 of 4) Processing LGBM, total=   0.2s\n",
      "WARNING:tensorflow:Error in loading the saved optimizer state. As a result, your model is starting with a freshly initialized optimizer.\n",
      "[Voting] ...................... (4 of 4) Processing ANN, total=  20.1s\n",
      "Iterazione 227 [[0 0]\n",
      " [6 0]]\n",
      "accuracy 0.0\n"
     ]
    },
    {
     "name": "stderr",
     "output_type": "stream",
     "text": [
      "<ipython-input-54-0786b9e49dc3>:22: DeprecationWarning: KerasClassifier is deprecated, use Sci-Keras (https://github.com/adriangb/scikeras) instead.\n",
      "  ANN_best = keras.wrappers.scikit_learn.KerasClassifier(build_nn, epochs= 200, verbose=False)\n"
     ]
    },
    {
     "name": "stdout",
     "output_type": "stream",
     "text": [
      "[Voting] ...................... (1 of 4) Processing KNN, total=   0.0s\n",
      "[Voting] ...................... (2 of 4) Processing SVC, total=   4.7s\n",
      "[Voting] ..................... (3 of 4) Processing LGBM, total=   0.5s\n",
      "WARNING:tensorflow:Error in loading the saved optimizer state. As a result, your model is starting with a freshly initialized optimizer.\n",
      "[Voting] ...................... (4 of 4) Processing ANN, total=  21.7s\n",
      "Iterazione 228 [[0 0]\n",
      " [1 1]]\n",
      "accuracy 0.5\n"
     ]
    },
    {
     "name": "stderr",
     "output_type": "stream",
     "text": [
      "<ipython-input-54-0786b9e49dc3>:22: DeprecationWarning: KerasClassifier is deprecated, use Sci-Keras (https://github.com/adriangb/scikeras) instead.\n",
      "  ANN_best = keras.wrappers.scikit_learn.KerasClassifier(build_nn, epochs= 200, verbose=False)\n"
     ]
    },
    {
     "name": "stdout",
     "output_type": "stream",
     "text": [
      "[Voting] ...................... (1 of 4) Processing KNN, total=   0.0s\n",
      "[Voting] ...................... (2 of 4) Processing SVC, total=   4.8s\n",
      "[Voting] ..................... (3 of 4) Processing LGBM, total=   0.2s\n",
      "WARNING:tensorflow:Error in loading the saved optimizer state. As a result, your model is starting with a freshly initialized optimizer.\n",
      "[Voting] ...................... (4 of 4) Processing ANN, total=  20.5s\n",
      "Iterazione 229 [[4 0]\n",
      " [0 0]]\n",
      "accuracy 1.0\n"
     ]
    },
    {
     "name": "stderr",
     "output_type": "stream",
     "text": [
      "<ipython-input-54-0786b9e49dc3>:22: DeprecationWarning: KerasClassifier is deprecated, use Sci-Keras (https://github.com/adriangb/scikeras) instead.\n",
      "  ANN_best = keras.wrappers.scikit_learn.KerasClassifier(build_nn, epochs= 200, verbose=False)\n"
     ]
    },
    {
     "name": "stdout",
     "output_type": "stream",
     "text": [
      "[Voting] ...................... (1 of 4) Processing KNN, total=   0.0s\n",
      "[Voting] ...................... (2 of 4) Processing SVC, total=   4.9s\n",
      "[Voting] ..................... (3 of 4) Processing LGBM, total=   0.2s\n",
      "WARNING:tensorflow:Error in loading the saved optimizer state. As a result, your model is starting with a freshly initialized optimizer.\n",
      "[Voting] ...................... (4 of 4) Processing ANN, total=  20.2s\n",
      "Iterazione 230 [[0 0]\n",
      " [0 2]]\n",
      "accuracy 1.0\n"
     ]
    },
    {
     "name": "stderr",
     "output_type": "stream",
     "text": [
      "<ipython-input-54-0786b9e49dc3>:22: DeprecationWarning: KerasClassifier is deprecated, use Sci-Keras (https://github.com/adriangb/scikeras) instead.\n",
      "  ANN_best = keras.wrappers.scikit_learn.KerasClassifier(build_nn, epochs= 200, verbose=False)\n"
     ]
    },
    {
     "name": "stdout",
     "output_type": "stream",
     "text": [
      "[Voting] ...................... (1 of 4) Processing KNN, total=   0.0s\n",
      "[Voting] ...................... (2 of 4) Processing SVC, total=   4.9s\n",
      "[Voting] ..................... (3 of 4) Processing LGBM, total=   0.2s\n",
      "WARNING:tensorflow:Error in loading the saved optimizer state. As a result, your model is starting with a freshly initialized optimizer.\n",
      "[Voting] ...................... (4 of 4) Processing ANN, total=  20.9s\n",
      "Iterazione 231 [[1 1]\n",
      " [0 0]]\n",
      "accuracy 0.5\n"
     ]
    },
    {
     "name": "stderr",
     "output_type": "stream",
     "text": [
      "<ipython-input-54-0786b9e49dc3>:22: DeprecationWarning: KerasClassifier is deprecated, use Sci-Keras (https://github.com/adriangb/scikeras) instead.\n",
      "  ANN_best = keras.wrappers.scikit_learn.KerasClassifier(build_nn, epochs= 200, verbose=False)\n"
     ]
    },
    {
     "name": "stdout",
     "output_type": "stream",
     "text": [
      "[Voting] ...................... (1 of 4) Processing KNN, total=   0.0s\n",
      "[Voting] ...................... (2 of 4) Processing SVC, total=   4.7s\n",
      "[Voting] ..................... (3 of 4) Processing LGBM, total=   0.3s\n",
      "WARNING:tensorflow:Error in loading the saved optimizer state. As a result, your model is starting with a freshly initialized optimizer.\n",
      "[Voting] ...................... (4 of 4) Processing ANN, total=  20.6s\n",
      "Iterazione 232 [[4 0]\n",
      " [0 0]]\n",
      "accuracy 1.0\n"
     ]
    },
    {
     "name": "stderr",
     "output_type": "stream",
     "text": [
      "<ipython-input-54-0786b9e49dc3>:22: DeprecationWarning: KerasClassifier is deprecated, use Sci-Keras (https://github.com/adriangb/scikeras) instead.\n",
      "  ANN_best = keras.wrappers.scikit_learn.KerasClassifier(build_nn, epochs= 200, verbose=False)\n"
     ]
    },
    {
     "name": "stdout",
     "output_type": "stream",
     "text": [
      "[Voting] ...................... (1 of 4) Processing KNN, total=   0.0s\n",
      "[Voting] ...................... (2 of 4) Processing SVC, total=   4.6s\n",
      "[Voting] ..................... (3 of 4) Processing LGBM, total=   0.2s\n",
      "WARNING:tensorflow:Error in loading the saved optimizer state. As a result, your model is starting with a freshly initialized optimizer.\n",
      "[Voting] ...................... (4 of 4) Processing ANN, total=  20.3s\n",
      "Iterazione 233 [[0 0]\n",
      " [1 1]]\n",
      "accuracy 0.5\n"
     ]
    },
    {
     "name": "stderr",
     "output_type": "stream",
     "text": [
      "<ipython-input-54-0786b9e49dc3>:22: DeprecationWarning: KerasClassifier is deprecated, use Sci-Keras (https://github.com/adriangb/scikeras) instead.\n",
      "  ANN_best = keras.wrappers.scikit_learn.KerasClassifier(build_nn, epochs= 200, verbose=False)\n"
     ]
    },
    {
     "name": "stdout",
     "output_type": "stream",
     "text": [
      "[Voting] ...................... (1 of 4) Processing KNN, total=   0.0s\n",
      "[Voting] ...................... (2 of 4) Processing SVC, total=   4.4s\n",
      "[Voting] ..................... (3 of 4) Processing LGBM, total=   0.3s\n",
      "WARNING:tensorflow:Error in loading the saved optimizer state. As a result, your model is starting with a freshly initialized optimizer.\n",
      "[Voting] ...................... (4 of 4) Processing ANN, total=  20.1s\n",
      "Iterazione 234 [[0 0]\n",
      " [0 3]]\n",
      "accuracy 1.0\n"
     ]
    },
    {
     "name": "stderr",
     "output_type": "stream",
     "text": [
      "<ipython-input-54-0786b9e49dc3>:22: DeprecationWarning: KerasClassifier is deprecated, use Sci-Keras (https://github.com/adriangb/scikeras) instead.\n",
      "  ANN_best = keras.wrappers.scikit_learn.KerasClassifier(build_nn, epochs= 200, verbose=False)\n"
     ]
    },
    {
     "name": "stdout",
     "output_type": "stream",
     "text": [
      "[Voting] ...................... (1 of 4) Processing KNN, total=   0.0s\n",
      "[Voting] ...................... (2 of 4) Processing SVC, total=   4.7s\n",
      "[Voting] ..................... (3 of 4) Processing LGBM, total=   0.2s\n",
      "WARNING:tensorflow:Error in loading the saved optimizer state. As a result, your model is starting with a freshly initialized optimizer.\n",
      "[Voting] ...................... (4 of 4) Processing ANN, total=  20.0s\n",
      "Iterazione 235 [[3 0]\n",
      " [0 0]]\n",
      "accuracy 1.0\n"
     ]
    },
    {
     "name": "stderr",
     "output_type": "stream",
     "text": [
      "<ipython-input-54-0786b9e49dc3>:22: DeprecationWarning: KerasClassifier is deprecated, use Sci-Keras (https://github.com/adriangb/scikeras) instead.\n",
      "  ANN_best = keras.wrappers.scikit_learn.KerasClassifier(build_nn, epochs= 200, verbose=False)\n"
     ]
    },
    {
     "name": "stdout",
     "output_type": "stream",
     "text": [
      "[Voting] ...................... (1 of 4) Processing KNN, total=   0.0s\n",
      "[Voting] ...................... (2 of 4) Processing SVC, total=   4.7s\n",
      "[Voting] ..................... (3 of 4) Processing LGBM, total=   0.3s\n",
      "WARNING:tensorflow:Error in loading the saved optimizer state. As a result, your model is starting with a freshly initialized optimizer.\n",
      "[Voting] ...................... (4 of 4) Processing ANN, total=  20.6s\n",
      "Iterazione 236 [[1 2]\n",
      " [0 0]]\n",
      "accuracy 0.3333333333333333\n"
     ]
    },
    {
     "name": "stderr",
     "output_type": "stream",
     "text": [
      "<ipython-input-54-0786b9e49dc3>:22: DeprecationWarning: KerasClassifier is deprecated, use Sci-Keras (https://github.com/adriangb/scikeras) instead.\n",
      "  ANN_best = keras.wrappers.scikit_learn.KerasClassifier(build_nn, epochs= 200, verbose=False)\n"
     ]
    },
    {
     "name": "stdout",
     "output_type": "stream",
     "text": [
      "[Voting] ...................... (1 of 4) Processing KNN, total=   0.0s\n",
      "[Voting] ...................... (2 of 4) Processing SVC, total=   4.7s\n",
      "[Voting] ..................... (3 of 4) Processing LGBM, total=   0.2s\n",
      "WARNING:tensorflow:Error in loading the saved optimizer state. As a result, your model is starting with a freshly initialized optimizer.\n",
      "[Voting] ...................... (4 of 4) Processing ANN, total=  20.9s\n",
      "Iterazione 237 [[0 0]\n",
      " [0 2]]\n",
      "accuracy 1.0\n"
     ]
    },
    {
     "name": "stderr",
     "output_type": "stream",
     "text": [
      "<ipython-input-54-0786b9e49dc3>:22: DeprecationWarning: KerasClassifier is deprecated, use Sci-Keras (https://github.com/adriangb/scikeras) instead.\n",
      "  ANN_best = keras.wrappers.scikit_learn.KerasClassifier(build_nn, epochs= 200, verbose=False)\n"
     ]
    },
    {
     "name": "stdout",
     "output_type": "stream",
     "text": [
      "[Voting] ...................... (1 of 4) Processing KNN, total=   0.0s\n",
      "[Voting] ...................... (2 of 4) Processing SVC, total=   4.7s\n",
      "[Voting] ..................... (3 of 4) Processing LGBM, total=   0.2s\n",
      "WARNING:tensorflow:Error in loading the saved optimizer state. As a result, your model is starting with a freshly initialized optimizer.\n",
      "[Voting] ...................... (4 of 4) Processing ANN, total=  20.1s\n",
      "Iterazione 238 [[0 0]\n",
      " [1 2]]\n",
      "accuracy 0.6666666666666666\n"
     ]
    },
    {
     "name": "stderr",
     "output_type": "stream",
     "text": [
      "<ipython-input-54-0786b9e49dc3>:22: DeprecationWarning: KerasClassifier is deprecated, use Sci-Keras (https://github.com/adriangb/scikeras) instead.\n",
      "  ANN_best = keras.wrappers.scikit_learn.KerasClassifier(build_nn, epochs= 200, verbose=False)\n"
     ]
    },
    {
     "name": "stdout",
     "output_type": "stream",
     "text": [
      "[Voting] ...................... (1 of 4) Processing KNN, total=   0.0s\n",
      "[Voting] ...................... (2 of 4) Processing SVC, total=   4.7s\n",
      "[Voting] ..................... (3 of 4) Processing LGBM, total=   0.2s\n",
      "WARNING:tensorflow:Error in loading the saved optimizer state. As a result, your model is starting with a freshly initialized optimizer.\n",
      "[Voting] ...................... (4 of 4) Processing ANN, total=  20.4s\n",
      "Iterazione 239 [[0 0]\n",
      " [0 7]]\n",
      "accuracy 1.0\n"
     ]
    },
    {
     "name": "stderr",
     "output_type": "stream",
     "text": [
      "<ipython-input-54-0786b9e49dc3>:22: DeprecationWarning: KerasClassifier is deprecated, use Sci-Keras (https://github.com/adriangb/scikeras) instead.\n",
      "  ANN_best = keras.wrappers.scikit_learn.KerasClassifier(build_nn, epochs= 200, verbose=False)\n"
     ]
    },
    {
     "name": "stdout",
     "output_type": "stream",
     "text": [
      "[Voting] ...................... (1 of 4) Processing KNN, total=   0.0s\n",
      "[Voting] ...................... (2 of 4) Processing SVC, total=   4.7s\n",
      "[Voting] ..................... (3 of 4) Processing LGBM, total=   0.2s\n",
      "WARNING:tensorflow:Error in loading the saved optimizer state. As a result, your model is starting with a freshly initialized optimizer.\n",
      "[Voting] ...................... (4 of 4) Processing ANN, total=  20.2s\n",
      "Iterazione 240 [[0 0]\n",
      " [1 2]]\n",
      "accuracy 0.6666666666666666\n"
     ]
    },
    {
     "name": "stderr",
     "output_type": "stream",
     "text": [
      "<ipython-input-54-0786b9e49dc3>:22: DeprecationWarning: KerasClassifier is deprecated, use Sci-Keras (https://github.com/adriangb/scikeras) instead.\n",
      "  ANN_best = keras.wrappers.scikit_learn.KerasClassifier(build_nn, epochs= 200, verbose=False)\n"
     ]
    },
    {
     "name": "stdout",
     "output_type": "stream",
     "text": [
      "[Voting] ...................... (1 of 4) Processing KNN, total=   0.0s\n",
      "[Voting] ...................... (2 of 4) Processing SVC, total=   4.7s\n",
      "[Voting] ..................... (3 of 4) Processing LGBM, total=   0.3s\n",
      "WARNING:tensorflow:Error in loading the saved optimizer state. As a result, your model is starting with a freshly initialized optimizer.\n",
      "[Voting] ...................... (4 of 4) Processing ANN, total=  20.3s\n",
      "Iterazione 241 [[0 0]\n",
      " [0 4]]\n",
      "accuracy 1.0\n"
     ]
    },
    {
     "name": "stderr",
     "output_type": "stream",
     "text": [
      "<ipython-input-54-0786b9e49dc3>:22: DeprecationWarning: KerasClassifier is deprecated, use Sci-Keras (https://github.com/adriangb/scikeras) instead.\n",
      "  ANN_best = keras.wrappers.scikit_learn.KerasClassifier(build_nn, epochs= 200, verbose=False)\n"
     ]
    },
    {
     "name": "stdout",
     "output_type": "stream",
     "text": [
      "[Voting] ...................... (1 of 4) Processing KNN, total=   0.0s\n",
      "[Voting] ...................... (2 of 4) Processing SVC, total=   4.8s\n",
      "[Voting] ..................... (3 of 4) Processing LGBM, total=   0.2s\n",
      "WARNING:tensorflow:Error in loading the saved optimizer state. As a result, your model is starting with a freshly initialized optimizer.\n",
      "[Voting] ...................... (4 of 4) Processing ANN, total=  20.0s\n",
      "Iterazione 242 [[0 0]\n",
      " [1 0]]\n",
      "accuracy 0.0\n"
     ]
    },
    {
     "name": "stderr",
     "output_type": "stream",
     "text": [
      "<ipython-input-54-0786b9e49dc3>:22: DeprecationWarning: KerasClassifier is deprecated, use Sci-Keras (https://github.com/adriangb/scikeras) instead.\n",
      "  ANN_best = keras.wrappers.scikit_learn.KerasClassifier(build_nn, epochs= 200, verbose=False)\n"
     ]
    },
    {
     "name": "stdout",
     "output_type": "stream",
     "text": [
      "[Voting] ...................... (1 of 4) Processing KNN, total=   0.0s\n",
      "[Voting] ...................... (2 of 4) Processing SVC, total=   4.7s\n",
      "[Voting] ..................... (3 of 4) Processing LGBM, total=   0.2s\n",
      "WARNING:tensorflow:Error in loading the saved optimizer state. As a result, your model is starting with a freshly initialized optimizer.\n",
      "[Voting] ...................... (4 of 4) Processing ANN, total=  20.1s\n",
      "Iterazione 243 [[0 0]\n",
      " [1 1]]\n",
      "accuracy 0.5\n"
     ]
    },
    {
     "name": "stderr",
     "output_type": "stream",
     "text": [
      "<ipython-input-54-0786b9e49dc3>:22: DeprecationWarning: KerasClassifier is deprecated, use Sci-Keras (https://github.com/adriangb/scikeras) instead.\n",
      "  ANN_best = keras.wrappers.scikit_learn.KerasClassifier(build_nn, epochs= 200, verbose=False)\n"
     ]
    },
    {
     "name": "stdout",
     "output_type": "stream",
     "text": [
      "[Voting] ...................... (1 of 4) Processing KNN, total=   0.0s\n",
      "[Voting] ...................... (2 of 4) Processing SVC, total=   4.8s\n",
      "[Voting] ..................... (3 of 4) Processing LGBM, total=   0.3s\n",
      "WARNING:tensorflow:Error in loading the saved optimizer state. As a result, your model is starting with a freshly initialized optimizer.\n",
      "[Voting] ...................... (4 of 4) Processing ANN, total=  20.2s\n",
      "Iterazione 244 [[1 1]\n",
      " [0 0]]\n",
      "accuracy 0.5\n"
     ]
    },
    {
     "name": "stderr",
     "output_type": "stream",
     "text": [
      "<ipython-input-54-0786b9e49dc3>:22: DeprecationWarning: KerasClassifier is deprecated, use Sci-Keras (https://github.com/adriangb/scikeras) instead.\n",
      "  ANN_best = keras.wrappers.scikit_learn.KerasClassifier(build_nn, epochs= 200, verbose=False)\n"
     ]
    },
    {
     "name": "stdout",
     "output_type": "stream",
     "text": [
      "[Voting] ...................... (1 of 4) Processing KNN, total=   0.0s\n",
      "[Voting] ...................... (2 of 4) Processing SVC, total=   4.3s\n",
      "[Voting] ..................... (3 of 4) Processing LGBM, total=   0.2s\n",
      "WARNING:tensorflow:Error in loading the saved optimizer state. As a result, your model is starting with a freshly initialized optimizer.\n",
      "[Voting] ...................... (4 of 4) Processing ANN, total=  20.3s\n",
      "Iterazione 245 [[0 0]\n",
      " [1 9]]\n",
      "accuracy 0.9\n"
     ]
    },
    {
     "name": "stderr",
     "output_type": "stream",
     "text": [
      "<ipython-input-54-0786b9e49dc3>:22: DeprecationWarning: KerasClassifier is deprecated, use Sci-Keras (https://github.com/adriangb/scikeras) instead.\n",
      "  ANN_best = keras.wrappers.scikit_learn.KerasClassifier(build_nn, epochs= 200, verbose=False)\n"
     ]
    },
    {
     "name": "stdout",
     "output_type": "stream",
     "text": [
      "[Voting] ...................... (1 of 4) Processing KNN, total=   0.0s\n",
      "[Voting] ...................... (2 of 4) Processing SVC, total=   4.7s\n",
      "[Voting] ..................... (3 of 4) Processing LGBM, total=   0.2s\n",
      "WARNING:tensorflow:Error in loading the saved optimizer state. As a result, your model is starting with a freshly initialized optimizer.\n",
      "[Voting] ...................... (4 of 4) Processing ANN, total=  20.2s\n",
      "Iterazione 246 [[0 0]\n",
      " [0 2]]\n",
      "accuracy 1.0\n"
     ]
    },
    {
     "name": "stderr",
     "output_type": "stream",
     "text": [
      "<ipython-input-54-0786b9e49dc3>:22: DeprecationWarning: KerasClassifier is deprecated, use Sci-Keras (https://github.com/adriangb/scikeras) instead.\n",
      "  ANN_best = keras.wrappers.scikit_learn.KerasClassifier(build_nn, epochs= 200, verbose=False)\n"
     ]
    },
    {
     "name": "stdout",
     "output_type": "stream",
     "text": [
      "[Voting] ...................... (1 of 4) Processing KNN, total=   0.0s\n",
      "[Voting] ...................... (2 of 4) Processing SVC, total=   4.7s\n",
      "[Voting] ..................... (3 of 4) Processing LGBM, total=   0.3s\n",
      "WARNING:tensorflow:Error in loading the saved optimizer state. As a result, your model is starting with a freshly initialized optimizer.\n",
      "[Voting] ...................... (4 of 4) Processing ANN, total=  20.1s\n",
      "Iterazione 247 [[4 1]\n",
      " [0 0]]\n",
      "accuracy 0.8\n"
     ]
    },
    {
     "name": "stderr",
     "output_type": "stream",
     "text": [
      "<ipython-input-54-0786b9e49dc3>:22: DeprecationWarning: KerasClassifier is deprecated, use Sci-Keras (https://github.com/adriangb/scikeras) instead.\n",
      "  ANN_best = keras.wrappers.scikit_learn.KerasClassifier(build_nn, epochs= 200, verbose=False)\n"
     ]
    },
    {
     "name": "stdout",
     "output_type": "stream",
     "text": [
      "[Voting] ...................... (1 of 4) Processing KNN, total=   0.0s\n",
      "[Voting] ...................... (2 of 4) Processing SVC, total=   4.6s\n",
      "[Voting] ..................... (3 of 4) Processing LGBM, total=   0.2s\n",
      "WARNING:tensorflow:Error in loading the saved optimizer state. As a result, your model is starting with a freshly initialized optimizer.\n",
      "[Voting] ...................... (4 of 4) Processing ANN, total=  20.4s\n",
      "Iterazione 248 [[2 2]\n",
      " [0 0]]\n",
      "accuracy 0.5\n"
     ]
    },
    {
     "name": "stderr",
     "output_type": "stream",
     "text": [
      "<ipython-input-54-0786b9e49dc3>:22: DeprecationWarning: KerasClassifier is deprecated, use Sci-Keras (https://github.com/adriangb/scikeras) instead.\n",
      "  ANN_best = keras.wrappers.scikit_learn.KerasClassifier(build_nn, epochs= 200, verbose=False)\n"
     ]
    },
    {
     "name": "stdout",
     "output_type": "stream",
     "text": [
      "[Voting] ...................... (1 of 4) Processing KNN, total=   0.0s\n",
      "[Voting] ...................... (2 of 4) Processing SVC, total=   4.7s\n",
      "[Voting] ..................... (3 of 4) Processing LGBM, total=   0.2s\n",
      "WARNING:tensorflow:Error in loading the saved optimizer state. As a result, your model is starting with a freshly initialized optimizer.\n",
      "[Voting] ...................... (4 of 4) Processing ANN, total=  20.1s\n",
      "Iterazione 249 [[1 1]\n",
      " [0 0]]\n",
      "accuracy 0.5\n"
     ]
    },
    {
     "name": "stderr",
     "output_type": "stream",
     "text": [
      "<ipython-input-54-0786b9e49dc3>:22: DeprecationWarning: KerasClassifier is deprecated, use Sci-Keras (https://github.com/adriangb/scikeras) instead.\n",
      "  ANN_best = keras.wrappers.scikit_learn.KerasClassifier(build_nn, epochs= 200, verbose=False)\n"
     ]
    },
    {
     "name": "stdout",
     "output_type": "stream",
     "text": [
      "[Voting] ...................... (1 of 4) Processing KNN, total=   0.0s\n",
      "[Voting] ...................... (2 of 4) Processing SVC, total=   4.7s\n",
      "[Voting] ..................... (3 of 4) Processing LGBM, total=   0.2s\n",
      "WARNING:tensorflow:Error in loading the saved optimizer state. As a result, your model is starting with a freshly initialized optimizer.\n",
      "[Voting] ...................... (4 of 4) Processing ANN, total=  20.3s\n",
      "Iterazione 250 [[2 0]\n",
      " [0 0]]\n",
      "accuracy 1.0\n"
     ]
    },
    {
     "name": "stderr",
     "output_type": "stream",
     "text": [
      "<ipython-input-54-0786b9e49dc3>:22: DeprecationWarning: KerasClassifier is deprecated, use Sci-Keras (https://github.com/adriangb/scikeras) instead.\n",
      "  ANN_best = keras.wrappers.scikit_learn.KerasClassifier(build_nn, epochs= 200, verbose=False)\n"
     ]
    },
    {
     "name": "stdout",
     "output_type": "stream",
     "text": [
      "[Voting] ...................... (1 of 4) Processing KNN, total=   0.0s\n",
      "[Voting] ...................... (2 of 4) Processing SVC, total=   4.7s\n",
      "[Voting] ..................... (3 of 4) Processing LGBM, total=   0.2s\n",
      "WARNING:tensorflow:Error in loading the saved optimizer state. As a result, your model is starting with a freshly initialized optimizer.\n",
      "[Voting] ...................... (4 of 4) Processing ANN, total=  20.1s\n",
      "Iterazione 251 [[ 0  0]\n",
      " [ 0 12]]\n",
      "accuracy 1.0\n"
     ]
    },
    {
     "name": "stderr",
     "output_type": "stream",
     "text": [
      "<ipython-input-54-0786b9e49dc3>:22: DeprecationWarning: KerasClassifier is deprecated, use Sci-Keras (https://github.com/adriangb/scikeras) instead.\n",
      "  ANN_best = keras.wrappers.scikit_learn.KerasClassifier(build_nn, epochs= 200, verbose=False)\n"
     ]
    },
    {
     "name": "stdout",
     "output_type": "stream",
     "text": [
      "[Voting] ...................... (1 of 4) Processing KNN, total=   0.0s\n",
      "[Voting] ...................... (2 of 4) Processing SVC, total=   4.7s\n",
      "[Voting] ..................... (3 of 4) Processing LGBM, total=   0.4s\n",
      "WARNING:tensorflow:Error in loading the saved optimizer state. As a result, your model is starting with a freshly initialized optimizer.\n",
      "[Voting] ...................... (4 of 4) Processing ANN, total=  20.4s\n",
      "Iterazione 252 [[2 0]\n",
      " [0 0]]\n",
      "accuracy 1.0\n"
     ]
    },
    {
     "name": "stderr",
     "output_type": "stream",
     "text": [
      "<ipython-input-54-0786b9e49dc3>:22: DeprecationWarning: KerasClassifier is deprecated, use Sci-Keras (https://github.com/adriangb/scikeras) instead.\n",
      "  ANN_best = keras.wrappers.scikit_learn.KerasClassifier(build_nn, epochs= 200, verbose=False)\n"
     ]
    },
    {
     "name": "stdout",
     "output_type": "stream",
     "text": [
      "[Voting] ...................... (1 of 4) Processing KNN, total=   0.0s\n",
      "[Voting] ...................... (2 of 4) Processing SVC, total=   4.8s\n",
      "[Voting] ..................... (3 of 4) Processing LGBM, total=   0.2s\n",
      "WARNING:tensorflow:Error in loading the saved optimizer state. As a result, your model is starting with a freshly initialized optimizer.\n",
      "[Voting] ...................... (4 of 4) Processing ANN, total=  20.1s\n",
      "Iterazione 253 [[3 5]\n",
      " [0 0]]\n",
      "accuracy 0.375\n"
     ]
    },
    {
     "name": "stderr",
     "output_type": "stream",
     "text": [
      "<ipython-input-54-0786b9e49dc3>:22: DeprecationWarning: KerasClassifier is deprecated, use Sci-Keras (https://github.com/adriangb/scikeras) instead.\n",
      "  ANN_best = keras.wrappers.scikit_learn.KerasClassifier(build_nn, epochs= 200, verbose=False)\n"
     ]
    },
    {
     "name": "stdout",
     "output_type": "stream",
     "text": [
      "[Voting] ...................... (1 of 4) Processing KNN, total=   0.0s\n",
      "[Voting] ...................... (2 of 4) Processing SVC, total=   4.7s\n",
      "[Voting] ..................... (3 of 4) Processing LGBM, total=   0.2s\n",
      "WARNING:tensorflow:Error in loading the saved optimizer state. As a result, your model is starting with a freshly initialized optimizer.\n",
      "[Voting] ...................... (4 of 4) Processing ANN, total=  20.2s\n",
      "Iterazione 254 [[0 0]\n",
      " [0 3]]\n",
      "accuracy 1.0\n"
     ]
    },
    {
     "name": "stderr",
     "output_type": "stream",
     "text": [
      "<ipython-input-54-0786b9e49dc3>:22: DeprecationWarning: KerasClassifier is deprecated, use Sci-Keras (https://github.com/adriangb/scikeras) instead.\n",
      "  ANN_best = keras.wrappers.scikit_learn.KerasClassifier(build_nn, epochs= 200, verbose=False)\n"
     ]
    },
    {
     "name": "stdout",
     "output_type": "stream",
     "text": [
      "[Voting] ...................... (1 of 4) Processing KNN, total=   0.0s\n",
      "[Voting] ...................... (2 of 4) Processing SVC, total=   4.9s\n",
      "[Voting] ..................... (3 of 4) Processing LGBM, total=   0.3s\n",
      "WARNING:tensorflow:Error in loading the saved optimizer state. As a result, your model is starting with a freshly initialized optimizer.\n",
      "[Voting] ...................... (4 of 4) Processing ANN, total=  20.5s\n",
      "Iterazione 255 [[3 3]\n",
      " [0 0]]\n",
      "accuracy 0.5\n"
     ]
    },
    {
     "name": "stderr",
     "output_type": "stream",
     "text": [
      "<ipython-input-54-0786b9e49dc3>:22: DeprecationWarning: KerasClassifier is deprecated, use Sci-Keras (https://github.com/adriangb/scikeras) instead.\n",
      "  ANN_best = keras.wrappers.scikit_learn.KerasClassifier(build_nn, epochs= 200, verbose=False)\n"
     ]
    },
    {
     "name": "stdout",
     "output_type": "stream",
     "text": [
      "[Voting] ...................... (1 of 4) Processing KNN, total=   0.0s\n",
      "[Voting] ...................... (2 of 4) Processing SVC, total=   4.8s\n",
      "[Voting] ..................... (3 of 4) Processing LGBM, total=   0.2s\n",
      "WARNING:tensorflow:Error in loading the saved optimizer state. As a result, your model is starting with a freshly initialized optimizer.\n",
      "[Voting] ...................... (4 of 4) Processing ANN, total=  20.4s\n",
      "Iterazione 256 [[2 1]\n",
      " [0 0]]\n",
      "accuracy 0.6666666666666666\n"
     ]
    },
    {
     "name": "stderr",
     "output_type": "stream",
     "text": [
      "<ipython-input-54-0786b9e49dc3>:22: DeprecationWarning: KerasClassifier is deprecated, use Sci-Keras (https://github.com/adriangb/scikeras) instead.\n",
      "  ANN_best = keras.wrappers.scikit_learn.KerasClassifier(build_nn, epochs= 200, verbose=False)\n"
     ]
    },
    {
     "name": "stdout",
     "output_type": "stream",
     "text": [
      "[Voting] ...................... (1 of 4) Processing KNN, total=   0.0s\n",
      "[Voting] ...................... (2 of 4) Processing SVC, total=   4.7s\n",
      "[Voting] ..................... (3 of 4) Processing LGBM, total=   0.2s\n",
      "WARNING:tensorflow:Error in loading the saved optimizer state. As a result, your model is starting with a freshly initialized optimizer.\n",
      "[Voting] ...................... (4 of 4) Processing ANN, total=  20.1s\n",
      "Iterazione 257 [[0 0]\n",
      " [0 2]]\n",
      "accuracy 1.0\n"
     ]
    },
    {
     "name": "stderr",
     "output_type": "stream",
     "text": [
      "<ipython-input-54-0786b9e49dc3>:22: DeprecationWarning: KerasClassifier is deprecated, use Sci-Keras (https://github.com/adriangb/scikeras) instead.\n",
      "  ANN_best = keras.wrappers.scikit_learn.KerasClassifier(build_nn, epochs= 200, verbose=False)\n"
     ]
    },
    {
     "name": "stdout",
     "output_type": "stream",
     "text": [
      "[Voting] ...................... (1 of 4) Processing KNN, total=   0.0s\n",
      "[Voting] ...................... (2 of 4) Processing SVC, total=   4.6s\n",
      "[Voting] ..................... (3 of 4) Processing LGBM, total=   0.3s\n",
      "WARNING:tensorflow:Error in loading the saved optimizer state. As a result, your model is starting with a freshly initialized optimizer.\n",
      "[Voting] ...................... (4 of 4) Processing ANN, total=  20.5s\n",
      "Iterazione 258 [[0 0]\n",
      " [0 2]]\n",
      "accuracy 1.0\n"
     ]
    },
    {
     "name": "stderr",
     "output_type": "stream",
     "text": [
      "<ipython-input-54-0786b9e49dc3>:22: DeprecationWarning: KerasClassifier is deprecated, use Sci-Keras (https://github.com/adriangb/scikeras) instead.\n",
      "  ANN_best = keras.wrappers.scikit_learn.KerasClassifier(build_nn, epochs= 200, verbose=False)\n"
     ]
    },
    {
     "name": "stdout",
     "output_type": "stream",
     "text": [
      "[Voting] ...................... (1 of 4) Processing KNN, total=   0.0s\n",
      "[Voting] ...................... (2 of 4) Processing SVC, total=   4.7s\n",
      "[Voting] ..................... (3 of 4) Processing LGBM, total=   0.2s\n",
      "WARNING:tensorflow:Error in loading the saved optimizer state. As a result, your model is starting with a freshly initialized optimizer.\n",
      "[Voting] ...................... (4 of 4) Processing ANN, total=  20.3s\n",
      "Iterazione 259 [[0 0]\n",
      " [4 0]]\n",
      "accuracy 0.0\n"
     ]
    },
    {
     "name": "stderr",
     "output_type": "stream",
     "text": [
      "<ipython-input-54-0786b9e49dc3>:22: DeprecationWarning: KerasClassifier is deprecated, use Sci-Keras (https://github.com/adriangb/scikeras) instead.\n",
      "  ANN_best = keras.wrappers.scikit_learn.KerasClassifier(build_nn, epochs= 200, verbose=False)\n"
     ]
    },
    {
     "name": "stdout",
     "output_type": "stream",
     "text": [
      "[Voting] ...................... (1 of 4) Processing KNN, total=   0.0s\n",
      "[Voting] ...................... (2 of 4) Processing SVC, total=   4.8s\n",
      "[Voting] ..................... (3 of 4) Processing LGBM, total=   0.2s\n",
      "WARNING:tensorflow:Error in loading the saved optimizer state. As a result, your model is starting with a freshly initialized optimizer.\n",
      "[Voting] ...................... (4 of 4) Processing ANN, total=  19.9s\n",
      "Iterazione 260 [[3 3]\n",
      " [0 0]]\n",
      "accuracy 0.5\n"
     ]
    },
    {
     "name": "stderr",
     "output_type": "stream",
     "text": [
      "<ipython-input-54-0786b9e49dc3>:22: DeprecationWarning: KerasClassifier is deprecated, use Sci-Keras (https://github.com/adriangb/scikeras) instead.\n",
      "  ANN_best = keras.wrappers.scikit_learn.KerasClassifier(build_nn, epochs= 200, verbose=False)\n"
     ]
    },
    {
     "name": "stdout",
     "output_type": "stream",
     "text": [
      "[Voting] ...................... (1 of 4) Processing KNN, total=   0.0s\n",
      "[Voting] ...................... (2 of 4) Processing SVC, total=   4.8s\n",
      "[Voting] ..................... (3 of 4) Processing LGBM, total=   0.2s\n",
      "WARNING:tensorflow:Error in loading the saved optimizer state. As a result, your model is starting with a freshly initialized optimizer.\n",
      "[Voting] ...................... (4 of 4) Processing ANN, total=  20.1s\n",
      "Iterazione 261 [[0 0]\n",
      " [6 3]]\n",
      "accuracy 0.3333333333333333\n"
     ]
    },
    {
     "name": "stderr",
     "output_type": "stream",
     "text": [
      "<ipython-input-54-0786b9e49dc3>:22: DeprecationWarning: KerasClassifier is deprecated, use Sci-Keras (https://github.com/adriangb/scikeras) instead.\n",
      "  ANN_best = keras.wrappers.scikit_learn.KerasClassifier(build_nn, epochs= 200, verbose=False)\n"
     ]
    },
    {
     "name": "stdout",
     "output_type": "stream",
     "text": [
      "[Voting] ...................... (1 of 4) Processing KNN, total=   0.0s\n",
      "[Voting] ...................... (2 of 4) Processing SVC, total=   4.7s\n",
      "[Voting] ..................... (3 of 4) Processing LGBM, total=   0.2s\n",
      "WARNING:tensorflow:Error in loading the saved optimizer state. As a result, your model is starting with a freshly initialized optimizer.\n",
      "[Voting] ...................... (4 of 4) Processing ANN, total=  20.2s\n",
      "Iterazione 262 [[0 0]\n",
      " [2 0]]\n",
      "accuracy 0.0\n"
     ]
    },
    {
     "name": "stderr",
     "output_type": "stream",
     "text": [
      "<ipython-input-54-0786b9e49dc3>:22: DeprecationWarning: KerasClassifier is deprecated, use Sci-Keras (https://github.com/adriangb/scikeras) instead.\n",
      "  ANN_best = keras.wrappers.scikit_learn.KerasClassifier(build_nn, epochs= 200, verbose=False)\n"
     ]
    },
    {
     "name": "stdout",
     "output_type": "stream",
     "text": [
      "[Voting] ...................... (1 of 4) Processing KNN, total=   0.0s\n",
      "[Voting] ...................... (2 of 4) Processing SVC, total=   4.7s\n",
      "[Voting] ..................... (3 of 4) Processing LGBM, total=   0.2s\n",
      "WARNING:tensorflow:Error in loading the saved optimizer state. As a result, your model is starting with a freshly initialized optimizer.\n",
      "[Voting] ...................... (4 of 4) Processing ANN, total=  20.2s\n",
      "Iterazione 263 [[4 1]\n",
      " [0 0]]\n",
      "accuracy 0.8\n"
     ]
    },
    {
     "name": "stderr",
     "output_type": "stream",
     "text": [
      "<ipython-input-54-0786b9e49dc3>:22: DeprecationWarning: KerasClassifier is deprecated, use Sci-Keras (https://github.com/adriangb/scikeras) instead.\n",
      "  ANN_best = keras.wrappers.scikit_learn.KerasClassifier(build_nn, epochs= 200, verbose=False)\n"
     ]
    },
    {
     "name": "stdout",
     "output_type": "stream",
     "text": [
      "[Voting] ...................... (1 of 4) Processing KNN, total=   0.0s\n",
      "[Voting] ...................... (2 of 4) Processing SVC, total=   4.7s\n",
      "[Voting] ..................... (3 of 4) Processing LGBM, total=   0.2s\n",
      "WARNING:tensorflow:Error in loading the saved optimizer state. As a result, your model is starting with a freshly initialized optimizer.\n",
      "[Voting] ...................... (4 of 4) Processing ANN, total=  20.4s\n",
      "Iterazione 264 [[1 5]\n",
      " [0 0]]\n",
      "accuracy 0.16666666666666666\n"
     ]
    },
    {
     "name": "stderr",
     "output_type": "stream",
     "text": [
      "<ipython-input-54-0786b9e49dc3>:22: DeprecationWarning: KerasClassifier is deprecated, use Sci-Keras (https://github.com/adriangb/scikeras) instead.\n",
      "  ANN_best = keras.wrappers.scikit_learn.KerasClassifier(build_nn, epochs= 200, verbose=False)\n"
     ]
    },
    {
     "name": "stdout",
     "output_type": "stream",
     "text": [
      "[Voting] ...................... (1 of 4) Processing KNN, total=   0.0s\n",
      "[Voting] ...................... (2 of 4) Processing SVC, total=   4.8s\n",
      "[Voting] ..................... (3 of 4) Processing LGBM, total=   0.2s\n",
      "WARNING:tensorflow:Error in loading the saved optimizer state. As a result, your model is starting with a freshly initialized optimizer.\n",
      "[Voting] ...................... (4 of 4) Processing ANN, total=  20.1s\n",
      "Iterazione 265 [[2 1]\n",
      " [0 0]]\n",
      "accuracy 0.6666666666666666\n"
     ]
    },
    {
     "name": "stderr",
     "output_type": "stream",
     "text": [
      "<ipython-input-54-0786b9e49dc3>:22: DeprecationWarning: KerasClassifier is deprecated, use Sci-Keras (https://github.com/adriangb/scikeras) instead.\n",
      "  ANN_best = keras.wrappers.scikit_learn.KerasClassifier(build_nn, epochs= 200, verbose=False)\n"
     ]
    },
    {
     "name": "stdout",
     "output_type": "stream",
     "text": [
      "[Voting] ...................... (1 of 4) Processing KNN, total=   0.0s\n",
      "[Voting] ...................... (2 of 4) Processing SVC, total=   4.8s\n",
      "[Voting] ..................... (3 of 4) Processing LGBM, total=   0.2s\n",
      "WARNING:tensorflow:Error in loading the saved optimizer state. As a result, your model is starting with a freshly initialized optimizer.\n",
      "[Voting] ...................... (4 of 4) Processing ANN, total=  20.2s\n",
      "Iterazione 266 [[0 0]\n",
      " [3 2]]\n",
      "accuracy 0.4\n"
     ]
    },
    {
     "name": "stderr",
     "output_type": "stream",
     "text": [
      "<ipython-input-54-0786b9e49dc3>:22: DeprecationWarning: KerasClassifier is deprecated, use Sci-Keras (https://github.com/adriangb/scikeras) instead.\n",
      "  ANN_best = keras.wrappers.scikit_learn.KerasClassifier(build_nn, epochs= 200, verbose=False)\n"
     ]
    },
    {
     "name": "stdout",
     "output_type": "stream",
     "text": [
      "[Voting] ...................... (1 of 4) Processing KNN, total=   0.0s\n",
      "[Voting] ...................... (2 of 4) Processing SVC, total=   4.7s\n",
      "[Voting] ..................... (3 of 4) Processing LGBM, total=   0.2s\n",
      "WARNING:tensorflow:Error in loading the saved optimizer state. As a result, your model is starting with a freshly initialized optimizer.\n",
      "[Voting] ...................... (4 of 4) Processing ANN, total=  20.3s\n",
      "Iterazione 267 [[9 0]\n",
      " [0 0]]\n",
      "accuracy 1.0\n"
     ]
    },
    {
     "name": "stderr",
     "output_type": "stream",
     "text": [
      "<ipython-input-54-0786b9e49dc3>:22: DeprecationWarning: KerasClassifier is deprecated, use Sci-Keras (https://github.com/adriangb/scikeras) instead.\n",
      "  ANN_best = keras.wrappers.scikit_learn.KerasClassifier(build_nn, epochs= 200, verbose=False)\n"
     ]
    },
    {
     "name": "stdout",
     "output_type": "stream",
     "text": [
      "[Voting] ...................... (1 of 4) Processing KNN, total=   0.0s\n",
      "[Voting] ...................... (2 of 4) Processing SVC, total=   4.9s\n",
      "[Voting] ..................... (3 of 4) Processing LGBM, total=   0.2s\n",
      "WARNING:tensorflow:Error in loading the saved optimizer state. As a result, your model is starting with a freshly initialized optimizer.\n",
      "[Voting] ...................... (4 of 4) Processing ANN, total=  20.2s\n",
      "Iterazione 268 [[2 0]\n",
      " [0 0]]\n",
      "accuracy 1.0\n"
     ]
    },
    {
     "name": "stderr",
     "output_type": "stream",
     "text": [
      "<ipython-input-54-0786b9e49dc3>:22: DeprecationWarning: KerasClassifier is deprecated, use Sci-Keras (https://github.com/adriangb/scikeras) instead.\n",
      "  ANN_best = keras.wrappers.scikit_learn.KerasClassifier(build_nn, epochs= 200, verbose=False)\n"
     ]
    },
    {
     "name": "stdout",
     "output_type": "stream",
     "text": [
      "[Voting] ...................... (1 of 4) Processing KNN, total=   0.0s\n",
      "[Voting] ...................... (2 of 4) Processing SVC, total=   4.7s\n",
      "[Voting] ..................... (3 of 4) Processing LGBM, total=   0.3s\n",
      "WARNING:tensorflow:Error in loading the saved optimizer state. As a result, your model is starting with a freshly initialized optimizer.\n",
      "[Voting] ...................... (4 of 4) Processing ANN, total=  20.6s\n",
      "Iterazione 269 [[0 0]\n",
      " [2 2]]\n",
      "accuracy 0.5\n"
     ]
    },
    {
     "name": "stderr",
     "output_type": "stream",
     "text": [
      "<ipython-input-54-0786b9e49dc3>:22: DeprecationWarning: KerasClassifier is deprecated, use Sci-Keras (https://github.com/adriangb/scikeras) instead.\n",
      "  ANN_best = keras.wrappers.scikit_learn.KerasClassifier(build_nn, epochs= 200, verbose=False)\n"
     ]
    },
    {
     "name": "stdout",
     "output_type": "stream",
     "text": [
      "[Voting] ...................... (1 of 4) Processing KNN, total=   0.0s\n",
      "[Voting] ...................... (2 of 4) Processing SVC, total=   4.6s\n",
      "[Voting] ..................... (3 of 4) Processing LGBM, total=   0.2s\n",
      "WARNING:tensorflow:Error in loading the saved optimizer state. As a result, your model is starting with a freshly initialized optimizer.\n",
      "[Voting] ...................... (4 of 4) Processing ANN, total=  20.2s\n",
      "Iterazione 270 [[0 0]\n",
      " [2 3]]\n",
      "accuracy 0.6\n"
     ]
    },
    {
     "name": "stderr",
     "output_type": "stream",
     "text": [
      "<ipython-input-54-0786b9e49dc3>:22: DeprecationWarning: KerasClassifier is deprecated, use Sci-Keras (https://github.com/adriangb/scikeras) instead.\n",
      "  ANN_best = keras.wrappers.scikit_learn.KerasClassifier(build_nn, epochs= 200, verbose=False)\n"
     ]
    },
    {
     "name": "stdout",
     "output_type": "stream",
     "text": [
      "[Voting] ...................... (1 of 4) Processing KNN, total=   0.0s\n",
      "[Voting] ...................... (2 of 4) Processing SVC, total=   4.4s\n",
      "[Voting] ..................... (3 of 4) Processing LGBM, total=   0.2s\n",
      "WARNING:tensorflow:Error in loading the saved optimizer state. As a result, your model is starting with a freshly initialized optimizer.\n",
      "[Voting] ...................... (4 of 4) Processing ANN, total=  20.2s\n",
      "Iterazione 271 [[0 0]\n",
      " [0 4]]\n",
      "accuracy 1.0\n"
     ]
    },
    {
     "name": "stderr",
     "output_type": "stream",
     "text": [
      "<ipython-input-54-0786b9e49dc3>:22: DeprecationWarning: KerasClassifier is deprecated, use Sci-Keras (https://github.com/adriangb/scikeras) instead.\n",
      "  ANN_best = keras.wrappers.scikit_learn.KerasClassifier(build_nn, epochs= 200, verbose=False)\n"
     ]
    },
    {
     "name": "stdout",
     "output_type": "stream",
     "text": [
      "[Voting] ...................... (1 of 4) Processing KNN, total=   0.0s\n",
      "[Voting] ...................... (2 of 4) Processing SVC, total=   4.8s\n",
      "[Voting] ..................... (3 of 4) Processing LGBM, total=   0.2s\n",
      "WARNING:tensorflow:Error in loading the saved optimizer state. As a result, your model is starting with a freshly initialized optimizer.\n",
      "[Voting] ...................... (4 of 4) Processing ANN, total=  20.3s\n",
      "Iterazione 272 [[0 0]\n",
      " [6 1]]\n",
      "accuracy 0.14285714285714285\n"
     ]
    },
    {
     "name": "stderr",
     "output_type": "stream",
     "text": [
      "<ipython-input-54-0786b9e49dc3>:22: DeprecationWarning: KerasClassifier is deprecated, use Sci-Keras (https://github.com/adriangb/scikeras) instead.\n",
      "  ANN_best = keras.wrappers.scikit_learn.KerasClassifier(build_nn, epochs= 200, verbose=False)\n"
     ]
    },
    {
     "name": "stdout",
     "output_type": "stream",
     "text": [
      "[Voting] ...................... (1 of 4) Processing KNN, total=   0.0s\n",
      "[Voting] ...................... (2 of 4) Processing SVC, total=   4.5s\n",
      "[Voting] ..................... (3 of 4) Processing LGBM, total=   0.2s\n",
      "WARNING:tensorflow:Error in loading the saved optimizer state. As a result, your model is starting with a freshly initialized optimizer.\n",
      "[Voting] ...................... (4 of 4) Processing ANN, total=  20.3s\n",
      "Iterazione 273 [[0 0]\n",
      " [2 2]]\n",
      "accuracy 0.5\n"
     ]
    },
    {
     "name": "stderr",
     "output_type": "stream",
     "text": [
      "<ipython-input-54-0786b9e49dc3>:22: DeprecationWarning: KerasClassifier is deprecated, use Sci-Keras (https://github.com/adriangb/scikeras) instead.\n",
      "  ANN_best = keras.wrappers.scikit_learn.KerasClassifier(build_nn, epochs= 200, verbose=False)\n"
     ]
    },
    {
     "name": "stdout",
     "output_type": "stream",
     "text": [
      "[Voting] ...................... (1 of 4) Processing KNN, total=   0.0s\n",
      "[Voting] ...................... (2 of 4) Processing SVC, total=   4.7s\n",
      "[Voting] ..................... (3 of 4) Processing LGBM, total=   0.2s\n",
      "WARNING:tensorflow:Error in loading the saved optimizer state. As a result, your model is starting with a freshly initialized optimizer.\n",
      "[Voting] ...................... (4 of 4) Processing ANN, total=  20.1s\n",
      "Iterazione 274 [[3 3]\n",
      " [0 0]]\n",
      "accuracy 0.5\n"
     ]
    },
    {
     "name": "stderr",
     "output_type": "stream",
     "text": [
      "<ipython-input-54-0786b9e49dc3>:22: DeprecationWarning: KerasClassifier is deprecated, use Sci-Keras (https://github.com/adriangb/scikeras) instead.\n",
      "  ANN_best = keras.wrappers.scikit_learn.KerasClassifier(build_nn, epochs= 200, verbose=False)\n"
     ]
    },
    {
     "name": "stdout",
     "output_type": "stream",
     "text": [
      "[Voting] ...................... (1 of 4) Processing KNN, total=   0.0s\n",
      "[Voting] ...................... (2 of 4) Processing SVC, total=   4.6s\n",
      "[Voting] ..................... (3 of 4) Processing LGBM, total=   0.2s\n",
      "WARNING:tensorflow:Error in loading the saved optimizer state. As a result, your model is starting with a freshly initialized optimizer.\n",
      "[Voting] ...................... (4 of 4) Processing ANN, total=  20.2s\n",
      "Iterazione 275 [[1 0]\n",
      " [0 0]]\n",
      "accuracy 1.0\n"
     ]
    },
    {
     "name": "stderr",
     "output_type": "stream",
     "text": [
      "<ipython-input-54-0786b9e49dc3>:22: DeprecationWarning: KerasClassifier is deprecated, use Sci-Keras (https://github.com/adriangb/scikeras) instead.\n",
      "  ANN_best = keras.wrappers.scikit_learn.KerasClassifier(build_nn, epochs= 200, verbose=False)\n"
     ]
    },
    {
     "name": "stdout",
     "output_type": "stream",
     "text": [
      "[Voting] ...................... (1 of 4) Processing KNN, total=   0.0s\n",
      "[Voting] ...................... (2 of 4) Processing SVC, total=   4.6s\n",
      "[Voting] ..................... (3 of 4) Processing LGBM, total=   0.3s\n",
      "WARNING:tensorflow:Error in loading the saved optimizer state. As a result, your model is starting with a freshly initialized optimizer.\n",
      "[Voting] ...................... (4 of 4) Processing ANN, total=  19.9s\n",
      "Iterazione 276 [[6 0]\n",
      " [0 0]]\n",
      "accuracy 1.0\n"
     ]
    },
    {
     "name": "stderr",
     "output_type": "stream",
     "text": [
      "<ipython-input-54-0786b9e49dc3>:22: DeprecationWarning: KerasClassifier is deprecated, use Sci-Keras (https://github.com/adriangb/scikeras) instead.\n",
      "  ANN_best = keras.wrappers.scikit_learn.KerasClassifier(build_nn, epochs= 200, verbose=False)\n"
     ]
    },
    {
     "name": "stdout",
     "output_type": "stream",
     "text": [
      "[Voting] ...................... (1 of 4) Processing KNN, total=   0.0s\n",
      "[Voting] ...................... (2 of 4) Processing SVC, total=   4.6s\n",
      "[Voting] ..................... (3 of 4) Processing LGBM, total=   0.4s\n",
      "WARNING:tensorflow:Error in loading the saved optimizer state. As a result, your model is starting with a freshly initialized optimizer.\n",
      "[Voting] ...................... (4 of 4) Processing ANN, total=  20.0s\n",
      "Iterazione 277 [[0 2]\n",
      " [0 0]]\n",
      "accuracy 0.0\n"
     ]
    },
    {
     "name": "stderr",
     "output_type": "stream",
     "text": [
      "<ipython-input-54-0786b9e49dc3>:22: DeprecationWarning: KerasClassifier is deprecated, use Sci-Keras (https://github.com/adriangb/scikeras) instead.\n",
      "  ANN_best = keras.wrappers.scikit_learn.KerasClassifier(build_nn, epochs= 200, verbose=False)\n"
     ]
    },
    {
     "name": "stdout",
     "output_type": "stream",
     "text": [
      "[Voting] ...................... (1 of 4) Processing KNN, total=   0.0s\n",
      "[Voting] ...................... (2 of 4) Processing SVC, total=   4.8s\n",
      "[Voting] ..................... (3 of 4) Processing LGBM, total=   0.2s\n",
      "WARNING:tensorflow:Error in loading the saved optimizer state. As a result, your model is starting with a freshly initialized optimizer.\n",
      "[Voting] ...................... (4 of 4) Processing ANN, total=  20.0s\n",
      "Iterazione 278 [[4 2]\n",
      " [0 0]]\n",
      "accuracy 0.6666666666666666\n"
     ]
    },
    {
     "name": "stderr",
     "output_type": "stream",
     "text": [
      "<ipython-input-54-0786b9e49dc3>:22: DeprecationWarning: KerasClassifier is deprecated, use Sci-Keras (https://github.com/adriangb/scikeras) instead.\n",
      "  ANN_best = keras.wrappers.scikit_learn.KerasClassifier(build_nn, epochs= 200, verbose=False)\n"
     ]
    },
    {
     "name": "stdout",
     "output_type": "stream",
     "text": [
      "[Voting] ...................... (1 of 4) Processing KNN, total=   0.0s\n",
      "[Voting] ...................... (2 of 4) Processing SVC, total=   4.8s\n",
      "[Voting] ..................... (3 of 4) Processing LGBM, total=   0.2s\n",
      "WARNING:tensorflow:Error in loading the saved optimizer state. As a result, your model is starting with a freshly initialized optimizer.\n",
      "[Voting] ...................... (4 of 4) Processing ANN, total=  20.3s\n",
      "Iterazione 279 [[1 1]\n",
      " [0 0]]\n",
      "accuracy 0.5\n"
     ]
    },
    {
     "name": "stderr",
     "output_type": "stream",
     "text": [
      "<ipython-input-54-0786b9e49dc3>:22: DeprecationWarning: KerasClassifier is deprecated, use Sci-Keras (https://github.com/adriangb/scikeras) instead.\n",
      "  ANN_best = keras.wrappers.scikit_learn.KerasClassifier(build_nn, epochs= 200, verbose=False)\n"
     ]
    },
    {
     "name": "stdout",
     "output_type": "stream",
     "text": [
      "[Voting] ...................... (1 of 4) Processing KNN, total=   0.0s\n",
      "[Voting] ...................... (2 of 4) Processing SVC, total=   4.6s\n",
      "[Voting] ..................... (3 of 4) Processing LGBM, total=   0.2s\n",
      "WARNING:tensorflow:Error in loading the saved optimizer state. As a result, your model is starting with a freshly initialized optimizer.\n",
      "[Voting] ...................... (4 of 4) Processing ANN, total=  20.4s\n",
      "Iterazione 280 [[3 0]\n",
      " [0 0]]\n",
      "accuracy 1.0\n"
     ]
    },
    {
     "name": "stderr",
     "output_type": "stream",
     "text": [
      "<ipython-input-54-0786b9e49dc3>:22: DeprecationWarning: KerasClassifier is deprecated, use Sci-Keras (https://github.com/adriangb/scikeras) instead.\n",
      "  ANN_best = keras.wrappers.scikit_learn.KerasClassifier(build_nn, epochs= 200, verbose=False)\n"
     ]
    },
    {
     "name": "stdout",
     "output_type": "stream",
     "text": [
      "[Voting] ...................... (1 of 4) Processing KNN, total=   0.0s\n",
      "[Voting] ...................... (2 of 4) Processing SVC, total=   4.8s\n",
      "[Voting] ..................... (3 of 4) Processing LGBM, total=   0.2s\n",
      "WARNING:tensorflow:Error in loading the saved optimizer state. As a result, your model is starting with a freshly initialized optimizer.\n",
      "[Voting] ...................... (4 of 4) Processing ANN, total=  20.2s\n",
      "Iterazione 281 [[0 1]\n",
      " [0 0]]\n",
      "accuracy 0.0\n"
     ]
    },
    {
     "name": "stderr",
     "output_type": "stream",
     "text": [
      "<ipython-input-54-0786b9e49dc3>:22: DeprecationWarning: KerasClassifier is deprecated, use Sci-Keras (https://github.com/adriangb/scikeras) instead.\n",
      "  ANN_best = keras.wrappers.scikit_learn.KerasClassifier(build_nn, epochs= 200, verbose=False)\n"
     ]
    },
    {
     "name": "stdout",
     "output_type": "stream",
     "text": [
      "[Voting] ...................... (1 of 4) Processing KNN, total=   0.0s\n",
      "[Voting] ...................... (2 of 4) Processing SVC, total=   4.8s\n",
      "[Voting] ..................... (3 of 4) Processing LGBM, total=   0.2s\n",
      "WARNING:tensorflow:Error in loading the saved optimizer state. As a result, your model is starting with a freshly initialized optimizer.\n",
      "[Voting] ...................... (4 of 4) Processing ANN, total=  20.3s\n",
      "Iterazione 282 [[0 0]\n",
      " [3 1]]\n",
      "accuracy 0.25\n"
     ]
    },
    {
     "name": "stderr",
     "output_type": "stream",
     "text": [
      "<ipython-input-54-0786b9e49dc3>:22: DeprecationWarning: KerasClassifier is deprecated, use Sci-Keras (https://github.com/adriangb/scikeras) instead.\n",
      "  ANN_best = keras.wrappers.scikit_learn.KerasClassifier(build_nn, epochs= 200, verbose=False)\n"
     ]
    },
    {
     "name": "stdout",
     "output_type": "stream",
     "text": [
      "[Voting] ...................... (1 of 4) Processing KNN, total=   0.0s\n",
      "[Voting] ...................... (2 of 4) Processing SVC, total=   4.7s\n",
      "[Voting] ..................... (3 of 4) Processing LGBM, total=   0.2s\n",
      "WARNING:tensorflow:Error in loading the saved optimizer state. As a result, your model is starting with a freshly initialized optimizer.\n",
      "[Voting] ...................... (4 of 4) Processing ANN, total=  20.4s\n",
      "Iterazione 283 [[6 4]\n",
      " [0 0]]\n",
      "accuracy 0.6\n"
     ]
    },
    {
     "name": "stderr",
     "output_type": "stream",
     "text": [
      "<ipython-input-54-0786b9e49dc3>:22: DeprecationWarning: KerasClassifier is deprecated, use Sci-Keras (https://github.com/adriangb/scikeras) instead.\n",
      "  ANN_best = keras.wrappers.scikit_learn.KerasClassifier(build_nn, epochs= 200, verbose=False)\n"
     ]
    },
    {
     "name": "stdout",
     "output_type": "stream",
     "text": [
      "[Voting] ...................... (1 of 4) Processing KNN, total=   0.0s\n",
      "[Voting] ...................... (2 of 4) Processing SVC, total=   4.6s\n",
      "[Voting] ..................... (3 of 4) Processing LGBM, total=   0.2s\n",
      "WARNING:tensorflow:Error in loading the saved optimizer state. As a result, your model is starting with a freshly initialized optimizer.\n",
      "[Voting] ...................... (4 of 4) Processing ANN, total=  20.0s\n",
      "Iterazione 284 [[4 3]\n",
      " [0 0]]\n",
      "accuracy 0.5714285714285714\n"
     ]
    },
    {
     "name": "stderr",
     "output_type": "stream",
     "text": [
      "<ipython-input-54-0786b9e49dc3>:22: DeprecationWarning: KerasClassifier is deprecated, use Sci-Keras (https://github.com/adriangb/scikeras) instead.\n",
      "  ANN_best = keras.wrappers.scikit_learn.KerasClassifier(build_nn, epochs= 200, verbose=False)\n"
     ]
    },
    {
     "name": "stdout",
     "output_type": "stream",
     "text": [
      "[Voting] ...................... (1 of 4) Processing KNN, total=   0.0s\n",
      "[Voting] ...................... (2 of 4) Processing SVC, total=   4.7s\n",
      "[Voting] ..................... (3 of 4) Processing LGBM, total=   0.2s\n",
      "WARNING:tensorflow:Error in loading the saved optimizer state. As a result, your model is starting with a freshly initialized optimizer.\n",
      "[Voting] ...................... (4 of 4) Processing ANN, total=  19.8s\n",
      "Iterazione 285 [[ 0  0]\n",
      " [ 0 18]]\n",
      "accuracy 1.0\n"
     ]
    },
    {
     "name": "stderr",
     "output_type": "stream",
     "text": [
      "<ipython-input-54-0786b9e49dc3>:22: DeprecationWarning: KerasClassifier is deprecated, use Sci-Keras (https://github.com/adriangb/scikeras) instead.\n",
      "  ANN_best = keras.wrappers.scikit_learn.KerasClassifier(build_nn, epochs= 200, verbose=False)\n"
     ]
    },
    {
     "name": "stdout",
     "output_type": "stream",
     "text": [
      "[Voting] ...................... (1 of 4) Processing KNN, total=   0.0s\n",
      "[Voting] ...................... (2 of 4) Processing SVC, total=   4.7s\n",
      "[Voting] ..................... (3 of 4) Processing LGBM, total=   0.2s\n",
      "WARNING:tensorflow:Error in loading the saved optimizer state. As a result, your model is starting with a freshly initialized optimizer.\n",
      "[Voting] ...................... (4 of 4) Processing ANN, total=  20.3s\n",
      "Iterazione 286 [[0 0]\n",
      " [5 2]]\n",
      "accuracy 0.2857142857142857\n"
     ]
    },
    {
     "name": "stderr",
     "output_type": "stream",
     "text": [
      "<ipython-input-54-0786b9e49dc3>:22: DeprecationWarning: KerasClassifier is deprecated, use Sci-Keras (https://github.com/adriangb/scikeras) instead.\n",
      "  ANN_best = keras.wrappers.scikit_learn.KerasClassifier(build_nn, epochs= 200, verbose=False)\n"
     ]
    },
    {
     "name": "stdout",
     "output_type": "stream",
     "text": [
      "[Voting] ...................... (1 of 4) Processing KNN, total=   0.0s\n",
      "[Voting] ...................... (2 of 4) Processing SVC, total=   4.8s\n",
      "[Voting] ..................... (3 of 4) Processing LGBM, total=   0.2s\n",
      "WARNING:tensorflow:Error in loading the saved optimizer state. As a result, your model is starting with a freshly initialized optimizer.\n",
      "[Voting] ...................... (4 of 4) Processing ANN, total=  20.2s\n",
      "Iterazione 287 [[1 4]\n",
      " [0 0]]\n",
      "accuracy 0.2\n"
     ]
    },
    {
     "name": "stderr",
     "output_type": "stream",
     "text": [
      "<ipython-input-54-0786b9e49dc3>:22: DeprecationWarning: KerasClassifier is deprecated, use Sci-Keras (https://github.com/adriangb/scikeras) instead.\n",
      "  ANN_best = keras.wrappers.scikit_learn.KerasClassifier(build_nn, epochs= 200, verbose=False)\n"
     ]
    },
    {
     "name": "stdout",
     "output_type": "stream",
     "text": [
      "[Voting] ...................... (1 of 4) Processing KNN, total=   0.0s\n",
      "[Voting] ...................... (2 of 4) Processing SVC, total=   4.7s\n",
      "[Voting] ..................... (3 of 4) Processing LGBM, total=   0.3s\n",
      "WARNING:tensorflow:Error in loading the saved optimizer state. As a result, your model is starting with a freshly initialized optimizer.\n",
      "[Voting] ...................... (4 of 4) Processing ANN, total=  20.4s\n",
      "Iterazione 288 [[5 1]\n",
      " [0 0]]\n",
      "accuracy 0.8333333333333334\n"
     ]
    },
    {
     "name": "stderr",
     "output_type": "stream",
     "text": [
      "<ipython-input-54-0786b9e49dc3>:22: DeprecationWarning: KerasClassifier is deprecated, use Sci-Keras (https://github.com/adriangb/scikeras) instead.\n",
      "  ANN_best = keras.wrappers.scikit_learn.KerasClassifier(build_nn, epochs= 200, verbose=False)\n"
     ]
    },
    {
     "name": "stdout",
     "output_type": "stream",
     "text": [
      "[Voting] ...................... (1 of 4) Processing KNN, total=   0.0s\n",
      "[Voting] ...................... (2 of 4) Processing SVC, total=   4.9s\n",
      "[Voting] ..................... (3 of 4) Processing LGBM, total=   0.2s\n",
      "WARNING:tensorflow:Error in loading the saved optimizer state. As a result, your model is starting with a freshly initialized optimizer.\n",
      "[Voting] ...................... (4 of 4) Processing ANN, total=  20.1s\n",
      "Iterazione 289 [[3 1]\n",
      " [0 0]]\n",
      "accuracy 0.75\n"
     ]
    },
    {
     "name": "stderr",
     "output_type": "stream",
     "text": [
      "<ipython-input-54-0786b9e49dc3>:22: DeprecationWarning: KerasClassifier is deprecated, use Sci-Keras (https://github.com/adriangb/scikeras) instead.\n",
      "  ANN_best = keras.wrappers.scikit_learn.KerasClassifier(build_nn, epochs= 200, verbose=False)\n"
     ]
    },
    {
     "name": "stdout",
     "output_type": "stream",
     "text": [
      "[Voting] ...................... (1 of 4) Processing KNN, total=   0.0s\n",
      "[Voting] ...................... (2 of 4) Processing SVC, total=   4.6s\n",
      "[Voting] ..................... (3 of 4) Processing LGBM, total=   0.2s\n",
      "WARNING:tensorflow:Error in loading the saved optimizer state. As a result, your model is starting with a freshly initialized optimizer.\n",
      "[Voting] ...................... (4 of 4) Processing ANN, total=  20.2s\n",
      "Iterazione 290 [[0 0]\n",
      " [1 1]]\n",
      "accuracy 0.5\n"
     ]
    },
    {
     "name": "stderr",
     "output_type": "stream",
     "text": [
      "<ipython-input-54-0786b9e49dc3>:22: DeprecationWarning: KerasClassifier is deprecated, use Sci-Keras (https://github.com/adriangb/scikeras) instead.\n",
      "  ANN_best = keras.wrappers.scikit_learn.KerasClassifier(build_nn, epochs= 200, verbose=False)\n"
     ]
    },
    {
     "name": "stdout",
     "output_type": "stream",
     "text": [
      "[Voting] ...................... (1 of 4) Processing KNN, total=   0.0s\n",
      "[Voting] ...................... (2 of 4) Processing SVC, total=   4.7s\n",
      "[Voting] ..................... (3 of 4) Processing LGBM, total=   0.2s\n",
      "WARNING:tensorflow:Error in loading the saved optimizer state. As a result, your model is starting with a freshly initialized optimizer.\n",
      "[Voting] ...................... (4 of 4) Processing ANN, total=  20.5s\n",
      "Iterazione 291 [[0 0]\n",
      " [0 2]]\n",
      "accuracy 1.0\n"
     ]
    },
    {
     "name": "stderr",
     "output_type": "stream",
     "text": [
      "<ipython-input-54-0786b9e49dc3>:22: DeprecationWarning: KerasClassifier is deprecated, use Sci-Keras (https://github.com/adriangb/scikeras) instead.\n",
      "  ANN_best = keras.wrappers.scikit_learn.KerasClassifier(build_nn, epochs= 200, verbose=False)\n"
     ]
    },
    {
     "name": "stdout",
     "output_type": "stream",
     "text": [
      "[Voting] ...................... (1 of 4) Processing KNN, total=   0.0s\n",
      "[Voting] ...................... (2 of 4) Processing SVC, total=   4.9s\n",
      "[Voting] ..................... (3 of 4) Processing LGBM, total=   0.2s\n",
      "WARNING:tensorflow:Error in loading the saved optimizer state. As a result, your model is starting with a freshly initialized optimizer.\n",
      "[Voting] ...................... (4 of 4) Processing ANN, total=  20.2s\n",
      "Iterazione 292 [[0 0]\n",
      " [2 4]]\n",
      "accuracy 0.6666666666666666\n"
     ]
    },
    {
     "name": "stderr",
     "output_type": "stream",
     "text": [
      "<ipython-input-54-0786b9e49dc3>:22: DeprecationWarning: KerasClassifier is deprecated, use Sci-Keras (https://github.com/adriangb/scikeras) instead.\n",
      "  ANN_best = keras.wrappers.scikit_learn.KerasClassifier(build_nn, epochs= 200, verbose=False)\n"
     ]
    },
    {
     "name": "stdout",
     "output_type": "stream",
     "text": [
      "[Voting] ...................... (1 of 4) Processing KNN, total=   0.0s\n",
      "[Voting] ...................... (2 of 4) Processing SVC, total=   4.6s\n",
      "[Voting] ..................... (3 of 4) Processing LGBM, total=   0.2s\n",
      "WARNING:tensorflow:Error in loading the saved optimizer state. As a result, your model is starting with a freshly initialized optimizer.\n",
      "[Voting] ...................... (4 of 4) Processing ANN, total=  20.2s\n",
      "Iterazione 293 [[0 0]\n",
      " [0 6]]\n",
      "accuracy 1.0\n"
     ]
    },
    {
     "name": "stderr",
     "output_type": "stream",
     "text": [
      "<ipython-input-54-0786b9e49dc3>:22: DeprecationWarning: KerasClassifier is deprecated, use Sci-Keras (https://github.com/adriangb/scikeras) instead.\n",
      "  ANN_best = keras.wrappers.scikit_learn.KerasClassifier(build_nn, epochs= 200, verbose=False)\n"
     ]
    },
    {
     "name": "stdout",
     "output_type": "stream",
     "text": [
      "[Voting] ...................... (1 of 4) Processing KNN, total=   0.0s\n",
      "[Voting] ...................... (2 of 4) Processing SVC, total=   4.8s\n",
      "[Voting] ..................... (3 of 4) Processing LGBM, total=   0.2s\n",
      "WARNING:tensorflow:Error in loading the saved optimizer state. As a result, your model is starting with a freshly initialized optimizer.\n",
      "[Voting] ...................... (4 of 4) Processing ANN, total=  20.1s\n",
      "Iterazione 294 [[0 0]\n",
      " [0 1]]\n",
      "accuracy 1.0\n"
     ]
    },
    {
     "name": "stderr",
     "output_type": "stream",
     "text": [
      "<ipython-input-54-0786b9e49dc3>:22: DeprecationWarning: KerasClassifier is deprecated, use Sci-Keras (https://github.com/adriangb/scikeras) instead.\n",
      "  ANN_best = keras.wrappers.scikit_learn.KerasClassifier(build_nn, epochs= 200, verbose=False)\n"
     ]
    },
    {
     "name": "stdout",
     "output_type": "stream",
     "text": [
      "[Voting] ...................... (1 of 4) Processing KNN, total=   0.0s\n",
      "[Voting] ...................... (2 of 4) Processing SVC, total=   4.6s\n",
      "[Voting] ..................... (3 of 4) Processing LGBM, total=   0.2s\n",
      "WARNING:tensorflow:Error in loading the saved optimizer state. As a result, your model is starting with a freshly initialized optimizer.\n",
      "[Voting] ...................... (4 of 4) Processing ANN, total=  20.1s\n",
      "Iterazione 295 [[0 0]\n",
      " [0 8]]\n",
      "accuracy 1.0\n"
     ]
    },
    {
     "name": "stderr",
     "output_type": "stream",
     "text": [
      "<ipython-input-54-0786b9e49dc3>:22: DeprecationWarning: KerasClassifier is deprecated, use Sci-Keras (https://github.com/adriangb/scikeras) instead.\n",
      "  ANN_best = keras.wrappers.scikit_learn.KerasClassifier(build_nn, epochs= 200, verbose=False)\n"
     ]
    },
    {
     "name": "stdout",
     "output_type": "stream",
     "text": [
      "[Voting] ...................... (1 of 4) Processing KNN, total=   0.0s\n",
      "[Voting] ...................... (2 of 4) Processing SVC, total=   4.8s\n",
      "[Voting] ..................... (3 of 4) Processing LGBM, total=   0.3s\n",
      "WARNING:tensorflow:Error in loading the saved optimizer state. As a result, your model is starting with a freshly initialized optimizer.\n",
      "[Voting] ...................... (4 of 4) Processing ANN, total=  20.4s\n",
      "Iterazione 296 [[0 0]\n",
      " [1 2]]\n",
      "accuracy 0.6666666666666666\n"
     ]
    },
    {
     "name": "stderr",
     "output_type": "stream",
     "text": [
      "<ipython-input-54-0786b9e49dc3>:22: DeprecationWarning: KerasClassifier is deprecated, use Sci-Keras (https://github.com/adriangb/scikeras) instead.\n",
      "  ANN_best = keras.wrappers.scikit_learn.KerasClassifier(build_nn, epochs= 200, verbose=False)\n"
     ]
    },
    {
     "name": "stdout",
     "output_type": "stream",
     "text": [
      "[Voting] ...................... (1 of 4) Processing KNN, total=   0.0s\n",
      "[Voting] ...................... (2 of 4) Processing SVC, total=   4.9s\n",
      "[Voting] ..................... (3 of 4) Processing LGBM, total=   0.2s\n",
      "WARNING:tensorflow:Error in loading the saved optimizer state. As a result, your model is starting with a freshly initialized optimizer.\n",
      "[Voting] ...................... (4 of 4) Processing ANN, total=  20.6s\n",
      "Iterazione 297 [[0 4]\n",
      " [0 0]]\n",
      "accuracy 0.0\n"
     ]
    },
    {
     "name": "stderr",
     "output_type": "stream",
     "text": [
      "<ipython-input-54-0786b9e49dc3>:22: DeprecationWarning: KerasClassifier is deprecated, use Sci-Keras (https://github.com/adriangb/scikeras) instead.\n",
      "  ANN_best = keras.wrappers.scikit_learn.KerasClassifier(build_nn, epochs= 200, verbose=False)\n"
     ]
    },
    {
     "name": "stdout",
     "output_type": "stream",
     "text": [
      "[Voting] ...................... (1 of 4) Processing KNN, total=   0.0s\n",
      "[Voting] ...................... (2 of 4) Processing SVC, total=   4.6s\n",
      "[Voting] ..................... (3 of 4) Processing LGBM, total=   0.2s\n",
      "WARNING:tensorflow:Error in loading the saved optimizer state. As a result, your model is starting with a freshly initialized optimizer.\n",
      "[Voting] ...................... (4 of 4) Processing ANN, total=  20.2s\n",
      "Iterazione 298 [[1 1]\n",
      " [0 0]]\n",
      "accuracy 0.5\n"
     ]
    },
    {
     "name": "stderr",
     "output_type": "stream",
     "text": [
      "<ipython-input-54-0786b9e49dc3>:22: DeprecationWarning: KerasClassifier is deprecated, use Sci-Keras (https://github.com/adriangb/scikeras) instead.\n",
      "  ANN_best = keras.wrappers.scikit_learn.KerasClassifier(build_nn, epochs= 200, verbose=False)\n"
     ]
    },
    {
     "name": "stdout",
     "output_type": "stream",
     "text": [
      "[Voting] ...................... (1 of 4) Processing KNN, total=   0.0s\n",
      "[Voting] ...................... (2 of 4) Processing SVC, total=   4.7s\n",
      "[Voting] ..................... (3 of 4) Processing LGBM, total=   0.3s\n",
      "WARNING:tensorflow:Error in loading the saved optimizer state. As a result, your model is starting with a freshly initialized optimizer.\n",
      "[Voting] ...................... (4 of 4) Processing ANN, total=  20.1s\n",
      "Iterazione 299 [[0 0]\n",
      " [0 4]]\n",
      "accuracy 1.0\n"
     ]
    },
    {
     "name": "stderr",
     "output_type": "stream",
     "text": [
      "<ipython-input-54-0786b9e49dc3>:22: DeprecationWarning: KerasClassifier is deprecated, use Sci-Keras (https://github.com/adriangb/scikeras) instead.\n",
      "  ANN_best = keras.wrappers.scikit_learn.KerasClassifier(build_nn, epochs= 200, verbose=False)\n"
     ]
    },
    {
     "name": "stdout",
     "output_type": "stream",
     "text": [
      "[Voting] ...................... (1 of 4) Processing KNN, total=   0.0s\n",
      "[Voting] ...................... (2 of 4) Processing SVC, total=   4.7s\n",
      "[Voting] ..................... (3 of 4) Processing LGBM, total=   0.2s\n",
      "WARNING:tensorflow:Error in loading the saved optimizer state. As a result, your model is starting with a freshly initialized optimizer.\n",
      "[Voting] ...................... (4 of 4) Processing ANN, total=  20.3s\n",
      "Iterazione 300 [[3 3]\n",
      " [0 0]]\n",
      "accuracy 0.5\n"
     ]
    },
    {
     "name": "stderr",
     "output_type": "stream",
     "text": [
      "<ipython-input-54-0786b9e49dc3>:22: DeprecationWarning: KerasClassifier is deprecated, use Sci-Keras (https://github.com/adriangb/scikeras) instead.\n",
      "  ANN_best = keras.wrappers.scikit_learn.KerasClassifier(build_nn, epochs= 200, verbose=False)\n"
     ]
    },
    {
     "name": "stdout",
     "output_type": "stream",
     "text": [
      "[Voting] ...................... (1 of 4) Processing KNN, total=   0.0s\n",
      "[Voting] ...................... (2 of 4) Processing SVC, total=   4.7s\n",
      "[Voting] ..................... (3 of 4) Processing LGBM, total=   0.2s\n",
      "WARNING:tensorflow:Error in loading the saved optimizer state. As a result, your model is starting with a freshly initialized optimizer.\n",
      "[Voting] ...................... (4 of 4) Processing ANN, total=  20.1s\n",
      "Iterazione 301 [[2 0]\n",
      " [0 0]]\n",
      "accuracy 1.0\n"
     ]
    },
    {
     "name": "stderr",
     "output_type": "stream",
     "text": [
      "<ipython-input-54-0786b9e49dc3>:22: DeprecationWarning: KerasClassifier is deprecated, use Sci-Keras (https://github.com/adriangb/scikeras) instead.\n",
      "  ANN_best = keras.wrappers.scikit_learn.KerasClassifier(build_nn, epochs= 200, verbose=False)\n"
     ]
    },
    {
     "name": "stdout",
     "output_type": "stream",
     "text": [
      "[Voting] ...................... (1 of 4) Processing KNN, total=   0.0s\n",
      "[Voting] ...................... (2 of 4) Processing SVC, total=   4.7s\n",
      "[Voting] ..................... (3 of 4) Processing LGBM, total=   0.2s\n",
      "WARNING:tensorflow:Error in loading the saved optimizer state. As a result, your model is starting with a freshly initialized optimizer.\n",
      "[Voting] ...................... (4 of 4) Processing ANN, total=  20.3s\n",
      "Iterazione 302 [[2 0]\n",
      " [0 0]]\n",
      "accuracy 1.0\n"
     ]
    },
    {
     "name": "stderr",
     "output_type": "stream",
     "text": [
      "<ipython-input-54-0786b9e49dc3>:22: DeprecationWarning: KerasClassifier is deprecated, use Sci-Keras (https://github.com/adriangb/scikeras) instead.\n",
      "  ANN_best = keras.wrappers.scikit_learn.KerasClassifier(build_nn, epochs= 200, verbose=False)\n"
     ]
    },
    {
     "name": "stdout",
     "output_type": "stream",
     "text": [
      "[Voting] ...................... (1 of 4) Processing KNN, total=   0.0s\n",
      "[Voting] ...................... (2 of 4) Processing SVC, total=   4.9s\n",
      "[Voting] ..................... (3 of 4) Processing LGBM, total=   0.3s\n",
      "WARNING:tensorflow:Error in loading the saved optimizer state. As a result, your model is starting with a freshly initialized optimizer.\n",
      "[Voting] ...................... (4 of 4) Processing ANN, total=  20.3s\n",
      "Iterazione 303 [[0 0]\n",
      " [0 3]]\n",
      "accuracy 1.0\n"
     ]
    },
    {
     "name": "stderr",
     "output_type": "stream",
     "text": [
      "<ipython-input-54-0786b9e49dc3>:22: DeprecationWarning: KerasClassifier is deprecated, use Sci-Keras (https://github.com/adriangb/scikeras) instead.\n",
      "  ANN_best = keras.wrappers.scikit_learn.KerasClassifier(build_nn, epochs= 200, verbose=False)\n"
     ]
    },
    {
     "name": "stdout",
     "output_type": "stream",
     "text": [
      "[Voting] ...................... (1 of 4) Processing KNN, total=   0.0s\n",
      "[Voting] ...................... (2 of 4) Processing SVC, total=   4.6s\n",
      "[Voting] ..................... (3 of 4) Processing LGBM, total=   0.2s\n",
      "WARNING:tensorflow:Error in loading the saved optimizer state. As a result, your model is starting with a freshly initialized optimizer.\n",
      "[Voting] ...................... (4 of 4) Processing ANN, total=  20.1s\n",
      "Iterazione 304 [[0 0]\n",
      " [4 7]]\n",
      "accuracy 0.6363636363636364\n"
     ]
    },
    {
     "name": "stderr",
     "output_type": "stream",
     "text": [
      "<ipython-input-54-0786b9e49dc3>:22: DeprecationWarning: KerasClassifier is deprecated, use Sci-Keras (https://github.com/adriangb/scikeras) instead.\n",
      "  ANN_best = keras.wrappers.scikit_learn.KerasClassifier(build_nn, epochs= 200, verbose=False)\n"
     ]
    },
    {
     "name": "stdout",
     "output_type": "stream",
     "text": [
      "[Voting] ...................... (1 of 4) Processing KNN, total=   0.0s\n",
      "[Voting] ...................... (2 of 4) Processing SVC, total=   4.7s\n",
      "[Voting] ..................... (3 of 4) Processing LGBM, total=   0.2s\n",
      "WARNING:tensorflow:Error in loading the saved optimizer state. As a result, your model is starting with a freshly initialized optimizer.\n",
      "[Voting] ...................... (4 of 4) Processing ANN, total=  20.4s\n",
      "Iterazione 305 [[0 0]\n",
      " [0 6]]\n",
      "accuracy 1.0\n"
     ]
    },
    {
     "name": "stderr",
     "output_type": "stream",
     "text": [
      "<ipython-input-54-0786b9e49dc3>:22: DeprecationWarning: KerasClassifier is deprecated, use Sci-Keras (https://github.com/adriangb/scikeras) instead.\n",
      "  ANN_best = keras.wrappers.scikit_learn.KerasClassifier(build_nn, epochs= 200, verbose=False)\n"
     ]
    },
    {
     "name": "stdout",
     "output_type": "stream",
     "text": [
      "[Voting] ...................... (1 of 4) Processing KNN, total=   0.0s\n",
      "[Voting] ...................... (2 of 4) Processing SVC, total=   4.5s\n",
      "[Voting] ..................... (3 of 4) Processing LGBM, total=   0.2s\n",
      "WARNING:tensorflow:Error in loading the saved optimizer state. As a result, your model is starting with a freshly initialized optimizer.\n",
      "[Voting] ...................... (4 of 4) Processing ANN, total=  21.4s\n",
      "Iterazione 306 [[4 2]\n",
      " [0 0]]\n",
      "accuracy 0.6666666666666666\n"
     ]
    },
    {
     "name": "stderr",
     "output_type": "stream",
     "text": [
      "<ipython-input-54-0786b9e49dc3>:22: DeprecationWarning: KerasClassifier is deprecated, use Sci-Keras (https://github.com/adriangb/scikeras) instead.\n",
      "  ANN_best = keras.wrappers.scikit_learn.KerasClassifier(build_nn, epochs= 200, verbose=False)\n"
     ]
    },
    {
     "name": "stdout",
     "output_type": "stream",
     "text": [
      "[Voting] ...................... (1 of 4) Processing KNN, total=   0.0s\n",
      "[Voting] ...................... (2 of 4) Processing SVC, total=   4.3s\n",
      "[Voting] ..................... (3 of 4) Processing LGBM, total=   0.2s\n",
      "WARNING:tensorflow:Error in loading the saved optimizer state. As a result, your model is starting with a freshly initialized optimizer.\n",
      "[Voting] ...................... (4 of 4) Processing ANN, total=  20.0s\n",
      "Iterazione 307 [[4 1]\n",
      " [0 0]]\n",
      "accuracy 0.8\n"
     ]
    },
    {
     "name": "stderr",
     "output_type": "stream",
     "text": [
      "<ipython-input-54-0786b9e49dc3>:22: DeprecationWarning: KerasClassifier is deprecated, use Sci-Keras (https://github.com/adriangb/scikeras) instead.\n",
      "  ANN_best = keras.wrappers.scikit_learn.KerasClassifier(build_nn, epochs= 200, verbose=False)\n"
     ]
    },
    {
     "name": "stdout",
     "output_type": "stream",
     "text": [
      "[Voting] ...................... (1 of 4) Processing KNN, total=   0.0s\n",
      "[Voting] ...................... (2 of 4) Processing SVC, total=   4.8s\n",
      "[Voting] ..................... (3 of 4) Processing LGBM, total=   0.2s\n",
      "WARNING:tensorflow:Error in loading the saved optimizer state. As a result, your model is starting with a freshly initialized optimizer.\n",
      "[Voting] ...................... (4 of 4) Processing ANN, total=  20.2s\n",
      "Iterazione 308 [[0 0]\n",
      " [2 0]]\n",
      "accuracy 0.0\n"
     ]
    },
    {
     "name": "stderr",
     "output_type": "stream",
     "text": [
      "<ipython-input-54-0786b9e49dc3>:22: DeprecationWarning: KerasClassifier is deprecated, use Sci-Keras (https://github.com/adriangb/scikeras) instead.\n",
      "  ANN_best = keras.wrappers.scikit_learn.KerasClassifier(build_nn, epochs= 200, verbose=False)\n"
     ]
    },
    {
     "name": "stdout",
     "output_type": "stream",
     "text": [
      "[Voting] ...................... (1 of 4) Processing KNN, total=   0.0s\n",
      "[Voting] ...................... (2 of 4) Processing SVC, total=   4.7s\n",
      "[Voting] ..................... (3 of 4) Processing LGBM, total=   0.2s\n",
      "WARNING:tensorflow:Error in loading the saved optimizer state. As a result, your model is starting with a freshly initialized optimizer.\n",
      "[Voting] ...................... (4 of 4) Processing ANN, total=  20.3s\n",
      "Iterazione 309 [[0 0]\n",
      " [2 0]]\n",
      "accuracy 0.0\n"
     ]
    },
    {
     "name": "stderr",
     "output_type": "stream",
     "text": [
      "<ipython-input-54-0786b9e49dc3>:22: DeprecationWarning: KerasClassifier is deprecated, use Sci-Keras (https://github.com/adriangb/scikeras) instead.\n",
      "  ANN_best = keras.wrappers.scikit_learn.KerasClassifier(build_nn, epochs= 200, verbose=False)\n"
     ]
    },
    {
     "name": "stdout",
     "output_type": "stream",
     "text": [
      "[Voting] ...................... (1 of 4) Processing KNN, total=   0.0s\n",
      "[Voting] ...................... (2 of 4) Processing SVC, total=   4.8s\n",
      "[Voting] ..................... (3 of 4) Processing LGBM, total=   0.3s\n",
      "WARNING:tensorflow:Error in loading the saved optimizer state. As a result, your model is starting with a freshly initialized optimizer.\n",
      "[Voting] ...................... (4 of 4) Processing ANN, total=  20.3s\n",
      "Iterazione 310 [[0 0]\n",
      " [3 1]]\n",
      "accuracy 0.25\n"
     ]
    },
    {
     "name": "stderr",
     "output_type": "stream",
     "text": [
      "<ipython-input-54-0786b9e49dc3>:22: DeprecationWarning: KerasClassifier is deprecated, use Sci-Keras (https://github.com/adriangb/scikeras) instead.\n",
      "  ANN_best = keras.wrappers.scikit_learn.KerasClassifier(build_nn, epochs= 200, verbose=False)\n"
     ]
    },
    {
     "name": "stdout",
     "output_type": "stream",
     "text": [
      "[Voting] ...................... (1 of 4) Processing KNN, total=   0.0s\n",
      "[Voting] ...................... (2 of 4) Processing SVC, total=   4.8s\n",
      "[Voting] ..................... (3 of 4) Processing LGBM, total=   0.2s\n",
      "WARNING:tensorflow:Error in loading the saved optimizer state. As a result, your model is starting with a freshly initialized optimizer.\n",
      "[Voting] ...................... (4 of 4) Processing ANN, total=  20.0s\n",
      "Iterazione 311 [[2 1]\n",
      " [0 0]]\n",
      "accuracy 0.6666666666666666\n"
     ]
    },
    {
     "name": "stderr",
     "output_type": "stream",
     "text": [
      "<ipython-input-54-0786b9e49dc3>:22: DeprecationWarning: KerasClassifier is deprecated, use Sci-Keras (https://github.com/adriangb/scikeras) instead.\n",
      "  ANN_best = keras.wrappers.scikit_learn.KerasClassifier(build_nn, epochs= 200, verbose=False)\n"
     ]
    },
    {
     "name": "stdout",
     "output_type": "stream",
     "text": [
      "[Voting] ...................... (1 of 4) Processing KNN, total=   0.0s\n",
      "[Voting] ...................... (2 of 4) Processing SVC, total=   4.8s\n",
      "[Voting] ..................... (3 of 4) Processing LGBM, total=   0.2s\n",
      "WARNING:tensorflow:Error in loading the saved optimizer state. As a result, your model is starting with a freshly initialized optimizer.\n",
      "[Voting] ...................... (4 of 4) Processing ANN, total=  20.1s\n",
      "Iterazione 312 [[1 0]\n",
      " [0 0]]\n",
      "accuracy 1.0\n"
     ]
    },
    {
     "name": "stderr",
     "output_type": "stream",
     "text": [
      "<ipython-input-54-0786b9e49dc3>:22: DeprecationWarning: KerasClassifier is deprecated, use Sci-Keras (https://github.com/adriangb/scikeras) instead.\n",
      "  ANN_best = keras.wrappers.scikit_learn.KerasClassifier(build_nn, epochs= 200, verbose=False)\n"
     ]
    },
    {
     "name": "stdout",
     "output_type": "stream",
     "text": [
      "[Voting] ...................... (1 of 4) Processing KNN, total=   0.0s\n",
      "[Voting] ...................... (2 of 4) Processing SVC, total=   4.8s\n",
      "[Voting] ..................... (3 of 4) Processing LGBM, total=   0.2s\n",
      "WARNING:tensorflow:Error in loading the saved optimizer state. As a result, your model is starting with a freshly initialized optimizer.\n",
      "[Voting] ...................... (4 of 4) Processing ANN, total=  20.3s\n",
      "Iterazione 313 [[3 1]\n",
      " [0 0]]\n",
      "accuracy 0.75\n"
     ]
    },
    {
     "name": "stderr",
     "output_type": "stream",
     "text": [
      "<ipython-input-54-0786b9e49dc3>:22: DeprecationWarning: KerasClassifier is deprecated, use Sci-Keras (https://github.com/adriangb/scikeras) instead.\n",
      "  ANN_best = keras.wrappers.scikit_learn.KerasClassifier(build_nn, epochs= 200, verbose=False)\n"
     ]
    },
    {
     "name": "stdout",
     "output_type": "stream",
     "text": [
      "[Voting] ...................... (1 of 4) Processing KNN, total=   0.0s\n",
      "[Voting] ...................... (2 of 4) Processing SVC, total=   4.5s\n",
      "[Voting] ..................... (3 of 4) Processing LGBM, total=   0.2s\n",
      "WARNING:tensorflow:Error in loading the saved optimizer state. As a result, your model is starting with a freshly initialized optimizer.\n",
      "[Voting] ...................... (4 of 4) Processing ANN, total=  20.4s\n",
      "Iterazione 314 [[5 1]\n",
      " [0 0]]\n",
      "accuracy 0.8333333333333334\n"
     ]
    },
    {
     "name": "stderr",
     "output_type": "stream",
     "text": [
      "<ipython-input-54-0786b9e49dc3>:22: DeprecationWarning: KerasClassifier is deprecated, use Sci-Keras (https://github.com/adriangb/scikeras) instead.\n",
      "  ANN_best = keras.wrappers.scikit_learn.KerasClassifier(build_nn, epochs= 200, verbose=False)\n"
     ]
    },
    {
     "name": "stdout",
     "output_type": "stream",
     "text": [
      "[Voting] ...................... (1 of 4) Processing KNN, total=   0.0s\n",
      "[Voting] ...................... (2 of 4) Processing SVC, total=   4.7s\n",
      "[Voting] ..................... (3 of 4) Processing LGBM, total=   0.3s\n",
      "WARNING:tensorflow:Error in loading the saved optimizer state. As a result, your model is starting with a freshly initialized optimizer.\n",
      "[Voting] ...................... (4 of 4) Processing ANN, total=  20.5s\n",
      "Iterazione 315 [[0 0]\n",
      " [6 4]]\n",
      "accuracy 0.4\n"
     ]
    },
    {
     "name": "stderr",
     "output_type": "stream",
     "text": [
      "<ipython-input-54-0786b9e49dc3>:22: DeprecationWarning: KerasClassifier is deprecated, use Sci-Keras (https://github.com/adriangb/scikeras) instead.\n",
      "  ANN_best = keras.wrappers.scikit_learn.KerasClassifier(build_nn, epochs= 200, verbose=False)\n"
     ]
    },
    {
     "name": "stdout",
     "output_type": "stream",
     "text": [
      "[Voting] ...................... (1 of 4) Processing KNN, total=   0.0s\n",
      "[Voting] ...................... (2 of 4) Processing SVC, total=   4.8s\n",
      "[Voting] ..................... (3 of 4) Processing LGBM, total=   0.2s\n",
      "WARNING:tensorflow:Error in loading the saved optimizer state. As a result, your model is starting with a freshly initialized optimizer.\n",
      "[Voting] ...................... (4 of 4) Processing ANN, total=  20.7s\n",
      "Iterazione 316 [[3 1]\n",
      " [0 0]]\n",
      "accuracy 0.75\n"
     ]
    },
    {
     "name": "stderr",
     "output_type": "stream",
     "text": [
      "<ipython-input-54-0786b9e49dc3>:22: DeprecationWarning: KerasClassifier is deprecated, use Sci-Keras (https://github.com/adriangb/scikeras) instead.\n",
      "  ANN_best = keras.wrappers.scikit_learn.KerasClassifier(build_nn, epochs= 200, verbose=False)\n"
     ]
    },
    {
     "name": "stdout",
     "output_type": "stream",
     "text": [
      "[Voting] ...................... (1 of 4) Processing KNN, total=   0.0s\n",
      "[Voting] ...................... (2 of 4) Processing SVC, total=   4.6s\n",
      "[Voting] ..................... (3 of 4) Processing LGBM, total=   0.2s\n",
      "WARNING:tensorflow:Error in loading the saved optimizer state. As a result, your model is starting with a freshly initialized optimizer.\n",
      "[Voting] ...................... (4 of 4) Processing ANN, total=  20.3s\n",
      "Iterazione 317 [[0 0]\n",
      " [1 3]]\n",
      "accuracy 0.75\n"
     ]
    },
    {
     "name": "stderr",
     "output_type": "stream",
     "text": [
      "<ipython-input-54-0786b9e49dc3>:22: DeprecationWarning: KerasClassifier is deprecated, use Sci-Keras (https://github.com/adriangb/scikeras) instead.\n",
      "  ANN_best = keras.wrappers.scikit_learn.KerasClassifier(build_nn, epochs= 200, verbose=False)\n"
     ]
    },
    {
     "name": "stdout",
     "output_type": "stream",
     "text": [
      "[Voting] ...................... (1 of 4) Processing KNN, total=   0.0s\n",
      "[Voting] ...................... (2 of 4) Processing SVC, total=   4.8s\n",
      "[Voting] ..................... (3 of 4) Processing LGBM, total=   0.2s\n",
      "WARNING:tensorflow:Error in loading the saved optimizer state. As a result, your model is starting with a freshly initialized optimizer.\n",
      "[Voting] ...................... (4 of 4) Processing ANN, total=  19.9s\n",
      "Iterazione 318 [[0 0]\n",
      " [0 2]]\n",
      "accuracy 1.0\n"
     ]
    },
    {
     "name": "stderr",
     "output_type": "stream",
     "text": [
      "<ipython-input-54-0786b9e49dc3>:22: DeprecationWarning: KerasClassifier is deprecated, use Sci-Keras (https://github.com/adriangb/scikeras) instead.\n",
      "  ANN_best = keras.wrappers.scikit_learn.KerasClassifier(build_nn, epochs= 200, verbose=False)\n"
     ]
    },
    {
     "name": "stdout",
     "output_type": "stream",
     "text": [
      "[Voting] ...................... (1 of 4) Processing KNN, total=   0.0s\n",
      "[Voting] ...................... (2 of 4) Processing SVC, total=   4.5s\n",
      "[Voting] ..................... (3 of 4) Processing LGBM, total=   0.2s\n",
      "WARNING:tensorflow:Error in loading the saved optimizer state. As a result, your model is starting with a freshly initialized optimizer.\n",
      "[Voting] ...................... (4 of 4) Processing ANN, total=  20.3s\n",
      "Iterazione 319 [[4 1]\n",
      " [0 0]]\n",
      "accuracy 0.8\n"
     ]
    },
    {
     "name": "stderr",
     "output_type": "stream",
     "text": [
      "<ipython-input-54-0786b9e49dc3>:22: DeprecationWarning: KerasClassifier is deprecated, use Sci-Keras (https://github.com/adriangb/scikeras) instead.\n",
      "  ANN_best = keras.wrappers.scikit_learn.KerasClassifier(build_nn, epochs= 200, verbose=False)\n"
     ]
    },
    {
     "name": "stdout",
     "output_type": "stream",
     "text": [
      "[Voting] ...................... (1 of 4) Processing KNN, total=   0.0s\n",
      "[Voting] ...................... (2 of 4) Processing SVC, total=   4.8s\n",
      "[Voting] ..................... (3 of 4) Processing LGBM, total=   0.2s\n",
      "WARNING:tensorflow:Error in loading the saved optimizer state. As a result, your model is starting with a freshly initialized optimizer.\n",
      "[Voting] ...................... (4 of 4) Processing ANN, total=  20.1s\n",
      "Iterazione 320 [[2 4]\n",
      " [0 0]]\n",
      "accuracy 0.3333333333333333\n"
     ]
    },
    {
     "name": "stderr",
     "output_type": "stream",
     "text": [
      "<ipython-input-54-0786b9e49dc3>:22: DeprecationWarning: KerasClassifier is deprecated, use Sci-Keras (https://github.com/adriangb/scikeras) instead.\n",
      "  ANN_best = keras.wrappers.scikit_learn.KerasClassifier(build_nn, epochs= 200, verbose=False)\n"
     ]
    },
    {
     "name": "stdout",
     "output_type": "stream",
     "text": [
      "[Voting] ...................... (1 of 4) Processing KNN, total=   0.0s\n",
      "[Voting] ...................... (2 of 4) Processing SVC, total=   4.8s\n",
      "[Voting] ..................... (3 of 4) Processing LGBM, total=   0.4s\n",
      "WARNING:tensorflow:Error in loading the saved optimizer state. As a result, your model is starting with a freshly initialized optimizer.\n",
      "[Voting] ...................... (4 of 4) Processing ANN, total=  20.2s\n",
      "Iterazione 321 [[2 2]\n",
      " [0 0]]\n",
      "accuracy 0.5\n"
     ]
    },
    {
     "name": "stderr",
     "output_type": "stream",
     "text": [
      "<ipython-input-54-0786b9e49dc3>:22: DeprecationWarning: KerasClassifier is deprecated, use Sci-Keras (https://github.com/adriangb/scikeras) instead.\n",
      "  ANN_best = keras.wrappers.scikit_learn.KerasClassifier(build_nn, epochs= 200, verbose=False)\n"
     ]
    },
    {
     "name": "stdout",
     "output_type": "stream",
     "text": [
      "[Voting] ...................... (1 of 4) Processing KNN, total=   0.0s\n",
      "[Voting] ...................... (2 of 4) Processing SVC, total=   4.5s\n",
      "[Voting] ..................... (3 of 4) Processing LGBM, total=   0.2s\n",
      "WARNING:tensorflow:Error in loading the saved optimizer state. As a result, your model is starting with a freshly initialized optimizer.\n",
      "[Voting] ...................... (4 of 4) Processing ANN, total=  20.1s\n",
      "Iterazione 322 [[3 0]\n",
      " [0 0]]\n",
      "accuracy 1.0\n"
     ]
    },
    {
     "name": "stderr",
     "output_type": "stream",
     "text": [
      "<ipython-input-54-0786b9e49dc3>:22: DeprecationWarning: KerasClassifier is deprecated, use Sci-Keras (https://github.com/adriangb/scikeras) instead.\n",
      "  ANN_best = keras.wrappers.scikit_learn.KerasClassifier(build_nn, epochs= 200, verbose=False)\n"
     ]
    },
    {
     "name": "stdout",
     "output_type": "stream",
     "text": [
      "[Voting] ...................... (1 of 4) Processing KNN, total=   0.0s\n",
      "[Voting] ...................... (2 of 4) Processing SVC, total=   4.6s\n",
      "[Voting] ..................... (3 of 4) Processing LGBM, total=   0.2s\n",
      "WARNING:tensorflow:Error in loading the saved optimizer state. As a result, your model is starting with a freshly initialized optimizer.\n",
      "[Voting] ...................... (4 of 4) Processing ANN, total=  20.3s\n",
      "Iterazione 323 [[0 0]\n",
      " [1 2]]\n",
      "accuracy 0.6666666666666666\n"
     ]
    },
    {
     "name": "stderr",
     "output_type": "stream",
     "text": [
      "<ipython-input-54-0786b9e49dc3>:22: DeprecationWarning: KerasClassifier is deprecated, use Sci-Keras (https://github.com/adriangb/scikeras) instead.\n",
      "  ANN_best = keras.wrappers.scikit_learn.KerasClassifier(build_nn, epochs= 200, verbose=False)\n"
     ]
    },
    {
     "name": "stdout",
     "output_type": "stream",
     "text": [
      "[Voting] ...................... (1 of 4) Processing KNN, total=   0.0s\n",
      "[Voting] ...................... (2 of 4) Processing SVC, total=   4.6s\n",
      "[Voting] ..................... (3 of 4) Processing LGBM, total=   0.2s\n",
      "WARNING:tensorflow:Error in loading the saved optimizer state. As a result, your model is starting with a freshly initialized optimizer.\n",
      "[Voting] ...................... (4 of 4) Processing ANN, total=  20.2s\n",
      "Iterazione 324 [[3 3]\n",
      " [0 0]]\n",
      "accuracy 0.5\n"
     ]
    },
    {
     "name": "stderr",
     "output_type": "stream",
     "text": [
      "<ipython-input-54-0786b9e49dc3>:22: DeprecationWarning: KerasClassifier is deprecated, use Sci-Keras (https://github.com/adriangb/scikeras) instead.\n",
      "  ANN_best = keras.wrappers.scikit_learn.KerasClassifier(build_nn, epochs= 200, verbose=False)\n"
     ]
    },
    {
     "name": "stdout",
     "output_type": "stream",
     "text": [
      "[Voting] ...................... (1 of 4) Processing KNN, total=   0.0s\n",
      "[Voting] ...................... (2 of 4) Processing SVC, total=   4.8s\n",
      "[Voting] ..................... (3 of 4) Processing LGBM, total=   0.2s\n",
      "WARNING:tensorflow:Error in loading the saved optimizer state. As a result, your model is starting with a freshly initialized optimizer.\n",
      "[Voting] ...................... (4 of 4) Processing ANN, total=  20.1s\n",
      "Iterazione 325 [[3 0]\n",
      " [0 0]]\n",
      "accuracy 1.0\n"
     ]
    },
    {
     "name": "stderr",
     "output_type": "stream",
     "text": [
      "<ipython-input-54-0786b9e49dc3>:22: DeprecationWarning: KerasClassifier is deprecated, use Sci-Keras (https://github.com/adriangb/scikeras) instead.\n",
      "  ANN_best = keras.wrappers.scikit_learn.KerasClassifier(build_nn, epochs= 200, verbose=False)\n"
     ]
    },
    {
     "name": "stdout",
     "output_type": "stream",
     "text": [
      "[Voting] ...................... (1 of 4) Processing KNN, total=   0.0s\n",
      "[Voting] ...................... (2 of 4) Processing SVC, total=   4.7s\n",
      "[Voting] ..................... (3 of 4) Processing LGBM, total=   0.2s\n",
      "WARNING:tensorflow:Error in loading the saved optimizer state. As a result, your model is starting with a freshly initialized optimizer.\n",
      "[Voting] ...................... (4 of 4) Processing ANN, total=  21.7s\n",
      "Iterazione 326 [[0 0]\n",
      " [1 2]]\n",
      "accuracy 0.6666666666666666\n"
     ]
    },
    {
     "name": "stderr",
     "output_type": "stream",
     "text": [
      "<ipython-input-54-0786b9e49dc3>:22: DeprecationWarning: KerasClassifier is deprecated, use Sci-Keras (https://github.com/adriangb/scikeras) instead.\n",
      "  ANN_best = keras.wrappers.scikit_learn.KerasClassifier(build_nn, epochs= 200, verbose=False)\n"
     ]
    },
    {
     "name": "stdout",
     "output_type": "stream",
     "text": [
      "[Voting] ...................... (1 of 4) Processing KNN, total=   0.0s\n",
      "[Voting] ...................... (2 of 4) Processing SVC, total=   5.1s\n",
      "[Voting] ..................... (3 of 4) Processing LGBM, total=   0.3s\n",
      "WARNING:tensorflow:Error in loading the saved optimizer state. As a result, your model is starting with a freshly initialized optimizer.\n",
      "[Voting] ...................... (4 of 4) Processing ANN, total=  24.9s\n",
      "Iterazione 327 [[0 0]\n",
      " [0 2]]\n",
      "accuracy 1.0\n"
     ]
    },
    {
     "name": "stderr",
     "output_type": "stream",
     "text": [
      "<ipython-input-54-0786b9e49dc3>:22: DeprecationWarning: KerasClassifier is deprecated, use Sci-Keras (https://github.com/adriangb/scikeras) instead.\n",
      "  ANN_best = keras.wrappers.scikit_learn.KerasClassifier(build_nn, epochs= 200, verbose=False)\n"
     ]
    },
    {
     "name": "stdout",
     "output_type": "stream",
     "text": [
      "[Voting] ...................... (1 of 4) Processing KNN, total=   0.0s\n",
      "[Voting] ...................... (2 of 4) Processing SVC, total=   5.3s\n",
      "[Voting] ..................... (3 of 4) Processing LGBM, total=   0.3s\n",
      "WARNING:tensorflow:Error in loading the saved optimizer state. As a result, your model is starting with a freshly initialized optimizer.\n",
      "[Voting] ...................... (4 of 4) Processing ANN, total=  25.0s\n",
      "Iterazione 328 [[6 0]\n",
      " [0 0]]\n",
      "accuracy 1.0\n"
     ]
    },
    {
     "name": "stderr",
     "output_type": "stream",
     "text": [
      "<ipython-input-54-0786b9e49dc3>:22: DeprecationWarning: KerasClassifier is deprecated, use Sci-Keras (https://github.com/adriangb/scikeras) instead.\n",
      "  ANN_best = keras.wrappers.scikit_learn.KerasClassifier(build_nn, epochs= 200, verbose=False)\n"
     ]
    },
    {
     "name": "stdout",
     "output_type": "stream",
     "text": [
      "[Voting] ...................... (1 of 4) Processing KNN, total=   0.0s\n",
      "[Voting] ...................... (2 of 4) Processing SVC, total=   5.0s\n",
      "[Voting] ..................... (3 of 4) Processing LGBM, total=   0.3s\n",
      "WARNING:tensorflow:Error in loading the saved optimizer state. As a result, your model is starting with a freshly initialized optimizer.\n",
      "[Voting] ...................... (4 of 4) Processing ANN, total=  24.9s\n",
      "Iterazione 329 [[0 0]\n",
      " [3 3]]\n",
      "accuracy 0.5\n"
     ]
    },
    {
     "name": "stderr",
     "output_type": "stream",
     "text": [
      "<ipython-input-54-0786b9e49dc3>:22: DeprecationWarning: KerasClassifier is deprecated, use Sci-Keras (https://github.com/adriangb/scikeras) instead.\n",
      "  ANN_best = keras.wrappers.scikit_learn.KerasClassifier(build_nn, epochs= 200, verbose=False)\n"
     ]
    },
    {
     "name": "stdout",
     "output_type": "stream",
     "text": [
      "[Voting] ...................... (1 of 4) Processing KNN, total=   0.0s\n",
      "[Voting] ...................... (2 of 4) Processing SVC, total=   5.1s\n",
      "[Voting] ..................... (3 of 4) Processing LGBM, total=   0.3s\n",
      "WARNING:tensorflow:Error in loading the saved optimizer state. As a result, your model is starting with a freshly initialized optimizer.\n",
      "[Voting] ...................... (4 of 4) Processing ANN, total=  24.8s\n",
      "Iterazione 330 [[1 4]\n",
      " [0 0]]\n",
      "accuracy 0.2\n"
     ]
    },
    {
     "name": "stderr",
     "output_type": "stream",
     "text": [
      "<ipython-input-54-0786b9e49dc3>:22: DeprecationWarning: KerasClassifier is deprecated, use Sci-Keras (https://github.com/adriangb/scikeras) instead.\n",
      "  ANN_best = keras.wrappers.scikit_learn.KerasClassifier(build_nn, epochs= 200, verbose=False)\n"
     ]
    },
    {
     "name": "stdout",
     "output_type": "stream",
     "text": [
      "[Voting] ...................... (1 of 4) Processing KNN, total=   0.0s\n",
      "[Voting] ...................... (2 of 4) Processing SVC, total=   5.2s\n",
      "[Voting] ..................... (3 of 4) Processing LGBM, total=   0.3s\n",
      "WARNING:tensorflow:Error in loading the saved optimizer state. As a result, your model is starting with a freshly initialized optimizer.\n",
      "[Voting] ...................... (4 of 4) Processing ANN, total=  24.9s\n",
      "Iterazione 331 [[1 1]\n",
      " [0 0]]\n",
      "accuracy 0.5\n"
     ]
    },
    {
     "name": "stderr",
     "output_type": "stream",
     "text": [
      "<ipython-input-54-0786b9e49dc3>:22: DeprecationWarning: KerasClassifier is deprecated, use Sci-Keras (https://github.com/adriangb/scikeras) instead.\n",
      "  ANN_best = keras.wrappers.scikit_learn.KerasClassifier(build_nn, epochs= 200, verbose=False)\n"
     ]
    },
    {
     "name": "stdout",
     "output_type": "stream",
     "text": [
      "[Voting] ...................... (1 of 4) Processing KNN, total=   0.0s\n",
      "[Voting] ...................... (2 of 4) Processing SVC, total=   5.1s\n",
      "[Voting] ..................... (3 of 4) Processing LGBM, total=   0.3s\n",
      "WARNING:tensorflow:Error in loading the saved optimizer state. As a result, your model is starting with a freshly initialized optimizer.\n",
      "[Voting] ...................... (4 of 4) Processing ANN, total=  24.6s\n",
      "Iterazione 332 [[10  6]\n",
      " [ 0  0]]\n",
      "accuracy 0.625\n"
     ]
    },
    {
     "name": "stderr",
     "output_type": "stream",
     "text": [
      "<ipython-input-54-0786b9e49dc3>:22: DeprecationWarning: KerasClassifier is deprecated, use Sci-Keras (https://github.com/adriangb/scikeras) instead.\n",
      "  ANN_best = keras.wrappers.scikit_learn.KerasClassifier(build_nn, epochs= 200, verbose=False)\n"
     ]
    },
    {
     "name": "stdout",
     "output_type": "stream",
     "text": [
      "[Voting] ...................... (1 of 4) Processing KNN, total=   0.0s\n",
      "[Voting] ...................... (2 of 4) Processing SVC, total=   5.1s\n",
      "[Voting] ..................... (3 of 4) Processing LGBM, total=   0.3s\n",
      "WARNING:tensorflow:Error in loading the saved optimizer state. As a result, your model is starting with a freshly initialized optimizer.\n",
      "[Voting] ...................... (4 of 4) Processing ANN, total=  25.1s\n",
      "Iterazione 333 [[0 0]\n",
      " [3 4]]\n",
      "accuracy 0.5714285714285714\n"
     ]
    },
    {
     "name": "stderr",
     "output_type": "stream",
     "text": [
      "<ipython-input-54-0786b9e49dc3>:22: DeprecationWarning: KerasClassifier is deprecated, use Sci-Keras (https://github.com/adriangb/scikeras) instead.\n",
      "  ANN_best = keras.wrappers.scikit_learn.KerasClassifier(build_nn, epochs= 200, verbose=False)\n"
     ]
    },
    {
     "name": "stdout",
     "output_type": "stream",
     "text": [
      "[Voting] ...................... (1 of 4) Processing KNN, total=   0.0s\n",
      "[Voting] ...................... (2 of 4) Processing SVC, total=   4.9s\n",
      "[Voting] ..................... (3 of 4) Processing LGBM, total=   0.3s\n",
      "WARNING:tensorflow:Error in loading the saved optimizer state. As a result, your model is starting with a freshly initialized optimizer.\n",
      "[Voting] ...................... (4 of 4) Processing ANN, total=  22.4s\n",
      "Iterazione 334 [[2 0]\n",
      " [0 0]]\n",
      "accuracy 1.0\n"
     ]
    },
    {
     "name": "stderr",
     "output_type": "stream",
     "text": [
      "<ipython-input-54-0786b9e49dc3>:22: DeprecationWarning: KerasClassifier is deprecated, use Sci-Keras (https://github.com/adriangb/scikeras) instead.\n",
      "  ANN_best = keras.wrappers.scikit_learn.KerasClassifier(build_nn, epochs= 200, verbose=False)\n"
     ]
    },
    {
     "name": "stdout",
     "output_type": "stream",
     "text": [
      "[Voting] ...................... (1 of 4) Processing KNN, total=   0.0s\n",
      "[Voting] ...................... (2 of 4) Processing SVC, total=   4.8s\n",
      "[Voting] ..................... (3 of 4) Processing LGBM, total=   0.2s\n",
      "WARNING:tensorflow:Error in loading the saved optimizer state. As a result, your model is starting with a freshly initialized optimizer.\n",
      "[Voting] ...................... (4 of 4) Processing ANN, total=  21.9s\n",
      "Iterazione 335 [[6 2]\n",
      " [0 0]]\n",
      "accuracy 0.75\n"
     ]
    },
    {
     "name": "stderr",
     "output_type": "stream",
     "text": [
      "<ipython-input-54-0786b9e49dc3>:22: DeprecationWarning: KerasClassifier is deprecated, use Sci-Keras (https://github.com/adriangb/scikeras) instead.\n",
      "  ANN_best = keras.wrappers.scikit_learn.KerasClassifier(build_nn, epochs= 200, verbose=False)\n"
     ]
    },
    {
     "name": "stdout",
     "output_type": "stream",
     "text": [
      "[Voting] ...................... (1 of 4) Processing KNN, total=   0.0s\n",
      "[Voting] ...................... (2 of 4) Processing SVC, total=   4.9s\n",
      "[Voting] ..................... (3 of 4) Processing LGBM, total=   0.3s\n",
      "WARNING:tensorflow:Error in loading the saved optimizer state. As a result, your model is starting with a freshly initialized optimizer.\n",
      "[Voting] ...................... (4 of 4) Processing ANN, total=  22.7s\n",
      "Iterazione 336 [[4 3]\n",
      " [0 0]]\n",
      "accuracy 0.5714285714285714\n"
     ]
    },
    {
     "name": "stderr",
     "output_type": "stream",
     "text": [
      "<ipython-input-54-0786b9e49dc3>:22: DeprecationWarning: KerasClassifier is deprecated, use Sci-Keras (https://github.com/adriangb/scikeras) instead.\n",
      "  ANN_best = keras.wrappers.scikit_learn.KerasClassifier(build_nn, epochs= 200, verbose=False)\n"
     ]
    },
    {
     "name": "stdout",
     "output_type": "stream",
     "text": [
      "[Voting] ...................... (1 of 4) Processing KNN, total=   0.0s\n",
      "[Voting] ...................... (2 of 4) Processing SVC, total=   4.9s\n",
      "[Voting] ..................... (3 of 4) Processing LGBM, total=   0.3s\n",
      "WARNING:tensorflow:Error in loading the saved optimizer state. As a result, your model is starting with a freshly initialized optimizer.\n",
      "[Voting] ...................... (4 of 4) Processing ANN, total=  24.6s\n",
      "Iterazione 337 [[0 0]\n",
      " [1 8]]\n",
      "accuracy 0.8888888888888888\n"
     ]
    },
    {
     "name": "stderr",
     "output_type": "stream",
     "text": [
      "<ipython-input-54-0786b9e49dc3>:22: DeprecationWarning: KerasClassifier is deprecated, use Sci-Keras (https://github.com/adriangb/scikeras) instead.\n",
      "  ANN_best = keras.wrappers.scikit_learn.KerasClassifier(build_nn, epochs= 200, verbose=False)\n"
     ]
    },
    {
     "name": "stdout",
     "output_type": "stream",
     "text": [
      "[Voting] ...................... (1 of 4) Processing KNN, total=   0.0s\n",
      "[Voting] ...................... (2 of 4) Processing SVC, total=   4.9s\n",
      "[Voting] ..................... (3 of 4) Processing LGBM, total=   0.2s\n",
      "WARNING:tensorflow:Error in loading the saved optimizer state. As a result, your model is starting with a freshly initialized optimizer.\n",
      "[Voting] ...................... (4 of 4) Processing ANN, total=  21.9s\n",
      "Iterazione 338 [[2 0]\n",
      " [0 0]]\n",
      "accuracy 1.0\n"
     ]
    },
    {
     "name": "stderr",
     "output_type": "stream",
     "text": [
      "<ipython-input-54-0786b9e49dc3>:22: DeprecationWarning: KerasClassifier is deprecated, use Sci-Keras (https://github.com/adriangb/scikeras) instead.\n",
      "  ANN_best = keras.wrappers.scikit_learn.KerasClassifier(build_nn, epochs= 200, verbose=False)\n"
     ]
    },
    {
     "name": "stdout",
     "output_type": "stream",
     "text": [
      "[Voting] ...................... (1 of 4) Processing KNN, total=   0.0s\n",
      "[Voting] ...................... (2 of 4) Processing SVC, total=   4.8s\n",
      "[Voting] ..................... (3 of 4) Processing LGBM, total=   0.3s\n",
      "WARNING:tensorflow:Error in loading the saved optimizer state. As a result, your model is starting with a freshly initialized optimizer.\n",
      "[Voting] ...................... (4 of 4) Processing ANN, total=  22.6s\n",
      "Iterazione 339 [[0 0]\n",
      " [0 3]]\n",
      "accuracy 1.0\n"
     ]
    },
    {
     "name": "stderr",
     "output_type": "stream",
     "text": [
      "<ipython-input-54-0786b9e49dc3>:22: DeprecationWarning: KerasClassifier is deprecated, use Sci-Keras (https://github.com/adriangb/scikeras) instead.\n",
      "  ANN_best = keras.wrappers.scikit_learn.KerasClassifier(build_nn, epochs= 200, verbose=False)\n"
     ]
    },
    {
     "name": "stdout",
     "output_type": "stream",
     "text": [
      "[Voting] ...................... (1 of 4) Processing KNN, total=   0.0s\n",
      "[Voting] ...................... (2 of 4) Processing SVC, total=   4.8s\n",
      "[Voting] ..................... (3 of 4) Processing LGBM, total=   0.3s\n",
      "WARNING:tensorflow:Error in loading the saved optimizer state. As a result, your model is starting with a freshly initialized optimizer.\n",
      "[Voting] ...................... (4 of 4) Processing ANN, total=  22.4s\n",
      "Iterazione 340 [[3 3]\n",
      " [0 0]]\n",
      "accuracy 0.5\n"
     ]
    },
    {
     "name": "stderr",
     "output_type": "stream",
     "text": [
      "<ipython-input-54-0786b9e49dc3>:22: DeprecationWarning: KerasClassifier is deprecated, use Sci-Keras (https://github.com/adriangb/scikeras) instead.\n",
      "  ANN_best = keras.wrappers.scikit_learn.KerasClassifier(build_nn, epochs= 200, verbose=False)\n"
     ]
    },
    {
     "name": "stdout",
     "output_type": "stream",
     "text": [
      "[Voting] ...................... (1 of 4) Processing KNN, total=   0.0s\n",
      "[Voting] ...................... (2 of 4) Processing SVC, total=   5.8s\n",
      "[Voting] ..................... (3 of 4) Processing LGBM, total=   0.3s\n",
      "WARNING:tensorflow:Error in loading the saved optimizer state. As a result, your model is starting with a freshly initialized optimizer.\n",
      "[Voting] ...................... (4 of 4) Processing ANN, total=  22.8s\n",
      "Iterazione 341 [[0 0]\n",
      " [1 1]]\n",
      "accuracy 0.5\n"
     ]
    },
    {
     "name": "stderr",
     "output_type": "stream",
     "text": [
      "<ipython-input-54-0786b9e49dc3>:22: DeprecationWarning: KerasClassifier is deprecated, use Sci-Keras (https://github.com/adriangb/scikeras) instead.\n",
      "  ANN_best = keras.wrappers.scikit_learn.KerasClassifier(build_nn, epochs= 200, verbose=False)\n"
     ]
    },
    {
     "name": "stdout",
     "output_type": "stream",
     "text": [
      "[Voting] ...................... (1 of 4) Processing KNN, total=   0.0s\n",
      "[Voting] ...................... (2 of 4) Processing SVC, total=   5.4s\n",
      "[Voting] ..................... (3 of 4) Processing LGBM, total=   0.4s\n",
      "WARNING:tensorflow:Error in loading the saved optimizer state. As a result, your model is starting with a freshly initialized optimizer.\n",
      "[Voting] ...................... (4 of 4) Processing ANN, total=  21.4s\n",
      "Iterazione 342 [[0 0]\n",
      " [2 0]]\n",
      "accuracy 0.0\n"
     ]
    },
    {
     "name": "stderr",
     "output_type": "stream",
     "text": [
      "<ipython-input-54-0786b9e49dc3>:22: DeprecationWarning: KerasClassifier is deprecated, use Sci-Keras (https://github.com/adriangb/scikeras) instead.\n",
      "  ANN_best = keras.wrappers.scikit_learn.KerasClassifier(build_nn, epochs= 200, verbose=False)\n"
     ]
    },
    {
     "name": "stdout",
     "output_type": "stream",
     "text": [
      "[Voting] ...................... (1 of 4) Processing KNN, total=   0.0s\n",
      "[Voting] ...................... (2 of 4) Processing SVC, total=   4.8s\n",
      "[Voting] ..................... (3 of 4) Processing LGBM, total=   0.3s\n",
      "WARNING:tensorflow:Error in loading the saved optimizer state. As a result, your model is starting with a freshly initialized optimizer.\n",
      "[Voting] ...................... (4 of 4) Processing ANN, total=  20.7s\n",
      "Iterazione 343 [[0 0]\n",
      " [1 1]]\n",
      "accuracy 0.5\n"
     ]
    },
    {
     "name": "stderr",
     "output_type": "stream",
     "text": [
      "<ipython-input-54-0786b9e49dc3>:22: DeprecationWarning: KerasClassifier is deprecated, use Sci-Keras (https://github.com/adriangb/scikeras) instead.\n",
      "  ANN_best = keras.wrappers.scikit_learn.KerasClassifier(build_nn, epochs= 200, verbose=False)\n"
     ]
    },
    {
     "name": "stdout",
     "output_type": "stream",
     "text": [
      "[Voting] ...................... (1 of 4) Processing KNN, total=   0.0s\n",
      "[Voting] ...................... (2 of 4) Processing SVC, total=   4.2s\n",
      "[Voting] ..................... (3 of 4) Processing LGBM, total=   0.2s\n",
      "WARNING:tensorflow:Error in loading the saved optimizer state. As a result, your model is starting with a freshly initialized optimizer.\n",
      "[Voting] ...................... (4 of 4) Processing ANN, total=  20.2s\n",
      "Iterazione 344 [[1 2]\n",
      " [0 0]]\n",
      "accuracy 0.3333333333333333\n"
     ]
    },
    {
     "name": "stderr",
     "output_type": "stream",
     "text": [
      "<ipython-input-54-0786b9e49dc3>:22: DeprecationWarning: KerasClassifier is deprecated, use Sci-Keras (https://github.com/adriangb/scikeras) instead.\n",
      "  ANN_best = keras.wrappers.scikit_learn.KerasClassifier(build_nn, epochs= 200, verbose=False)\n"
     ]
    },
    {
     "name": "stdout",
     "output_type": "stream",
     "text": [
      "[Voting] ...................... (1 of 4) Processing KNN, total=   0.0s\n",
      "[Voting] ...................... (2 of 4) Processing SVC, total=   4.7s\n",
      "[Voting] ..................... (3 of 4) Processing LGBM, total=   0.3s\n",
      "WARNING:tensorflow:Error in loading the saved optimizer state. As a result, your model is starting with a freshly initialized optimizer.\n",
      "[Voting] ...................... (4 of 4) Processing ANN, total=  32.7s\n",
      "Iterazione 345 [[0 0]\n",
      " [1 1]]\n",
      "accuracy 0.5\n"
     ]
    },
    {
     "name": "stderr",
     "output_type": "stream",
     "text": [
      "<ipython-input-54-0786b9e49dc3>:22: DeprecationWarning: KerasClassifier is deprecated, use Sci-Keras (https://github.com/adriangb/scikeras) instead.\n",
      "  ANN_best = keras.wrappers.scikit_learn.KerasClassifier(build_nn, epochs= 200, verbose=False)\n"
     ]
    },
    {
     "name": "stdout",
     "output_type": "stream",
     "text": [
      "[Voting] ...................... (1 of 4) Processing KNN, total=   0.0s\n",
      "[Voting] ...................... (2 of 4) Processing SVC, total=   5.5s\n",
      "[Voting] ..................... (3 of 4) Processing LGBM, total=   0.2s\n",
      "WARNING:tensorflow:Error in loading the saved optimizer state. As a result, your model is starting with a freshly initialized optimizer.\n",
      "[Voting] ...................... (4 of 4) Processing ANN, total=  43.6s\n",
      "Iterazione 346 [[0 0]\n",
      " [1 2]]\n",
      "accuracy 0.6666666666666666\n"
     ]
    },
    {
     "name": "stderr",
     "output_type": "stream",
     "text": [
      "<ipython-input-54-0786b9e49dc3>:22: DeprecationWarning: KerasClassifier is deprecated, use Sci-Keras (https://github.com/adriangb/scikeras) instead.\n",
      "  ANN_best = keras.wrappers.scikit_learn.KerasClassifier(build_nn, epochs= 200, verbose=False)\n"
     ]
    },
    {
     "name": "stdout",
     "output_type": "stream",
     "text": [
      "[Voting] ...................... (1 of 4) Processing KNN, total=   0.1s\n",
      "[Voting] ...................... (2 of 4) Processing SVC, total=   8.0s\n",
      "[Voting] ..................... (3 of 4) Processing LGBM, total=   0.3s\n",
      "WARNING:tensorflow:Error in loading the saved optimizer state. As a result, your model is starting with a freshly initialized optimizer.\n",
      "[Voting] ...................... (4 of 4) Processing ANN, total=  34.6s\n",
      "Iterazione 347 [[1 0]\n",
      " [0 0]]\n",
      "accuracy 1.0\n"
     ]
    },
    {
     "name": "stderr",
     "output_type": "stream",
     "text": [
      "<ipython-input-54-0786b9e49dc3>:22: DeprecationWarning: KerasClassifier is deprecated, use Sci-Keras (https://github.com/adriangb/scikeras) instead.\n",
      "  ANN_best = keras.wrappers.scikit_learn.KerasClassifier(build_nn, epochs= 200, verbose=False)\n"
     ]
    },
    {
     "name": "stdout",
     "output_type": "stream",
     "text": [
      "[Voting] ...................... (1 of 4) Processing KNN, total=   0.1s\n",
      "[Voting] ...................... (2 of 4) Processing SVC, total=   8.0s\n",
      "[Voting] ..................... (3 of 4) Processing LGBM, total=   0.3s\n",
      "WARNING:tensorflow:Error in loading the saved optimizer state. As a result, your model is starting with a freshly initialized optimizer.\n",
      "[Voting] ...................... (4 of 4) Processing ANN, total=  34.3s\n",
      "Iterazione 348 [[2 6]\n",
      " [0 0]]\n",
      "accuracy 0.25\n"
     ]
    },
    {
     "name": "stderr",
     "output_type": "stream",
     "text": [
      "<ipython-input-54-0786b9e49dc3>:22: DeprecationWarning: KerasClassifier is deprecated, use Sci-Keras (https://github.com/adriangb/scikeras) instead.\n",
      "  ANN_best = keras.wrappers.scikit_learn.KerasClassifier(build_nn, epochs= 200, verbose=False)\n"
     ]
    },
    {
     "name": "stdout",
     "output_type": "stream",
     "text": [
      "[Voting] ...................... (1 of 4) Processing KNN, total=   0.1s\n",
      "[Voting] ...................... (2 of 4) Processing SVC, total=   8.2s\n",
      "[Voting] ..................... (3 of 4) Processing LGBM, total=   0.3s\n",
      "WARNING:tensorflow:Error in loading the saved optimizer state. As a result, your model is starting with a freshly initialized optimizer.\n",
      "[Voting] ...................... (4 of 4) Processing ANN, total=  46.0s\n",
      "Iterazione 349 [[2 1]\n",
      " [0 0]]\n",
      "accuracy 0.6666666666666666\n"
     ]
    },
    {
     "name": "stderr",
     "output_type": "stream",
     "text": [
      "<ipython-input-54-0786b9e49dc3>:22: DeprecationWarning: KerasClassifier is deprecated, use Sci-Keras (https://github.com/adriangb/scikeras) instead.\n",
      "  ANN_best = keras.wrappers.scikit_learn.KerasClassifier(build_nn, epochs= 200, verbose=False)\n"
     ]
    },
    {
     "name": "stdout",
     "output_type": "stream",
     "text": [
      "[Voting] ...................... (1 of 4) Processing KNN, total=   0.0s\n",
      "[Voting] ...................... (2 of 4) Processing SVC, total=   6.2s\n",
      "[Voting] ..................... (3 of 4) Processing LGBM, total=   0.2s\n",
      "WARNING:tensorflow:Error in loading the saved optimizer state. As a result, your model is starting with a freshly initialized optimizer.\n",
      "[Voting] ...................... (4 of 4) Processing ANN, total=  37.9s\n",
      "Iterazione 350 [[3 5]\n",
      " [0 0]]\n",
      "accuracy 0.375\n"
     ]
    },
    {
     "name": "stderr",
     "output_type": "stream",
     "text": [
      "<ipython-input-54-0786b9e49dc3>:22: DeprecationWarning: KerasClassifier is deprecated, use Sci-Keras (https://github.com/adriangb/scikeras) instead.\n",
      "  ANN_best = keras.wrappers.scikit_learn.KerasClassifier(build_nn, epochs= 200, verbose=False)\n"
     ]
    },
    {
     "name": "stdout",
     "output_type": "stream",
     "text": [
      "[Voting] ...................... (1 of 4) Processing KNN, total=   0.1s\n",
      "[Voting] ...................... (2 of 4) Processing SVC, total=   7.9s\n",
      "[Voting] ..................... (3 of 4) Processing LGBM, total=   0.4s\n",
      "WARNING:tensorflow:Error in loading the saved optimizer state. As a result, your model is starting with a freshly initialized optimizer.\n",
      "[Voting] ...................... (4 of 4) Processing ANN, total=  42.7s\n",
      "Iterazione 351 [[4 4]\n",
      " [0 0]]\n",
      "accuracy 0.5\n"
     ]
    },
    {
     "name": "stderr",
     "output_type": "stream",
     "text": [
      "<ipython-input-54-0786b9e49dc3>:22: DeprecationWarning: KerasClassifier is deprecated, use Sci-Keras (https://github.com/adriangb/scikeras) instead.\n",
      "  ANN_best = keras.wrappers.scikit_learn.KerasClassifier(build_nn, epochs= 200, verbose=False)\n"
     ]
    },
    {
     "name": "stdout",
     "output_type": "stream",
     "text": [
      "[Voting] ...................... (1 of 4) Processing KNN, total=   0.1s\n",
      "[Voting] ...................... (2 of 4) Processing SVC, total=   7.5s\n",
      "[Voting] ..................... (3 of 4) Processing LGBM, total=   0.3s\n",
      "WARNING:tensorflow:Error in loading the saved optimizer state. As a result, your model is starting with a freshly initialized optimizer.\n",
      "[Voting] ...................... (4 of 4) Processing ANN, total=  42.6s\n",
      "Iterazione 352 [[0 0]\n",
      " [0 4]]\n",
      "accuracy 1.0\n"
     ]
    },
    {
     "name": "stderr",
     "output_type": "stream",
     "text": [
      "<ipython-input-54-0786b9e49dc3>:22: DeprecationWarning: KerasClassifier is deprecated, use Sci-Keras (https://github.com/adriangb/scikeras) instead.\n",
      "  ANN_best = keras.wrappers.scikit_learn.KerasClassifier(build_nn, epochs= 200, verbose=False)\n"
     ]
    },
    {
     "name": "stdout",
     "output_type": "stream",
     "text": [
      "[Voting] ...................... (1 of 4) Processing KNN, total=   0.0s\n",
      "[Voting] ...................... (2 of 4) Processing SVC, total=   8.0s\n",
      "[Voting] ..................... (3 of 4) Processing LGBM, total=   0.3s\n",
      "WARNING:tensorflow:Error in loading the saved optimizer state. As a result, your model is starting with a freshly initialized optimizer.\n",
      "[Voting] ...................... (4 of 4) Processing ANN, total=  45.2s\n",
      "Iterazione 353 [[0 0]\n",
      " [0 2]]\n",
      "accuracy 1.0\n"
     ]
    },
    {
     "name": "stderr",
     "output_type": "stream",
     "text": [
      "<ipython-input-54-0786b9e49dc3>:22: DeprecationWarning: KerasClassifier is deprecated, use Sci-Keras (https://github.com/adriangb/scikeras) instead.\n",
      "  ANN_best = keras.wrappers.scikit_learn.KerasClassifier(build_nn, epochs= 200, verbose=False)\n"
     ]
    },
    {
     "name": "stdout",
     "output_type": "stream",
     "text": [
      "[Voting] ...................... (1 of 4) Processing KNN, total=   0.0s\n",
      "[Voting] ...................... (2 of 4) Processing SVC, total=   5.5s\n",
      "[Voting] ..................... (3 of 4) Processing LGBM, total=   0.2s\n",
      "WARNING:tensorflow:Error in loading the saved optimizer state. As a result, your model is starting with a freshly initialized optimizer.\n",
      "[Voting] ...................... (4 of 4) Processing ANN, total=  23.1s\n",
      "Iterazione 354 [[0 0]\n",
      " [4 2]]\n",
      "accuracy 0.3333333333333333\n"
     ]
    },
    {
     "name": "stderr",
     "output_type": "stream",
     "text": [
      "<ipython-input-54-0786b9e49dc3>:22: DeprecationWarning: KerasClassifier is deprecated, use Sci-Keras (https://github.com/adriangb/scikeras) instead.\n",
      "  ANN_best = keras.wrappers.scikit_learn.KerasClassifier(build_nn, epochs= 200, verbose=False)\n"
     ]
    },
    {
     "name": "stdout",
     "output_type": "stream",
     "text": [
      "[Voting] ...................... (1 of 4) Processing KNN, total=   0.0s\n",
      "[Voting] ...................... (2 of 4) Processing SVC, total=   4.6s\n",
      "[Voting] ..................... (3 of 4) Processing LGBM, total=   0.2s\n",
      "WARNING:tensorflow:Error in loading the saved optimizer state. As a result, your model is starting with a freshly initialized optimizer.\n",
      "[Voting] ...................... (4 of 4) Processing ANN, total=  25.2s\n",
      "Iterazione 355 [[0 2]\n",
      " [0 0]]\n",
      "accuracy 0.0\n"
     ]
    },
    {
     "name": "stderr",
     "output_type": "stream",
     "text": [
      "<ipython-input-54-0786b9e49dc3>:22: DeprecationWarning: KerasClassifier is deprecated, use Sci-Keras (https://github.com/adriangb/scikeras) instead.\n",
      "  ANN_best = keras.wrappers.scikit_learn.KerasClassifier(build_nn, epochs= 200, verbose=False)\n"
     ]
    },
    {
     "name": "stdout",
     "output_type": "stream",
     "text": [
      "[Voting] ...................... (1 of 4) Processing KNN, total=   0.0s\n",
      "[Voting] ...................... (2 of 4) Processing SVC, total=   5.6s\n",
      "[Voting] ..................... (3 of 4) Processing LGBM, total=   0.4s\n",
      "WARNING:tensorflow:Error in loading the saved optimizer state. As a result, your model is starting with a freshly initialized optimizer.\n",
      "[Voting] ...................... (4 of 4) Processing ANN, total=  23.2s\n",
      "Iterazione 356 [[0 0]\n",
      " [1 0]]\n",
      "accuracy 0.0\n"
     ]
    },
    {
     "name": "stderr",
     "output_type": "stream",
     "text": [
      "<ipython-input-54-0786b9e49dc3>:22: DeprecationWarning: KerasClassifier is deprecated, use Sci-Keras (https://github.com/adriangb/scikeras) instead.\n",
      "  ANN_best = keras.wrappers.scikit_learn.KerasClassifier(build_nn, epochs= 200, verbose=False)\n"
     ]
    },
    {
     "name": "stdout",
     "output_type": "stream",
     "text": [
      "[Voting] ...................... (1 of 4) Processing KNN, total=   0.0s\n",
      "[Voting] ...................... (2 of 4) Processing SVC, total=   4.8s\n",
      "[Voting] ..................... (3 of 4) Processing LGBM, total=   0.3s\n",
      "WARNING:tensorflow:Error in loading the saved optimizer state. As a result, your model is starting with a freshly initialized optimizer.\n",
      "[Voting] ...................... (4 of 4) Processing ANN, total=  20.4s\n",
      "Iterazione 357 [[0 0]\n",
      " [0 2]]\n",
      "accuracy 1.0\n"
     ]
    },
    {
     "name": "stderr",
     "output_type": "stream",
     "text": [
      "<ipython-input-54-0786b9e49dc3>:22: DeprecationWarning: KerasClassifier is deprecated, use Sci-Keras (https://github.com/adriangb/scikeras) instead.\n",
      "  ANN_best = keras.wrappers.scikit_learn.KerasClassifier(build_nn, epochs= 200, verbose=False)\n"
     ]
    },
    {
     "name": "stdout",
     "output_type": "stream",
     "text": [
      "[Voting] ...................... (1 of 4) Processing KNN, total=   0.0s\n",
      "[Voting] ...................... (2 of 4) Processing SVC, total=   4.9s\n",
      "[Voting] ..................... (3 of 4) Processing LGBM, total=   0.3s\n",
      "WARNING:tensorflow:Error in loading the saved optimizer state. As a result, your model is starting with a freshly initialized optimizer.\n",
      "[Voting] ...................... (4 of 4) Processing ANN, total=  22.4s\n",
      "Iterazione 358 [[0 0]\n",
      " [2 1]]\n",
      "accuracy 0.3333333333333333\n"
     ]
    },
    {
     "name": "stderr",
     "output_type": "stream",
     "text": [
      "<ipython-input-54-0786b9e49dc3>:22: DeprecationWarning: KerasClassifier is deprecated, use Sci-Keras (https://github.com/adriangb/scikeras) instead.\n",
      "  ANN_best = keras.wrappers.scikit_learn.KerasClassifier(build_nn, epochs= 200, verbose=False)\n"
     ]
    },
    {
     "name": "stdout",
     "output_type": "stream",
     "text": [
      "[Voting] ...................... (1 of 4) Processing KNN, total=   0.0s\n",
      "[Voting] ...................... (2 of 4) Processing SVC, total=   5.1s\n",
      "[Voting] ..................... (3 of 4) Processing LGBM, total=   0.3s\n",
      "WARNING:tensorflow:Error in loading the saved optimizer state. As a result, your model is starting with a freshly initialized optimizer.\n",
      "[Voting] ...................... (4 of 4) Processing ANN, total=  22.8s\n",
      "Iterazione 359 [[3 2]\n",
      " [0 0]]\n",
      "accuracy 0.6\n"
     ]
    },
    {
     "name": "stderr",
     "output_type": "stream",
     "text": [
      "<ipython-input-54-0786b9e49dc3>:22: DeprecationWarning: KerasClassifier is deprecated, use Sci-Keras (https://github.com/adriangb/scikeras) instead.\n",
      "  ANN_best = keras.wrappers.scikit_learn.KerasClassifier(build_nn, epochs= 200, verbose=False)\n"
     ]
    },
    {
     "name": "stdout",
     "output_type": "stream",
     "text": [
      "[Voting] ...................... (1 of 4) Processing KNN, total=   0.0s\n",
      "[Voting] ...................... (2 of 4) Processing SVC, total=   5.3s\n",
      "[Voting] ..................... (3 of 4) Processing LGBM, total=   0.3s\n",
      "WARNING:tensorflow:Error in loading the saved optimizer state. As a result, your model is starting with a freshly initialized optimizer.\n",
      "[Voting] ...................... (4 of 4) Processing ANN, total=  25.2s\n",
      "Iterazione 360 [[3 0]\n",
      " [0 0]]\n",
      "accuracy 1.0\n"
     ]
    },
    {
     "name": "stderr",
     "output_type": "stream",
     "text": [
      "<ipython-input-54-0786b9e49dc3>:22: DeprecationWarning: KerasClassifier is deprecated, use Sci-Keras (https://github.com/adriangb/scikeras) instead.\n",
      "  ANN_best = keras.wrappers.scikit_learn.KerasClassifier(build_nn, epochs= 200, verbose=False)\n"
     ]
    },
    {
     "name": "stdout",
     "output_type": "stream",
     "text": [
      "[Voting] ...................... (1 of 4) Processing KNN, total=   0.0s\n",
      "[Voting] ...................... (2 of 4) Processing SVC, total=   5.0s\n",
      "[Voting] ..................... (3 of 4) Processing LGBM, total=   0.7s\n",
      "WARNING:tensorflow:Error in loading the saved optimizer state. As a result, your model is starting with a freshly initialized optimizer.\n",
      "[Voting] ...................... (4 of 4) Processing ANN, total=  26.4s\n",
      "Iterazione 361 [[0 1]\n",
      " [0 0]]\n",
      "accuracy 0.0\n"
     ]
    },
    {
     "name": "stderr",
     "output_type": "stream",
     "text": [
      "<ipython-input-54-0786b9e49dc3>:22: DeprecationWarning: KerasClassifier is deprecated, use Sci-Keras (https://github.com/adriangb/scikeras) instead.\n",
      "  ANN_best = keras.wrappers.scikit_learn.KerasClassifier(build_nn, epochs= 200, verbose=False)\n"
     ]
    },
    {
     "name": "stdout",
     "output_type": "stream",
     "text": [
      "[Voting] ...................... (1 of 4) Processing KNN, total=   0.0s\n",
      "[Voting] ...................... (2 of 4) Processing SVC, total=   4.6s\n",
      "[Voting] ..................... (3 of 4) Processing LGBM, total=   0.2s\n",
      "WARNING:tensorflow:Error in loading the saved optimizer state. As a result, your model is starting with a freshly initialized optimizer.\n",
      "[Voting] ...................... (4 of 4) Processing ANN, total=  23.4s\n",
      "Iterazione 362 [[0 0]\n",
      " [0 1]]\n",
      "accuracy 1.0\n"
     ]
    },
    {
     "name": "stderr",
     "output_type": "stream",
     "text": [
      "<ipython-input-54-0786b9e49dc3>:22: DeprecationWarning: KerasClassifier is deprecated, use Sci-Keras (https://github.com/adriangb/scikeras) instead.\n",
      "  ANN_best = keras.wrappers.scikit_learn.KerasClassifier(build_nn, epochs= 200, verbose=False)\n"
     ]
    },
    {
     "name": "stdout",
     "output_type": "stream",
     "text": [
      "[Voting] ...................... (1 of 4) Processing KNN, total=   0.0s\n",
      "[Voting] ...................... (2 of 4) Processing SVC, total=   4.6s\n",
      "[Voting] ..................... (3 of 4) Processing LGBM, total=   0.2s\n",
      "WARNING:tensorflow:Error in loading the saved optimizer state. As a result, your model is starting with a freshly initialized optimizer.\n",
      "[Voting] ...................... (4 of 4) Processing ANN, total=  24.6s\n",
      "Iterazione 363 [[0 0]\n",
      " [1 4]]\n",
      "accuracy 0.8\n"
     ]
    },
    {
     "name": "stderr",
     "output_type": "stream",
     "text": [
      "<ipython-input-54-0786b9e49dc3>:22: DeprecationWarning: KerasClassifier is deprecated, use Sci-Keras (https://github.com/adriangb/scikeras) instead.\n",
      "  ANN_best = keras.wrappers.scikit_learn.KerasClassifier(build_nn, epochs= 200, verbose=False)\n"
     ]
    },
    {
     "name": "stdout",
     "output_type": "stream",
     "text": [
      "[Voting] ...................... (1 of 4) Processing KNN, total=   0.0s\n",
      "[Voting] ...................... (2 of 4) Processing SVC, total=   5.5s\n",
      "[Voting] ..................... (3 of 4) Processing LGBM, total=   0.3s\n",
      "WARNING:tensorflow:Error in loading the saved optimizer state. As a result, your model is starting with a freshly initialized optimizer.\n",
      "[Voting] ...................... (4 of 4) Processing ANN, total=  31.4s\n",
      "Iterazione 364 [[1 1]\n",
      " [0 0]]\n",
      "accuracy 0.5\n"
     ]
    },
    {
     "name": "stderr",
     "output_type": "stream",
     "text": [
      "<ipython-input-54-0786b9e49dc3>:22: DeprecationWarning: KerasClassifier is deprecated, use Sci-Keras (https://github.com/adriangb/scikeras) instead.\n",
      "  ANN_best = keras.wrappers.scikit_learn.KerasClassifier(build_nn, epochs= 200, verbose=False)\n"
     ]
    },
    {
     "name": "stdout",
     "output_type": "stream",
     "text": [
      "[Voting] ...................... (1 of 4) Processing KNN, total=   0.0s\n",
      "[Voting] ...................... (2 of 4) Processing SVC, total=   5.6s\n",
      "[Voting] ..................... (3 of 4) Processing LGBM, total=   0.7s\n",
      "WARNING:tensorflow:Error in loading the saved optimizer state. As a result, your model is starting with a freshly initialized optimizer.\n",
      "[Voting] ...................... (4 of 4) Processing ANN, total=  30.4s\n",
      "Iterazione 365 [[3 1]\n",
      " [0 0]]\n",
      "accuracy 0.75\n"
     ]
    },
    {
     "name": "stderr",
     "output_type": "stream",
     "text": [
      "<ipython-input-54-0786b9e49dc3>:22: DeprecationWarning: KerasClassifier is deprecated, use Sci-Keras (https://github.com/adriangb/scikeras) instead.\n",
      "  ANN_best = keras.wrappers.scikit_learn.KerasClassifier(build_nn, epochs= 200, verbose=False)\n"
     ]
    },
    {
     "name": "stdout",
     "output_type": "stream",
     "text": [
      "[Voting] ...................... (1 of 4) Processing KNN, total=   0.1s\n",
      "[Voting] ...................... (2 of 4) Processing SVC, total=   5.5s\n",
      "[Voting] ..................... (3 of 4) Processing LGBM, total=   0.5s\n",
      "WARNING:tensorflow:Error in loading the saved optimizer state. As a result, your model is starting with a freshly initialized optimizer.\n",
      "[Voting] ...................... (4 of 4) Processing ANN, total=  27.6s\n",
      "Iterazione 366 [[6 0]\n",
      " [0 0]]\n",
      "accuracy 1.0\n"
     ]
    },
    {
     "name": "stderr",
     "output_type": "stream",
     "text": [
      "<ipython-input-54-0786b9e49dc3>:22: DeprecationWarning: KerasClassifier is deprecated, use Sci-Keras (https://github.com/adriangb/scikeras) instead.\n",
      "  ANN_best = keras.wrappers.scikit_learn.KerasClassifier(build_nn, epochs= 200, verbose=False)\n"
     ]
    },
    {
     "name": "stdout",
     "output_type": "stream",
     "text": [
      "[Voting] ...................... (1 of 4) Processing KNN, total=   0.0s\n",
      "[Voting] ...................... (2 of 4) Processing SVC, total=   5.9s\n",
      "[Voting] ..................... (3 of 4) Processing LGBM, total=   0.8s\n",
      "WARNING:tensorflow:Error in loading the saved optimizer state. As a result, your model is starting with a freshly initialized optimizer.\n",
      "[Voting] ...................... (4 of 4) Processing ANN, total=  29.2s\n",
      "Iterazione 367 [[1 1]\n",
      " [0 0]]\n",
      "accuracy 0.5\n"
     ]
    },
    {
     "name": "stderr",
     "output_type": "stream",
     "text": [
      "<ipython-input-54-0786b9e49dc3>:22: DeprecationWarning: KerasClassifier is deprecated, use Sci-Keras (https://github.com/adriangb/scikeras) instead.\n",
      "  ANN_best = keras.wrappers.scikit_learn.KerasClassifier(build_nn, epochs= 200, verbose=False)\n"
     ]
    },
    {
     "name": "stdout",
     "output_type": "stream",
     "text": [
      "[Voting] ...................... (1 of 4) Processing KNN, total=   0.1s\n",
      "[Voting] ...................... (2 of 4) Processing SVC, total=   5.7s\n",
      "[Voting] ..................... (3 of 4) Processing LGBM, total=   0.6s\n",
      "WARNING:tensorflow:Error in loading the saved optimizer state. As a result, your model is starting with a freshly initialized optimizer.\n",
      "[Voting] ...................... (4 of 4) Processing ANN, total=  30.4s\n",
      "Iterazione 368 [[0 0]\n",
      " [1 5]]\n",
      "accuracy 0.8333333333333334\n"
     ]
    },
    {
     "name": "stderr",
     "output_type": "stream",
     "text": [
      "<ipython-input-54-0786b9e49dc3>:22: DeprecationWarning: KerasClassifier is deprecated, use Sci-Keras (https://github.com/adriangb/scikeras) instead.\n",
      "  ANN_best = keras.wrappers.scikit_learn.KerasClassifier(build_nn, epochs= 200, verbose=False)\n"
     ]
    },
    {
     "name": "stdout",
     "output_type": "stream",
     "text": [
      "[Voting] ...................... (1 of 4) Processing KNN, total=   0.0s\n",
      "[Voting] ...................... (2 of 4) Processing SVC, total=   6.3s\n",
      "[Voting] ..................... (3 of 4) Processing LGBM, total=   1.2s\n",
      "WARNING:tensorflow:Error in loading the saved optimizer state. As a result, your model is starting with a freshly initialized optimizer.\n",
      "[Voting] ...................... (4 of 4) Processing ANN, total=  28.3s\n",
      "Iterazione 369 [[4 0]\n",
      " [0 0]]\n",
      "accuracy 1.0\n"
     ]
    },
    {
     "name": "stderr",
     "output_type": "stream",
     "text": [
      "<ipython-input-54-0786b9e49dc3>:22: DeprecationWarning: KerasClassifier is deprecated, use Sci-Keras (https://github.com/adriangb/scikeras) instead.\n",
      "  ANN_best = keras.wrappers.scikit_learn.KerasClassifier(build_nn, epochs= 200, verbose=False)\n"
     ]
    },
    {
     "name": "stdout",
     "output_type": "stream",
     "text": [
      "[Voting] ...................... (1 of 4) Processing KNN, total=   0.0s\n",
      "[Voting] ...................... (2 of 4) Processing SVC, total=   5.9s\n",
      "[Voting] ..................... (3 of 4) Processing LGBM, total=   0.3s\n",
      "WARNING:tensorflow:Error in loading the saved optimizer state. As a result, your model is starting with a freshly initialized optimizer.\n",
      "[Voting] ...................... (4 of 4) Processing ANN, total=  27.0s\n",
      "Iterazione 370 [[7 2]\n",
      " [0 0]]\n",
      "accuracy 0.7777777777777778\n"
     ]
    },
    {
     "name": "stderr",
     "output_type": "stream",
     "text": [
      "<ipython-input-54-0786b9e49dc3>:22: DeprecationWarning: KerasClassifier is deprecated, use Sci-Keras (https://github.com/adriangb/scikeras) instead.\n",
      "  ANN_best = keras.wrappers.scikit_learn.KerasClassifier(build_nn, epochs= 200, verbose=False)\n"
     ]
    },
    {
     "name": "stdout",
     "output_type": "stream",
     "text": [
      "[Voting] ...................... (1 of 4) Processing KNN, total=   0.0s\n",
      "[Voting] ...................... (2 of 4) Processing SVC, total=   6.5s\n",
      "[Voting] ..................... (3 of 4) Processing LGBM, total=   0.4s\n",
      "WARNING:tensorflow:Error in loading the saved optimizer state. As a result, your model is starting with a freshly initialized optimizer.\n",
      "[Voting] ...................... (4 of 4) Processing ANN, total=  26.8s\n",
      "Iterazione 371 [[3 0]\n",
      " [0 0]]\n",
      "accuracy 1.0\n"
     ]
    },
    {
     "name": "stderr",
     "output_type": "stream",
     "text": [
      "<ipython-input-54-0786b9e49dc3>:22: DeprecationWarning: KerasClassifier is deprecated, use Sci-Keras (https://github.com/adriangb/scikeras) instead.\n",
      "  ANN_best = keras.wrappers.scikit_learn.KerasClassifier(build_nn, epochs= 200, verbose=False)\n"
     ]
    },
    {
     "name": "stdout",
     "output_type": "stream",
     "text": [
      "[Voting] ...................... (1 of 4) Processing KNN, total=   0.0s\n",
      "[Voting] ...................... (2 of 4) Processing SVC, total=   5.3s\n",
      "[Voting] ..................... (3 of 4) Processing LGBM, total=   0.5s\n",
      "WARNING:tensorflow:Error in loading the saved optimizer state. As a result, your model is starting with a freshly initialized optimizer.\n",
      "[Voting] ...................... (4 of 4) Processing ANN, total=  31.4s\n",
      "Iterazione 372 [[0 0]\n",
      " [0 1]]\n",
      "accuracy 1.0\n"
     ]
    },
    {
     "name": "stderr",
     "output_type": "stream",
     "text": [
      "<ipython-input-54-0786b9e49dc3>:22: DeprecationWarning: KerasClassifier is deprecated, use Sci-Keras (https://github.com/adriangb/scikeras) instead.\n",
      "  ANN_best = keras.wrappers.scikit_learn.KerasClassifier(build_nn, epochs= 200, verbose=False)\n"
     ]
    },
    {
     "name": "stdout",
     "output_type": "stream",
     "text": [
      "[Voting] ...................... (1 of 4) Processing KNN, total=   0.0s\n",
      "[Voting] ...................... (2 of 4) Processing SVC, total=   6.7s\n",
      "[Voting] ..................... (3 of 4) Processing LGBM, total=   2.0s\n",
      "WARNING:tensorflow:Error in loading the saved optimizer state. As a result, your model is starting with a freshly initialized optimizer.\n",
      "[Voting] ...................... (4 of 4) Processing ANN, total=  28.1s\n",
      "Iterazione 373 [[1 2]\n",
      " [0 0]]\n",
      "accuracy 0.3333333333333333\n"
     ]
    },
    {
     "name": "stderr",
     "output_type": "stream",
     "text": [
      "<ipython-input-54-0786b9e49dc3>:22: DeprecationWarning: KerasClassifier is deprecated, use Sci-Keras (https://github.com/adriangb/scikeras) instead.\n",
      "  ANN_best = keras.wrappers.scikit_learn.KerasClassifier(build_nn, epochs= 200, verbose=False)\n"
     ]
    },
    {
     "name": "stdout",
     "output_type": "stream",
     "text": [
      "[Voting] ...................... (1 of 4) Processing KNN, total=   0.1s\n",
      "[Voting] ...................... (2 of 4) Processing SVC, total=   6.1s\n",
      "[Voting] ..................... (3 of 4) Processing LGBM, total=   0.6s\n",
      "WARNING:tensorflow:Error in loading the saved optimizer state. As a result, your model is starting with a freshly initialized optimizer.\n",
      "[Voting] ...................... (4 of 4) Processing ANN, total=  28.3s\n",
      "Iterazione 374 [[0 0]\n",
      " [0 4]]\n",
      "accuracy 1.0\n"
     ]
    },
    {
     "name": "stderr",
     "output_type": "stream",
     "text": [
      "<ipython-input-54-0786b9e49dc3>:22: DeprecationWarning: KerasClassifier is deprecated, use Sci-Keras (https://github.com/adriangb/scikeras) instead.\n",
      "  ANN_best = keras.wrappers.scikit_learn.KerasClassifier(build_nn, epochs= 200, verbose=False)\n"
     ]
    },
    {
     "name": "stdout",
     "output_type": "stream",
     "text": [
      "[Voting] ...................... (1 of 4) Processing KNN, total=   0.0s\n",
      "[Voting] ...................... (2 of 4) Processing SVC, total=   6.3s\n",
      "[Voting] ..................... (3 of 4) Processing LGBM, total=   0.7s\n",
      "WARNING:tensorflow:Error in loading the saved optimizer state. As a result, your model is starting with a freshly initialized optimizer.\n",
      "[Voting] ...................... (4 of 4) Processing ANN, total=  28.3s\n",
      "Iterazione 375 [[0 0]\n",
      " [6 1]]\n",
      "accuracy 0.14285714285714285\n"
     ]
    },
    {
     "name": "stderr",
     "output_type": "stream",
     "text": [
      "<ipython-input-54-0786b9e49dc3>:22: DeprecationWarning: KerasClassifier is deprecated, use Sci-Keras (https://github.com/adriangb/scikeras) instead.\n",
      "  ANN_best = keras.wrappers.scikit_learn.KerasClassifier(build_nn, epochs= 200, verbose=False)\n"
     ]
    },
    {
     "name": "stdout",
     "output_type": "stream",
     "text": [
      "[Voting] ...................... (1 of 4) Processing KNN, total=   0.0s\n",
      "[Voting] ...................... (2 of 4) Processing SVC, total=   5.6s\n",
      "[Voting] ..................... (3 of 4) Processing LGBM, total=   0.5s\n",
      "WARNING:tensorflow:Error in loading the saved optimizer state. As a result, your model is starting with a freshly initialized optimizer.\n",
      "[Voting] ...................... (4 of 4) Processing ANN, total=  21.0s\n",
      "Iterazione 376 [[ 0  0]\n",
      " [ 0 12]]\n",
      "accuracy 1.0\n"
     ]
    },
    {
     "name": "stderr",
     "output_type": "stream",
     "text": [
      "<ipython-input-54-0786b9e49dc3>:22: DeprecationWarning: KerasClassifier is deprecated, use Sci-Keras (https://github.com/adriangb/scikeras) instead.\n",
      "  ANN_best = keras.wrappers.scikit_learn.KerasClassifier(build_nn, epochs= 200, verbose=False)\n"
     ]
    },
    {
     "name": "stdout",
     "output_type": "stream",
     "text": [
      "[Voting] ...................... (1 of 4) Processing KNN, total=   0.0s\n",
      "[Voting] ...................... (2 of 4) Processing SVC, total=   5.7s\n",
      "[Voting] ..................... (3 of 4) Processing LGBM, total=   0.4s\n",
      "WARNING:tensorflow:Error in loading the saved optimizer state. As a result, your model is starting with a freshly initialized optimizer.\n",
      "[Voting] ...................... (4 of 4) Processing ANN, total=  28.9s\n",
      "Iterazione 377 [[0 0]\n",
      " [1 1]]\n",
      "accuracy 0.5\n"
     ]
    },
    {
     "name": "stderr",
     "output_type": "stream",
     "text": [
      "<ipython-input-54-0786b9e49dc3>:22: DeprecationWarning: KerasClassifier is deprecated, use Sci-Keras (https://github.com/adriangb/scikeras) instead.\n",
      "  ANN_best = keras.wrappers.scikit_learn.KerasClassifier(build_nn, epochs= 200, verbose=False)\n"
     ]
    },
    {
     "name": "stdout",
     "output_type": "stream",
     "text": [
      "[Voting] ...................... (1 of 4) Processing KNN, total=   0.0s\n",
      "[Voting] ...................... (2 of 4) Processing SVC, total=   7.1s\n",
      "[Voting] ..................... (3 of 4) Processing LGBM, total=   0.9s\n",
      "WARNING:tensorflow:Error in loading the saved optimizer state. As a result, your model is starting with a freshly initialized optimizer.\n",
      "[Voting] ...................... (4 of 4) Processing ANN, total=  24.1s\n",
      "Iterazione 378 [[0 0]\n",
      " [1 1]]\n",
      "accuracy 0.5\n"
     ]
    },
    {
     "name": "stderr",
     "output_type": "stream",
     "text": [
      "<ipython-input-54-0786b9e49dc3>:22: DeprecationWarning: KerasClassifier is deprecated, use Sci-Keras (https://github.com/adriangb/scikeras) instead.\n",
      "  ANN_best = keras.wrappers.scikit_learn.KerasClassifier(build_nn, epochs= 200, verbose=False)\n"
     ]
    },
    {
     "name": "stdout",
     "output_type": "stream",
     "text": [
      "[Voting] ...................... (1 of 4) Processing KNN, total=   0.0s\n",
      "[Voting] ...................... (2 of 4) Processing SVC, total=   7.3s\n",
      "[Voting] ..................... (3 of 4) Processing LGBM, total=   0.7s\n",
      "WARNING:tensorflow:Error in loading the saved optimizer state. As a result, your model is starting with a freshly initialized optimizer.\n",
      "[Voting] ...................... (4 of 4) Processing ANN, total=  31.5s\n",
      "Iterazione 379 [[0 0]\n",
      " [3 1]]\n",
      "accuracy 0.25\n"
     ]
    },
    {
     "name": "stderr",
     "output_type": "stream",
     "text": [
      "<ipython-input-54-0786b9e49dc3>:22: DeprecationWarning: KerasClassifier is deprecated, use Sci-Keras (https://github.com/adriangb/scikeras) instead.\n",
      "  ANN_best = keras.wrappers.scikit_learn.KerasClassifier(build_nn, epochs= 200, verbose=False)\n"
     ]
    },
    {
     "name": "stdout",
     "output_type": "stream",
     "text": [
      "[Voting] ...................... (1 of 4) Processing KNN, total=   0.0s\n",
      "[Voting] ...................... (2 of 4) Processing SVC, total=   5.9s\n",
      "[Voting] ..................... (3 of 4) Processing LGBM, total=   0.5s\n",
      "WARNING:tensorflow:Error in loading the saved optimizer state. As a result, your model is starting with a freshly initialized optimizer.\n",
      "[Voting] ...................... (4 of 4) Processing ANN, total=  29.3s\n",
      "Iterazione 380 [[3 1]\n",
      " [0 0]]\n",
      "accuracy 0.75\n"
     ]
    },
    {
     "name": "stderr",
     "output_type": "stream",
     "text": [
      "<ipython-input-54-0786b9e49dc3>:22: DeprecationWarning: KerasClassifier is deprecated, use Sci-Keras (https://github.com/adriangb/scikeras) instead.\n",
      "  ANN_best = keras.wrappers.scikit_learn.KerasClassifier(build_nn, epochs= 200, verbose=False)\n"
     ]
    },
    {
     "name": "stdout",
     "output_type": "stream",
     "text": [
      "[Voting] ...................... (1 of 4) Processing KNN, total=   0.0s\n",
      "[Voting] ...................... (2 of 4) Processing SVC, total=   5.9s\n",
      "[Voting] ..................... (3 of 4) Processing LGBM, total=   0.7s\n",
      "WARNING:tensorflow:Error in loading the saved optimizer state. As a result, your model is starting with a freshly initialized optimizer.\n",
      "[Voting] ...................... (4 of 4) Processing ANN, total=  30.0s\n",
      "Iterazione 381 [[0 0]\n",
      " [1 0]]\n",
      "accuracy 0.0\n"
     ]
    },
    {
     "name": "stderr",
     "output_type": "stream",
     "text": [
      "<ipython-input-54-0786b9e49dc3>:22: DeprecationWarning: KerasClassifier is deprecated, use Sci-Keras (https://github.com/adriangb/scikeras) instead.\n",
      "  ANN_best = keras.wrappers.scikit_learn.KerasClassifier(build_nn, epochs= 200, verbose=False)\n"
     ]
    },
    {
     "name": "stdout",
     "output_type": "stream",
     "text": [
      "[Voting] ...................... (1 of 4) Processing KNN, total=   0.1s\n",
      "[Voting] ...................... (2 of 4) Processing SVC, total=   5.8s\n",
      "[Voting] ..................... (3 of 4) Processing LGBM, total=   0.4s\n",
      "WARNING:tensorflow:Error in loading the saved optimizer state. As a result, your model is starting with a freshly initialized optimizer.\n",
      "[Voting] ...................... (4 of 4) Processing ANN, total=  26.4s\n",
      "Iterazione 382 [[0 0]\n",
      " [0 2]]\n",
      "accuracy 1.0\n"
     ]
    },
    {
     "name": "stderr",
     "output_type": "stream",
     "text": [
      "<ipython-input-54-0786b9e49dc3>:22: DeprecationWarning: KerasClassifier is deprecated, use Sci-Keras (https://github.com/adriangb/scikeras) instead.\n",
      "  ANN_best = keras.wrappers.scikit_learn.KerasClassifier(build_nn, epochs= 200, verbose=False)\n"
     ]
    },
    {
     "name": "stdout",
     "output_type": "stream",
     "text": [
      "[Voting] ...................... (1 of 4) Processing KNN, total=   0.0s\n",
      "[Voting] ...................... (2 of 4) Processing SVC, total=   5.8s\n",
      "[Voting] ..................... (3 of 4) Processing LGBM, total=   0.4s\n",
      "WARNING:tensorflow:Error in loading the saved optimizer state. As a result, your model is starting with a freshly initialized optimizer.\n",
      "[Voting] ...................... (4 of 4) Processing ANN, total=  28.2s\n",
      "Iterazione 383 [[2 5]\n",
      " [0 0]]\n",
      "accuracy 0.2857142857142857\n"
     ]
    },
    {
     "name": "stderr",
     "output_type": "stream",
     "text": [
      "<ipython-input-54-0786b9e49dc3>:22: DeprecationWarning: KerasClassifier is deprecated, use Sci-Keras (https://github.com/adriangb/scikeras) instead.\n",
      "  ANN_best = keras.wrappers.scikit_learn.KerasClassifier(build_nn, epochs= 200, verbose=False)\n"
     ]
    },
    {
     "name": "stdout",
     "output_type": "stream",
     "text": [
      "[Voting] ...................... (1 of 4) Processing KNN, total=   0.1s\n",
      "[Voting] ...................... (2 of 4) Processing SVC, total=   6.3s\n",
      "[Voting] ..................... (3 of 4) Processing LGBM, total=   1.0s\n",
      "WARNING:tensorflow:Error in loading the saved optimizer state. As a result, your model is starting with a freshly initialized optimizer.\n",
      "[Voting] ...................... (4 of 4) Processing ANN, total=  29.5s\n",
      "Iterazione 384 [[4 3]\n",
      " [0 0]]\n",
      "accuracy 0.5714285714285714\n"
     ]
    },
    {
     "name": "stderr",
     "output_type": "stream",
     "text": [
      "<ipython-input-54-0786b9e49dc3>:22: DeprecationWarning: KerasClassifier is deprecated, use Sci-Keras (https://github.com/adriangb/scikeras) instead.\n",
      "  ANN_best = keras.wrappers.scikit_learn.KerasClassifier(build_nn, epochs= 200, verbose=False)\n"
     ]
    },
    {
     "name": "stdout",
     "output_type": "stream",
     "text": [
      "[Voting] ...................... (1 of 4) Processing KNN, total=   0.1s\n",
      "[Voting] ...................... (2 of 4) Processing SVC, total=   6.6s\n",
      "[Voting] ..................... (3 of 4) Processing LGBM, total=   0.5s\n",
      "WARNING:tensorflow:Error in loading the saved optimizer state. As a result, your model is starting with a freshly initialized optimizer.\n",
      "[Voting] ...................... (4 of 4) Processing ANN, total=  26.2s\n",
      "Iterazione 385 [[2 2]\n",
      " [0 0]]\n",
      "accuracy 0.5\n"
     ]
    },
    {
     "name": "stderr",
     "output_type": "stream",
     "text": [
      "<ipython-input-54-0786b9e49dc3>:22: DeprecationWarning: KerasClassifier is deprecated, use Sci-Keras (https://github.com/adriangb/scikeras) instead.\n",
      "  ANN_best = keras.wrappers.scikit_learn.KerasClassifier(build_nn, epochs= 200, verbose=False)\n"
     ]
    },
    {
     "name": "stdout",
     "output_type": "stream",
     "text": [
      "[Voting] ...................... (1 of 4) Processing KNN, total=   0.0s\n",
      "[Voting] ...................... (2 of 4) Processing SVC, total=   6.3s\n",
      "[Voting] ..................... (3 of 4) Processing LGBM, total=   0.8s\n",
      "WARNING:tensorflow:Error in loading the saved optimizer state. As a result, your model is starting with a freshly initialized optimizer.\n",
      "[Voting] ...................... (4 of 4) Processing ANN, total=  28.5s\n",
      "Iterazione 386 [[0 0]\n",
      " [0 3]]\n",
      "accuracy 1.0\n"
     ]
    },
    {
     "name": "stderr",
     "output_type": "stream",
     "text": [
      "<ipython-input-54-0786b9e49dc3>:22: DeprecationWarning: KerasClassifier is deprecated, use Sci-Keras (https://github.com/adriangb/scikeras) instead.\n",
      "  ANN_best = keras.wrappers.scikit_learn.KerasClassifier(build_nn, epochs= 200, verbose=False)\n"
     ]
    },
    {
     "name": "stdout",
     "output_type": "stream",
     "text": [
      "[Voting] ...................... (1 of 4) Processing KNN, total=   0.0s\n",
      "[Voting] ...................... (2 of 4) Processing SVC, total=   5.5s\n",
      "[Voting] ..................... (3 of 4) Processing LGBM, total=   0.5s\n",
      "WARNING:tensorflow:Error in loading the saved optimizer state. As a result, your model is starting with a freshly initialized optimizer.\n",
      "[Voting] ...................... (4 of 4) Processing ANN, total=  27.4s\n",
      "Iterazione 387 [[0 0]\n",
      " [2 0]]\n",
      "accuracy 0.0\n"
     ]
    },
    {
     "name": "stderr",
     "output_type": "stream",
     "text": [
      "<ipython-input-54-0786b9e49dc3>:22: DeprecationWarning: KerasClassifier is deprecated, use Sci-Keras (https://github.com/adriangb/scikeras) instead.\n",
      "  ANN_best = keras.wrappers.scikit_learn.KerasClassifier(build_nn, epochs= 200, verbose=False)\n"
     ]
    },
    {
     "name": "stdout",
     "output_type": "stream",
     "text": [
      "[Voting] ...................... (1 of 4) Processing KNN, total=   0.0s\n",
      "[Voting] ...................... (2 of 4) Processing SVC, total=   5.7s\n",
      "[Voting] ..................... (3 of 4) Processing LGBM, total=   0.5s\n",
      "WARNING:tensorflow:Error in loading the saved optimizer state. As a result, your model is starting with a freshly initialized optimizer.\n",
      "[Voting] ...................... (4 of 4) Processing ANN, total=  27.3s\n",
      "Iterazione 388 [[4 3]\n",
      " [0 0]]\n",
      "accuracy 0.5714285714285714\n"
     ]
    },
    {
     "name": "stderr",
     "output_type": "stream",
     "text": [
      "<ipython-input-54-0786b9e49dc3>:22: DeprecationWarning: KerasClassifier is deprecated, use Sci-Keras (https://github.com/adriangb/scikeras) instead.\n",
      "  ANN_best = keras.wrappers.scikit_learn.KerasClassifier(build_nn, epochs= 200, verbose=False)\n"
     ]
    },
    {
     "name": "stdout",
     "output_type": "stream",
     "text": [
      "[Voting] ...................... (1 of 4) Processing KNN, total=   0.0s\n",
      "[Voting] ...................... (2 of 4) Processing SVC, total=   5.7s\n",
      "[Voting] ..................... (3 of 4) Processing LGBM, total=   0.7s\n",
      "WARNING:tensorflow:Error in loading the saved optimizer state. As a result, your model is starting with a freshly initialized optimizer.\n",
      "[Voting] ...................... (4 of 4) Processing ANN, total=  24.4s\n",
      "Iterazione 389 [[0 0]\n",
      " [0 2]]\n",
      "accuracy 1.0\n"
     ]
    },
    {
     "name": "stderr",
     "output_type": "stream",
     "text": [
      "<ipython-input-54-0786b9e49dc3>:22: DeprecationWarning: KerasClassifier is deprecated, use Sci-Keras (https://github.com/adriangb/scikeras) instead.\n",
      "  ANN_best = keras.wrappers.scikit_learn.KerasClassifier(build_nn, epochs= 200, verbose=False)\n"
     ]
    },
    {
     "name": "stdout",
     "output_type": "stream",
     "text": [
      "[Voting] ...................... (1 of 4) Processing KNN, total=   0.0s\n",
      "[Voting] ...................... (2 of 4) Processing SVC, total=   5.7s\n",
      "[Voting] ..................... (3 of 4) Processing LGBM, total=   0.4s\n",
      "WARNING:tensorflow:Error in loading the saved optimizer state. As a result, your model is starting with a freshly initialized optimizer.\n",
      "[Voting] ...................... (4 of 4) Processing ANN, total=  25.1s\n",
      "Iterazione 390 [[3 0]\n",
      " [0 0]]\n",
      "accuracy 1.0\n"
     ]
    },
    {
     "name": "stderr",
     "output_type": "stream",
     "text": [
      "<ipython-input-54-0786b9e49dc3>:22: DeprecationWarning: KerasClassifier is deprecated, use Sci-Keras (https://github.com/adriangb/scikeras) instead.\n",
      "  ANN_best = keras.wrappers.scikit_learn.KerasClassifier(build_nn, epochs= 200, verbose=False)\n"
     ]
    },
    {
     "name": "stdout",
     "output_type": "stream",
     "text": [
      "[Voting] ...................... (1 of 4) Processing KNN, total=   0.0s\n",
      "[Voting] ...................... (2 of 4) Processing SVC, total=   5.6s\n",
      "[Voting] ..................... (3 of 4) Processing LGBM, total=   0.3s\n",
      "WARNING:tensorflow:Error in loading the saved optimizer state. As a result, your model is starting with a freshly initialized optimizer.\n",
      "[Voting] ...................... (4 of 4) Processing ANN, total=  25.8s\n",
      "Iterazione 391 [[5 0]\n",
      " [0 0]]\n",
      "accuracy 1.0\n"
     ]
    },
    {
     "name": "stderr",
     "output_type": "stream",
     "text": [
      "<ipython-input-54-0786b9e49dc3>:22: DeprecationWarning: KerasClassifier is deprecated, use Sci-Keras (https://github.com/adriangb/scikeras) instead.\n",
      "  ANN_best = keras.wrappers.scikit_learn.KerasClassifier(build_nn, epochs= 200, verbose=False)\n"
     ]
    },
    {
     "name": "stdout",
     "output_type": "stream",
     "text": [
      "[Voting] ...................... (1 of 4) Processing KNN, total=   0.0s\n",
      "[Voting] ...................... (2 of 4) Processing SVC, total=   5.2s\n",
      "[Voting] ..................... (3 of 4) Processing LGBM, total=   0.3s\n",
      "WARNING:tensorflow:Error in loading the saved optimizer state. As a result, your model is starting with a freshly initialized optimizer.\n",
      "[Voting] ...................... (4 of 4) Processing ANN, total=  25.2s\n",
      "Iterazione 392 [[0 0]\n",
      " [2 6]]\n",
      "accuracy 0.75\n"
     ]
    },
    {
     "name": "stderr",
     "output_type": "stream",
     "text": [
      "<ipython-input-54-0786b9e49dc3>:22: DeprecationWarning: KerasClassifier is deprecated, use Sci-Keras (https://github.com/adriangb/scikeras) instead.\n",
      "  ANN_best = keras.wrappers.scikit_learn.KerasClassifier(build_nn, epochs= 200, verbose=False)\n"
     ]
    },
    {
     "name": "stdout",
     "output_type": "stream",
     "text": [
      "[Voting] ...................... (1 of 4) Processing KNN, total=   0.0s\n",
      "[Voting] ...................... (2 of 4) Processing SVC, total=   5.6s\n",
      "[Voting] ..................... (3 of 4) Processing LGBM, total=   0.7s\n",
      "WARNING:tensorflow:Error in loading the saved optimizer state. As a result, your model is starting with a freshly initialized optimizer.\n",
      "[Voting] ...................... (4 of 4) Processing ANN, total=  23.0s\n",
      "Iterazione 393 [[0 0]\n",
      " [0 7]]\n",
      "accuracy 1.0\n"
     ]
    },
    {
     "name": "stderr",
     "output_type": "stream",
     "text": [
      "<ipython-input-54-0786b9e49dc3>:22: DeprecationWarning: KerasClassifier is deprecated, use Sci-Keras (https://github.com/adriangb/scikeras) instead.\n",
      "  ANN_best = keras.wrappers.scikit_learn.KerasClassifier(build_nn, epochs= 200, verbose=False)\n"
     ]
    },
    {
     "name": "stdout",
     "output_type": "stream",
     "text": [
      "[Voting] ...................... (1 of 4) Processing KNN, total=   0.0s\n",
      "[Voting] ...................... (2 of 4) Processing SVC, total=   5.3s\n",
      "[Voting] ..................... (3 of 4) Processing LGBM, total=   0.6s\n",
      "WARNING:tensorflow:Error in loading the saved optimizer state. As a result, your model is starting with a freshly initialized optimizer.\n",
      "[Voting] ...................... (4 of 4) Processing ANN, total=  25.4s\n",
      "Iterazione 394 [[0 0]\n",
      " [3 1]]\n",
      "accuracy 0.25\n"
     ]
    },
    {
     "name": "stderr",
     "output_type": "stream",
     "text": [
      "<ipython-input-54-0786b9e49dc3>:22: DeprecationWarning: KerasClassifier is deprecated, use Sci-Keras (https://github.com/adriangb/scikeras) instead.\n",
      "  ANN_best = keras.wrappers.scikit_learn.KerasClassifier(build_nn, epochs= 200, verbose=False)\n"
     ]
    },
    {
     "name": "stdout",
     "output_type": "stream",
     "text": [
      "[Voting] ...................... (1 of 4) Processing KNN, total=   0.0s\n",
      "[Voting] ...................... (2 of 4) Processing SVC, total=   6.7s\n",
      "[Voting] ..................... (3 of 4) Processing LGBM, total=   0.4s\n",
      "WARNING:tensorflow:Error in loading the saved optimizer state. As a result, your model is starting with a freshly initialized optimizer.\n",
      "[Voting] ...................... (4 of 4) Processing ANN, total=  28.3s\n",
      "Iterazione 395 [[6 4]\n",
      " [0 0]]\n",
      "accuracy 0.6\n"
     ]
    },
    {
     "name": "stderr",
     "output_type": "stream",
     "text": [
      "<ipython-input-54-0786b9e49dc3>:22: DeprecationWarning: KerasClassifier is deprecated, use Sci-Keras (https://github.com/adriangb/scikeras) instead.\n",
      "  ANN_best = keras.wrappers.scikit_learn.KerasClassifier(build_nn, epochs= 200, verbose=False)\n"
     ]
    },
    {
     "name": "stdout",
     "output_type": "stream",
     "text": [
      "[Voting] ...................... (1 of 4) Processing KNN, total=   0.0s\n",
      "[Voting] ...................... (2 of 4) Processing SVC, total=   6.1s\n",
      "[Voting] ..................... (3 of 4) Processing LGBM, total=   0.4s\n",
      "WARNING:tensorflow:Error in loading the saved optimizer state. As a result, your model is starting with a freshly initialized optimizer.\n",
      "[Voting] ...................... (4 of 4) Processing ANN, total=  27.7s\n",
      "Iterazione 396 [[0 0]\n",
      " [3 2]]\n",
      "accuracy 0.4\n"
     ]
    },
    {
     "name": "stderr",
     "output_type": "stream",
     "text": [
      "<ipython-input-54-0786b9e49dc3>:22: DeprecationWarning: KerasClassifier is deprecated, use Sci-Keras (https://github.com/adriangb/scikeras) instead.\n",
      "  ANN_best = keras.wrappers.scikit_learn.KerasClassifier(build_nn, epochs= 200, verbose=False)\n"
     ]
    },
    {
     "name": "stdout",
     "output_type": "stream",
     "text": [
      "[Voting] ...................... (1 of 4) Processing KNN, total=   0.0s\n",
      "[Voting] ...................... (2 of 4) Processing SVC, total=   5.7s\n",
      "[Voting] ..................... (3 of 4) Processing LGBM, total=   0.5s\n",
      "WARNING:tensorflow:Error in loading the saved optimizer state. As a result, your model is starting with a freshly initialized optimizer.\n",
      "[Voting] ...................... (4 of 4) Processing ANN, total=  25.5s\n",
      "Iterazione 397 [[0 0]\n",
      " [1 1]]\n",
      "accuracy 0.5\n"
     ]
    },
    {
     "name": "stderr",
     "output_type": "stream",
     "text": [
      "<ipython-input-54-0786b9e49dc3>:22: DeprecationWarning: KerasClassifier is deprecated, use Sci-Keras (https://github.com/adriangb/scikeras) instead.\n",
      "  ANN_best = keras.wrappers.scikit_learn.KerasClassifier(build_nn, epochs= 200, verbose=False)\n"
     ]
    },
    {
     "name": "stdout",
     "output_type": "stream",
     "text": [
      "[Voting] ...................... (1 of 4) Processing KNN, total=   0.0s\n",
      "[Voting] ...................... (2 of 4) Processing SVC, total=   5.8s\n",
      "[Voting] ..................... (3 of 4) Processing LGBM, total=   0.4s\n",
      "WARNING:tensorflow:Error in loading the saved optimizer state. As a result, your model is starting with a freshly initialized optimizer.\n",
      "[Voting] ...................... (4 of 4) Processing ANN, total=  28.9s\n",
      "Iterazione 398 [[0 4]\n",
      " [0 0]]\n",
      "accuracy 0.0\n"
     ]
    },
    {
     "name": "stderr",
     "output_type": "stream",
     "text": [
      "<ipython-input-54-0786b9e49dc3>:22: DeprecationWarning: KerasClassifier is deprecated, use Sci-Keras (https://github.com/adriangb/scikeras) instead.\n",
      "  ANN_best = keras.wrappers.scikit_learn.KerasClassifier(build_nn, epochs= 200, verbose=False)\n"
     ]
    },
    {
     "name": "stdout",
     "output_type": "stream",
     "text": [
      "[Voting] ...................... (1 of 4) Processing KNN, total=   0.0s\n",
      "[Voting] ...................... (2 of 4) Processing SVC, total=   5.3s\n",
      "[Voting] ..................... (3 of 4) Processing LGBM, total=   0.4s\n",
      "WARNING:tensorflow:Error in loading the saved optimizer state. As a result, your model is starting with a freshly initialized optimizer.\n",
      "[Voting] ...................... (4 of 4) Processing ANN, total=  29.5s\n",
      "Iterazione 399 [[2 1]\n",
      " [0 0]]\n",
      "accuracy 0.6666666666666666\n"
     ]
    },
    {
     "name": "stderr",
     "output_type": "stream",
     "text": [
      "<ipython-input-54-0786b9e49dc3>:22: DeprecationWarning: KerasClassifier is deprecated, use Sci-Keras (https://github.com/adriangb/scikeras) instead.\n",
      "  ANN_best = keras.wrappers.scikit_learn.KerasClassifier(build_nn, epochs= 200, verbose=False)\n"
     ]
    },
    {
     "name": "stdout",
     "output_type": "stream",
     "text": [
      "[Voting] ...................... (1 of 4) Processing KNN, total=   0.0s\n",
      "[Voting] ...................... (2 of 4) Processing SVC, total=   5.2s\n",
      "[Voting] ..................... (3 of 4) Processing LGBM, total=   0.4s\n",
      "WARNING:tensorflow:Error in loading the saved optimizer state. As a result, your model is starting with a freshly initialized optimizer.\n",
      "[Voting] ...................... (4 of 4) Processing ANN, total=  23.3s\n",
      "Iterazione 400 [[4 1]\n",
      " [0 0]]\n",
      "accuracy 0.8\n"
     ]
    },
    {
     "name": "stderr",
     "output_type": "stream",
     "text": [
      "<ipython-input-54-0786b9e49dc3>:22: DeprecationWarning: KerasClassifier is deprecated, use Sci-Keras (https://github.com/adriangb/scikeras) instead.\n",
      "  ANN_best = keras.wrappers.scikit_learn.KerasClassifier(build_nn, epochs= 200, verbose=False)\n"
     ]
    },
    {
     "name": "stdout",
     "output_type": "stream",
     "text": [
      "[Voting] ...................... (1 of 4) Processing KNN, total=   0.0s\n",
      "[Voting] ...................... (2 of 4) Processing SVC, total=   6.0s\n",
      "[Voting] ..................... (3 of 4) Processing LGBM, total=   0.6s\n",
      "WARNING:tensorflow:Error in loading the saved optimizer state. As a result, your model is starting with a freshly initialized optimizer.\n",
      "[Voting] ...................... (4 of 4) Processing ANN, total=  31.4s\n",
      "Iterazione 401 [[0 0]\n",
      " [1 1]]\n",
      "accuracy 0.5\n"
     ]
    },
    {
     "name": "stderr",
     "output_type": "stream",
     "text": [
      "<ipython-input-54-0786b9e49dc3>:22: DeprecationWarning: KerasClassifier is deprecated, use Sci-Keras (https://github.com/adriangb/scikeras) instead.\n",
      "  ANN_best = keras.wrappers.scikit_learn.KerasClassifier(build_nn, epochs= 200, verbose=False)\n"
     ]
    },
    {
     "name": "stdout",
     "output_type": "stream",
     "text": [
      "[Voting] ...................... (1 of 4) Processing KNN, total=   0.1s\n",
      "[Voting] ...................... (2 of 4) Processing SVC, total=   6.6s\n",
      "[Voting] ..................... (3 of 4) Processing LGBM, total=   0.5s\n",
      "WARNING:tensorflow:Error in loading the saved optimizer state. As a result, your model is starting with a freshly initialized optimizer.\n",
      "[Voting] ...................... (4 of 4) Processing ANN, total=  36.2s\n",
      "Iterazione 402 [[0 0]\n",
      " [1 2]]\n",
      "accuracy 0.6666666666666666\n"
     ]
    },
    {
     "name": "stderr",
     "output_type": "stream",
     "text": [
      "<ipython-input-54-0786b9e49dc3>:22: DeprecationWarning: KerasClassifier is deprecated, use Sci-Keras (https://github.com/adriangb/scikeras) instead.\n",
      "  ANN_best = keras.wrappers.scikit_learn.KerasClassifier(build_nn, epochs= 200, verbose=False)\n"
     ]
    },
    {
     "name": "stdout",
     "output_type": "stream",
     "text": [
      "[Voting] ...................... (1 of 4) Processing KNN, total=   0.0s\n",
      "[Voting] ...................... (2 of 4) Processing SVC, total=   7.4s\n",
      "[Voting] ..................... (3 of 4) Processing LGBM, total=   0.8s\n",
      "WARNING:tensorflow:Error in loading the saved optimizer state. As a result, your model is starting with a freshly initialized optimizer.\n",
      "[Voting] ...................... (4 of 4) Processing ANN, total=  33.1s\n",
      "Iterazione 403 [[2 1]\n",
      " [0 0]]\n",
      "accuracy 0.6666666666666666\n"
     ]
    },
    {
     "name": "stderr",
     "output_type": "stream",
     "text": [
      "<ipython-input-54-0786b9e49dc3>:22: DeprecationWarning: KerasClassifier is deprecated, use Sci-Keras (https://github.com/adriangb/scikeras) instead.\n",
      "  ANN_best = keras.wrappers.scikit_learn.KerasClassifier(build_nn, epochs= 200, verbose=False)\n"
     ]
    },
    {
     "name": "stdout",
     "output_type": "stream",
     "text": [
      "[Voting] ...................... (1 of 4) Processing KNN, total=   0.0s\n",
      "[Voting] ...................... (2 of 4) Processing SVC, total=   5.9s\n",
      "[Voting] ..................... (3 of 4) Processing LGBM, total=   0.9s\n",
      "WARNING:tensorflow:Error in loading the saved optimizer state. As a result, your model is starting with a freshly initialized optimizer.\n",
      "[Voting] ...................... (4 of 4) Processing ANN, total=  30.7s\n",
      "Iterazione 404 [[1 0]\n",
      " [0 0]]\n",
      "accuracy 1.0\n"
     ]
    },
    {
     "name": "stderr",
     "output_type": "stream",
     "text": [
      "<ipython-input-54-0786b9e49dc3>:22: DeprecationWarning: KerasClassifier is deprecated, use Sci-Keras (https://github.com/adriangb/scikeras) instead.\n",
      "  ANN_best = keras.wrappers.scikit_learn.KerasClassifier(build_nn, epochs= 200, verbose=False)\n"
     ]
    },
    {
     "name": "stdout",
     "output_type": "stream",
     "text": [
      "[Voting] ...................... (1 of 4) Processing KNN, total=   0.1s\n",
      "[Voting] ...................... (2 of 4) Processing SVC, total=   6.6s\n",
      "[Voting] ..................... (3 of 4) Processing LGBM, total=   0.7s\n",
      "WARNING:tensorflow:Error in loading the saved optimizer state. As a result, your model is starting with a freshly initialized optimizer.\n",
      "[Voting] ...................... (4 of 4) Processing ANN, total=  29.4s\n",
      "Iterazione 405 [[0 0]\n",
      " [1 6]]\n",
      "accuracy 0.8571428571428571\n"
     ]
    },
    {
     "name": "stderr",
     "output_type": "stream",
     "text": [
      "<ipython-input-54-0786b9e49dc3>:22: DeprecationWarning: KerasClassifier is deprecated, use Sci-Keras (https://github.com/adriangb/scikeras) instead.\n",
      "  ANN_best = keras.wrappers.scikit_learn.KerasClassifier(build_nn, epochs= 200, verbose=False)\n"
     ]
    },
    {
     "name": "stdout",
     "output_type": "stream",
     "text": [
      "[Voting] ...................... (1 of 4) Processing KNN, total=   0.0s\n",
      "[Voting] ...................... (2 of 4) Processing SVC, total=   5.4s\n",
      "[Voting] ..................... (3 of 4) Processing LGBM, total=   0.5s\n",
      "WARNING:tensorflow:Error in loading the saved optimizer state. As a result, your model is starting with a freshly initialized optimizer.\n",
      "[Voting] ...................... (4 of 4) Processing ANN, total=  26.2s\n",
      "Iterazione 406 [[0 0]\n",
      " [0 5]]\n",
      "accuracy 1.0\n"
     ]
    },
    {
     "name": "stderr",
     "output_type": "stream",
     "text": [
      "<ipython-input-54-0786b9e49dc3>:22: DeprecationWarning: KerasClassifier is deprecated, use Sci-Keras (https://github.com/adriangb/scikeras) instead.\n",
      "  ANN_best = keras.wrappers.scikit_learn.KerasClassifier(build_nn, epochs= 200, verbose=False)\n"
     ]
    },
    {
     "name": "stdout",
     "output_type": "stream",
     "text": [
      "[Voting] ...................... (1 of 4) Processing KNN, total=   0.0s\n",
      "[Voting] ...................... (2 of 4) Processing SVC, total=   5.7s\n",
      "[Voting] ..................... (3 of 4) Processing LGBM, total=   0.4s\n",
      "WARNING:tensorflow:Error in loading the saved optimizer state. As a result, your model is starting with a freshly initialized optimizer.\n",
      "[Voting] ...................... (4 of 4) Processing ANN, total=  28.6s\n",
      "Iterazione 407 [[2 3]\n",
      " [0 0]]\n",
      "accuracy 0.4\n"
     ]
    },
    {
     "name": "stderr",
     "output_type": "stream",
     "text": [
      "<ipython-input-54-0786b9e49dc3>:22: DeprecationWarning: KerasClassifier is deprecated, use Sci-Keras (https://github.com/adriangb/scikeras) instead.\n",
      "  ANN_best = keras.wrappers.scikit_learn.KerasClassifier(build_nn, epochs= 200, verbose=False)\n"
     ]
    },
    {
     "name": "stdout",
     "output_type": "stream",
     "text": [
      "[Voting] ...................... (1 of 4) Processing KNN, total=   0.0s\n",
      "[Voting] ...................... (2 of 4) Processing SVC, total=   5.7s\n",
      "[Voting] ..................... (3 of 4) Processing LGBM, total=   0.7s\n",
      "WARNING:tensorflow:Error in loading the saved optimizer state. As a result, your model is starting with a freshly initialized optimizer.\n",
      "[Voting] ...................... (4 of 4) Processing ANN, total=  26.3s\n",
      "Iterazione 408 [[0 0]\n",
      " [1 2]]\n",
      "accuracy 0.6666666666666666\n"
     ]
    },
    {
     "name": "stderr",
     "output_type": "stream",
     "text": [
      "<ipython-input-54-0786b9e49dc3>:22: DeprecationWarning: KerasClassifier is deprecated, use Sci-Keras (https://github.com/adriangb/scikeras) instead.\n",
      "  ANN_best = keras.wrappers.scikit_learn.KerasClassifier(build_nn, epochs= 200, verbose=False)\n"
     ]
    },
    {
     "name": "stdout",
     "output_type": "stream",
     "text": [
      "[Voting] ...................... (1 of 4) Processing KNN, total=   0.0s\n",
      "[Voting] ...................... (2 of 4) Processing SVC, total=   5.5s\n",
      "[Voting] ..................... (3 of 4) Processing LGBM, total=   0.4s\n",
      "WARNING:tensorflow:Error in loading the saved optimizer state. As a result, your model is starting with a freshly initialized optimizer.\n",
      "[Voting] ...................... (4 of 4) Processing ANN, total=  26.1s\n",
      "Iterazione 409 [[0 1]\n",
      " [0 0]]\n",
      "accuracy 0.0\n"
     ]
    },
    {
     "name": "stderr",
     "output_type": "stream",
     "text": [
      "<ipython-input-54-0786b9e49dc3>:22: DeprecationWarning: KerasClassifier is deprecated, use Sci-Keras (https://github.com/adriangb/scikeras) instead.\n",
      "  ANN_best = keras.wrappers.scikit_learn.KerasClassifier(build_nn, epochs= 200, verbose=False)\n"
     ]
    },
    {
     "name": "stdout",
     "output_type": "stream",
     "text": [
      "[Voting] ...................... (1 of 4) Processing KNN, total=   0.0s\n",
      "[Voting] ...................... (2 of 4) Processing SVC, total=   6.1s\n",
      "[Voting] ..................... (3 of 4) Processing LGBM, total=   0.5s\n",
      "WARNING:tensorflow:Error in loading the saved optimizer state. As a result, your model is starting with a freshly initialized optimizer.\n",
      "[Voting] ...................... (4 of 4) Processing ANN, total=  29.0s\n",
      "Iterazione 410 [[0 0]\n",
      " [1 3]]\n",
      "accuracy 0.75\n"
     ]
    },
    {
     "name": "stderr",
     "output_type": "stream",
     "text": [
      "<ipython-input-54-0786b9e49dc3>:22: DeprecationWarning: KerasClassifier is deprecated, use Sci-Keras (https://github.com/adriangb/scikeras) instead.\n",
      "  ANN_best = keras.wrappers.scikit_learn.KerasClassifier(build_nn, epochs= 200, verbose=False)\n"
     ]
    },
    {
     "name": "stdout",
     "output_type": "stream",
     "text": [
      "[Voting] ...................... (1 of 4) Processing KNN, total=   0.0s\n",
      "[Voting] ...................... (2 of 4) Processing SVC, total=   5.5s\n",
      "[Voting] ..................... (3 of 4) Processing LGBM, total=   0.4s\n",
      "WARNING:tensorflow:Error in loading the saved optimizer state. As a result, your model is starting with a freshly initialized optimizer.\n",
      "[Voting] ...................... (4 of 4) Processing ANN, total=  29.0s\n",
      "Iterazione 411 [[1 7]\n",
      " [0 0]]\n",
      "accuracy 0.125\n"
     ]
    },
    {
     "name": "stderr",
     "output_type": "stream",
     "text": [
      "<ipython-input-54-0786b9e49dc3>:22: DeprecationWarning: KerasClassifier is deprecated, use Sci-Keras (https://github.com/adriangb/scikeras) instead.\n",
      "  ANN_best = keras.wrappers.scikit_learn.KerasClassifier(build_nn, epochs= 200, verbose=False)\n"
     ]
    },
    {
     "name": "stdout",
     "output_type": "stream",
     "text": [
      "[Voting] ...................... (1 of 4) Processing KNN, total=   0.0s\n",
      "[Voting] ...................... (2 of 4) Processing SVC, total=   7.3s\n",
      "[Voting] ..................... (3 of 4) Processing LGBM, total=   1.1s\n",
      "WARNING:tensorflow:Error in loading the saved optimizer state. As a result, your model is starting with a freshly initialized optimizer.\n",
      "[Voting] ...................... (4 of 4) Processing ANN, total=  31.1s\n",
      "Iterazione 412 [[0 0]\n",
      " [0 2]]\n",
      "accuracy 1.0\n"
     ]
    },
    {
     "name": "stderr",
     "output_type": "stream",
     "text": [
      "<ipython-input-54-0786b9e49dc3>:22: DeprecationWarning: KerasClassifier is deprecated, use Sci-Keras (https://github.com/adriangb/scikeras) instead.\n",
      "  ANN_best = keras.wrappers.scikit_learn.KerasClassifier(build_nn, epochs= 200, verbose=False)\n"
     ]
    },
    {
     "name": "stdout",
     "output_type": "stream",
     "text": [
      "[Voting] ...................... (1 of 4) Processing KNN, total=   0.1s\n",
      "[Voting] ...................... (2 of 4) Processing SVC, total=   5.9s\n",
      "[Voting] ..................... (3 of 4) Processing LGBM, total=   0.4s\n",
      "WARNING:tensorflow:Error in loading the saved optimizer state. As a result, your model is starting with a freshly initialized optimizer.\n",
      "[Voting] ...................... (4 of 4) Processing ANN, total=  30.5s\n",
      "Iterazione 413 [[0 0]\n",
      " [4 4]]\n",
      "accuracy 0.5\n"
     ]
    },
    {
     "name": "stderr",
     "output_type": "stream",
     "text": [
      "<ipython-input-54-0786b9e49dc3>:22: DeprecationWarning: KerasClassifier is deprecated, use Sci-Keras (https://github.com/adriangb/scikeras) instead.\n",
      "  ANN_best = keras.wrappers.scikit_learn.KerasClassifier(build_nn, epochs= 200, verbose=False)\n"
     ]
    },
    {
     "name": "stdout",
     "output_type": "stream",
     "text": [
      "[Voting] ...................... (1 of 4) Processing KNN, total=   0.0s\n",
      "[Voting] ...................... (2 of 4) Processing SVC, total=   6.7s\n",
      "[Voting] ..................... (3 of 4) Processing LGBM, total=   1.2s\n",
      "WARNING:tensorflow:Error in loading the saved optimizer state. As a result, your model is starting with a freshly initialized optimizer.\n",
      "[Voting] ...................... (4 of 4) Processing ANN, total=  32.6s\n",
      "Iterazione 414 [[0 0]\n",
      " [1 2]]\n",
      "accuracy 0.6666666666666666\n"
     ]
    },
    {
     "name": "stderr",
     "output_type": "stream",
     "text": [
      "<ipython-input-54-0786b9e49dc3>:22: DeprecationWarning: KerasClassifier is deprecated, use Sci-Keras (https://github.com/adriangb/scikeras) instead.\n",
      "  ANN_best = keras.wrappers.scikit_learn.KerasClassifier(build_nn, epochs= 200, verbose=False)\n"
     ]
    },
    {
     "name": "stdout",
     "output_type": "stream",
     "text": [
      "[Voting] ...................... (1 of 4) Processing KNN, total=   0.0s\n",
      "[Voting] ...................... (2 of 4) Processing SVC, total=   5.5s\n",
      "[Voting] ..................... (3 of 4) Processing LGBM, total=   0.3s\n",
      "WARNING:tensorflow:Error in loading the saved optimizer state. As a result, your model is starting with a freshly initialized optimizer.\n",
      "[Voting] ...................... (4 of 4) Processing ANN, total=  26.4s\n",
      "Iterazione 415 [[0 0]\n",
      " [1 2]]\n",
      "accuracy 0.6666666666666666\n"
     ]
    },
    {
     "name": "stderr",
     "output_type": "stream",
     "text": [
      "<ipython-input-54-0786b9e49dc3>:22: DeprecationWarning: KerasClassifier is deprecated, use Sci-Keras (https://github.com/adriangb/scikeras) instead.\n",
      "  ANN_best = keras.wrappers.scikit_learn.KerasClassifier(build_nn, epochs= 200, verbose=False)\n"
     ]
    },
    {
     "name": "stdout",
     "output_type": "stream",
     "text": [
      "[Voting] ...................... (1 of 4) Processing KNN, total=   0.0s\n",
      "[Voting] ...................... (2 of 4) Processing SVC, total=   5.6s\n",
      "[Voting] ..................... (3 of 4) Processing LGBM, total=   0.4s\n",
      "WARNING:tensorflow:Error in loading the saved optimizer state. As a result, your model is starting with a freshly initialized optimizer.\n",
      "[Voting] ...................... (4 of 4) Processing ANN, total=  27.6s\n",
      "Iterazione 416 [[2 2]\n",
      " [0 0]]\n",
      "accuracy 0.5\n"
     ]
    },
    {
     "name": "stderr",
     "output_type": "stream",
     "text": [
      "<ipython-input-54-0786b9e49dc3>:22: DeprecationWarning: KerasClassifier is deprecated, use Sci-Keras (https://github.com/adriangb/scikeras) instead.\n",
      "  ANN_best = keras.wrappers.scikit_learn.KerasClassifier(build_nn, epochs= 200, verbose=False)\n"
     ]
    },
    {
     "name": "stdout",
     "output_type": "stream",
     "text": [
      "[Voting] ...................... (1 of 4) Processing KNN, total=   0.0s\n",
      "[Voting] ...................... (2 of 4) Processing SVC, total=   6.1s\n",
      "[Voting] ..................... (3 of 4) Processing LGBM, total=   0.6s\n",
      "WARNING:tensorflow:Error in loading the saved optimizer state. As a result, your model is starting with a freshly initialized optimizer.\n",
      "[Voting] ...................... (4 of 4) Processing ANN, total=  29.5s\n",
      "Iterazione 417 [[0 0]\n",
      " [2 3]]\n",
      "accuracy 0.6\n"
     ]
    },
    {
     "name": "stderr",
     "output_type": "stream",
     "text": [
      "<ipython-input-54-0786b9e49dc3>:22: DeprecationWarning: KerasClassifier is deprecated, use Sci-Keras (https://github.com/adriangb/scikeras) instead.\n",
      "  ANN_best = keras.wrappers.scikit_learn.KerasClassifier(build_nn, epochs= 200, verbose=False)\n"
     ]
    },
    {
     "name": "stdout",
     "output_type": "stream",
     "text": [
      "[Voting] ...................... (1 of 4) Processing KNN, total=   0.1s\n",
      "[Voting] ...................... (2 of 4) Processing SVC, total=   5.8s\n",
      "[Voting] ..................... (3 of 4) Processing LGBM, total=   0.5s\n",
      "WARNING:tensorflow:Error in loading the saved optimizer state. As a result, your model is starting with a freshly initialized optimizer.\n",
      "[Voting] ...................... (4 of 4) Processing ANN, total=  26.2s\n",
      "Iterazione 418 [[0 0]\n",
      " [4 2]]\n",
      "accuracy 0.3333333333333333\n"
     ]
    },
    {
     "name": "stderr",
     "output_type": "stream",
     "text": [
      "<ipython-input-54-0786b9e49dc3>:22: DeprecationWarning: KerasClassifier is deprecated, use Sci-Keras (https://github.com/adriangb/scikeras) instead.\n",
      "  ANN_best = keras.wrappers.scikit_learn.KerasClassifier(build_nn, epochs= 200, verbose=False)\n"
     ]
    },
    {
     "name": "stdout",
     "output_type": "stream",
     "text": [
      "[Voting] ...................... (1 of 4) Processing KNN, total=   0.0s\n",
      "[Voting] ...................... (2 of 4) Processing SVC, total=   5.3s\n",
      "[Voting] ..................... (3 of 4) Processing LGBM, total=   0.4s\n",
      "WARNING:tensorflow:Error in loading the saved optimizer state. As a result, your model is starting with a freshly initialized optimizer.\n",
      "[Voting] ...................... (4 of 4) Processing ANN, total=  25.9s\n",
      "Iterazione 419 [[2 1]\n",
      " [0 0]]\n",
      "accuracy 0.6666666666666666\n"
     ]
    },
    {
     "name": "stderr",
     "output_type": "stream",
     "text": [
      "<ipython-input-54-0786b9e49dc3>:22: DeprecationWarning: KerasClassifier is deprecated, use Sci-Keras (https://github.com/adriangb/scikeras) instead.\n",
      "  ANN_best = keras.wrappers.scikit_learn.KerasClassifier(build_nn, epochs= 200, verbose=False)\n"
     ]
    },
    {
     "name": "stdout",
     "output_type": "stream",
     "text": [
      "[Voting] ...................... (1 of 4) Processing KNN, total=   0.0s\n",
      "[Voting] ...................... (2 of 4) Processing SVC, total=   5.9s\n",
      "[Voting] ..................... (3 of 4) Processing LGBM, total=   0.5s\n",
      "WARNING:tensorflow:Error in loading the saved optimizer state. As a result, your model is starting with a freshly initialized optimizer.\n",
      "[Voting] ...................... (4 of 4) Processing ANN, total=  27.3s\n",
      "Iterazione 420 [[0 0]\n",
      " [0 6]]\n",
      "accuracy 1.0\n"
     ]
    },
    {
     "name": "stderr",
     "output_type": "stream",
     "text": [
      "<ipython-input-54-0786b9e49dc3>:22: DeprecationWarning: KerasClassifier is deprecated, use Sci-Keras (https://github.com/adriangb/scikeras) instead.\n",
      "  ANN_best = keras.wrappers.scikit_learn.KerasClassifier(build_nn, epochs= 200, verbose=False)\n"
     ]
    },
    {
     "name": "stdout",
     "output_type": "stream",
     "text": [
      "[Voting] ...................... (1 of 4) Processing KNN, total=   0.0s\n",
      "[Voting] ...................... (2 of 4) Processing SVC, total=   5.6s\n",
      "[Voting] ..................... (3 of 4) Processing LGBM, total=   0.3s\n",
      "WARNING:tensorflow:Error in loading the saved optimizer state. As a result, your model is starting with a freshly initialized optimizer.\n",
      "[Voting] ...................... (4 of 4) Processing ANN, total=  27.4s\n",
      "Iterazione 421 [[4 6]\n",
      " [0 0]]\n",
      "accuracy 0.4\n"
     ]
    },
    {
     "name": "stderr",
     "output_type": "stream",
     "text": [
      "<ipython-input-54-0786b9e49dc3>:22: DeprecationWarning: KerasClassifier is deprecated, use Sci-Keras (https://github.com/adriangb/scikeras) instead.\n",
      "  ANN_best = keras.wrappers.scikit_learn.KerasClassifier(build_nn, epochs= 200, verbose=False)\n"
     ]
    },
    {
     "name": "stdout",
     "output_type": "stream",
     "text": [
      "[Voting] ...................... (1 of 4) Processing KNN, total=   0.1s\n",
      "[Voting] ...................... (2 of 4) Processing SVC, total=   7.1s\n",
      "[Voting] ..................... (3 of 4) Processing LGBM, total=   1.1s\n",
      "WARNING:tensorflow:Error in loading the saved optimizer state. As a result, your model is starting with a freshly initialized optimizer.\n",
      "[Voting] ...................... (4 of 4) Processing ANN, total=  33.2s\n",
      "Iterazione 422 [[1 1]\n",
      " [0 0]]\n",
      "accuracy 0.5\n"
     ]
    },
    {
     "name": "stderr",
     "output_type": "stream",
     "text": [
      "<ipython-input-54-0786b9e49dc3>:22: DeprecationWarning: KerasClassifier is deprecated, use Sci-Keras (https://github.com/adriangb/scikeras) instead.\n",
      "  ANN_best = keras.wrappers.scikit_learn.KerasClassifier(build_nn, epochs= 200, verbose=False)\n"
     ]
    },
    {
     "name": "stdout",
     "output_type": "stream",
     "text": [
      "[Voting] ...................... (1 of 4) Processing KNN, total=   0.0s\n",
      "[Voting] ...................... (2 of 4) Processing SVC, total=   5.9s\n",
      "[Voting] ..................... (3 of 4) Processing LGBM, total=   0.4s\n",
      "WARNING:tensorflow:Error in loading the saved optimizer state. As a result, your model is starting with a freshly initialized optimizer.\n",
      "[Voting] ...................... (4 of 4) Processing ANN, total=  27.6s\n",
      "Iterazione 423 [[0 0]\n",
      " [1 1]]\n",
      "accuracy 0.5\n"
     ]
    },
    {
     "name": "stderr",
     "output_type": "stream",
     "text": [
      "<ipython-input-54-0786b9e49dc3>:22: DeprecationWarning: KerasClassifier is deprecated, use Sci-Keras (https://github.com/adriangb/scikeras) instead.\n",
      "  ANN_best = keras.wrappers.scikit_learn.KerasClassifier(build_nn, epochs= 200, verbose=False)\n"
     ]
    },
    {
     "name": "stdout",
     "output_type": "stream",
     "text": [
      "[Voting] ...................... (1 of 4) Processing KNN, total=   0.0s\n",
      "[Voting] ...................... (2 of 4) Processing SVC, total=   5.4s\n",
      "[Voting] ..................... (3 of 4) Processing LGBM, total=   0.5s\n",
      "WARNING:tensorflow:Error in loading the saved optimizer state. As a result, your model is starting with a freshly initialized optimizer.\n",
      "[Voting] ...................... (4 of 4) Processing ANN, total=  26.2s\n",
      "Iterazione 424 [[0 0]\n",
      " [0 6]]\n",
      "accuracy 1.0\n"
     ]
    },
    {
     "name": "stderr",
     "output_type": "stream",
     "text": [
      "<ipython-input-54-0786b9e49dc3>:22: DeprecationWarning: KerasClassifier is deprecated, use Sci-Keras (https://github.com/adriangb/scikeras) instead.\n",
      "  ANN_best = keras.wrappers.scikit_learn.KerasClassifier(build_nn, epochs= 200, verbose=False)\n"
     ]
    },
    {
     "name": "stdout",
     "output_type": "stream",
     "text": [
      "[Voting] ...................... (1 of 4) Processing KNN, total=   0.0s\n",
      "[Voting] ...................... (2 of 4) Processing SVC, total=   5.9s\n",
      "[Voting] ..................... (3 of 4) Processing LGBM, total=   0.4s\n",
      "WARNING:tensorflow:Error in loading the saved optimizer state. As a result, your model is starting with a freshly initialized optimizer.\n",
      "[Voting] ...................... (4 of 4) Processing ANN, total=  28.4s\n",
      "Iterazione 425 [[0 0]\n",
      " [1 1]]\n",
      "accuracy 0.5\n"
     ]
    },
    {
     "name": "stderr",
     "output_type": "stream",
     "text": [
      "<ipython-input-54-0786b9e49dc3>:22: DeprecationWarning: KerasClassifier is deprecated, use Sci-Keras (https://github.com/adriangb/scikeras) instead.\n",
      "  ANN_best = keras.wrappers.scikit_learn.KerasClassifier(build_nn, epochs= 200, verbose=False)\n"
     ]
    },
    {
     "name": "stdout",
     "output_type": "stream",
     "text": [
      "[Voting] ...................... (1 of 4) Processing KNN, total=   0.0s\n",
      "[Voting] ...................... (2 of 4) Processing SVC, total=   5.7s\n",
      "[Voting] ..................... (3 of 4) Processing LGBM, total=   0.3s\n",
      "WARNING:tensorflow:Error in loading the saved optimizer state. As a result, your model is starting with a freshly initialized optimizer.\n",
      "[Voting] ...................... (4 of 4) Processing ANN, total=  27.0s\n",
      "Iterazione 426 [[0 0]\n",
      " [1 2]]\n",
      "accuracy 0.6666666666666666\n"
     ]
    },
    {
     "name": "stderr",
     "output_type": "stream",
     "text": [
      "<ipython-input-54-0786b9e49dc3>:22: DeprecationWarning: KerasClassifier is deprecated, use Sci-Keras (https://github.com/adriangb/scikeras) instead.\n",
      "  ANN_best = keras.wrappers.scikit_learn.KerasClassifier(build_nn, epochs= 200, verbose=False)\n"
     ]
    },
    {
     "name": "stdout",
     "output_type": "stream",
     "text": [
      "[Voting] ...................... (1 of 4) Processing KNN, total=   0.0s\n",
      "[Voting] ...................... (2 of 4) Processing SVC, total=   5.8s\n",
      "[Voting] ..................... (3 of 4) Processing LGBM, total=   0.5s\n",
      "WARNING:tensorflow:Error in loading the saved optimizer state. As a result, your model is starting with a freshly initialized optimizer.\n",
      "[Voting] ...................... (4 of 4) Processing ANN, total=  26.8s\n",
      "Iterazione 427 [[0 0]\n",
      " [1 1]]\n",
      "accuracy 0.5\n"
     ]
    },
    {
     "name": "stderr",
     "output_type": "stream",
     "text": [
      "<ipython-input-54-0786b9e49dc3>:22: DeprecationWarning: KerasClassifier is deprecated, use Sci-Keras (https://github.com/adriangb/scikeras) instead.\n",
      "  ANN_best = keras.wrappers.scikit_learn.KerasClassifier(build_nn, epochs= 200, verbose=False)\n"
     ]
    },
    {
     "name": "stdout",
     "output_type": "stream",
     "text": [
      "[Voting] ...................... (1 of 4) Processing KNN, total=   0.0s\n",
      "[Voting] ...................... (2 of 4) Processing SVC, total=   5.5s\n",
      "[Voting] ..................... (3 of 4) Processing LGBM, total=   0.4s\n",
      "WARNING:tensorflow:Error in loading the saved optimizer state. As a result, your model is starting with a freshly initialized optimizer.\n",
      "[Voting] ...................... (4 of 4) Processing ANN, total=  25.4s\n",
      "Iterazione 428 [[1 3]\n",
      " [0 0]]\n",
      "accuracy 0.25\n"
     ]
    },
    {
     "name": "stderr",
     "output_type": "stream",
     "text": [
      "<ipython-input-54-0786b9e49dc3>:22: DeprecationWarning: KerasClassifier is deprecated, use Sci-Keras (https://github.com/adriangb/scikeras) instead.\n",
      "  ANN_best = keras.wrappers.scikit_learn.KerasClassifier(build_nn, epochs= 200, verbose=False)\n"
     ]
    },
    {
     "name": "stdout",
     "output_type": "stream",
     "text": [
      "[Voting] ...................... (1 of 4) Processing KNN, total=   0.0s\n",
      "[Voting] ...................... (2 of 4) Processing SVC, total=   5.0s\n",
      "[Voting] ..................... (3 of 4) Processing LGBM, total=   0.5s\n",
      "WARNING:tensorflow:Error in loading the saved optimizer state. As a result, your model is starting with a freshly initialized optimizer.\n",
      "[Voting] ...................... (4 of 4) Processing ANN, total=  23.3s\n",
      "Iterazione 429 [[1 2]\n",
      " [0 0]]\n",
      "accuracy 0.3333333333333333\n"
     ]
    },
    {
     "name": "stderr",
     "output_type": "stream",
     "text": [
      "<ipython-input-54-0786b9e49dc3>:22: DeprecationWarning: KerasClassifier is deprecated, use Sci-Keras (https://github.com/adriangb/scikeras) instead.\n",
      "  ANN_best = keras.wrappers.scikit_learn.KerasClassifier(build_nn, epochs= 200, verbose=False)\n"
     ]
    },
    {
     "name": "stdout",
     "output_type": "stream",
     "text": [
      "[Voting] ...................... (1 of 4) Processing KNN, total=   0.0s\n",
      "[Voting] ...................... (2 of 4) Processing SVC, total=   4.8s\n",
      "[Voting] ..................... (3 of 4) Processing LGBM, total=   0.3s\n",
      "WARNING:tensorflow:Error in loading the saved optimizer state. As a result, your model is starting with a freshly initialized optimizer.\n",
      "[Voting] ...................... (4 of 4) Processing ANN, total=  23.6s\n",
      "Iterazione 430 [[0 2]\n",
      " [0 0]]\n",
      "accuracy 0.0\n"
     ]
    },
    {
     "name": "stderr",
     "output_type": "stream",
     "text": [
      "<ipython-input-54-0786b9e49dc3>:22: DeprecationWarning: KerasClassifier is deprecated, use Sci-Keras (https://github.com/adriangb/scikeras) instead.\n",
      "  ANN_best = keras.wrappers.scikit_learn.KerasClassifier(build_nn, epochs= 200, verbose=False)\n"
     ]
    },
    {
     "name": "stdout",
     "output_type": "stream",
     "text": [
      "[Voting] ...................... (1 of 4) Processing KNN, total=   0.0s\n",
      "[Voting] ...................... (2 of 4) Processing SVC, total=   4.9s\n",
      "[Voting] ..................... (3 of 4) Processing LGBM, total=   0.3s\n",
      "WARNING:tensorflow:Error in loading the saved optimizer state. As a result, your model is starting with a freshly initialized optimizer.\n",
      "[Voting] ...................... (4 of 4) Processing ANN, total=  24.0s\n",
      "Iterazione 431 [[0 0]\n",
      " [5 5]]\n",
      "accuracy 0.5\n"
     ]
    },
    {
     "name": "stderr",
     "output_type": "stream",
     "text": [
      "<ipython-input-54-0786b9e49dc3>:22: DeprecationWarning: KerasClassifier is deprecated, use Sci-Keras (https://github.com/adriangb/scikeras) instead.\n",
      "  ANN_best = keras.wrappers.scikit_learn.KerasClassifier(build_nn, epochs= 200, verbose=False)\n"
     ]
    },
    {
     "name": "stdout",
     "output_type": "stream",
     "text": [
      "[Voting] ...................... (1 of 4) Processing KNN, total=   0.0s\n",
      "[Voting] ...................... (2 of 4) Processing SVC, total=   4.9s\n",
      "[Voting] ..................... (3 of 4) Processing LGBM, total=   0.3s\n",
      "WARNING:tensorflow:Error in loading the saved optimizer state. As a result, your model is starting with a freshly initialized optimizer.\n",
      "[Voting] ...................... (4 of 4) Processing ANN, total=  24.2s\n",
      "Iterazione 432 [[0 0]\n",
      " [2 1]]\n",
      "accuracy 0.3333333333333333\n"
     ]
    },
    {
     "name": "stderr",
     "output_type": "stream",
     "text": [
      "<ipython-input-54-0786b9e49dc3>:22: DeprecationWarning: KerasClassifier is deprecated, use Sci-Keras (https://github.com/adriangb/scikeras) instead.\n",
      "  ANN_best = keras.wrappers.scikit_learn.KerasClassifier(build_nn, epochs= 200, verbose=False)\n"
     ]
    },
    {
     "name": "stdout",
     "output_type": "stream",
     "text": [
      "[Voting] ...................... (1 of 4) Processing KNN, total=   0.0s\n",
      "[Voting] ...................... (2 of 4) Processing SVC, total=   4.8s\n",
      "[Voting] ..................... (3 of 4) Processing LGBM, total=   0.3s\n",
      "WARNING:tensorflow:Error in loading the saved optimizer state. As a result, your model is starting with a freshly initialized optimizer.\n",
      "[Voting] ...................... (4 of 4) Processing ANN, total=  23.5s\n",
      "Iterazione 433 [[1 2]\n",
      " [0 0]]\n",
      "accuracy 0.3333333333333333\n"
     ]
    },
    {
     "name": "stderr",
     "output_type": "stream",
     "text": [
      "<ipython-input-54-0786b9e49dc3>:22: DeprecationWarning: KerasClassifier is deprecated, use Sci-Keras (https://github.com/adriangb/scikeras) instead.\n",
      "  ANN_best = keras.wrappers.scikit_learn.KerasClassifier(build_nn, epochs= 200, verbose=False)\n"
     ]
    },
    {
     "name": "stdout",
     "output_type": "stream",
     "text": [
      "[Voting] ...................... (1 of 4) Processing KNN, total=   0.0s\n",
      "[Voting] ...................... (2 of 4) Processing SVC, total=   4.8s\n",
      "[Voting] ..................... (3 of 4) Processing LGBM, total=   0.3s\n",
      "WARNING:tensorflow:Error in loading the saved optimizer state. As a result, your model is starting with a freshly initialized optimizer.\n",
      "[Voting] ...................... (4 of 4) Processing ANN, total=  23.8s\n",
      "Iterazione 434 [[0 0]\n",
      " [3 0]]\n",
      "accuracy 0.0\n"
     ]
    },
    {
     "name": "stderr",
     "output_type": "stream",
     "text": [
      "<ipython-input-54-0786b9e49dc3>:22: DeprecationWarning: KerasClassifier is deprecated, use Sci-Keras (https://github.com/adriangb/scikeras) instead.\n",
      "  ANN_best = keras.wrappers.scikit_learn.KerasClassifier(build_nn, epochs= 200, verbose=False)\n"
     ]
    },
    {
     "name": "stdout",
     "output_type": "stream",
     "text": [
      "[Voting] ...................... (1 of 4) Processing KNN, total=   0.0s\n",
      "[Voting] ...................... (2 of 4) Processing SVC, total=   4.9s\n",
      "[Voting] ..................... (3 of 4) Processing LGBM, total=   0.3s\n",
      "WARNING:tensorflow:Error in loading the saved optimizer state. As a result, your model is starting with a freshly initialized optimizer.\n",
      "[Voting] ...................... (4 of 4) Processing ANN, total=  23.3s\n",
      "Iterazione 435 [[0 0]\n",
      " [3 0]]\n",
      "accuracy 0.0\n"
     ]
    },
    {
     "name": "stderr",
     "output_type": "stream",
     "text": [
      "<ipython-input-54-0786b9e49dc3>:22: DeprecationWarning: KerasClassifier is deprecated, use Sci-Keras (https://github.com/adriangb/scikeras) instead.\n",
      "  ANN_best = keras.wrappers.scikit_learn.KerasClassifier(build_nn, epochs= 200, verbose=False)\n"
     ]
    },
    {
     "name": "stdout",
     "output_type": "stream",
     "text": [
      "[Voting] ...................... (1 of 4) Processing KNN, total=   0.0s\n",
      "[Voting] ...................... (2 of 4) Processing SVC, total=   4.9s\n",
      "[Voting] ..................... (3 of 4) Processing LGBM, total=   0.3s\n",
      "WARNING:tensorflow:Error in loading the saved optimizer state. As a result, your model is starting with a freshly initialized optimizer.\n",
      "[Voting] ...................... (4 of 4) Processing ANN, total=  23.3s\n",
      "Iterazione 436 [[0 0]\n",
      " [2 3]]\n",
      "accuracy 0.6\n"
     ]
    },
    {
     "name": "stderr",
     "output_type": "stream",
     "text": [
      "<ipython-input-54-0786b9e49dc3>:22: DeprecationWarning: KerasClassifier is deprecated, use Sci-Keras (https://github.com/adriangb/scikeras) instead.\n",
      "  ANN_best = keras.wrappers.scikit_learn.KerasClassifier(build_nn, epochs= 200, verbose=False)\n"
     ]
    },
    {
     "name": "stdout",
     "output_type": "stream",
     "text": [
      "[Voting] ...................... (1 of 4) Processing KNN, total=   0.0s\n",
      "[Voting] ...................... (2 of 4) Processing SVC, total=   4.9s\n",
      "[Voting] ..................... (3 of 4) Processing LGBM, total=   0.3s\n",
      "WARNING:tensorflow:Error in loading the saved optimizer state. As a result, your model is starting with a freshly initialized optimizer.\n",
      "[Voting] ...................... (4 of 4) Processing ANN, total=  23.3s\n",
      "Iterazione 437 [[0 0]\n",
      " [2 4]]\n",
      "accuracy 0.6666666666666666\n"
     ]
    },
    {
     "name": "stderr",
     "output_type": "stream",
     "text": [
      "<ipython-input-54-0786b9e49dc3>:22: DeprecationWarning: KerasClassifier is deprecated, use Sci-Keras (https://github.com/adriangb/scikeras) instead.\n",
      "  ANN_best = keras.wrappers.scikit_learn.KerasClassifier(build_nn, epochs= 200, verbose=False)\n"
     ]
    },
    {
     "name": "stdout",
     "output_type": "stream",
     "text": [
      "[Voting] ...................... (1 of 4) Processing KNN, total=   0.0s\n",
      "[Voting] ...................... (2 of 4) Processing SVC, total=   5.0s\n",
      "[Voting] ..................... (3 of 4) Processing LGBM, total=   0.3s\n",
      "WARNING:tensorflow:Error in loading the saved optimizer state. As a result, your model is starting with a freshly initialized optimizer.\n",
      "[Voting] ...................... (4 of 4) Processing ANN, total=  23.8s\n",
      "Iterazione 438 [[1 1]\n",
      " [0 0]]\n",
      "accuracy 0.5\n"
     ]
    },
    {
     "name": "stderr",
     "output_type": "stream",
     "text": [
      "<ipython-input-54-0786b9e49dc3>:22: DeprecationWarning: KerasClassifier is deprecated, use Sci-Keras (https://github.com/adriangb/scikeras) instead.\n",
      "  ANN_best = keras.wrappers.scikit_learn.KerasClassifier(build_nn, epochs= 200, verbose=False)\n"
     ]
    },
    {
     "name": "stdout",
     "output_type": "stream",
     "text": [
      "[Voting] ...................... (1 of 4) Processing KNN, total=   0.0s\n",
      "[Voting] ...................... (2 of 4) Processing SVC, total=   4.9s\n",
      "[Voting] ..................... (3 of 4) Processing LGBM, total=   0.3s\n",
      "WARNING:tensorflow:Error in loading the saved optimizer state. As a result, your model is starting with a freshly initialized optimizer.\n",
      "[Voting] ...................... (4 of 4) Processing ANN, total=  23.6s\n",
      "Iterazione 439 [[0 0]\n",
      " [3 3]]\n",
      "accuracy 0.5\n"
     ]
    },
    {
     "name": "stderr",
     "output_type": "stream",
     "text": [
      "<ipython-input-54-0786b9e49dc3>:22: DeprecationWarning: KerasClassifier is deprecated, use Sci-Keras (https://github.com/adriangb/scikeras) instead.\n",
      "  ANN_best = keras.wrappers.scikit_learn.KerasClassifier(build_nn, epochs= 200, verbose=False)\n"
     ]
    },
    {
     "name": "stdout",
     "output_type": "stream",
     "text": [
      "[Voting] ...................... (1 of 4) Processing KNN, total=   0.0s\n",
      "[Voting] ...................... (2 of 4) Processing SVC, total=   5.2s\n",
      "[Voting] ..................... (3 of 4) Processing LGBM, total=   0.4s\n",
      "WARNING:tensorflow:Error in loading the saved optimizer state. As a result, your model is starting with a freshly initialized optimizer.\n",
      "[Voting] ...................... (4 of 4) Processing ANN, total=  23.2s\n",
      "Iterazione 440 [[4 2]\n",
      " [0 0]]\n",
      "accuracy 0.6666666666666666\n"
     ]
    },
    {
     "name": "stderr",
     "output_type": "stream",
     "text": [
      "<ipython-input-54-0786b9e49dc3>:22: DeprecationWarning: KerasClassifier is deprecated, use Sci-Keras (https://github.com/adriangb/scikeras) instead.\n",
      "  ANN_best = keras.wrappers.scikit_learn.KerasClassifier(build_nn, epochs= 200, verbose=False)\n"
     ]
    },
    {
     "name": "stdout",
     "output_type": "stream",
     "text": [
      "[Voting] ...................... (1 of 4) Processing KNN, total=   0.0s\n",
      "[Voting] ...................... (2 of 4) Processing SVC, total=   4.8s\n",
      "[Voting] ..................... (3 of 4) Processing LGBM, total=   0.3s\n",
      "WARNING:tensorflow:Error in loading the saved optimizer state. As a result, your model is starting with a freshly initialized optimizer.\n",
      "[Voting] ...................... (4 of 4) Processing ANN, total=  23.2s\n",
      "Iterazione 441 [[2 1]\n",
      " [0 0]]\n",
      "accuracy 0.6666666666666666\n"
     ]
    },
    {
     "name": "stderr",
     "output_type": "stream",
     "text": [
      "<ipython-input-54-0786b9e49dc3>:22: DeprecationWarning: KerasClassifier is deprecated, use Sci-Keras (https://github.com/adriangb/scikeras) instead.\n",
      "  ANN_best = keras.wrappers.scikit_learn.KerasClassifier(build_nn, epochs= 200, verbose=False)\n"
     ]
    },
    {
     "name": "stdout",
     "output_type": "stream",
     "text": [
      "[Voting] ...................... (1 of 4) Processing KNN, total=   0.0s\n",
      "[Voting] ...................... (2 of 4) Processing SVC, total=   4.8s\n",
      "[Voting] ..................... (3 of 4) Processing LGBM, total=   0.4s\n",
      "WARNING:tensorflow:Error in loading the saved optimizer state. As a result, your model is starting with a freshly initialized optimizer.\n",
      "[Voting] ...................... (4 of 4) Processing ANN, total=  23.0s\n",
      "Iterazione 442 [[ 0  0]\n",
      " [ 2 10]]\n",
      "accuracy 0.8333333333333334\n"
     ]
    },
    {
     "name": "stderr",
     "output_type": "stream",
     "text": [
      "<ipython-input-54-0786b9e49dc3>:22: DeprecationWarning: KerasClassifier is deprecated, use Sci-Keras (https://github.com/adriangb/scikeras) instead.\n",
      "  ANN_best = keras.wrappers.scikit_learn.KerasClassifier(build_nn, epochs= 200, verbose=False)\n"
     ]
    },
    {
     "name": "stdout",
     "output_type": "stream",
     "text": [
      "[Voting] ...................... (1 of 4) Processing KNN, total=   0.0s\n",
      "[Voting] ...................... (2 of 4) Processing SVC, total=   5.0s\n",
      "[Voting] ..................... (3 of 4) Processing LGBM, total=   0.3s\n",
      "WARNING:tensorflow:Error in loading the saved optimizer state. As a result, your model is starting with a freshly initialized optimizer.\n",
      "[Voting] ...................... (4 of 4) Processing ANN, total=  22.3s\n",
      "Iterazione 443 [[0 0]\n",
      " [2 6]]\n",
      "accuracy 0.75\n"
     ]
    },
    {
     "name": "stderr",
     "output_type": "stream",
     "text": [
      "<ipython-input-54-0786b9e49dc3>:22: DeprecationWarning: KerasClassifier is deprecated, use Sci-Keras (https://github.com/adriangb/scikeras) instead.\n",
      "  ANN_best = keras.wrappers.scikit_learn.KerasClassifier(build_nn, epochs= 200, verbose=False)\n"
     ]
    },
    {
     "name": "stdout",
     "output_type": "stream",
     "text": [
      "[Voting] ...................... (1 of 4) Processing KNN, total=   0.0s\n",
      "[Voting] ...................... (2 of 4) Processing SVC, total=   4.8s\n",
      "[Voting] ..................... (3 of 4) Processing LGBM, total=   0.3s\n",
      "WARNING:tensorflow:Error in loading the saved optimizer state. As a result, your model is starting with a freshly initialized optimizer.\n",
      "[Voting] ...................... (4 of 4) Processing ANN, total=  22.6s\n",
      "Iterazione 444 [[0 0]\n",
      " [2 3]]\n",
      "accuracy 0.6\n"
     ]
    },
    {
     "name": "stderr",
     "output_type": "stream",
     "text": [
      "<ipython-input-54-0786b9e49dc3>:22: DeprecationWarning: KerasClassifier is deprecated, use Sci-Keras (https://github.com/adriangb/scikeras) instead.\n",
      "  ANN_best = keras.wrappers.scikit_learn.KerasClassifier(build_nn, epochs= 200, verbose=False)\n"
     ]
    },
    {
     "name": "stdout",
     "output_type": "stream",
     "text": [
      "[Voting] ...................... (1 of 4) Processing KNN, total=   0.0s\n",
      "[Voting] ...................... (2 of 4) Processing SVC, total=   4.6s\n",
      "[Voting] ..................... (3 of 4) Processing LGBM, total=   0.3s\n",
      "WARNING:tensorflow:Error in loading the saved optimizer state. As a result, your model is starting with a freshly initialized optimizer.\n",
      "[Voting] ...................... (4 of 4) Processing ANN, total=  22.7s\n",
      "Iterazione 445 [[4 4]\n",
      " [0 0]]\n",
      "accuracy 0.5\n"
     ]
    },
    {
     "name": "stderr",
     "output_type": "stream",
     "text": [
      "<ipython-input-54-0786b9e49dc3>:22: DeprecationWarning: KerasClassifier is deprecated, use Sci-Keras (https://github.com/adriangb/scikeras) instead.\n",
      "  ANN_best = keras.wrappers.scikit_learn.KerasClassifier(build_nn, epochs= 200, verbose=False)\n"
     ]
    },
    {
     "name": "stdout",
     "output_type": "stream",
     "text": [
      "[Voting] ...................... (1 of 4) Processing KNN, total=   0.0s\n",
      "[Voting] ...................... (2 of 4) Processing SVC, total=   4.7s\n",
      "[Voting] ..................... (3 of 4) Processing LGBM, total=   0.2s\n",
      "WARNING:tensorflow:Error in loading the saved optimizer state. As a result, your model is starting with a freshly initialized optimizer.\n",
      "[Voting] ...................... (4 of 4) Processing ANN, total=  22.4s\n",
      "Iterazione 446 [[0 0]\n",
      " [3 0]]\n",
      "accuracy 0.0\n"
     ]
    },
    {
     "name": "stderr",
     "output_type": "stream",
     "text": [
      "<ipython-input-54-0786b9e49dc3>:22: DeprecationWarning: KerasClassifier is deprecated, use Sci-Keras (https://github.com/adriangb/scikeras) instead.\n",
      "  ANN_best = keras.wrappers.scikit_learn.KerasClassifier(build_nn, epochs= 200, verbose=False)\n"
     ]
    },
    {
     "name": "stdout",
     "output_type": "stream",
     "text": [
      "[Voting] ...................... (1 of 4) Processing KNN, total=   0.0s\n",
      "[Voting] ...................... (2 of 4) Processing SVC, total=   4.8s\n",
      "[Voting] ..................... (3 of 4) Processing LGBM, total=   0.3s\n",
      "WARNING:tensorflow:Error in loading the saved optimizer state. As a result, your model is starting with a freshly initialized optimizer.\n",
      "[Voting] ...................... (4 of 4) Processing ANN, total=  22.4s\n",
      "Iterazione 447 [[0 0]\n",
      " [3 9]]\n",
      "accuracy 0.75\n"
     ]
    },
    {
     "name": "stderr",
     "output_type": "stream",
     "text": [
      "<ipython-input-54-0786b9e49dc3>:22: DeprecationWarning: KerasClassifier is deprecated, use Sci-Keras (https://github.com/adriangb/scikeras) instead.\n",
      "  ANN_best = keras.wrappers.scikit_learn.KerasClassifier(build_nn, epochs= 200, verbose=False)\n"
     ]
    },
    {
     "name": "stdout",
     "output_type": "stream",
     "text": [
      "[Voting] ...................... (1 of 4) Processing KNN, total=   0.0s\n",
      "[Voting] ...................... (2 of 4) Processing SVC, total=   4.7s\n",
      "[Voting] ..................... (3 of 4) Processing LGBM, total=   0.4s\n",
      "WARNING:tensorflow:Error in loading the saved optimizer state. As a result, your model is starting with a freshly initialized optimizer.\n",
      "[Voting] ...................... (4 of 4) Processing ANN, total=  22.6s\n",
      "Iterazione 448 [[0 1]\n",
      " [0 0]]\n",
      "accuracy 0.0\n"
     ]
    },
    {
     "name": "stderr",
     "output_type": "stream",
     "text": [
      "<ipython-input-54-0786b9e49dc3>:22: DeprecationWarning: KerasClassifier is deprecated, use Sci-Keras (https://github.com/adriangb/scikeras) instead.\n",
      "  ANN_best = keras.wrappers.scikit_learn.KerasClassifier(build_nn, epochs= 200, verbose=False)\n"
     ]
    },
    {
     "name": "stdout",
     "output_type": "stream",
     "text": [
      "[Voting] ...................... (1 of 4) Processing KNN, total=   0.0s\n",
      "[Voting] ...................... (2 of 4) Processing SVC, total=   4.6s\n",
      "[Voting] ..................... (3 of 4) Processing LGBM, total=   0.3s\n",
      "WARNING:tensorflow:Error in loading the saved optimizer state. As a result, your model is starting with a freshly initialized optimizer.\n",
      "[Voting] ...................... (4 of 4) Processing ANN, total=  22.6s\n",
      "Iterazione 449 [[0 0]\n",
      " [1 3]]\n",
      "accuracy 0.75\n"
     ]
    },
    {
     "name": "stderr",
     "output_type": "stream",
     "text": [
      "<ipython-input-54-0786b9e49dc3>:22: DeprecationWarning: KerasClassifier is deprecated, use Sci-Keras (https://github.com/adriangb/scikeras) instead.\n",
      "  ANN_best = keras.wrappers.scikit_learn.KerasClassifier(build_nn, epochs= 200, verbose=False)\n"
     ]
    },
    {
     "name": "stdout",
     "output_type": "stream",
     "text": [
      "[Voting] ...................... (1 of 4) Processing KNN, total=   0.0s\n",
      "[Voting] ...................... (2 of 4) Processing SVC, total=   4.5s\n",
      "[Voting] ..................... (3 of 4) Processing LGBM, total=   0.3s\n",
      "WARNING:tensorflow:Error in loading the saved optimizer state. As a result, your model is starting with a freshly initialized optimizer.\n",
      "[Voting] ...................... (4 of 4) Processing ANN, total=  22.5s\n",
      "Iterazione 450 [[0 0]\n",
      " [3 1]]\n",
      "accuracy 0.25\n"
     ]
    },
    {
     "name": "stderr",
     "output_type": "stream",
     "text": [
      "<ipython-input-54-0786b9e49dc3>:22: DeprecationWarning: KerasClassifier is deprecated, use Sci-Keras (https://github.com/adriangb/scikeras) instead.\n",
      "  ANN_best = keras.wrappers.scikit_learn.KerasClassifier(build_nn, epochs= 200, verbose=False)\n"
     ]
    },
    {
     "name": "stdout",
     "output_type": "stream",
     "text": [
      "[Voting] ...................... (1 of 4) Processing KNN, total=   0.0s\n",
      "[Voting] ...................... (2 of 4) Processing SVC, total=   4.9s\n",
      "[Voting] ..................... (3 of 4) Processing LGBM, total=   0.3s\n",
      "WARNING:tensorflow:Error in loading the saved optimizer state. As a result, your model is starting with a freshly initialized optimizer.\n",
      "[Voting] ...................... (4 of 4) Processing ANN, total=  22.5s\n",
      "Iterazione 451 [[0 0]\n",
      " [1 0]]\n",
      "accuracy 0.0\n"
     ]
    },
    {
     "name": "stderr",
     "output_type": "stream",
     "text": [
      "<ipython-input-54-0786b9e49dc3>:22: DeprecationWarning: KerasClassifier is deprecated, use Sci-Keras (https://github.com/adriangb/scikeras) instead.\n",
      "  ANN_best = keras.wrappers.scikit_learn.KerasClassifier(build_nn, epochs= 200, verbose=False)\n"
     ]
    },
    {
     "name": "stdout",
     "output_type": "stream",
     "text": [
      "[Voting] ...................... (1 of 4) Processing KNN, total=   0.0s\n",
      "[Voting] ...................... (2 of 4) Processing SVC, total=   4.8s\n",
      "[Voting] ..................... (3 of 4) Processing LGBM, total=   0.3s\n",
      "WARNING:tensorflow:Error in loading the saved optimizer state. As a result, your model is starting with a freshly initialized optimizer.\n",
      "[Voting] ...................... (4 of 4) Processing ANN, total=  22.6s\n",
      "Iterazione 452 [[3 1]\n",
      " [0 0]]\n",
      "accuracy 0.75\n"
     ]
    },
    {
     "name": "stderr",
     "output_type": "stream",
     "text": [
      "<ipython-input-54-0786b9e49dc3>:22: DeprecationWarning: KerasClassifier is deprecated, use Sci-Keras (https://github.com/adriangb/scikeras) instead.\n",
      "  ANN_best = keras.wrappers.scikit_learn.KerasClassifier(build_nn, epochs= 200, verbose=False)\n"
     ]
    },
    {
     "name": "stdout",
     "output_type": "stream",
     "text": [
      "[Voting] ...................... (1 of 4) Processing KNN, total=   0.0s\n",
      "[Voting] ...................... (2 of 4) Processing SVC, total=   4.6s\n",
      "[Voting] ..................... (3 of 4) Processing LGBM, total=   0.2s\n",
      "WARNING:tensorflow:Error in loading the saved optimizer state. As a result, your model is starting with a freshly initialized optimizer.\n",
      "[Voting] ...................... (4 of 4) Processing ANN, total=  20.3s\n",
      "Iterazione 453 [[1 3]\n",
      " [0 0]]\n",
      "accuracy 0.25\n"
     ]
    },
    {
     "name": "stderr",
     "output_type": "stream",
     "text": [
      "<ipython-input-54-0786b9e49dc3>:22: DeprecationWarning: KerasClassifier is deprecated, use Sci-Keras (https://github.com/adriangb/scikeras) instead.\n",
      "  ANN_best = keras.wrappers.scikit_learn.KerasClassifier(build_nn, epochs= 200, verbose=False)\n"
     ]
    },
    {
     "name": "stdout",
     "output_type": "stream",
     "text": [
      "[Voting] ...................... (1 of 4) Processing KNN, total=   0.0s\n",
      "[Voting] ...................... (2 of 4) Processing SVC, total=   4.4s\n",
      "[Voting] ..................... (3 of 4) Processing LGBM, total=   0.2s\n",
      "WARNING:tensorflow:Error in loading the saved optimizer state. As a result, your model is starting with a freshly initialized optimizer.\n",
      "[Voting] ...................... (4 of 4) Processing ANN, total=  20.0s\n",
      "Iterazione 454 [[0 0]\n",
      " [1 1]]\n",
      "accuracy 0.5\n"
     ]
    },
    {
     "name": "stderr",
     "output_type": "stream",
     "text": [
      "<ipython-input-54-0786b9e49dc3>:22: DeprecationWarning: KerasClassifier is deprecated, use Sci-Keras (https://github.com/adriangb/scikeras) instead.\n",
      "  ANN_best = keras.wrappers.scikit_learn.KerasClassifier(build_nn, epochs= 200, verbose=False)\n"
     ]
    },
    {
     "name": "stdout",
     "output_type": "stream",
     "text": [
      "[Voting] ...................... (1 of 4) Processing KNN, total=   0.0s\n",
      "[Voting] ...................... (2 of 4) Processing SVC, total=   4.6s\n",
      "[Voting] ..................... (3 of 4) Processing LGBM, total=   0.2s\n",
      "WARNING:tensorflow:Error in loading the saved optimizer state. As a result, your model is starting with a freshly initialized optimizer.\n",
      "[Voting] ...................... (4 of 4) Processing ANN, total=  20.0s\n",
      "Iterazione 455 [[1 2]\n",
      " [0 0]]\n",
      "accuracy 0.3333333333333333\n"
     ]
    },
    {
     "name": "stderr",
     "output_type": "stream",
     "text": [
      "<ipython-input-54-0786b9e49dc3>:22: DeprecationWarning: KerasClassifier is deprecated, use Sci-Keras (https://github.com/adriangb/scikeras) instead.\n",
      "  ANN_best = keras.wrappers.scikit_learn.KerasClassifier(build_nn, epochs= 200, verbose=False)\n"
     ]
    },
    {
     "name": "stdout",
     "output_type": "stream",
     "text": [
      "[Voting] ...................... (1 of 4) Processing KNN, total=   0.0s\n",
      "[Voting] ...................... (2 of 4) Processing SVC, total=   4.7s\n",
      "[Voting] ..................... (3 of 4) Processing LGBM, total=   0.3s\n",
      "WARNING:tensorflow:Error in loading the saved optimizer state. As a result, your model is starting with a freshly initialized optimizer.\n",
      "[Voting] ...................... (4 of 4) Processing ANN, total=  20.2s\n",
      "Iterazione 456 [[1 2]\n",
      " [0 0]]\n",
      "accuracy 0.3333333333333333\n"
     ]
    },
    {
     "name": "stderr",
     "output_type": "stream",
     "text": [
      "<ipython-input-54-0786b9e49dc3>:22: DeprecationWarning: KerasClassifier is deprecated, use Sci-Keras (https://github.com/adriangb/scikeras) instead.\n",
      "  ANN_best = keras.wrappers.scikit_learn.KerasClassifier(build_nn, epochs= 200, verbose=False)\n"
     ]
    },
    {
     "name": "stdout",
     "output_type": "stream",
     "text": [
      "[Voting] ...................... (1 of 4) Processing KNN, total=   0.0s\n",
      "[Voting] ...................... (2 of 4) Processing SVC, total=   4.3s\n",
      "[Voting] ..................... (3 of 4) Processing LGBM, total=   0.2s\n",
      "WARNING:tensorflow:Error in loading the saved optimizer state. As a result, your model is starting with a freshly initialized optimizer.\n",
      "[Voting] ...................... (4 of 4) Processing ANN, total=  20.0s\n",
      "Iterazione 457 [[0 0]\n",
      " [2 3]]\n",
      "accuracy 0.6\n"
     ]
    },
    {
     "name": "stderr",
     "output_type": "stream",
     "text": [
      "<ipython-input-54-0786b9e49dc3>:22: DeprecationWarning: KerasClassifier is deprecated, use Sci-Keras (https://github.com/adriangb/scikeras) instead.\n",
      "  ANN_best = keras.wrappers.scikit_learn.KerasClassifier(build_nn, epochs= 200, verbose=False)\n"
     ]
    },
    {
     "name": "stdout",
     "output_type": "stream",
     "text": [
      "[Voting] ...................... (1 of 4) Processing KNN, total=   0.0s\n",
      "[Voting] ...................... (2 of 4) Processing SVC, total=   4.3s\n",
      "[Voting] ..................... (3 of 4) Processing LGBM, total=   0.2s\n",
      "WARNING:tensorflow:Error in loading the saved optimizer state. As a result, your model is starting with a freshly initialized optimizer.\n",
      "[Voting] ...................... (4 of 4) Processing ANN, total=  20.4s\n",
      "Iterazione 458 [[2 2]\n",
      " [0 0]]\n",
      "accuracy 0.5\n"
     ]
    },
    {
     "name": "stderr",
     "output_type": "stream",
     "text": [
      "<ipython-input-54-0786b9e49dc3>:22: DeprecationWarning: KerasClassifier is deprecated, use Sci-Keras (https://github.com/adriangb/scikeras) instead.\n",
      "  ANN_best = keras.wrappers.scikit_learn.KerasClassifier(build_nn, epochs= 200, verbose=False)\n"
     ]
    },
    {
     "name": "stdout",
     "output_type": "stream",
     "text": [
      "[Voting] ...................... (1 of 4) Processing KNN, total=   0.0s\n",
      "[Voting] ...................... (2 of 4) Processing SVC, total=   4.3s\n",
      "[Voting] ..................... (3 of 4) Processing LGBM, total=   0.2s\n",
      "WARNING:tensorflow:Error in loading the saved optimizer state. As a result, your model is starting with a freshly initialized optimizer.\n",
      "[Voting] ...................... (4 of 4) Processing ANN, total=  20.1s\n",
      "Iterazione 459 [[0 0]\n",
      " [0 2]]\n",
      "accuracy 1.0\n"
     ]
    },
    {
     "name": "stderr",
     "output_type": "stream",
     "text": [
      "<ipython-input-54-0786b9e49dc3>:22: DeprecationWarning: KerasClassifier is deprecated, use Sci-Keras (https://github.com/adriangb/scikeras) instead.\n",
      "  ANN_best = keras.wrappers.scikit_learn.KerasClassifier(build_nn, epochs= 200, verbose=False)\n"
     ]
    },
    {
     "name": "stdout",
     "output_type": "stream",
     "text": [
      "[Voting] ...................... (1 of 4) Processing KNN, total=   0.0s\n",
      "[Voting] ...................... (2 of 4) Processing SVC, total=   4.5s\n",
      "[Voting] ..................... (3 of 4) Processing LGBM, total=   0.2s\n",
      "WARNING:tensorflow:Error in loading the saved optimizer state. As a result, your model is starting with a freshly initialized optimizer.\n",
      "[Voting] ...................... (4 of 4) Processing ANN, total=  20.2s\n",
      "Iterazione 460 [[0 1]\n",
      " [0 0]]\n",
      "accuracy 0.0\n"
     ]
    },
    {
     "name": "stderr",
     "output_type": "stream",
     "text": [
      "<ipython-input-54-0786b9e49dc3>:22: DeprecationWarning: KerasClassifier is deprecated, use Sci-Keras (https://github.com/adriangb/scikeras) instead.\n",
      "  ANN_best = keras.wrappers.scikit_learn.KerasClassifier(build_nn, epochs= 200, verbose=False)\n"
     ]
    },
    {
     "name": "stdout",
     "output_type": "stream",
     "text": [
      "[Voting] ...................... (1 of 4) Processing KNN, total=   0.0s\n",
      "[Voting] ...................... (2 of 4) Processing SVC, total=   4.2s\n",
      "[Voting] ..................... (3 of 4) Processing LGBM, total=   0.2s\n",
      "WARNING:tensorflow:Error in loading the saved optimizer state. As a result, your model is starting with a freshly initialized optimizer.\n",
      "[Voting] ...................... (4 of 4) Processing ANN, total=  20.2s\n",
      "Iterazione 461 [[7 0]\n",
      " [0 0]]\n",
      "accuracy 1.0\n"
     ]
    },
    {
     "name": "stderr",
     "output_type": "stream",
     "text": [
      "<ipython-input-54-0786b9e49dc3>:22: DeprecationWarning: KerasClassifier is deprecated, use Sci-Keras (https://github.com/adriangb/scikeras) instead.\n",
      "  ANN_best = keras.wrappers.scikit_learn.KerasClassifier(build_nn, epochs= 200, verbose=False)\n"
     ]
    },
    {
     "name": "stdout",
     "output_type": "stream",
     "text": [
      "[Voting] ...................... (1 of 4) Processing KNN, total=   0.0s\n",
      "[Voting] ...................... (2 of 4) Processing SVC, total=   4.3s\n",
      "[Voting] ..................... (3 of 4) Processing LGBM, total=   0.2s\n",
      "WARNING:tensorflow:Error in loading the saved optimizer state. As a result, your model is starting with a freshly initialized optimizer.\n",
      "[Voting] ...................... (4 of 4) Processing ANN, total=  20.2s\n",
      "Iterazione 462 [[0 0]\n",
      " [1 0]]\n",
      "accuracy 0.0\n"
     ]
    },
    {
     "name": "stderr",
     "output_type": "stream",
     "text": [
      "<ipython-input-54-0786b9e49dc3>:22: DeprecationWarning: KerasClassifier is deprecated, use Sci-Keras (https://github.com/adriangb/scikeras) instead.\n",
      "  ANN_best = keras.wrappers.scikit_learn.KerasClassifier(build_nn, epochs= 200, verbose=False)\n"
     ]
    },
    {
     "name": "stdout",
     "output_type": "stream",
     "text": [
      "[Voting] ...................... (1 of 4) Processing KNN, total=   0.0s\n",
      "[Voting] ...................... (2 of 4) Processing SVC, total=   4.4s\n",
      "[Voting] ..................... (3 of 4) Processing LGBM, total=   0.3s\n",
      "WARNING:tensorflow:Error in loading the saved optimizer state. As a result, your model is starting with a freshly initialized optimizer.\n",
      "[Voting] ...................... (4 of 4) Processing ANN, total=  20.2s\n",
      "Iterazione 463 [[5 2]\n",
      " [0 0]]\n",
      "accuracy 0.7142857142857143\n"
     ]
    },
    {
     "name": "stderr",
     "output_type": "stream",
     "text": [
      "<ipython-input-54-0786b9e49dc3>:22: DeprecationWarning: KerasClassifier is deprecated, use Sci-Keras (https://github.com/adriangb/scikeras) instead.\n",
      "  ANN_best = keras.wrappers.scikit_learn.KerasClassifier(build_nn, epochs= 200, verbose=False)\n"
     ]
    },
    {
     "name": "stdout",
     "output_type": "stream",
     "text": [
      "[Voting] ...................... (1 of 4) Processing KNN, total=   0.0s\n",
      "[Voting] ...................... (2 of 4) Processing SVC, total=   4.3s\n",
      "[Voting] ..................... (3 of 4) Processing LGBM, total=   0.2s\n",
      "WARNING:tensorflow:Error in loading the saved optimizer state. As a result, your model is starting with a freshly initialized optimizer.\n",
      "[Voting] ...................... (4 of 4) Processing ANN, total=  20.4s\n",
      "Iterazione 464 [[1 3]\n",
      " [0 0]]\n",
      "accuracy 0.25\n"
     ]
    },
    {
     "name": "stderr",
     "output_type": "stream",
     "text": [
      "<ipython-input-54-0786b9e49dc3>:22: DeprecationWarning: KerasClassifier is deprecated, use Sci-Keras (https://github.com/adriangb/scikeras) instead.\n",
      "  ANN_best = keras.wrappers.scikit_learn.KerasClassifier(build_nn, epochs= 200, verbose=False)\n"
     ]
    },
    {
     "name": "stdout",
     "output_type": "stream",
     "text": [
      "[Voting] ...................... (1 of 4) Processing KNN, total=   0.0s\n",
      "[Voting] ...................... (2 of 4) Processing SVC, total=   4.5s\n",
      "[Voting] ..................... (3 of 4) Processing LGBM, total=   0.2s\n",
      "WARNING:tensorflow:Error in loading the saved optimizer state. As a result, your model is starting with a freshly initialized optimizer.\n",
      "[Voting] ...................... (4 of 4) Processing ANN, total=  20.4s\n",
      "Iterazione 465 [[0 0]\n",
      " [8 2]]\n",
      "accuracy 0.2\n"
     ]
    },
    {
     "name": "stderr",
     "output_type": "stream",
     "text": [
      "<ipython-input-54-0786b9e49dc3>:22: DeprecationWarning: KerasClassifier is deprecated, use Sci-Keras (https://github.com/adriangb/scikeras) instead.\n",
      "  ANN_best = keras.wrappers.scikit_learn.KerasClassifier(build_nn, epochs= 200, verbose=False)\n"
     ]
    },
    {
     "name": "stdout",
     "output_type": "stream",
     "text": [
      "[Voting] ...................... (1 of 4) Processing KNN, total=   0.0s\n",
      "[Voting] ...................... (2 of 4) Processing SVC, total=   4.3s\n",
      "[Voting] ..................... (3 of 4) Processing LGBM, total=   0.2s\n",
      "WARNING:tensorflow:Error in loading the saved optimizer state. As a result, your model is starting with a freshly initialized optimizer.\n",
      "[Voting] ...................... (4 of 4) Processing ANN, total=  20.3s\n",
      "Iterazione 466 [[2 2]\n",
      " [0 0]]\n",
      "accuracy 0.5\n"
     ]
    },
    {
     "name": "stderr",
     "output_type": "stream",
     "text": [
      "<ipython-input-54-0786b9e49dc3>:22: DeprecationWarning: KerasClassifier is deprecated, use Sci-Keras (https://github.com/adriangb/scikeras) instead.\n",
      "  ANN_best = keras.wrappers.scikit_learn.KerasClassifier(build_nn, epochs= 200, verbose=False)\n"
     ]
    },
    {
     "name": "stdout",
     "output_type": "stream",
     "text": [
      "[Voting] ...................... (1 of 4) Processing KNN, total=   0.0s\n",
      "[Voting] ...................... (2 of 4) Processing SVC, total=   4.4s\n",
      "[Voting] ..................... (3 of 4) Processing LGBM, total=   0.2s\n",
      "WARNING:tensorflow:Error in loading the saved optimizer state. As a result, your model is starting with a freshly initialized optimizer.\n",
      "[Voting] ...................... (4 of 4) Processing ANN, total=  20.1s\n",
      "Iterazione 467 [[0 0]\n",
      " [2 0]]\n",
      "accuracy 0.0\n"
     ]
    },
    {
     "name": "stderr",
     "output_type": "stream",
     "text": [
      "<ipython-input-54-0786b9e49dc3>:22: DeprecationWarning: KerasClassifier is deprecated, use Sci-Keras (https://github.com/adriangb/scikeras) instead.\n",
      "  ANN_best = keras.wrappers.scikit_learn.KerasClassifier(build_nn, epochs= 200, verbose=False)\n"
     ]
    },
    {
     "name": "stdout",
     "output_type": "stream",
     "text": [
      "[Voting] ...................... (1 of 4) Processing KNN, total=   0.0s\n",
      "[Voting] ...................... (2 of 4) Processing SVC, total=   4.5s\n",
      "[Voting] ..................... (3 of 4) Processing LGBM, total=   0.3s\n",
      "WARNING:tensorflow:Error in loading the saved optimizer state. As a result, your model is starting with a freshly initialized optimizer.\n",
      "[Voting] ...................... (4 of 4) Processing ANN, total=  20.0s\n",
      "Iterazione 468 [[0 0]\n",
      " [1 1]]\n",
      "accuracy 0.5\n"
     ]
    },
    {
     "name": "stderr",
     "output_type": "stream",
     "text": [
      "<ipython-input-54-0786b9e49dc3>:22: DeprecationWarning: KerasClassifier is deprecated, use Sci-Keras (https://github.com/adriangb/scikeras) instead.\n",
      "  ANN_best = keras.wrappers.scikit_learn.KerasClassifier(build_nn, epochs= 200, verbose=False)\n"
     ]
    },
    {
     "name": "stdout",
     "output_type": "stream",
     "text": [
      "[Voting] ...................... (1 of 4) Processing KNN, total=   0.0s\n",
      "[Voting] ...................... (2 of 4) Processing SVC, total=   4.2s\n",
      "[Voting] ..................... (3 of 4) Processing LGBM, total=   0.2s\n",
      "WARNING:tensorflow:Error in loading the saved optimizer state. As a result, your model is starting with a freshly initialized optimizer.\n",
      "[Voting] ...................... (4 of 4) Processing ANN, total=  20.0s\n",
      "Iterazione 469 [[0 0]\n",
      " [1 1]]\n",
      "accuracy 0.5\n"
     ]
    },
    {
     "name": "stderr",
     "output_type": "stream",
     "text": [
      "<ipython-input-54-0786b9e49dc3>:22: DeprecationWarning: KerasClassifier is deprecated, use Sci-Keras (https://github.com/adriangb/scikeras) instead.\n",
      "  ANN_best = keras.wrappers.scikit_learn.KerasClassifier(build_nn, epochs= 200, verbose=False)\n"
     ]
    },
    {
     "name": "stdout",
     "output_type": "stream",
     "text": [
      "[Voting] ...................... (1 of 4) Processing KNN, total=   0.0s\n",
      "[Voting] ...................... (2 of 4) Processing SVC, total=   4.3s\n",
      "[Voting] ..................... (3 of 4) Processing LGBM, total=   0.2s\n",
      "WARNING:tensorflow:Error in loading the saved optimizer state. As a result, your model is starting with a freshly initialized optimizer.\n",
      "[Voting] ...................... (4 of 4) Processing ANN, total=  20.2s\n",
      "Iterazione 470 [[0 0]\n",
      " [0 2]]\n",
      "accuracy 1.0\n"
     ]
    },
    {
     "name": "stderr",
     "output_type": "stream",
     "text": [
      "<ipython-input-54-0786b9e49dc3>:22: DeprecationWarning: KerasClassifier is deprecated, use Sci-Keras (https://github.com/adriangb/scikeras) instead.\n",
      "  ANN_best = keras.wrappers.scikit_learn.KerasClassifier(build_nn, epochs= 200, verbose=False)\n"
     ]
    },
    {
     "name": "stdout",
     "output_type": "stream",
     "text": [
      "[Voting] ...................... (1 of 4) Processing KNN, total=   0.0s\n",
      "[Voting] ...................... (2 of 4) Processing SVC, total=   4.3s\n",
      "[Voting] ..................... (3 of 4) Processing LGBM, total=   0.2s\n",
      "WARNING:tensorflow:Error in loading the saved optimizer state. As a result, your model is starting with a freshly initialized optimizer.\n",
      "[Voting] ...................... (4 of 4) Processing ANN, total=  20.2s\n",
      "Iterazione 471 [[ 0  0]\n",
      " [10  4]]\n",
      "accuracy 0.2857142857142857\n"
     ]
    },
    {
     "name": "stderr",
     "output_type": "stream",
     "text": [
      "<ipython-input-54-0786b9e49dc3>:22: DeprecationWarning: KerasClassifier is deprecated, use Sci-Keras (https://github.com/adriangb/scikeras) instead.\n",
      "  ANN_best = keras.wrappers.scikit_learn.KerasClassifier(build_nn, epochs= 200, verbose=False)\n"
     ]
    },
    {
     "name": "stdout",
     "output_type": "stream",
     "text": [
      "[Voting] ...................... (1 of 4) Processing KNN, total=   0.0s\n",
      "[Voting] ...................... (2 of 4) Processing SVC, total=   4.4s\n",
      "[Voting] ..................... (3 of 4) Processing LGBM, total=   0.2s\n",
      "WARNING:tensorflow:Error in loading the saved optimizer state. As a result, your model is starting with a freshly initialized optimizer.\n",
      "[Voting] ...................... (4 of 4) Processing ANN, total=  20.2s\n",
      "Iterazione 472 [[0 0]\n",
      " [2 0]]\n",
      "accuracy 0.0\n"
     ]
    },
    {
     "name": "stderr",
     "output_type": "stream",
     "text": [
      "<ipython-input-54-0786b9e49dc3>:22: DeprecationWarning: KerasClassifier is deprecated, use Sci-Keras (https://github.com/adriangb/scikeras) instead.\n",
      "  ANN_best = keras.wrappers.scikit_learn.KerasClassifier(build_nn, epochs= 200, verbose=False)\n"
     ]
    },
    {
     "name": "stdout",
     "output_type": "stream",
     "text": [
      "[Voting] ...................... (1 of 4) Processing KNN, total=   0.0s\n",
      "[Voting] ...................... (2 of 4) Processing SVC, total=   4.3s\n",
      "[Voting] ..................... (3 of 4) Processing LGBM, total=   0.4s\n",
      "WARNING:tensorflow:Error in loading the saved optimizer state. As a result, your model is starting with a freshly initialized optimizer.\n",
      "[Voting] ...................... (4 of 4) Processing ANN, total=  20.0s\n",
      "Iterazione 473 [[0 0]\n",
      " [1 5]]\n",
      "accuracy 0.8333333333333334\n"
     ]
    },
    {
     "name": "stderr",
     "output_type": "stream",
     "text": [
      "<ipython-input-54-0786b9e49dc3>:22: DeprecationWarning: KerasClassifier is deprecated, use Sci-Keras (https://github.com/adriangb/scikeras) instead.\n",
      "  ANN_best = keras.wrappers.scikit_learn.KerasClassifier(build_nn, epochs= 200, verbose=False)\n"
     ]
    },
    {
     "name": "stdout",
     "output_type": "stream",
     "text": [
      "[Voting] ...................... (1 of 4) Processing KNN, total=   0.0s\n",
      "[Voting] ...................... (2 of 4) Processing SVC, total=   4.2s\n",
      "[Voting] ..................... (3 of 4) Processing LGBM, total=   0.2s\n",
      "WARNING:tensorflow:Error in loading the saved optimizer state. As a result, your model is starting with a freshly initialized optimizer.\n",
      "[Voting] ...................... (4 of 4) Processing ANN, total=  21.1s\n",
      "Iterazione 474 [[0 0]\n",
      " [0 3]]\n",
      "accuracy 1.0\n"
     ]
    },
    {
     "name": "stderr",
     "output_type": "stream",
     "text": [
      "<ipython-input-54-0786b9e49dc3>:22: DeprecationWarning: KerasClassifier is deprecated, use Sci-Keras (https://github.com/adriangb/scikeras) instead.\n",
      "  ANN_best = keras.wrappers.scikit_learn.KerasClassifier(build_nn, epochs= 200, verbose=False)\n"
     ]
    },
    {
     "name": "stdout",
     "output_type": "stream",
     "text": [
      "[Voting] ...................... (1 of 4) Processing KNN, total=   0.0s\n",
      "[Voting] ...................... (2 of 4) Processing SVC, total=   4.3s\n",
      "[Voting] ..................... (3 of 4) Processing LGBM, total=   0.2s\n",
      "WARNING:tensorflow:Error in loading the saved optimizer state. As a result, your model is starting with a freshly initialized optimizer.\n",
      "[Voting] ...................... (4 of 4) Processing ANN, total=  20.2s\n",
      "Iterazione 475 [[0 0]\n",
      " [3 8]]\n",
      "accuracy 0.7272727272727273\n"
     ]
    },
    {
     "name": "stderr",
     "output_type": "stream",
     "text": [
      "<ipython-input-54-0786b9e49dc3>:22: DeprecationWarning: KerasClassifier is deprecated, use Sci-Keras (https://github.com/adriangb/scikeras) instead.\n",
      "  ANN_best = keras.wrappers.scikit_learn.KerasClassifier(build_nn, epochs= 200, verbose=False)\n"
     ]
    },
    {
     "name": "stdout",
     "output_type": "stream",
     "text": [
      "[Voting] ...................... (1 of 4) Processing KNN, total=   0.0s\n",
      "[Voting] ...................... (2 of 4) Processing SVC, total=   4.3s\n",
      "[Voting] ..................... (3 of 4) Processing LGBM, total=   0.2s\n",
      "WARNING:tensorflow:Error in loading the saved optimizer state. As a result, your model is starting with a freshly initialized optimizer.\n",
      "[Voting] ...................... (4 of 4) Processing ANN, total=  20.4s\n",
      "Iterazione 476 [[8 2]\n",
      " [0 0]]\n",
      "accuracy 0.8\n"
     ]
    },
    {
     "name": "stderr",
     "output_type": "stream",
     "text": [
      "<ipython-input-54-0786b9e49dc3>:22: DeprecationWarning: KerasClassifier is deprecated, use Sci-Keras (https://github.com/adriangb/scikeras) instead.\n",
      "  ANN_best = keras.wrappers.scikit_learn.KerasClassifier(build_nn, epochs= 200, verbose=False)\n"
     ]
    },
    {
     "name": "stdout",
     "output_type": "stream",
     "text": [
      "[Voting] ...................... (1 of 4) Processing KNN, total=   0.0s\n",
      "[Voting] ...................... (2 of 4) Processing SVC, total=   4.2s\n",
      "[Voting] ..................... (3 of 4) Processing LGBM, total=   0.3s\n",
      "WARNING:tensorflow:Error in loading the saved optimizer state. As a result, your model is starting with a freshly initialized optimizer.\n",
      "[Voting] ...................... (4 of 4) Processing ANN, total=  20.1s\n",
      "Iterazione 477 [[5 2]\n",
      " [0 0]]\n",
      "accuracy 0.7142857142857143\n"
     ]
    },
    {
     "name": "stderr",
     "output_type": "stream",
     "text": [
      "<ipython-input-54-0786b9e49dc3>:22: DeprecationWarning: KerasClassifier is deprecated, use Sci-Keras (https://github.com/adriangb/scikeras) instead.\n",
      "  ANN_best = keras.wrappers.scikit_learn.KerasClassifier(build_nn, epochs= 200, verbose=False)\n"
     ]
    },
    {
     "name": "stdout",
     "output_type": "stream",
     "text": [
      "[Voting] ...................... (1 of 4) Processing KNN, total=   0.0s\n",
      "[Voting] ...................... (2 of 4) Processing SVC, total=   4.6s\n",
      "[Voting] ..................... (3 of 4) Processing LGBM, total=   0.2s\n",
      "WARNING:tensorflow:Error in loading the saved optimizer state. As a result, your model is starting with a freshly initialized optimizer.\n",
      "[Voting] ...................... (4 of 4) Processing ANN, total=  20.2s\n",
      "Iterazione 478 [[1 1]\n",
      " [0 0]]\n",
      "accuracy 0.5\n"
     ]
    },
    {
     "name": "stderr",
     "output_type": "stream",
     "text": [
      "<ipython-input-54-0786b9e49dc3>:22: DeprecationWarning: KerasClassifier is deprecated, use Sci-Keras (https://github.com/adriangb/scikeras) instead.\n",
      "  ANN_best = keras.wrappers.scikit_learn.KerasClassifier(build_nn, epochs= 200, verbose=False)\n"
     ]
    },
    {
     "name": "stdout",
     "output_type": "stream",
     "text": [
      "[Voting] ...................... (1 of 4) Processing KNN, total=   0.0s\n",
      "[Voting] ...................... (2 of 4) Processing SVC, total=   4.2s\n",
      "[Voting] ..................... (3 of 4) Processing LGBM, total=   0.2s\n",
      "WARNING:tensorflow:Error in loading the saved optimizer state. As a result, your model is starting with a freshly initialized optimizer.\n",
      "[Voting] ...................... (4 of 4) Processing ANN, total=  20.3s\n",
      "Iterazione 479 [[0 0]\n",
      " [1 0]]\n",
      "accuracy 0.0\n"
     ]
    },
    {
     "name": "stderr",
     "output_type": "stream",
     "text": [
      "<ipython-input-54-0786b9e49dc3>:22: DeprecationWarning: KerasClassifier is deprecated, use Sci-Keras (https://github.com/adriangb/scikeras) instead.\n",
      "  ANN_best = keras.wrappers.scikit_learn.KerasClassifier(build_nn, epochs= 200, verbose=False)\n"
     ]
    },
    {
     "name": "stdout",
     "output_type": "stream",
     "text": [
      "[Voting] ...................... (1 of 4) Processing KNN, total=   0.0s\n",
      "[Voting] ...................... (2 of 4) Processing SVC, total=   4.5s\n",
      "[Voting] ..................... (3 of 4) Processing LGBM, total=   0.2s\n",
      "WARNING:tensorflow:Error in loading the saved optimizer state. As a result, your model is starting with a freshly initialized optimizer.\n",
      "[Voting] ...................... (4 of 4) Processing ANN, total=  21.0s\n",
      "Iterazione 480 [[0 0]\n",
      " [1 1]]\n",
      "accuracy 0.5\n"
     ]
    },
    {
     "name": "stderr",
     "output_type": "stream",
     "text": [
      "<ipython-input-54-0786b9e49dc3>:22: DeprecationWarning: KerasClassifier is deprecated, use Sci-Keras (https://github.com/adriangb/scikeras) instead.\n",
      "  ANN_best = keras.wrappers.scikit_learn.KerasClassifier(build_nn, epochs= 200, verbose=False)\n"
     ]
    },
    {
     "name": "stdout",
     "output_type": "stream",
     "text": [
      "[Voting] ...................... (1 of 4) Processing KNN, total=   0.0s\n",
      "[Voting] ...................... (2 of 4) Processing SVC, total=   4.3s\n",
      "[Voting] ..................... (3 of 4) Processing LGBM, total=   0.4s\n",
      "WARNING:tensorflow:Error in loading the saved optimizer state. As a result, your model is starting with a freshly initialized optimizer.\n",
      "[Voting] ...................... (4 of 4) Processing ANN, total=  20.2s\n",
      "Iterazione 481 [[0 0]\n",
      " [1 2]]\n",
      "accuracy 0.6666666666666666\n"
     ]
    },
    {
     "name": "stderr",
     "output_type": "stream",
     "text": [
      "<ipython-input-54-0786b9e49dc3>:22: DeprecationWarning: KerasClassifier is deprecated, use Sci-Keras (https://github.com/adriangb/scikeras) instead.\n",
      "  ANN_best = keras.wrappers.scikit_learn.KerasClassifier(build_nn, epochs= 200, verbose=False)\n"
     ]
    },
    {
     "name": "stdout",
     "output_type": "stream",
     "text": [
      "[Voting] ...................... (1 of 4) Processing KNN, total=   0.0s\n",
      "[Voting] ...................... (2 of 4) Processing SVC, total=   4.2s\n",
      "[Voting] ..................... (3 of 4) Processing LGBM, total=   0.2s\n",
      "WARNING:tensorflow:Error in loading the saved optimizer state. As a result, your model is starting with a freshly initialized optimizer.\n",
      "[Voting] ...................... (4 of 4) Processing ANN, total=  20.1s\n",
      "Iterazione 482 [[2 1]\n",
      " [0 0]]\n",
      "accuracy 0.6666666666666666\n"
     ]
    },
    {
     "name": "stderr",
     "output_type": "stream",
     "text": [
      "<ipython-input-54-0786b9e49dc3>:22: DeprecationWarning: KerasClassifier is deprecated, use Sci-Keras (https://github.com/adriangb/scikeras) instead.\n",
      "  ANN_best = keras.wrappers.scikit_learn.KerasClassifier(build_nn, epochs= 200, verbose=False)\n"
     ]
    },
    {
     "name": "stdout",
     "output_type": "stream",
     "text": [
      "[Voting] ...................... (1 of 4) Processing KNN, total=   0.0s\n",
      "[Voting] ...................... (2 of 4) Processing SVC, total=   4.4s\n",
      "[Voting] ..................... (3 of 4) Processing LGBM, total=   0.2s\n",
      "WARNING:tensorflow:Error in loading the saved optimizer state. As a result, your model is starting with a freshly initialized optimizer.\n",
      "[Voting] ...................... (4 of 4) Processing ANN, total=  20.2s\n",
      "Iterazione 483 [[0 0]\n",
      " [2 1]]\n",
      "accuracy 0.3333333333333333\n"
     ]
    },
    {
     "name": "stderr",
     "output_type": "stream",
     "text": [
      "<ipython-input-54-0786b9e49dc3>:22: DeprecationWarning: KerasClassifier is deprecated, use Sci-Keras (https://github.com/adriangb/scikeras) instead.\n",
      "  ANN_best = keras.wrappers.scikit_learn.KerasClassifier(build_nn, epochs= 200, verbose=False)\n"
     ]
    },
    {
     "name": "stdout",
     "output_type": "stream",
     "text": [
      "[Voting] ...................... (1 of 4) Processing KNN, total=   0.0s\n",
      "[Voting] ...................... (2 of 4) Processing SVC, total=   4.1s\n",
      "[Voting] ..................... (3 of 4) Processing LGBM, total=   0.2s\n",
      "WARNING:tensorflow:Error in loading the saved optimizer state. As a result, your model is starting with a freshly initialized optimizer.\n",
      "[Voting] ...................... (4 of 4) Processing ANN, total=  20.5s\n",
      "Iterazione 484 [[3 2]\n",
      " [0 0]]\n",
      "accuracy 0.6\n"
     ]
    },
    {
     "name": "stderr",
     "output_type": "stream",
     "text": [
      "<ipython-input-54-0786b9e49dc3>:22: DeprecationWarning: KerasClassifier is deprecated, use Sci-Keras (https://github.com/adriangb/scikeras) instead.\n",
      "  ANN_best = keras.wrappers.scikit_learn.KerasClassifier(build_nn, epochs= 200, verbose=False)\n"
     ]
    },
    {
     "name": "stdout",
     "output_type": "stream",
     "text": [
      "[Voting] ...................... (1 of 4) Processing KNN, total=   0.0s\n",
      "[Voting] ...................... (2 of 4) Processing SVC, total=   4.3s\n",
      "[Voting] ..................... (3 of 4) Processing LGBM, total=   0.2s\n",
      "WARNING:tensorflow:Error in loading the saved optimizer state. As a result, your model is starting with a freshly initialized optimizer.\n",
      "[Voting] ...................... (4 of 4) Processing ANN, total=  20.7s\n",
      "Iterazione 485 [[8 2]\n",
      " [0 0]]\n",
      "accuracy 0.8\n"
     ]
    },
    {
     "name": "stderr",
     "output_type": "stream",
     "text": [
      "<ipython-input-54-0786b9e49dc3>:22: DeprecationWarning: KerasClassifier is deprecated, use Sci-Keras (https://github.com/adriangb/scikeras) instead.\n",
      "  ANN_best = keras.wrappers.scikit_learn.KerasClassifier(build_nn, epochs= 200, verbose=False)\n"
     ]
    },
    {
     "name": "stdout",
     "output_type": "stream",
     "text": [
      "[Voting] ...................... (1 of 4) Processing KNN, total=   0.0s\n",
      "[Voting] ...................... (2 of 4) Processing SVC, total=   4.2s\n",
      "[Voting] ..................... (3 of 4) Processing LGBM, total=   0.2s\n",
      "WARNING:tensorflow:Error in loading the saved optimizer state. As a result, your model is starting with a freshly initialized optimizer.\n",
      "[Voting] ...................... (4 of 4) Processing ANN, total=  20.3s\n",
      "Iterazione 486 [[0 1]\n",
      " [0 0]]\n",
      "accuracy 0.0\n"
     ]
    },
    {
     "name": "stderr",
     "output_type": "stream",
     "text": [
      "<ipython-input-54-0786b9e49dc3>:22: DeprecationWarning: KerasClassifier is deprecated, use Sci-Keras (https://github.com/adriangb/scikeras) instead.\n",
      "  ANN_best = keras.wrappers.scikit_learn.KerasClassifier(build_nn, epochs= 200, verbose=False)\n"
     ]
    },
    {
     "name": "stdout",
     "output_type": "stream",
     "text": [
      "[Voting] ...................... (1 of 4) Processing KNN, total=   0.0s\n",
      "[Voting] ...................... (2 of 4) Processing SVC, total=   4.3s\n",
      "[Voting] ..................... (3 of 4) Processing LGBM, total=   0.2s\n",
      "WARNING:tensorflow:Error in loading the saved optimizer state. As a result, your model is starting with a freshly initialized optimizer.\n",
      "[Voting] ...................... (4 of 4) Processing ANN, total=  20.9s\n",
      "Iterazione 487 [[4 2]\n",
      " [0 0]]\n",
      "accuracy 0.6666666666666666\n"
     ]
    },
    {
     "name": "stderr",
     "output_type": "stream",
     "text": [
      "<ipython-input-54-0786b9e49dc3>:22: DeprecationWarning: KerasClassifier is deprecated, use Sci-Keras (https://github.com/adriangb/scikeras) instead.\n",
      "  ANN_best = keras.wrappers.scikit_learn.KerasClassifier(build_nn, epochs= 200, verbose=False)\n"
     ]
    },
    {
     "name": "stdout",
     "output_type": "stream",
     "text": [
      "[Voting] ...................... (1 of 4) Processing KNN, total=   0.0s\n",
      "[Voting] ...................... (2 of 4) Processing SVC, total=   4.4s\n",
      "[Voting] ..................... (3 of 4) Processing LGBM, total=   0.2s\n",
      "WARNING:tensorflow:Error in loading the saved optimizer state. As a result, your model is starting with a freshly initialized optimizer.\n",
      "[Voting] ...................... (4 of 4) Processing ANN, total=  20.4s\n",
      "Iterazione 488 [[4 6]\n",
      " [0 0]]\n",
      "accuracy 0.4\n"
     ]
    },
    {
     "name": "stderr",
     "output_type": "stream",
     "text": [
      "<ipython-input-54-0786b9e49dc3>:22: DeprecationWarning: KerasClassifier is deprecated, use Sci-Keras (https://github.com/adriangb/scikeras) instead.\n",
      "  ANN_best = keras.wrappers.scikit_learn.KerasClassifier(build_nn, epochs= 200, verbose=False)\n"
     ]
    },
    {
     "name": "stdout",
     "output_type": "stream",
     "text": [
      "[Voting] ...................... (1 of 4) Processing KNN, total=   0.0s\n",
      "[Voting] ...................... (2 of 4) Processing SVC, total=   4.1s\n",
      "[Voting] ..................... (3 of 4) Processing LGBM, total=   0.2s\n",
      "WARNING:tensorflow:Error in loading the saved optimizer state. As a result, your model is starting with a freshly initialized optimizer.\n",
      "[Voting] ...................... (4 of 4) Processing ANN, total=  20.5s\n",
      "Iterazione 489 [[0 0]\n",
      " [2 2]]\n",
      "accuracy 0.5\n"
     ]
    },
    {
     "name": "stderr",
     "output_type": "stream",
     "text": [
      "<ipython-input-54-0786b9e49dc3>:22: DeprecationWarning: KerasClassifier is deprecated, use Sci-Keras (https://github.com/adriangb/scikeras) instead.\n",
      "  ANN_best = keras.wrappers.scikit_learn.KerasClassifier(build_nn, epochs= 200, verbose=False)\n"
     ]
    },
    {
     "name": "stdout",
     "output_type": "stream",
     "text": [
      "[Voting] ...................... (1 of 4) Processing KNN, total=   0.0s\n",
      "[Voting] ...................... (2 of 4) Processing SVC, total=   4.2s\n",
      "[Voting] ..................... (3 of 4) Processing LGBM, total=   0.2s\n",
      "WARNING:tensorflow:Error in loading the saved optimizer state. As a result, your model is starting with a freshly initialized optimizer.\n",
      "[Voting] ...................... (4 of 4) Processing ANN, total=  20.2s\n",
      "Iterazione 490 [[0 4]\n",
      " [0 0]]\n",
      "accuracy 0.0\n"
     ]
    },
    {
     "name": "stderr",
     "output_type": "stream",
     "text": [
      "<ipython-input-54-0786b9e49dc3>:22: DeprecationWarning: KerasClassifier is deprecated, use Sci-Keras (https://github.com/adriangb/scikeras) instead.\n",
      "  ANN_best = keras.wrappers.scikit_learn.KerasClassifier(build_nn, epochs= 200, verbose=False)\n"
     ]
    },
    {
     "name": "stdout",
     "output_type": "stream",
     "text": [
      "[Voting] ...................... (1 of 4) Processing KNN, total=   0.0s\n",
      "[Voting] ...................... (2 of 4) Processing SVC, total=   4.5s\n",
      "[Voting] ..................... (3 of 4) Processing LGBM, total=   0.2s\n",
      "WARNING:tensorflow:Error in loading the saved optimizer state. As a result, your model is starting with a freshly initialized optimizer.\n",
      "[Voting] ...................... (4 of 4) Processing ANN, total=  20.2s\n",
      "Iterazione 491 [[0 0]\n",
      " [2 6]]\n",
      "accuracy 0.75\n"
     ]
    },
    {
     "name": "stderr",
     "output_type": "stream",
     "text": [
      "<ipython-input-54-0786b9e49dc3>:22: DeprecationWarning: KerasClassifier is deprecated, use Sci-Keras (https://github.com/adriangb/scikeras) instead.\n",
      "  ANN_best = keras.wrappers.scikit_learn.KerasClassifier(build_nn, epochs= 200, verbose=False)\n"
     ]
    },
    {
     "name": "stdout",
     "output_type": "stream",
     "text": [
      "[Voting] ...................... (1 of 4) Processing KNN, total=   0.0s\n",
      "[Voting] ...................... (2 of 4) Processing SVC, total=   4.3s\n",
      "[Voting] ..................... (3 of 4) Processing LGBM, total=   0.2s\n",
      "WARNING:tensorflow:Error in loading the saved optimizer state. As a result, your model is starting with a freshly initialized optimizer.\n",
      "[Voting] ...................... (4 of 4) Processing ANN, total=  20.3s\n",
      "Iterazione 492 [[0 0]\n",
      " [0 2]]\n",
      "accuracy 1.0\n"
     ]
    },
    {
     "name": "stderr",
     "output_type": "stream",
     "text": [
      "<ipython-input-54-0786b9e49dc3>:22: DeprecationWarning: KerasClassifier is deprecated, use Sci-Keras (https://github.com/adriangb/scikeras) instead.\n",
      "  ANN_best = keras.wrappers.scikit_learn.KerasClassifier(build_nn, epochs= 200, verbose=False)\n"
     ]
    },
    {
     "name": "stdout",
     "output_type": "stream",
     "text": [
      "[Voting] ...................... (1 of 4) Processing KNN, total=   0.0s\n",
      "[Voting] ...................... (2 of 4) Processing SVC, total=   4.4s\n",
      "[Voting] ..................... (3 of 4) Processing LGBM, total=   0.2s\n",
      "WARNING:tensorflow:Error in loading the saved optimizer state. As a result, your model is starting with a freshly initialized optimizer.\n",
      "[Voting] ...................... (4 of 4) Processing ANN, total=  20.0s\n",
      "Iterazione 493 [[1 2]\n",
      " [0 0]]\n",
      "accuracy 0.3333333333333333\n"
     ]
    },
    {
     "name": "stderr",
     "output_type": "stream",
     "text": [
      "<ipython-input-54-0786b9e49dc3>:22: DeprecationWarning: KerasClassifier is deprecated, use Sci-Keras (https://github.com/adriangb/scikeras) instead.\n",
      "  ANN_best = keras.wrappers.scikit_learn.KerasClassifier(build_nn, epochs= 200, verbose=False)\n"
     ]
    },
    {
     "name": "stdout",
     "output_type": "stream",
     "text": [
      "[Voting] ...................... (1 of 4) Processing KNN, total=   0.0s\n",
      "[Voting] ...................... (2 of 4) Processing SVC, total=   4.3s\n",
      "[Voting] ..................... (3 of 4) Processing LGBM, total=   0.2s\n",
      "WARNING:tensorflow:Error in loading the saved optimizer state. As a result, your model is starting with a freshly initialized optimizer.\n",
      "[Voting] ...................... (4 of 4) Processing ANN, total=  20.4s\n",
      "Iterazione 494 [[0 0]\n",
      " [2 4]]\n",
      "accuracy 0.6666666666666666\n"
     ]
    },
    {
     "name": "stderr",
     "output_type": "stream",
     "text": [
      "<ipython-input-54-0786b9e49dc3>:22: DeprecationWarning: KerasClassifier is deprecated, use Sci-Keras (https://github.com/adriangb/scikeras) instead.\n",
      "  ANN_best = keras.wrappers.scikit_learn.KerasClassifier(build_nn, epochs= 200, verbose=False)\n"
     ]
    },
    {
     "name": "stdout",
     "output_type": "stream",
     "text": [
      "[Voting] ...................... (1 of 4) Processing KNN, total=   0.0s\n",
      "[Voting] ...................... (2 of 4) Processing SVC, total=   4.2s\n",
      "[Voting] ..................... (3 of 4) Processing LGBM, total=   0.2s\n",
      "WARNING:tensorflow:Error in loading the saved optimizer state. As a result, your model is starting with a freshly initialized optimizer.\n",
      "[Voting] ...................... (4 of 4) Processing ANN, total=  20.2s\n",
      "Iterazione 495 [[1 1]\n",
      " [0 0]]\n",
      "accuracy 0.5\n"
     ]
    },
    {
     "name": "stderr",
     "output_type": "stream",
     "text": [
      "<ipython-input-54-0786b9e49dc3>:22: DeprecationWarning: KerasClassifier is deprecated, use Sci-Keras (https://github.com/adriangb/scikeras) instead.\n",
      "  ANN_best = keras.wrappers.scikit_learn.KerasClassifier(build_nn, epochs= 200, verbose=False)\n"
     ]
    },
    {
     "name": "stdout",
     "output_type": "stream",
     "text": [
      "[Voting] ...................... (1 of 4) Processing KNN, total=   0.0s\n",
      "[Voting] ...................... (2 of 4) Processing SVC, total=   4.4s\n",
      "[Voting] ..................... (3 of 4) Processing LGBM, total=   0.2s\n",
      "WARNING:tensorflow:Error in loading the saved optimizer state. As a result, your model is starting with a freshly initialized optimizer.\n",
      "[Voting] ...................... (4 of 4) Processing ANN, total=  20.2s\n",
      "Iterazione 496 [[0 0]\n",
      " [2 2]]\n",
      "accuracy 0.5\n"
     ]
    },
    {
     "name": "stderr",
     "output_type": "stream",
     "text": [
      "<ipython-input-54-0786b9e49dc3>:22: DeprecationWarning: KerasClassifier is deprecated, use Sci-Keras (https://github.com/adriangb/scikeras) instead.\n",
      "  ANN_best = keras.wrappers.scikit_learn.KerasClassifier(build_nn, epochs= 200, verbose=False)\n"
     ]
    },
    {
     "name": "stdout",
     "output_type": "stream",
     "text": [
      "[Voting] ...................... (1 of 4) Processing KNN, total=   0.0s\n",
      "[Voting] ...................... (2 of 4) Processing SVC, total=   4.4s\n",
      "[Voting] ..................... (3 of 4) Processing LGBM, total=   0.2s\n",
      "WARNING:tensorflow:Error in loading the saved optimizer state. As a result, your model is starting with a freshly initialized optimizer.\n",
      "[Voting] ...................... (4 of 4) Processing ANN, total=  20.1s\n",
      "Iterazione 497 [[3 0]\n",
      " [0 0]]\n",
      "accuracy 1.0\n"
     ]
    },
    {
     "name": "stderr",
     "output_type": "stream",
     "text": [
      "<ipython-input-54-0786b9e49dc3>:22: DeprecationWarning: KerasClassifier is deprecated, use Sci-Keras (https://github.com/adriangb/scikeras) instead.\n",
      "  ANN_best = keras.wrappers.scikit_learn.KerasClassifier(build_nn, epochs= 200, verbose=False)\n"
     ]
    },
    {
     "name": "stdout",
     "output_type": "stream",
     "text": [
      "[Voting] ...................... (1 of 4) Processing KNN, total=   0.0s\n",
      "[Voting] ...................... (2 of 4) Processing SVC, total=   4.2s\n",
      "[Voting] ..................... (3 of 4) Processing LGBM, total=   0.2s\n",
      "WARNING:tensorflow:Error in loading the saved optimizer state. As a result, your model is starting with a freshly initialized optimizer.\n",
      "[Voting] ...................... (4 of 4) Processing ANN, total=  20.2s\n",
      "Iterazione 498 [[0 0]\n",
      " [1 2]]\n",
      "accuracy 0.6666666666666666\n"
     ]
    },
    {
     "name": "stderr",
     "output_type": "stream",
     "text": [
      "<ipython-input-54-0786b9e49dc3>:22: DeprecationWarning: KerasClassifier is deprecated, use Sci-Keras (https://github.com/adriangb/scikeras) instead.\n",
      "  ANN_best = keras.wrappers.scikit_learn.KerasClassifier(build_nn, epochs= 200, verbose=False)\n"
     ]
    },
    {
     "name": "stdout",
     "output_type": "stream",
     "text": [
      "[Voting] ...................... (1 of 4) Processing KNN, total=   0.0s\n",
      "[Voting] ...................... (2 of 4) Processing SVC, total=   4.1s\n",
      "[Voting] ..................... (3 of 4) Processing LGBM, total=   0.3s\n",
      "WARNING:tensorflow:Error in loading the saved optimizer state. As a result, your model is starting with a freshly initialized optimizer.\n",
      "[Voting] ...................... (4 of 4) Processing ANN, total=  20.4s\n",
      "Iterazione 499 [[0 0]\n",
      " [1 3]]\n",
      "accuracy 0.75\n"
     ]
    },
    {
     "name": "stderr",
     "output_type": "stream",
     "text": [
      "<ipython-input-54-0786b9e49dc3>:22: DeprecationWarning: KerasClassifier is deprecated, use Sci-Keras (https://github.com/adriangb/scikeras) instead.\n",
      "  ANN_best = keras.wrappers.scikit_learn.KerasClassifier(build_nn, epochs= 200, verbose=False)\n"
     ]
    },
    {
     "name": "stdout",
     "output_type": "stream",
     "text": [
      "[Voting] ...................... (1 of 4) Processing KNN, total=   0.0s\n",
      "[Voting] ...................... (2 of 4) Processing SVC, total=   4.4s\n",
      "[Voting] ..................... (3 of 4) Processing LGBM, total=   0.2s\n",
      "WARNING:tensorflow:Error in loading the saved optimizer state. As a result, your model is starting with a freshly initialized optimizer.\n",
      "[Voting] ...................... (4 of 4) Processing ANN, total=  20.2s\n",
      "Iterazione 500 [[0 0]\n",
      " [3 3]]\n",
      "accuracy 0.5\n"
     ]
    },
    {
     "name": "stderr",
     "output_type": "stream",
     "text": [
      "<ipython-input-54-0786b9e49dc3>:22: DeprecationWarning: KerasClassifier is deprecated, use Sci-Keras (https://github.com/adriangb/scikeras) instead.\n",
      "  ANN_best = keras.wrappers.scikit_learn.KerasClassifier(build_nn, epochs= 200, verbose=False)\n"
     ]
    },
    {
     "name": "stdout",
     "output_type": "stream",
     "text": [
      "[Voting] ...................... (1 of 4) Processing KNN, total=   0.0s\n",
      "[Voting] ...................... (2 of 4) Processing SVC, total=   4.5s\n",
      "[Voting] ..................... (3 of 4) Processing LGBM, total=   0.2s\n",
      "WARNING:tensorflow:Error in loading the saved optimizer state. As a result, your model is starting with a freshly initialized optimizer.\n",
      "[Voting] ...................... (4 of 4) Processing ANN, total=  20.1s\n",
      "Iterazione 501 [[3 5]\n",
      " [0 0]]\n",
      "accuracy 0.375\n"
     ]
    },
    {
     "name": "stderr",
     "output_type": "stream",
     "text": [
      "<ipython-input-54-0786b9e49dc3>:22: DeprecationWarning: KerasClassifier is deprecated, use Sci-Keras (https://github.com/adriangb/scikeras) instead.\n",
      "  ANN_best = keras.wrappers.scikit_learn.KerasClassifier(build_nn, epochs= 200, verbose=False)\n"
     ]
    },
    {
     "name": "stdout",
     "output_type": "stream",
     "text": [
      "[Voting] ...................... (1 of 4) Processing KNN, total=   0.0s\n",
      "[Voting] ...................... (2 of 4) Processing SVC, total=   4.2s\n",
      "[Voting] ..................... (3 of 4) Processing LGBM, total=   0.2s\n",
      "WARNING:tensorflow:Error in loading the saved optimizer state. As a result, your model is starting with a freshly initialized optimizer.\n",
      "[Voting] ...................... (4 of 4) Processing ANN, total=  20.3s\n",
      "Iterazione 502 [[5 1]\n",
      " [0 0]]\n",
      "accuracy 0.8333333333333334\n"
     ]
    },
    {
     "name": "stderr",
     "output_type": "stream",
     "text": [
      "<ipython-input-54-0786b9e49dc3>:22: DeprecationWarning: KerasClassifier is deprecated, use Sci-Keras (https://github.com/adriangb/scikeras) instead.\n",
      "  ANN_best = keras.wrappers.scikit_learn.KerasClassifier(build_nn, epochs= 200, verbose=False)\n"
     ]
    },
    {
     "name": "stdout",
     "output_type": "stream",
     "text": [
      "[Voting] ...................... (1 of 4) Processing KNN, total=   0.0s\n",
      "[Voting] ...................... (2 of 4) Processing SVC, total=   4.4s\n",
      "[Voting] ..................... (3 of 4) Processing LGBM, total=   0.2s\n",
      "WARNING:tensorflow:Error in loading the saved optimizer state. As a result, your model is starting with a freshly initialized optimizer.\n",
      "[Voting] ...................... (4 of 4) Processing ANN, total=  20.2s\n",
      "Iterazione 503 [[7 0]\n",
      " [0 0]]\n",
      "accuracy 1.0\n"
     ]
    },
    {
     "name": "stderr",
     "output_type": "stream",
     "text": [
      "<ipython-input-54-0786b9e49dc3>:22: DeprecationWarning: KerasClassifier is deprecated, use Sci-Keras (https://github.com/adriangb/scikeras) instead.\n",
      "  ANN_best = keras.wrappers.scikit_learn.KerasClassifier(build_nn, epochs= 200, verbose=False)\n"
     ]
    },
    {
     "name": "stdout",
     "output_type": "stream",
     "text": [
      "[Voting] ...................... (1 of 4) Processing KNN, total=   0.0s\n",
      "[Voting] ...................... (2 of 4) Processing SVC, total=   4.3s\n",
      "[Voting] ..................... (3 of 4) Processing LGBM, total=   0.2s\n",
      "WARNING:tensorflow:Error in loading the saved optimizer state. As a result, your model is starting with a freshly initialized optimizer.\n",
      "[Voting] ...................... (4 of 4) Processing ANN, total=  20.5s\n",
      "Iterazione 504 [[0 0]\n",
      " [1 3]]\n",
      "accuracy 0.75\n"
     ]
    },
    {
     "name": "stderr",
     "output_type": "stream",
     "text": [
      "<ipython-input-54-0786b9e49dc3>:22: DeprecationWarning: KerasClassifier is deprecated, use Sci-Keras (https://github.com/adriangb/scikeras) instead.\n",
      "  ANN_best = keras.wrappers.scikit_learn.KerasClassifier(build_nn, epochs= 200, verbose=False)\n"
     ]
    },
    {
     "name": "stdout",
     "output_type": "stream",
     "text": [
      "[Voting] ...................... (1 of 4) Processing KNN, total=   0.0s\n",
      "[Voting] ...................... (2 of 4) Processing SVC, total=   4.3s\n",
      "[Voting] ..................... (3 of 4) Processing LGBM, total=   0.2s\n",
      "WARNING:tensorflow:Error in loading the saved optimizer state. As a result, your model is starting with a freshly initialized optimizer.\n",
      "[Voting] ...................... (4 of 4) Processing ANN, total=  20.1s\n",
      "Iterazione 505 [[0 0]\n",
      " [2 7]]\n",
      "accuracy 0.7777777777777778\n"
     ]
    },
    {
     "name": "stderr",
     "output_type": "stream",
     "text": [
      "<ipython-input-54-0786b9e49dc3>:22: DeprecationWarning: KerasClassifier is deprecated, use Sci-Keras (https://github.com/adriangb/scikeras) instead.\n",
      "  ANN_best = keras.wrappers.scikit_learn.KerasClassifier(build_nn, epochs= 200, verbose=False)\n"
     ]
    },
    {
     "name": "stdout",
     "output_type": "stream",
     "text": [
      "[Voting] ...................... (1 of 4) Processing KNN, total=   0.0s\n",
      "[Voting] ...................... (2 of 4) Processing SVC, total=   4.6s\n",
      "[Voting] ..................... (3 of 4) Processing LGBM, total=   0.2s\n",
      "WARNING:tensorflow:Error in loading the saved optimizer state. As a result, your model is starting with a freshly initialized optimizer.\n",
      "[Voting] ...................... (4 of 4) Processing ANN, total=  20.1s\n",
      "Iterazione 506 [[0 0]\n",
      " [3 1]]\n",
      "accuracy 0.25\n"
     ]
    },
    {
     "name": "stderr",
     "output_type": "stream",
     "text": [
      "<ipython-input-54-0786b9e49dc3>:22: DeprecationWarning: KerasClassifier is deprecated, use Sci-Keras (https://github.com/adriangb/scikeras) instead.\n",
      "  ANN_best = keras.wrappers.scikit_learn.KerasClassifier(build_nn, epochs= 200, verbose=False)\n"
     ]
    },
    {
     "name": "stdout",
     "output_type": "stream",
     "text": [
      "[Voting] ...................... (1 of 4) Processing KNN, total=   0.0s\n",
      "[Voting] ...................... (2 of 4) Processing SVC, total=   4.1s\n",
      "[Voting] ..................... (3 of 4) Processing LGBM, total=   0.2s\n",
      "WARNING:tensorflow:Error in loading the saved optimizer state. As a result, your model is starting with a freshly initialized optimizer.\n",
      "[Voting] ...................... (4 of 4) Processing ANN, total=  20.4s\n",
      "Iterazione 507 [[0 0]\n",
      " [0 1]]\n",
      "accuracy 1.0\n"
     ]
    },
    {
     "name": "stderr",
     "output_type": "stream",
     "text": [
      "<ipython-input-54-0786b9e49dc3>:22: DeprecationWarning: KerasClassifier is deprecated, use Sci-Keras (https://github.com/adriangb/scikeras) instead.\n",
      "  ANN_best = keras.wrappers.scikit_learn.KerasClassifier(build_nn, epochs= 200, verbose=False)\n"
     ]
    },
    {
     "name": "stdout",
     "output_type": "stream",
     "text": [
      "[Voting] ...................... (1 of 4) Processing KNN, total=   0.0s\n",
      "[Voting] ...................... (2 of 4) Processing SVC, total=   4.4s\n",
      "[Voting] ..................... (3 of 4) Processing LGBM, total=   0.2s\n",
      "WARNING:tensorflow:Error in loading the saved optimizer state. As a result, your model is starting with a freshly initialized optimizer.\n",
      "[Voting] ...................... (4 of 4) Processing ANN, total=  20.2s\n",
      "Iterazione 508 [[0 1]\n",
      " [0 0]]\n",
      "accuracy 0.0\n"
     ]
    },
    {
     "name": "stderr",
     "output_type": "stream",
     "text": [
      "<ipython-input-54-0786b9e49dc3>:22: DeprecationWarning: KerasClassifier is deprecated, use Sci-Keras (https://github.com/adriangb/scikeras) instead.\n",
      "  ANN_best = keras.wrappers.scikit_learn.KerasClassifier(build_nn, epochs= 200, verbose=False)\n"
     ]
    },
    {
     "name": "stdout",
     "output_type": "stream",
     "text": [
      "[Voting] ...................... (1 of 4) Processing KNN, total=   0.0s\n",
      "[Voting] ...................... (2 of 4) Processing SVC, total=   4.3s\n",
      "[Voting] ..................... (3 of 4) Processing LGBM, total=   0.2s\n",
      "WARNING:tensorflow:Error in loading the saved optimizer state. As a result, your model is starting with a freshly initialized optimizer.\n",
      "[Voting] ...................... (4 of 4) Processing ANN, total=  20.3s\n",
      "Iterazione 509 [[0 0]\n",
      " [0 3]]\n",
      "accuracy 1.0\n"
     ]
    },
    {
     "name": "stderr",
     "output_type": "stream",
     "text": [
      "<ipython-input-54-0786b9e49dc3>:22: DeprecationWarning: KerasClassifier is deprecated, use Sci-Keras (https://github.com/adriangb/scikeras) instead.\n",
      "  ANN_best = keras.wrappers.scikit_learn.KerasClassifier(build_nn, epochs= 200, verbose=False)\n"
     ]
    },
    {
     "name": "stdout",
     "output_type": "stream",
     "text": [
      "[Voting] ...................... (1 of 4) Processing KNN, total=   0.0s\n",
      "[Voting] ...................... (2 of 4) Processing SVC, total=   4.2s\n",
      "[Voting] ..................... (3 of 4) Processing LGBM, total=   0.2s\n",
      "WARNING:tensorflow:Error in loading the saved optimizer state. As a result, your model is starting with a freshly initialized optimizer.\n",
      "[Voting] ...................... (4 of 4) Processing ANN, total=  20.2s\n",
      "Iterazione 510 [[3 1]\n",
      " [0 0]]\n",
      "accuracy 0.75\n"
     ]
    },
    {
     "name": "stderr",
     "output_type": "stream",
     "text": [
      "<ipython-input-54-0786b9e49dc3>:22: DeprecationWarning: KerasClassifier is deprecated, use Sci-Keras (https://github.com/adriangb/scikeras) instead.\n",
      "  ANN_best = keras.wrappers.scikit_learn.KerasClassifier(build_nn, epochs= 200, verbose=False)\n"
     ]
    },
    {
     "name": "stdout",
     "output_type": "stream",
     "text": [
      "[Voting] ...................... (1 of 4) Processing KNN, total=   0.0s\n",
      "[Voting] ...................... (2 of 4) Processing SVC, total=   4.4s\n",
      "[Voting] ..................... (3 of 4) Processing LGBM, total=   0.2s\n",
      "WARNING:tensorflow:Error in loading the saved optimizer state. As a result, your model is starting with a freshly initialized optimizer.\n",
      "[Voting] ...................... (4 of 4) Processing ANN, total=  20.2s\n",
      "Iterazione 511 [[0 0]\n",
      " [1 3]]\n",
      "accuracy 0.75\n"
     ]
    },
    {
     "name": "stderr",
     "output_type": "stream",
     "text": [
      "<ipython-input-54-0786b9e49dc3>:22: DeprecationWarning: KerasClassifier is deprecated, use Sci-Keras (https://github.com/adriangb/scikeras) instead.\n",
      "  ANN_best = keras.wrappers.scikit_learn.KerasClassifier(build_nn, epochs= 200, verbose=False)\n"
     ]
    },
    {
     "name": "stdout",
     "output_type": "stream",
     "text": [
      "[Voting] ...................... (1 of 4) Processing KNN, total=   0.0s\n",
      "[Voting] ...................... (2 of 4) Processing SVC, total=   4.4s\n",
      "[Voting] ..................... (3 of 4) Processing LGBM, total=   0.2s\n",
      "WARNING:tensorflow:Error in loading the saved optimizer state. As a result, your model is starting with a freshly initialized optimizer.\n",
      "[Voting] ...................... (4 of 4) Processing ANN, total=  20.5s\n",
      "Iterazione 512 [[0 0]\n",
      " [2 2]]\n",
      "accuracy 0.5\n"
     ]
    },
    {
     "name": "stderr",
     "output_type": "stream",
     "text": [
      "<ipython-input-54-0786b9e49dc3>:22: DeprecationWarning: KerasClassifier is deprecated, use Sci-Keras (https://github.com/adriangb/scikeras) instead.\n",
      "  ANN_best = keras.wrappers.scikit_learn.KerasClassifier(build_nn, epochs= 200, verbose=False)\n"
     ]
    },
    {
     "name": "stdout",
     "output_type": "stream",
     "text": [
      "[Voting] ...................... (1 of 4) Processing KNN, total=   0.0s\n",
      "[Voting] ...................... (2 of 4) Processing SVC, total=   4.4s\n",
      "[Voting] ..................... (3 of 4) Processing LGBM, total=   0.2s\n",
      "WARNING:tensorflow:Error in loading the saved optimizer state. As a result, your model is starting with a freshly initialized optimizer.\n",
      "[Voting] ...................... (4 of 4) Processing ANN, total=  20.1s\n",
      "Iterazione 513 [[0 0]\n",
      " [0 2]]\n",
      "accuracy 1.0\n"
     ]
    },
    {
     "name": "stderr",
     "output_type": "stream",
     "text": [
      "<ipython-input-54-0786b9e49dc3>:22: DeprecationWarning: KerasClassifier is deprecated, use Sci-Keras (https://github.com/adriangb/scikeras) instead.\n",
      "  ANN_best = keras.wrappers.scikit_learn.KerasClassifier(build_nn, epochs= 200, verbose=False)\n"
     ]
    },
    {
     "name": "stdout",
     "output_type": "stream",
     "text": [
      "[Voting] ...................... (1 of 4) Processing KNN, total=   0.0s\n",
      "[Voting] ...................... (2 of 4) Processing SVC, total=   4.3s\n",
      "[Voting] ..................... (3 of 4) Processing LGBM, total=   0.2s\n",
      "WARNING:tensorflow:Error in loading the saved optimizer state. As a result, your model is starting with a freshly initialized optimizer.\n",
      "[Voting] ...................... (4 of 4) Processing ANN, total=  20.2s\n",
      "Iterazione 514 [[0 0]\n",
      " [1 3]]\n",
      "accuracy 0.75\n"
     ]
    },
    {
     "name": "stderr",
     "output_type": "stream",
     "text": [
      "<ipython-input-54-0786b9e49dc3>:22: DeprecationWarning: KerasClassifier is deprecated, use Sci-Keras (https://github.com/adriangb/scikeras) instead.\n",
      "  ANN_best = keras.wrappers.scikit_learn.KerasClassifier(build_nn, epochs= 200, verbose=False)\n"
     ]
    },
    {
     "name": "stdout",
     "output_type": "stream",
     "text": [
      "[Voting] ...................... (1 of 4) Processing KNN, total=   0.0s\n",
      "[Voting] ...................... (2 of 4) Processing SVC, total=   4.1s\n",
      "[Voting] ..................... (3 of 4) Processing LGBM, total=   0.2s\n",
      "WARNING:tensorflow:Error in loading the saved optimizer state. As a result, your model is starting with a freshly initialized optimizer.\n",
      "[Voting] ...................... (4 of 4) Processing ANN, total=  19.8s\n",
      "Iterazione 515 [[0 0]\n",
      " [9 6]]\n",
      "accuracy 0.4\n"
     ]
    },
    {
     "name": "stderr",
     "output_type": "stream",
     "text": [
      "<ipython-input-54-0786b9e49dc3>:22: DeprecationWarning: KerasClassifier is deprecated, use Sci-Keras (https://github.com/adriangb/scikeras) instead.\n",
      "  ANN_best = keras.wrappers.scikit_learn.KerasClassifier(build_nn, epochs= 200, verbose=False)\n"
     ]
    },
    {
     "name": "stdout",
     "output_type": "stream",
     "text": [
      "[Voting] ...................... (1 of 4) Processing KNN, total=   0.0s\n",
      "[Voting] ...................... (2 of 4) Processing SVC, total=   4.4s\n",
      "[Voting] ..................... (3 of 4) Processing LGBM, total=   0.2s\n",
      "WARNING:tensorflow:Error in loading the saved optimizer state. As a result, your model is starting with a freshly initialized optimizer.\n",
      "[Voting] ...................... (4 of 4) Processing ANN, total=  20.1s\n",
      "Iterazione 516 [[0 0]\n",
      " [2 2]]\n",
      "accuracy 0.5\n"
     ]
    },
    {
     "name": "stderr",
     "output_type": "stream",
     "text": [
      "<ipython-input-54-0786b9e49dc3>:22: DeprecationWarning: KerasClassifier is deprecated, use Sci-Keras (https://github.com/adriangb/scikeras) instead.\n",
      "  ANN_best = keras.wrappers.scikit_learn.KerasClassifier(build_nn, epochs= 200, verbose=False)\n"
     ]
    },
    {
     "name": "stdout",
     "output_type": "stream",
     "text": [
      "[Voting] ...................... (1 of 4) Processing KNN, total=   0.0s\n",
      "[Voting] ...................... (2 of 4) Processing SVC, total=   4.4s\n",
      "[Voting] ..................... (3 of 4) Processing LGBM, total=   0.2s\n",
      "WARNING:tensorflow:Error in loading the saved optimizer state. As a result, your model is starting with a freshly initialized optimizer.\n",
      "[Voting] ...................... (4 of 4) Processing ANN, total=  20.2s\n",
      "Iterazione 517 [[0 0]\n",
      " [3 3]]\n",
      "accuracy 0.5\n"
     ]
    },
    {
     "name": "stderr",
     "output_type": "stream",
     "text": [
      "<ipython-input-54-0786b9e49dc3>:22: DeprecationWarning: KerasClassifier is deprecated, use Sci-Keras (https://github.com/adriangb/scikeras) instead.\n",
      "  ANN_best = keras.wrappers.scikit_learn.KerasClassifier(build_nn, epochs= 200, verbose=False)\n"
     ]
    },
    {
     "name": "stdout",
     "output_type": "stream",
     "text": [
      "[Voting] ...................... (1 of 4) Processing KNN, total=   0.0s\n",
      "[Voting] ...................... (2 of 4) Processing SVC, total=   4.3s\n",
      "[Voting] ..................... (3 of 4) Processing LGBM, total=   0.2s\n",
      "WARNING:tensorflow:Error in loading the saved optimizer state. As a result, your model is starting with a freshly initialized optimizer.\n",
      "[Voting] ...................... (4 of 4) Processing ANN, total=  20.3s\n",
      "Iterazione 518 [[0 0]\n",
      " [0 2]]\n",
      "accuracy 1.0\n"
     ]
    },
    {
     "name": "stderr",
     "output_type": "stream",
     "text": [
      "<ipython-input-54-0786b9e49dc3>:22: DeprecationWarning: KerasClassifier is deprecated, use Sci-Keras (https://github.com/adriangb/scikeras) instead.\n",
      "  ANN_best = keras.wrappers.scikit_learn.KerasClassifier(build_nn, epochs= 200, verbose=False)\n"
     ]
    },
    {
     "name": "stdout",
     "output_type": "stream",
     "text": [
      "[Voting] ...................... (1 of 4) Processing KNN, total=   0.0s\n",
      "[Voting] ...................... (2 of 4) Processing SVC, total=   4.3s\n",
      "[Voting] ..................... (3 of 4) Processing LGBM, total=   0.4s\n",
      "WARNING:tensorflow:Error in loading the saved optimizer state. As a result, your model is starting with a freshly initialized optimizer.\n",
      "[Voting] ...................... (4 of 4) Processing ANN, total=  20.0s\n",
      "Iterazione 519 [[1 1]\n",
      " [0 0]]\n",
      "accuracy 0.5\n"
     ]
    },
    {
     "name": "stderr",
     "output_type": "stream",
     "text": [
      "<ipython-input-54-0786b9e49dc3>:22: DeprecationWarning: KerasClassifier is deprecated, use Sci-Keras (https://github.com/adriangb/scikeras) instead.\n",
      "  ANN_best = keras.wrappers.scikit_learn.KerasClassifier(build_nn, epochs= 200, verbose=False)\n"
     ]
    },
    {
     "name": "stdout",
     "output_type": "stream",
     "text": [
      "[Voting] ...................... (1 of 4) Processing KNN, total=   0.0s\n",
      "[Voting] ...................... (2 of 4) Processing SVC, total=   4.4s\n",
      "[Voting] ..................... (3 of 4) Processing LGBM, total=   0.3s\n",
      "WARNING:tensorflow:Error in loading the saved optimizer state. As a result, your model is starting with a freshly initialized optimizer.\n",
      "[Voting] ...................... (4 of 4) Processing ANN, total=  20.2s\n",
      "Iterazione 520 [[0 0]\n",
      " [2 0]]\n",
      "accuracy 0.0\n"
     ]
    },
    {
     "name": "stderr",
     "output_type": "stream",
     "text": [
      "<ipython-input-54-0786b9e49dc3>:22: DeprecationWarning: KerasClassifier is deprecated, use Sci-Keras (https://github.com/adriangb/scikeras) instead.\n",
      "  ANN_best = keras.wrappers.scikit_learn.KerasClassifier(build_nn, epochs= 200, verbose=False)\n"
     ]
    },
    {
     "name": "stdout",
     "output_type": "stream",
     "text": [
      "[Voting] ...................... (1 of 4) Processing KNN, total=   0.0s\n",
      "[Voting] ...................... (2 of 4) Processing SVC, total=   4.4s\n",
      "[Voting] ..................... (3 of 4) Processing LGBM, total=   0.2s\n",
      "WARNING:tensorflow:Error in loading the saved optimizer state. As a result, your model is starting with a freshly initialized optimizer.\n",
      "[Voting] ...................... (4 of 4) Processing ANN, total=  20.3s\n",
      "Iterazione 521 [[4 1]\n",
      " [0 0]]\n",
      "accuracy 0.8\n"
     ]
    },
    {
     "name": "stderr",
     "output_type": "stream",
     "text": [
      "<ipython-input-54-0786b9e49dc3>:22: DeprecationWarning: KerasClassifier is deprecated, use Sci-Keras (https://github.com/adriangb/scikeras) instead.\n",
      "  ANN_best = keras.wrappers.scikit_learn.KerasClassifier(build_nn, epochs= 200, verbose=False)\n"
     ]
    },
    {
     "name": "stdout",
     "output_type": "stream",
     "text": [
      "[Voting] ...................... (1 of 4) Processing KNN, total=   0.0s\n",
      "[Voting] ...................... (2 of 4) Processing SVC, total=   4.3s\n",
      "[Voting] ..................... (3 of 4) Processing LGBM, total=   0.2s\n",
      "WARNING:tensorflow:Error in loading the saved optimizer state. As a result, your model is starting with a freshly initialized optimizer.\n",
      "[Voting] ...................... (4 of 4) Processing ANN, total=  20.3s\n",
      "Iterazione 522 [[0 0]\n",
      " [3 1]]\n",
      "accuracy 0.25\n"
     ]
    },
    {
     "name": "stderr",
     "output_type": "stream",
     "text": [
      "<ipython-input-54-0786b9e49dc3>:22: DeprecationWarning: KerasClassifier is deprecated, use Sci-Keras (https://github.com/adriangb/scikeras) instead.\n",
      "  ANN_best = keras.wrappers.scikit_learn.KerasClassifier(build_nn, epochs= 200, verbose=False)\n"
     ]
    },
    {
     "name": "stdout",
     "output_type": "stream",
     "text": [
      "[Voting] ...................... (1 of 4) Processing KNN, total=   0.0s\n",
      "[Voting] ...................... (2 of 4) Processing SVC, total=   4.4s\n",
      "[Voting] ..................... (3 of 4) Processing LGBM, total=   0.2s\n",
      "WARNING:tensorflow:Error in loading the saved optimizer state. As a result, your model is starting with a freshly initialized optimizer.\n",
      "[Voting] ...................... (4 of 4) Processing ANN, total=  20.0s\n",
      "Iterazione 523 [[0 0]\n",
      " [2 0]]\n",
      "accuracy 0.0\n"
     ]
    },
    {
     "name": "stderr",
     "output_type": "stream",
     "text": [
      "<ipython-input-54-0786b9e49dc3>:22: DeprecationWarning: KerasClassifier is deprecated, use Sci-Keras (https://github.com/adriangb/scikeras) instead.\n",
      "  ANN_best = keras.wrappers.scikit_learn.KerasClassifier(build_nn, epochs= 200, verbose=False)\n"
     ]
    },
    {
     "name": "stdout",
     "output_type": "stream",
     "text": [
      "[Voting] ...................... (1 of 4) Processing KNN, total=   0.0s\n",
      "[Voting] ...................... (2 of 4) Processing SVC, total=   4.4s\n",
      "[Voting] ..................... (3 of 4) Processing LGBM, total=   0.2s\n",
      "WARNING:tensorflow:Error in loading the saved optimizer state. As a result, your model is starting with a freshly initialized optimizer.\n",
      "[Voting] ...................... (4 of 4) Processing ANN, total=  20.1s\n",
      "Iterazione 524 [[4 1]\n",
      " [0 0]]\n",
      "accuracy 0.8\n"
     ]
    },
    {
     "name": "stderr",
     "output_type": "stream",
     "text": [
      "<ipython-input-54-0786b9e49dc3>:22: DeprecationWarning: KerasClassifier is deprecated, use Sci-Keras (https://github.com/adriangb/scikeras) instead.\n",
      "  ANN_best = keras.wrappers.scikit_learn.KerasClassifier(build_nn, epochs= 200, verbose=False)\n"
     ]
    },
    {
     "name": "stdout",
     "output_type": "stream",
     "text": [
      "[Voting] ...................... (1 of 4) Processing KNN, total=   0.0s\n",
      "[Voting] ...................... (2 of 4) Processing SVC, total=   4.2s\n",
      "[Voting] ..................... (3 of 4) Processing LGBM, total=   0.2s\n",
      "WARNING:tensorflow:Error in loading the saved optimizer state. As a result, your model is starting with a freshly initialized optimizer.\n",
      "[Voting] ...................... (4 of 4) Processing ANN, total=  20.1s\n",
      "Iterazione 525 [[0 0]\n",
      " [5 5]]\n",
      "accuracy 0.5\n"
     ]
    },
    {
     "name": "stderr",
     "output_type": "stream",
     "text": [
      "<ipython-input-54-0786b9e49dc3>:22: DeprecationWarning: KerasClassifier is deprecated, use Sci-Keras (https://github.com/adriangb/scikeras) instead.\n",
      "  ANN_best = keras.wrappers.scikit_learn.KerasClassifier(build_nn, epochs= 200, verbose=False)\n"
     ]
    },
    {
     "name": "stdout",
     "output_type": "stream",
     "text": [
      "[Voting] ...................... (1 of 4) Processing KNN, total=   0.0s\n",
      "[Voting] ...................... (2 of 4) Processing SVC, total=   4.5s\n",
      "[Voting] ..................... (3 of 4) Processing LGBM, total=   0.3s\n",
      "WARNING:tensorflow:Error in loading the saved optimizer state. As a result, your model is starting with a freshly initialized optimizer.\n",
      "[Voting] ...................... (4 of 4) Processing ANN, total=  20.2s\n",
      "Iterazione 526 [[0 0]\n",
      " [2 3]]\n",
      "accuracy 0.6\n"
     ]
    },
    {
     "name": "stderr",
     "output_type": "stream",
     "text": [
      "<ipython-input-54-0786b9e49dc3>:22: DeprecationWarning: KerasClassifier is deprecated, use Sci-Keras (https://github.com/adriangb/scikeras) instead.\n",
      "  ANN_best = keras.wrappers.scikit_learn.KerasClassifier(build_nn, epochs= 200, verbose=False)\n"
     ]
    },
    {
     "name": "stdout",
     "output_type": "stream",
     "text": [
      "[Voting] ...................... (1 of 4) Processing KNN, total=   0.0s\n",
      "[Voting] ...................... (2 of 4) Processing SVC, total=   4.4s\n",
      "[Voting] ..................... (3 of 4) Processing LGBM, total=   0.2s\n",
      "WARNING:tensorflow:Error in loading the saved optimizer state. As a result, your model is starting with a freshly initialized optimizer.\n",
      "[Voting] ...................... (4 of 4) Processing ANN, total=  20.4s\n",
      "Iterazione 527 [[2 2]\n",
      " [0 0]]\n",
      "accuracy 0.5\n"
     ]
    },
    {
     "name": "stderr",
     "output_type": "stream",
     "text": [
      "<ipython-input-54-0786b9e49dc3>:22: DeprecationWarning: KerasClassifier is deprecated, use Sci-Keras (https://github.com/adriangb/scikeras) instead.\n",
      "  ANN_best = keras.wrappers.scikit_learn.KerasClassifier(build_nn, epochs= 200, verbose=False)\n"
     ]
    },
    {
     "name": "stdout",
     "output_type": "stream",
     "text": [
      "[Voting] ...................... (1 of 4) Processing KNN, total=   0.0s\n",
      "[Voting] ...................... (2 of 4) Processing SVC, total=   4.3s\n",
      "[Voting] ..................... (3 of 4) Processing LGBM, total=   0.2s\n",
      "WARNING:tensorflow:Error in loading the saved optimizer state. As a result, your model is starting with a freshly initialized optimizer.\n",
      "[Voting] ...................... (4 of 4) Processing ANN, total=  20.2s\n",
      "Iterazione 528 [[0 0]\n",
      " [1 1]]\n",
      "accuracy 0.5\n"
     ]
    },
    {
     "name": "stderr",
     "output_type": "stream",
     "text": [
      "<ipython-input-54-0786b9e49dc3>:22: DeprecationWarning: KerasClassifier is deprecated, use Sci-Keras (https://github.com/adriangb/scikeras) instead.\n",
      "  ANN_best = keras.wrappers.scikit_learn.KerasClassifier(build_nn, epochs= 200, verbose=False)\n"
     ]
    },
    {
     "name": "stdout",
     "output_type": "stream",
     "text": [
      "[Voting] ...................... (1 of 4) Processing KNN, total=   0.0s\n",
      "[Voting] ...................... (2 of 4) Processing SVC, total=   4.5s\n",
      "[Voting] ..................... (3 of 4) Processing LGBM, total=   0.3s\n",
      "WARNING:tensorflow:Error in loading the saved optimizer state. As a result, your model is starting with a freshly initialized optimizer.\n",
      "[Voting] ...................... (4 of 4) Processing ANN, total=  20.2s\n",
      "Iterazione 529 [[1 5]\n",
      " [0 0]]\n",
      "accuracy 0.16666666666666666\n"
     ]
    },
    {
     "name": "stderr",
     "output_type": "stream",
     "text": [
      "<ipython-input-54-0786b9e49dc3>:22: DeprecationWarning: KerasClassifier is deprecated, use Sci-Keras (https://github.com/adriangb/scikeras) instead.\n",
      "  ANN_best = keras.wrappers.scikit_learn.KerasClassifier(build_nn, epochs= 200, verbose=False)\n"
     ]
    },
    {
     "name": "stdout",
     "output_type": "stream",
     "text": [
      "[Voting] ...................... (1 of 4) Processing KNN, total=   0.0s\n",
      "[Voting] ...................... (2 of 4) Processing SVC, total=   4.4s\n",
      "[Voting] ..................... (3 of 4) Processing LGBM, total=   0.2s\n",
      "WARNING:tensorflow:Error in loading the saved optimizer state. As a result, your model is starting with a freshly initialized optimizer.\n",
      "[Voting] ...................... (4 of 4) Processing ANN, total=  20.3s\n",
      "Iterazione 530 [[5 2]\n",
      " [0 0]]\n",
      "accuracy 0.7142857142857143\n"
     ]
    },
    {
     "name": "stderr",
     "output_type": "stream",
     "text": [
      "<ipython-input-54-0786b9e49dc3>:22: DeprecationWarning: KerasClassifier is deprecated, use Sci-Keras (https://github.com/adriangb/scikeras) instead.\n",
      "  ANN_best = keras.wrappers.scikit_learn.KerasClassifier(build_nn, epochs= 200, verbose=False)\n"
     ]
    },
    {
     "name": "stdout",
     "output_type": "stream",
     "text": [
      "[Voting] ...................... (1 of 4) Processing KNN, total=   0.0s\n",
      "[Voting] ...................... (2 of 4) Processing SVC, total=   4.4s\n",
      "[Voting] ..................... (3 of 4) Processing LGBM, total=   0.2s\n",
      "WARNING:tensorflow:Error in loading the saved optimizer state. As a result, your model is starting with a freshly initialized optimizer.\n",
      "[Voting] ...................... (4 of 4) Processing ANN, total=  20.3s\n",
      "Iterazione 531 [[0 0]\n",
      " [0 1]]\n",
      "accuracy 1.0\n"
     ]
    },
    {
     "name": "stderr",
     "output_type": "stream",
     "text": [
      "<ipython-input-54-0786b9e49dc3>:22: DeprecationWarning: KerasClassifier is deprecated, use Sci-Keras (https://github.com/adriangb/scikeras) instead.\n",
      "  ANN_best = keras.wrappers.scikit_learn.KerasClassifier(build_nn, epochs= 200, verbose=False)\n"
     ]
    },
    {
     "name": "stdout",
     "output_type": "stream",
     "text": [
      "[Voting] ...................... (1 of 4) Processing KNN, total=   0.0s\n",
      "[Voting] ...................... (2 of 4) Processing SVC, total=   4.6s\n",
      "[Voting] ..................... (3 of 4) Processing LGBM, total=   0.2s\n",
      "WARNING:tensorflow:Error in loading the saved optimizer state. As a result, your model is starting with a freshly initialized optimizer.\n",
      "[Voting] ...................... (4 of 4) Processing ANN, total=  20.2s\n",
      "Iterazione 532 [[4 2]\n",
      " [0 0]]\n",
      "accuracy 0.6666666666666666\n"
     ]
    },
    {
     "name": "stderr",
     "output_type": "stream",
     "text": [
      "<ipython-input-54-0786b9e49dc3>:22: DeprecationWarning: KerasClassifier is deprecated, use Sci-Keras (https://github.com/adriangb/scikeras) instead.\n",
      "  ANN_best = keras.wrappers.scikit_learn.KerasClassifier(build_nn, epochs= 200, verbose=False)\n"
     ]
    },
    {
     "name": "stdout",
     "output_type": "stream",
     "text": [
      "[Voting] ...................... (1 of 4) Processing KNN, total=   0.0s\n",
      "[Voting] ...................... (2 of 4) Processing SVC, total=   4.3s\n",
      "[Voting] ..................... (3 of 4) Processing LGBM, total=   0.2s\n",
      "WARNING:tensorflow:Error in loading the saved optimizer state. As a result, your model is starting with a freshly initialized optimizer.\n",
      "[Voting] ...................... (4 of 4) Processing ANN, total=  20.1s\n",
      "Iterazione 533 [[0 0]\n",
      " [1 4]]\n",
      "accuracy 0.8\n"
     ]
    },
    {
     "name": "stderr",
     "output_type": "stream",
     "text": [
      "<ipython-input-54-0786b9e49dc3>:22: DeprecationWarning: KerasClassifier is deprecated, use Sci-Keras (https://github.com/adriangb/scikeras) instead.\n",
      "  ANN_best = keras.wrappers.scikit_learn.KerasClassifier(build_nn, epochs= 200, verbose=False)\n"
     ]
    },
    {
     "name": "stdout",
     "output_type": "stream",
     "text": [
      "[Voting] ...................... (1 of 4) Processing KNN, total=   0.0s\n",
      "[Voting] ...................... (2 of 4) Processing SVC, total=   4.2s\n",
      "[Voting] ..................... (3 of 4) Processing LGBM, total=   0.2s\n",
      "WARNING:tensorflow:Error in loading the saved optimizer state. As a result, your model is starting with a freshly initialized optimizer.\n",
      "[Voting] ...................... (4 of 4) Processing ANN, total=  20.2s\n",
      "Iterazione 534 [[0 0]\n",
      " [2 4]]\n",
      "accuracy 0.6666666666666666\n"
     ]
    },
    {
     "name": "stderr",
     "output_type": "stream",
     "text": [
      "<ipython-input-54-0786b9e49dc3>:22: DeprecationWarning: KerasClassifier is deprecated, use Sci-Keras (https://github.com/adriangb/scikeras) instead.\n",
      "  ANN_best = keras.wrappers.scikit_learn.KerasClassifier(build_nn, epochs= 200, verbose=False)\n"
     ]
    },
    {
     "name": "stdout",
     "output_type": "stream",
     "text": [
      "[Voting] ...................... (1 of 4) Processing KNN, total=   0.0s\n",
      "[Voting] ...................... (2 of 4) Processing SVC, total=   4.4s\n",
      "[Voting] ..................... (3 of 4) Processing LGBM, total=   0.4s\n",
      "WARNING:tensorflow:Error in loading the saved optimizer state. As a result, your model is starting with a freshly initialized optimizer.\n",
      "[Voting] ...................... (4 of 4) Processing ANN, total=  20.5s\n",
      "Iterazione 535 [[0 0]\n",
      " [1 3]]\n",
      "accuracy 0.75\n"
     ]
    },
    {
     "name": "stderr",
     "output_type": "stream",
     "text": [
      "<ipython-input-54-0786b9e49dc3>:22: DeprecationWarning: KerasClassifier is deprecated, use Sci-Keras (https://github.com/adriangb/scikeras) instead.\n",
      "  ANN_best = keras.wrappers.scikit_learn.KerasClassifier(build_nn, epochs= 200, verbose=False)\n"
     ]
    },
    {
     "name": "stdout",
     "output_type": "stream",
     "text": [
      "[Voting] ...................... (1 of 4) Processing KNN, total=   0.0s\n",
      "[Voting] ...................... (2 of 4) Processing SVC, total=   4.2s\n",
      "[Voting] ..................... (3 of 4) Processing LGBM, total=   0.2s\n",
      "WARNING:tensorflow:Error in loading the saved optimizer state. As a result, your model is starting with a freshly initialized optimizer.\n",
      "[Voting] ...................... (4 of 4) Processing ANN, total=  20.2s\n",
      "Iterazione 536 [[0 0]\n",
      " [2 0]]\n",
      "accuracy 0.0\n"
     ]
    },
    {
     "name": "stderr",
     "output_type": "stream",
     "text": [
      "<ipython-input-54-0786b9e49dc3>:22: DeprecationWarning: KerasClassifier is deprecated, use Sci-Keras (https://github.com/adriangb/scikeras) instead.\n",
      "  ANN_best = keras.wrappers.scikit_learn.KerasClassifier(build_nn, epochs= 200, verbose=False)\n"
     ]
    },
    {
     "name": "stdout",
     "output_type": "stream",
     "text": [
      "[Voting] ...................... (1 of 4) Processing KNN, total=   0.0s\n",
      "[Voting] ...................... (2 of 4) Processing SVC, total=   4.3s\n",
      "[Voting] ..................... (3 of 4) Processing LGBM, total=   0.2s\n",
      "WARNING:tensorflow:Error in loading the saved optimizer state. As a result, your model is starting with a freshly initialized optimizer.\n",
      "[Voting] ...................... (4 of 4) Processing ANN, total=  20.3s\n",
      "Iterazione 537 [[0 0]\n",
      " [0 3]]\n",
      "accuracy 1.0\n"
     ]
    },
    {
     "name": "stderr",
     "output_type": "stream",
     "text": [
      "<ipython-input-54-0786b9e49dc3>:22: DeprecationWarning: KerasClassifier is deprecated, use Sci-Keras (https://github.com/adriangb/scikeras) instead.\n",
      "  ANN_best = keras.wrappers.scikit_learn.KerasClassifier(build_nn, epochs= 200, verbose=False)\n"
     ]
    },
    {
     "name": "stdout",
     "output_type": "stream",
     "text": [
      "[Voting] ...................... (1 of 4) Processing KNN, total=   0.0s\n",
      "[Voting] ...................... (2 of 4) Processing SVC, total=   4.2s\n",
      "[Voting] ..................... (3 of 4) Processing LGBM, total=   0.2s\n",
      "WARNING:tensorflow:Error in loading the saved optimizer state. As a result, your model is starting with a freshly initialized optimizer.\n",
      "[Voting] ...................... (4 of 4) Processing ANN, total=  20.2s\n",
      "Iterazione 538 [[0 0]\n",
      " [6 0]]\n",
      "accuracy 0.0\n"
     ]
    },
    {
     "name": "stderr",
     "output_type": "stream",
     "text": [
      "<ipython-input-54-0786b9e49dc3>:22: DeprecationWarning: KerasClassifier is deprecated, use Sci-Keras (https://github.com/adriangb/scikeras) instead.\n",
      "  ANN_best = keras.wrappers.scikit_learn.KerasClassifier(build_nn, epochs= 200, verbose=False)\n"
     ]
    },
    {
     "name": "stdout",
     "output_type": "stream",
     "text": [
      "[Voting] ...................... (1 of 4) Processing KNN, total=   0.0s\n",
      "[Voting] ...................... (2 of 4) Processing SVC, total=   4.2s\n",
      "[Voting] ..................... (3 of 4) Processing LGBM, total=   0.2s\n",
      "WARNING:tensorflow:Error in loading the saved optimizer state. As a result, your model is starting with a freshly initialized optimizer.\n",
      "[Voting] ...................... (4 of 4) Processing ANN, total=  21.8s\n",
      "Iterazione 539 [[1 1]\n",
      " [0 0]]\n",
      "accuracy 0.5\n"
     ]
    },
    {
     "name": "stderr",
     "output_type": "stream",
     "text": [
      "<ipython-input-54-0786b9e49dc3>:22: DeprecationWarning: KerasClassifier is deprecated, use Sci-Keras (https://github.com/adriangb/scikeras) instead.\n",
      "  ANN_best = keras.wrappers.scikit_learn.KerasClassifier(build_nn, epochs= 200, verbose=False)\n"
     ]
    },
    {
     "name": "stdout",
     "output_type": "stream",
     "text": [
      "[Voting] ...................... (1 of 4) Processing KNN, total=   0.0s\n",
      "[Voting] ...................... (2 of 4) Processing SVC, total=   5.1s\n",
      "[Voting] ..................... (3 of 4) Processing LGBM, total=   0.3s\n",
      "WARNING:tensorflow:Error in loading the saved optimizer state. As a result, your model is starting with a freshly initialized optimizer.\n",
      "[Voting] ...................... (4 of 4) Processing ANN, total=  22.5s\n",
      "Iterazione 540 [[0 0]\n",
      " [4 0]]\n",
      "accuracy 0.0\n"
     ]
    },
    {
     "name": "stderr",
     "output_type": "stream",
     "text": [
      "<ipython-input-54-0786b9e49dc3>:22: DeprecationWarning: KerasClassifier is deprecated, use Sci-Keras (https://github.com/adriangb/scikeras) instead.\n",
      "  ANN_best = keras.wrappers.scikit_learn.KerasClassifier(build_nn, epochs= 200, verbose=False)\n"
     ]
    },
    {
     "name": "stdout",
     "output_type": "stream",
     "text": [
      "[Voting] ...................... (1 of 4) Processing KNN, total=   0.1s\n",
      "[Voting] ...................... (2 of 4) Processing SVC, total=   5.8s\n",
      "[Voting] ..................... (3 of 4) Processing LGBM, total=   0.4s\n",
      "WARNING:tensorflow:Error in loading the saved optimizer state. As a result, your model is starting with a freshly initialized optimizer.\n",
      "[Voting] ...................... (4 of 4) Processing ANN, total=  23.9s\n",
      "Iterazione 541 [[0 0]\n",
      " [1 3]]\n",
      "accuracy 0.75\n"
     ]
    },
    {
     "name": "stderr",
     "output_type": "stream",
     "text": [
      "<ipython-input-54-0786b9e49dc3>:22: DeprecationWarning: KerasClassifier is deprecated, use Sci-Keras (https://github.com/adriangb/scikeras) instead.\n",
      "  ANN_best = keras.wrappers.scikit_learn.KerasClassifier(build_nn, epochs= 200, verbose=False)\n"
     ]
    },
    {
     "name": "stdout",
     "output_type": "stream",
     "text": [
      "[Voting] ...................... (1 of 4) Processing KNN, total=   0.0s\n",
      "[Voting] ...................... (2 of 4) Processing SVC, total=   5.3s\n",
      "[Voting] ..................... (3 of 4) Processing LGBM, total=   0.4s\n",
      "WARNING:tensorflow:Error in loading the saved optimizer state. As a result, your model is starting with a freshly initialized optimizer.\n",
      "[Voting] ...................... (4 of 4) Processing ANN, total=  27.1s\n",
      "Iterazione 542 [[0 0]\n",
      " [1 6]]\n",
      "accuracy 0.8571428571428571\n"
     ]
    },
    {
     "name": "stderr",
     "output_type": "stream",
     "text": [
      "<ipython-input-54-0786b9e49dc3>:22: DeprecationWarning: KerasClassifier is deprecated, use Sci-Keras (https://github.com/adriangb/scikeras) instead.\n",
      "  ANN_best = keras.wrappers.scikit_learn.KerasClassifier(build_nn, epochs= 200, verbose=False)\n"
     ]
    },
    {
     "name": "stdout",
     "output_type": "stream",
     "text": [
      "[Voting] ...................... (1 of 4) Processing KNN, total=   0.0s\n",
      "[Voting] ...................... (2 of 4) Processing SVC, total=   5.4s\n",
      "[Voting] ..................... (3 of 4) Processing LGBM, total=   0.5s\n",
      "WARNING:tensorflow:Error in loading the saved optimizer state. As a result, your model is starting with a freshly initialized optimizer.\n",
      "[Voting] ...................... (4 of 4) Processing ANN, total=  25.7s\n",
      "Iterazione 543 [[1 1]\n",
      " [0 0]]\n",
      "accuracy 0.5\n"
     ]
    },
    {
     "name": "stderr",
     "output_type": "stream",
     "text": [
      "<ipython-input-54-0786b9e49dc3>:22: DeprecationWarning: KerasClassifier is deprecated, use Sci-Keras (https://github.com/adriangb/scikeras) instead.\n",
      "  ANN_best = keras.wrappers.scikit_learn.KerasClassifier(build_nn, epochs= 200, verbose=False)\n"
     ]
    },
    {
     "name": "stdout",
     "output_type": "stream",
     "text": [
      "[Voting] ...................... (1 of 4) Processing KNN, total=   0.0s\n",
      "[Voting] ...................... (2 of 4) Processing SVC, total=   5.7s\n",
      "[Voting] ..................... (3 of 4) Processing LGBM, total=   0.4s\n",
      "WARNING:tensorflow:Error in loading the saved optimizer state. As a result, your model is starting with a freshly initialized optimizer.\n",
      "[Voting] ...................... (4 of 4) Processing ANN, total=  23.4s\n",
      "Iterazione 544 [[0 0]\n",
      " [3 2]]\n",
      "accuracy 0.4\n"
     ]
    },
    {
     "name": "stderr",
     "output_type": "stream",
     "text": [
      "<ipython-input-54-0786b9e49dc3>:22: DeprecationWarning: KerasClassifier is deprecated, use Sci-Keras (https://github.com/adriangb/scikeras) instead.\n",
      "  ANN_best = keras.wrappers.scikit_learn.KerasClassifier(build_nn, epochs= 200, verbose=False)\n"
     ]
    },
    {
     "name": "stdout",
     "output_type": "stream",
     "text": [
      "[Voting] ...................... (1 of 4) Processing KNN, total=   0.0s\n",
      "[Voting] ...................... (2 of 4) Processing SVC, total=   5.6s\n",
      "[Voting] ..................... (3 of 4) Processing LGBM, total=   0.4s\n",
      "WARNING:tensorflow:Error in loading the saved optimizer state. As a result, your model is starting with a freshly initialized optimizer.\n",
      "[Voting] ...................... (4 of 4) Processing ANN, total=  24.2s\n",
      "Iterazione 545 [[0 0]\n",
      " [3 3]]\n",
      "accuracy 0.5\n"
     ]
    },
    {
     "name": "stderr",
     "output_type": "stream",
     "text": [
      "<ipython-input-54-0786b9e49dc3>:22: DeprecationWarning: KerasClassifier is deprecated, use Sci-Keras (https://github.com/adriangb/scikeras) instead.\n",
      "  ANN_best = keras.wrappers.scikit_learn.KerasClassifier(build_nn, epochs= 200, verbose=False)\n"
     ]
    },
    {
     "name": "stdout",
     "output_type": "stream",
     "text": [
      "[Voting] ...................... (1 of 4) Processing KNN, total=   0.0s\n",
      "[Voting] ...................... (2 of 4) Processing SVC, total=   5.3s\n",
      "[Voting] ..................... (3 of 4) Processing LGBM, total=   0.5s\n",
      "WARNING:tensorflow:Error in loading the saved optimizer state. As a result, your model is starting with a freshly initialized optimizer.\n",
      "[Voting] ...................... (4 of 4) Processing ANN, total=  26.2s\n",
      "Iterazione 546 [[1 0]\n",
      " [0 0]]\n",
      "accuracy 1.0\n"
     ]
    },
    {
     "name": "stderr",
     "output_type": "stream",
     "text": [
      "<ipython-input-54-0786b9e49dc3>:22: DeprecationWarning: KerasClassifier is deprecated, use Sci-Keras (https://github.com/adriangb/scikeras) instead.\n",
      "  ANN_best = keras.wrappers.scikit_learn.KerasClassifier(build_nn, epochs= 200, verbose=False)\n"
     ]
    },
    {
     "name": "stdout",
     "output_type": "stream",
     "text": [
      "[Voting] ...................... (1 of 4) Processing KNN, total=   0.0s\n",
      "[Voting] ...................... (2 of 4) Processing SVC, total=   5.5s\n",
      "[Voting] ..................... (3 of 4) Processing LGBM, total=   0.3s\n",
      "WARNING:tensorflow:Error in loading the saved optimizer state. As a result, your model is starting with a freshly initialized optimizer.\n",
      "[Voting] ...................... (4 of 4) Processing ANN, total=  23.9s\n",
      "Iterazione 547 [[0 5]\n",
      " [0 0]]\n",
      "accuracy 0.0\n"
     ]
    },
    {
     "name": "stderr",
     "output_type": "stream",
     "text": [
      "<ipython-input-54-0786b9e49dc3>:22: DeprecationWarning: KerasClassifier is deprecated, use Sci-Keras (https://github.com/adriangb/scikeras) instead.\n",
      "  ANN_best = keras.wrappers.scikit_learn.KerasClassifier(build_nn, epochs= 200, verbose=False)\n"
     ]
    },
    {
     "name": "stdout",
     "output_type": "stream",
     "text": [
      "[Voting] ...................... (1 of 4) Processing KNN, total=   0.0s\n",
      "[Voting] ...................... (2 of 4) Processing SVC, total=   5.6s\n",
      "[Voting] ..................... (3 of 4) Processing LGBM, total=   0.5s\n",
      "WARNING:tensorflow:Error in loading the saved optimizer state. As a result, your model is starting with a freshly initialized optimizer.\n",
      "[Voting] ...................... (4 of 4) Processing ANN, total=  23.8s\n",
      "Iterazione 548 [[0 0]\n",
      " [3 6]]\n",
      "accuracy 0.6666666666666666\n"
     ]
    },
    {
     "name": "stderr",
     "output_type": "stream",
     "text": [
      "<ipython-input-54-0786b9e49dc3>:22: DeprecationWarning: KerasClassifier is deprecated, use Sci-Keras (https://github.com/adriangb/scikeras) instead.\n",
      "  ANN_best = keras.wrappers.scikit_learn.KerasClassifier(build_nn, epochs= 200, verbose=False)\n"
     ]
    },
    {
     "name": "stdout",
     "output_type": "stream",
     "text": [
      "[Voting] ...................... (1 of 4) Processing KNN, total=   0.0s\n",
      "[Voting] ...................... (2 of 4) Processing SVC, total=   5.1s\n",
      "[Voting] ..................... (3 of 4) Processing LGBM, total=   0.5s\n",
      "WARNING:tensorflow:Error in loading the saved optimizer state. As a result, your model is starting with a freshly initialized optimizer.\n",
      "[Voting] ...................... (4 of 4) Processing ANN, total=  26.6s\n",
      "Iterazione 549 [[0 1]\n",
      " [0 0]]\n",
      "accuracy 0.0\n"
     ]
    },
    {
     "name": "stderr",
     "output_type": "stream",
     "text": [
      "<ipython-input-54-0786b9e49dc3>:22: DeprecationWarning: KerasClassifier is deprecated, use Sci-Keras (https://github.com/adriangb/scikeras) instead.\n",
      "  ANN_best = keras.wrappers.scikit_learn.KerasClassifier(build_nn, epochs= 200, verbose=False)\n"
     ]
    },
    {
     "name": "stdout",
     "output_type": "stream",
     "text": [
      "[Voting] ...................... (1 of 4) Processing KNN, total=   0.0s\n",
      "[Voting] ...................... (2 of 4) Processing SVC, total=   5.6s\n",
      "[Voting] ..................... (3 of 4) Processing LGBM, total=   0.3s\n",
      "WARNING:tensorflow:Error in loading the saved optimizer state. As a result, your model is starting with a freshly initialized optimizer.\n",
      "[Voting] ...................... (4 of 4) Processing ANN, total=  23.6s\n",
      "Iterazione 550 [[0 0]\n",
      " [0 4]]\n",
      "accuracy 1.0\n"
     ]
    },
    {
     "name": "stderr",
     "output_type": "stream",
     "text": [
      "<ipython-input-54-0786b9e49dc3>:22: DeprecationWarning: KerasClassifier is deprecated, use Sci-Keras (https://github.com/adriangb/scikeras) instead.\n",
      "  ANN_best = keras.wrappers.scikit_learn.KerasClassifier(build_nn, epochs= 200, verbose=False)\n"
     ]
    },
    {
     "name": "stdout",
     "output_type": "stream",
     "text": [
      "[Voting] ...................... (1 of 4) Processing KNN, total=   0.0s\n",
      "[Voting] ...................... (2 of 4) Processing SVC, total=   5.5s\n",
      "[Voting] ..................... (3 of 4) Processing LGBM, total=   0.3s\n",
      "WARNING:tensorflow:Error in loading the saved optimizer state. As a result, your model is starting with a freshly initialized optimizer.\n",
      "[Voting] ...................... (4 of 4) Processing ANN, total=  28.2s\n",
      "Iterazione 551 [[0 0]\n",
      " [3 4]]\n",
      "accuracy 0.5714285714285714\n"
     ]
    },
    {
     "name": "stderr",
     "output_type": "stream",
     "text": [
      "<ipython-input-54-0786b9e49dc3>:22: DeprecationWarning: KerasClassifier is deprecated, use Sci-Keras (https://github.com/adriangb/scikeras) instead.\n",
      "  ANN_best = keras.wrappers.scikit_learn.KerasClassifier(build_nn, epochs= 200, verbose=False)\n"
     ]
    },
    {
     "name": "stdout",
     "output_type": "stream",
     "text": [
      "[Voting] ...................... (1 of 4) Processing KNN, total=   0.0s\n",
      "[Voting] ...................... (2 of 4) Processing SVC, total=   5.0s\n",
      "[Voting] ..................... (3 of 4) Processing LGBM, total=   0.6s\n",
      "WARNING:tensorflow:Error in loading the saved optimizer state. As a result, your model is starting with a freshly initialized optimizer.\n",
      "[Voting] ...................... (4 of 4) Processing ANN, total=  23.9s\n",
      "Iterazione 552 [[0 0]\n",
      " [4 0]]\n",
      "accuracy 0.0\n"
     ]
    },
    {
     "name": "stderr",
     "output_type": "stream",
     "text": [
      "<ipython-input-54-0786b9e49dc3>:22: DeprecationWarning: KerasClassifier is deprecated, use Sci-Keras (https://github.com/adriangb/scikeras) instead.\n",
      "  ANN_best = keras.wrappers.scikit_learn.KerasClassifier(build_nn, epochs= 200, verbose=False)\n"
     ]
    },
    {
     "name": "stdout",
     "output_type": "stream",
     "text": [
      "[Voting] ...................... (1 of 4) Processing KNN, total=   0.0s\n",
      "[Voting] ...................... (2 of 4) Processing SVC, total=   5.4s\n",
      "[Voting] ..................... (3 of 4) Processing LGBM, total=   0.3s\n",
      "WARNING:tensorflow:Error in loading the saved optimizer state. As a result, your model is starting with a freshly initialized optimizer.\n",
      "[Voting] ...................... (4 of 4) Processing ANN, total=  28.8s\n",
      "Iterazione 553 [[2 1]\n",
      " [0 0]]\n",
      "accuracy 0.6666666666666666\n"
     ]
    },
    {
     "name": "stderr",
     "output_type": "stream",
     "text": [
      "<ipython-input-54-0786b9e49dc3>:22: DeprecationWarning: KerasClassifier is deprecated, use Sci-Keras (https://github.com/adriangb/scikeras) instead.\n",
      "  ANN_best = keras.wrappers.scikit_learn.KerasClassifier(build_nn, epochs= 200, verbose=False)\n"
     ]
    },
    {
     "name": "stdout",
     "output_type": "stream",
     "text": [
      "[Voting] ...................... (1 of 4) Processing KNN, total=   0.1s\n",
      "[Voting] ...................... (2 of 4) Processing SVC, total=   7.0s\n",
      "[Voting] ..................... (3 of 4) Processing LGBM, total=   0.7s\n",
      "WARNING:tensorflow:Error in loading the saved optimizer state. As a result, your model is starting with a freshly initialized optimizer.\n",
      "[Voting] ...................... (4 of 4) Processing ANN, total=  29.3s\n",
      "Iterazione 554 [[2 2]\n",
      " [0 0]]\n",
      "accuracy 0.5\n"
     ]
    },
    {
     "name": "stderr",
     "output_type": "stream",
     "text": [
      "<ipython-input-54-0786b9e49dc3>:22: DeprecationWarning: KerasClassifier is deprecated, use Sci-Keras (https://github.com/adriangb/scikeras) instead.\n",
      "  ANN_best = keras.wrappers.scikit_learn.KerasClassifier(build_nn, epochs= 200, verbose=False)\n"
     ]
    },
    {
     "name": "stdout",
     "output_type": "stream",
     "text": [
      "[Voting] ...................... (1 of 4) Processing KNN, total=   0.1s\n",
      "[Voting] ...................... (2 of 4) Processing SVC, total=   5.6s\n",
      "[Voting] ..................... (3 of 4) Processing LGBM, total=   0.4s\n",
      "WARNING:tensorflow:Error in loading the saved optimizer state. As a result, your model is starting with a freshly initialized optimizer.\n",
      "[Voting] ...................... (4 of 4) Processing ANN, total=  23.5s\n",
      "Iterazione 555 [[2 3]\n",
      " [0 0]]\n",
      "accuracy 0.4\n"
     ]
    },
    {
     "name": "stderr",
     "output_type": "stream",
     "text": [
      "<ipython-input-54-0786b9e49dc3>:22: DeprecationWarning: KerasClassifier is deprecated, use Sci-Keras (https://github.com/adriangb/scikeras) instead.\n",
      "  ANN_best = keras.wrappers.scikit_learn.KerasClassifier(build_nn, epochs= 200, verbose=False)\n"
     ]
    },
    {
     "name": "stdout",
     "output_type": "stream",
     "text": [
      "[Voting] ...................... (1 of 4) Processing KNN, total=   0.0s\n",
      "[Voting] ...................... (2 of 4) Processing SVC, total=   6.4s\n",
      "[Voting] ..................... (3 of 4) Processing LGBM, total=   0.4s\n",
      "WARNING:tensorflow:Error in loading the saved optimizer state. As a result, your model is starting with a freshly initialized optimizer.\n",
      "[Voting] ...................... (4 of 4) Processing ANN, total=  27.7s\n",
      "Iterazione 556 [[4 1]\n",
      " [0 0]]\n",
      "accuracy 0.8\n"
     ]
    },
    {
     "name": "stderr",
     "output_type": "stream",
     "text": [
      "<ipython-input-54-0786b9e49dc3>:22: DeprecationWarning: KerasClassifier is deprecated, use Sci-Keras (https://github.com/adriangb/scikeras) instead.\n",
      "  ANN_best = keras.wrappers.scikit_learn.KerasClassifier(build_nn, epochs= 200, verbose=False)\n"
     ]
    },
    {
     "name": "stdout",
     "output_type": "stream",
     "text": [
      "[Voting] ...................... (1 of 4) Processing KNN, total=   0.0s\n",
      "[Voting] ...................... (2 of 4) Processing SVC, total=   5.4s\n",
      "[Voting] ..................... (3 of 4) Processing LGBM, total=   0.6s\n",
      "WARNING:tensorflow:Error in loading the saved optimizer state. As a result, your model is starting with a freshly initialized optimizer.\n",
      "[Voting] ...................... (4 of 4) Processing ANN, total=  24.9s\n",
      "Iterazione 557 [[0 3]\n",
      " [0 0]]\n",
      "accuracy 0.0\n"
     ]
    },
    {
     "name": "stderr",
     "output_type": "stream",
     "text": [
      "<ipython-input-54-0786b9e49dc3>:22: DeprecationWarning: KerasClassifier is deprecated, use Sci-Keras (https://github.com/adriangb/scikeras) instead.\n",
      "  ANN_best = keras.wrappers.scikit_learn.KerasClassifier(build_nn, epochs= 200, verbose=False)\n"
     ]
    },
    {
     "name": "stdout",
     "output_type": "stream",
     "text": [
      "[Voting] ...................... (1 of 4) Processing KNN, total=   0.0s\n",
      "[Voting] ...................... (2 of 4) Processing SVC, total=   5.4s\n",
      "[Voting] ..................... (3 of 4) Processing LGBM, total=   0.5s\n",
      "WARNING:tensorflow:Error in loading the saved optimizer state. As a result, your model is starting with a freshly initialized optimizer.\n",
      "[Voting] ...................... (4 of 4) Processing ANN, total=  25.0s\n",
      "Iterazione 558 [[3 2]\n",
      " [0 0]]\n",
      "accuracy 0.6\n"
     ]
    },
    {
     "name": "stderr",
     "output_type": "stream",
     "text": [
      "<ipython-input-54-0786b9e49dc3>:22: DeprecationWarning: KerasClassifier is deprecated, use Sci-Keras (https://github.com/adriangb/scikeras) instead.\n",
      "  ANN_best = keras.wrappers.scikit_learn.KerasClassifier(build_nn, epochs= 200, verbose=False)\n"
     ]
    },
    {
     "name": "stdout",
     "output_type": "stream",
     "text": [
      "[Voting] ...................... (1 of 4) Processing KNN, total=   0.0s\n",
      "[Voting] ...................... (2 of 4) Processing SVC, total=   5.4s\n",
      "[Voting] ..................... (3 of 4) Processing LGBM, total=   0.5s\n",
      "WARNING:tensorflow:Error in loading the saved optimizer state. As a result, your model is starting with a freshly initialized optimizer.\n",
      "[Voting] ...................... (4 of 4) Processing ANN, total=  27.5s\n",
      "Iterazione 559 [[6 0]\n",
      " [0 0]]\n",
      "accuracy 1.0\n"
     ]
    },
    {
     "name": "stderr",
     "output_type": "stream",
     "text": [
      "<ipython-input-54-0786b9e49dc3>:22: DeprecationWarning: KerasClassifier is deprecated, use Sci-Keras (https://github.com/adriangb/scikeras) instead.\n",
      "  ANN_best = keras.wrappers.scikit_learn.KerasClassifier(build_nn, epochs= 200, verbose=False)\n"
     ]
    },
    {
     "name": "stdout",
     "output_type": "stream",
     "text": [
      "[Voting] ...................... (1 of 4) Processing KNN, total=   0.0s\n",
      "[Voting] ...................... (2 of 4) Processing SVC, total=   5.2s\n",
      "[Voting] ..................... (3 of 4) Processing LGBM, total=   0.5s\n",
      "WARNING:tensorflow:Error in loading the saved optimizer state. As a result, your model is starting with a freshly initialized optimizer.\n",
      "[Voting] ...................... (4 of 4) Processing ANN, total=  24.5s\n",
      "Iterazione 560 [[3 4]\n",
      " [0 0]]\n",
      "accuracy 0.42857142857142855\n"
     ]
    },
    {
     "name": "stderr",
     "output_type": "stream",
     "text": [
      "<ipython-input-54-0786b9e49dc3>:22: DeprecationWarning: KerasClassifier is deprecated, use Sci-Keras (https://github.com/adriangb/scikeras) instead.\n",
      "  ANN_best = keras.wrappers.scikit_learn.KerasClassifier(build_nn, epochs= 200, verbose=False)\n"
     ]
    },
    {
     "name": "stdout",
     "output_type": "stream",
     "text": [
      "[Voting] ...................... (1 of 4) Processing KNN, total=   0.0s\n",
      "[Voting] ...................... (2 of 4) Processing SVC, total=   5.5s\n",
      "[Voting] ..................... (3 of 4) Processing LGBM, total=   0.4s\n",
      "WARNING:tensorflow:Error in loading the saved optimizer state. As a result, your model is starting with a freshly initialized optimizer.\n",
      "[Voting] ...................... (4 of 4) Processing ANN, total=  24.1s\n",
      "Iterazione 561 [[0 0]\n",
      " [0 6]]\n",
      "accuracy 1.0\n"
     ]
    },
    {
     "name": "stderr",
     "output_type": "stream",
     "text": [
      "<ipython-input-54-0786b9e49dc3>:22: DeprecationWarning: KerasClassifier is deprecated, use Sci-Keras (https://github.com/adriangb/scikeras) instead.\n",
      "  ANN_best = keras.wrappers.scikit_learn.KerasClassifier(build_nn, epochs= 200, verbose=False)\n"
     ]
    },
    {
     "name": "stdout",
     "output_type": "stream",
     "text": [
      "[Voting] ...................... (1 of 4) Processing KNN, total=   0.0s\n",
      "[Voting] ...................... (2 of 4) Processing SVC, total=   5.6s\n",
      "[Voting] ..................... (3 of 4) Processing LGBM, total=   0.4s\n",
      "WARNING:tensorflow:Error in loading the saved optimizer state. As a result, your model is starting with a freshly initialized optimizer.\n",
      "[Voting] ...................... (4 of 4) Processing ANN, total=  25.7s\n",
      "Iterazione 562 [[0 0]\n",
      " [1 4]]\n",
      "accuracy 0.8\n"
     ]
    },
    {
     "name": "stderr",
     "output_type": "stream",
     "text": [
      "<ipython-input-54-0786b9e49dc3>:22: DeprecationWarning: KerasClassifier is deprecated, use Sci-Keras (https://github.com/adriangb/scikeras) instead.\n",
      "  ANN_best = keras.wrappers.scikit_learn.KerasClassifier(build_nn, epochs= 200, verbose=False)\n"
     ]
    },
    {
     "name": "stdout",
     "output_type": "stream",
     "text": [
      "[Voting] ...................... (1 of 4) Processing KNN, total=   0.0s\n",
      "[Voting] ...................... (2 of 4) Processing SVC, total=   5.5s\n",
      "[Voting] ..................... (3 of 4) Processing LGBM, total=   0.4s\n",
      "WARNING:tensorflow:Error in loading the saved optimizer state. As a result, your model is starting with a freshly initialized optimizer.\n",
      "[Voting] ...................... (4 of 4) Processing ANN, total=  24.1s\n",
      "Iterazione 563 [[8 4]\n",
      " [0 0]]\n",
      "accuracy 0.6666666666666666\n"
     ]
    },
    {
     "name": "stderr",
     "output_type": "stream",
     "text": [
      "<ipython-input-54-0786b9e49dc3>:22: DeprecationWarning: KerasClassifier is deprecated, use Sci-Keras (https://github.com/adriangb/scikeras) instead.\n",
      "  ANN_best = keras.wrappers.scikit_learn.KerasClassifier(build_nn, epochs= 200, verbose=False)\n"
     ]
    },
    {
     "name": "stdout",
     "output_type": "stream",
     "text": [
      "[Voting] ...................... (1 of 4) Processing KNN, total=   0.0s\n",
      "[Voting] ...................... (2 of 4) Processing SVC, total=   5.3s\n",
      "[Voting] ..................... (3 of 4) Processing LGBM, total=   0.4s\n",
      "WARNING:tensorflow:Error in loading the saved optimizer state. As a result, your model is starting with a freshly initialized optimizer.\n",
      "[Voting] ...................... (4 of 4) Processing ANN, total=  27.1s\n",
      "Iterazione 564 [[0 0]\n",
      " [0 4]]\n",
      "accuracy 1.0\n"
     ]
    },
    {
     "name": "stderr",
     "output_type": "stream",
     "text": [
      "<ipython-input-54-0786b9e49dc3>:22: DeprecationWarning: KerasClassifier is deprecated, use Sci-Keras (https://github.com/adriangb/scikeras) instead.\n",
      "  ANN_best = keras.wrappers.scikit_learn.KerasClassifier(build_nn, epochs= 200, verbose=False)\n"
     ]
    },
    {
     "name": "stdout",
     "output_type": "stream",
     "text": [
      "[Voting] ...................... (1 of 4) Processing KNN, total=   0.0s\n",
      "[Voting] ...................... (2 of 4) Processing SVC, total=   5.2s\n",
      "[Voting] ..................... (3 of 4) Processing LGBM, total=   0.4s\n",
      "WARNING:tensorflow:Error in loading the saved optimizer state. As a result, your model is starting with a freshly initialized optimizer.\n",
      "[Voting] ...................... (4 of 4) Processing ANN, total=  24.0s\n",
      "Iterazione 565 [[4 4]\n",
      " [0 0]]\n",
      "accuracy 0.5\n"
     ]
    },
    {
     "name": "stderr",
     "output_type": "stream",
     "text": [
      "<ipython-input-54-0786b9e49dc3>:22: DeprecationWarning: KerasClassifier is deprecated, use Sci-Keras (https://github.com/adriangb/scikeras) instead.\n",
      "  ANN_best = keras.wrappers.scikit_learn.KerasClassifier(build_nn, epochs= 200, verbose=False)\n"
     ]
    },
    {
     "name": "stdout",
     "output_type": "stream",
     "text": [
      "[Voting] ...................... (1 of 4) Processing KNN, total=   0.0s\n",
      "[Voting] ...................... (2 of 4) Processing SVC, total=   5.6s\n",
      "[Voting] ..................... (3 of 4) Processing LGBM, total=   0.4s\n",
      "WARNING:tensorflow:Error in loading the saved optimizer state. As a result, your model is starting with a freshly initialized optimizer.\n",
      "[Voting] ...................... (4 of 4) Processing ANN, total=  23.9s\n",
      "Iterazione 566 [[2 0]\n",
      " [0 0]]\n",
      "accuracy 1.0\n"
     ]
    },
    {
     "name": "stderr",
     "output_type": "stream",
     "text": [
      "<ipython-input-54-0786b9e49dc3>:22: DeprecationWarning: KerasClassifier is deprecated, use Sci-Keras (https://github.com/adriangb/scikeras) instead.\n",
      "  ANN_best = keras.wrappers.scikit_learn.KerasClassifier(build_nn, epochs= 200, verbose=False)\n"
     ]
    },
    {
     "name": "stdout",
     "output_type": "stream",
     "text": [
      "[Voting] ...................... (1 of 4) Processing KNN, total=   0.0s\n",
      "[Voting] ...................... (2 of 4) Processing SVC, total=   5.3s\n",
      "[Voting] ..................... (3 of 4) Processing LGBM, total=   0.6s\n",
      "WARNING:tensorflow:Error in loading the saved optimizer state. As a result, your model is starting with a freshly initialized optimizer.\n",
      "[Voting] ...................... (4 of 4) Processing ANN, total=  20.7s\n",
      "Iterazione 567 [[0 3]\n",
      " [0 0]]\n",
      "accuracy 0.0\n"
     ]
    },
    {
     "name": "stderr",
     "output_type": "stream",
     "text": [
      "<ipython-input-54-0786b9e49dc3>:22: DeprecationWarning: KerasClassifier is deprecated, use Sci-Keras (https://github.com/adriangb/scikeras) instead.\n",
      "  ANN_best = keras.wrappers.scikit_learn.KerasClassifier(build_nn, epochs= 200, verbose=False)\n"
     ]
    },
    {
     "name": "stdout",
     "output_type": "stream",
     "text": [
      "[Voting] ...................... (1 of 4) Processing KNN, total=   0.0s\n",
      "[Voting] ...................... (2 of 4) Processing SVC, total=   4.6s\n",
      "[Voting] ..................... (3 of 4) Processing LGBM, total=   0.3s\n",
      "WARNING:tensorflow:Error in loading the saved optimizer state. As a result, your model is starting with a freshly initialized optimizer.\n",
      "[Voting] ...................... (4 of 4) Processing ANN, total=  19.4s\n",
      "Iterazione 568 [[0 0]\n",
      " [0 6]]\n",
      "accuracy 1.0\n"
     ]
    },
    {
     "name": "stderr",
     "output_type": "stream",
     "text": [
      "<ipython-input-54-0786b9e49dc3>:22: DeprecationWarning: KerasClassifier is deprecated, use Sci-Keras (https://github.com/adriangb/scikeras) instead.\n",
      "  ANN_best = keras.wrappers.scikit_learn.KerasClassifier(build_nn, epochs= 200, verbose=False)\n"
     ]
    },
    {
     "name": "stdout",
     "output_type": "stream",
     "text": [
      "[Voting] ...................... (1 of 4) Processing KNN, total=   0.0s\n",
      "[Voting] ...................... (2 of 4) Processing SVC, total=   4.5s\n",
      "[Voting] ..................... (3 of 4) Processing LGBM, total=   0.2s\n",
      "WARNING:tensorflow:Error in loading the saved optimizer state. As a result, your model is starting with a freshly initialized optimizer.\n",
      "[Voting] ...................... (4 of 4) Processing ANN, total=  19.8s\n",
      "Iterazione 569 [[0 0]\n",
      " [2 8]]\n",
      "accuracy 0.8\n"
     ]
    },
    {
     "name": "stderr",
     "output_type": "stream",
     "text": [
      "<ipython-input-54-0786b9e49dc3>:22: DeprecationWarning: KerasClassifier is deprecated, use Sci-Keras (https://github.com/adriangb/scikeras) instead.\n",
      "  ANN_best = keras.wrappers.scikit_learn.KerasClassifier(build_nn, epochs= 200, verbose=False)\n"
     ]
    },
    {
     "name": "stdout",
     "output_type": "stream",
     "text": [
      "[Voting] ...................... (1 of 4) Processing KNN, total=   0.0s\n",
      "[Voting] ...................... (2 of 4) Processing SVC, total=   4.3s\n",
      "[Voting] ..................... (3 of 4) Processing LGBM, total=   0.2s\n",
      "WARNING:tensorflow:Error in loading the saved optimizer state. As a result, your model is starting with a freshly initialized optimizer.\n",
      "[Voting] ...................... (4 of 4) Processing ANN, total=  19.6s\n",
      "Iterazione 570 [[1 2]\n",
      " [0 0]]\n",
      "accuracy 0.3333333333333333\n"
     ]
    },
    {
     "name": "stderr",
     "output_type": "stream",
     "text": [
      "<ipython-input-54-0786b9e49dc3>:22: DeprecationWarning: KerasClassifier is deprecated, use Sci-Keras (https://github.com/adriangb/scikeras) instead.\n",
      "  ANN_best = keras.wrappers.scikit_learn.KerasClassifier(build_nn, epochs= 200, verbose=False)\n"
     ]
    },
    {
     "name": "stdout",
     "output_type": "stream",
     "text": [
      "[Voting] ...................... (1 of 4) Processing KNN, total=   0.0s\n",
      "[Voting] ...................... (2 of 4) Processing SVC, total=   4.4s\n",
      "[Voting] ..................... (3 of 4) Processing LGBM, total=   0.3s\n",
      "WARNING:tensorflow:Error in loading the saved optimizer state. As a result, your model is starting with a freshly initialized optimizer.\n",
      "[Voting] ...................... (4 of 4) Processing ANN, total=  19.6s\n",
      "Iterazione 571 [[0 3]\n",
      " [0 0]]\n",
      "accuracy 0.0\n"
     ]
    },
    {
     "name": "stderr",
     "output_type": "stream",
     "text": [
      "<ipython-input-54-0786b9e49dc3>:22: DeprecationWarning: KerasClassifier is deprecated, use Sci-Keras (https://github.com/adriangb/scikeras) instead.\n",
      "  ANN_best = keras.wrappers.scikit_learn.KerasClassifier(build_nn, epochs= 200, verbose=False)\n"
     ]
    },
    {
     "name": "stdout",
     "output_type": "stream",
     "text": [
      "[Voting] ...................... (1 of 4) Processing KNN, total=   0.0s\n",
      "[Voting] ...................... (2 of 4) Processing SVC, total=   4.4s\n",
      "[Voting] ..................... (3 of 4) Processing LGBM, total=   0.3s\n",
      "WARNING:tensorflow:Error in loading the saved optimizer state. As a result, your model is starting with a freshly initialized optimizer.\n",
      "[Voting] ...................... (4 of 4) Processing ANN, total=  19.5s\n",
      "Iterazione 572 [[0 0]\n",
      " [2 6]]\n",
      "accuracy 0.75\n"
     ]
    },
    {
     "name": "stderr",
     "output_type": "stream",
     "text": [
      "<ipython-input-54-0786b9e49dc3>:22: DeprecationWarning: KerasClassifier is deprecated, use Sci-Keras (https://github.com/adriangb/scikeras) instead.\n",
      "  ANN_best = keras.wrappers.scikit_learn.KerasClassifier(build_nn, epochs= 200, verbose=False)\n"
     ]
    },
    {
     "name": "stdout",
     "output_type": "stream",
     "text": [
      "[Voting] ...................... (1 of 4) Processing KNN, total=   0.0s\n",
      "[Voting] ...................... (2 of 4) Processing SVC, total=   4.3s\n",
      "[Voting] ..................... (3 of 4) Processing LGBM, total=   0.2s\n",
      "WARNING:tensorflow:Error in loading the saved optimizer state. As a result, your model is starting with a freshly initialized optimizer.\n",
      "[Voting] ...................... (4 of 4) Processing ANN, total=  19.8s\n",
      "Iterazione 573 [[0 0]\n",
      " [0 2]]\n",
      "accuracy 1.0\n"
     ]
    },
    {
     "name": "stderr",
     "output_type": "stream",
     "text": [
      "<ipython-input-54-0786b9e49dc3>:22: DeprecationWarning: KerasClassifier is deprecated, use Sci-Keras (https://github.com/adriangb/scikeras) instead.\n",
      "  ANN_best = keras.wrappers.scikit_learn.KerasClassifier(build_nn, epochs= 200, verbose=False)\n"
     ]
    },
    {
     "name": "stdout",
     "output_type": "stream",
     "text": [
      "[Voting] ...................... (1 of 4) Processing KNN, total=   0.0s\n",
      "[Voting] ...................... (2 of 4) Processing SVC, total=   4.3s\n",
      "[Voting] ..................... (3 of 4) Processing LGBM, total=   0.2s\n",
      "WARNING:tensorflow:Error in loading the saved optimizer state. As a result, your model is starting with a freshly initialized optimizer.\n",
      "[Voting] ...................... (4 of 4) Processing ANN, total=  19.8s\n",
      "Iterazione 574 [[0 0]\n",
      " [3 1]]\n",
      "accuracy 0.25\n"
     ]
    },
    {
     "name": "stderr",
     "output_type": "stream",
     "text": [
      "<ipython-input-54-0786b9e49dc3>:22: DeprecationWarning: KerasClassifier is deprecated, use Sci-Keras (https://github.com/adriangb/scikeras) instead.\n",
      "  ANN_best = keras.wrappers.scikit_learn.KerasClassifier(build_nn, epochs= 200, verbose=False)\n"
     ]
    },
    {
     "name": "stdout",
     "output_type": "stream",
     "text": [
      "[Voting] ...................... (1 of 4) Processing KNN, total=   0.0s\n",
      "[Voting] ...................... (2 of 4) Processing SVC, total=   4.3s\n",
      "[Voting] ..................... (3 of 4) Processing LGBM, total=   0.2s\n",
      "WARNING:tensorflow:Error in loading the saved optimizer state. As a result, your model is starting with a freshly initialized optimizer.\n",
      "[Voting] ...................... (4 of 4) Processing ANN, total=  19.6s\n",
      "Iterazione 575 [[4 1]\n",
      " [0 0]]\n",
      "accuracy 0.8\n"
     ]
    },
    {
     "name": "stderr",
     "output_type": "stream",
     "text": [
      "<ipython-input-54-0786b9e49dc3>:22: DeprecationWarning: KerasClassifier is deprecated, use Sci-Keras (https://github.com/adriangb/scikeras) instead.\n",
      "  ANN_best = keras.wrappers.scikit_learn.KerasClassifier(build_nn, epochs= 200, verbose=False)\n"
     ]
    },
    {
     "name": "stdout",
     "output_type": "stream",
     "text": [
      "[Voting] ...................... (1 of 4) Processing KNN, total=   0.0s\n",
      "[Voting] ...................... (2 of 4) Processing SVC, total=   4.3s\n",
      "[Voting] ..................... (3 of 4) Processing LGBM, total=   0.2s\n",
      "WARNING:tensorflow:Error in loading the saved optimizer state. As a result, your model is starting with a freshly initialized optimizer.\n",
      "[Voting] ...................... (4 of 4) Processing ANN, total=  19.6s\n",
      "Iterazione 576 [[0 5]\n",
      " [0 0]]\n",
      "accuracy 0.0\n"
     ]
    },
    {
     "name": "stderr",
     "output_type": "stream",
     "text": [
      "<ipython-input-54-0786b9e49dc3>:22: DeprecationWarning: KerasClassifier is deprecated, use Sci-Keras (https://github.com/adriangb/scikeras) instead.\n",
      "  ANN_best = keras.wrappers.scikit_learn.KerasClassifier(build_nn, epochs= 200, verbose=False)\n"
     ]
    },
    {
     "name": "stdout",
     "output_type": "stream",
     "text": [
      "[Voting] ...................... (1 of 4) Processing KNN, total=   0.0s\n",
      "[Voting] ...................... (2 of 4) Processing SVC, total=   4.4s\n",
      "[Voting] ..................... (3 of 4) Processing LGBM, total=   0.2s\n",
      "WARNING:tensorflow:Error in loading the saved optimizer state. As a result, your model is starting with a freshly initialized optimizer.\n",
      "[Voting] ...................... (4 of 4) Processing ANN, total=  21.6s\n",
      "Iterazione 577 [[0 0]\n",
      " [3 4]]\n",
      "accuracy 0.5714285714285714\n"
     ]
    },
    {
     "name": "stderr",
     "output_type": "stream",
     "text": [
      "<ipython-input-54-0786b9e49dc3>:22: DeprecationWarning: KerasClassifier is deprecated, use Sci-Keras (https://github.com/adriangb/scikeras) instead.\n",
      "  ANN_best = keras.wrappers.scikit_learn.KerasClassifier(build_nn, epochs= 200, verbose=False)\n"
     ]
    },
    {
     "name": "stdout",
     "output_type": "stream",
     "text": [
      "[Voting] ...................... (1 of 4) Processing KNN, total=   0.0s\n",
      "[Voting] ...................... (2 of 4) Processing SVC, total=   4.6s\n",
      "[Voting] ..................... (3 of 4) Processing LGBM, total=   0.2s\n",
      "WARNING:tensorflow:Error in loading the saved optimizer state. As a result, your model is starting with a freshly initialized optimizer.\n",
      "[Voting] ...................... (4 of 4) Processing ANN, total=  20.8s\n",
      "Iterazione 578 [[3 1]\n",
      " [0 0]]\n",
      "accuracy 0.75\n"
     ]
    },
    {
     "name": "stderr",
     "output_type": "stream",
     "text": [
      "<ipython-input-54-0786b9e49dc3>:22: DeprecationWarning: KerasClassifier is deprecated, use Sci-Keras (https://github.com/adriangb/scikeras) instead.\n",
      "  ANN_best = keras.wrappers.scikit_learn.KerasClassifier(build_nn, epochs= 200, verbose=False)\n"
     ]
    },
    {
     "name": "stdout",
     "output_type": "stream",
     "text": [
      "[Voting] ...................... (1 of 4) Processing KNN, total=   0.0s\n",
      "[Voting] ...................... (2 of 4) Processing SVC, total=   4.5s\n",
      "[Voting] ..................... (3 of 4) Processing LGBM, total=   0.2s\n",
      "WARNING:tensorflow:Error in loading the saved optimizer state. As a result, your model is starting with a freshly initialized optimizer.\n",
      "[Voting] ...................... (4 of 4) Processing ANN, total=  21.0s\n",
      "Iterazione 579 [[0 0]\n",
      " [1 2]]\n",
      "accuracy 0.6666666666666666\n"
     ]
    },
    {
     "name": "stderr",
     "output_type": "stream",
     "text": [
      "<ipython-input-54-0786b9e49dc3>:22: DeprecationWarning: KerasClassifier is deprecated, use Sci-Keras (https://github.com/adriangb/scikeras) instead.\n",
      "  ANN_best = keras.wrappers.scikit_learn.KerasClassifier(build_nn, epochs= 200, verbose=False)\n"
     ]
    },
    {
     "name": "stdout",
     "output_type": "stream",
     "text": [
      "[Voting] ...................... (1 of 4) Processing KNN, total=   0.0s\n",
      "[Voting] ...................... (2 of 4) Processing SVC, total=   4.3s\n",
      "[Voting] ..................... (3 of 4) Processing LGBM, total=   0.2s\n",
      "WARNING:tensorflow:Error in loading the saved optimizer state. As a result, your model is starting with a freshly initialized optimizer.\n",
      "[Voting] ...................... (4 of 4) Processing ANN, total=  20.9s\n",
      "Iterazione 580 [[1 0]\n",
      " [0 0]]\n",
      "accuracy 1.0\n"
     ]
    },
    {
     "name": "stderr",
     "output_type": "stream",
     "text": [
      "<ipython-input-54-0786b9e49dc3>:22: DeprecationWarning: KerasClassifier is deprecated, use Sci-Keras (https://github.com/adriangb/scikeras) instead.\n",
      "  ANN_best = keras.wrappers.scikit_learn.KerasClassifier(build_nn, epochs= 200, verbose=False)\n"
     ]
    },
    {
     "name": "stdout",
     "output_type": "stream",
     "text": [
      "[Voting] ...................... (1 of 4) Processing KNN, total=   0.0s\n",
      "[Voting] ...................... (2 of 4) Processing SVC, total=   4.5s\n",
      "[Voting] ..................... (3 of 4) Processing LGBM, total=   0.2s\n",
      "WARNING:tensorflow:Error in loading the saved optimizer state. As a result, your model is starting with a freshly initialized optimizer.\n",
      "[Voting] ...................... (4 of 4) Processing ANN, total=  20.8s\n",
      "Iterazione 581 [[2 6]\n",
      " [0 0]]\n",
      "accuracy 0.25\n"
     ]
    },
    {
     "name": "stderr",
     "output_type": "stream",
     "text": [
      "<ipython-input-54-0786b9e49dc3>:22: DeprecationWarning: KerasClassifier is deprecated, use Sci-Keras (https://github.com/adriangb/scikeras) instead.\n",
      "  ANN_best = keras.wrappers.scikit_learn.KerasClassifier(build_nn, epochs= 200, verbose=False)\n"
     ]
    },
    {
     "name": "stdout",
     "output_type": "stream",
     "text": [
      "[Voting] ...................... (1 of 4) Processing KNN, total=   0.0s\n",
      "[Voting] ...................... (2 of 4) Processing SVC, total=   4.4s\n",
      "[Voting] ..................... (3 of 4) Processing LGBM, total=   0.2s\n",
      "WARNING:tensorflow:Error in loading the saved optimizer state. As a result, your model is starting with a freshly initialized optimizer.\n",
      "[Voting] ...................... (4 of 4) Processing ANN, total=  21.0s\n",
      "Iterazione 582 [[0 0]\n",
      " [0 1]]\n",
      "accuracy 1.0\n"
     ]
    },
    {
     "name": "stderr",
     "output_type": "stream",
     "text": [
      "<ipython-input-54-0786b9e49dc3>:22: DeprecationWarning: KerasClassifier is deprecated, use Sci-Keras (https://github.com/adriangb/scikeras) instead.\n",
      "  ANN_best = keras.wrappers.scikit_learn.KerasClassifier(build_nn, epochs= 200, verbose=False)\n"
     ]
    },
    {
     "name": "stdout",
     "output_type": "stream",
     "text": [
      "[Voting] ...................... (1 of 4) Processing KNN, total=   0.0s\n",
      "[Voting] ...................... (2 of 4) Processing SVC, total=   4.3s\n",
      "[Voting] ..................... (3 of 4) Processing LGBM, total=   0.2s\n",
      "WARNING:tensorflow:Error in loading the saved optimizer state. As a result, your model is starting with a freshly initialized optimizer.\n",
      "[Voting] ...................... (4 of 4) Processing ANN, total=  20.9s\n",
      "Iterazione 583 [[0 0]\n",
      " [3 4]]\n",
      "accuracy 0.5714285714285714\n"
     ]
    },
    {
     "name": "stderr",
     "output_type": "stream",
     "text": [
      "<ipython-input-54-0786b9e49dc3>:22: DeprecationWarning: KerasClassifier is deprecated, use Sci-Keras (https://github.com/adriangb/scikeras) instead.\n",
      "  ANN_best = keras.wrappers.scikit_learn.KerasClassifier(build_nn, epochs= 200, verbose=False)\n"
     ]
    },
    {
     "name": "stdout",
     "output_type": "stream",
     "text": [
      "[Voting] ...................... (1 of 4) Processing KNN, total=   0.0s\n",
      "[Voting] ...................... (2 of 4) Processing SVC, total=   4.4s\n",
      "[Voting] ..................... (3 of 4) Processing LGBM, total=   0.2s\n",
      "WARNING:tensorflow:Error in loading the saved optimizer state. As a result, your model is starting with a freshly initialized optimizer.\n",
      "[Voting] ...................... (4 of 4) Processing ANN, total=  21.3s\n",
      "Iterazione 584 [[0 0]\n",
      " [2 2]]\n",
      "accuracy 0.5\n"
     ]
    },
    {
     "name": "stderr",
     "output_type": "stream",
     "text": [
      "<ipython-input-54-0786b9e49dc3>:22: DeprecationWarning: KerasClassifier is deprecated, use Sci-Keras (https://github.com/adriangb/scikeras) instead.\n",
      "  ANN_best = keras.wrappers.scikit_learn.KerasClassifier(build_nn, epochs= 200, verbose=False)\n"
     ]
    },
    {
     "name": "stdout",
     "output_type": "stream",
     "text": [
      "[Voting] ...................... (1 of 4) Processing KNN, total=   0.0s\n",
      "[Voting] ...................... (2 of 4) Processing SVC, total=   4.3s\n",
      "[Voting] ..................... (3 of 4) Processing LGBM, total=   0.2s\n",
      "WARNING:tensorflow:Error in loading the saved optimizer state. As a result, your model is starting with a freshly initialized optimizer.\n",
      "[Voting] ...................... (4 of 4) Processing ANN, total=  21.1s\n",
      "Iterazione 585 [[3 2]\n",
      " [0 0]]\n",
      "accuracy 0.6\n"
     ]
    },
    {
     "name": "stderr",
     "output_type": "stream",
     "text": [
      "<ipython-input-54-0786b9e49dc3>:22: DeprecationWarning: KerasClassifier is deprecated, use Sci-Keras (https://github.com/adriangb/scikeras) instead.\n",
      "  ANN_best = keras.wrappers.scikit_learn.KerasClassifier(build_nn, epochs= 200, verbose=False)\n"
     ]
    },
    {
     "name": "stdout",
     "output_type": "stream",
     "text": [
      "[Voting] ...................... (1 of 4) Processing KNN, total=   0.0s\n",
      "[Voting] ...................... (2 of 4) Processing SVC, total=   4.4s\n",
      "[Voting] ..................... (3 of 4) Processing LGBM, total=   0.2s\n",
      "WARNING:tensorflow:Error in loading the saved optimizer state. As a result, your model is starting with a freshly initialized optimizer.\n",
      "[Voting] ...................... (4 of 4) Processing ANN, total=  20.8s\n",
      "Iterazione 586 [[0 0]\n",
      " [0 2]]\n",
      "accuracy 1.0\n"
     ]
    },
    {
     "name": "stderr",
     "output_type": "stream",
     "text": [
      "<ipython-input-54-0786b9e49dc3>:22: DeprecationWarning: KerasClassifier is deprecated, use Sci-Keras (https://github.com/adriangb/scikeras) instead.\n",
      "  ANN_best = keras.wrappers.scikit_learn.KerasClassifier(build_nn, epochs= 200, verbose=False)\n"
     ]
    },
    {
     "name": "stdout",
     "output_type": "stream",
     "text": [
      "[Voting] ...................... (1 of 4) Processing KNN, total=   0.0s\n",
      "[Voting] ...................... (2 of 4) Processing SVC, total=   4.5s\n",
      "[Voting] ..................... (3 of 4) Processing LGBM, total=   0.2s\n",
      "WARNING:tensorflow:Error in loading the saved optimizer state. As a result, your model is starting with a freshly initialized optimizer.\n",
      "[Voting] ...................... (4 of 4) Processing ANN, total=  21.1s\n",
      "Iterazione 587 [[2 4]\n",
      " [0 0]]\n",
      "accuracy 0.3333333333333333\n"
     ]
    },
    {
     "name": "stderr",
     "output_type": "stream",
     "text": [
      "<ipython-input-54-0786b9e49dc3>:22: DeprecationWarning: KerasClassifier is deprecated, use Sci-Keras (https://github.com/adriangb/scikeras) instead.\n",
      "  ANN_best = keras.wrappers.scikit_learn.KerasClassifier(build_nn, epochs= 200, verbose=False)\n"
     ]
    },
    {
     "name": "stdout",
     "output_type": "stream",
     "text": [
      "[Voting] ...................... (1 of 4) Processing KNN, total=   0.0s\n",
      "[Voting] ...................... (2 of 4) Processing SVC, total=   4.2s\n",
      "[Voting] ..................... (3 of 4) Processing LGBM, total=   0.2s\n",
      "WARNING:tensorflow:Error in loading the saved optimizer state. As a result, your model is starting with a freshly initialized optimizer.\n",
      "[Voting] ...................... (4 of 4) Processing ANN, total=  21.4s\n",
      "Iterazione 588 [[0 0]\n",
      " [1 0]]\n",
      "accuracy 0.0\n"
     ]
    },
    {
     "name": "stderr",
     "output_type": "stream",
     "text": [
      "<ipython-input-54-0786b9e49dc3>:22: DeprecationWarning: KerasClassifier is deprecated, use Sci-Keras (https://github.com/adriangb/scikeras) instead.\n",
      "  ANN_best = keras.wrappers.scikit_learn.KerasClassifier(build_nn, epochs= 200, verbose=False)\n"
     ]
    },
    {
     "name": "stdout",
     "output_type": "stream",
     "text": [
      "[Voting] ...................... (1 of 4) Processing KNN, total=   0.0s\n",
      "[Voting] ...................... (2 of 4) Processing SVC, total=   4.4s\n",
      "[Voting] ..................... (3 of 4) Processing LGBM, total=   0.2s\n",
      "WARNING:tensorflow:Error in loading the saved optimizer state. As a result, your model is starting with a freshly initialized optimizer.\n",
      "[Voting] ...................... (4 of 4) Processing ANN, total=  21.1s\n",
      "Iterazione 589 [[0 0]\n",
      " [4 2]]\n",
      "accuracy 0.3333333333333333\n"
     ]
    },
    {
     "name": "stderr",
     "output_type": "stream",
     "text": [
      "<ipython-input-54-0786b9e49dc3>:22: DeprecationWarning: KerasClassifier is deprecated, use Sci-Keras (https://github.com/adriangb/scikeras) instead.\n",
      "  ANN_best = keras.wrappers.scikit_learn.KerasClassifier(build_nn, epochs= 200, verbose=False)\n"
     ]
    },
    {
     "name": "stdout",
     "output_type": "stream",
     "text": [
      "[Voting] ...................... (1 of 4) Processing KNN, total=   0.0s\n",
      "[Voting] ...................... (2 of 4) Processing SVC, total=   4.4s\n",
      "[Voting] ..................... (3 of 4) Processing LGBM, total=   0.2s\n",
      "WARNING:tensorflow:Error in loading the saved optimizer state. As a result, your model is starting with a freshly initialized optimizer.\n",
      "[Voting] ...................... (4 of 4) Processing ANN, total=  21.1s\n",
      "Iterazione 590 [[1 2]\n",
      " [0 0]]\n",
      "accuracy 0.3333333333333333\n"
     ]
    },
    {
     "name": "stderr",
     "output_type": "stream",
     "text": [
      "<ipython-input-54-0786b9e49dc3>:22: DeprecationWarning: KerasClassifier is deprecated, use Sci-Keras (https://github.com/adriangb/scikeras) instead.\n",
      "  ANN_best = keras.wrappers.scikit_learn.KerasClassifier(build_nn, epochs= 200, verbose=False)\n"
     ]
    },
    {
     "name": "stdout",
     "output_type": "stream",
     "text": [
      "[Voting] ...................... (1 of 4) Processing KNN, total=   0.0s\n",
      "[Voting] ...................... (2 of 4) Processing SVC, total=   4.3s\n",
      "[Voting] ..................... (3 of 4) Processing LGBM, total=   0.2s\n",
      "WARNING:tensorflow:Error in loading the saved optimizer state. As a result, your model is starting with a freshly initialized optimizer.\n",
      "[Voting] ...................... (4 of 4) Processing ANN, total=  21.2s\n",
      "Iterazione 591 [[3 0]\n",
      " [0 0]]\n",
      "accuracy 1.0\n"
     ]
    },
    {
     "name": "stderr",
     "output_type": "stream",
     "text": [
      "<ipython-input-54-0786b9e49dc3>:22: DeprecationWarning: KerasClassifier is deprecated, use Sci-Keras (https://github.com/adriangb/scikeras) instead.\n",
      "  ANN_best = keras.wrappers.scikit_learn.KerasClassifier(build_nn, epochs= 200, verbose=False)\n"
     ]
    },
    {
     "name": "stdout",
     "output_type": "stream",
     "text": [
      "[Voting] ...................... (1 of 4) Processing KNN, total=   0.0s\n",
      "[Voting] ...................... (2 of 4) Processing SVC, total=   4.3s\n",
      "[Voting] ..................... (3 of 4) Processing LGBM, total=   0.2s\n",
      "WARNING:tensorflow:Error in loading the saved optimizer state. As a result, your model is starting with a freshly initialized optimizer.\n",
      "[Voting] ...................... (4 of 4) Processing ANN, total=  20.9s\n",
      "Iterazione 592 [[1 0]\n",
      " [0 0]]\n",
      "accuracy 1.0\n"
     ]
    },
    {
     "name": "stderr",
     "output_type": "stream",
     "text": [
      "<ipython-input-54-0786b9e49dc3>:22: DeprecationWarning: KerasClassifier is deprecated, use Sci-Keras (https://github.com/adriangb/scikeras) instead.\n",
      "  ANN_best = keras.wrappers.scikit_learn.KerasClassifier(build_nn, epochs= 200, verbose=False)\n"
     ]
    },
    {
     "name": "stdout",
     "output_type": "stream",
     "text": [
      "[Voting] ...................... (1 of 4) Processing KNN, total=   0.0s\n",
      "[Voting] ...................... (2 of 4) Processing SVC, total=   4.4s\n",
      "[Voting] ..................... (3 of 4) Processing LGBM, total=   0.3s\n",
      "WARNING:tensorflow:Error in loading the saved optimizer state. As a result, your model is starting with a freshly initialized optimizer.\n",
      "[Voting] ...................... (4 of 4) Processing ANN, total=  21.3s\n",
      "Iterazione 593 [[0 2]\n",
      " [0 0]]\n",
      "accuracy 0.0\n"
     ]
    },
    {
     "name": "stderr",
     "output_type": "stream",
     "text": [
      "<ipython-input-54-0786b9e49dc3>:22: DeprecationWarning: KerasClassifier is deprecated, use Sci-Keras (https://github.com/adriangb/scikeras) instead.\n",
      "  ANN_best = keras.wrappers.scikit_learn.KerasClassifier(build_nn, epochs= 200, verbose=False)\n"
     ]
    },
    {
     "name": "stdout",
     "output_type": "stream",
     "text": [
      "[Voting] ...................... (1 of 4) Processing KNN, total=   0.0s\n",
      "[Voting] ...................... (2 of 4) Processing SVC, total=   4.3s\n",
      "[Voting] ..................... (3 of 4) Processing LGBM, total=   0.2s\n",
      "WARNING:tensorflow:Error in loading the saved optimizer state. As a result, your model is starting with a freshly initialized optimizer.\n",
      "[Voting] ...................... (4 of 4) Processing ANN, total=  21.2s\n",
      "Iterazione 594 [[0 0]\n",
      " [0 2]]\n",
      "accuracy 1.0\n"
     ]
    },
    {
     "name": "stderr",
     "output_type": "stream",
     "text": [
      "<ipython-input-54-0786b9e49dc3>:22: DeprecationWarning: KerasClassifier is deprecated, use Sci-Keras (https://github.com/adriangb/scikeras) instead.\n",
      "  ANN_best = keras.wrappers.scikit_learn.KerasClassifier(build_nn, epochs= 200, verbose=False)\n"
     ]
    },
    {
     "name": "stdout",
     "output_type": "stream",
     "text": [
      "[Voting] ...................... (1 of 4) Processing KNN, total=   0.0s\n",
      "[Voting] ...................... (2 of 4) Processing SVC, total=   4.5s\n",
      "[Voting] ..................... (3 of 4) Processing LGBM, total=   0.2s\n",
      "WARNING:tensorflow:Error in loading the saved optimizer state. As a result, your model is starting with a freshly initialized optimizer.\n",
      "[Voting] ...................... (4 of 4) Processing ANN, total=  21.1s\n",
      "Iterazione 595 [[4 1]\n",
      " [0 0]]\n",
      "accuracy 0.8\n"
     ]
    },
    {
     "name": "stderr",
     "output_type": "stream",
     "text": [
      "<ipython-input-54-0786b9e49dc3>:22: DeprecationWarning: KerasClassifier is deprecated, use Sci-Keras (https://github.com/adriangb/scikeras) instead.\n",
      "  ANN_best = keras.wrappers.scikit_learn.KerasClassifier(build_nn, epochs= 200, verbose=False)\n"
     ]
    },
    {
     "name": "stdout",
     "output_type": "stream",
     "text": [
      "[Voting] ...................... (1 of 4) Processing KNN, total=   0.0s\n",
      "[Voting] ...................... (2 of 4) Processing SVC, total=   4.4s\n",
      "[Voting] ..................... (3 of 4) Processing LGBM, total=   0.3s\n",
      "WARNING:tensorflow:Error in loading the saved optimizer state. As a result, your model is starting with a freshly initialized optimizer.\n",
      "[Voting] ...................... (4 of 4) Processing ANN, total=  21.0s\n",
      "Iterazione 596 [[1 1]\n",
      " [0 0]]\n",
      "accuracy 0.5\n"
     ]
    },
    {
     "name": "stderr",
     "output_type": "stream",
     "text": [
      "<ipython-input-54-0786b9e49dc3>:22: DeprecationWarning: KerasClassifier is deprecated, use Sci-Keras (https://github.com/adriangb/scikeras) instead.\n",
      "  ANN_best = keras.wrappers.scikit_learn.KerasClassifier(build_nn, epochs= 200, verbose=False)\n"
     ]
    },
    {
     "name": "stdout",
     "output_type": "stream",
     "text": [
      "[Voting] ...................... (1 of 4) Processing KNN, total=   0.0s\n",
      "[Voting] ...................... (2 of 4) Processing SVC, total=   4.4s\n",
      "[Voting] ..................... (3 of 4) Processing LGBM, total=   0.4s\n",
      "WARNING:tensorflow:Error in loading the saved optimizer state. As a result, your model is starting with a freshly initialized optimizer.\n",
      "[Voting] ...................... (4 of 4) Processing ANN, total=  22.0s\n",
      "Iterazione 597 [[3 0]\n",
      " [0 0]]\n",
      "accuracy 1.0\n"
     ]
    },
    {
     "name": "stderr",
     "output_type": "stream",
     "text": [
      "<ipython-input-54-0786b9e49dc3>:22: DeprecationWarning: KerasClassifier is deprecated, use Sci-Keras (https://github.com/adriangb/scikeras) instead.\n",
      "  ANN_best = keras.wrappers.scikit_learn.KerasClassifier(build_nn, epochs= 200, verbose=False)\n"
     ]
    },
    {
     "name": "stdout",
     "output_type": "stream",
     "text": [
      "[Voting] ...................... (1 of 4) Processing KNN, total=   0.0s\n",
      "[Voting] ...................... (2 of 4) Processing SVC, total=   4.4s\n",
      "[Voting] ..................... (3 of 4) Processing LGBM, total=   0.2s\n",
      "WARNING:tensorflow:Error in loading the saved optimizer state. As a result, your model is starting with a freshly initialized optimizer.\n",
      "[Voting] ...................... (4 of 4) Processing ANN, total=  20.9s\n",
      "Iterazione 598 [[3 0]\n",
      " [0 0]]\n",
      "accuracy 1.0\n"
     ]
    },
    {
     "name": "stderr",
     "output_type": "stream",
     "text": [
      "<ipython-input-54-0786b9e49dc3>:22: DeprecationWarning: KerasClassifier is deprecated, use Sci-Keras (https://github.com/adriangb/scikeras) instead.\n",
      "  ANN_best = keras.wrappers.scikit_learn.KerasClassifier(build_nn, epochs= 200, verbose=False)\n"
     ]
    },
    {
     "name": "stdout",
     "output_type": "stream",
     "text": [
      "[Voting] ...................... (1 of 4) Processing KNN, total=   0.0s\n",
      "[Voting] ...................... (2 of 4) Processing SVC, total=   4.5s\n",
      "[Voting] ..................... (3 of 4) Processing LGBM, total=   0.2s\n",
      "WARNING:tensorflow:Error in loading the saved optimizer state. As a result, your model is starting with a freshly initialized optimizer.\n",
      "[Voting] ...................... (4 of 4) Processing ANN, total=  21.0s\n",
      "Iterazione 599 [[0 0]\n",
      " [1 4]]\n",
      "accuracy 0.8\n"
     ]
    },
    {
     "name": "stderr",
     "output_type": "stream",
     "text": [
      "<ipython-input-54-0786b9e49dc3>:22: DeprecationWarning: KerasClassifier is deprecated, use Sci-Keras (https://github.com/adriangb/scikeras) instead.\n",
      "  ANN_best = keras.wrappers.scikit_learn.KerasClassifier(build_nn, epochs= 200, verbose=False)\n"
     ]
    },
    {
     "name": "stdout",
     "output_type": "stream",
     "text": [
      "[Voting] ...................... (1 of 4) Processing KNN, total=   0.0s\n",
      "[Voting] ...................... (2 of 4) Processing SVC, total=   4.3s\n",
      "[Voting] ..................... (3 of 4) Processing LGBM, total=   0.2s\n",
      "WARNING:tensorflow:Error in loading the saved optimizer state. As a result, your model is starting with a freshly initialized optimizer.\n",
      "[Voting] ...................... (4 of 4) Processing ANN, total=  21.1s\n",
      "Iterazione 600 [[0 0]\n",
      " [4 7]]\n",
      "accuracy 0.6363636363636364\n"
     ]
    },
    {
     "name": "stderr",
     "output_type": "stream",
     "text": [
      "<ipython-input-54-0786b9e49dc3>:22: DeprecationWarning: KerasClassifier is deprecated, use Sci-Keras (https://github.com/adriangb/scikeras) instead.\n",
      "  ANN_best = keras.wrappers.scikit_learn.KerasClassifier(build_nn, epochs= 200, verbose=False)\n"
     ]
    },
    {
     "name": "stdout",
     "output_type": "stream",
     "text": [
      "[Voting] ...................... (1 of 4) Processing KNN, total=   0.0s\n",
      "[Voting] ...................... (2 of 4) Processing SVC, total=   4.3s\n",
      "[Voting] ..................... (3 of 4) Processing LGBM, total=   0.2s\n",
      "WARNING:tensorflow:Error in loading the saved optimizer state. As a result, your model is starting with a freshly initialized optimizer.\n",
      "[Voting] ...................... (4 of 4) Processing ANN, total=  21.0s\n",
      "Iterazione 601 [[0 0]\n",
      " [1 3]]\n",
      "accuracy 0.75\n"
     ]
    },
    {
     "name": "stderr",
     "output_type": "stream",
     "text": [
      "<ipython-input-54-0786b9e49dc3>:22: DeprecationWarning: KerasClassifier is deprecated, use Sci-Keras (https://github.com/adriangb/scikeras) instead.\n",
      "  ANN_best = keras.wrappers.scikit_learn.KerasClassifier(build_nn, epochs= 200, verbose=False)\n"
     ]
    },
    {
     "name": "stdout",
     "output_type": "stream",
     "text": [
      "[Voting] ...................... (1 of 4) Processing KNN, total=   0.0s\n",
      "[Voting] ...................... (2 of 4) Processing SVC, total=   4.4s\n",
      "[Voting] ..................... (3 of 4) Processing LGBM, total=   0.3s\n",
      "WARNING:tensorflow:Error in loading the saved optimizer state. As a result, your model is starting with a freshly initialized optimizer.\n",
      "[Voting] ...................... (4 of 4) Processing ANN, total=  21.1s\n",
      "Iterazione 602 [[2 0]\n",
      " [0 0]]\n",
      "accuracy 1.0\n"
     ]
    },
    {
     "name": "stderr",
     "output_type": "stream",
     "text": [
      "<ipython-input-54-0786b9e49dc3>:22: DeprecationWarning: KerasClassifier is deprecated, use Sci-Keras (https://github.com/adriangb/scikeras) instead.\n",
      "  ANN_best = keras.wrappers.scikit_learn.KerasClassifier(build_nn, epochs= 200, verbose=False)\n"
     ]
    },
    {
     "name": "stdout",
     "output_type": "stream",
     "text": [
      "[Voting] ...................... (1 of 4) Processing KNN, total=   0.0s\n",
      "[Voting] ...................... (2 of 4) Processing SVC, total=   4.4s\n",
      "[Voting] ..................... (3 of 4) Processing LGBM, total=   0.2s\n",
      "WARNING:tensorflow:Error in loading the saved optimizer state. As a result, your model is starting with a freshly initialized optimizer.\n",
      "[Voting] ...................... (4 of 4) Processing ANN, total=  21.3s\n",
      "Iterazione 603 [[0 0]\n",
      " [0 3]]\n",
      "accuracy 1.0\n"
     ]
    },
    {
     "name": "stderr",
     "output_type": "stream",
     "text": [
      "<ipython-input-54-0786b9e49dc3>:22: DeprecationWarning: KerasClassifier is deprecated, use Sci-Keras (https://github.com/adriangb/scikeras) instead.\n",
      "  ANN_best = keras.wrappers.scikit_learn.KerasClassifier(build_nn, epochs= 200, verbose=False)\n"
     ]
    },
    {
     "name": "stdout",
     "output_type": "stream",
     "text": [
      "[Voting] ...................... (1 of 4) Processing KNN, total=   0.0s\n",
      "[Voting] ...................... (2 of 4) Processing SVC, total=   4.3s\n",
      "[Voting] ..................... (3 of 4) Processing LGBM, total=   0.2s\n",
      "WARNING:tensorflow:Error in loading the saved optimizer state. As a result, your model is starting with a freshly initialized optimizer.\n",
      "[Voting] ...................... (4 of 4) Processing ANN, total=  20.9s\n",
      "Iterazione 604 [[0 0]\n",
      " [1 3]]\n",
      "accuracy 0.75\n"
     ]
    },
    {
     "name": "stderr",
     "output_type": "stream",
     "text": [
      "<ipython-input-54-0786b9e49dc3>:22: DeprecationWarning: KerasClassifier is deprecated, use Sci-Keras (https://github.com/adriangb/scikeras) instead.\n",
      "  ANN_best = keras.wrappers.scikit_learn.KerasClassifier(build_nn, epochs= 200, verbose=False)\n"
     ]
    },
    {
     "name": "stdout",
     "output_type": "stream",
     "text": [
      "[Voting] ...................... (1 of 4) Processing KNN, total=   0.0s\n",
      "[Voting] ...................... (2 of 4) Processing SVC, total=   4.2s\n",
      "[Voting] ..................... (3 of 4) Processing LGBM, total=   0.3s\n",
      "WARNING:tensorflow:Error in loading the saved optimizer state. As a result, your model is starting with a freshly initialized optimizer.\n",
      "[Voting] ...................... (4 of 4) Processing ANN, total=  21.2s\n",
      "Iterazione 605 [[2 2]\n",
      " [0 0]]\n",
      "accuracy 0.5\n"
     ]
    },
    {
     "name": "stderr",
     "output_type": "stream",
     "text": [
      "<ipython-input-54-0786b9e49dc3>:22: DeprecationWarning: KerasClassifier is deprecated, use Sci-Keras (https://github.com/adriangb/scikeras) instead.\n",
      "  ANN_best = keras.wrappers.scikit_learn.KerasClassifier(build_nn, epochs= 200, verbose=False)\n"
     ]
    },
    {
     "name": "stdout",
     "output_type": "stream",
     "text": [
      "[Voting] ...................... (1 of 4) Processing KNN, total=   0.0s\n",
      "[Voting] ...................... (2 of 4) Processing SVC, total=   4.3s\n",
      "[Voting] ..................... (3 of 4) Processing LGBM, total=   0.2s\n",
      "WARNING:tensorflow:Error in loading the saved optimizer state. As a result, your model is starting with a freshly initialized optimizer.\n",
      "[Voting] ...................... (4 of 4) Processing ANN, total=  22.3s\n",
      "Iterazione 606 [[0 0]\n",
      " [0 9]]\n",
      "accuracy 1.0\n"
     ]
    },
    {
     "name": "stderr",
     "output_type": "stream",
     "text": [
      "<ipython-input-54-0786b9e49dc3>:22: DeprecationWarning: KerasClassifier is deprecated, use Sci-Keras (https://github.com/adriangb/scikeras) instead.\n",
      "  ANN_best = keras.wrappers.scikit_learn.KerasClassifier(build_nn, epochs= 200, verbose=False)\n"
     ]
    },
    {
     "name": "stdout",
     "output_type": "stream",
     "text": [
      "[Voting] ...................... (1 of 4) Processing KNN, total=   0.0s\n",
      "[Voting] ...................... (2 of 4) Processing SVC, total=   4.3s\n",
      "[Voting] ..................... (3 of 4) Processing LGBM, total=   0.2s\n",
      "WARNING:tensorflow:Error in loading the saved optimizer state. As a result, your model is starting with a freshly initialized optimizer.\n",
      "[Voting] ...................... (4 of 4) Processing ANN, total=  21.1s\n",
      "Iterazione 607 [[0 0]\n",
      " [2 6]]\n",
      "accuracy 0.75\n"
     ]
    },
    {
     "name": "stderr",
     "output_type": "stream",
     "text": [
      "<ipython-input-54-0786b9e49dc3>:22: DeprecationWarning: KerasClassifier is deprecated, use Sci-Keras (https://github.com/adriangb/scikeras) instead.\n",
      "  ANN_best = keras.wrappers.scikit_learn.KerasClassifier(build_nn, epochs= 200, verbose=False)\n"
     ]
    },
    {
     "name": "stdout",
     "output_type": "stream",
     "text": [
      "[Voting] ...................... (1 of 4) Processing KNN, total=   0.0s\n",
      "[Voting] ...................... (2 of 4) Processing SVC, total=   4.3s\n",
      "[Voting] ..................... (3 of 4) Processing LGBM, total=   0.2s\n",
      "WARNING:tensorflow:Error in loading the saved optimizer state. As a result, your model is starting with a freshly initialized optimizer.\n",
      "[Voting] ...................... (4 of 4) Processing ANN, total=  21.4s\n",
      "Iterazione 608 [[0 0]\n",
      " [2 5]]\n",
      "accuracy 0.7142857142857143\n"
     ]
    },
    {
     "name": "stderr",
     "output_type": "stream",
     "text": [
      "<ipython-input-54-0786b9e49dc3>:22: DeprecationWarning: KerasClassifier is deprecated, use Sci-Keras (https://github.com/adriangb/scikeras) instead.\n",
      "  ANN_best = keras.wrappers.scikit_learn.KerasClassifier(build_nn, epochs= 200, verbose=False)\n"
     ]
    },
    {
     "name": "stdout",
     "output_type": "stream",
     "text": [
      "[Voting] ...................... (1 of 4) Processing KNN, total=   0.0s\n",
      "[Voting] ...................... (2 of 4) Processing SVC, total=   4.3s\n",
      "[Voting] ..................... (3 of 4) Processing LGBM, total=   0.2s\n",
      "WARNING:tensorflow:Error in loading the saved optimizer state. As a result, your model is starting with a freshly initialized optimizer.\n",
      "[Voting] ...................... (4 of 4) Processing ANN, total=  21.2s\n",
      "Iterazione 609 [[3 4]\n",
      " [0 0]]\n",
      "accuracy 0.42857142857142855\n"
     ]
    },
    {
     "name": "stderr",
     "output_type": "stream",
     "text": [
      "<ipython-input-54-0786b9e49dc3>:22: DeprecationWarning: KerasClassifier is deprecated, use Sci-Keras (https://github.com/adriangb/scikeras) instead.\n",
      "  ANN_best = keras.wrappers.scikit_learn.KerasClassifier(build_nn, epochs= 200, verbose=False)\n"
     ]
    },
    {
     "name": "stdout",
     "output_type": "stream",
     "text": [
      "[Voting] ...................... (1 of 4) Processing KNN, total=   0.0s\n",
      "[Voting] ...................... (2 of 4) Processing SVC, total=   4.5s\n",
      "[Voting] ..................... (3 of 4) Processing LGBM, total=   0.2s\n",
      "WARNING:tensorflow:Error in loading the saved optimizer state. As a result, your model is starting with a freshly initialized optimizer.\n",
      "[Voting] ...................... (4 of 4) Processing ANN, total=  20.8s\n",
      "Iterazione 610 [[1 0]\n",
      " [0 0]]\n",
      "accuracy 1.0\n"
     ]
    },
    {
     "name": "stderr",
     "output_type": "stream",
     "text": [
      "<ipython-input-54-0786b9e49dc3>:22: DeprecationWarning: KerasClassifier is deprecated, use Sci-Keras (https://github.com/adriangb/scikeras) instead.\n",
      "  ANN_best = keras.wrappers.scikit_learn.KerasClassifier(build_nn, epochs= 200, verbose=False)\n"
     ]
    },
    {
     "name": "stdout",
     "output_type": "stream",
     "text": [
      "[Voting] ...................... (1 of 4) Processing KNN, total=   0.0s\n",
      "[Voting] ...................... (2 of 4) Processing SVC, total=   4.4s\n",
      "[Voting] ..................... (3 of 4) Processing LGBM, total=   0.2s\n",
      "WARNING:tensorflow:Error in loading the saved optimizer state. As a result, your model is starting with a freshly initialized optimizer.\n",
      "[Voting] ...................... (4 of 4) Processing ANN, total=  21.2s\n",
      "Iterazione 611 [[0 0]\n",
      " [0 6]]\n",
      "accuracy 1.0\n"
     ]
    },
    {
     "name": "stderr",
     "output_type": "stream",
     "text": [
      "<ipython-input-54-0786b9e49dc3>:22: DeprecationWarning: KerasClassifier is deprecated, use Sci-Keras (https://github.com/adriangb/scikeras) instead.\n",
      "  ANN_best = keras.wrappers.scikit_learn.KerasClassifier(build_nn, epochs= 200, verbose=False)\n"
     ]
    },
    {
     "name": "stdout",
     "output_type": "stream",
     "text": [
      "[Voting] ...................... (1 of 4) Processing KNN, total=   0.0s\n",
      "[Voting] ...................... (2 of 4) Processing SVC, total=   4.4s\n",
      "[Voting] ..................... (3 of 4) Processing LGBM, total=   0.2s\n",
      "WARNING:tensorflow:Error in loading the saved optimizer state. As a result, your model is starting with a freshly initialized optimizer.\n",
      "[Voting] ...................... (4 of 4) Processing ANN, total=  21.3s\n",
      "Iterazione 612 [[0 0]\n",
      " [6 3]]\n",
      "accuracy 0.3333333333333333\n"
     ]
    },
    {
     "name": "stderr",
     "output_type": "stream",
     "text": [
      "<ipython-input-54-0786b9e49dc3>:22: DeprecationWarning: KerasClassifier is deprecated, use Sci-Keras (https://github.com/adriangb/scikeras) instead.\n",
      "  ANN_best = keras.wrappers.scikit_learn.KerasClassifier(build_nn, epochs= 200, verbose=False)\n"
     ]
    },
    {
     "name": "stdout",
     "output_type": "stream",
     "text": [
      "[Voting] ...................... (1 of 4) Processing KNN, total=   0.0s\n",
      "[Voting] ...................... (2 of 4) Processing SVC, total=   4.3s\n",
      "[Voting] ..................... (3 of 4) Processing LGBM, total=   0.2s\n",
      "WARNING:tensorflow:Error in loading the saved optimizer state. As a result, your model is starting with a freshly initialized optimizer.\n",
      "[Voting] ...................... (4 of 4) Processing ANN, total=  21.1s\n",
      "Iterazione 613 [[2 2]\n",
      " [0 0]]\n",
      "accuracy 0.5\n"
     ]
    },
    {
     "name": "stderr",
     "output_type": "stream",
     "text": [
      "<ipython-input-54-0786b9e49dc3>:22: DeprecationWarning: KerasClassifier is deprecated, use Sci-Keras (https://github.com/adriangb/scikeras) instead.\n",
      "  ANN_best = keras.wrappers.scikit_learn.KerasClassifier(build_nn, epochs= 200, verbose=False)\n"
     ]
    },
    {
     "name": "stdout",
     "output_type": "stream",
     "text": [
      "[Voting] ...................... (1 of 4) Processing KNN, total=   0.0s\n",
      "[Voting] ...................... (2 of 4) Processing SVC, total=   4.3s\n",
      "[Voting] ..................... (3 of 4) Processing LGBM, total=   0.2s\n",
      "WARNING:tensorflow:Error in loading the saved optimizer state. As a result, your model is starting with a freshly initialized optimizer.\n",
      "[Voting] ...................... (4 of 4) Processing ANN, total=  20.9s\n",
      "Iterazione 614 [[1 1]\n",
      " [0 0]]\n",
      "accuracy 0.5\n"
     ]
    },
    {
     "name": "stderr",
     "output_type": "stream",
     "text": [
      "<ipython-input-54-0786b9e49dc3>:22: DeprecationWarning: KerasClassifier is deprecated, use Sci-Keras (https://github.com/adriangb/scikeras) instead.\n",
      "  ANN_best = keras.wrappers.scikit_learn.KerasClassifier(build_nn, epochs= 200, verbose=False)\n"
     ]
    },
    {
     "name": "stdout",
     "output_type": "stream",
     "text": [
      "[Voting] ...................... (1 of 4) Processing KNN, total=   0.0s\n",
      "[Voting] ...................... (2 of 4) Processing SVC, total=   4.3s\n",
      "[Voting] ..................... (3 of 4) Processing LGBM, total=   0.2s\n",
      "WARNING:tensorflow:Error in loading the saved optimizer state. As a result, your model is starting with a freshly initialized optimizer.\n",
      "[Voting] ...................... (4 of 4) Processing ANN, total=  21.4s\n",
      "Iterazione 615 [[0 0]\n",
      " [1 5]]\n",
      "accuracy 0.8333333333333334\n"
     ]
    },
    {
     "name": "stderr",
     "output_type": "stream",
     "text": [
      "<ipython-input-54-0786b9e49dc3>:22: DeprecationWarning: KerasClassifier is deprecated, use Sci-Keras (https://github.com/adriangb/scikeras) instead.\n",
      "  ANN_best = keras.wrappers.scikit_learn.KerasClassifier(build_nn, epochs= 200, verbose=False)\n"
     ]
    },
    {
     "name": "stdout",
     "output_type": "stream",
     "text": [
      "[Voting] ...................... (1 of 4) Processing KNN, total=   0.0s\n",
      "[Voting] ...................... (2 of 4) Processing SVC, total=   4.2s\n",
      "[Voting] ..................... (3 of 4) Processing LGBM, total=   0.3s\n",
      "WARNING:tensorflow:Error in loading the saved optimizer state. As a result, your model is starting with a freshly initialized optimizer.\n",
      "[Voting] ...................... (4 of 4) Processing ANN, total=  20.8s\n",
      "Iterazione 616 [[4 6]\n",
      " [0 0]]\n",
      "accuracy 0.4\n"
     ]
    },
    {
     "name": "stderr",
     "output_type": "stream",
     "text": [
      "<ipython-input-54-0786b9e49dc3>:22: DeprecationWarning: KerasClassifier is deprecated, use Sci-Keras (https://github.com/adriangb/scikeras) instead.\n",
      "  ANN_best = keras.wrappers.scikit_learn.KerasClassifier(build_nn, epochs= 200, verbose=False)\n"
     ]
    },
    {
     "name": "stdout",
     "output_type": "stream",
     "text": [
      "[Voting] ...................... (1 of 4) Processing KNN, total=   0.0s\n",
      "[Voting] ...................... (2 of 4) Processing SVC, total=   4.5s\n",
      "[Voting] ..................... (3 of 4) Processing LGBM, total=   0.3s\n",
      "WARNING:tensorflow:Error in loading the saved optimizer state. As a result, your model is starting with a freshly initialized optimizer.\n",
      "[Voting] ...................... (4 of 4) Processing ANN, total=  21.7s\n",
      "Iterazione 617 [[1 2]\n",
      " [0 0]]\n",
      "accuracy 0.3333333333333333\n"
     ]
    },
    {
     "name": "stderr",
     "output_type": "stream",
     "text": [
      "<ipython-input-54-0786b9e49dc3>:22: DeprecationWarning: KerasClassifier is deprecated, use Sci-Keras (https://github.com/adriangb/scikeras) instead.\n",
      "  ANN_best = keras.wrappers.scikit_learn.KerasClassifier(build_nn, epochs= 200, verbose=False)\n"
     ]
    },
    {
     "name": "stdout",
     "output_type": "stream",
     "text": [
      "[Voting] ...................... (1 of 4) Processing KNN, total=   0.0s\n",
      "[Voting] ...................... (2 of 4) Processing SVC, total=   4.2s\n",
      "[Voting] ..................... (3 of 4) Processing LGBM, total=   0.2s\n",
      "WARNING:tensorflow:Error in loading the saved optimizer state. As a result, your model is starting with a freshly initialized optimizer.\n",
      "[Voting] ...................... (4 of 4) Processing ANN, total=  21.3s\n",
      "Iterazione 618 [[2 1]\n",
      " [0 0]]\n",
      "accuracy 0.6666666666666666\n"
     ]
    },
    {
     "name": "stderr",
     "output_type": "stream",
     "text": [
      "<ipython-input-54-0786b9e49dc3>:22: DeprecationWarning: KerasClassifier is deprecated, use Sci-Keras (https://github.com/adriangb/scikeras) instead.\n",
      "  ANN_best = keras.wrappers.scikit_learn.KerasClassifier(build_nn, epochs= 200, verbose=False)\n"
     ]
    },
    {
     "name": "stdout",
     "output_type": "stream",
     "text": [
      "[Voting] ...................... (1 of 4) Processing KNN, total=   0.0s\n",
      "[Voting] ...................... (2 of 4) Processing SVC, total=   4.5s\n",
      "[Voting] ..................... (3 of 4) Processing LGBM, total=   0.2s\n",
      "WARNING:tensorflow:Error in loading the saved optimizer state. As a result, your model is starting with a freshly initialized optimizer.\n",
      "[Voting] ...................... (4 of 4) Processing ANN, total=  20.9s\n",
      "Iterazione 619 [[0 0]\n",
      " [2 3]]\n",
      "accuracy 0.6\n"
     ]
    },
    {
     "name": "stderr",
     "output_type": "stream",
     "text": [
      "<ipython-input-54-0786b9e49dc3>:22: DeprecationWarning: KerasClassifier is deprecated, use Sci-Keras (https://github.com/adriangb/scikeras) instead.\n",
      "  ANN_best = keras.wrappers.scikit_learn.KerasClassifier(build_nn, epochs= 200, verbose=False)\n"
     ]
    },
    {
     "name": "stdout",
     "output_type": "stream",
     "text": [
      "[Voting] ...................... (1 of 4) Processing KNN, total=   0.0s\n",
      "[Voting] ...................... (2 of 4) Processing SVC, total=   4.4s\n",
      "[Voting] ..................... (3 of 4) Processing LGBM, total=   0.2s\n",
      "WARNING:tensorflow:Error in loading the saved optimizer state. As a result, your model is starting with a freshly initialized optimizer.\n",
      "[Voting] ...................... (4 of 4) Processing ANN, total=  21.2s\n",
      "Iterazione 620 [[0 0]\n",
      " [0 4]]\n",
      "accuracy 1.0\n"
     ]
    },
    {
     "name": "stderr",
     "output_type": "stream",
     "text": [
      "<ipython-input-54-0786b9e49dc3>:22: DeprecationWarning: KerasClassifier is deprecated, use Sci-Keras (https://github.com/adriangb/scikeras) instead.\n",
      "  ANN_best = keras.wrappers.scikit_learn.KerasClassifier(build_nn, epochs= 200, verbose=False)\n"
     ]
    },
    {
     "name": "stdout",
     "output_type": "stream",
     "text": [
      "[Voting] ...................... (1 of 4) Processing KNN, total=   0.0s\n",
      "[Voting] ...................... (2 of 4) Processing SVC, total=   4.2s\n",
      "[Voting] ..................... (3 of 4) Processing LGBM, total=   0.2s\n",
      "WARNING:tensorflow:Error in loading the saved optimizer state. As a result, your model is starting with a freshly initialized optimizer.\n",
      "[Voting] ...................... (4 of 4) Processing ANN, total=  21.2s\n",
      "Iterazione 621 [[6 6]\n",
      " [0 0]]\n",
      "accuracy 0.5\n"
     ]
    },
    {
     "name": "stderr",
     "output_type": "stream",
     "text": [
      "<ipython-input-54-0786b9e49dc3>:22: DeprecationWarning: KerasClassifier is deprecated, use Sci-Keras (https://github.com/adriangb/scikeras) instead.\n",
      "  ANN_best = keras.wrappers.scikit_learn.KerasClassifier(build_nn, epochs= 200, verbose=False)\n"
     ]
    },
    {
     "name": "stdout",
     "output_type": "stream",
     "text": [
      "[Voting] ...................... (1 of 4) Processing KNN, total=   0.0s\n",
      "[Voting] ...................... (2 of 4) Processing SVC, total=   4.5s\n",
      "[Voting] ..................... (3 of 4) Processing LGBM, total=   0.2s\n",
      "WARNING:tensorflow:Error in loading the saved optimizer state. As a result, your model is starting with a freshly initialized optimizer.\n",
      "[Voting] ...................... (4 of 4) Processing ANN, total=  20.8s\n",
      "Iterazione 622 [[0 0]\n",
      " [1 2]]\n",
      "accuracy 0.6666666666666666\n"
     ]
    },
    {
     "name": "stderr",
     "output_type": "stream",
     "text": [
      "<ipython-input-54-0786b9e49dc3>:22: DeprecationWarning: KerasClassifier is deprecated, use Sci-Keras (https://github.com/adriangb/scikeras) instead.\n",
      "  ANN_best = keras.wrappers.scikit_learn.KerasClassifier(build_nn, epochs= 200, verbose=False)\n"
     ]
    },
    {
     "name": "stdout",
     "output_type": "stream",
     "text": [
      "[Voting] ...................... (1 of 4) Processing KNN, total=   0.0s\n",
      "[Voting] ...................... (2 of 4) Processing SVC, total=   4.5s\n",
      "[Voting] ..................... (3 of 4) Processing LGBM, total=   0.3s\n",
      "WARNING:tensorflow:Error in loading the saved optimizer state. As a result, your model is starting with a freshly initialized optimizer.\n",
      "[Voting] ...................... (4 of 4) Processing ANN, total=  21.0s\n",
      "Iterazione 623 [[0 2]\n",
      " [0 0]]\n",
      "accuracy 0.0\n"
     ]
    },
    {
     "name": "stderr",
     "output_type": "stream",
     "text": [
      "<ipython-input-54-0786b9e49dc3>:22: DeprecationWarning: KerasClassifier is deprecated, use Sci-Keras (https://github.com/adriangb/scikeras) instead.\n",
      "  ANN_best = keras.wrappers.scikit_learn.KerasClassifier(build_nn, epochs= 200, verbose=False)\n"
     ]
    },
    {
     "name": "stdout",
     "output_type": "stream",
     "text": [
      "[Voting] ...................... (1 of 4) Processing KNN, total=   0.0s\n",
      "[Voting] ...................... (2 of 4) Processing SVC, total=   4.3s\n",
      "[Voting] ..................... (3 of 4) Processing LGBM, total=   0.2s\n",
      "WARNING:tensorflow:Error in loading the saved optimizer state. As a result, your model is starting with a freshly initialized optimizer.\n",
      "[Voting] ...................... (4 of 4) Processing ANN, total=  21.0s\n",
      "Iterazione 624 [[0 0]\n",
      " [1 5]]\n",
      "accuracy 0.8333333333333334\n"
     ]
    },
    {
     "name": "stderr",
     "output_type": "stream",
     "text": [
      "<ipython-input-54-0786b9e49dc3>:22: DeprecationWarning: KerasClassifier is deprecated, use Sci-Keras (https://github.com/adriangb/scikeras) instead.\n",
      "  ANN_best = keras.wrappers.scikit_learn.KerasClassifier(build_nn, epochs= 200, verbose=False)\n"
     ]
    },
    {
     "name": "stdout",
     "output_type": "stream",
     "text": [
      "[Voting] ...................... (1 of 4) Processing KNN, total=   0.0s\n",
      "[Voting] ...................... (2 of 4) Processing SVC, total=   4.4s\n",
      "[Voting] ..................... (3 of 4) Processing LGBM, total=   0.2s\n",
      "WARNING:tensorflow:Error in loading the saved optimizer state. As a result, your model is starting with a freshly initialized optimizer.\n",
      "[Voting] ...................... (4 of 4) Processing ANN, total=  21.1s\n",
      "Iterazione 625 [[3 0]\n",
      " [0 0]]\n",
      "accuracy 1.0\n"
     ]
    },
    {
     "name": "stderr",
     "output_type": "stream",
     "text": [
      "<ipython-input-54-0786b9e49dc3>:22: DeprecationWarning: KerasClassifier is deprecated, use Sci-Keras (https://github.com/adriangb/scikeras) instead.\n",
      "  ANN_best = keras.wrappers.scikit_learn.KerasClassifier(build_nn, epochs= 200, verbose=False)\n"
     ]
    },
    {
     "name": "stdout",
     "output_type": "stream",
     "text": [
      "[Voting] ...................... (1 of 4) Processing KNN, total=   0.0s\n",
      "[Voting] ...................... (2 of 4) Processing SVC, total=   4.3s\n",
      "[Voting] ..................... (3 of 4) Processing LGBM, total=   0.3s\n",
      "WARNING:tensorflow:Error in loading the saved optimizer state. As a result, your model is starting with a freshly initialized optimizer.\n",
      "[Voting] ...................... (4 of 4) Processing ANN, total=  20.9s\n",
      "Iterazione 626 [[1 1]\n",
      " [0 0]]\n",
      "accuracy 0.5\n"
     ]
    },
    {
     "name": "stderr",
     "output_type": "stream",
     "text": [
      "<ipython-input-54-0786b9e49dc3>:22: DeprecationWarning: KerasClassifier is deprecated, use Sci-Keras (https://github.com/adriangb/scikeras) instead.\n",
      "  ANN_best = keras.wrappers.scikit_learn.KerasClassifier(build_nn, epochs= 200, verbose=False)\n"
     ]
    },
    {
     "name": "stdout",
     "output_type": "stream",
     "text": [
      "[Voting] ...................... (1 of 4) Processing KNN, total=   0.0s\n",
      "[Voting] ...................... (2 of 4) Processing SVC, total=   4.3s\n",
      "[Voting] ..................... (3 of 4) Processing LGBM, total=   0.2s\n",
      "WARNING:tensorflow:Error in loading the saved optimizer state. As a result, your model is starting with a freshly initialized optimizer.\n",
      "[Voting] ...................... (4 of 4) Processing ANN, total=  21.1s\n",
      "Iterazione 627 [[0 3]\n",
      " [0 0]]\n",
      "accuracy 0.0\n"
     ]
    },
    {
     "name": "stderr",
     "output_type": "stream",
     "text": [
      "<ipython-input-54-0786b9e49dc3>:22: DeprecationWarning: KerasClassifier is deprecated, use Sci-Keras (https://github.com/adriangb/scikeras) instead.\n",
      "  ANN_best = keras.wrappers.scikit_learn.KerasClassifier(build_nn, epochs= 200, verbose=False)\n"
     ]
    },
    {
     "name": "stdout",
     "output_type": "stream",
     "text": [
      "[Voting] ...................... (1 of 4) Processing KNN, total=   0.0s\n",
      "[Voting] ...................... (2 of 4) Processing SVC, total=   4.1s\n",
      "[Voting] ..................... (3 of 4) Processing LGBM, total=   0.2s\n",
      "WARNING:tensorflow:Error in loading the saved optimizer state. As a result, your model is starting with a freshly initialized optimizer.\n",
      "[Voting] ...................... (4 of 4) Processing ANN, total=  20.9s\n",
      "Iterazione 628 [[5 2]\n",
      " [0 0]]\n",
      "accuracy 0.7142857142857143\n"
     ]
    },
    {
     "name": "stderr",
     "output_type": "stream",
     "text": [
      "<ipython-input-54-0786b9e49dc3>:22: DeprecationWarning: KerasClassifier is deprecated, use Sci-Keras (https://github.com/adriangb/scikeras) instead.\n",
      "  ANN_best = keras.wrappers.scikit_learn.KerasClassifier(build_nn, epochs= 200, verbose=False)\n"
     ]
    },
    {
     "name": "stdout",
     "output_type": "stream",
     "text": [
      "[Voting] ...................... (1 of 4) Processing KNN, total=   0.0s\n",
      "[Voting] ...................... (2 of 4) Processing SVC, total=   4.2s\n",
      "[Voting] ..................... (3 of 4) Processing LGBM, total=   0.4s\n",
      "WARNING:tensorflow:Error in loading the saved optimizer state. As a result, your model is starting with a freshly initialized optimizer.\n",
      "[Voting] ...................... (4 of 4) Processing ANN, total=  21.1s\n",
      "Iterazione 629 [[9 0]\n",
      " [0 0]]\n",
      "accuracy 1.0\n"
     ]
    },
    {
     "name": "stderr",
     "output_type": "stream",
     "text": [
      "<ipython-input-54-0786b9e49dc3>:22: DeprecationWarning: KerasClassifier is deprecated, use Sci-Keras (https://github.com/adriangb/scikeras) instead.\n",
      "  ANN_best = keras.wrappers.scikit_learn.KerasClassifier(build_nn, epochs= 200, verbose=False)\n"
     ]
    },
    {
     "name": "stdout",
     "output_type": "stream",
     "text": [
      "[Voting] ...................... (1 of 4) Processing KNN, total=   0.0s\n",
      "[Voting] ...................... (2 of 4) Processing SVC, total=   4.2s\n",
      "[Voting] ..................... (3 of 4) Processing LGBM, total=   0.2s\n",
      "WARNING:tensorflow:Error in loading the saved optimizer state. As a result, your model is starting with a freshly initialized optimizer.\n",
      "[Voting] ...................... (4 of 4) Processing ANN, total=  21.2s\n",
      "Iterazione 630 [[0 1]\n",
      " [0 0]]\n",
      "accuracy 0.0\n"
     ]
    },
    {
     "name": "stderr",
     "output_type": "stream",
     "text": [
      "<ipython-input-54-0786b9e49dc3>:22: DeprecationWarning: KerasClassifier is deprecated, use Sci-Keras (https://github.com/adriangb/scikeras) instead.\n",
      "  ANN_best = keras.wrappers.scikit_learn.KerasClassifier(build_nn, epochs= 200, verbose=False)\n"
     ]
    },
    {
     "name": "stdout",
     "output_type": "stream",
     "text": [
      "[Voting] ...................... (1 of 4) Processing KNN, total=   0.0s\n",
      "[Voting] ...................... (2 of 4) Processing SVC, total=   4.3s\n",
      "[Voting] ..................... (3 of 4) Processing LGBM, total=   0.2s\n",
      "WARNING:tensorflow:Error in loading the saved optimizer state. As a result, your model is starting with a freshly initialized optimizer.\n",
      "[Voting] ...................... (4 of 4) Processing ANN, total=  20.9s\n",
      "Iterazione 631 [[0 0]\n",
      " [0 2]]\n",
      "accuracy 1.0\n"
     ]
    },
    {
     "name": "stderr",
     "output_type": "stream",
     "text": [
      "<ipython-input-54-0786b9e49dc3>:22: DeprecationWarning: KerasClassifier is deprecated, use Sci-Keras (https://github.com/adriangb/scikeras) instead.\n",
      "  ANN_best = keras.wrappers.scikit_learn.KerasClassifier(build_nn, epochs= 200, verbose=False)\n"
     ]
    },
    {
     "name": "stdout",
     "output_type": "stream",
     "text": [
      "[Voting] ...................... (1 of 4) Processing KNN, total=   0.0s\n",
      "[Voting] ...................... (2 of 4) Processing SVC, total=   4.2s\n",
      "[Voting] ..................... (3 of 4) Processing LGBM, total=   0.2s\n",
      "WARNING:tensorflow:Error in loading the saved optimizer state. As a result, your model is starting with a freshly initialized optimizer.\n",
      "[Voting] ...................... (4 of 4) Processing ANN, total=  21.1s\n",
      "Iterazione 632 [[0 0]\n",
      " [1 3]]\n",
      "accuracy 0.75\n"
     ]
    },
    {
     "name": "stderr",
     "output_type": "stream",
     "text": [
      "<ipython-input-54-0786b9e49dc3>:22: DeprecationWarning: KerasClassifier is deprecated, use Sci-Keras (https://github.com/adriangb/scikeras) instead.\n",
      "  ANN_best = keras.wrappers.scikit_learn.KerasClassifier(build_nn, epochs= 200, verbose=False)\n"
     ]
    },
    {
     "name": "stdout",
     "output_type": "stream",
     "text": [
      "[Voting] ...................... (1 of 4) Processing KNN, total=   0.0s\n",
      "[Voting] ...................... (2 of 4) Processing SVC, total=   4.3s\n",
      "[Voting] ..................... (3 of 4) Processing LGBM, total=   0.2s\n",
      "WARNING:tensorflow:Error in loading the saved optimizer state. As a result, your model is starting with a freshly initialized optimizer.\n",
      "[Voting] ...................... (4 of 4) Processing ANN, total=  21.3s\n",
      "Iterazione 633 [[0 0]\n",
      " [2 0]]\n",
      "accuracy 0.0\n"
     ]
    },
    {
     "name": "stderr",
     "output_type": "stream",
     "text": [
      "<ipython-input-54-0786b9e49dc3>:22: DeprecationWarning: KerasClassifier is deprecated, use Sci-Keras (https://github.com/adriangb/scikeras) instead.\n",
      "  ANN_best = keras.wrappers.scikit_learn.KerasClassifier(build_nn, epochs= 200, verbose=False)\n"
     ]
    },
    {
     "name": "stdout",
     "output_type": "stream",
     "text": [
      "[Voting] ...................... (1 of 4) Processing KNN, total=   0.0s\n",
      "[Voting] ...................... (2 of 4) Processing SVC, total=   4.5s\n",
      "[Voting] ..................... (3 of 4) Processing LGBM, total=   0.3s\n",
      "WARNING:tensorflow:Error in loading the saved optimizer state. As a result, your model is starting with a freshly initialized optimizer.\n",
      "[Voting] ...................... (4 of 4) Processing ANN, total=  21.2s\n",
      "Iterazione 634 [[0 0]\n",
      " [5 1]]\n",
      "accuracy 0.16666666666666666\n"
     ]
    },
    {
     "name": "stderr",
     "output_type": "stream",
     "text": [
      "<ipython-input-54-0786b9e49dc3>:22: DeprecationWarning: KerasClassifier is deprecated, use Sci-Keras (https://github.com/adriangb/scikeras) instead.\n",
      "  ANN_best = keras.wrappers.scikit_learn.KerasClassifier(build_nn, epochs= 200, verbose=False)\n"
     ]
    },
    {
     "name": "stdout",
     "output_type": "stream",
     "text": [
      "[Voting] ...................... (1 of 4) Processing KNN, total=   0.0s\n",
      "[Voting] ...................... (2 of 4) Processing SVC, total=   4.3s\n",
      "[Voting] ..................... (3 of 4) Processing LGBM, total=   0.2s\n",
      "WARNING:tensorflow:Error in loading the saved optimizer state. As a result, your model is starting with a freshly initialized optimizer.\n",
      "[Voting] ...................... (4 of 4) Processing ANN, total=  21.3s\n",
      "Iterazione 635 [[0 1]\n",
      " [0 0]]\n",
      "accuracy 0.0\n"
     ]
    },
    {
     "name": "stderr",
     "output_type": "stream",
     "text": [
      "<ipython-input-54-0786b9e49dc3>:22: DeprecationWarning: KerasClassifier is deprecated, use Sci-Keras (https://github.com/adriangb/scikeras) instead.\n",
      "  ANN_best = keras.wrappers.scikit_learn.KerasClassifier(build_nn, epochs= 200, verbose=False)\n"
     ]
    },
    {
     "name": "stdout",
     "output_type": "stream",
     "text": [
      "[Voting] ...................... (1 of 4) Processing KNN, total=   0.0s\n",
      "[Voting] ...................... (2 of 4) Processing SVC, total=   4.4s\n",
      "[Voting] ..................... (3 of 4) Processing LGBM, total=   0.2s\n",
      "WARNING:tensorflow:Error in loading the saved optimizer state. As a result, your model is starting with a freshly initialized optimizer.\n",
      "[Voting] ...................... (4 of 4) Processing ANN, total=  21.1s\n",
      "Iterazione 636 [[0 0]\n",
      " [0 6]]\n",
      "accuracy 1.0\n"
     ]
    },
    {
     "name": "stderr",
     "output_type": "stream",
     "text": [
      "<ipython-input-54-0786b9e49dc3>:22: DeprecationWarning: KerasClassifier is deprecated, use Sci-Keras (https://github.com/adriangb/scikeras) instead.\n",
      "  ANN_best = keras.wrappers.scikit_learn.KerasClassifier(build_nn, epochs= 200, verbose=False)\n"
     ]
    },
    {
     "name": "stdout",
     "output_type": "stream",
     "text": [
      "[Voting] ...................... (1 of 4) Processing KNN, total=   0.0s\n",
      "[Voting] ...................... (2 of 4) Processing SVC, total=   4.5s\n",
      "[Voting] ..................... (3 of 4) Processing LGBM, total=   0.2s\n",
      "WARNING:tensorflow:Error in loading the saved optimizer state. As a result, your model is starting with a freshly initialized optimizer.\n",
      "[Voting] ...................... (4 of 4) Processing ANN, total=  21.1s\n",
      "Iterazione 637 [[0 0]\n",
      " [0 4]]\n",
      "accuracy 1.0\n"
     ]
    },
    {
     "name": "stderr",
     "output_type": "stream",
     "text": [
      "<ipython-input-54-0786b9e49dc3>:22: DeprecationWarning: KerasClassifier is deprecated, use Sci-Keras (https://github.com/adriangb/scikeras) instead.\n",
      "  ANN_best = keras.wrappers.scikit_learn.KerasClassifier(build_nn, epochs= 200, verbose=False)\n"
     ]
    },
    {
     "name": "stdout",
     "output_type": "stream",
     "text": [
      "[Voting] ...................... (1 of 4) Processing KNN, total=   0.0s\n",
      "[Voting] ...................... (2 of 4) Processing SVC, total=   4.4s\n",
      "[Voting] ..................... (3 of 4) Processing LGBM, total=   0.3s\n",
      "WARNING:tensorflow:Error in loading the saved optimizer state. As a result, your model is starting with a freshly initialized optimizer.\n",
      "[Voting] ...................... (4 of 4) Processing ANN, total=  21.2s\n",
      "Iterazione 638 [[2 1]\n",
      " [0 0]]\n",
      "accuracy 0.6666666666666666\n"
     ]
    },
    {
     "name": "stderr",
     "output_type": "stream",
     "text": [
      "<ipython-input-54-0786b9e49dc3>:22: DeprecationWarning: KerasClassifier is deprecated, use Sci-Keras (https://github.com/adriangb/scikeras) instead.\n",
      "  ANN_best = keras.wrappers.scikit_learn.KerasClassifier(build_nn, epochs= 200, verbose=False)\n"
     ]
    },
    {
     "name": "stdout",
     "output_type": "stream",
     "text": [
      "[Voting] ...................... (1 of 4) Processing KNN, total=   0.0s\n",
      "[Voting] ...................... (2 of 4) Processing SVC, total=   4.1s\n",
      "[Voting] ..................... (3 of 4) Processing LGBM, total=   0.2s\n",
      "WARNING:tensorflow:Error in loading the saved optimizer state. As a result, your model is starting with a freshly initialized optimizer.\n",
      "[Voting] ...................... (4 of 4) Processing ANN, total=  21.0s\n",
      "Iterazione 639 [[0 0]\n",
      " [2 1]]\n",
      "accuracy 0.3333333333333333\n"
     ]
    },
    {
     "name": "stderr",
     "output_type": "stream",
     "text": [
      "<ipython-input-54-0786b9e49dc3>:22: DeprecationWarning: KerasClassifier is deprecated, use Sci-Keras (https://github.com/adriangb/scikeras) instead.\n",
      "  ANN_best = keras.wrappers.scikit_learn.KerasClassifier(build_nn, epochs= 200, verbose=False)\n"
     ]
    },
    {
     "name": "stdout",
     "output_type": "stream",
     "text": [
      "[Voting] ...................... (1 of 4) Processing KNN, total=   0.0s\n",
      "[Voting] ...................... (2 of 4) Processing SVC, total=   4.2s\n",
      "[Voting] ..................... (3 of 4) Processing LGBM, total=   0.2s\n",
      "WARNING:tensorflow:Error in loading the saved optimizer state. As a result, your model is starting with a freshly initialized optimizer.\n",
      "[Voting] ...................... (4 of 4) Processing ANN, total=  20.9s\n",
      "Iterazione 640 [[0 2]\n",
      " [0 0]]\n",
      "accuracy 0.0\n"
     ]
    },
    {
     "name": "stderr",
     "output_type": "stream",
     "text": [
      "<ipython-input-54-0786b9e49dc3>:22: DeprecationWarning: KerasClassifier is deprecated, use Sci-Keras (https://github.com/adriangb/scikeras) instead.\n",
      "  ANN_best = keras.wrappers.scikit_learn.KerasClassifier(build_nn, epochs= 200, verbose=False)\n"
     ]
    },
    {
     "name": "stdout",
     "output_type": "stream",
     "text": [
      "[Voting] ...................... (1 of 4) Processing KNN, total=   0.0s\n",
      "[Voting] ...................... (2 of 4) Processing SVC, total=   4.2s\n",
      "[Voting] ..................... (3 of 4) Processing LGBM, total=   0.2s\n",
      "WARNING:tensorflow:Error in loading the saved optimizer state. As a result, your model is starting with a freshly initialized optimizer.\n",
      "[Voting] ...................... (4 of 4) Processing ANN, total=  21.1s\n",
      "Iterazione 641 [[2 0]\n",
      " [0 0]]\n",
      "accuracy 1.0\n"
     ]
    },
    {
     "name": "stderr",
     "output_type": "stream",
     "text": [
      "<ipython-input-54-0786b9e49dc3>:22: DeprecationWarning: KerasClassifier is deprecated, use Sci-Keras (https://github.com/adriangb/scikeras) instead.\n",
      "  ANN_best = keras.wrappers.scikit_learn.KerasClassifier(build_nn, epochs= 200, verbose=False)\n"
     ]
    },
    {
     "name": "stdout",
     "output_type": "stream",
     "text": [
      "[Voting] ...................... (1 of 4) Processing KNN, total=   0.0s\n",
      "[Voting] ...................... (2 of 4) Processing SVC, total=   4.2s\n",
      "[Voting] ..................... (3 of 4) Processing LGBM, total=   0.2s\n",
      "WARNING:tensorflow:Error in loading the saved optimizer state. As a result, your model is starting with a freshly initialized optimizer.\n",
      "[Voting] ...................... (4 of 4) Processing ANN, total=  20.9s\n",
      "Iterazione 642 [[3 0]\n",
      " [0 0]]\n",
      "accuracy 1.0\n"
     ]
    },
    {
     "name": "stderr",
     "output_type": "stream",
     "text": [
      "<ipython-input-54-0786b9e49dc3>:22: DeprecationWarning: KerasClassifier is deprecated, use Sci-Keras (https://github.com/adriangb/scikeras) instead.\n",
      "  ANN_best = keras.wrappers.scikit_learn.KerasClassifier(build_nn, epochs= 200, verbose=False)\n"
     ]
    },
    {
     "name": "stdout",
     "output_type": "stream",
     "text": [
      "[Voting] ...................... (1 of 4) Processing KNN, total=   0.0s\n",
      "[Voting] ...................... (2 of 4) Processing SVC, total=   4.3s\n",
      "[Voting] ..................... (3 of 4) Processing LGBM, total=   0.2s\n",
      "WARNING:tensorflow:Error in loading the saved optimizer state. As a result, your model is starting with a freshly initialized optimizer.\n",
      "[Voting] ...................... (4 of 4) Processing ANN, total=  21.0s\n",
      "Iterazione 643 [[0 0]\n",
      " [1 3]]\n",
      "accuracy 0.75\n"
     ]
    },
    {
     "name": "stderr",
     "output_type": "stream",
     "text": [
      "<ipython-input-54-0786b9e49dc3>:22: DeprecationWarning: KerasClassifier is deprecated, use Sci-Keras (https://github.com/adriangb/scikeras) instead.\n",
      "  ANN_best = keras.wrappers.scikit_learn.KerasClassifier(build_nn, epochs= 200, verbose=False)\n"
     ]
    },
    {
     "name": "stdout",
     "output_type": "stream",
     "text": [
      "[Voting] ...................... (1 of 4) Processing KNN, total=   0.0s\n",
      "[Voting] ...................... (2 of 4) Processing SVC, total=   4.4s\n",
      "[Voting] ..................... (3 of 4) Processing LGBM, total=   0.2s\n",
      "WARNING:tensorflow:Error in loading the saved optimizer state. As a result, your model is starting with a freshly initialized optimizer.\n",
      "[Voting] ...................... (4 of 4) Processing ANN, total=  21.1s\n",
      "Iterazione 644 [[4 0]\n",
      " [0 0]]\n",
      "accuracy 1.0\n"
     ]
    },
    {
     "name": "stderr",
     "output_type": "stream",
     "text": [
      "<ipython-input-54-0786b9e49dc3>:22: DeprecationWarning: KerasClassifier is deprecated, use Sci-Keras (https://github.com/adriangb/scikeras) instead.\n",
      "  ANN_best = keras.wrappers.scikit_learn.KerasClassifier(build_nn, epochs= 200, verbose=False)\n"
     ]
    },
    {
     "name": "stdout",
     "output_type": "stream",
     "text": [
      "[Voting] ...................... (1 of 4) Processing KNN, total=   0.0s\n",
      "[Voting] ...................... (2 of 4) Processing SVC, total=   4.4s\n",
      "[Voting] ..................... (3 of 4) Processing LGBM, total=   0.2s\n",
      "WARNING:tensorflow:Error in loading the saved optimizer state. As a result, your model is starting with a freshly initialized optimizer.\n",
      "[Voting] ...................... (4 of 4) Processing ANN, total=  21.0s\n",
      "Iterazione 645 [[0 0]\n",
      " [1 3]]\n",
      "accuracy 0.75\n"
     ]
    },
    {
     "name": "stderr",
     "output_type": "stream",
     "text": [
      "<ipython-input-54-0786b9e49dc3>:22: DeprecationWarning: KerasClassifier is deprecated, use Sci-Keras (https://github.com/adriangb/scikeras) instead.\n",
      "  ANN_best = keras.wrappers.scikit_learn.KerasClassifier(build_nn, epochs= 200, verbose=False)\n"
     ]
    },
    {
     "name": "stdout",
     "output_type": "stream",
     "text": [
      "[Voting] ...................... (1 of 4) Processing KNN, total=   0.0s\n",
      "[Voting] ...................... (2 of 4) Processing SVC, total=   4.4s\n",
      "[Voting] ..................... (3 of 4) Processing LGBM, total=   0.2s\n",
      "WARNING:tensorflow:Error in loading the saved optimizer state. As a result, your model is starting with a freshly initialized optimizer.\n",
      "[Voting] ...................... (4 of 4) Processing ANN, total=  21.1s\n",
      "Iterazione 646 [[4 0]\n",
      " [0 0]]\n",
      "accuracy 1.0\n"
     ]
    },
    {
     "name": "stderr",
     "output_type": "stream",
     "text": [
      "<ipython-input-54-0786b9e49dc3>:22: DeprecationWarning: KerasClassifier is deprecated, use Sci-Keras (https://github.com/adriangb/scikeras) instead.\n",
      "  ANN_best = keras.wrappers.scikit_learn.KerasClassifier(build_nn, epochs= 200, verbose=False)\n"
     ]
    },
    {
     "name": "stdout",
     "output_type": "stream",
     "text": [
      "[Voting] ...................... (1 of 4) Processing KNN, total=   0.0s\n",
      "[Voting] ...................... (2 of 4) Processing SVC, total=   4.4s\n",
      "[Voting] ..................... (3 of 4) Processing LGBM, total=   0.2s\n",
      "WARNING:tensorflow:Error in loading the saved optimizer state. As a result, your model is starting with a freshly initialized optimizer.\n",
      "[Voting] ...................... (4 of 4) Processing ANN, total=  21.2s\n",
      "Iterazione 647 [[1 0]\n",
      " [0 0]]\n",
      "accuracy 1.0\n"
     ]
    },
    {
     "name": "stderr",
     "output_type": "stream",
     "text": [
      "<ipython-input-54-0786b9e49dc3>:22: DeprecationWarning: KerasClassifier is deprecated, use Sci-Keras (https://github.com/adriangb/scikeras) instead.\n",
      "  ANN_best = keras.wrappers.scikit_learn.KerasClassifier(build_nn, epochs= 200, verbose=False)\n"
     ]
    },
    {
     "name": "stdout",
     "output_type": "stream",
     "text": [
      "[Voting] ...................... (1 of 4) Processing KNN, total=   0.0s\n",
      "[Voting] ...................... (2 of 4) Processing SVC, total=   4.4s\n",
      "[Voting] ..................... (3 of 4) Processing LGBM, total=   0.3s\n",
      "WARNING:tensorflow:Error in loading the saved optimizer state. As a result, your model is starting with a freshly initialized optimizer.\n",
      "[Voting] ...................... (4 of 4) Processing ANN, total=  21.1s\n",
      "Iterazione 648 [[0 0]\n",
      " [3 0]]\n",
      "accuracy 0.0\n"
     ]
    },
    {
     "name": "stderr",
     "output_type": "stream",
     "text": [
      "<ipython-input-54-0786b9e49dc3>:22: DeprecationWarning: KerasClassifier is deprecated, use Sci-Keras (https://github.com/adriangb/scikeras) instead.\n",
      "  ANN_best = keras.wrappers.scikit_learn.KerasClassifier(build_nn, epochs= 200, verbose=False)\n"
     ]
    },
    {
     "name": "stdout",
     "output_type": "stream",
     "text": [
      "[Voting] ...................... (1 of 4) Processing KNN, total=   0.0s\n",
      "[Voting] ...................... (2 of 4) Processing SVC, total=   4.3s\n",
      "[Voting] ..................... (3 of 4) Processing LGBM, total=   0.2s\n",
      "WARNING:tensorflow:Error in loading the saved optimizer state. As a result, your model is starting with a freshly initialized optimizer.\n",
      "[Voting] ...................... (4 of 4) Processing ANN, total=  21.4s\n",
      "Iterazione 649 [[0 0]\n",
      " [1 6]]\n",
      "accuracy 0.8571428571428571\n"
     ]
    },
    {
     "name": "stderr",
     "output_type": "stream",
     "text": [
      "<ipython-input-54-0786b9e49dc3>:22: DeprecationWarning: KerasClassifier is deprecated, use Sci-Keras (https://github.com/adriangb/scikeras) instead.\n",
      "  ANN_best = keras.wrappers.scikit_learn.KerasClassifier(build_nn, epochs= 200, verbose=False)\n"
     ]
    },
    {
     "name": "stdout",
     "output_type": "stream",
     "text": [
      "[Voting] ...................... (1 of 4) Processing KNN, total=   0.0s\n",
      "[Voting] ...................... (2 of 4) Processing SVC, total=   4.1s\n",
      "[Voting] ..................... (3 of 4) Processing LGBM, total=   0.2s\n",
      "WARNING:tensorflow:Error in loading the saved optimizer state. As a result, your model is starting with a freshly initialized optimizer.\n",
      "[Voting] ...................... (4 of 4) Processing ANN, total=  21.3s\n",
      "Iterazione 650 [[0 0]\n",
      " [4 1]]\n",
      "accuracy 0.2\n"
     ]
    },
    {
     "name": "stderr",
     "output_type": "stream",
     "text": [
      "<ipython-input-54-0786b9e49dc3>:22: DeprecationWarning: KerasClassifier is deprecated, use Sci-Keras (https://github.com/adriangb/scikeras) instead.\n",
      "  ANN_best = keras.wrappers.scikit_learn.KerasClassifier(build_nn, epochs= 200, verbose=False)\n"
     ]
    },
    {
     "name": "stdout",
     "output_type": "stream",
     "text": [
      "[Voting] ...................... (1 of 4) Processing KNN, total=   0.0s\n",
      "[Voting] ...................... (2 of 4) Processing SVC, total=   4.3s\n",
      "[Voting] ..................... (3 of 4) Processing LGBM, total=   0.2s\n",
      "WARNING:tensorflow:Error in loading the saved optimizer state. As a result, your model is starting with a freshly initialized optimizer.\n",
      "[Voting] ...................... (4 of 4) Processing ANN, total=  21.1s\n",
      "Iterazione 651 [[0 6]\n",
      " [0 0]]\n",
      "accuracy 0.0\n"
     ]
    },
    {
     "name": "stderr",
     "output_type": "stream",
     "text": [
      "<ipython-input-54-0786b9e49dc3>:22: DeprecationWarning: KerasClassifier is deprecated, use Sci-Keras (https://github.com/adriangb/scikeras) instead.\n",
      "  ANN_best = keras.wrappers.scikit_learn.KerasClassifier(build_nn, epochs= 200, verbose=False)\n"
     ]
    },
    {
     "name": "stdout",
     "output_type": "stream",
     "text": [
      "[Voting] ...................... (1 of 4) Processing KNN, total=   0.0s\n",
      "[Voting] ...................... (2 of 4) Processing SVC, total=   4.4s\n",
      "[Voting] ..................... (3 of 4) Processing LGBM, total=   0.2s\n",
      "WARNING:tensorflow:Error in loading the saved optimizer state. As a result, your model is starting with a freshly initialized optimizer.\n",
      "[Voting] ...................... (4 of 4) Processing ANN, total=  21.1s\n",
      "Iterazione 652 [[3 0]\n",
      " [0 0]]\n",
      "accuracy 1.0\n"
     ]
    },
    {
     "name": "stderr",
     "output_type": "stream",
     "text": [
      "<ipython-input-54-0786b9e49dc3>:22: DeprecationWarning: KerasClassifier is deprecated, use Sci-Keras (https://github.com/adriangb/scikeras) instead.\n",
      "  ANN_best = keras.wrappers.scikit_learn.KerasClassifier(build_nn, epochs= 200, verbose=False)\n"
     ]
    },
    {
     "name": "stdout",
     "output_type": "stream",
     "text": [
      "[Voting] ...................... (1 of 4) Processing KNN, total=   0.0s\n",
      "[Voting] ...................... (2 of 4) Processing SVC, total=   4.2s\n",
      "[Voting] ..................... (3 of 4) Processing LGBM, total=   0.2s\n",
      "WARNING:tensorflow:Error in loading the saved optimizer state. As a result, your model is starting with a freshly initialized optimizer.\n",
      "[Voting] ...................... (4 of 4) Processing ANN, total=  21.1s\n",
      "Iterazione 653 [[0 0]\n",
      " [4 5]]\n",
      "accuracy 0.5555555555555556\n"
     ]
    },
    {
     "name": "stderr",
     "output_type": "stream",
     "text": [
      "<ipython-input-54-0786b9e49dc3>:22: DeprecationWarning: KerasClassifier is deprecated, use Sci-Keras (https://github.com/adriangb/scikeras) instead.\n",
      "  ANN_best = keras.wrappers.scikit_learn.KerasClassifier(build_nn, epochs= 200, verbose=False)\n"
     ]
    },
    {
     "name": "stdout",
     "output_type": "stream",
     "text": [
      "[Voting] ...................... (1 of 4) Processing KNN, total=   0.0s\n",
      "[Voting] ...................... (2 of 4) Processing SVC, total=   4.3s\n",
      "[Voting] ..................... (3 of 4) Processing LGBM, total=   0.2s\n",
      "WARNING:tensorflow:Error in loading the saved optimizer state. As a result, your model is starting with a freshly initialized optimizer.\n",
      "[Voting] ...................... (4 of 4) Processing ANN, total=  21.1s\n",
      "Iterazione 654 [[0 0]\n",
      " [2 1]]\n",
      "accuracy 0.3333333333333333\n"
     ]
    },
    {
     "name": "stderr",
     "output_type": "stream",
     "text": [
      "<ipython-input-54-0786b9e49dc3>:22: DeprecationWarning: KerasClassifier is deprecated, use Sci-Keras (https://github.com/adriangb/scikeras) instead.\n",
      "  ANN_best = keras.wrappers.scikit_learn.KerasClassifier(build_nn, epochs= 200, verbose=False)\n"
     ]
    },
    {
     "name": "stdout",
     "output_type": "stream",
     "text": [
      "[Voting] ...................... (1 of 4) Processing KNN, total=   0.0s\n",
      "[Voting] ...................... (2 of 4) Processing SVC, total=   4.4s\n",
      "[Voting] ..................... (3 of 4) Processing LGBM, total=   0.2s\n",
      "WARNING:tensorflow:Error in loading the saved optimizer state. As a result, your model is starting with a freshly initialized optimizer.\n",
      "[Voting] ...................... (4 of 4) Processing ANN, total=  21.0s\n",
      "Iterazione 655 [[0 0]\n",
      " [1 7]]\n",
      "accuracy 0.875\n"
     ]
    },
    {
     "name": "stderr",
     "output_type": "stream",
     "text": [
      "<ipython-input-54-0786b9e49dc3>:22: DeprecationWarning: KerasClassifier is deprecated, use Sci-Keras (https://github.com/adriangb/scikeras) instead.\n",
      "  ANN_best = keras.wrappers.scikit_learn.KerasClassifier(build_nn, epochs= 200, verbose=False)\n"
     ]
    },
    {
     "name": "stdout",
     "output_type": "stream",
     "text": [
      "[Voting] ...................... (1 of 4) Processing KNN, total=   0.0s\n",
      "[Voting] ...................... (2 of 4) Processing SVC, total=   4.2s\n",
      "[Voting] ..................... (3 of 4) Processing LGBM, total=   0.2s\n",
      "WARNING:tensorflow:Error in loading the saved optimizer state. As a result, your model is starting with a freshly initialized optimizer.\n",
      "[Voting] ...................... (4 of 4) Processing ANN, total=  21.3s\n",
      "Iterazione 656 [[0 0]\n",
      " [1 7]]\n",
      "accuracy 0.875\n"
     ]
    },
    {
     "name": "stderr",
     "output_type": "stream",
     "text": [
      "<ipython-input-54-0786b9e49dc3>:22: DeprecationWarning: KerasClassifier is deprecated, use Sci-Keras (https://github.com/adriangb/scikeras) instead.\n",
      "  ANN_best = keras.wrappers.scikit_learn.KerasClassifier(build_nn, epochs= 200, verbose=False)\n"
     ]
    },
    {
     "name": "stdout",
     "output_type": "stream",
     "text": [
      "[Voting] ...................... (1 of 4) Processing KNN, total=   0.0s\n",
      "[Voting] ...................... (2 of 4) Processing SVC, total=   4.3s\n",
      "[Voting] ..................... (3 of 4) Processing LGBM, total=   0.2s\n",
      "WARNING:tensorflow:Error in loading the saved optimizer state. As a result, your model is starting with a freshly initialized optimizer.\n",
      "[Voting] ...................... (4 of 4) Processing ANN, total=  21.0s\n",
      "Iterazione 657 [[0 0]\n",
      " [3 6]]\n",
      "accuracy 0.6666666666666666\n"
     ]
    },
    {
     "name": "stderr",
     "output_type": "stream",
     "text": [
      "<ipython-input-54-0786b9e49dc3>:22: DeprecationWarning: KerasClassifier is deprecated, use Sci-Keras (https://github.com/adriangb/scikeras) instead.\n",
      "  ANN_best = keras.wrappers.scikit_learn.KerasClassifier(build_nn, epochs= 200, verbose=False)\n"
     ]
    },
    {
     "name": "stdout",
     "output_type": "stream",
     "text": [
      "[Voting] ...................... (1 of 4) Processing KNN, total=   0.0s\n",
      "[Voting] ...................... (2 of 4) Processing SVC, total=   4.3s\n",
      "[Voting] ..................... (3 of 4) Processing LGBM, total=   0.2s\n",
      "WARNING:tensorflow:Error in loading the saved optimizer state. As a result, your model is starting with a freshly initialized optimizer.\n",
      "[Voting] ...................... (4 of 4) Processing ANN, total=  21.2s\n",
      "Iterazione 658 [[0 0]\n",
      " [2 4]]\n",
      "accuracy 0.6666666666666666\n"
     ]
    },
    {
     "name": "stderr",
     "output_type": "stream",
     "text": [
      "<ipython-input-54-0786b9e49dc3>:22: DeprecationWarning: KerasClassifier is deprecated, use Sci-Keras (https://github.com/adriangb/scikeras) instead.\n",
      "  ANN_best = keras.wrappers.scikit_learn.KerasClassifier(build_nn, epochs= 200, verbose=False)\n"
     ]
    },
    {
     "name": "stdout",
     "output_type": "stream",
     "text": [
      "[Voting] ...................... (1 of 4) Processing KNN, total=   0.0s\n",
      "[Voting] ...................... (2 of 4) Processing SVC, total=   4.7s\n",
      "[Voting] ..................... (3 of 4) Processing LGBM, total=   0.2s\n",
      "WARNING:tensorflow:Error in loading the saved optimizer state. As a result, your model is starting with a freshly initialized optimizer.\n",
      "[Voting] ...................... (4 of 4) Processing ANN, total=  21.6s\n",
      "Iterazione 659 [[0 0]\n",
      " [1 1]]\n",
      "accuracy 0.5\n"
     ]
    },
    {
     "name": "stderr",
     "output_type": "stream",
     "text": [
      "<ipython-input-54-0786b9e49dc3>:22: DeprecationWarning: KerasClassifier is deprecated, use Sci-Keras (https://github.com/adriangb/scikeras) instead.\n",
      "  ANN_best = keras.wrappers.scikit_learn.KerasClassifier(build_nn, epochs= 200, verbose=False)\n"
     ]
    },
    {
     "name": "stdout",
     "output_type": "stream",
     "text": [
      "[Voting] ...................... (1 of 4) Processing KNN, total=   0.0s\n",
      "[Voting] ...................... (2 of 4) Processing SVC, total=   4.5s\n",
      "[Voting] ..................... (3 of 4) Processing LGBM, total=   0.2s\n",
      "WARNING:tensorflow:Error in loading the saved optimizer state. As a result, your model is starting with a freshly initialized optimizer.\n",
      "[Voting] ...................... (4 of 4) Processing ANN, total=  21.1s\n",
      "Iterazione 660 [[0 0]\n",
      " [2 1]]\n",
      "accuracy 0.3333333333333333\n"
     ]
    },
    {
     "name": "stderr",
     "output_type": "stream",
     "text": [
      "<ipython-input-54-0786b9e49dc3>:22: DeprecationWarning: KerasClassifier is deprecated, use Sci-Keras (https://github.com/adriangb/scikeras) instead.\n",
      "  ANN_best = keras.wrappers.scikit_learn.KerasClassifier(build_nn, epochs= 200, verbose=False)\n"
     ]
    },
    {
     "name": "stdout",
     "output_type": "stream",
     "text": [
      "[Voting] ...................... (1 of 4) Processing KNN, total=   0.0s\n",
      "[Voting] ...................... (2 of 4) Processing SVC, total=   4.4s\n",
      "[Voting] ..................... (3 of 4) Processing LGBM, total=   0.2s\n",
      "WARNING:tensorflow:Error in loading the saved optimizer state. As a result, your model is starting with a freshly initialized optimizer.\n",
      "[Voting] ...................... (4 of 4) Processing ANN, total=  21.2s\n",
      "Iterazione 661 [[0 0]\n",
      " [0 1]]\n",
      "accuracy 1.0\n"
     ]
    },
    {
     "name": "stderr",
     "output_type": "stream",
     "text": [
      "<ipython-input-54-0786b9e49dc3>:22: DeprecationWarning: KerasClassifier is deprecated, use Sci-Keras (https://github.com/adriangb/scikeras) instead.\n",
      "  ANN_best = keras.wrappers.scikit_learn.KerasClassifier(build_nn, epochs= 200, verbose=False)\n"
     ]
    },
    {
     "name": "stdout",
     "output_type": "stream",
     "text": [
      "[Voting] ...................... (1 of 4) Processing KNN, total=   0.0s\n",
      "[Voting] ...................... (2 of 4) Processing SVC, total=   4.3s\n",
      "[Voting] ..................... (3 of 4) Processing LGBM, total=   0.2s\n",
      "WARNING:tensorflow:Error in loading the saved optimizer state. As a result, your model is starting with a freshly initialized optimizer.\n",
      "[Voting] ...................... (4 of 4) Processing ANN, total=  20.9s\n",
      "Iterazione 662 [[ 0  0]\n",
      " [ 0 10]]\n",
      "accuracy 1.0\n"
     ]
    },
    {
     "name": "stderr",
     "output_type": "stream",
     "text": [
      "<ipython-input-54-0786b9e49dc3>:22: DeprecationWarning: KerasClassifier is deprecated, use Sci-Keras (https://github.com/adriangb/scikeras) instead.\n",
      "  ANN_best = keras.wrappers.scikit_learn.KerasClassifier(build_nn, epochs= 200, verbose=False)\n"
     ]
    },
    {
     "name": "stdout",
     "output_type": "stream",
     "text": [
      "[Voting] ...................... (1 of 4) Processing KNN, total=   0.0s\n",
      "[Voting] ...................... (2 of 4) Processing SVC, total=   4.3s\n",
      "[Voting] ..................... (3 of 4) Processing LGBM, total=   0.2s\n",
      "WARNING:tensorflow:Error in loading the saved optimizer state. As a result, your model is starting with a freshly initialized optimizer.\n",
      "[Voting] ...................... (4 of 4) Processing ANN, total=  21.1s\n",
      "Iterazione 663 [[0 0]\n",
      " [1 1]]\n",
      "accuracy 0.5\n"
     ]
    },
    {
     "name": "stderr",
     "output_type": "stream",
     "text": [
      "<ipython-input-54-0786b9e49dc3>:22: DeprecationWarning: KerasClassifier is deprecated, use Sci-Keras (https://github.com/adriangb/scikeras) instead.\n",
      "  ANN_best = keras.wrappers.scikit_learn.KerasClassifier(build_nn, epochs= 200, verbose=False)\n"
     ]
    },
    {
     "name": "stdout",
     "output_type": "stream",
     "text": [
      "[Voting] ...................... (1 of 4) Processing KNN, total=   0.0s\n",
      "[Voting] ...................... (2 of 4) Processing SVC, total=   4.1s\n",
      "[Voting] ..................... (3 of 4) Processing LGBM, total=   0.2s\n",
      "WARNING:tensorflow:Error in loading the saved optimizer state. As a result, your model is starting with a freshly initialized optimizer.\n",
      "[Voting] ...................... (4 of 4) Processing ANN, total=  21.1s\n",
      "Iterazione 664 [[0 0]\n",
      " [1 1]]\n",
      "accuracy 0.5\n"
     ]
    },
    {
     "name": "stderr",
     "output_type": "stream",
     "text": [
      "<ipython-input-54-0786b9e49dc3>:22: DeprecationWarning: KerasClassifier is deprecated, use Sci-Keras (https://github.com/adriangb/scikeras) instead.\n",
      "  ANN_best = keras.wrappers.scikit_learn.KerasClassifier(build_nn, epochs= 200, verbose=False)\n"
     ]
    },
    {
     "name": "stdout",
     "output_type": "stream",
     "text": [
      "[Voting] ...................... (1 of 4) Processing KNN, total=   0.0s\n",
      "[Voting] ...................... (2 of 4) Processing SVC, total=   4.3s\n",
      "[Voting] ..................... (3 of 4) Processing LGBM, total=   0.2s\n",
      "WARNING:tensorflow:Error in loading the saved optimizer state. As a result, your model is starting with a freshly initialized optimizer.\n",
      "[Voting] ...................... (4 of 4) Processing ANN, total=  21.4s\n",
      "Iterazione 665 [[0 0]\n",
      " [1 2]]\n",
      "accuracy 0.6666666666666666\n"
     ]
    },
    {
     "name": "stderr",
     "output_type": "stream",
     "text": [
      "<ipython-input-54-0786b9e49dc3>:22: DeprecationWarning: KerasClassifier is deprecated, use Sci-Keras (https://github.com/adriangb/scikeras) instead.\n",
      "  ANN_best = keras.wrappers.scikit_learn.KerasClassifier(build_nn, epochs= 200, verbose=False)\n"
     ]
    },
    {
     "name": "stdout",
     "output_type": "stream",
     "text": [
      "[Voting] ...................... (1 of 4) Processing KNN, total=   0.0s\n",
      "[Voting] ...................... (2 of 4) Processing SVC, total=   4.3s\n",
      "[Voting] ..................... (3 of 4) Processing LGBM, total=   0.2s\n",
      "WARNING:tensorflow:Error in loading the saved optimizer state. As a result, your model is starting with a freshly initialized optimizer.\n",
      "[Voting] ...................... (4 of 4) Processing ANN, total=  20.8s\n",
      "Iterazione 666 [[1 1]\n",
      " [0 0]]\n",
      "accuracy 0.5\n"
     ]
    },
    {
     "name": "stderr",
     "output_type": "stream",
     "text": [
      "<ipython-input-54-0786b9e49dc3>:22: DeprecationWarning: KerasClassifier is deprecated, use Sci-Keras (https://github.com/adriangb/scikeras) instead.\n",
      "  ANN_best = keras.wrappers.scikit_learn.KerasClassifier(build_nn, epochs= 200, verbose=False)\n"
     ]
    },
    {
     "name": "stdout",
     "output_type": "stream",
     "text": [
      "[Voting] ...................... (1 of 4) Processing KNN, total=   0.0s\n",
      "[Voting] ...................... (2 of 4) Processing SVC, total=   4.3s\n",
      "[Voting] ..................... (3 of 4) Processing LGBM, total=   0.2s\n",
      "WARNING:tensorflow:Error in loading the saved optimizer state. As a result, your model is starting with a freshly initialized optimizer.\n",
      "[Voting] ...................... (4 of 4) Processing ANN, total=  20.9s\n",
      "Iterazione 667 [[1 1]\n",
      " [0 0]]\n",
      "accuracy 0.5\n"
     ]
    },
    {
     "name": "stderr",
     "output_type": "stream",
     "text": [
      "<ipython-input-54-0786b9e49dc3>:22: DeprecationWarning: KerasClassifier is deprecated, use Sci-Keras (https://github.com/adriangb/scikeras) instead.\n",
      "  ANN_best = keras.wrappers.scikit_learn.KerasClassifier(build_nn, epochs= 200, verbose=False)\n"
     ]
    },
    {
     "name": "stdout",
     "output_type": "stream",
     "text": [
      "[Voting] ...................... (1 of 4) Processing KNN, total=   0.0s\n",
      "[Voting] ...................... (2 of 4) Processing SVC, total=   4.3s\n",
      "[Voting] ..................... (3 of 4) Processing LGBM, total=   0.2s\n",
      "WARNING:tensorflow:Error in loading the saved optimizer state. As a result, your model is starting with a freshly initialized optimizer.\n",
      "[Voting] ...................... (4 of 4) Processing ANN, total=  21.1s\n",
      "Iterazione 668 [[2 4]\n",
      " [0 0]]\n",
      "accuracy 0.3333333333333333\n"
     ]
    },
    {
     "name": "stderr",
     "output_type": "stream",
     "text": [
      "<ipython-input-54-0786b9e49dc3>:22: DeprecationWarning: KerasClassifier is deprecated, use Sci-Keras (https://github.com/adriangb/scikeras) instead.\n",
      "  ANN_best = keras.wrappers.scikit_learn.KerasClassifier(build_nn, epochs= 200, verbose=False)\n"
     ]
    },
    {
     "name": "stdout",
     "output_type": "stream",
     "text": [
      "[Voting] ...................... (1 of 4) Processing KNN, total=   0.0s\n",
      "[Voting] ...................... (2 of 4) Processing SVC, total=   4.1s\n",
      "[Voting] ..................... (3 of 4) Processing LGBM, total=   0.2s\n",
      "WARNING:tensorflow:Error in loading the saved optimizer state. As a result, your model is starting with a freshly initialized optimizer.\n",
      "[Voting] ...................... (4 of 4) Processing ANN, total=  21.2s\n",
      "Iterazione 669 [[2 2]\n",
      " [0 0]]\n",
      "accuracy 0.5\n"
     ]
    },
    {
     "name": "stderr",
     "output_type": "stream",
     "text": [
      "<ipython-input-54-0786b9e49dc3>:22: DeprecationWarning: KerasClassifier is deprecated, use Sci-Keras (https://github.com/adriangb/scikeras) instead.\n",
      "  ANN_best = keras.wrappers.scikit_learn.KerasClassifier(build_nn, epochs= 200, verbose=False)\n"
     ]
    },
    {
     "name": "stdout",
     "output_type": "stream",
     "text": [
      "[Voting] ...................... (1 of 4) Processing KNN, total=   0.0s\n",
      "[Voting] ...................... (2 of 4) Processing SVC, total=   4.2s\n",
      "[Voting] ..................... (3 of 4) Processing LGBM, total=   0.4s\n",
      "WARNING:tensorflow:Error in loading the saved optimizer state. As a result, your model is starting with a freshly initialized optimizer.\n",
      "[Voting] ...................... (4 of 4) Processing ANN, total=  20.8s\n",
      "Iterazione 670 [[0 0]\n",
      " [2 0]]\n",
      "accuracy 0.0\n"
     ]
    },
    {
     "name": "stderr",
     "output_type": "stream",
     "text": [
      "<ipython-input-54-0786b9e49dc3>:22: DeprecationWarning: KerasClassifier is deprecated, use Sci-Keras (https://github.com/adriangb/scikeras) instead.\n",
      "  ANN_best = keras.wrappers.scikit_learn.KerasClassifier(build_nn, epochs= 200, verbose=False)\n"
     ]
    },
    {
     "name": "stdout",
     "output_type": "stream",
     "text": [
      "[Voting] ...................... (1 of 4) Processing KNN, total=   0.0s\n",
      "[Voting] ...................... (2 of 4) Processing SVC, total=   4.3s\n",
      "[Voting] ..................... (3 of 4) Processing LGBM, total=   0.2s\n",
      "WARNING:tensorflow:Error in loading the saved optimizer state. As a result, your model is starting with a freshly initialized optimizer.\n",
      "[Voting] ...................... (4 of 4) Processing ANN, total=  21.2s\n",
      "Iterazione 671 [[4 0]\n",
      " [0 0]]\n",
      "accuracy 1.0\n"
     ]
    },
    {
     "name": "stderr",
     "output_type": "stream",
     "text": [
      "<ipython-input-54-0786b9e49dc3>:22: DeprecationWarning: KerasClassifier is deprecated, use Sci-Keras (https://github.com/adriangb/scikeras) instead.\n",
      "  ANN_best = keras.wrappers.scikit_learn.KerasClassifier(build_nn, epochs= 200, verbose=False)\n"
     ]
    },
    {
     "name": "stdout",
     "output_type": "stream",
     "text": [
      "[Voting] ...................... (1 of 4) Processing KNN, total=   0.0s\n",
      "[Voting] ...................... (2 of 4) Processing SVC, total=   4.3s\n",
      "[Voting] ..................... (3 of 4) Processing LGBM, total=   0.2s\n",
      "WARNING:tensorflow:Error in loading the saved optimizer state. As a result, your model is starting with a freshly initialized optimizer.\n",
      "[Voting] ...................... (4 of 4) Processing ANN, total=  21.0s\n",
      "Iterazione 672 [[4 0]\n",
      " [0 0]]\n",
      "accuracy 1.0\n"
     ]
    },
    {
     "name": "stderr",
     "output_type": "stream",
     "text": [
      "<ipython-input-54-0786b9e49dc3>:22: DeprecationWarning: KerasClassifier is deprecated, use Sci-Keras (https://github.com/adriangb/scikeras) instead.\n",
      "  ANN_best = keras.wrappers.scikit_learn.KerasClassifier(build_nn, epochs= 200, verbose=False)\n"
     ]
    },
    {
     "name": "stdout",
     "output_type": "stream",
     "text": [
      "[Voting] ...................... (1 of 4) Processing KNN, total=   0.0s\n",
      "[Voting] ...................... (2 of 4) Processing SVC, total=   4.2s\n",
      "[Voting] ..................... (3 of 4) Processing LGBM, total=   0.2s\n",
      "WARNING:tensorflow:Error in loading the saved optimizer state. As a result, your model is starting with a freshly initialized optimizer.\n",
      "[Voting] ...................... (4 of 4) Processing ANN, total=  21.0s\n",
      "Iterazione 673 [[0 0]\n",
      " [1 1]]\n",
      "accuracy 0.5\n"
     ]
    },
    {
     "name": "stderr",
     "output_type": "stream",
     "text": [
      "<ipython-input-54-0786b9e49dc3>:22: DeprecationWarning: KerasClassifier is deprecated, use Sci-Keras (https://github.com/adriangb/scikeras) instead.\n",
      "  ANN_best = keras.wrappers.scikit_learn.KerasClassifier(build_nn, epochs= 200, verbose=False)\n"
     ]
    },
    {
     "name": "stdout",
     "output_type": "stream",
     "text": [
      "[Voting] ...................... (1 of 4) Processing KNN, total=   0.0s\n",
      "[Voting] ...................... (2 of 4) Processing SVC, total=   4.2s\n",
      "[Voting] ..................... (3 of 4) Processing LGBM, total=   0.2s\n",
      "WARNING:tensorflow:Error in loading the saved optimizer state. As a result, your model is starting with a freshly initialized optimizer.\n",
      "[Voting] ...................... (4 of 4) Processing ANN, total=  22.3s\n",
      "Iterazione 674 [[2 2]\n",
      " [0 0]]\n",
      "accuracy 0.5\n"
     ]
    },
    {
     "name": "stderr",
     "output_type": "stream",
     "text": [
      "<ipython-input-54-0786b9e49dc3>:22: DeprecationWarning: KerasClassifier is deprecated, use Sci-Keras (https://github.com/adriangb/scikeras) instead.\n",
      "  ANN_best = keras.wrappers.scikit_learn.KerasClassifier(build_nn, epochs= 200, verbose=False)\n"
     ]
    },
    {
     "name": "stdout",
     "output_type": "stream",
     "text": [
      "[Voting] ...................... (1 of 4) Processing KNN, total=   0.0s\n",
      "[Voting] ...................... (2 of 4) Processing SVC, total=   4.2s\n",
      "[Voting] ..................... (3 of 4) Processing LGBM, total=   0.2s\n",
      "WARNING:tensorflow:Error in loading the saved optimizer state. As a result, your model is starting with a freshly initialized optimizer.\n",
      "[Voting] ...................... (4 of 4) Processing ANN, total=  20.9s\n",
      "Iterazione 675 [[3 1]\n",
      " [0 0]]\n",
      "accuracy 0.75\n"
     ]
    },
    {
     "name": "stderr",
     "output_type": "stream",
     "text": [
      "<ipython-input-54-0786b9e49dc3>:22: DeprecationWarning: KerasClassifier is deprecated, use Sci-Keras (https://github.com/adriangb/scikeras) instead.\n",
      "  ANN_best = keras.wrappers.scikit_learn.KerasClassifier(build_nn, epochs= 200, verbose=False)\n"
     ]
    },
    {
     "name": "stdout",
     "output_type": "stream",
     "text": [
      "[Voting] ...................... (1 of 4) Processing KNN, total=   0.0s\n",
      "[Voting] ...................... (2 of 4) Processing SVC, total=   4.5s\n",
      "[Voting] ..................... (3 of 4) Processing LGBM, total=   0.3s\n",
      "WARNING:tensorflow:Error in loading the saved optimizer state. As a result, your model is starting with a freshly initialized optimizer.\n",
      "[Voting] ...................... (4 of 4) Processing ANN, total=  21.4s\n",
      "Iterazione 676 [[0 0]\n",
      " [0 6]]\n",
      "accuracy 1.0\n"
     ]
    },
    {
     "name": "stderr",
     "output_type": "stream",
     "text": [
      "<ipython-input-54-0786b9e49dc3>:22: DeprecationWarning: KerasClassifier is deprecated, use Sci-Keras (https://github.com/adriangb/scikeras) instead.\n",
      "  ANN_best = keras.wrappers.scikit_learn.KerasClassifier(build_nn, epochs= 200, verbose=False)\n"
     ]
    },
    {
     "name": "stdout",
     "output_type": "stream",
     "text": [
      "[Voting] ...................... (1 of 4) Processing KNN, total=   0.0s\n",
      "[Voting] ...................... (2 of 4) Processing SVC, total=   4.2s\n",
      "[Voting] ..................... (3 of 4) Processing LGBM, total=   0.2s\n",
      "WARNING:tensorflow:Error in loading the saved optimizer state. As a result, your model is starting with a freshly initialized optimizer.\n",
      "[Voting] ...................... (4 of 4) Processing ANN, total=  21.1s\n",
      "Iterazione 677 [[0 0]\n",
      " [0 4]]\n",
      "accuracy 1.0\n"
     ]
    },
    {
     "name": "stderr",
     "output_type": "stream",
     "text": [
      "<ipython-input-54-0786b9e49dc3>:22: DeprecationWarning: KerasClassifier is deprecated, use Sci-Keras (https://github.com/adriangb/scikeras) instead.\n",
      "  ANN_best = keras.wrappers.scikit_learn.KerasClassifier(build_nn, epochs= 200, verbose=False)\n"
     ]
    },
    {
     "name": "stdout",
     "output_type": "stream",
     "text": [
      "[Voting] ...................... (1 of 4) Processing KNN, total=   0.0s\n",
      "[Voting] ...................... (2 of 4) Processing SVC, total=   4.2s\n",
      "[Voting] ..................... (3 of 4) Processing LGBM, total=   0.2s\n",
      "WARNING:tensorflow:Error in loading the saved optimizer state. As a result, your model is starting with a freshly initialized optimizer.\n",
      "[Voting] ...................... (4 of 4) Processing ANN, total=  21.5s\n",
      "Iterazione 678 [[0 0]\n",
      " [2 3]]\n",
      "accuracy 0.6\n"
     ]
    },
    {
     "name": "stderr",
     "output_type": "stream",
     "text": [
      "<ipython-input-54-0786b9e49dc3>:22: DeprecationWarning: KerasClassifier is deprecated, use Sci-Keras (https://github.com/adriangb/scikeras) instead.\n",
      "  ANN_best = keras.wrappers.scikit_learn.KerasClassifier(build_nn, epochs= 200, verbose=False)\n"
     ]
    },
    {
     "name": "stdout",
     "output_type": "stream",
     "text": [
      "[Voting] ...................... (1 of 4) Processing KNN, total=   0.0s\n",
      "[Voting] ...................... (2 of 4) Processing SVC, total=   4.3s\n",
      "[Voting] ..................... (3 of 4) Processing LGBM, total=   0.4s\n",
      "WARNING:tensorflow:Error in loading the saved optimizer state. As a result, your model is starting with a freshly initialized optimizer.\n",
      "[Voting] ...................... (4 of 4) Processing ANN, total=  20.8s\n",
      "Iterazione 679 [[2 0]\n",
      " [0 0]]\n",
      "accuracy 1.0\n"
     ]
    },
    {
     "name": "stderr",
     "output_type": "stream",
     "text": [
      "<ipython-input-54-0786b9e49dc3>:22: DeprecationWarning: KerasClassifier is deprecated, use Sci-Keras (https://github.com/adriangb/scikeras) instead.\n",
      "  ANN_best = keras.wrappers.scikit_learn.KerasClassifier(build_nn, epochs= 200, verbose=False)\n"
     ]
    },
    {
     "name": "stdout",
     "output_type": "stream",
     "text": [
      "[Voting] ...................... (1 of 4) Processing KNN, total=   0.0s\n",
      "[Voting] ...................... (2 of 4) Processing SVC, total=   4.2s\n",
      "[Voting] ..................... (3 of 4) Processing LGBM, total=   0.2s\n",
      "WARNING:tensorflow:Error in loading the saved optimizer state. As a result, your model is starting with a freshly initialized optimizer.\n",
      "[Voting] ...................... (4 of 4) Processing ANN, total=  21.0s\n",
      "Iterazione 680 [[2 2]\n",
      " [0 0]]\n",
      "accuracy 0.5\n"
     ]
    },
    {
     "name": "stderr",
     "output_type": "stream",
     "text": [
      "<ipython-input-54-0786b9e49dc3>:22: DeprecationWarning: KerasClassifier is deprecated, use Sci-Keras (https://github.com/adriangb/scikeras) instead.\n",
      "  ANN_best = keras.wrappers.scikit_learn.KerasClassifier(build_nn, epochs= 200, verbose=False)\n"
     ]
    },
    {
     "name": "stdout",
     "output_type": "stream",
     "text": [
      "[Voting] ...................... (1 of 4) Processing KNN, total=   0.0s\n",
      "[Voting] ...................... (2 of 4) Processing SVC, total=   4.3s\n",
      "[Voting] ..................... (3 of 4) Processing LGBM, total=   0.2s\n",
      "WARNING:tensorflow:Error in loading the saved optimizer state. As a result, your model is starting with a freshly initialized optimizer.\n",
      "[Voting] ...................... (4 of 4) Processing ANN, total=  20.9s\n",
      "Iterazione 681 [[ 9 18]\n",
      " [ 0  0]]\n",
      "accuracy 0.3333333333333333\n"
     ]
    },
    {
     "name": "stderr",
     "output_type": "stream",
     "text": [
      "<ipython-input-54-0786b9e49dc3>:22: DeprecationWarning: KerasClassifier is deprecated, use Sci-Keras (https://github.com/adriangb/scikeras) instead.\n",
      "  ANN_best = keras.wrappers.scikit_learn.KerasClassifier(build_nn, epochs= 200, verbose=False)\n"
     ]
    },
    {
     "name": "stdout",
     "output_type": "stream",
     "text": [
      "[Voting] ...................... (1 of 4) Processing KNN, total=   0.0s\n",
      "[Voting] ...................... (2 of 4) Processing SVC, total=   4.3s\n",
      "[Voting] ..................... (3 of 4) Processing LGBM, total=   0.2s\n",
      "WARNING:tensorflow:Error in loading the saved optimizer state. As a result, your model is starting with a freshly initialized optimizer.\n",
      "[Voting] ...................... (4 of 4) Processing ANN, total=  20.9s\n",
      "Iterazione 682 [[0 0]\n",
      " [0 1]]\n",
      "accuracy 1.0\n"
     ]
    },
    {
     "name": "stderr",
     "output_type": "stream",
     "text": [
      "<ipython-input-54-0786b9e49dc3>:22: DeprecationWarning: KerasClassifier is deprecated, use Sci-Keras (https://github.com/adriangb/scikeras) instead.\n",
      "  ANN_best = keras.wrappers.scikit_learn.KerasClassifier(build_nn, epochs= 200, verbose=False)\n"
     ]
    },
    {
     "name": "stdout",
     "output_type": "stream",
     "text": [
      "[Voting] ...................... (1 of 4) Processing KNN, total=   0.0s\n",
      "[Voting] ...................... (2 of 4) Processing SVC, total=   4.4s\n",
      "[Voting] ..................... (3 of 4) Processing LGBM, total=   0.2s\n",
      "WARNING:tensorflow:Error in loading the saved optimizer state. As a result, your model is starting with a freshly initialized optimizer.\n",
      "[Voting] ...................... (4 of 4) Processing ANN, total=  21.0s\n",
      "Iterazione 683 [[4 1]\n",
      " [0 0]]\n",
      "accuracy 0.8\n"
     ]
    },
    {
     "name": "stderr",
     "output_type": "stream",
     "text": [
      "<ipython-input-54-0786b9e49dc3>:22: DeprecationWarning: KerasClassifier is deprecated, use Sci-Keras (https://github.com/adriangb/scikeras) instead.\n",
      "  ANN_best = keras.wrappers.scikit_learn.KerasClassifier(build_nn, epochs= 200, verbose=False)\n"
     ]
    },
    {
     "name": "stdout",
     "output_type": "stream",
     "text": [
      "[Voting] ...................... (1 of 4) Processing KNN, total=   0.0s\n",
      "[Voting] ...................... (2 of 4) Processing SVC, total=   4.4s\n",
      "[Voting] ..................... (3 of 4) Processing LGBM, total=   0.2s\n",
      "WARNING:tensorflow:Error in loading the saved optimizer state. As a result, your model is starting with a freshly initialized optimizer.\n",
      "[Voting] ...................... (4 of 4) Processing ANN, total=  21.3s\n",
      "Iterazione 684 [[4 4]\n",
      " [0 0]]\n",
      "accuracy 0.5\n"
     ]
    },
    {
     "name": "stderr",
     "output_type": "stream",
     "text": [
      "<ipython-input-54-0786b9e49dc3>:22: DeprecationWarning: KerasClassifier is deprecated, use Sci-Keras (https://github.com/adriangb/scikeras) instead.\n",
      "  ANN_best = keras.wrappers.scikit_learn.KerasClassifier(build_nn, epochs= 200, verbose=False)\n"
     ]
    },
    {
     "name": "stdout",
     "output_type": "stream",
     "text": [
      "[Voting] ...................... (1 of 4) Processing KNN, total=   0.0s\n",
      "[Voting] ...................... (2 of 4) Processing SVC, total=   4.3s\n",
      "[Voting] ..................... (3 of 4) Processing LGBM, total=   0.2s\n",
      "WARNING:tensorflow:Error in loading the saved optimizer state. As a result, your model is starting with a freshly initialized optimizer.\n",
      "[Voting] ...................... (4 of 4) Processing ANN, total=  21.3s\n",
      "Iterazione 685 [[1 2]\n",
      " [0 0]]\n",
      "accuracy 0.3333333333333333\n"
     ]
    },
    {
     "name": "stderr",
     "output_type": "stream",
     "text": [
      "<ipython-input-54-0786b9e49dc3>:22: DeprecationWarning: KerasClassifier is deprecated, use Sci-Keras (https://github.com/adriangb/scikeras) instead.\n",
      "  ANN_best = keras.wrappers.scikit_learn.KerasClassifier(build_nn, epochs= 200, verbose=False)\n"
     ]
    },
    {
     "name": "stdout",
     "output_type": "stream",
     "text": [
      "[Voting] ...................... (1 of 4) Processing KNN, total=   0.0s\n",
      "[Voting] ...................... (2 of 4) Processing SVC, total=   4.3s\n",
      "[Voting] ..................... (3 of 4) Processing LGBM, total=   0.2s\n",
      "WARNING:tensorflow:Error in loading the saved optimizer state. As a result, your model is starting with a freshly initialized optimizer.\n",
      "[Voting] ...................... (4 of 4) Processing ANN, total=  21.1s\n",
      "Iterazione 686 [[1 0]\n",
      " [0 0]]\n",
      "accuracy 1.0\n"
     ]
    },
    {
     "name": "stderr",
     "output_type": "stream",
     "text": [
      "<ipython-input-54-0786b9e49dc3>:22: DeprecationWarning: KerasClassifier is deprecated, use Sci-Keras (https://github.com/adriangb/scikeras) instead.\n",
      "  ANN_best = keras.wrappers.scikit_learn.KerasClassifier(build_nn, epochs= 200, verbose=False)\n"
     ]
    },
    {
     "name": "stdout",
     "output_type": "stream",
     "text": [
      "[Voting] ...................... (1 of 4) Processing KNN, total=   0.0s\n",
      "[Voting] ...................... (2 of 4) Processing SVC, total=   4.2s\n",
      "[Voting] ..................... (3 of 4) Processing LGBM, total=   0.2s\n",
      "WARNING:tensorflow:Error in loading the saved optimizer state. As a result, your model is starting with a freshly initialized optimizer.\n",
      "[Voting] ...................... (4 of 4) Processing ANN, total=  20.9s\n",
      "Iterazione 687 [[0 1]\n",
      " [0 0]]\n",
      "accuracy 0.0\n"
     ]
    },
    {
     "name": "stderr",
     "output_type": "stream",
     "text": [
      "<ipython-input-54-0786b9e49dc3>:22: DeprecationWarning: KerasClassifier is deprecated, use Sci-Keras (https://github.com/adriangb/scikeras) instead.\n",
      "  ANN_best = keras.wrappers.scikit_learn.KerasClassifier(build_nn, epochs= 200, verbose=False)\n"
     ]
    },
    {
     "name": "stdout",
     "output_type": "stream",
     "text": [
      "[Voting] ...................... (1 of 4) Processing KNN, total=   0.0s\n",
      "[Voting] ...................... (2 of 4) Processing SVC, total=   4.4s\n",
      "[Voting] ..................... (3 of 4) Processing LGBM, total=   0.2s\n",
      "WARNING:tensorflow:Error in loading the saved optimizer state. As a result, your model is starting with a freshly initialized optimizer.\n",
      "[Voting] ...................... (4 of 4) Processing ANN, total=  20.9s\n",
      "Iterazione 688 [[0 0]\n",
      " [2 2]]\n",
      "accuracy 0.5\n"
     ]
    },
    {
     "name": "stderr",
     "output_type": "stream",
     "text": [
      "<ipython-input-54-0786b9e49dc3>:22: DeprecationWarning: KerasClassifier is deprecated, use Sci-Keras (https://github.com/adriangb/scikeras) instead.\n",
      "  ANN_best = keras.wrappers.scikit_learn.KerasClassifier(build_nn, epochs= 200, verbose=False)\n"
     ]
    },
    {
     "name": "stdout",
     "output_type": "stream",
     "text": [
      "[Voting] ...................... (1 of 4) Processing KNN, total=   0.0s\n",
      "[Voting] ...................... (2 of 4) Processing SVC, total=   4.3s\n",
      "[Voting] ..................... (3 of 4) Processing LGBM, total=   0.2s\n",
      "WARNING:tensorflow:Error in loading the saved optimizer state. As a result, your model is starting with a freshly initialized optimizer.\n",
      "[Voting] ...................... (4 of 4) Processing ANN, total=  21.1s\n",
      "Iterazione 689 [[4 1]\n",
      " [0 0]]\n",
      "accuracy 0.8\n"
     ]
    },
    {
     "name": "stderr",
     "output_type": "stream",
     "text": [
      "<ipython-input-54-0786b9e49dc3>:22: DeprecationWarning: KerasClassifier is deprecated, use Sci-Keras (https://github.com/adriangb/scikeras) instead.\n",
      "  ANN_best = keras.wrappers.scikit_learn.KerasClassifier(build_nn, epochs= 200, verbose=False)\n"
     ]
    },
    {
     "name": "stdout",
     "output_type": "stream",
     "text": [
      "[Voting] ...................... (1 of 4) Processing KNN, total=   0.0s\n",
      "[Voting] ...................... (2 of 4) Processing SVC, total=   4.5s\n",
      "[Voting] ..................... (3 of 4) Processing LGBM, total=   0.2s\n",
      "WARNING:tensorflow:Error in loading the saved optimizer state. As a result, your model is starting with a freshly initialized optimizer.\n",
      "[Voting] ...................... (4 of 4) Processing ANN, total=  21.1s\n",
      "Iterazione 690 [[3 6]\n",
      " [0 0]]\n",
      "accuracy 0.3333333333333333\n"
     ]
    },
    {
     "name": "stderr",
     "output_type": "stream",
     "text": [
      "<ipython-input-54-0786b9e49dc3>:22: DeprecationWarning: KerasClassifier is deprecated, use Sci-Keras (https://github.com/adriangb/scikeras) instead.\n",
      "  ANN_best = keras.wrappers.scikit_learn.KerasClassifier(build_nn, epochs= 200, verbose=False)\n"
     ]
    },
    {
     "name": "stdout",
     "output_type": "stream",
     "text": [
      "[Voting] ...................... (1 of 4) Processing KNN, total=   0.0s\n",
      "[Voting] ...................... (2 of 4) Processing SVC, total=   4.2s\n",
      "[Voting] ..................... (3 of 4) Processing LGBM, total=   0.2s\n",
      "WARNING:tensorflow:Error in loading the saved optimizer state. As a result, your model is starting with a freshly initialized optimizer.\n",
      "[Voting] ...................... (4 of 4) Processing ANN, total=  21.0s\n",
      "Iterazione 691 [[4 3]\n",
      " [0 0]]\n",
      "accuracy 0.5714285714285714\n"
     ]
    },
    {
     "name": "stderr",
     "output_type": "stream",
     "text": [
      "<ipython-input-54-0786b9e49dc3>:22: DeprecationWarning: KerasClassifier is deprecated, use Sci-Keras (https://github.com/adriangb/scikeras) instead.\n",
      "  ANN_best = keras.wrappers.scikit_learn.KerasClassifier(build_nn, epochs= 200, verbose=False)\n"
     ]
    },
    {
     "name": "stdout",
     "output_type": "stream",
     "text": [
      "[Voting] ...................... (1 of 4) Processing KNN, total=   0.0s\n",
      "[Voting] ...................... (2 of 4) Processing SVC, total=   4.2s\n",
      "[Voting] ..................... (3 of 4) Processing LGBM, total=   0.2s\n",
      "WARNING:tensorflow:Error in loading the saved optimizer state. As a result, your model is starting with a freshly initialized optimizer.\n",
      "[Voting] ...................... (4 of 4) Processing ANN, total=  21.0s\n",
      "Iterazione 692 [[9 0]\n",
      " [0 0]]\n",
      "accuracy 1.0\n"
     ]
    },
    {
     "name": "stderr",
     "output_type": "stream",
     "text": [
      "<ipython-input-54-0786b9e49dc3>:22: DeprecationWarning: KerasClassifier is deprecated, use Sci-Keras (https://github.com/adriangb/scikeras) instead.\n",
      "  ANN_best = keras.wrappers.scikit_learn.KerasClassifier(build_nn, epochs= 200, verbose=False)\n"
     ]
    },
    {
     "name": "stdout",
     "output_type": "stream",
     "text": [
      "[Voting] ...................... (1 of 4) Processing KNN, total=   0.0s\n",
      "[Voting] ...................... (2 of 4) Processing SVC, total=   4.2s\n",
      "[Voting] ..................... (3 of 4) Processing LGBM, total=   0.2s\n",
      "WARNING:tensorflow:Error in loading the saved optimizer state. As a result, your model is starting with a freshly initialized optimizer.\n",
      "[Voting] ...................... (4 of 4) Processing ANN, total=  21.3s\n",
      "Iterazione 693 [[0 0]\n",
      " [2 1]]\n",
      "accuracy 0.3333333333333333\n"
     ]
    },
    {
     "name": "stderr",
     "output_type": "stream",
     "text": [
      "<ipython-input-54-0786b9e49dc3>:22: DeprecationWarning: KerasClassifier is deprecated, use Sci-Keras (https://github.com/adriangb/scikeras) instead.\n",
      "  ANN_best = keras.wrappers.scikit_learn.KerasClassifier(build_nn, epochs= 200, verbose=False)\n"
     ]
    },
    {
     "name": "stdout",
     "output_type": "stream",
     "text": [
      "[Voting] ...................... (1 of 4) Processing KNN, total=   0.0s\n",
      "[Voting] ...................... (2 of 4) Processing SVC, total=   4.3s\n",
      "[Voting] ..................... (3 of 4) Processing LGBM, total=   0.2s\n",
      "WARNING:tensorflow:Error in loading the saved optimizer state. As a result, your model is starting with a freshly initialized optimizer.\n",
      "[Voting] ...................... (4 of 4) Processing ANN, total=  21.3s\n",
      "Iterazione 694 [[0 3]\n",
      " [0 0]]\n",
      "accuracy 0.0\n"
     ]
    },
    {
     "name": "stderr",
     "output_type": "stream",
     "text": [
      "<ipython-input-54-0786b9e49dc3>:22: DeprecationWarning: KerasClassifier is deprecated, use Sci-Keras (https://github.com/adriangb/scikeras) instead.\n",
      "  ANN_best = keras.wrappers.scikit_learn.KerasClassifier(build_nn, epochs= 200, verbose=False)\n"
     ]
    },
    {
     "name": "stdout",
     "output_type": "stream",
     "text": [
      "[Voting] ...................... (1 of 4) Processing KNN, total=   0.0s\n",
      "[Voting] ...................... (2 of 4) Processing SVC, total=   4.2s\n",
      "[Voting] ..................... (3 of 4) Processing LGBM, total=   0.2s\n",
      "WARNING:tensorflow:Error in loading the saved optimizer state. As a result, your model is starting with a freshly initialized optimizer.\n",
      "[Voting] ...................... (4 of 4) Processing ANN, total=  21.2s\n",
      "Iterazione 695 [[2 0]\n",
      " [0 0]]\n",
      "accuracy 1.0\n"
     ]
    },
    {
     "name": "stderr",
     "output_type": "stream",
     "text": [
      "<ipython-input-54-0786b9e49dc3>:22: DeprecationWarning: KerasClassifier is deprecated, use Sci-Keras (https://github.com/adriangb/scikeras) instead.\n",
      "  ANN_best = keras.wrappers.scikit_learn.KerasClassifier(build_nn, epochs= 200, verbose=False)\n"
     ]
    },
    {
     "name": "stdout",
     "output_type": "stream",
     "text": [
      "[Voting] ...................... (1 of 4) Processing KNN, total=   0.0s\n",
      "[Voting] ...................... (2 of 4) Processing SVC, total=   4.4s\n",
      "[Voting] ..................... (3 of 4) Processing LGBM, total=   0.2s\n",
      "WARNING:tensorflow:Error in loading the saved optimizer state. As a result, your model is starting with a freshly initialized optimizer.\n",
      "[Voting] ...................... (4 of 4) Processing ANN, total=  21.0s\n",
      "Iterazione 696 [[0 0]\n",
      " [1 0]]\n",
      "accuracy 0.0\n"
     ]
    },
    {
     "name": "stderr",
     "output_type": "stream",
     "text": [
      "<ipython-input-54-0786b9e49dc3>:22: DeprecationWarning: KerasClassifier is deprecated, use Sci-Keras (https://github.com/adriangb/scikeras) instead.\n",
      "  ANN_best = keras.wrappers.scikit_learn.KerasClassifier(build_nn, epochs= 200, verbose=False)\n"
     ]
    },
    {
     "name": "stdout",
     "output_type": "stream",
     "text": [
      "[Voting] ...................... (1 of 4) Processing KNN, total=   0.0s\n",
      "[Voting] ...................... (2 of 4) Processing SVC, total=   4.4s\n",
      "[Voting] ..................... (3 of 4) Processing LGBM, total=   0.2s\n",
      "WARNING:tensorflow:Error in loading the saved optimizer state. As a result, your model is starting with a freshly initialized optimizer.\n",
      "[Voting] ...................... (4 of 4) Processing ANN, total=  21.5s\n",
      "Iterazione 697 [[0 0]\n",
      " [3 1]]\n",
      "accuracy 0.25\n"
     ]
    },
    {
     "name": "stderr",
     "output_type": "stream",
     "text": [
      "<ipython-input-54-0786b9e49dc3>:22: DeprecationWarning: KerasClassifier is deprecated, use Sci-Keras (https://github.com/adriangb/scikeras) instead.\n",
      "  ANN_best = keras.wrappers.scikit_learn.KerasClassifier(build_nn, epochs= 200, verbose=False)\n"
     ]
    },
    {
     "name": "stdout",
     "output_type": "stream",
     "text": [
      "[Voting] ...................... (1 of 4) Processing KNN, total=   0.0s\n",
      "[Voting] ...................... (2 of 4) Processing SVC, total=   4.2s\n",
      "[Voting] ..................... (3 of 4) Processing LGBM, total=   0.2s\n",
      "WARNING:tensorflow:Error in loading the saved optimizer state. As a result, your model is starting with a freshly initialized optimizer.\n",
      "[Voting] ...................... (4 of 4) Processing ANN, total=  20.8s\n",
      "Iterazione 698 [[1 3]\n",
      " [0 0]]\n",
      "accuracy 0.25\n"
     ]
    },
    {
     "name": "stderr",
     "output_type": "stream",
     "text": [
      "<ipython-input-54-0786b9e49dc3>:22: DeprecationWarning: KerasClassifier is deprecated, use Sci-Keras (https://github.com/adriangb/scikeras) instead.\n",
      "  ANN_best = keras.wrappers.scikit_learn.KerasClassifier(build_nn, epochs= 200, verbose=False)\n"
     ]
    },
    {
     "name": "stdout",
     "output_type": "stream",
     "text": [
      "[Voting] ...................... (1 of 4) Processing KNN, total=   0.0s\n",
      "[Voting] ...................... (2 of 4) Processing SVC, total=   4.3s\n",
      "[Voting] ..................... (3 of 4) Processing LGBM, total=   0.2s\n",
      "WARNING:tensorflow:Error in loading the saved optimizer state. As a result, your model is starting with a freshly initialized optimizer.\n",
      "[Voting] ...................... (4 of 4) Processing ANN, total=  21.2s\n",
      "Iterazione 699 [[5 4]\n",
      " [0 0]]\n",
      "accuracy 0.5555555555555556\n"
     ]
    },
    {
     "name": "stderr",
     "output_type": "stream",
     "text": [
      "<ipython-input-54-0786b9e49dc3>:22: DeprecationWarning: KerasClassifier is deprecated, use Sci-Keras (https://github.com/adriangb/scikeras) instead.\n",
      "  ANN_best = keras.wrappers.scikit_learn.KerasClassifier(build_nn, epochs= 200, verbose=False)\n"
     ]
    },
    {
     "name": "stdout",
     "output_type": "stream",
     "text": [
      "[Voting] ...................... (1 of 4) Processing KNN, total=   0.0s\n",
      "[Voting] ...................... (2 of 4) Processing SVC, total=   4.3s\n",
      "[Voting] ..................... (3 of 4) Processing LGBM, total=   0.2s\n",
      "WARNING:tensorflow:Error in loading the saved optimizer state. As a result, your model is starting with a freshly initialized optimizer.\n",
      "[Voting] ...................... (4 of 4) Processing ANN, total=  21.2s\n",
      "Iterazione 700 [[0 0]\n",
      " [0 8]]\n",
      "accuracy 1.0\n"
     ]
    },
    {
     "name": "stderr",
     "output_type": "stream",
     "text": [
      "<ipython-input-54-0786b9e49dc3>:22: DeprecationWarning: KerasClassifier is deprecated, use Sci-Keras (https://github.com/adriangb/scikeras) instead.\n",
      "  ANN_best = keras.wrappers.scikit_learn.KerasClassifier(build_nn, epochs= 200, verbose=False)\n"
     ]
    },
    {
     "name": "stdout",
     "output_type": "stream",
     "text": [
      "[Voting] ...................... (1 of 4) Processing KNN, total=   0.0s\n",
      "[Voting] ...................... (2 of 4) Processing SVC, total=   4.4s\n",
      "[Voting] ..................... (3 of 4) Processing LGBM, total=   0.2s\n",
      "WARNING:tensorflow:Error in loading the saved optimizer state. As a result, your model is starting with a freshly initialized optimizer.\n",
      "[Voting] ...................... (4 of 4) Processing ANN, total=  21.3s\n",
      "Iterazione 701 [[1 4]\n",
      " [0 0]]\n",
      "accuracy 0.2\n"
     ]
    },
    {
     "name": "stderr",
     "output_type": "stream",
     "text": [
      "<ipython-input-54-0786b9e49dc3>:22: DeprecationWarning: KerasClassifier is deprecated, use Sci-Keras (https://github.com/adriangb/scikeras) instead.\n",
      "  ANN_best = keras.wrappers.scikit_learn.KerasClassifier(build_nn, epochs= 200, verbose=False)\n"
     ]
    },
    {
     "name": "stdout",
     "output_type": "stream",
     "text": [
      "[Voting] ...................... (1 of 4) Processing KNN, total=   0.0s\n",
      "[Voting] ...................... (2 of 4) Processing SVC, total=   4.4s\n",
      "[Voting] ..................... (3 of 4) Processing LGBM, total=   0.2s\n",
      "WARNING:tensorflow:Error in loading the saved optimizer state. As a result, your model is starting with a freshly initialized optimizer.\n",
      "[Voting] ...................... (4 of 4) Processing ANN, total=  21.1s\n",
      "Iterazione 702 [[0 0]\n",
      " [8 3]]\n",
      "accuracy 0.2727272727272727\n"
     ]
    },
    {
     "name": "stderr",
     "output_type": "stream",
     "text": [
      "<ipython-input-54-0786b9e49dc3>:22: DeprecationWarning: KerasClassifier is deprecated, use Sci-Keras (https://github.com/adriangb/scikeras) instead.\n",
      "  ANN_best = keras.wrappers.scikit_learn.KerasClassifier(build_nn, epochs= 200, verbose=False)\n"
     ]
    },
    {
     "name": "stdout",
     "output_type": "stream",
     "text": [
      "[Voting] ...................... (1 of 4) Processing KNN, total=   0.0s\n",
      "[Voting] ...................... (2 of 4) Processing SVC, total=   4.3s\n",
      "[Voting] ..................... (3 of 4) Processing LGBM, total=   0.2s\n",
      "WARNING:tensorflow:Error in loading the saved optimizer state. As a result, your model is starting with a freshly initialized optimizer.\n",
      "[Voting] ...................... (4 of 4) Processing ANN, total=  21.3s\n",
      "Iterazione 703 [[4 0]\n",
      " [0 0]]\n",
      "accuracy 1.0\n"
     ]
    },
    {
     "name": "stderr",
     "output_type": "stream",
     "text": [
      "<ipython-input-54-0786b9e49dc3>:22: DeprecationWarning: KerasClassifier is deprecated, use Sci-Keras (https://github.com/adriangb/scikeras) instead.\n",
      "  ANN_best = keras.wrappers.scikit_learn.KerasClassifier(build_nn, epochs= 200, verbose=False)\n"
     ]
    },
    {
     "name": "stdout",
     "output_type": "stream",
     "text": [
      "[Voting] ...................... (1 of 4) Processing KNN, total=   0.0s\n",
      "[Voting] ...................... (2 of 4) Processing SVC, total=   4.3s\n",
      "[Voting] ..................... (3 of 4) Processing LGBM, total=   0.2s\n",
      "WARNING:tensorflow:Error in loading the saved optimizer state. As a result, your model is starting with a freshly initialized optimizer.\n",
      "[Voting] ...................... (4 of 4) Processing ANN, total=  21.2s\n",
      "Iterazione 704 [[3 1]\n",
      " [0 0]]\n",
      "accuracy 0.75\n"
     ]
    },
    {
     "name": "stderr",
     "output_type": "stream",
     "text": [
      "<ipython-input-54-0786b9e49dc3>:22: DeprecationWarning: KerasClassifier is deprecated, use Sci-Keras (https://github.com/adriangb/scikeras) instead.\n",
      "  ANN_best = keras.wrappers.scikit_learn.KerasClassifier(build_nn, epochs= 200, verbose=False)\n"
     ]
    },
    {
     "name": "stdout",
     "output_type": "stream",
     "text": [
      "[Voting] ...................... (1 of 4) Processing KNN, total=   0.0s\n",
      "[Voting] ...................... (2 of 4) Processing SVC, total=   4.4s\n",
      "[Voting] ..................... (3 of 4) Processing LGBM, total=   0.2s\n",
      "WARNING:tensorflow:Error in loading the saved optimizer state. As a result, your model is starting with a freshly initialized optimizer.\n",
      "[Voting] ...................... (4 of 4) Processing ANN, total=  20.9s\n",
      "Iterazione 705 [[0 0]\n",
      " [0 1]]\n",
      "accuracy 1.0\n"
     ]
    },
    {
     "name": "stderr",
     "output_type": "stream",
     "text": [
      "<ipython-input-54-0786b9e49dc3>:22: DeprecationWarning: KerasClassifier is deprecated, use Sci-Keras (https://github.com/adriangb/scikeras) instead.\n",
      "  ANN_best = keras.wrappers.scikit_learn.KerasClassifier(build_nn, epochs= 200, verbose=False)\n"
     ]
    },
    {
     "name": "stdout",
     "output_type": "stream",
     "text": [
      "[Voting] ...................... (1 of 4) Processing KNN, total=   0.0s\n",
      "[Voting] ...................... (2 of 4) Processing SVC, total=   4.2s\n",
      "[Voting] ..................... (3 of 4) Processing LGBM, total=   0.2s\n",
      "WARNING:tensorflow:Error in loading the saved optimizer state. As a result, your model is starting with a freshly initialized optimizer.\n",
      "[Voting] ...................... (4 of 4) Processing ANN, total=  21.2s\n",
      "Iterazione 706 [[0 0]\n",
      " [3 2]]\n",
      "accuracy 0.4\n"
     ]
    },
    {
     "name": "stderr",
     "output_type": "stream",
     "text": [
      "<ipython-input-54-0786b9e49dc3>:22: DeprecationWarning: KerasClassifier is deprecated, use Sci-Keras (https://github.com/adriangb/scikeras) instead.\n",
      "  ANN_best = keras.wrappers.scikit_learn.KerasClassifier(build_nn, epochs= 200, verbose=False)\n"
     ]
    },
    {
     "name": "stdout",
     "output_type": "stream",
     "text": [
      "[Voting] ...................... (1 of 4) Processing KNN, total=   0.0s\n",
      "[Voting] ...................... (2 of 4) Processing SVC, total=   4.1s\n",
      "[Voting] ..................... (3 of 4) Processing LGBM, total=   0.2s\n",
      "WARNING:tensorflow:Error in loading the saved optimizer state. As a result, your model is starting with a freshly initialized optimizer.\n",
      "[Voting] ...................... (4 of 4) Processing ANN, total=  21.1s\n",
      "Iterazione 707 [[4 0]\n",
      " [0 0]]\n",
      "accuracy 1.0\n"
     ]
    },
    {
     "name": "stderr",
     "output_type": "stream",
     "text": [
      "<ipython-input-54-0786b9e49dc3>:22: DeprecationWarning: KerasClassifier is deprecated, use Sci-Keras (https://github.com/adriangb/scikeras) instead.\n",
      "  ANN_best = keras.wrappers.scikit_learn.KerasClassifier(build_nn, epochs= 200, verbose=False)\n"
     ]
    },
    {
     "name": "stdout",
     "output_type": "stream",
     "text": [
      "[Voting] ...................... (1 of 4) Processing KNN, total=   0.0s\n",
      "[Voting] ...................... (2 of 4) Processing SVC, total=   4.2s\n",
      "[Voting] ..................... (3 of 4) Processing LGBM, total=   0.4s\n",
      "WARNING:tensorflow:Error in loading the saved optimizer state. As a result, your model is starting with a freshly initialized optimizer.\n",
      "[Voting] ...................... (4 of 4) Processing ANN, total=  21.0s\n",
      "Iterazione 708 [[0 0]\n",
      " [2 4]]\n",
      "accuracy 0.6666666666666666\n"
     ]
    },
    {
     "name": "stderr",
     "output_type": "stream",
     "text": [
      "<ipython-input-54-0786b9e49dc3>:22: DeprecationWarning: KerasClassifier is deprecated, use Sci-Keras (https://github.com/adriangb/scikeras) instead.\n",
      "  ANN_best = keras.wrappers.scikit_learn.KerasClassifier(build_nn, epochs= 200, verbose=False)\n"
     ]
    },
    {
     "name": "stdout",
     "output_type": "stream",
     "text": [
      "[Voting] ...................... (1 of 4) Processing KNN, total=   0.0s\n",
      "[Voting] ...................... (2 of 4) Processing SVC, total=   4.2s\n",
      "[Voting] ..................... (3 of 4) Processing LGBM, total=   0.2s\n",
      "WARNING:tensorflow:Error in loading the saved optimizer state. As a result, your model is starting with a freshly initialized optimizer.\n",
      "[Voting] ...................... (4 of 4) Processing ANN, total=  21.1s\n",
      "Iterazione 709 [[0 0]\n",
      " [2 1]]\n",
      "accuracy 0.3333333333333333\n"
     ]
    },
    {
     "name": "stderr",
     "output_type": "stream",
     "text": [
      "<ipython-input-54-0786b9e49dc3>:22: DeprecationWarning: KerasClassifier is deprecated, use Sci-Keras (https://github.com/adriangb/scikeras) instead.\n",
      "  ANN_best = keras.wrappers.scikit_learn.KerasClassifier(build_nn, epochs= 200, verbose=False)\n"
     ]
    },
    {
     "name": "stdout",
     "output_type": "stream",
     "text": [
      "[Voting] ...................... (1 of 4) Processing KNN, total=   0.0s\n",
      "[Voting] ...................... (2 of 4) Processing SVC, total=   4.3s\n",
      "[Voting] ..................... (3 of 4) Processing LGBM, total=   0.2s\n",
      "WARNING:tensorflow:Error in loading the saved optimizer state. As a result, your model is starting with a freshly initialized optimizer.\n",
      "[Voting] ...................... (4 of 4) Processing ANN, total=  21.1s\n",
      "Iterazione 710 [[2 1]\n",
      " [0 0]]\n",
      "accuracy 0.6666666666666666\n"
     ]
    },
    {
     "name": "stderr",
     "output_type": "stream",
     "text": [
      "<ipython-input-54-0786b9e49dc3>:22: DeprecationWarning: KerasClassifier is deprecated, use Sci-Keras (https://github.com/adriangb/scikeras) instead.\n",
      "  ANN_best = keras.wrappers.scikit_learn.KerasClassifier(build_nn, epochs= 200, verbose=False)\n"
     ]
    },
    {
     "name": "stdout",
     "output_type": "stream",
     "text": [
      "[Voting] ...................... (1 of 4) Processing KNN, total=   0.0s\n",
      "[Voting] ...................... (2 of 4) Processing SVC, total=   4.3s\n",
      "[Voting] ..................... (3 of 4) Processing LGBM, total=   0.2s\n",
      "WARNING:tensorflow:Error in loading the saved optimizer state. As a result, your model is starting with a freshly initialized optimizer.\n",
      "[Voting] ...................... (4 of 4) Processing ANN, total=  21.1s\n",
      "Iterazione 711 [[8 2]\n",
      " [0 0]]\n",
      "accuracy 0.8\n"
     ]
    },
    {
     "name": "stderr",
     "output_type": "stream",
     "text": [
      "<ipython-input-54-0786b9e49dc3>:22: DeprecationWarning: KerasClassifier is deprecated, use Sci-Keras (https://github.com/adriangb/scikeras) instead.\n",
      "  ANN_best = keras.wrappers.scikit_learn.KerasClassifier(build_nn, epochs= 200, verbose=False)\n"
     ]
    },
    {
     "name": "stdout",
     "output_type": "stream",
     "text": [
      "[Voting] ...................... (1 of 4) Processing KNN, total=   0.0s\n",
      "[Voting] ...................... (2 of 4) Processing SVC, total=   4.3s\n",
      "[Voting] ..................... (3 of 4) Processing LGBM, total=   0.2s\n",
      "WARNING:tensorflow:Error in loading the saved optimizer state. As a result, your model is starting with a freshly initialized optimizer.\n",
      "[Voting] ...................... (4 of 4) Processing ANN, total=  21.1s\n",
      "Iterazione 712 [[3 0]\n",
      " [0 0]]\n",
      "accuracy 1.0\n"
     ]
    },
    {
     "name": "stderr",
     "output_type": "stream",
     "text": [
      "<ipython-input-54-0786b9e49dc3>:22: DeprecationWarning: KerasClassifier is deprecated, use Sci-Keras (https://github.com/adriangb/scikeras) instead.\n",
      "  ANN_best = keras.wrappers.scikit_learn.KerasClassifier(build_nn, epochs= 200, verbose=False)\n"
     ]
    },
    {
     "name": "stdout",
     "output_type": "stream",
     "text": [
      "[Voting] ...................... (1 of 4) Processing KNN, total=   0.0s\n",
      "[Voting] ...................... (2 of 4) Processing SVC, total=   4.3s\n",
      "[Voting] ..................... (3 of 4) Processing LGBM, total=   0.2s\n",
      "WARNING:tensorflow:Error in loading the saved optimizer state. As a result, your model is starting with a freshly initialized optimizer.\n",
      "[Voting] ...................... (4 of 4) Processing ANN, total=  20.9s\n",
      "Iterazione 713 [[1 1]\n",
      " [0 0]]\n",
      "accuracy 0.5\n"
     ]
    },
    {
     "name": "stderr",
     "output_type": "stream",
     "text": [
      "<ipython-input-54-0786b9e49dc3>:22: DeprecationWarning: KerasClassifier is deprecated, use Sci-Keras (https://github.com/adriangb/scikeras) instead.\n",
      "  ANN_best = keras.wrappers.scikit_learn.KerasClassifier(build_nn, epochs= 200, verbose=False)\n"
     ]
    },
    {
     "name": "stdout",
     "output_type": "stream",
     "text": [
      "[Voting] ...................... (1 of 4) Processing KNN, total=   0.0s\n",
      "[Voting] ...................... (2 of 4) Processing SVC, total=   4.2s\n",
      "[Voting] ..................... (3 of 4) Processing LGBM, total=   0.2s\n",
      "WARNING:tensorflow:Error in loading the saved optimizer state. As a result, your model is starting with a freshly initialized optimizer.\n",
      "[Voting] ...................... (4 of 4) Processing ANN, total=  21.1s\n",
      "Iterazione 714 [[0 0]\n",
      " [0 2]]\n",
      "accuracy 1.0\n"
     ]
    },
    {
     "name": "stderr",
     "output_type": "stream",
     "text": [
      "<ipython-input-54-0786b9e49dc3>:22: DeprecationWarning: KerasClassifier is deprecated, use Sci-Keras (https://github.com/adriangb/scikeras) instead.\n",
      "  ANN_best = keras.wrappers.scikit_learn.KerasClassifier(build_nn, epochs= 200, verbose=False)\n"
     ]
    },
    {
     "name": "stdout",
     "output_type": "stream",
     "text": [
      "[Voting] ...................... (1 of 4) Processing KNN, total=   0.0s\n",
      "[Voting] ...................... (2 of 4) Processing SVC, total=   4.4s\n",
      "[Voting] ..................... (3 of 4) Processing LGBM, total=   0.2s\n",
      "WARNING:tensorflow:Error in loading the saved optimizer state. As a result, your model is starting with a freshly initialized optimizer.\n",
      "[Voting] ...................... (4 of 4) Processing ANN, total=  21.2s\n",
      "Iterazione 715 [[4 1]\n",
      " [0 0]]\n",
      "accuracy 0.8\n"
     ]
    },
    {
     "name": "stderr",
     "output_type": "stream",
     "text": [
      "<ipython-input-54-0786b9e49dc3>:22: DeprecationWarning: KerasClassifier is deprecated, use Sci-Keras (https://github.com/adriangb/scikeras) instead.\n",
      "  ANN_best = keras.wrappers.scikit_learn.KerasClassifier(build_nn, epochs= 200, verbose=False)\n"
     ]
    },
    {
     "name": "stdout",
     "output_type": "stream",
     "text": [
      "[Voting] ...................... (1 of 4) Processing KNN, total=   0.0s\n",
      "[Voting] ...................... (2 of 4) Processing SVC, total=   4.3s\n",
      "[Voting] ..................... (3 of 4) Processing LGBM, total=   0.2s\n",
      "WARNING:tensorflow:Error in loading the saved optimizer state. As a result, your model is starting with a freshly initialized optimizer.\n",
      "[Voting] ...................... (4 of 4) Processing ANN, total=  21.2s\n",
      "Iterazione 716 [[3 9]\n",
      " [0 0]]\n",
      "accuracy 0.25\n"
     ]
    },
    {
     "name": "stderr",
     "output_type": "stream",
     "text": [
      "<ipython-input-54-0786b9e49dc3>:22: DeprecationWarning: KerasClassifier is deprecated, use Sci-Keras (https://github.com/adriangb/scikeras) instead.\n",
      "  ANN_best = keras.wrappers.scikit_learn.KerasClassifier(build_nn, epochs= 200, verbose=False)\n"
     ]
    },
    {
     "name": "stdout",
     "output_type": "stream",
     "text": [
      "[Voting] ...................... (1 of 4) Processing KNN, total=   0.0s\n",
      "[Voting] ...................... (2 of 4) Processing SVC, total=   4.3s\n",
      "[Voting] ..................... (3 of 4) Processing LGBM, total=   0.2s\n",
      "WARNING:tensorflow:Error in loading the saved optimizer state. As a result, your model is starting with a freshly initialized optimizer.\n",
      "[Voting] ...................... (4 of 4) Processing ANN, total=  21.2s\n",
      "Iterazione 717 [[3 1]\n",
      " [0 0]]\n",
      "accuracy 0.75\n"
     ]
    },
    {
     "name": "stderr",
     "output_type": "stream",
     "text": [
      "<ipython-input-54-0786b9e49dc3>:22: DeprecationWarning: KerasClassifier is deprecated, use Sci-Keras (https://github.com/adriangb/scikeras) instead.\n",
      "  ANN_best = keras.wrappers.scikit_learn.KerasClassifier(build_nn, epochs= 200, verbose=False)\n"
     ]
    },
    {
     "name": "stdout",
     "output_type": "stream",
     "text": [
      "[Voting] ...................... (1 of 4) Processing KNN, total=   0.0s\n",
      "[Voting] ...................... (2 of 4) Processing SVC, total=   4.4s\n",
      "[Voting] ..................... (3 of 4) Processing LGBM, total=   0.2s\n",
      "WARNING:tensorflow:Error in loading the saved optimizer state. As a result, your model is starting with a freshly initialized optimizer.\n",
      "[Voting] ...................... (4 of 4) Processing ANN, total=  21.1s\n",
      "Iterazione 718 [[2 0]\n",
      " [0 0]]\n",
      "accuracy 1.0\n"
     ]
    },
    {
     "name": "stderr",
     "output_type": "stream",
     "text": [
      "<ipython-input-54-0786b9e49dc3>:22: DeprecationWarning: KerasClassifier is deprecated, use Sci-Keras (https://github.com/adriangb/scikeras) instead.\n",
      "  ANN_best = keras.wrappers.scikit_learn.KerasClassifier(build_nn, epochs= 200, verbose=False)\n"
     ]
    },
    {
     "name": "stdout",
     "output_type": "stream",
     "text": [
      "[Voting] ...................... (1 of 4) Processing KNN, total=   0.0s\n",
      "[Voting] ...................... (2 of 4) Processing SVC, total=   4.4s\n",
      "[Voting] ..................... (3 of 4) Processing LGBM, total=   0.2s\n",
      "WARNING:tensorflow:Error in loading the saved optimizer state. As a result, your model is starting with a freshly initialized optimizer.\n",
      "[Voting] ...................... (4 of 4) Processing ANN, total=  21.0s\n",
      "Iterazione 719 [[3 0]\n",
      " [0 0]]\n",
      "accuracy 1.0\n"
     ]
    },
    {
     "name": "stderr",
     "output_type": "stream",
     "text": [
      "<ipython-input-54-0786b9e49dc3>:22: DeprecationWarning: KerasClassifier is deprecated, use Sci-Keras (https://github.com/adriangb/scikeras) instead.\n",
      "  ANN_best = keras.wrappers.scikit_learn.KerasClassifier(build_nn, epochs= 200, verbose=False)\n"
     ]
    },
    {
     "name": "stdout",
     "output_type": "stream",
     "text": [
      "[Voting] ...................... (1 of 4) Processing KNN, total=   0.0s\n",
      "[Voting] ...................... (2 of 4) Processing SVC, total=   4.2s\n",
      "[Voting] ..................... (3 of 4) Processing LGBM, total=   0.2s\n",
      "WARNING:tensorflow:Error in loading the saved optimizer state. As a result, your model is starting with a freshly initialized optimizer.\n",
      "[Voting] ...................... (4 of 4) Processing ANN, total=  21.3s\n",
      "Iterazione 720 [[0 0]\n",
      " [2 4]]\n",
      "accuracy 0.6666666666666666\n"
     ]
    },
    {
     "name": "stderr",
     "output_type": "stream",
     "text": [
      "<ipython-input-54-0786b9e49dc3>:22: DeprecationWarning: KerasClassifier is deprecated, use Sci-Keras (https://github.com/adriangb/scikeras) instead.\n",
      "  ANN_best = keras.wrappers.scikit_learn.KerasClassifier(build_nn, epochs= 200, verbose=False)\n"
     ]
    },
    {
     "name": "stdout",
     "output_type": "stream",
     "text": [
      "[Voting] ...................... (1 of 4) Processing KNN, total=   0.0s\n",
      "[Voting] ...................... (2 of 4) Processing SVC, total=   4.2s\n",
      "[Voting] ..................... (3 of 4) Processing LGBM, total=   0.2s\n",
      "WARNING:tensorflow:Error in loading the saved optimizer state. As a result, your model is starting with a freshly initialized optimizer.\n",
      "[Voting] ...................... (4 of 4) Processing ANN, total=  20.9s\n",
      "Iterazione 721 [[0 0]\n",
      " [2 3]]\n",
      "accuracy 0.6\n"
     ]
    },
    {
     "name": "stderr",
     "output_type": "stream",
     "text": [
      "<ipython-input-54-0786b9e49dc3>:22: DeprecationWarning: KerasClassifier is deprecated, use Sci-Keras (https://github.com/adriangb/scikeras) instead.\n",
      "  ANN_best = keras.wrappers.scikit_learn.KerasClassifier(build_nn, epochs= 200, verbose=False)\n"
     ]
    },
    {
     "name": "stdout",
     "output_type": "stream",
     "text": [
      "[Voting] ...................... (1 of 4) Processing KNN, total=   0.0s\n",
      "[Voting] ...................... (2 of 4) Processing SVC, total=   4.4s\n",
      "[Voting] ..................... (3 of 4) Processing LGBM, total=   0.2s\n",
      "WARNING:tensorflow:Error in loading the saved optimizer state. As a result, your model is starting with a freshly initialized optimizer.\n",
      "[Voting] ...................... (4 of 4) Processing ANN, total=  20.9s\n",
      "Iterazione 722 [[4 0]\n",
      " [0 0]]\n",
      "accuracy 1.0\n"
     ]
    },
    {
     "name": "stderr",
     "output_type": "stream",
     "text": [
      "<ipython-input-54-0786b9e49dc3>:22: DeprecationWarning: KerasClassifier is deprecated, use Sci-Keras (https://github.com/adriangb/scikeras) instead.\n",
      "  ANN_best = keras.wrappers.scikit_learn.KerasClassifier(build_nn, epochs= 200, verbose=False)\n"
     ]
    },
    {
     "name": "stdout",
     "output_type": "stream",
     "text": [
      "[Voting] ...................... (1 of 4) Processing KNN, total=   0.0s\n",
      "[Voting] ...................... (2 of 4) Processing SVC, total=   4.2s\n",
      "[Voting] ..................... (3 of 4) Processing LGBM, total=   0.2s\n",
      "WARNING:tensorflow:Error in loading the saved optimizer state. As a result, your model is starting with a freshly initialized optimizer.\n",
      "[Voting] ...................... (4 of 4) Processing ANN, total=  21.2s\n",
      "Iterazione 723 [[2 4]\n",
      " [0 0]]\n",
      "accuracy 0.3333333333333333\n"
     ]
    },
    {
     "name": "stderr",
     "output_type": "stream",
     "text": [
      "<ipython-input-54-0786b9e49dc3>:22: DeprecationWarning: KerasClassifier is deprecated, use Sci-Keras (https://github.com/adriangb/scikeras) instead.\n",
      "  ANN_best = keras.wrappers.scikit_learn.KerasClassifier(build_nn, epochs= 200, verbose=False)\n"
     ]
    },
    {
     "name": "stdout",
     "output_type": "stream",
     "text": [
      "[Voting] ...................... (1 of 4) Processing KNN, total=   0.0s\n",
      "[Voting] ...................... (2 of 4) Processing SVC, total=   4.2s\n",
      "[Voting] ..................... (3 of 4) Processing LGBM, total=   0.2s\n",
      "WARNING:tensorflow:Error in loading the saved optimizer state. As a result, your model is starting with a freshly initialized optimizer.\n",
      "[Voting] ...................... (4 of 4) Processing ANN, total=  20.9s\n",
      "Iterazione 724 [[3 3]\n",
      " [0 0]]\n",
      "accuracy 0.5\n"
     ]
    },
    {
     "name": "stderr",
     "output_type": "stream",
     "text": [
      "<ipython-input-54-0786b9e49dc3>:22: DeprecationWarning: KerasClassifier is deprecated, use Sci-Keras (https://github.com/adriangb/scikeras) instead.\n",
      "  ANN_best = keras.wrappers.scikit_learn.KerasClassifier(build_nn, epochs= 200, verbose=False)\n"
     ]
    },
    {
     "name": "stdout",
     "output_type": "stream",
     "text": [
      "[Voting] ...................... (1 of 4) Processing KNN, total=   0.0s\n",
      "[Voting] ...................... (2 of 4) Processing SVC, total=   4.7s\n",
      "[Voting] ..................... (3 of 4) Processing LGBM, total=   0.2s\n",
      "WARNING:tensorflow:Error in loading the saved optimizer state. As a result, your model is starting with a freshly initialized optimizer.\n",
      "[Voting] ...................... (4 of 4) Processing ANN, total=  20.2s\n",
      "Iterazione 725 [[1 0]\n",
      " [0 0]]\n",
      "accuracy 1.0\n"
     ]
    },
    {
     "name": "stderr",
     "output_type": "stream",
     "text": [
      "<ipython-input-54-0786b9e49dc3>:22: DeprecationWarning: KerasClassifier is deprecated, use Sci-Keras (https://github.com/adriangb/scikeras) instead.\n",
      "  ANN_best = keras.wrappers.scikit_learn.KerasClassifier(build_nn, epochs= 200, verbose=False)\n"
     ]
    },
    {
     "name": "stdout",
     "output_type": "stream",
     "text": [
      "[Voting] ...................... (1 of 4) Processing KNN, total=   0.0s\n",
      "[Voting] ...................... (2 of 4) Processing SVC, total=   4.3s\n",
      "[Voting] ..................... (3 of 4) Processing LGBM, total=   0.2s\n",
      "WARNING:tensorflow:Error in loading the saved optimizer state. As a result, your model is starting with a freshly initialized optimizer.\n",
      "[Voting] ...................... (4 of 4) Processing ANN, total=  21.2s\n",
      "Iterazione 726 [[4 0]\n",
      " [0 0]]\n",
      "accuracy 1.0\n"
     ]
    },
    {
     "name": "stderr",
     "output_type": "stream",
     "text": [
      "<ipython-input-54-0786b9e49dc3>:22: DeprecationWarning: KerasClassifier is deprecated, use Sci-Keras (https://github.com/adriangb/scikeras) instead.\n",
      "  ANN_best = keras.wrappers.scikit_learn.KerasClassifier(build_nn, epochs= 200, verbose=False)\n"
     ]
    },
    {
     "name": "stdout",
     "output_type": "stream",
     "text": [
      "[Voting] ...................... (1 of 4) Processing KNN, total=   0.0s\n",
      "[Voting] ...................... (2 of 4) Processing SVC, total=   4.1s\n",
      "[Voting] ..................... (3 of 4) Processing LGBM, total=   0.2s\n",
      "WARNING:tensorflow:Error in loading the saved optimizer state. As a result, your model is starting with a freshly initialized optimizer.\n",
      "[Voting] ...................... (4 of 4) Processing ANN, total=  21.1s\n",
      "Iterazione 727 [[0 0]\n",
      " [1 1]]\n",
      "accuracy 0.5\n"
     ]
    },
    {
     "name": "stderr",
     "output_type": "stream",
     "text": [
      "<ipython-input-54-0786b9e49dc3>:22: DeprecationWarning: KerasClassifier is deprecated, use Sci-Keras (https://github.com/adriangb/scikeras) instead.\n",
      "  ANN_best = keras.wrappers.scikit_learn.KerasClassifier(build_nn, epochs= 200, verbose=False)\n"
     ]
    },
    {
     "name": "stdout",
     "output_type": "stream",
     "text": [
      "[Voting] ...................... (1 of 4) Processing KNN, total=   0.0s\n",
      "[Voting] ...................... (2 of 4) Processing SVC, total=   4.4s\n",
      "[Voting] ..................... (3 of 4) Processing LGBM, total=   0.2s\n",
      "WARNING:tensorflow:Error in loading the saved optimizer state. As a result, your model is starting with a freshly initialized optimizer.\n",
      "[Voting] ...................... (4 of 4) Processing ANN, total=  20.9s\n",
      "Iterazione 728 [[0 1]\n",
      " [0 0]]\n",
      "accuracy 0.0\n"
     ]
    },
    {
     "name": "stderr",
     "output_type": "stream",
     "text": [
      "<ipython-input-54-0786b9e49dc3>:22: DeprecationWarning: KerasClassifier is deprecated, use Sci-Keras (https://github.com/adriangb/scikeras) instead.\n",
      "  ANN_best = keras.wrappers.scikit_learn.KerasClassifier(build_nn, epochs= 200, verbose=False)\n"
     ]
    },
    {
     "name": "stdout",
     "output_type": "stream",
     "text": [
      "[Voting] ...................... (1 of 4) Processing KNN, total=   0.0s\n",
      "[Voting] ...................... (2 of 4) Processing SVC, total=   4.3s\n",
      "[Voting] ..................... (3 of 4) Processing LGBM, total=   0.2s\n",
      "WARNING:tensorflow:Error in loading the saved optimizer state. As a result, your model is starting with a freshly initialized optimizer.\n",
      "[Voting] ...................... (4 of 4) Processing ANN, total=  20.6s\n",
      "Iterazione 729 [[0 0]\n",
      " [4 3]]\n",
      "accuracy 0.42857142857142855\n"
     ]
    },
    {
     "name": "stderr",
     "output_type": "stream",
     "text": [
      "<ipython-input-54-0786b9e49dc3>:22: DeprecationWarning: KerasClassifier is deprecated, use Sci-Keras (https://github.com/adriangb/scikeras) instead.\n",
      "  ANN_best = keras.wrappers.scikit_learn.KerasClassifier(build_nn, epochs= 200, verbose=False)\n"
     ]
    },
    {
     "name": "stdout",
     "output_type": "stream",
     "text": [
      "[Voting] ...................... (1 of 4) Processing KNN, total=   0.0s\n",
      "[Voting] ...................... (2 of 4) Processing SVC, total=   4.3s\n",
      "[Voting] ..................... (3 of 4) Processing LGBM, total=   0.2s\n",
      "WARNING:tensorflow:Error in loading the saved optimizer state. As a result, your model is starting with a freshly initialized optimizer.\n",
      "[Voting] ...................... (4 of 4) Processing ANN, total=  21.0s\n",
      "Iterazione 730 [[2 0]\n",
      " [0 0]]\n",
      "accuracy 1.0\n"
     ]
    },
    {
     "name": "stderr",
     "output_type": "stream",
     "text": [
      "<ipython-input-54-0786b9e49dc3>:22: DeprecationWarning: KerasClassifier is deprecated, use Sci-Keras (https://github.com/adriangb/scikeras) instead.\n",
      "  ANN_best = keras.wrappers.scikit_learn.KerasClassifier(build_nn, epochs= 200, verbose=False)\n"
     ]
    },
    {
     "name": "stdout",
     "output_type": "stream",
     "text": [
      "[Voting] ...................... (1 of 4) Processing KNN, total=   0.0s\n",
      "[Voting] ...................... (2 of 4) Processing SVC, total=   4.4s\n",
      "[Voting] ..................... (3 of 4) Processing LGBM, total=   0.3s\n",
      "WARNING:tensorflow:Error in loading the saved optimizer state. As a result, your model is starting with a freshly initialized optimizer.\n",
      "[Voting] ...................... (4 of 4) Processing ANN, total=  21.5s\n",
      "Iterazione 731 [[1 2]\n",
      " [0 0]]\n",
      "accuracy 0.3333333333333333\n"
     ]
    },
    {
     "name": "stderr",
     "output_type": "stream",
     "text": [
      "<ipython-input-54-0786b9e49dc3>:22: DeprecationWarning: KerasClassifier is deprecated, use Sci-Keras (https://github.com/adriangb/scikeras) instead.\n",
      "  ANN_best = keras.wrappers.scikit_learn.KerasClassifier(build_nn, epochs= 200, verbose=False)\n"
     ]
    },
    {
     "name": "stdout",
     "output_type": "stream",
     "text": [
      "[Voting] ...................... (1 of 4) Processing KNN, total=   0.0s\n",
      "[Voting] ...................... (2 of 4) Processing SVC, total=   4.2s\n",
      "[Voting] ..................... (3 of 4) Processing LGBM, total=   0.2s\n",
      "WARNING:tensorflow:Error in loading the saved optimizer state. As a result, your model is starting with a freshly initialized optimizer.\n",
      "[Voting] ...................... (4 of 4) Processing ANN, total=  21.8s\n",
      "Iterazione 732 [[0 0]\n",
      " [3 1]]\n",
      "accuracy 0.25\n"
     ]
    },
    {
     "name": "stderr",
     "output_type": "stream",
     "text": [
      "<ipython-input-54-0786b9e49dc3>:22: DeprecationWarning: KerasClassifier is deprecated, use Sci-Keras (https://github.com/adriangb/scikeras) instead.\n",
      "  ANN_best = keras.wrappers.scikit_learn.KerasClassifier(build_nn, epochs= 200, verbose=False)\n"
     ]
    },
    {
     "name": "stdout",
     "output_type": "stream",
     "text": [
      "[Voting] ...................... (1 of 4) Processing KNN, total=   0.0s\n",
      "[Voting] ...................... (2 of 4) Processing SVC, total=   4.7s\n",
      "[Voting] ..................... (3 of 4) Processing LGBM, total=   0.4s\n",
      "WARNING:tensorflow:Error in loading the saved optimizer state. As a result, your model is starting with a freshly initialized optimizer.\n",
      "[Voting] ...................... (4 of 4) Processing ANN, total=  25.6s\n",
      "Iterazione 733 [[2 5]\n",
      " [0 0]]\n",
      "accuracy 0.2857142857142857\n"
     ]
    },
    {
     "name": "stderr",
     "output_type": "stream",
     "text": [
      "<ipython-input-54-0786b9e49dc3>:22: DeprecationWarning: KerasClassifier is deprecated, use Sci-Keras (https://github.com/adriangb/scikeras) instead.\n",
      "  ANN_best = keras.wrappers.scikit_learn.KerasClassifier(build_nn, epochs= 200, verbose=False)\n"
     ]
    },
    {
     "name": "stdout",
     "output_type": "stream",
     "text": [
      "[Voting] ...................... (1 of 4) Processing KNN, total=   0.0s\n",
      "[Voting] ...................... (2 of 4) Processing SVC, total=   5.1s\n",
      "[Voting] ..................... (3 of 4) Processing LGBM, total=   0.4s\n",
      "WARNING:tensorflow:Error in loading the saved optimizer state. As a result, your model is starting with a freshly initialized optimizer.\n",
      "[Voting] ...................... (4 of 4) Processing ANN, total=  26.1s\n",
      "Iterazione 734 [[0 0]\n",
      " [1 2]]\n",
      "accuracy 0.6666666666666666\n"
     ]
    },
    {
     "name": "stderr",
     "output_type": "stream",
     "text": [
      "<ipython-input-54-0786b9e49dc3>:22: DeprecationWarning: KerasClassifier is deprecated, use Sci-Keras (https://github.com/adriangb/scikeras) instead.\n",
      "  ANN_best = keras.wrappers.scikit_learn.KerasClassifier(build_nn, epochs= 200, verbose=False)\n"
     ]
    },
    {
     "name": "stdout",
     "output_type": "stream",
     "text": [
      "[Voting] ...................... (1 of 4) Processing KNN, total=   0.0s\n",
      "[Voting] ...................... (2 of 4) Processing SVC, total=   4.5s\n",
      "[Voting] ..................... (3 of 4) Processing LGBM, total=   0.4s\n",
      "WARNING:tensorflow:Error in loading the saved optimizer state. As a result, your model is starting with a freshly initialized optimizer.\n",
      "[Voting] ...................... (4 of 4) Processing ANN, total=  24.3s\n",
      "Iterazione 735 [[9 1]\n",
      " [0 0]]\n",
      "accuracy 0.9\n"
     ]
    },
    {
     "name": "stderr",
     "output_type": "stream",
     "text": [
      "<ipython-input-54-0786b9e49dc3>:22: DeprecationWarning: KerasClassifier is deprecated, use Sci-Keras (https://github.com/adriangb/scikeras) instead.\n",
      "  ANN_best = keras.wrappers.scikit_learn.KerasClassifier(build_nn, epochs= 200, verbose=False)\n"
     ]
    },
    {
     "name": "stdout",
     "output_type": "stream",
     "text": [
      "[Voting] ...................... (1 of 4) Processing KNN, total=   0.0s\n",
      "[Voting] ...................... (2 of 4) Processing SVC, total=   4.2s\n",
      "[Voting] ..................... (3 of 4) Processing LGBM, total=   0.2s\n",
      "WARNING:tensorflow:Error in loading the saved optimizer state. As a result, your model is starting with a freshly initialized optimizer.\n",
      "[Voting] ...................... (4 of 4) Processing ANN, total=  21.3s\n",
      "Iterazione 736 [[0 1]\n",
      " [0 0]]\n",
      "accuracy 0.0\n"
     ]
    },
    {
     "name": "stderr",
     "output_type": "stream",
     "text": [
      "<ipython-input-54-0786b9e49dc3>:22: DeprecationWarning: KerasClassifier is deprecated, use Sci-Keras (https://github.com/adriangb/scikeras) instead.\n",
      "  ANN_best = keras.wrappers.scikit_learn.KerasClassifier(build_nn, epochs= 200, verbose=False)\n"
     ]
    },
    {
     "name": "stdout",
     "output_type": "stream",
     "text": [
      "[Voting] ...................... (1 of 4) Processing KNN, total=   0.0s\n",
      "[Voting] ...................... (2 of 4) Processing SVC, total=   4.2s\n",
      "[Voting] ..................... (3 of 4) Processing LGBM, total=   0.3s\n",
      "WARNING:tensorflow:Error in loading the saved optimizer state. As a result, your model is starting with a freshly initialized optimizer.\n",
      "[Voting] ...................... (4 of 4) Processing ANN, total=  21.1s\n",
      "Iterazione 737 [[0 0]\n",
      " [1 2]]\n",
      "accuracy 0.6666666666666666\n"
     ]
    },
    {
     "name": "stderr",
     "output_type": "stream",
     "text": [
      "<ipython-input-54-0786b9e49dc3>:22: DeprecationWarning: KerasClassifier is deprecated, use Sci-Keras (https://github.com/adriangb/scikeras) instead.\n",
      "  ANN_best = keras.wrappers.scikit_learn.KerasClassifier(build_nn, epochs= 200, verbose=False)\n"
     ]
    },
    {
     "name": "stdout",
     "output_type": "stream",
     "text": [
      "[Voting] ...................... (1 of 4) Processing KNN, total=   0.0s\n",
      "[Voting] ...................... (2 of 4) Processing SVC, total=   4.3s\n",
      "[Voting] ..................... (3 of 4) Processing LGBM, total=   0.3s\n",
      "WARNING:tensorflow:Error in loading the saved optimizer state. As a result, your model is starting with a freshly initialized optimizer.\n",
      "[Voting] ...................... (4 of 4) Processing ANN, total=  21.0s\n",
      "Iterazione 738 [[4 5]\n",
      " [0 0]]\n",
      "accuracy 0.4444444444444444\n"
     ]
    },
    {
     "name": "stderr",
     "output_type": "stream",
     "text": [
      "<ipython-input-54-0786b9e49dc3>:22: DeprecationWarning: KerasClassifier is deprecated, use Sci-Keras (https://github.com/adriangb/scikeras) instead.\n",
      "  ANN_best = keras.wrappers.scikit_learn.KerasClassifier(build_nn, epochs= 200, verbose=False)\n"
     ]
    },
    {
     "name": "stdout",
     "output_type": "stream",
     "text": [
      "[Voting] ...................... (1 of 4) Processing KNN, total=   0.0s\n",
      "[Voting] ...................... (2 of 4) Processing SVC, total=   4.5s\n",
      "[Voting] ..................... (3 of 4) Processing LGBM, total=   0.2s\n",
      "WARNING:tensorflow:Error in loading the saved optimizer state. As a result, your model is starting with a freshly initialized optimizer.\n",
      "[Voting] ...................... (4 of 4) Processing ANN, total=  21.1s\n",
      "Iterazione 739 [[0 0]\n",
      " [0 5]]\n",
      "accuracy 1.0\n"
     ]
    },
    {
     "name": "stderr",
     "output_type": "stream",
     "text": [
      "<ipython-input-54-0786b9e49dc3>:22: DeprecationWarning: KerasClassifier is deprecated, use Sci-Keras (https://github.com/adriangb/scikeras) instead.\n",
      "  ANN_best = keras.wrappers.scikit_learn.KerasClassifier(build_nn, epochs= 200, verbose=False)\n"
     ]
    },
    {
     "name": "stdout",
     "output_type": "stream",
     "text": [
      "[Voting] ...................... (1 of 4) Processing KNN, total=   0.0s\n",
      "[Voting] ...................... (2 of 4) Processing SVC, total=   4.4s\n",
      "[Voting] ..................... (3 of 4) Processing LGBM, total=   0.3s\n",
      "WARNING:tensorflow:Error in loading the saved optimizer state. As a result, your model is starting with a freshly initialized optimizer.\n",
      "[Voting] ...................... (4 of 4) Processing ANN, total=  21.2s\n",
      "Iterazione 740 [[0 0]\n",
      " [0 8]]\n",
      "accuracy 1.0\n"
     ]
    },
    {
     "name": "stderr",
     "output_type": "stream",
     "text": [
      "<ipython-input-54-0786b9e49dc3>:22: DeprecationWarning: KerasClassifier is deprecated, use Sci-Keras (https://github.com/adriangb/scikeras) instead.\n",
      "  ANN_best = keras.wrappers.scikit_learn.KerasClassifier(build_nn, epochs= 200, verbose=False)\n"
     ]
    },
    {
     "name": "stdout",
     "output_type": "stream",
     "text": [
      "[Voting] ...................... (1 of 4) Processing KNN, total=   0.0s\n",
      "[Voting] ...................... (2 of 4) Processing SVC, total=   4.4s\n",
      "[Voting] ..................... (3 of 4) Processing LGBM, total=   0.2s\n",
      "WARNING:tensorflow:Error in loading the saved optimizer state. As a result, your model is starting with a freshly initialized optimizer.\n",
      "[Voting] ...................... (4 of 4) Processing ANN, total=  22.8s\n",
      "Iterazione 741 [[0 0]\n",
      " [1 1]]\n",
      "accuracy 0.5\n"
     ]
    },
    {
     "name": "stderr",
     "output_type": "stream",
     "text": [
      "<ipython-input-54-0786b9e49dc3>:22: DeprecationWarning: KerasClassifier is deprecated, use Sci-Keras (https://github.com/adriangb/scikeras) instead.\n",
      "  ANN_best = keras.wrappers.scikit_learn.KerasClassifier(build_nn, epochs= 200, verbose=False)\n"
     ]
    },
    {
     "name": "stdout",
     "output_type": "stream",
     "text": [
      "[Voting] ...................... (1 of 4) Processing KNN, total=   0.0s\n",
      "[Voting] ...................... (2 of 4) Processing SVC, total=   4.3s\n",
      "[Voting] ..................... (3 of 4) Processing LGBM, total=   0.2s\n",
      "WARNING:tensorflow:Error in loading the saved optimizer state. As a result, your model is starting with a freshly initialized optimizer.\n",
      "[Voting] ...................... (4 of 4) Processing ANN, total=  21.1s\n",
      "Iterazione 742 [[0 0]\n",
      " [1 1]]\n",
      "accuracy 0.5\n"
     ]
    },
    {
     "name": "stderr",
     "output_type": "stream",
     "text": [
      "<ipython-input-54-0786b9e49dc3>:22: DeprecationWarning: KerasClassifier is deprecated, use Sci-Keras (https://github.com/adriangb/scikeras) instead.\n",
      "  ANN_best = keras.wrappers.scikit_learn.KerasClassifier(build_nn, epochs= 200, verbose=False)\n"
     ]
    },
    {
     "name": "stdout",
     "output_type": "stream",
     "text": [
      "[Voting] ...................... (1 of 4) Processing KNN, total=   0.0s\n",
      "[Voting] ...................... (2 of 4) Processing SVC, total=   4.4s\n",
      "[Voting] ..................... (3 of 4) Processing LGBM, total=   0.3s\n",
      "WARNING:tensorflow:Error in loading the saved optimizer state. As a result, your model is starting with a freshly initialized optimizer.\n",
      "[Voting] ...................... (4 of 4) Processing ANN, total=  20.7s\n",
      "Iterazione 743 [[0 0]\n",
      " [4 3]]\n",
      "accuracy 0.42857142857142855\n"
     ]
    },
    {
     "name": "stderr",
     "output_type": "stream",
     "text": [
      "<ipython-input-54-0786b9e49dc3>:22: DeprecationWarning: KerasClassifier is deprecated, use Sci-Keras (https://github.com/adriangb/scikeras) instead.\n",
      "  ANN_best = keras.wrappers.scikit_learn.KerasClassifier(build_nn, epochs= 200, verbose=False)\n"
     ]
    },
    {
     "name": "stdout",
     "output_type": "stream",
     "text": [
      "[Voting] ...................... (1 of 4) Processing KNN, total=   0.0s\n",
      "[Voting] ...................... (2 of 4) Processing SVC, total=   4.4s\n",
      "[Voting] ..................... (3 of 4) Processing LGBM, total=   0.2s\n",
      "WARNING:tensorflow:Error in loading the saved optimizer state. As a result, your model is starting with a freshly initialized optimizer.\n",
      "[Voting] ...................... (4 of 4) Processing ANN, total=  21.0s\n",
      "Iterazione 744 [[1 1]\n",
      " [0 0]]\n",
      "accuracy 0.5\n"
     ]
    },
    {
     "name": "stderr",
     "output_type": "stream",
     "text": [
      "<ipython-input-54-0786b9e49dc3>:22: DeprecationWarning: KerasClassifier is deprecated, use Sci-Keras (https://github.com/adriangb/scikeras) instead.\n",
      "  ANN_best = keras.wrappers.scikit_learn.KerasClassifier(build_nn, epochs= 200, verbose=False)\n"
     ]
    },
    {
     "name": "stdout",
     "output_type": "stream",
     "text": [
      "[Voting] ...................... (1 of 4) Processing KNN, total=   0.0s\n",
      "[Voting] ...................... (2 of 4) Processing SVC, total=   4.4s\n",
      "[Voting] ..................... (3 of 4) Processing LGBM, total=   0.2s\n",
      "WARNING:tensorflow:Error in loading the saved optimizer state. As a result, your model is starting with a freshly initialized optimizer.\n",
      "[Voting] ...................... (4 of 4) Processing ANN, total=  20.9s\n",
      "Iterazione 745 [[0 0]\n",
      " [2 0]]\n",
      "accuracy 0.0\n"
     ]
    },
    {
     "name": "stderr",
     "output_type": "stream",
     "text": [
      "<ipython-input-54-0786b9e49dc3>:22: DeprecationWarning: KerasClassifier is deprecated, use Sci-Keras (https://github.com/adriangb/scikeras) instead.\n",
      "  ANN_best = keras.wrappers.scikit_learn.KerasClassifier(build_nn, epochs= 200, verbose=False)\n"
     ]
    },
    {
     "name": "stdout",
     "output_type": "stream",
     "text": [
      "[Voting] ...................... (1 of 4) Processing KNN, total=   0.0s\n",
      "[Voting] ...................... (2 of 4) Processing SVC, total=   4.2s\n",
      "[Voting] ..................... (3 of 4) Processing LGBM, total=   0.2s\n",
      "WARNING:tensorflow:Error in loading the saved optimizer state. As a result, your model is starting with a freshly initialized optimizer.\n",
      "[Voting] ...................... (4 of 4) Processing ANN, total=  21.0s\n",
      "Iterazione 746 [[0 0]\n",
      " [1 4]]\n",
      "accuracy 0.8\n"
     ]
    },
    {
     "name": "stderr",
     "output_type": "stream",
     "text": [
      "<ipython-input-54-0786b9e49dc3>:22: DeprecationWarning: KerasClassifier is deprecated, use Sci-Keras (https://github.com/adriangb/scikeras) instead.\n",
      "  ANN_best = keras.wrappers.scikit_learn.KerasClassifier(build_nn, epochs= 200, verbose=False)\n"
     ]
    },
    {
     "name": "stdout",
     "output_type": "stream",
     "text": [
      "[Voting] ...................... (1 of 4) Processing KNN, total=   0.0s\n",
      "[Voting] ...................... (2 of 4) Processing SVC, total=   4.3s\n",
      "[Voting] ..................... (3 of 4) Processing LGBM, total=   0.2s\n",
      "WARNING:tensorflow:Error in loading the saved optimizer state. As a result, your model is starting with a freshly initialized optimizer.\n",
      "[Voting] ...................... (4 of 4) Processing ANN, total=  21.2s\n",
      "Iterazione 747 [[0 0]\n",
      " [1 6]]\n",
      "accuracy 0.8571428571428571\n"
     ]
    },
    {
     "name": "stderr",
     "output_type": "stream",
     "text": [
      "<ipython-input-54-0786b9e49dc3>:22: DeprecationWarning: KerasClassifier is deprecated, use Sci-Keras (https://github.com/adriangb/scikeras) instead.\n",
      "  ANN_best = keras.wrappers.scikit_learn.KerasClassifier(build_nn, epochs= 200, verbose=False)\n"
     ]
    },
    {
     "name": "stdout",
     "output_type": "stream",
     "text": [
      "[Voting] ...................... (1 of 4) Processing KNN, total=   0.0s\n",
      "[Voting] ...................... (2 of 4) Processing SVC, total=   4.3s\n",
      "[Voting] ..................... (3 of 4) Processing LGBM, total=   0.2s\n",
      "WARNING:tensorflow:Error in loading the saved optimizer state. As a result, your model is starting with a freshly initialized optimizer.\n",
      "[Voting] ...................... (4 of 4) Processing ANN, total=  20.9s\n",
      "Iterazione 748 [[0 0]\n",
      " [3 9]]\n",
      "accuracy 0.75\n"
     ]
    },
    {
     "name": "stderr",
     "output_type": "stream",
     "text": [
      "<ipython-input-54-0786b9e49dc3>:22: DeprecationWarning: KerasClassifier is deprecated, use Sci-Keras (https://github.com/adriangb/scikeras) instead.\n",
      "  ANN_best = keras.wrappers.scikit_learn.KerasClassifier(build_nn, epochs= 200, verbose=False)\n"
     ]
    },
    {
     "name": "stdout",
     "output_type": "stream",
     "text": [
      "[Voting] ...................... (1 of 4) Processing KNN, total=   0.0s\n",
      "[Voting] ...................... (2 of 4) Processing SVC, total=   4.2s\n",
      "[Voting] ..................... (3 of 4) Processing LGBM, total=   0.2s\n",
      "WARNING:tensorflow:Error in loading the saved optimizer state. As a result, your model is starting with a freshly initialized optimizer.\n",
      "[Voting] ...................... (4 of 4) Processing ANN, total=  21.4s\n",
      "Iterazione 749 [[0 0]\n",
      " [1 2]]\n",
      "accuracy 0.6666666666666666\n"
     ]
    },
    {
     "name": "stderr",
     "output_type": "stream",
     "text": [
      "<ipython-input-54-0786b9e49dc3>:22: DeprecationWarning: KerasClassifier is deprecated, use Sci-Keras (https://github.com/adriangb/scikeras) instead.\n",
      "  ANN_best = keras.wrappers.scikit_learn.KerasClassifier(build_nn, epochs= 200, verbose=False)\n"
     ]
    },
    {
     "name": "stdout",
     "output_type": "stream",
     "text": [
      "[Voting] ...................... (1 of 4) Processing KNN, total=   0.0s\n",
      "[Voting] ...................... (2 of 4) Processing SVC, total=   4.4s\n",
      "[Voting] ..................... (3 of 4) Processing LGBM, total=   0.2s\n",
      "WARNING:tensorflow:Error in loading the saved optimizer state. As a result, your model is starting with a freshly initialized optimizer.\n",
      "[Voting] ...................... (4 of 4) Processing ANN, total=  20.6s\n",
      "Iterazione 750 [[0 0]\n",
      " [5 4]]\n",
      "accuracy 0.4444444444444444\n"
     ]
    },
    {
     "name": "stderr",
     "output_type": "stream",
     "text": [
      "<ipython-input-54-0786b9e49dc3>:22: DeprecationWarning: KerasClassifier is deprecated, use Sci-Keras (https://github.com/adriangb/scikeras) instead.\n",
      "  ANN_best = keras.wrappers.scikit_learn.KerasClassifier(build_nn, epochs= 200, verbose=False)\n"
     ]
    },
    {
     "name": "stdout",
     "output_type": "stream",
     "text": [
      "[Voting] ...................... (1 of 4) Processing KNN, total=   0.0s\n",
      "[Voting] ...................... (2 of 4) Processing SVC, total=   4.4s\n",
      "[Voting] ..................... (3 of 4) Processing LGBM, total=   0.2s\n",
      "WARNING:tensorflow:Error in loading the saved optimizer state. As a result, your model is starting with a freshly initialized optimizer.\n",
      "[Voting] ...................... (4 of 4) Processing ANN, total=  21.4s\n",
      "Iterazione 751 [[0 0]\n",
      " [2 0]]\n",
      "accuracy 0.0\n"
     ]
    },
    {
     "name": "stderr",
     "output_type": "stream",
     "text": [
      "<ipython-input-54-0786b9e49dc3>:22: DeprecationWarning: KerasClassifier is deprecated, use Sci-Keras (https://github.com/adriangb/scikeras) instead.\n",
      "  ANN_best = keras.wrappers.scikit_learn.KerasClassifier(build_nn, epochs= 200, verbose=False)\n"
     ]
    },
    {
     "name": "stdout",
     "output_type": "stream",
     "text": [
      "[Voting] ...................... (1 of 4) Processing KNN, total=   0.0s\n",
      "[Voting] ...................... (2 of 4) Processing SVC, total=   4.3s\n",
      "[Voting] ..................... (3 of 4) Processing LGBM, total=   0.2s\n",
      "WARNING:tensorflow:Error in loading the saved optimizer state. As a result, your model is starting with a freshly initialized optimizer.\n",
      "[Voting] ...................... (4 of 4) Processing ANN, total=  21.6s\n",
      "Iterazione 752 [[3 0]\n",
      " [0 0]]\n",
      "accuracy 1.0\n"
     ]
    },
    {
     "name": "stderr",
     "output_type": "stream",
     "text": [
      "<ipython-input-54-0786b9e49dc3>:22: DeprecationWarning: KerasClassifier is deprecated, use Sci-Keras (https://github.com/adriangb/scikeras) instead.\n",
      "  ANN_best = keras.wrappers.scikit_learn.KerasClassifier(build_nn, epochs= 200, verbose=False)\n"
     ]
    },
    {
     "name": "stdout",
     "output_type": "stream",
     "text": [
      "[Voting] ...................... (1 of 4) Processing KNN, total=   0.0s\n",
      "[Voting] ...................... (2 of 4) Processing SVC, total=   4.1s\n",
      "[Voting] ..................... (3 of 4) Processing LGBM, total=   0.2s\n",
      "WARNING:tensorflow:Error in loading the saved optimizer state. As a result, your model is starting with a freshly initialized optimizer.\n",
      "[Voting] ...................... (4 of 4) Processing ANN, total=  21.0s\n",
      "Iterazione 753 [[0 0]\n",
      " [0 8]]\n",
      "accuracy 1.0\n"
     ]
    },
    {
     "name": "stderr",
     "output_type": "stream",
     "text": [
      "<ipython-input-54-0786b9e49dc3>:22: DeprecationWarning: KerasClassifier is deprecated, use Sci-Keras (https://github.com/adriangb/scikeras) instead.\n",
      "  ANN_best = keras.wrappers.scikit_learn.KerasClassifier(build_nn, epochs= 200, verbose=False)\n"
     ]
    },
    {
     "name": "stdout",
     "output_type": "stream",
     "text": [
      "[Voting] ...................... (1 of 4) Processing KNN, total=   0.0s\n",
      "[Voting] ...................... (2 of 4) Processing SVC, total=   4.5s\n",
      "[Voting] ..................... (3 of 4) Processing LGBM, total=   0.2s\n",
      "WARNING:tensorflow:Error in loading the saved optimizer state. As a result, your model is starting with a freshly initialized optimizer.\n",
      "[Voting] ...................... (4 of 4) Processing ANN, total=  21.1s\n",
      "Iterazione 754 [[0 0]\n",
      " [0 2]]\n",
      "accuracy 1.0\n"
     ]
    },
    {
     "name": "stderr",
     "output_type": "stream",
     "text": [
      "<ipython-input-54-0786b9e49dc3>:22: DeprecationWarning: KerasClassifier is deprecated, use Sci-Keras (https://github.com/adriangb/scikeras) instead.\n",
      "  ANN_best = keras.wrappers.scikit_learn.KerasClassifier(build_nn, epochs= 200, verbose=False)\n"
     ]
    },
    {
     "name": "stdout",
     "output_type": "stream",
     "text": [
      "[Voting] ...................... (1 of 4) Processing KNN, total=   0.0s\n",
      "[Voting] ...................... (2 of 4) Processing SVC, total=   4.2s\n",
      "[Voting] ..................... (3 of 4) Processing LGBM, total=   0.2s\n",
      "WARNING:tensorflow:Error in loading the saved optimizer state. As a result, your model is starting with a freshly initialized optimizer.\n",
      "[Voting] ...................... (4 of 4) Processing ANN, total=  21.0s\n",
      "Iterazione 755 [[4 1]\n",
      " [0 0]]\n",
      "accuracy 0.8\n"
     ]
    },
    {
     "name": "stderr",
     "output_type": "stream",
     "text": [
      "<ipython-input-54-0786b9e49dc3>:22: DeprecationWarning: KerasClassifier is deprecated, use Sci-Keras (https://github.com/adriangb/scikeras) instead.\n",
      "  ANN_best = keras.wrappers.scikit_learn.KerasClassifier(build_nn, epochs= 200, verbose=False)\n"
     ]
    },
    {
     "name": "stdout",
     "output_type": "stream",
     "text": [
      "[Voting] ...................... (1 of 4) Processing KNN, total=   0.0s\n",
      "[Voting] ...................... (2 of 4) Processing SVC, total=   4.3s\n",
      "[Voting] ..................... (3 of 4) Processing LGBM, total=   0.3s\n",
      "WARNING:tensorflow:Error in loading the saved optimizer state. As a result, your model is starting with a freshly initialized optimizer.\n",
      "[Voting] ...................... (4 of 4) Processing ANN, total=  21.0s\n",
      "Iterazione 756 [[5 4]\n",
      " [0 0]]\n",
      "accuracy 0.5555555555555556\n"
     ]
    },
    {
     "name": "stderr",
     "output_type": "stream",
     "text": [
      "<ipython-input-54-0786b9e49dc3>:22: DeprecationWarning: KerasClassifier is deprecated, use Sci-Keras (https://github.com/adriangb/scikeras) instead.\n",
      "  ANN_best = keras.wrappers.scikit_learn.KerasClassifier(build_nn, epochs= 200, verbose=False)\n"
     ]
    },
    {
     "name": "stdout",
     "output_type": "stream",
     "text": [
      "[Voting] ...................... (1 of 4) Processing KNN, total=   0.0s\n",
      "[Voting] ...................... (2 of 4) Processing SVC, total=   4.3s\n",
      "[Voting] ..................... (3 of 4) Processing LGBM, total=   0.2s\n",
      "WARNING:tensorflow:Error in loading the saved optimizer state. As a result, your model is starting with a freshly initialized optimizer.\n",
      "[Voting] ...................... (4 of 4) Processing ANN, total=  20.8s\n",
      "Iterazione 757 [[5 3]\n",
      " [0 0]]\n",
      "accuracy 0.625\n"
     ]
    },
    {
     "name": "stderr",
     "output_type": "stream",
     "text": [
      "<ipython-input-54-0786b9e49dc3>:22: DeprecationWarning: KerasClassifier is deprecated, use Sci-Keras (https://github.com/adriangb/scikeras) instead.\n",
      "  ANN_best = keras.wrappers.scikit_learn.KerasClassifier(build_nn, epochs= 200, verbose=False)\n"
     ]
    },
    {
     "name": "stdout",
     "output_type": "stream",
     "text": [
      "[Voting] ...................... (1 of 4) Processing KNN, total=   0.0s\n",
      "[Voting] ...................... (2 of 4) Processing SVC, total=   4.4s\n",
      "[Voting] ..................... (3 of 4) Processing LGBM, total=   0.2s\n",
      "WARNING:tensorflow:Error in loading the saved optimizer state. As a result, your model is starting with a freshly initialized optimizer.\n",
      "[Voting] ...................... (4 of 4) Processing ANN, total=  21.2s\n",
      "Iterazione 758 [[0 0]\n",
      " [0 5]]\n",
      "accuracy 1.0\n"
     ]
    },
    {
     "name": "stderr",
     "output_type": "stream",
     "text": [
      "<ipython-input-54-0786b9e49dc3>:22: DeprecationWarning: KerasClassifier is deprecated, use Sci-Keras (https://github.com/adriangb/scikeras) instead.\n",
      "  ANN_best = keras.wrappers.scikit_learn.KerasClassifier(build_nn, epochs= 200, verbose=False)\n"
     ]
    },
    {
     "name": "stdout",
     "output_type": "stream",
     "text": [
      "[Voting] ...................... (1 of 4) Processing KNN, total=   0.0s\n",
      "[Voting] ...................... (2 of 4) Processing SVC, total=   4.3s\n",
      "[Voting] ..................... (3 of 4) Processing LGBM, total=   0.2s\n",
      "WARNING:tensorflow:Error in loading the saved optimizer state. As a result, your model is starting with a freshly initialized optimizer.\n",
      "[Voting] ...................... (4 of 4) Processing ANN, total=  21.2s\n",
      "Iterazione 759 [[1 3]\n",
      " [0 0]]\n",
      "accuracy 0.25\n"
     ]
    },
    {
     "name": "stderr",
     "output_type": "stream",
     "text": [
      "<ipython-input-54-0786b9e49dc3>:22: DeprecationWarning: KerasClassifier is deprecated, use Sci-Keras (https://github.com/adriangb/scikeras) instead.\n",
      "  ANN_best = keras.wrappers.scikit_learn.KerasClassifier(build_nn, epochs= 200, verbose=False)\n"
     ]
    },
    {
     "name": "stdout",
     "output_type": "stream",
     "text": [
      "[Voting] ...................... (1 of 4) Processing KNN, total=   0.0s\n",
      "[Voting] ...................... (2 of 4) Processing SVC, total=   4.4s\n",
      "[Voting] ..................... (3 of 4) Processing LGBM, total=   0.2s\n",
      "WARNING:tensorflow:Error in loading the saved optimizer state. As a result, your model is starting with a freshly initialized optimizer.\n",
      "[Voting] ...................... (4 of 4) Processing ANN, total=  21.2s\n",
      "Iterazione 760 [[0 0]\n",
      " [1 4]]\n",
      "accuracy 0.8\n"
     ]
    },
    {
     "name": "stderr",
     "output_type": "stream",
     "text": [
      "<ipython-input-54-0786b9e49dc3>:22: DeprecationWarning: KerasClassifier is deprecated, use Sci-Keras (https://github.com/adriangb/scikeras) instead.\n",
      "  ANN_best = keras.wrappers.scikit_learn.KerasClassifier(build_nn, epochs= 200, verbose=False)\n"
     ]
    },
    {
     "name": "stdout",
     "output_type": "stream",
     "text": [
      "[Voting] ...................... (1 of 4) Processing KNN, total=   0.0s\n",
      "[Voting] ...................... (2 of 4) Processing SVC, total=   4.3s\n",
      "[Voting] ..................... (3 of 4) Processing LGBM, total=   0.2s\n",
      "WARNING:tensorflow:Error in loading the saved optimizer state. As a result, your model is starting with a freshly initialized optimizer.\n",
      "[Voting] ...................... (4 of 4) Processing ANN, total=  21.1s\n",
      "Iterazione 761 [[1 0]\n",
      " [0 0]]\n",
      "accuracy 1.0\n"
     ]
    },
    {
     "name": "stderr",
     "output_type": "stream",
     "text": [
      "<ipython-input-54-0786b9e49dc3>:22: DeprecationWarning: KerasClassifier is deprecated, use Sci-Keras (https://github.com/adriangb/scikeras) instead.\n",
      "  ANN_best = keras.wrappers.scikit_learn.KerasClassifier(build_nn, epochs= 200, verbose=False)\n"
     ]
    },
    {
     "name": "stdout",
     "output_type": "stream",
     "text": [
      "[Voting] ...................... (1 of 4) Processing KNN, total=   0.0s\n",
      "[Voting] ...................... (2 of 4) Processing SVC, total=   4.3s\n",
      "[Voting] ..................... (3 of 4) Processing LGBM, total=   0.2s\n",
      "WARNING:tensorflow:Error in loading the saved optimizer state. As a result, your model is starting with a freshly initialized optimizer.\n",
      "[Voting] ...................... (4 of 4) Processing ANN, total=  21.2s\n",
      "Iterazione 762 [[0 0]\n",
      " [1 3]]\n",
      "accuracy 0.75\n"
     ]
    },
    {
     "name": "stderr",
     "output_type": "stream",
     "text": [
      "<ipython-input-54-0786b9e49dc3>:22: DeprecationWarning: KerasClassifier is deprecated, use Sci-Keras (https://github.com/adriangb/scikeras) instead.\n",
      "  ANN_best = keras.wrappers.scikit_learn.KerasClassifier(build_nn, epochs= 200, verbose=False)\n"
     ]
    },
    {
     "name": "stdout",
     "output_type": "stream",
     "text": [
      "[Voting] ...................... (1 of 4) Processing KNN, total=   0.0s\n",
      "[Voting] ...................... (2 of 4) Processing SVC, total=   4.3s\n",
      "[Voting] ..................... (3 of 4) Processing LGBM, total=   0.2s\n",
      "WARNING:tensorflow:Error in loading the saved optimizer state. As a result, your model is starting with a freshly initialized optimizer.\n",
      "[Voting] ...................... (4 of 4) Processing ANN, total=  21.1s\n",
      "Iterazione 763 [[4 0]\n",
      " [0 0]]\n",
      "accuracy 1.0\n"
     ]
    },
    {
     "name": "stderr",
     "output_type": "stream",
     "text": [
      "<ipython-input-54-0786b9e49dc3>:22: DeprecationWarning: KerasClassifier is deprecated, use Sci-Keras (https://github.com/adriangb/scikeras) instead.\n",
      "  ANN_best = keras.wrappers.scikit_learn.KerasClassifier(build_nn, epochs= 200, verbose=False)\n"
     ]
    },
    {
     "name": "stdout",
     "output_type": "stream",
     "text": [
      "[Voting] ...................... (1 of 4) Processing KNN, total=   0.0s\n",
      "[Voting] ...................... (2 of 4) Processing SVC, total=   4.2s\n",
      "[Voting] ..................... (3 of 4) Processing LGBM, total=   0.2s\n",
      "WARNING:tensorflow:Error in loading the saved optimizer state. As a result, your model is starting with a freshly initialized optimizer.\n",
      "[Voting] ...................... (4 of 4) Processing ANN, total=  21.3s\n",
      "Iterazione 764 [[1 1]\n",
      " [0 0]]\n",
      "accuracy 0.5\n"
     ]
    },
    {
     "name": "stderr",
     "output_type": "stream",
     "text": [
      "<ipython-input-54-0786b9e49dc3>:22: DeprecationWarning: KerasClassifier is deprecated, use Sci-Keras (https://github.com/adriangb/scikeras) instead.\n",
      "  ANN_best = keras.wrappers.scikit_learn.KerasClassifier(build_nn, epochs= 200, verbose=False)\n"
     ]
    },
    {
     "name": "stdout",
     "output_type": "stream",
     "text": [
      "[Voting] ...................... (1 of 4) Processing KNN, total=   0.0s\n",
      "[Voting] ...................... (2 of 4) Processing SVC, total=   4.2s\n",
      "[Voting] ..................... (3 of 4) Processing LGBM, total=   0.2s\n",
      "WARNING:tensorflow:Error in loading the saved optimizer state. As a result, your model is starting with a freshly initialized optimizer.\n",
      "[Voting] ...................... (4 of 4) Processing ANN, total=  20.8s\n",
      "Iterazione 765 [[0 0]\n",
      " [0 2]]\n",
      "accuracy 1.0\n"
     ]
    },
    {
     "name": "stderr",
     "output_type": "stream",
     "text": [
      "<ipython-input-54-0786b9e49dc3>:22: DeprecationWarning: KerasClassifier is deprecated, use Sci-Keras (https://github.com/adriangb/scikeras) instead.\n",
      "  ANN_best = keras.wrappers.scikit_learn.KerasClassifier(build_nn, epochs= 200, verbose=False)\n"
     ]
    },
    {
     "name": "stdout",
     "output_type": "stream",
     "text": [
      "[Voting] ...................... (1 of 4) Processing KNN, total=   0.0s\n",
      "[Voting] ...................... (2 of 4) Processing SVC, total=   4.4s\n",
      "[Voting] ..................... (3 of 4) Processing LGBM, total=   0.2s\n",
      "WARNING:tensorflow:Error in loading the saved optimizer state. As a result, your model is starting with a freshly initialized optimizer.\n",
      "[Voting] ...................... (4 of 4) Processing ANN, total=  21.1s\n",
      "Iterazione 766 [[2 2]\n",
      " [0 0]]\n",
      "accuracy 0.5\n"
     ]
    },
    {
     "name": "stderr",
     "output_type": "stream",
     "text": [
      "<ipython-input-54-0786b9e49dc3>:22: DeprecationWarning: KerasClassifier is deprecated, use Sci-Keras (https://github.com/adriangb/scikeras) instead.\n",
      "  ANN_best = keras.wrappers.scikit_learn.KerasClassifier(build_nn, epochs= 200, verbose=False)\n"
     ]
    },
    {
     "name": "stdout",
     "output_type": "stream",
     "text": [
      "[Voting] ...................... (1 of 4) Processing KNN, total=   0.0s\n",
      "[Voting] ...................... (2 of 4) Processing SVC, total=   4.1s\n",
      "[Voting] ..................... (3 of 4) Processing LGBM, total=   0.2s\n",
      "WARNING:tensorflow:Error in loading the saved optimizer state. As a result, your model is starting with a freshly initialized optimizer.\n",
      "[Voting] ...................... (4 of 4) Processing ANN, total=  21.5s\n",
      "Iterazione 767 [[0 0]\n",
      " [5 4]]\n",
      "accuracy 0.4444444444444444\n"
     ]
    },
    {
     "name": "stderr",
     "output_type": "stream",
     "text": [
      "<ipython-input-54-0786b9e49dc3>:22: DeprecationWarning: KerasClassifier is deprecated, use Sci-Keras (https://github.com/adriangb/scikeras) instead.\n",
      "  ANN_best = keras.wrappers.scikit_learn.KerasClassifier(build_nn, epochs= 200, verbose=False)\n"
     ]
    },
    {
     "name": "stdout",
     "output_type": "stream",
     "text": [
      "[Voting] ...................... (1 of 4) Processing KNN, total=   0.0s\n",
      "[Voting] ...................... (2 of 4) Processing SVC, total=   4.1s\n",
      "[Voting] ..................... (3 of 4) Processing LGBM, total=   0.2s\n",
      "WARNING:tensorflow:Error in loading the saved optimizer state. As a result, your model is starting with a freshly initialized optimizer.\n",
      "[Voting] ...................... (4 of 4) Processing ANN, total=  21.0s\n",
      "Iterazione 768 [[0 0]\n",
      " [1 3]]\n",
      "accuracy 0.75\n"
     ]
    },
    {
     "name": "stderr",
     "output_type": "stream",
     "text": [
      "<ipython-input-54-0786b9e49dc3>:22: DeprecationWarning: KerasClassifier is deprecated, use Sci-Keras (https://github.com/adriangb/scikeras) instead.\n",
      "  ANN_best = keras.wrappers.scikit_learn.KerasClassifier(build_nn, epochs= 200, verbose=False)\n"
     ]
    },
    {
     "name": "stdout",
     "output_type": "stream",
     "text": [
      "[Voting] ...................... (1 of 4) Processing KNN, total=   0.0s\n",
      "[Voting] ...................... (2 of 4) Processing SVC, total=   4.3s\n",
      "[Voting] ..................... (3 of 4) Processing LGBM, total=   0.2s\n",
      "WARNING:tensorflow:Error in loading the saved optimizer state. As a result, your model is starting with a freshly initialized optimizer.\n",
      "[Voting] ...................... (4 of 4) Processing ANN, total=  21.1s\n",
      "Iterazione 769 [[3 0]\n",
      " [0 0]]\n",
      "accuracy 1.0\n"
     ]
    },
    {
     "name": "stderr",
     "output_type": "stream",
     "text": [
      "<ipython-input-54-0786b9e49dc3>:22: DeprecationWarning: KerasClassifier is deprecated, use Sci-Keras (https://github.com/adriangb/scikeras) instead.\n",
      "  ANN_best = keras.wrappers.scikit_learn.KerasClassifier(build_nn, epochs= 200, verbose=False)\n"
     ]
    },
    {
     "name": "stdout",
     "output_type": "stream",
     "text": [
      "[Voting] ...................... (1 of 4) Processing KNN, total=   0.0s\n",
      "[Voting] ...................... (2 of 4) Processing SVC, total=   4.3s\n",
      "[Voting] ..................... (3 of 4) Processing LGBM, total=   0.2s\n",
      "WARNING:tensorflow:Error in loading the saved optimizer state. As a result, your model is starting with a freshly initialized optimizer.\n",
      "[Voting] ...................... (4 of 4) Processing ANN, total=  21.2s\n",
      "Iterazione 770 [[1 1]\n",
      " [0 0]]\n",
      "accuracy 0.5\n"
     ]
    },
    {
     "name": "stderr",
     "output_type": "stream",
     "text": [
      "<ipython-input-54-0786b9e49dc3>:22: DeprecationWarning: KerasClassifier is deprecated, use Sci-Keras (https://github.com/adriangb/scikeras) instead.\n",
      "  ANN_best = keras.wrappers.scikit_learn.KerasClassifier(build_nn, epochs= 200, verbose=False)\n"
     ]
    },
    {
     "name": "stdout",
     "output_type": "stream",
     "text": [
      "[Voting] ...................... (1 of 4) Processing KNN, total=   0.0s\n",
      "[Voting] ...................... (2 of 4) Processing SVC, total=   4.3s\n",
      "[Voting] ..................... (3 of 4) Processing LGBM, total=   0.2s\n",
      "WARNING:tensorflow:Error in loading the saved optimizer state. As a result, your model is starting with a freshly initialized optimizer.\n",
      "[Voting] ...................... (4 of 4) Processing ANN, total=  21.1s\n",
      "Iterazione 771 [[0 1]\n",
      " [0 0]]\n",
      "accuracy 0.0\n"
     ]
    },
    {
     "name": "stderr",
     "output_type": "stream",
     "text": [
      "<ipython-input-54-0786b9e49dc3>:22: DeprecationWarning: KerasClassifier is deprecated, use Sci-Keras (https://github.com/adriangb/scikeras) instead.\n",
      "  ANN_best = keras.wrappers.scikit_learn.KerasClassifier(build_nn, epochs= 200, verbose=False)\n"
     ]
    },
    {
     "name": "stdout",
     "output_type": "stream",
     "text": [
      "[Voting] ...................... (1 of 4) Processing KNN, total=   0.0s\n",
      "[Voting] ...................... (2 of 4) Processing SVC, total=   4.3s\n",
      "[Voting] ..................... (3 of 4) Processing LGBM, total=   0.3s\n",
      "WARNING:tensorflow:Error in loading the saved optimizer state. As a result, your model is starting with a freshly initialized optimizer.\n",
      "[Voting] ...................... (4 of 4) Processing ANN, total=  21.1s\n",
      "Iterazione 772 [[1 3]\n",
      " [0 0]]\n",
      "accuracy 0.25\n"
     ]
    },
    {
     "name": "stderr",
     "output_type": "stream",
     "text": [
      "<ipython-input-54-0786b9e49dc3>:22: DeprecationWarning: KerasClassifier is deprecated, use Sci-Keras (https://github.com/adriangb/scikeras) instead.\n",
      "  ANN_best = keras.wrappers.scikit_learn.KerasClassifier(build_nn, epochs= 200, verbose=False)\n"
     ]
    },
    {
     "name": "stdout",
     "output_type": "stream",
     "text": [
      "[Voting] ...................... (1 of 4) Processing KNN, total=   0.0s\n",
      "[Voting] ...................... (2 of 4) Processing SVC, total=   4.3s\n",
      "[Voting] ..................... (3 of 4) Processing LGBM, total=   0.2s\n",
      "WARNING:tensorflow:Error in loading the saved optimizer state. As a result, your model is starting with a freshly initialized optimizer.\n",
      "[Voting] ...................... (4 of 4) Processing ANN, total=  21.2s\n",
      "Iterazione 773 [[0 0]\n",
      " [0 3]]\n",
      "accuracy 1.0\n"
     ]
    },
    {
     "name": "stderr",
     "output_type": "stream",
     "text": [
      "<ipython-input-54-0786b9e49dc3>:22: DeprecationWarning: KerasClassifier is deprecated, use Sci-Keras (https://github.com/adriangb/scikeras) instead.\n",
      "  ANN_best = keras.wrappers.scikit_learn.KerasClassifier(build_nn, epochs= 200, verbose=False)\n"
     ]
    },
    {
     "name": "stdout",
     "output_type": "stream",
     "text": [
      "[Voting] ...................... (1 of 4) Processing KNN, total=   0.0s\n",
      "[Voting] ...................... (2 of 4) Processing SVC, total=   4.3s\n",
      "[Voting] ..................... (3 of 4) Processing LGBM, total=   0.2s\n",
      "WARNING:tensorflow:Error in loading the saved optimizer state. As a result, your model is starting with a freshly initialized optimizer.\n",
      "[Voting] ...................... (4 of 4) Processing ANN, total=  21.5s\n",
      "Iterazione 774 [[6 3]\n",
      " [0 0]]\n",
      "accuracy 0.6666666666666666\n"
     ]
    },
    {
     "name": "stderr",
     "output_type": "stream",
     "text": [
      "<ipython-input-54-0786b9e49dc3>:22: DeprecationWarning: KerasClassifier is deprecated, use Sci-Keras (https://github.com/adriangb/scikeras) instead.\n",
      "  ANN_best = keras.wrappers.scikit_learn.KerasClassifier(build_nn, epochs= 200, verbose=False)\n"
     ]
    },
    {
     "name": "stdout",
     "output_type": "stream",
     "text": [
      "[Voting] ...................... (1 of 4) Processing KNN, total=   0.0s\n",
      "[Voting] ...................... (2 of 4) Processing SVC, total=   4.4s\n",
      "[Voting] ..................... (3 of 4) Processing LGBM, total=   0.3s\n",
      "WARNING:tensorflow:Error in loading the saved optimizer state. As a result, your model is starting with a freshly initialized optimizer.\n",
      "[Voting] ...................... (4 of 4) Processing ANN, total=  20.9s\n",
      "Iterazione 775 [[0 4]\n",
      " [0 0]]\n",
      "accuracy 0.0\n"
     ]
    },
    {
     "name": "stderr",
     "output_type": "stream",
     "text": [
      "<ipython-input-54-0786b9e49dc3>:22: DeprecationWarning: KerasClassifier is deprecated, use Sci-Keras (https://github.com/adriangb/scikeras) instead.\n",
      "  ANN_best = keras.wrappers.scikit_learn.KerasClassifier(build_nn, epochs= 200, verbose=False)\n"
     ]
    },
    {
     "name": "stdout",
     "output_type": "stream",
     "text": [
      "[Voting] ...................... (1 of 4) Processing KNN, total=   0.0s\n",
      "[Voting] ...................... (2 of 4) Processing SVC, total=   4.2s\n",
      "[Voting] ..................... (3 of 4) Processing LGBM, total=   0.2s\n",
      "WARNING:tensorflow:Error in loading the saved optimizer state. As a result, your model is starting with a freshly initialized optimizer.\n",
      "[Voting] ...................... (4 of 4) Processing ANN, total=  21.2s\n",
      "Iterazione 776 [[3 0]\n",
      " [0 0]]\n",
      "accuracy 1.0\n"
     ]
    },
    {
     "name": "stderr",
     "output_type": "stream",
     "text": [
      "<ipython-input-54-0786b9e49dc3>:22: DeprecationWarning: KerasClassifier is deprecated, use Sci-Keras (https://github.com/adriangb/scikeras) instead.\n",
      "  ANN_best = keras.wrappers.scikit_learn.KerasClassifier(build_nn, epochs= 200, verbose=False)\n"
     ]
    },
    {
     "name": "stdout",
     "output_type": "stream",
     "text": [
      "[Voting] ...................... (1 of 4) Processing KNN, total=   0.0s\n",
      "[Voting] ...................... (2 of 4) Processing SVC, total=   4.5s\n",
      "[Voting] ..................... (3 of 4) Processing LGBM, total=   0.2s\n",
      "WARNING:tensorflow:Error in loading the saved optimizer state. As a result, your model is starting with a freshly initialized optimizer.\n",
      "[Voting] ...................... (4 of 4) Processing ANN, total=  20.9s\n",
      "Iterazione 777 [[3 1]\n",
      " [0 0]]\n",
      "accuracy 0.75\n"
     ]
    },
    {
     "name": "stderr",
     "output_type": "stream",
     "text": [
      "<ipython-input-54-0786b9e49dc3>:22: DeprecationWarning: KerasClassifier is deprecated, use Sci-Keras (https://github.com/adriangb/scikeras) instead.\n",
      "  ANN_best = keras.wrappers.scikit_learn.KerasClassifier(build_nn, epochs= 200, verbose=False)\n"
     ]
    },
    {
     "name": "stdout",
     "output_type": "stream",
     "text": [
      "[Voting] ...................... (1 of 4) Processing KNN, total=   0.0s\n",
      "[Voting] ...................... (2 of 4) Processing SVC, total=   4.2s\n",
      "[Voting] ..................... (3 of 4) Processing LGBM, total=   0.2s\n",
      "WARNING:tensorflow:Error in loading the saved optimizer state. As a result, your model is starting with a freshly initialized optimizer.\n",
      "[Voting] ...................... (4 of 4) Processing ANN, total=  21.2s\n",
      "Iterazione 778 [[0 0]\n",
      " [1 4]]\n",
      "accuracy 0.8\n"
     ]
    },
    {
     "name": "stderr",
     "output_type": "stream",
     "text": [
      "<ipython-input-54-0786b9e49dc3>:22: DeprecationWarning: KerasClassifier is deprecated, use Sci-Keras (https://github.com/adriangb/scikeras) instead.\n",
      "  ANN_best = keras.wrappers.scikit_learn.KerasClassifier(build_nn, epochs= 200, verbose=False)\n"
     ]
    },
    {
     "name": "stdout",
     "output_type": "stream",
     "text": [
      "[Voting] ...................... (1 of 4) Processing KNN, total=   0.0s\n",
      "[Voting] ...................... (2 of 4) Processing SVC, total=   4.3s\n",
      "[Voting] ..................... (3 of 4) Processing LGBM, total=   0.2s\n",
      "WARNING:tensorflow:Error in loading the saved optimizer state. As a result, your model is starting with a freshly initialized optimizer.\n",
      "[Voting] ...................... (4 of 4) Processing ANN, total=  21.0s\n",
      "Iterazione 779 [[1 3]\n",
      " [0 0]]\n",
      "accuracy 0.25\n"
     ]
    },
    {
     "name": "stderr",
     "output_type": "stream",
     "text": [
      "<ipython-input-54-0786b9e49dc3>:22: DeprecationWarning: KerasClassifier is deprecated, use Sci-Keras (https://github.com/adriangb/scikeras) instead.\n",
      "  ANN_best = keras.wrappers.scikit_learn.KerasClassifier(build_nn, epochs= 200, verbose=False)\n"
     ]
    },
    {
     "name": "stdout",
     "output_type": "stream",
     "text": [
      "[Voting] ...................... (1 of 4) Processing KNN, total=   0.0s\n",
      "[Voting] ...................... (2 of 4) Processing SVC, total=   4.4s\n",
      "[Voting] ..................... (3 of 4) Processing LGBM, total=   0.2s\n",
      "WARNING:tensorflow:Error in loading the saved optimizer state. As a result, your model is starting with a freshly initialized optimizer.\n",
      "[Voting] ...................... (4 of 4) Processing ANN, total=  20.9s\n",
      "Iterazione 780 [[0 0]\n",
      " [1 6]]\n",
      "accuracy 0.8571428571428571\n"
     ]
    },
    {
     "name": "stderr",
     "output_type": "stream",
     "text": [
      "<ipython-input-54-0786b9e49dc3>:22: DeprecationWarning: KerasClassifier is deprecated, use Sci-Keras (https://github.com/adriangb/scikeras) instead.\n",
      "  ANN_best = keras.wrappers.scikit_learn.KerasClassifier(build_nn, epochs= 200, verbose=False)\n"
     ]
    },
    {
     "name": "stdout",
     "output_type": "stream",
     "text": [
      "[Voting] ...................... (1 of 4) Processing KNN, total=   0.0s\n",
      "[Voting] ...................... (2 of 4) Processing SVC, total=   4.3s\n",
      "[Voting] ..................... (3 of 4) Processing LGBM, total=   0.2s\n",
      "WARNING:tensorflow:Error in loading the saved optimizer state. As a result, your model is starting with a freshly initialized optimizer.\n",
      "[Voting] ...................... (4 of 4) Processing ANN, total=  21.2s\n",
      "Iterazione 781 [[0 0]\n",
      " [0 5]]\n",
      "accuracy 1.0\n"
     ]
    },
    {
     "name": "stderr",
     "output_type": "stream",
     "text": [
      "<ipython-input-54-0786b9e49dc3>:22: DeprecationWarning: KerasClassifier is deprecated, use Sci-Keras (https://github.com/adriangb/scikeras) instead.\n",
      "  ANN_best = keras.wrappers.scikit_learn.KerasClassifier(build_nn, epochs= 200, verbose=False)\n"
     ]
    },
    {
     "name": "stdout",
     "output_type": "stream",
     "text": [
      "[Voting] ...................... (1 of 4) Processing KNN, total=   0.0s\n",
      "[Voting] ...................... (2 of 4) Processing SVC, total=   4.4s\n",
      "[Voting] ..................... (3 of 4) Processing LGBM, total=   0.2s\n",
      "WARNING:tensorflow:Error in loading the saved optimizer state. As a result, your model is starting with a freshly initialized optimizer.\n",
      "[Voting] ...................... (4 of 4) Processing ANN, total=  20.9s\n",
      "Iterazione 782 [[0 0]\n",
      " [0 3]]\n",
      "accuracy 1.0\n"
     ]
    },
    {
     "name": "stderr",
     "output_type": "stream",
     "text": [
      "<ipython-input-54-0786b9e49dc3>:22: DeprecationWarning: KerasClassifier is deprecated, use Sci-Keras (https://github.com/adriangb/scikeras) instead.\n",
      "  ANN_best = keras.wrappers.scikit_learn.KerasClassifier(build_nn, epochs= 200, verbose=False)\n"
     ]
    },
    {
     "name": "stdout",
     "output_type": "stream",
     "text": [
      "[Voting] ...................... (1 of 4) Processing KNN, total=   0.0s\n",
      "[Voting] ...................... (2 of 4) Processing SVC, total=   4.4s\n",
      "[Voting] ..................... (3 of 4) Processing LGBM, total=   0.2s\n",
      "WARNING:tensorflow:Error in loading the saved optimizer state. As a result, your model is starting with a freshly initialized optimizer.\n",
      "[Voting] ...................... (4 of 4) Processing ANN, total=  21.4s\n",
      "Iterazione 783 [[0 0]\n",
      " [0 3]]\n",
      "accuracy 1.0\n"
     ]
    },
    {
     "name": "stderr",
     "output_type": "stream",
     "text": [
      "<ipython-input-54-0786b9e49dc3>:22: DeprecationWarning: KerasClassifier is deprecated, use Sci-Keras (https://github.com/adriangb/scikeras) instead.\n",
      "  ANN_best = keras.wrappers.scikit_learn.KerasClassifier(build_nn, epochs= 200, verbose=False)\n"
     ]
    },
    {
     "name": "stdout",
     "output_type": "stream",
     "text": [
      "[Voting] ...................... (1 of 4) Processing KNN, total=   0.0s\n",
      "[Voting] ...................... (2 of 4) Processing SVC, total=   4.3s\n",
      "[Voting] ..................... (3 of 4) Processing LGBM, total=   0.2s\n",
      "WARNING:tensorflow:Error in loading the saved optimizer state. As a result, your model is starting with a freshly initialized optimizer.\n",
      "[Voting] ...................... (4 of 4) Processing ANN, total=  21.3s\n",
      "Iterazione 784 [[0 0]\n",
      " [3 1]]\n",
      "accuracy 0.25\n"
     ]
    },
    {
     "name": "stderr",
     "output_type": "stream",
     "text": [
      "<ipython-input-54-0786b9e49dc3>:22: DeprecationWarning: KerasClassifier is deprecated, use Sci-Keras (https://github.com/adriangb/scikeras) instead.\n",
      "  ANN_best = keras.wrappers.scikit_learn.KerasClassifier(build_nn, epochs= 200, verbose=False)\n"
     ]
    },
    {
     "name": "stdout",
     "output_type": "stream",
     "text": [
      "[Voting] ...................... (1 of 4) Processing KNN, total=   0.0s\n",
      "[Voting] ...................... (2 of 4) Processing SVC, total=   4.0s\n",
      "[Voting] ..................... (3 of 4) Processing LGBM, total=   0.2s\n",
      "WARNING:tensorflow:Error in loading the saved optimizer state. As a result, your model is starting with a freshly initialized optimizer.\n",
      "[Voting] ...................... (4 of 4) Processing ANN, total=  21.2s\n",
      "Iterazione 785 [[0 0]\n",
      " [5 1]]\n",
      "accuracy 0.16666666666666666\n"
     ]
    },
    {
     "name": "stderr",
     "output_type": "stream",
     "text": [
      "<ipython-input-54-0786b9e49dc3>:22: DeprecationWarning: KerasClassifier is deprecated, use Sci-Keras (https://github.com/adriangb/scikeras) instead.\n",
      "  ANN_best = keras.wrappers.scikit_learn.KerasClassifier(build_nn, epochs= 200, verbose=False)\n"
     ]
    },
    {
     "name": "stdout",
     "output_type": "stream",
     "text": [
      "[Voting] ...................... (1 of 4) Processing KNN, total=   0.0s\n",
      "[Voting] ...................... (2 of 4) Processing SVC, total=   4.3s\n",
      "[Voting] ..................... (3 of 4) Processing LGBM, total=   0.2s\n",
      "WARNING:tensorflow:Error in loading the saved optimizer state. As a result, your model is starting with a freshly initialized optimizer.\n",
      "[Voting] ...................... (4 of 4) Processing ANN, total=  21.0s\n",
      "Iterazione 786 [[0 0]\n",
      " [2 0]]\n",
      "accuracy 0.0\n"
     ]
    },
    {
     "name": "stderr",
     "output_type": "stream",
     "text": [
      "<ipython-input-54-0786b9e49dc3>:22: DeprecationWarning: KerasClassifier is deprecated, use Sci-Keras (https://github.com/adriangb/scikeras) instead.\n",
      "  ANN_best = keras.wrappers.scikit_learn.KerasClassifier(build_nn, epochs= 200, verbose=False)\n"
     ]
    },
    {
     "name": "stdout",
     "output_type": "stream",
     "text": [
      "[Voting] ...................... (1 of 4) Processing KNN, total=   0.0s\n",
      "[Voting] ...................... (2 of 4) Processing SVC, total=   4.2s\n",
      "[Voting] ..................... (3 of 4) Processing LGBM, total=   0.2s\n",
      "WARNING:tensorflow:Error in loading the saved optimizer state. As a result, your model is starting with a freshly initialized optimizer.\n",
      "[Voting] ...................... (4 of 4) Processing ANN, total=  21.2s\n",
      "Iterazione 787 [[4 1]\n",
      " [0 0]]\n",
      "accuracy 0.8\n"
     ]
    },
    {
     "name": "stderr",
     "output_type": "stream",
     "text": [
      "<ipython-input-54-0786b9e49dc3>:22: DeprecationWarning: KerasClassifier is deprecated, use Sci-Keras (https://github.com/adriangb/scikeras) instead.\n",
      "  ANN_best = keras.wrappers.scikit_learn.KerasClassifier(build_nn, epochs= 200, verbose=False)\n"
     ]
    },
    {
     "name": "stdout",
     "output_type": "stream",
     "text": [
      "[Voting] ...................... (1 of 4) Processing KNN, total=   0.0s\n",
      "[Voting] ...................... (2 of 4) Processing SVC, total=   4.4s\n",
      "[Voting] ..................... (3 of 4) Processing LGBM, total=   0.2s\n",
      "WARNING:tensorflow:Error in loading the saved optimizer state. As a result, your model is starting with a freshly initialized optimizer.\n",
      "[Voting] ...................... (4 of 4) Processing ANN, total=  21.0s\n",
      "Iterazione 788 [[1 2]\n",
      " [0 0]]\n",
      "accuracy 0.3333333333333333\n"
     ]
    },
    {
     "name": "stderr",
     "output_type": "stream",
     "text": [
      "<ipython-input-54-0786b9e49dc3>:22: DeprecationWarning: KerasClassifier is deprecated, use Sci-Keras (https://github.com/adriangb/scikeras) instead.\n",
      "  ANN_best = keras.wrappers.scikit_learn.KerasClassifier(build_nn, epochs= 200, verbose=False)\n"
     ]
    },
    {
     "name": "stdout",
     "output_type": "stream",
     "text": [
      "[Voting] ...................... (1 of 4) Processing KNN, total=   0.0s\n",
      "[Voting] ...................... (2 of 4) Processing SVC, total=   4.2s\n",
      "[Voting] ..................... (3 of 4) Processing LGBM, total=   0.2s\n",
      "WARNING:tensorflow:Error in loading the saved optimizer state. As a result, your model is starting with a freshly initialized optimizer.\n",
      "[Voting] ...................... (4 of 4) Processing ANN, total=  21.1s\n",
      "Iterazione 789 [[0 0]\n",
      " [1 3]]\n",
      "accuracy 0.75\n"
     ]
    },
    {
     "name": "stderr",
     "output_type": "stream",
     "text": [
      "<ipython-input-54-0786b9e49dc3>:22: DeprecationWarning: KerasClassifier is deprecated, use Sci-Keras (https://github.com/adriangb/scikeras) instead.\n",
      "  ANN_best = keras.wrappers.scikit_learn.KerasClassifier(build_nn, epochs= 200, verbose=False)\n"
     ]
    },
    {
     "name": "stdout",
     "output_type": "stream",
     "text": [
      "[Voting] ...................... (1 of 4) Processing KNN, total=   0.0s\n",
      "[Voting] ...................... (2 of 4) Processing SVC, total=   4.2s\n",
      "[Voting] ..................... (3 of 4) Processing LGBM, total=   0.3s\n",
      "WARNING:tensorflow:Error in loading the saved optimizer state. As a result, your model is starting with a freshly initialized optimizer.\n",
      "[Voting] ...................... (4 of 4) Processing ANN, total=  21.1s\n",
      "Iterazione 790 [[6 3]\n",
      " [0 0]]\n",
      "accuracy 0.6666666666666666\n"
     ]
    },
    {
     "name": "stderr",
     "output_type": "stream",
     "text": [
      "<ipython-input-54-0786b9e49dc3>:22: DeprecationWarning: KerasClassifier is deprecated, use Sci-Keras (https://github.com/adriangb/scikeras) instead.\n",
      "  ANN_best = keras.wrappers.scikit_learn.KerasClassifier(build_nn, epochs= 200, verbose=False)\n"
     ]
    },
    {
     "name": "stdout",
     "output_type": "stream",
     "text": [
      "[Voting] ...................... (1 of 4) Processing KNN, total=   0.0s\n",
      "[Voting] ...................... (2 of 4) Processing SVC, total=   4.3s\n",
      "[Voting] ..................... (3 of 4) Processing LGBM, total=   0.2s\n",
      "WARNING:tensorflow:Error in loading the saved optimizer state. As a result, your model is starting with a freshly initialized optimizer.\n",
      "[Voting] ...................... (4 of 4) Processing ANN, total=  21.0s\n",
      "Iterazione 791 [[0 0]\n",
      " [2 1]]\n",
      "accuracy 0.3333333333333333\n"
     ]
    },
    {
     "name": "stderr",
     "output_type": "stream",
     "text": [
      "<ipython-input-54-0786b9e49dc3>:22: DeprecationWarning: KerasClassifier is deprecated, use Sci-Keras (https://github.com/adriangb/scikeras) instead.\n",
      "  ANN_best = keras.wrappers.scikit_learn.KerasClassifier(build_nn, epochs= 200, verbose=False)\n"
     ]
    },
    {
     "name": "stdout",
     "output_type": "stream",
     "text": [
      "[Voting] ...................... (1 of 4) Processing KNN, total=   0.0s\n",
      "[Voting] ...................... (2 of 4) Processing SVC, total=   4.4s\n",
      "[Voting] ..................... (3 of 4) Processing LGBM, total=   0.2s\n",
      "WARNING:tensorflow:Error in loading the saved optimizer state. As a result, your model is starting with a freshly initialized optimizer.\n",
      "[Voting] ...................... (4 of 4) Processing ANN, total=  21.3s\n",
      "Iterazione 792 [[0 0]\n",
      " [1 1]]\n",
      "accuracy 0.5\n"
     ]
    },
    {
     "name": "stderr",
     "output_type": "stream",
     "text": [
      "<ipython-input-54-0786b9e49dc3>:22: DeprecationWarning: KerasClassifier is deprecated, use Sci-Keras (https://github.com/adriangb/scikeras) instead.\n",
      "  ANN_best = keras.wrappers.scikit_learn.KerasClassifier(build_nn, epochs= 200, verbose=False)\n"
     ]
    },
    {
     "name": "stdout",
     "output_type": "stream",
     "text": [
      "[Voting] ...................... (1 of 4) Processing KNN, total=   0.0s\n",
      "[Voting] ...................... (2 of 4) Processing SVC, total=   4.2s\n",
      "[Voting] ..................... (3 of 4) Processing LGBM, total=   0.2s\n",
      "WARNING:tensorflow:Error in loading the saved optimizer state. As a result, your model is starting with a freshly initialized optimizer.\n",
      "[Voting] ...................... (4 of 4) Processing ANN, total=  21.1s\n",
      "Iterazione 793 [[3 1]\n",
      " [0 0]]\n",
      "accuracy 0.75\n"
     ]
    },
    {
     "name": "stderr",
     "output_type": "stream",
     "text": [
      "<ipython-input-54-0786b9e49dc3>:22: DeprecationWarning: KerasClassifier is deprecated, use Sci-Keras (https://github.com/adriangb/scikeras) instead.\n",
      "  ANN_best = keras.wrappers.scikit_learn.KerasClassifier(build_nn, epochs= 200, verbose=False)\n"
     ]
    },
    {
     "name": "stdout",
     "output_type": "stream",
     "text": [
      "[Voting] ...................... (1 of 4) Processing KNN, total=   0.0s\n",
      "[Voting] ...................... (2 of 4) Processing SVC, total=   4.4s\n",
      "[Voting] ..................... (3 of 4) Processing LGBM, total=   0.2s\n",
      "WARNING:tensorflow:Error in loading the saved optimizer state. As a result, your model is starting with a freshly initialized optimizer.\n",
      "[Voting] ...................... (4 of 4) Processing ANN, total=  20.8s\n",
      "Iterazione 794 [[0 0]\n",
      " [1 1]]\n",
      "accuracy 0.5\n"
     ]
    },
    {
     "name": "stderr",
     "output_type": "stream",
     "text": [
      "<ipython-input-54-0786b9e49dc3>:22: DeprecationWarning: KerasClassifier is deprecated, use Sci-Keras (https://github.com/adriangb/scikeras) instead.\n",
      "  ANN_best = keras.wrappers.scikit_learn.KerasClassifier(build_nn, epochs= 200, verbose=False)\n"
     ]
    },
    {
     "name": "stdout",
     "output_type": "stream",
     "text": [
      "[Voting] ...................... (1 of 4) Processing KNN, total=   0.0s\n",
      "[Voting] ...................... (2 of 4) Processing SVC, total=   4.3s\n",
      "[Voting] ..................... (3 of 4) Processing LGBM, total=   0.2s\n",
      "WARNING:tensorflow:Error in loading the saved optimizer state. As a result, your model is starting with a freshly initialized optimizer.\n",
      "[Voting] ...................... (4 of 4) Processing ANN, total=  20.5s\n",
      "Iterazione 795 [[2 3]\n",
      " [0 0]]\n",
      "accuracy 0.4\n"
     ]
    },
    {
     "name": "stderr",
     "output_type": "stream",
     "text": [
      "<ipython-input-54-0786b9e49dc3>:22: DeprecationWarning: KerasClassifier is deprecated, use Sci-Keras (https://github.com/adriangb/scikeras) instead.\n",
      "  ANN_best = keras.wrappers.scikit_learn.KerasClassifier(build_nn, epochs= 200, verbose=False)\n"
     ]
    },
    {
     "name": "stdout",
     "output_type": "stream",
     "text": [
      "[Voting] ...................... (1 of 4) Processing KNN, total=   0.0s\n",
      "[Voting] ...................... (2 of 4) Processing SVC, total=   4.3s\n",
      "[Voting] ..................... (3 of 4) Processing LGBM, total=   0.2s\n",
      "WARNING:tensorflow:Error in loading the saved optimizer state. As a result, your model is starting with a freshly initialized optimizer.\n",
      "[Voting] ...................... (4 of 4) Processing ANN, total=  24.2s\n",
      "Iterazione 796 [[0 0]\n",
      " [3 2]]\n",
      "accuracy 0.4\n"
     ]
    },
    {
     "name": "stderr",
     "output_type": "stream",
     "text": [
      "<ipython-input-54-0786b9e49dc3>:22: DeprecationWarning: KerasClassifier is deprecated, use Sci-Keras (https://github.com/adriangb/scikeras) instead.\n",
      "  ANN_best = keras.wrappers.scikit_learn.KerasClassifier(build_nn, epochs= 200, verbose=False)\n"
     ]
    },
    {
     "name": "stdout",
     "output_type": "stream",
     "text": [
      "[Voting] ...................... (1 of 4) Processing KNN, total=   0.0s\n",
      "[Voting] ...................... (2 of 4) Processing SVC, total=   4.7s\n",
      "[Voting] ..................... (3 of 4) Processing LGBM, total=   0.3s\n",
      "WARNING:tensorflow:Error in loading the saved optimizer state. As a result, your model is starting with a freshly initialized optimizer.\n",
      "[Voting] ...................... (4 of 4) Processing ANN, total=  26.6s\n",
      "Iterazione 797 [[0 0]\n",
      " [3 1]]\n",
      "accuracy 0.25\n"
     ]
    },
    {
     "name": "stderr",
     "output_type": "stream",
     "text": [
      "<ipython-input-54-0786b9e49dc3>:22: DeprecationWarning: KerasClassifier is deprecated, use Sci-Keras (https://github.com/adriangb/scikeras) instead.\n",
      "  ANN_best = keras.wrappers.scikit_learn.KerasClassifier(build_nn, epochs= 200, verbose=False)\n"
     ]
    },
    {
     "name": "stdout",
     "output_type": "stream",
     "text": [
      "[Voting] ...................... (1 of 4) Processing KNN, total=   0.0s\n",
      "[Voting] ...................... (2 of 4) Processing SVC, total=   4.8s\n",
      "[Voting] ..................... (3 of 4) Processing LGBM, total=   0.3s\n",
      "WARNING:tensorflow:Error in loading the saved optimizer state. As a result, your model is starting with a freshly initialized optimizer.\n",
      "[Voting] ...................... (4 of 4) Processing ANN, total=  25.1s\n",
      "Iterazione 798 [[0 0]\n",
      " [0 6]]\n",
      "accuracy 1.0\n"
     ]
    },
    {
     "name": "stderr",
     "output_type": "stream",
     "text": [
      "<ipython-input-54-0786b9e49dc3>:22: DeprecationWarning: KerasClassifier is deprecated, use Sci-Keras (https://github.com/adriangb/scikeras) instead.\n",
      "  ANN_best = keras.wrappers.scikit_learn.KerasClassifier(build_nn, epochs= 200, verbose=False)\n"
     ]
    },
    {
     "name": "stdout",
     "output_type": "stream",
     "text": [
      "[Voting] ...................... (1 of 4) Processing KNN, total=   0.0s\n",
      "[Voting] ...................... (2 of 4) Processing SVC, total=   5.3s\n",
      "[Voting] ..................... (3 of 4) Processing LGBM, total=   0.6s\n",
      "WARNING:tensorflow:Error in loading the saved optimizer state. As a result, your model is starting with a freshly initialized optimizer.\n",
      "[Voting] ...................... (4 of 4) Processing ANN, total=  27.7s\n",
      "Iterazione 799 [[0 0]\n",
      " [1 9]]\n",
      "accuracy 0.9\n"
     ]
    },
    {
     "name": "stderr",
     "output_type": "stream",
     "text": [
      "<ipython-input-54-0786b9e49dc3>:22: DeprecationWarning: KerasClassifier is deprecated, use Sci-Keras (https://github.com/adriangb/scikeras) instead.\n",
      "  ANN_best = keras.wrappers.scikit_learn.KerasClassifier(build_nn, epochs= 200, verbose=False)\n"
     ]
    },
    {
     "name": "stdout",
     "output_type": "stream",
     "text": [
      "[Voting] ...................... (1 of 4) Processing KNN, total=   0.0s\n",
      "[Voting] ...................... (2 of 4) Processing SVC, total=   5.6s\n",
      "[Voting] ..................... (3 of 4) Processing LGBM, total=   0.2s\n",
      "WARNING:tensorflow:Error in loading the saved optimizer state. As a result, your model is starting with a freshly initialized optimizer.\n",
      "[Voting] ...................... (4 of 4) Processing ANN, total=  26.4s\n",
      "Iterazione 800 [[7 2]\n",
      " [0 0]]\n",
      "accuracy 0.7777777777777778\n"
     ]
    },
    {
     "name": "stderr",
     "output_type": "stream",
     "text": [
      "<ipython-input-54-0786b9e49dc3>:22: DeprecationWarning: KerasClassifier is deprecated, use Sci-Keras (https://github.com/adriangb/scikeras) instead.\n",
      "  ANN_best = keras.wrappers.scikit_learn.KerasClassifier(build_nn, epochs= 200, verbose=False)\n"
     ]
    },
    {
     "name": "stdout",
     "output_type": "stream",
     "text": [
      "[Voting] ...................... (1 of 4) Processing KNN, total=   0.0s\n",
      "[Voting] ...................... (2 of 4) Processing SVC, total=   5.4s\n",
      "[Voting] ..................... (3 of 4) Processing LGBM, total=   0.5s\n",
      "WARNING:tensorflow:Error in loading the saved optimizer state. As a result, your model is starting with a freshly initialized optimizer.\n",
      "[Voting] ...................... (4 of 4) Processing ANN, total=  25.8s\n",
      "Iterazione 801 [[0 0]\n",
      " [2 1]]\n",
      "accuracy 0.3333333333333333\n"
     ]
    },
    {
     "name": "stderr",
     "output_type": "stream",
     "text": [
      "<ipython-input-54-0786b9e49dc3>:22: DeprecationWarning: KerasClassifier is deprecated, use Sci-Keras (https://github.com/adriangb/scikeras) instead.\n",
      "  ANN_best = keras.wrappers.scikit_learn.KerasClassifier(build_nn, epochs= 200, verbose=False)\n"
     ]
    },
    {
     "name": "stdout",
     "output_type": "stream",
     "text": [
      "[Voting] ...................... (1 of 4) Processing KNN, total=   0.0s\n",
      "[Voting] ...................... (2 of 4) Processing SVC, total=   4.7s\n",
      "[Voting] ..................... (3 of 4) Processing LGBM, total=   0.3s\n",
      "WARNING:tensorflow:Error in loading the saved optimizer state. As a result, your model is starting with a freshly initialized optimizer.\n",
      "[Voting] ...................... (4 of 4) Processing ANN, total=  27.3s\n",
      "Iterazione 802 [[6 2]\n",
      " [0 0]]\n",
      "accuracy 0.75\n"
     ]
    },
    {
     "name": "stderr",
     "output_type": "stream",
     "text": [
      "<ipython-input-54-0786b9e49dc3>:22: DeprecationWarning: KerasClassifier is deprecated, use Sci-Keras (https://github.com/adriangb/scikeras) instead.\n",
      "  ANN_best = keras.wrappers.scikit_learn.KerasClassifier(build_nn, epochs= 200, verbose=False)\n"
     ]
    },
    {
     "name": "stdout",
     "output_type": "stream",
     "text": [
      "[Voting] ...................... (1 of 4) Processing KNN, total=   0.0s\n",
      "[Voting] ...................... (2 of 4) Processing SVC, total=   6.5s\n",
      "[Voting] ..................... (3 of 4) Processing LGBM, total=   0.4s\n",
      "WARNING:tensorflow:Error in loading the saved optimizer state. As a result, your model is starting with a freshly initialized optimizer.\n",
      "[Voting] ...................... (4 of 4) Processing ANN, total=  25.5s\n",
      "Iterazione 803 [[2 3]\n",
      " [0 0]]\n",
      "accuracy 0.4\n"
     ]
    },
    {
     "name": "stderr",
     "output_type": "stream",
     "text": [
      "<ipython-input-54-0786b9e49dc3>:22: DeprecationWarning: KerasClassifier is deprecated, use Sci-Keras (https://github.com/adriangb/scikeras) instead.\n",
      "  ANN_best = keras.wrappers.scikit_learn.KerasClassifier(build_nn, epochs= 200, verbose=False)\n"
     ]
    },
    {
     "name": "stdout",
     "output_type": "stream",
     "text": [
      "[Voting] ...................... (1 of 4) Processing KNN, total=   0.0s\n",
      "[Voting] ...................... (2 of 4) Processing SVC, total=   5.0s\n",
      "[Voting] ..................... (3 of 4) Processing LGBM, total=   0.3s\n",
      "WARNING:tensorflow:Error in loading the saved optimizer state. As a result, your model is starting with a freshly initialized optimizer.\n",
      "[Voting] ...................... (4 of 4) Processing ANN, total=  23.1s\n",
      "Iterazione 804 [[4 3]\n",
      " [0 0]]\n",
      "accuracy 0.5714285714285714\n"
     ]
    },
    {
     "name": "stderr",
     "output_type": "stream",
     "text": [
      "<ipython-input-54-0786b9e49dc3>:22: DeprecationWarning: KerasClassifier is deprecated, use Sci-Keras (https://github.com/adriangb/scikeras) instead.\n",
      "  ANN_best = keras.wrappers.scikit_learn.KerasClassifier(build_nn, epochs= 200, verbose=False)\n"
     ]
    },
    {
     "name": "stdout",
     "output_type": "stream",
     "text": [
      "[Voting] ...................... (1 of 4) Processing KNN, total=   0.0s\n",
      "[Voting] ...................... (2 of 4) Processing SVC, total=   6.9s\n",
      "[Voting] ..................... (3 of 4) Processing LGBM, total=   0.3s\n",
      "WARNING:tensorflow:Error in loading the saved optimizer state. As a result, your model is starting with a freshly initialized optimizer.\n",
      "[Voting] ...................... (4 of 4) Processing ANN, total=  28.5s\n",
      "Iterazione 805 [[3 1]\n",
      " [0 0]]\n",
      "accuracy 0.75\n"
     ]
    },
    {
     "name": "stderr",
     "output_type": "stream",
     "text": [
      "<ipython-input-54-0786b9e49dc3>:22: DeprecationWarning: KerasClassifier is deprecated, use Sci-Keras (https://github.com/adriangb/scikeras) instead.\n",
      "  ANN_best = keras.wrappers.scikit_learn.KerasClassifier(build_nn, epochs= 200, verbose=False)\n"
     ]
    },
    {
     "name": "stdout",
     "output_type": "stream",
     "text": [
      "[Voting] ...................... (1 of 4) Processing KNN, total=   0.0s\n",
      "[Voting] ...................... (2 of 4) Processing SVC, total=   7.1s\n",
      "[Voting] ..................... (3 of 4) Processing LGBM, total=   0.8s\n",
      "WARNING:tensorflow:Error in loading the saved optimizer state. As a result, your model is starting with a freshly initialized optimizer.\n",
      "[Voting] ...................... (4 of 4) Processing ANN, total=  34.4s\n",
      "Iterazione 806 [[4 0]\n",
      " [0 0]]\n",
      "accuracy 1.0\n"
     ]
    },
    {
     "name": "stderr",
     "output_type": "stream",
     "text": [
      "<ipython-input-54-0786b9e49dc3>:22: DeprecationWarning: KerasClassifier is deprecated, use Sci-Keras (https://github.com/adriangb/scikeras) instead.\n",
      "  ANN_best = keras.wrappers.scikit_learn.KerasClassifier(build_nn, epochs= 200, verbose=False)\n"
     ]
    },
    {
     "name": "stdout",
     "output_type": "stream",
     "text": [
      "[Voting] ...................... (1 of 4) Processing KNN, total=   0.1s\n",
      "[Voting] ...................... (2 of 4) Processing SVC, total=   8.4s\n",
      "[Voting] ..................... (3 of 4) Processing LGBM, total=   0.8s\n",
      "WARNING:tensorflow:Error in loading the saved optimizer state. As a result, your model is starting with a freshly initialized optimizer.\n",
      "[Voting] ...................... (4 of 4) Processing ANN, total=  28.5s\n",
      "Iterazione 807 [[0 0]\n",
      " [1 1]]\n",
      "accuracy 0.5\n"
     ]
    },
    {
     "name": "stderr",
     "output_type": "stream",
     "text": [
      "<ipython-input-54-0786b9e49dc3>:22: DeprecationWarning: KerasClassifier is deprecated, use Sci-Keras (https://github.com/adriangb/scikeras) instead.\n",
      "  ANN_best = keras.wrappers.scikit_learn.KerasClassifier(build_nn, epochs= 200, verbose=False)\n"
     ]
    },
    {
     "name": "stdout",
     "output_type": "stream",
     "text": [
      "[Voting] ...................... (1 of 4) Processing KNN, total=   0.0s\n",
      "[Voting] ...................... (2 of 4) Processing SVC, total=   5.1s\n",
      "[Voting] ..................... (3 of 4) Processing LGBM, total=   0.2s\n",
      "WARNING:tensorflow:Error in loading the saved optimizer state. As a result, your model is starting with a freshly initialized optimizer.\n",
      "[Voting] ...................... (4 of 4) Processing ANN, total=  27.6s\n",
      "Iterazione 808 [[0 0]\n",
      " [2 2]]\n",
      "accuracy 0.5\n"
     ]
    },
    {
     "name": "stderr",
     "output_type": "stream",
     "text": [
      "<ipython-input-54-0786b9e49dc3>:22: DeprecationWarning: KerasClassifier is deprecated, use Sci-Keras (https://github.com/adriangb/scikeras) instead.\n",
      "  ANN_best = keras.wrappers.scikit_learn.KerasClassifier(build_nn, epochs= 200, verbose=False)\n"
     ]
    },
    {
     "name": "stdout",
     "output_type": "stream",
     "text": [
      "[Voting] ...................... (1 of 4) Processing KNN, total=   0.1s\n",
      "[Voting] ...................... (2 of 4) Processing SVC, total=   6.8s\n",
      "[Voting] ..................... (3 of 4) Processing LGBM, total=   0.6s\n",
      "WARNING:tensorflow:Error in loading the saved optimizer state. As a result, your model is starting with a freshly initialized optimizer.\n",
      "[Voting] ...................... (4 of 4) Processing ANN, total=  28.3s\n",
      "Iterazione 809 [[2 2]\n",
      " [0 0]]\n",
      "accuracy 0.5\n"
     ]
    },
    {
     "name": "stderr",
     "output_type": "stream",
     "text": [
      "<ipython-input-54-0786b9e49dc3>:22: DeprecationWarning: KerasClassifier is deprecated, use Sci-Keras (https://github.com/adriangb/scikeras) instead.\n",
      "  ANN_best = keras.wrappers.scikit_learn.KerasClassifier(build_nn, epochs= 200, verbose=False)\n"
     ]
    },
    {
     "name": "stdout",
     "output_type": "stream",
     "text": [
      "[Voting] ...................... (1 of 4) Processing KNN, total=   0.0s\n",
      "[Voting] ...................... (2 of 4) Processing SVC, total=   5.0s\n",
      "[Voting] ..................... (3 of 4) Processing LGBM, total=   0.7s\n",
      "WARNING:tensorflow:Error in loading the saved optimizer state. As a result, your model is starting with a freshly initialized optimizer.\n",
      "[Voting] ...................... (4 of 4) Processing ANN, total=  27.5s\n",
      "Iterazione 810 [[9 0]\n",
      " [0 0]]\n",
      "accuracy 1.0\n"
     ]
    },
    {
     "name": "stderr",
     "output_type": "stream",
     "text": [
      "<ipython-input-54-0786b9e49dc3>:22: DeprecationWarning: KerasClassifier is deprecated, use Sci-Keras (https://github.com/adriangb/scikeras) instead.\n",
      "  ANN_best = keras.wrappers.scikit_learn.KerasClassifier(build_nn, epochs= 200, verbose=False)\n"
     ]
    },
    {
     "name": "stdout",
     "output_type": "stream",
     "text": [
      "[Voting] ...................... (1 of 4) Processing KNN, total=   0.0s\n",
      "[Voting] ...................... (2 of 4) Processing SVC, total=   4.9s\n",
      "[Voting] ..................... (3 of 4) Processing LGBM, total=   0.3s\n",
      "WARNING:tensorflow:Error in loading the saved optimizer state. As a result, your model is starting with a freshly initialized optimizer.\n",
      "[Voting] ...................... (4 of 4) Processing ANN, total=  26.9s\n",
      "Iterazione 811 [[3 1]\n",
      " [0 0]]\n",
      "accuracy 0.75\n"
     ]
    },
    {
     "name": "stderr",
     "output_type": "stream",
     "text": [
      "<ipython-input-54-0786b9e49dc3>:22: DeprecationWarning: KerasClassifier is deprecated, use Sci-Keras (https://github.com/adriangb/scikeras) instead.\n",
      "  ANN_best = keras.wrappers.scikit_learn.KerasClassifier(build_nn, epochs= 200, verbose=False)\n"
     ]
    },
    {
     "name": "stdout",
     "output_type": "stream",
     "text": [
      "[Voting] ...................... (1 of 4) Processing KNN, total=   0.0s\n",
      "[Voting] ...................... (2 of 4) Processing SVC, total=   5.7s\n",
      "[Voting] ..................... (3 of 4) Processing LGBM, total=   0.9s\n",
      "WARNING:tensorflow:Error in loading the saved optimizer state. As a result, your model is starting with a freshly initialized optimizer.\n",
      "[Voting] ...................... (4 of 4) Processing ANN, total=  28.5s\n",
      "Iterazione 812 [[0 0]\n",
      " [1 2]]\n",
      "accuracy 0.6666666666666666\n"
     ]
    },
    {
     "name": "stderr",
     "output_type": "stream",
     "text": [
      "<ipython-input-54-0786b9e49dc3>:22: DeprecationWarning: KerasClassifier is deprecated, use Sci-Keras (https://github.com/adriangb/scikeras) instead.\n",
      "  ANN_best = keras.wrappers.scikit_learn.KerasClassifier(build_nn, epochs= 200, verbose=False)\n"
     ]
    },
    {
     "name": "stdout",
     "output_type": "stream",
     "text": [
      "[Voting] ...................... (1 of 4) Processing KNN, total=   0.0s\n",
      "[Voting] ...................... (2 of 4) Processing SVC, total=   5.7s\n",
      "[Voting] ..................... (3 of 4) Processing LGBM, total=   0.4s\n",
      "WARNING:tensorflow:Error in loading the saved optimizer state. As a result, your model is starting with a freshly initialized optimizer.\n",
      "[Voting] ...................... (4 of 4) Processing ANN, total=  25.1s\n",
      "Iterazione 813 [[5 1]\n",
      " [0 0]]\n",
      "accuracy 0.8333333333333334\n"
     ]
    },
    {
     "name": "stderr",
     "output_type": "stream",
     "text": [
      "<ipython-input-54-0786b9e49dc3>:22: DeprecationWarning: KerasClassifier is deprecated, use Sci-Keras (https://github.com/adriangb/scikeras) instead.\n",
      "  ANN_best = keras.wrappers.scikit_learn.KerasClassifier(build_nn, epochs= 200, verbose=False)\n"
     ]
    },
    {
     "name": "stdout",
     "output_type": "stream",
     "text": [
      "[Voting] ...................... (1 of 4) Processing KNN, total=   0.0s\n",
      "[Voting] ...................... (2 of 4) Processing SVC, total=   4.8s\n",
      "[Voting] ..................... (3 of 4) Processing LGBM, total=   0.3s\n",
      "WARNING:tensorflow:Error in loading the saved optimizer state. As a result, your model is starting with a freshly initialized optimizer.\n",
      "[Voting] ...................... (4 of 4) Processing ANN, total=  26.9s\n",
      "Iterazione 814 [[0 0]\n",
      " [1 2]]\n",
      "accuracy 0.6666666666666666\n"
     ]
    },
    {
     "name": "stderr",
     "output_type": "stream",
     "text": [
      "<ipython-input-54-0786b9e49dc3>:22: DeprecationWarning: KerasClassifier is deprecated, use Sci-Keras (https://github.com/adriangb/scikeras) instead.\n",
      "  ANN_best = keras.wrappers.scikit_learn.KerasClassifier(build_nn, epochs= 200, verbose=False)\n"
     ]
    },
    {
     "name": "stdout",
     "output_type": "stream",
     "text": [
      "[Voting] ...................... (1 of 4) Processing KNN, total=   0.0s\n",
      "[Voting] ...................... (2 of 4) Processing SVC, total=   6.0s\n",
      "[Voting] ..................... (3 of 4) Processing LGBM, total=   0.3s\n",
      "WARNING:tensorflow:Error in loading the saved optimizer state. As a result, your model is starting with a freshly initialized optimizer.\n",
      "[Voting] ...................... (4 of 4) Processing ANN, total=  30.3s\n",
      "Iterazione 815 [[3 3]\n",
      " [0 0]]\n",
      "accuracy 0.5\n"
     ]
    },
    {
     "name": "stderr",
     "output_type": "stream",
     "text": [
      "<ipython-input-54-0786b9e49dc3>:22: DeprecationWarning: KerasClassifier is deprecated, use Sci-Keras (https://github.com/adriangb/scikeras) instead.\n",
      "  ANN_best = keras.wrappers.scikit_learn.KerasClassifier(build_nn, epochs= 200, verbose=False)\n"
     ]
    },
    {
     "name": "stdout",
     "output_type": "stream",
     "text": [
      "[Voting] ...................... (1 of 4) Processing KNN, total=   0.0s\n",
      "[Voting] ...................... (2 of 4) Processing SVC, total=   5.8s\n",
      "[Voting] ..................... (3 of 4) Processing LGBM, total=   0.6s\n",
      "WARNING:tensorflow:Error in loading the saved optimizer state. As a result, your model is starting with a freshly initialized optimizer.\n",
      "[Voting] ...................... (4 of 4) Processing ANN, total=  25.0s\n",
      "Iterazione 816 [[1 1]\n",
      " [0 0]]\n",
      "accuracy 0.5\n"
     ]
    },
    {
     "name": "stderr",
     "output_type": "stream",
     "text": [
      "<ipython-input-54-0786b9e49dc3>:22: DeprecationWarning: KerasClassifier is deprecated, use Sci-Keras (https://github.com/adriangb/scikeras) instead.\n",
      "  ANN_best = keras.wrappers.scikit_learn.KerasClassifier(build_nn, epochs= 200, verbose=False)\n"
     ]
    },
    {
     "name": "stdout",
     "output_type": "stream",
     "text": [
      "[Voting] ...................... (1 of 4) Processing KNN, total=   0.0s\n",
      "[Voting] ...................... (2 of 4) Processing SVC, total=   5.6s\n",
      "[Voting] ..................... (3 of 4) Processing LGBM, total=   0.5s\n",
      "WARNING:tensorflow:Error in loading the saved optimizer state. As a result, your model is starting with a freshly initialized optimizer.\n",
      "[Voting] ...................... (4 of 4) Processing ANN, total=  25.6s\n",
      "Iterazione 817 [[0 0]\n",
      " [4 1]]\n",
      "accuracy 0.2\n"
     ]
    },
    {
     "name": "stderr",
     "output_type": "stream",
     "text": [
      "<ipython-input-54-0786b9e49dc3>:22: DeprecationWarning: KerasClassifier is deprecated, use Sci-Keras (https://github.com/adriangb/scikeras) instead.\n",
      "  ANN_best = keras.wrappers.scikit_learn.KerasClassifier(build_nn, epochs= 200, verbose=False)\n"
     ]
    },
    {
     "name": "stdout",
     "output_type": "stream",
     "text": [
      "[Voting] ...................... (1 of 4) Processing KNN, total=   0.0s\n",
      "[Voting] ...................... (2 of 4) Processing SVC, total=   5.7s\n",
      "[Voting] ..................... (3 of 4) Processing LGBM, total=   0.5s\n",
      "WARNING:tensorflow:Error in loading the saved optimizer state. As a result, your model is starting with a freshly initialized optimizer.\n",
      "[Voting] ...................... (4 of 4) Processing ANN, total=  26.4s\n",
      "Iterazione 818 [[6 0]\n",
      " [0 0]]\n",
      "accuracy 1.0\n"
     ]
    },
    {
     "name": "stderr",
     "output_type": "stream",
     "text": [
      "<ipython-input-54-0786b9e49dc3>:22: DeprecationWarning: KerasClassifier is deprecated, use Sci-Keras (https://github.com/adriangb/scikeras) instead.\n",
      "  ANN_best = keras.wrappers.scikit_learn.KerasClassifier(build_nn, epochs= 200, verbose=False)\n"
     ]
    },
    {
     "name": "stdout",
     "output_type": "stream",
     "text": [
      "[Voting] ...................... (1 of 4) Processing KNN, total=   0.0s\n",
      "[Voting] ...................... (2 of 4) Processing SVC, total=   5.9s\n",
      "[Voting] ..................... (3 of 4) Processing LGBM, total=   0.3s\n",
      "WARNING:tensorflow:Error in loading the saved optimizer state. As a result, your model is starting with a freshly initialized optimizer.\n",
      "[Voting] ...................... (4 of 4) Processing ANN, total=  23.8s\n",
      "Iterazione 819 [[0 0]\n",
      " [1 0]]\n",
      "accuracy 0.0\n"
     ]
    },
    {
     "name": "stderr",
     "output_type": "stream",
     "text": [
      "<ipython-input-54-0786b9e49dc3>:22: DeprecationWarning: KerasClassifier is deprecated, use Sci-Keras (https://github.com/adriangb/scikeras) instead.\n",
      "  ANN_best = keras.wrappers.scikit_learn.KerasClassifier(build_nn, epochs= 200, verbose=False)\n"
     ]
    },
    {
     "name": "stdout",
     "output_type": "stream",
     "text": [
      "[Voting] ...................... (1 of 4) Processing KNN, total=   0.0s\n",
      "[Voting] ...................... (2 of 4) Processing SVC, total=   5.3s\n",
      "[Voting] ..................... (3 of 4) Processing LGBM, total=   0.3s\n",
      "WARNING:tensorflow:Error in loading the saved optimizer state. As a result, your model is starting with a freshly initialized optimizer.\n",
      "[Voting] ...................... (4 of 4) Processing ANN, total=  26.9s\n",
      "Iterazione 820 [[0 0]\n",
      " [0 4]]\n",
      "accuracy 1.0\n"
     ]
    },
    {
     "name": "stderr",
     "output_type": "stream",
     "text": [
      "<ipython-input-54-0786b9e49dc3>:22: DeprecationWarning: KerasClassifier is deprecated, use Sci-Keras (https://github.com/adriangb/scikeras) instead.\n",
      "  ANN_best = keras.wrappers.scikit_learn.KerasClassifier(build_nn, epochs= 200, verbose=False)\n"
     ]
    },
    {
     "name": "stdout",
     "output_type": "stream",
     "text": [
      "[Voting] ...................... (1 of 4) Processing KNN, total=   0.1s\n",
      "[Voting] ...................... (2 of 4) Processing SVC, total=   5.5s\n",
      "[Voting] ..................... (3 of 4) Processing LGBM, total=   0.4s\n",
      "WARNING:tensorflow:Error in loading the saved optimizer state. As a result, your model is starting with a freshly initialized optimizer.\n",
      "[Voting] ...................... (4 of 4) Processing ANN, total=  26.0s\n",
      "Iterazione 821 [[ 0  0]\n",
      " [ 0 14]]\n",
      "accuracy 1.0\n"
     ]
    },
    {
     "name": "stderr",
     "output_type": "stream",
     "text": [
      "<ipython-input-54-0786b9e49dc3>:22: DeprecationWarning: KerasClassifier is deprecated, use Sci-Keras (https://github.com/adriangb/scikeras) instead.\n",
      "  ANN_best = keras.wrappers.scikit_learn.KerasClassifier(build_nn, epochs= 200, verbose=False)\n"
     ]
    },
    {
     "name": "stdout",
     "output_type": "stream",
     "text": [
      "[Voting] ...................... (1 of 4) Processing KNN, total=   0.0s\n",
      "[Voting] ...................... (2 of 4) Processing SVC, total=   6.2s\n",
      "[Voting] ..................... (3 of 4) Processing LGBM, total=   0.5s\n",
      "WARNING:tensorflow:Error in loading the saved optimizer state. As a result, your model is starting with a freshly initialized optimizer.\n",
      "[Voting] ...................... (4 of 4) Processing ANN, total=  28.8s\n",
      "Iterazione 822 [[1 0]\n",
      " [0 0]]\n",
      "accuracy 1.0\n"
     ]
    },
    {
     "name": "stderr",
     "output_type": "stream",
     "text": [
      "<ipython-input-54-0786b9e49dc3>:22: DeprecationWarning: KerasClassifier is deprecated, use Sci-Keras (https://github.com/adriangb/scikeras) instead.\n",
      "  ANN_best = keras.wrappers.scikit_learn.KerasClassifier(build_nn, epochs= 200, verbose=False)\n"
     ]
    },
    {
     "name": "stdout",
     "output_type": "stream",
     "text": [
      "[Voting] ...................... (1 of 4) Processing KNN, total=   0.0s\n",
      "[Voting] ...................... (2 of 4) Processing SVC, total=   5.5s\n",
      "[Voting] ..................... (3 of 4) Processing LGBM, total=   0.3s\n",
      "WARNING:tensorflow:Error in loading the saved optimizer state. As a result, your model is starting with a freshly initialized optimizer.\n",
      "[Voting] ...................... (4 of 4) Processing ANN, total=  26.8s\n",
      "Iterazione 823 [[1 1]\n",
      " [0 0]]\n",
      "accuracy 0.5\n"
     ]
    },
    {
     "name": "stderr",
     "output_type": "stream",
     "text": [
      "<ipython-input-54-0786b9e49dc3>:22: DeprecationWarning: KerasClassifier is deprecated, use Sci-Keras (https://github.com/adriangb/scikeras) instead.\n",
      "  ANN_best = keras.wrappers.scikit_learn.KerasClassifier(build_nn, epochs= 200, verbose=False)\n"
     ]
    },
    {
     "name": "stdout",
     "output_type": "stream",
     "text": [
      "[Voting] ...................... (1 of 4) Processing KNN, total=   0.0s\n",
      "[Voting] ...................... (2 of 4) Processing SVC, total=   5.8s\n",
      "[Voting] ..................... (3 of 4) Processing LGBM, total=   0.3s\n",
      "WARNING:tensorflow:Error in loading the saved optimizer state. As a result, your model is starting with a freshly initialized optimizer.\n",
      "[Voting] ...................... (4 of 4) Processing ANN, total=  24.9s\n",
      "Iterazione 824 [[0 0]\n",
      " [0 3]]\n",
      "accuracy 1.0\n"
     ]
    },
    {
     "name": "stderr",
     "output_type": "stream",
     "text": [
      "<ipython-input-54-0786b9e49dc3>:22: DeprecationWarning: KerasClassifier is deprecated, use Sci-Keras (https://github.com/adriangb/scikeras) instead.\n",
      "  ANN_best = keras.wrappers.scikit_learn.KerasClassifier(build_nn, epochs= 200, verbose=False)\n"
     ]
    },
    {
     "name": "stdout",
     "output_type": "stream",
     "text": [
      "[Voting] ...................... (1 of 4) Processing KNN, total=   0.0s\n",
      "[Voting] ...................... (2 of 4) Processing SVC, total=   4.7s\n",
      "[Voting] ..................... (3 of 4) Processing LGBM, total=   0.5s\n",
      "WARNING:tensorflow:Error in loading the saved optimizer state. As a result, your model is starting with a freshly initialized optimizer.\n",
      "[Voting] ...................... (4 of 4) Processing ANN, total=  20.0s\n",
      "Iterazione 825 [[0 0]\n",
      " [5 3]]\n",
      "accuracy 0.375\n"
     ]
    },
    {
     "name": "stderr",
     "output_type": "stream",
     "text": [
      "<ipython-input-54-0786b9e49dc3>:22: DeprecationWarning: KerasClassifier is deprecated, use Sci-Keras (https://github.com/adriangb/scikeras) instead.\n",
      "  ANN_best = keras.wrappers.scikit_learn.KerasClassifier(build_nn, epochs= 200, verbose=False)\n"
     ]
    },
    {
     "name": "stdout",
     "output_type": "stream",
     "text": [
      "[Voting] ...................... (1 of 4) Processing KNN, total=   0.0s\n",
      "[Voting] ...................... (2 of 4) Processing SVC, total=   4.5s\n",
      "[Voting] ..................... (3 of 4) Processing LGBM, total=   0.2s\n",
      "WARNING:tensorflow:Error in loading the saved optimizer state. As a result, your model is starting with a freshly initialized optimizer.\n",
      "[Voting] ...................... (4 of 4) Processing ANN, total=  19.9s\n",
      "Iterazione 826 [[0 0]\n",
      " [1 2]]\n",
      "accuracy 0.6666666666666666\n"
     ]
    },
    {
     "name": "stderr",
     "output_type": "stream",
     "text": [
      "<ipython-input-54-0786b9e49dc3>:22: DeprecationWarning: KerasClassifier is deprecated, use Sci-Keras (https://github.com/adriangb/scikeras) instead.\n",
      "  ANN_best = keras.wrappers.scikit_learn.KerasClassifier(build_nn, epochs= 200, verbose=False)\n"
     ]
    },
    {
     "name": "stdout",
     "output_type": "stream",
     "text": [
      "[Voting] ...................... (1 of 4) Processing KNN, total=   0.0s\n",
      "[Voting] ...................... (2 of 4) Processing SVC, total=   4.4s\n",
      "[Voting] ..................... (3 of 4) Processing LGBM, total=   0.2s\n",
      "WARNING:tensorflow:Error in loading the saved optimizer state. As a result, your model is starting with a freshly initialized optimizer.\n",
      "[Voting] ...................... (4 of 4) Processing ANN, total=  20.0s\n",
      "Iterazione 827 [[0 0]\n",
      " [6 2]]\n",
      "accuracy 0.25\n"
     ]
    },
    {
     "name": "stderr",
     "output_type": "stream",
     "text": [
      "<ipython-input-54-0786b9e49dc3>:22: DeprecationWarning: KerasClassifier is deprecated, use Sci-Keras (https://github.com/adriangb/scikeras) instead.\n",
      "  ANN_best = keras.wrappers.scikit_learn.KerasClassifier(build_nn, epochs= 200, verbose=False)\n"
     ]
    },
    {
     "name": "stdout",
     "output_type": "stream",
     "text": [
      "[Voting] ...................... (1 of 4) Processing KNN, total=   0.0s\n",
      "[Voting] ...................... (2 of 4) Processing SVC, total=   4.6s\n",
      "[Voting] ..................... (3 of 4) Processing LGBM, total=   0.2s\n",
      "WARNING:tensorflow:Error in loading the saved optimizer state. As a result, your model is starting with a freshly initialized optimizer.\n",
      "[Voting] ...................... (4 of 4) Processing ANN, total=  20.1s\n",
      "Iterazione 828 [[3 4]\n",
      " [0 0]]\n",
      "accuracy 0.42857142857142855\n"
     ]
    },
    {
     "name": "stderr",
     "output_type": "stream",
     "text": [
      "<ipython-input-54-0786b9e49dc3>:22: DeprecationWarning: KerasClassifier is deprecated, use Sci-Keras (https://github.com/adriangb/scikeras) instead.\n",
      "  ANN_best = keras.wrappers.scikit_learn.KerasClassifier(build_nn, epochs= 200, verbose=False)\n"
     ]
    },
    {
     "name": "stdout",
     "output_type": "stream",
     "text": [
      "[Voting] ...................... (1 of 4) Processing KNN, total=   0.0s\n",
      "[Voting] ...................... (2 of 4) Processing SVC, total=   4.5s\n",
      "[Voting] ..................... (3 of 4) Processing LGBM, total=   0.2s\n",
      "WARNING:tensorflow:Error in loading the saved optimizer state. As a result, your model is starting with a freshly initialized optimizer.\n",
      "[Voting] ...................... (4 of 4) Processing ANN, total=  20.2s\n",
      "Iterazione 829 [[0 0]\n",
      " [1 1]]\n",
      "accuracy 0.5\n"
     ]
    },
    {
     "name": "stderr",
     "output_type": "stream",
     "text": [
      "<ipython-input-54-0786b9e49dc3>:22: DeprecationWarning: KerasClassifier is deprecated, use Sci-Keras (https://github.com/adriangb/scikeras) instead.\n",
      "  ANN_best = keras.wrappers.scikit_learn.KerasClassifier(build_nn, epochs= 200, verbose=False)\n"
     ]
    },
    {
     "name": "stdout",
     "output_type": "stream",
     "text": [
      "[Voting] ...................... (1 of 4) Processing KNN, total=   0.0s\n",
      "[Voting] ...................... (2 of 4) Processing SVC, total=   4.7s\n",
      "[Voting] ..................... (3 of 4) Processing LGBM, total=   0.4s\n",
      "WARNING:tensorflow:Error in loading the saved optimizer state. As a result, your model is starting with a freshly initialized optimizer.\n",
      "[Voting] ...................... (4 of 4) Processing ANN, total=  24.4s\n",
      "Iterazione 830 [[0 0]\n",
      " [0 1]]\n",
      "accuracy 1.0\n"
     ]
    },
    {
     "name": "stderr",
     "output_type": "stream",
     "text": [
      "<ipython-input-54-0786b9e49dc3>:22: DeprecationWarning: KerasClassifier is deprecated, use Sci-Keras (https://github.com/adriangb/scikeras) instead.\n",
      "  ANN_best = keras.wrappers.scikit_learn.KerasClassifier(build_nn, epochs= 200, verbose=False)\n"
     ]
    },
    {
     "name": "stdout",
     "output_type": "stream",
     "text": [
      "[Voting] ...................... (1 of 4) Processing KNN, total=   0.0s\n",
      "[Voting] ...................... (2 of 4) Processing SVC, total=   5.8s\n",
      "[Voting] ..................... (3 of 4) Processing LGBM, total=   0.3s\n",
      "WARNING:tensorflow:Error in loading the saved optimizer state. As a result, your model is starting with a freshly initialized optimizer.\n",
      "[Voting] ...................... (4 of 4) Processing ANN, total=  24.0s\n",
      "Iterazione 831 [[4 3]\n",
      " [0 0]]\n",
      "accuracy 0.5714285714285714\n"
     ]
    },
    {
     "name": "stderr",
     "output_type": "stream",
     "text": [
      "<ipython-input-54-0786b9e49dc3>:22: DeprecationWarning: KerasClassifier is deprecated, use Sci-Keras (https://github.com/adriangb/scikeras) instead.\n",
      "  ANN_best = keras.wrappers.scikit_learn.KerasClassifier(build_nn, epochs= 200, verbose=False)\n"
     ]
    },
    {
     "name": "stdout",
     "output_type": "stream",
     "text": [
      "[Voting] ...................... (1 of 4) Processing KNN, total=   0.0s\n",
      "[Voting] ...................... (2 of 4) Processing SVC, total=   4.6s\n",
      "[Voting] ..................... (3 of 4) Processing LGBM, total=   0.4s\n",
      "WARNING:tensorflow:Error in loading the saved optimizer state. As a result, your model is starting with a freshly initialized optimizer.\n",
      "[Voting] ...................... (4 of 4) Processing ANN, total=  27.4s\n",
      "Iterazione 832 [[0 0]\n",
      " [0 5]]\n",
      "accuracy 1.0\n"
     ]
    },
    {
     "name": "stderr",
     "output_type": "stream",
     "text": [
      "<ipython-input-54-0786b9e49dc3>:22: DeprecationWarning: KerasClassifier is deprecated, use Sci-Keras (https://github.com/adriangb/scikeras) instead.\n",
      "  ANN_best = keras.wrappers.scikit_learn.KerasClassifier(build_nn, epochs= 200, verbose=False)\n"
     ]
    },
    {
     "name": "stdout",
     "output_type": "stream",
     "text": [
      "[Voting] ...................... (1 of 4) Processing KNN, total=   0.0s\n",
      "[Voting] ...................... (2 of 4) Processing SVC, total=   6.3s\n",
      "[Voting] ..................... (3 of 4) Processing LGBM, total=   0.5s\n",
      "WARNING:tensorflow:Error in loading the saved optimizer state. As a result, your model is starting with a freshly initialized optimizer.\n",
      "[Voting] ...................... (4 of 4) Processing ANN, total=  25.5s\n",
      "Iterazione 833 [[2 0]\n",
      " [0 0]]\n",
      "accuracy 1.0\n"
     ]
    },
    {
     "name": "stderr",
     "output_type": "stream",
     "text": [
      "<ipython-input-54-0786b9e49dc3>:22: DeprecationWarning: KerasClassifier is deprecated, use Sci-Keras (https://github.com/adriangb/scikeras) instead.\n",
      "  ANN_best = keras.wrappers.scikit_learn.KerasClassifier(build_nn, epochs= 200, verbose=False)\n"
     ]
    },
    {
     "name": "stdout",
     "output_type": "stream",
     "text": [
      "[Voting] ...................... (1 of 4) Processing KNN, total=   0.0s\n",
      "[Voting] ...................... (2 of 4) Processing SVC, total=   5.6s\n",
      "[Voting] ..................... (3 of 4) Processing LGBM, total=   0.3s\n",
      "WARNING:tensorflow:Error in loading the saved optimizer state. As a result, your model is starting with a freshly initialized optimizer.\n",
      "[Voting] ...................... (4 of 4) Processing ANN, total=  24.4s\n",
      "Iterazione 834 [[2 3]\n",
      " [0 0]]\n",
      "accuracy 0.4\n"
     ]
    },
    {
     "name": "stderr",
     "output_type": "stream",
     "text": [
      "<ipython-input-54-0786b9e49dc3>:22: DeprecationWarning: KerasClassifier is deprecated, use Sci-Keras (https://github.com/adriangb/scikeras) instead.\n",
      "  ANN_best = keras.wrappers.scikit_learn.KerasClassifier(build_nn, epochs= 200, verbose=False)\n"
     ]
    },
    {
     "name": "stdout",
     "output_type": "stream",
     "text": [
      "[Voting] ...................... (1 of 4) Processing KNN, total=   0.0s\n",
      "[Voting] ...................... (2 of 4) Processing SVC, total=   5.2s\n",
      "[Voting] ..................... (3 of 4) Processing LGBM, total=   0.3s\n",
      "WARNING:tensorflow:Error in loading the saved optimizer state. As a result, your model is starting with a freshly initialized optimizer.\n",
      "[Voting] ...................... (4 of 4) Processing ANN, total=  20.1s\n",
      "Iterazione 835 [[ 0  0]\n",
      " [ 2 10]]\n",
      "accuracy 0.8333333333333334\n"
     ]
    },
    {
     "name": "stderr",
     "output_type": "stream",
     "text": [
      "<ipython-input-54-0786b9e49dc3>:22: DeprecationWarning: KerasClassifier is deprecated, use Sci-Keras (https://github.com/adriangb/scikeras) instead.\n",
      "  ANN_best = keras.wrappers.scikit_learn.KerasClassifier(build_nn, epochs= 200, verbose=False)\n"
     ]
    },
    {
     "name": "stdout",
     "output_type": "stream",
     "text": [
      "[Voting] ...................... (1 of 4) Processing KNN, total=   0.0s\n",
      "[Voting] ...................... (2 of 4) Processing SVC, total=   4.6s\n",
      "[Voting] ..................... (3 of 4) Processing LGBM, total=   0.2s\n",
      "WARNING:tensorflow:Error in loading the saved optimizer state. As a result, your model is starting with a freshly initialized optimizer.\n",
      "[Voting] ...................... (4 of 4) Processing ANN, total=  19.7s\n",
      "Iterazione 836 [[1 0]\n",
      " [0 0]]\n",
      "accuracy 1.0\n"
     ]
    },
    {
     "name": "stderr",
     "output_type": "stream",
     "text": [
      "<ipython-input-54-0786b9e49dc3>:22: DeprecationWarning: KerasClassifier is deprecated, use Sci-Keras (https://github.com/adriangb/scikeras) instead.\n",
      "  ANN_best = keras.wrappers.scikit_learn.KerasClassifier(build_nn, epochs= 200, verbose=False)\n"
     ]
    },
    {
     "name": "stdout",
     "output_type": "stream",
     "text": [
      "[Voting] ...................... (1 of 4) Processing KNN, total=   0.0s\n",
      "[Voting] ...................... (2 of 4) Processing SVC, total=   4.6s\n",
      "[Voting] ..................... (3 of 4) Processing LGBM, total=   0.5s\n",
      "WARNING:tensorflow:Error in loading the saved optimizer state. As a result, your model is starting with a freshly initialized optimizer.\n",
      "[Voting] ...................... (4 of 4) Processing ANN, total=  20.1s\n",
      "Iterazione 837 [[0 0]\n",
      " [2 2]]\n",
      "accuracy 0.5\n"
     ]
    },
    {
     "name": "stderr",
     "output_type": "stream",
     "text": [
      "<ipython-input-54-0786b9e49dc3>:22: DeprecationWarning: KerasClassifier is deprecated, use Sci-Keras (https://github.com/adriangb/scikeras) instead.\n",
      "  ANN_best = keras.wrappers.scikit_learn.KerasClassifier(build_nn, epochs= 200, verbose=False)\n"
     ]
    },
    {
     "name": "stdout",
     "output_type": "stream",
     "text": [
      "[Voting] ...................... (1 of 4) Processing KNN, total=   0.0s\n",
      "[Voting] ...................... (2 of 4) Processing SVC, total=   4.7s\n",
      "[Voting] ..................... (3 of 4) Processing LGBM, total=   0.2s\n",
      "WARNING:tensorflow:Error in loading the saved optimizer state. As a result, your model is starting with a freshly initialized optimizer.\n",
      "[Voting] ...................... (4 of 4) Processing ANN, total=  19.9s\n",
      "Iterazione 838 [[0 0]\n",
      " [0 1]]\n",
      "accuracy 1.0\n"
     ]
    },
    {
     "name": "stderr",
     "output_type": "stream",
     "text": [
      "<ipython-input-54-0786b9e49dc3>:22: DeprecationWarning: KerasClassifier is deprecated, use Sci-Keras (https://github.com/adriangb/scikeras) instead.\n",
      "  ANN_best = keras.wrappers.scikit_learn.KerasClassifier(build_nn, epochs= 200, verbose=False)\n"
     ]
    },
    {
     "name": "stdout",
     "output_type": "stream",
     "text": [
      "[Voting] ...................... (1 of 4) Processing KNN, total=   0.0s\n",
      "[Voting] ...................... (2 of 4) Processing SVC, total=   4.6s\n",
      "[Voting] ..................... (3 of 4) Processing LGBM, total=   0.2s\n",
      "WARNING:tensorflow:Error in loading the saved optimizer state. As a result, your model is starting with a freshly initialized optimizer.\n",
      "[Voting] ...................... (4 of 4) Processing ANN, total=  20.3s\n",
      "Iterazione 839 [[4 0]\n",
      " [0 0]]\n",
      "accuracy 1.0\n"
     ]
    },
    {
     "name": "stderr",
     "output_type": "stream",
     "text": [
      "<ipython-input-54-0786b9e49dc3>:22: DeprecationWarning: KerasClassifier is deprecated, use Sci-Keras (https://github.com/adriangb/scikeras) instead.\n",
      "  ANN_best = keras.wrappers.scikit_learn.KerasClassifier(build_nn, epochs= 200, verbose=False)\n"
     ]
    },
    {
     "name": "stdout",
     "output_type": "stream",
     "text": [
      "[Voting] ...................... (1 of 4) Processing KNN, total=   0.0s\n",
      "[Voting] ...................... (2 of 4) Processing SVC, total=   4.5s\n",
      "[Voting] ..................... (3 of 4) Processing LGBM, total=   0.3s\n",
      "WARNING:tensorflow:Error in loading the saved optimizer state. As a result, your model is starting with a freshly initialized optimizer.\n",
      "[Voting] ...................... (4 of 4) Processing ANN, total=  20.1s\n",
      "Iterazione 840 [[0 0]\n",
      " [4 1]]\n",
      "accuracy 0.2\n"
     ]
    },
    {
     "name": "stderr",
     "output_type": "stream",
     "text": [
      "<ipython-input-54-0786b9e49dc3>:22: DeprecationWarning: KerasClassifier is deprecated, use Sci-Keras (https://github.com/adriangb/scikeras) instead.\n",
      "  ANN_best = keras.wrappers.scikit_learn.KerasClassifier(build_nn, epochs= 200, verbose=False)\n"
     ]
    },
    {
     "name": "stdout",
     "output_type": "stream",
     "text": [
      "[Voting] ...................... (1 of 4) Processing KNN, total=   0.0s\n",
      "[Voting] ...................... (2 of 4) Processing SVC, total=   4.5s\n",
      "[Voting] ..................... (3 of 4) Processing LGBM, total=   0.2s\n",
      "WARNING:tensorflow:Error in loading the saved optimizer state. As a result, your model is starting with a freshly initialized optimizer.\n",
      "[Voting] ...................... (4 of 4) Processing ANN, total=  19.8s\n",
      "Iterazione 841 [[0 0]\n",
      " [4 2]]\n",
      "accuracy 0.3333333333333333\n"
     ]
    },
    {
     "name": "stderr",
     "output_type": "stream",
     "text": [
      "<ipython-input-54-0786b9e49dc3>:22: DeprecationWarning: KerasClassifier is deprecated, use Sci-Keras (https://github.com/adriangb/scikeras) instead.\n",
      "  ANN_best = keras.wrappers.scikit_learn.KerasClassifier(build_nn, epochs= 200, verbose=False)\n"
     ]
    },
    {
     "name": "stdout",
     "output_type": "stream",
     "text": [
      "[Voting] ...................... (1 of 4) Processing KNN, total=   0.0s\n",
      "[Voting] ...................... (2 of 4) Processing SVC, total=   4.4s\n",
      "[Voting] ..................... (3 of 4) Processing LGBM, total=   0.3s\n",
      "WARNING:tensorflow:Error in loading the saved optimizer state. As a result, your model is starting with a freshly initialized optimizer.\n",
      "[Voting] ...................... (4 of 4) Processing ANN, total=  20.0s\n",
      "Iterazione 842 [[3 1]\n",
      " [0 0]]\n",
      "accuracy 0.75\n"
     ]
    },
    {
     "name": "stderr",
     "output_type": "stream",
     "text": [
      "<ipython-input-54-0786b9e49dc3>:22: DeprecationWarning: KerasClassifier is deprecated, use Sci-Keras (https://github.com/adriangb/scikeras) instead.\n",
      "  ANN_best = keras.wrappers.scikit_learn.KerasClassifier(build_nn, epochs= 200, verbose=False)\n"
     ]
    },
    {
     "name": "stdout",
     "output_type": "stream",
     "text": [
      "[Voting] ...................... (1 of 4) Processing KNN, total=   0.0s\n",
      "[Voting] ...................... (2 of 4) Processing SVC, total=   4.5s\n",
      "[Voting] ..................... (3 of 4) Processing LGBM, total=   0.2s\n",
      "WARNING:tensorflow:Error in loading the saved optimizer state. As a result, your model is starting with a freshly initialized optimizer.\n",
      "[Voting] ...................... (4 of 4) Processing ANN, total=  19.8s\n",
      "Iterazione 843 [[12  3]\n",
      " [ 0  0]]\n",
      "accuracy 0.8\n"
     ]
    },
    {
     "name": "stderr",
     "output_type": "stream",
     "text": [
      "<ipython-input-54-0786b9e49dc3>:22: DeprecationWarning: KerasClassifier is deprecated, use Sci-Keras (https://github.com/adriangb/scikeras) instead.\n",
      "  ANN_best = keras.wrappers.scikit_learn.KerasClassifier(build_nn, epochs= 200, verbose=False)\n"
     ]
    },
    {
     "name": "stdout",
     "output_type": "stream",
     "text": [
      "[Voting] ...................... (1 of 4) Processing KNN, total=   0.0s\n",
      "[Voting] ...................... (2 of 4) Processing SVC, total=   4.7s\n",
      "[Voting] ..................... (3 of 4) Processing LGBM, total=   0.2s\n",
      "WARNING:tensorflow:Error in loading the saved optimizer state. As a result, your model is starting with a freshly initialized optimizer.\n",
      "[Voting] ...................... (4 of 4) Processing ANN, total=  20.9s\n",
      "Iterazione 844 [[0 0]\n",
      " [0 3]]\n",
      "accuracy 1.0\n"
     ]
    },
    {
     "name": "stderr",
     "output_type": "stream",
     "text": [
      "<ipython-input-54-0786b9e49dc3>:22: DeprecationWarning: KerasClassifier is deprecated, use Sci-Keras (https://github.com/adriangb/scikeras) instead.\n",
      "  ANN_best = keras.wrappers.scikit_learn.KerasClassifier(build_nn, epochs= 200, verbose=False)\n"
     ]
    },
    {
     "name": "stdout",
     "output_type": "stream",
     "text": [
      "[Voting] ...................... (1 of 4) Processing KNN, total=   0.0s\n",
      "[Voting] ...................... (2 of 4) Processing SVC, total=   4.5s\n",
      "[Voting] ..................... (3 of 4) Processing LGBM, total=   0.2s\n",
      "WARNING:tensorflow:Error in loading the saved optimizer state. As a result, your model is starting with a freshly initialized optimizer.\n",
      "[Voting] ...................... (4 of 4) Processing ANN, total=  20.2s\n",
      "Iterazione 845 [[0 0]\n",
      " [0 8]]\n",
      "accuracy 1.0\n"
     ]
    },
    {
     "name": "stderr",
     "output_type": "stream",
     "text": [
      "<ipython-input-54-0786b9e49dc3>:22: DeprecationWarning: KerasClassifier is deprecated, use Sci-Keras (https://github.com/adriangb/scikeras) instead.\n",
      "  ANN_best = keras.wrappers.scikit_learn.KerasClassifier(build_nn, epochs= 200, verbose=False)\n"
     ]
    },
    {
     "name": "stdout",
     "output_type": "stream",
     "text": [
      "[Voting] ...................... (1 of 4) Processing KNN, total=   0.0s\n",
      "[Voting] ...................... (2 of 4) Processing SVC, total=   4.8s\n",
      "[Voting] ..................... (3 of 4) Processing LGBM, total=   0.3s\n",
      "WARNING:tensorflow:Error in loading the saved optimizer state. As a result, your model is starting with a freshly initialized optimizer.\n",
      "[Voting] ...................... (4 of 4) Processing ANN, total=  26.7s\n",
      "Iterazione 846 [[3 0]\n",
      " [0 0]]\n",
      "accuracy 1.0\n"
     ]
    },
    {
     "name": "stderr",
     "output_type": "stream",
     "text": [
      "<ipython-input-54-0786b9e49dc3>:22: DeprecationWarning: KerasClassifier is deprecated, use Sci-Keras (https://github.com/adriangb/scikeras) instead.\n",
      "  ANN_best = keras.wrappers.scikit_learn.KerasClassifier(build_nn, epochs= 200, verbose=False)\n"
     ]
    },
    {
     "name": "stdout",
     "output_type": "stream",
     "text": [
      "[Voting] ...................... (1 of 4) Processing KNN, total=   0.0s\n",
      "[Voting] ...................... (2 of 4) Processing SVC, total=   6.0s\n",
      "[Voting] ..................... (3 of 4) Processing LGBM, total=   0.5s\n",
      "WARNING:tensorflow:Error in loading the saved optimizer state. As a result, your model is starting with a freshly initialized optimizer.\n",
      "[Voting] ...................... (4 of 4) Processing ANN, total=  28.0s\n",
      "Iterazione 847 [[4 1]\n",
      " [0 0]]\n",
      "accuracy 0.8\n"
     ]
    },
    {
     "name": "stderr",
     "output_type": "stream",
     "text": [
      "<ipython-input-54-0786b9e49dc3>:22: DeprecationWarning: KerasClassifier is deprecated, use Sci-Keras (https://github.com/adriangb/scikeras) instead.\n",
      "  ANN_best = keras.wrappers.scikit_learn.KerasClassifier(build_nn, epochs= 200, verbose=False)\n"
     ]
    },
    {
     "name": "stdout",
     "output_type": "stream",
     "text": [
      "[Voting] ...................... (1 of 4) Processing KNN, total=   0.0s\n",
      "[Voting] ...................... (2 of 4) Processing SVC, total=   5.9s\n",
      "[Voting] ..................... (3 of 4) Processing LGBM, total=   1.6s\n",
      "WARNING:tensorflow:Error in loading the saved optimizer state. As a result, your model is starting with a freshly initialized optimizer.\n",
      "[Voting] ...................... (4 of 4) Processing ANN, total=  28.7s\n",
      "Iterazione 848 [[1 3]\n",
      " [0 0]]\n",
      "accuracy 0.25\n"
     ]
    },
    {
     "name": "stderr",
     "output_type": "stream",
     "text": [
      "<ipython-input-54-0786b9e49dc3>:22: DeprecationWarning: KerasClassifier is deprecated, use Sci-Keras (https://github.com/adriangb/scikeras) instead.\n",
      "  ANN_best = keras.wrappers.scikit_learn.KerasClassifier(build_nn, epochs= 200, verbose=False)\n"
     ]
    },
    {
     "name": "stdout",
     "output_type": "stream",
     "text": [
      "[Voting] ...................... (1 of 4) Processing KNN, total=   0.0s\n",
      "[Voting] ...................... (2 of 4) Processing SVC, total=   6.1s\n",
      "[Voting] ..................... (3 of 4) Processing LGBM, total=   0.3s\n",
      "WARNING:tensorflow:Error in loading the saved optimizer state. As a result, your model is starting with a freshly initialized optimizer.\n",
      "[Voting] ...................... (4 of 4) Processing ANN, total=  22.3s\n",
      "Iterazione 849 [[0 0]\n",
      " [2 0]]\n",
      "accuracy 0.0\n"
     ]
    },
    {
     "name": "stderr",
     "output_type": "stream",
     "text": [
      "<ipython-input-54-0786b9e49dc3>:22: DeprecationWarning: KerasClassifier is deprecated, use Sci-Keras (https://github.com/adriangb/scikeras) instead.\n",
      "  ANN_best = keras.wrappers.scikit_learn.KerasClassifier(build_nn, epochs= 200, verbose=False)\n"
     ]
    },
    {
     "name": "stdout",
     "output_type": "stream",
     "text": [
      "[Voting] ...................... (1 of 4) Processing KNN, total=   0.0s\n",
      "[Voting] ...................... (2 of 4) Processing SVC, total=   5.0s\n",
      "[Voting] ..................... (3 of 4) Processing LGBM, total=   0.2s\n",
      "WARNING:tensorflow:Error in loading the saved optimizer state. As a result, your model is starting with a freshly initialized optimizer.\n",
      "[Voting] ...................... (4 of 4) Processing ANN, total=  26.8s\n",
      "Iterazione 850 [[3 1]\n",
      " [0 0]]\n",
      "accuracy 0.75\n"
     ]
    },
    {
     "name": "stderr",
     "output_type": "stream",
     "text": [
      "<ipython-input-54-0786b9e49dc3>:22: DeprecationWarning: KerasClassifier is deprecated, use Sci-Keras (https://github.com/adriangb/scikeras) instead.\n",
      "  ANN_best = keras.wrappers.scikit_learn.KerasClassifier(build_nn, epochs= 200, verbose=False)\n"
     ]
    },
    {
     "name": "stdout",
     "output_type": "stream",
     "text": [
      "[Voting] ...................... (1 of 4) Processing KNN, total=   0.0s\n",
      "[Voting] ...................... (2 of 4) Processing SVC, total=   6.5s\n",
      "[Voting] ..................... (3 of 4) Processing LGBM, total=   0.7s\n",
      "WARNING:tensorflow:Error in loading the saved optimizer state. As a result, your model is starting with a freshly initialized optimizer.\n",
      "[Voting] ...................... (4 of 4) Processing ANN, total=  28.9s\n",
      "Iterazione 851 [[4 5]\n",
      " [0 0]]\n",
      "accuracy 0.4444444444444444\n"
     ]
    },
    {
     "name": "stderr",
     "output_type": "stream",
     "text": [
      "<ipython-input-54-0786b9e49dc3>:22: DeprecationWarning: KerasClassifier is deprecated, use Sci-Keras (https://github.com/adriangb/scikeras) instead.\n",
      "  ANN_best = keras.wrappers.scikit_learn.KerasClassifier(build_nn, epochs= 200, verbose=False)\n"
     ]
    },
    {
     "name": "stdout",
     "output_type": "stream",
     "text": [
      "[Voting] ...................... (1 of 4) Processing KNN, total=   0.1s\n",
      "[Voting] ...................... (2 of 4) Processing SVC, total=   6.3s\n",
      "[Voting] ..................... (3 of 4) Processing LGBM, total=   0.4s\n",
      "WARNING:tensorflow:Error in loading the saved optimizer state. As a result, your model is starting with a freshly initialized optimizer.\n",
      "[Voting] ...................... (4 of 4) Processing ANN, total=  28.6s\n",
      "Iterazione 852 [[0 2]\n",
      " [0 0]]\n",
      "accuracy 0.0\n"
     ]
    },
    {
     "name": "stderr",
     "output_type": "stream",
     "text": [
      "<ipython-input-54-0786b9e49dc3>:22: DeprecationWarning: KerasClassifier is deprecated, use Sci-Keras (https://github.com/adriangb/scikeras) instead.\n",
      "  ANN_best = keras.wrappers.scikit_learn.KerasClassifier(build_nn, epochs= 200, verbose=False)\n"
     ]
    },
    {
     "name": "stdout",
     "output_type": "stream",
     "text": [
      "[Voting] ...................... (1 of 4) Processing KNN, total=   0.0s\n",
      "[Voting] ...................... (2 of 4) Processing SVC, total=   4.9s\n",
      "[Voting] ..................... (3 of 4) Processing LGBM, total=   0.2s\n",
      "WARNING:tensorflow:Error in loading the saved optimizer state. As a result, your model is starting with a freshly initialized optimizer.\n",
      "[Voting] ...................... (4 of 4) Processing ANN, total=  22.7s\n",
      "Iterazione 853 [[6 2]\n",
      " [0 0]]\n",
      "accuracy 0.75\n"
     ]
    },
    {
     "name": "stderr",
     "output_type": "stream",
     "text": [
      "<ipython-input-54-0786b9e49dc3>:22: DeprecationWarning: KerasClassifier is deprecated, use Sci-Keras (https://github.com/adriangb/scikeras) instead.\n",
      "  ANN_best = keras.wrappers.scikit_learn.KerasClassifier(build_nn, epochs= 200, verbose=False)\n"
     ]
    },
    {
     "name": "stdout",
     "output_type": "stream",
     "text": [
      "[Voting] ...................... (1 of 4) Processing KNN, total=   0.0s\n",
      "[Voting] ...................... (2 of 4) Processing SVC, total=   5.0s\n",
      "[Voting] ..................... (3 of 4) Processing LGBM, total=   0.3s\n",
      "WARNING:tensorflow:Error in loading the saved optimizer state. As a result, your model is starting with a freshly initialized optimizer.\n",
      "[Voting] ...................... (4 of 4) Processing ANN, total=  27.1s\n",
      "Iterazione 854 [[0 0]\n",
      " [0 2]]\n",
      "accuracy 1.0\n"
     ]
    },
    {
     "name": "stderr",
     "output_type": "stream",
     "text": [
      "<ipython-input-54-0786b9e49dc3>:22: DeprecationWarning: KerasClassifier is deprecated, use Sci-Keras (https://github.com/adriangb/scikeras) instead.\n",
      "  ANN_best = keras.wrappers.scikit_learn.KerasClassifier(build_nn, epochs= 200, verbose=False)\n"
     ]
    },
    {
     "name": "stdout",
     "output_type": "stream",
     "text": [
      "[Voting] ...................... (1 of 4) Processing KNN, total=   0.0s\n",
      "[Voting] ...................... (2 of 4) Processing SVC, total=   5.3s\n",
      "[Voting] ..................... (3 of 4) Processing LGBM, total=   0.3s\n",
      "WARNING:tensorflow:Error in loading the saved optimizer state. As a result, your model is starting with a freshly initialized optimizer.\n",
      "[Voting] ...................... (4 of 4) Processing ANN, total=  28.5s\n",
      "Iterazione 855 [[1 1]\n",
      " [0 0]]\n",
      "accuracy 0.5\n"
     ]
    },
    {
     "name": "stderr",
     "output_type": "stream",
     "text": [
      "<ipython-input-54-0786b9e49dc3>:22: DeprecationWarning: KerasClassifier is deprecated, use Sci-Keras (https://github.com/adriangb/scikeras) instead.\n",
      "  ANN_best = keras.wrappers.scikit_learn.KerasClassifier(build_nn, epochs= 200, verbose=False)\n"
     ]
    },
    {
     "name": "stdout",
     "output_type": "stream",
     "text": [
      "[Voting] ...................... (1 of 4) Processing KNN, total=   0.0s\n",
      "[Voting] ...................... (2 of 4) Processing SVC, total=   5.0s\n",
      "[Voting] ..................... (3 of 4) Processing LGBM, total=   0.4s\n",
      "WARNING:tensorflow:Error in loading the saved optimizer state. As a result, your model is starting with a freshly initialized optimizer.\n",
      "[Voting] ...................... (4 of 4) Processing ANN, total=  29.4s\n",
      "Iterazione 856 [[0 0]\n",
      " [2 7]]\n",
      "accuracy 0.7777777777777778\n"
     ]
    },
    {
     "name": "stderr",
     "output_type": "stream",
     "text": [
      "<ipython-input-54-0786b9e49dc3>:22: DeprecationWarning: KerasClassifier is deprecated, use Sci-Keras (https://github.com/adriangb/scikeras) instead.\n",
      "  ANN_best = keras.wrappers.scikit_learn.KerasClassifier(build_nn, epochs= 200, verbose=False)\n"
     ]
    },
    {
     "name": "stdout",
     "output_type": "stream",
     "text": [
      "[Voting] ...................... (1 of 4) Processing KNN, total=   0.0s\n",
      "[Voting] ...................... (2 of 4) Processing SVC, total=   5.2s\n",
      "[Voting] ..................... (3 of 4) Processing LGBM, total=   0.5s\n",
      "WARNING:tensorflow:Error in loading the saved optimizer state. As a result, your model is starting with a freshly initialized optimizer.\n",
      "[Voting] ...................... (4 of 4) Processing ANN, total=  24.8s\n",
      "Iterazione 857 [[2 0]\n",
      " [0 0]]\n",
      "accuracy 1.0\n"
     ]
    },
    {
     "name": "stderr",
     "output_type": "stream",
     "text": [
      "<ipython-input-54-0786b9e49dc3>:22: DeprecationWarning: KerasClassifier is deprecated, use Sci-Keras (https://github.com/adriangb/scikeras) instead.\n",
      "  ANN_best = keras.wrappers.scikit_learn.KerasClassifier(build_nn, epochs= 200, verbose=False)\n"
     ]
    },
    {
     "name": "stdout",
     "output_type": "stream",
     "text": [
      "[Voting] ...................... (1 of 4) Processing KNN, total=   0.0s\n",
      "[Voting] ...................... (2 of 4) Processing SVC, total=   5.7s\n",
      "[Voting] ..................... (3 of 4) Processing LGBM, total=   0.9s\n",
      "WARNING:tensorflow:Error in loading the saved optimizer state. As a result, your model is starting with a freshly initialized optimizer.\n",
      "[Voting] ...................... (4 of 4) Processing ANN, total=  29.3s\n",
      "Iterazione 858 [[ 0  0]\n",
      " [ 3 12]]\n",
      "accuracy 0.8\n"
     ]
    },
    {
     "name": "stderr",
     "output_type": "stream",
     "text": [
      "<ipython-input-54-0786b9e49dc3>:22: DeprecationWarning: KerasClassifier is deprecated, use Sci-Keras (https://github.com/adriangb/scikeras) instead.\n",
      "  ANN_best = keras.wrappers.scikit_learn.KerasClassifier(build_nn, epochs= 200, verbose=False)\n"
     ]
    },
    {
     "name": "stdout",
     "output_type": "stream",
     "text": [
      "[Voting] ...................... (1 of 4) Processing KNN, total=   0.0s\n",
      "[Voting] ...................... (2 of 4) Processing SVC, total=   5.7s\n",
      "[Voting] ..................... (3 of 4) Processing LGBM, total=   0.2s\n",
      "WARNING:tensorflow:Error in loading the saved optimizer state. As a result, your model is starting with a freshly initialized optimizer.\n",
      "[Voting] ...................... (4 of 4) Processing ANN, total=  25.4s\n",
      "Iterazione 859 [[2 1]\n",
      " [0 0]]\n",
      "accuracy 0.6666666666666666\n"
     ]
    },
    {
     "name": "stderr",
     "output_type": "stream",
     "text": [
      "<ipython-input-54-0786b9e49dc3>:22: DeprecationWarning: KerasClassifier is deprecated, use Sci-Keras (https://github.com/adriangb/scikeras) instead.\n",
      "  ANN_best = keras.wrappers.scikit_learn.KerasClassifier(build_nn, epochs= 200, verbose=False)\n"
     ]
    },
    {
     "name": "stdout",
     "output_type": "stream",
     "text": [
      "[Voting] ...................... (1 of 4) Processing KNN, total=   0.1s\n",
      "[Voting] ...................... (2 of 4) Processing SVC, total=   5.9s\n",
      "[Voting] ..................... (3 of 4) Processing LGBM, total=   0.3s\n",
      "WARNING:tensorflow:Error in loading the saved optimizer state. As a result, your model is starting with a freshly initialized optimizer.\n",
      "[Voting] ...................... (4 of 4) Processing ANN, total=  21.1s\n",
      "Iterazione 860 [[0 0]\n",
      " [1 4]]\n",
      "accuracy 0.8\n"
     ]
    },
    {
     "name": "stderr",
     "output_type": "stream",
     "text": [
      "<ipython-input-54-0786b9e49dc3>:22: DeprecationWarning: KerasClassifier is deprecated, use Sci-Keras (https://github.com/adriangb/scikeras) instead.\n",
      "  ANN_best = keras.wrappers.scikit_learn.KerasClassifier(build_nn, epochs= 200, verbose=False)\n"
     ]
    },
    {
     "name": "stdout",
     "output_type": "stream",
     "text": [
      "[Voting] ...................... (1 of 4) Processing KNN, total=   0.0s\n",
      "[Voting] ...................... (2 of 4) Processing SVC, total=   5.3s\n",
      "[Voting] ..................... (3 of 4) Processing LGBM, total=   0.3s\n",
      "WARNING:tensorflow:Error in loading the saved optimizer state. As a result, your model is starting with a freshly initialized optimizer.\n",
      "[Voting] ...................... (4 of 4) Processing ANN, total=  27.5s\n",
      "Iterazione 861 [[0 0]\n",
      " [1 1]]\n",
      "accuracy 0.5\n"
     ]
    },
    {
     "name": "stderr",
     "output_type": "stream",
     "text": [
      "<ipython-input-54-0786b9e49dc3>:22: DeprecationWarning: KerasClassifier is deprecated, use Sci-Keras (https://github.com/adriangb/scikeras) instead.\n",
      "  ANN_best = keras.wrappers.scikit_learn.KerasClassifier(build_nn, epochs= 200, verbose=False)\n"
     ]
    },
    {
     "name": "stdout",
     "output_type": "stream",
     "text": [
      "[Voting] ...................... (1 of 4) Processing KNN, total=   0.0s\n",
      "[Voting] ...................... (2 of 4) Processing SVC, total=   4.5s\n",
      "[Voting] ..................... (3 of 4) Processing LGBM, total=   0.5s\n",
      "WARNING:tensorflow:Error in loading the saved optimizer state. As a result, your model is starting with a freshly initialized optimizer.\n",
      "[Voting] ...................... (4 of 4) Processing ANN, total=  29.5s\n",
      "Iterazione 862 [[0 0]\n",
      " [1 2]]\n",
      "accuracy 0.6666666666666666\n"
     ]
    },
    {
     "name": "stderr",
     "output_type": "stream",
     "text": [
      "<ipython-input-54-0786b9e49dc3>:22: DeprecationWarning: KerasClassifier is deprecated, use Sci-Keras (https://github.com/adriangb/scikeras) instead.\n",
      "  ANN_best = keras.wrappers.scikit_learn.KerasClassifier(build_nn, epochs= 200, verbose=False)\n"
     ]
    },
    {
     "name": "stdout",
     "output_type": "stream",
     "text": [
      "[Voting] ...................... (1 of 4) Processing KNN, total=   0.0s\n",
      "[Voting] ...................... (2 of 4) Processing SVC, total=   6.0s\n",
      "[Voting] ..................... (3 of 4) Processing LGBM, total=   0.3s\n",
      "WARNING:tensorflow:Error in loading the saved optimizer state. As a result, your model is starting with a freshly initialized optimizer.\n",
      "[Voting] ...................... (4 of 4) Processing ANN, total=  28.9s\n",
      "Iterazione 863 [[0 0]\n",
      " [2 0]]\n",
      "accuracy 0.0\n"
     ]
    },
    {
     "name": "stderr",
     "output_type": "stream",
     "text": [
      "<ipython-input-54-0786b9e49dc3>:22: DeprecationWarning: KerasClassifier is deprecated, use Sci-Keras (https://github.com/adriangb/scikeras) instead.\n",
      "  ANN_best = keras.wrappers.scikit_learn.KerasClassifier(build_nn, epochs= 200, verbose=False)\n"
     ]
    },
    {
     "name": "stdout",
     "output_type": "stream",
     "text": [
      "[Voting] ...................... (1 of 4) Processing KNN, total=   0.0s\n",
      "[Voting] ...................... (2 of 4) Processing SVC, total=   6.0s\n",
      "[Voting] ..................... (3 of 4) Processing LGBM, total=   0.5s\n",
      "WARNING:tensorflow:Error in loading the saved optimizer state. As a result, your model is starting with a freshly initialized optimizer.\n",
      "[Voting] ...................... (4 of 4) Processing ANN, total=  29.1s\n",
      "Iterazione 864 [[3 4]\n",
      " [0 0]]\n",
      "accuracy 0.42857142857142855\n"
     ]
    },
    {
     "name": "stderr",
     "output_type": "stream",
     "text": [
      "<ipython-input-54-0786b9e49dc3>:22: DeprecationWarning: KerasClassifier is deprecated, use Sci-Keras (https://github.com/adriangb/scikeras) instead.\n",
      "  ANN_best = keras.wrappers.scikit_learn.KerasClassifier(build_nn, epochs= 200, verbose=False)\n"
     ]
    },
    {
     "name": "stdout",
     "output_type": "stream",
     "text": [
      "[Voting] ...................... (1 of 4) Processing KNN, total=   0.0s\n",
      "[Voting] ...................... (2 of 4) Processing SVC, total=   5.7s\n",
      "[Voting] ..................... (3 of 4) Processing LGBM, total=   0.3s\n",
      "WARNING:tensorflow:Error in loading the saved optimizer state. As a result, your model is starting with a freshly initialized optimizer.\n",
      "[Voting] ...................... (4 of 4) Processing ANN, total=  20.2s\n",
      "Iterazione 865 [[7 0]\n",
      " [0 0]]\n",
      "accuracy 1.0\n"
     ]
    },
    {
     "name": "stderr",
     "output_type": "stream",
     "text": [
      "<ipython-input-54-0786b9e49dc3>:22: DeprecationWarning: KerasClassifier is deprecated, use Sci-Keras (https://github.com/adriangb/scikeras) instead.\n",
      "  ANN_best = keras.wrappers.scikit_learn.KerasClassifier(build_nn, epochs= 200, verbose=False)\n"
     ]
    },
    {
     "name": "stdout",
     "output_type": "stream",
     "text": [
      "[Voting] ...................... (1 of 4) Processing KNN, total=   0.0s\n",
      "[Voting] ...................... (2 of 4) Processing SVC, total=   5.1s\n",
      "[Voting] ..................... (3 of 4) Processing LGBM, total=   0.2s\n",
      "WARNING:tensorflow:Error in loading the saved optimizer state. As a result, your model is starting with a freshly initialized optimizer.\n",
      "[Voting] ...................... (4 of 4) Processing ANN, total=  24.7s\n",
      "Iterazione 866 [[2 0]\n",
      " [0 0]]\n",
      "accuracy 1.0\n"
     ]
    },
    {
     "name": "stderr",
     "output_type": "stream",
     "text": [
      "<ipython-input-54-0786b9e49dc3>:22: DeprecationWarning: KerasClassifier is deprecated, use Sci-Keras (https://github.com/adriangb/scikeras) instead.\n",
      "  ANN_best = keras.wrappers.scikit_learn.KerasClassifier(build_nn, epochs= 200, verbose=False)\n"
     ]
    },
    {
     "name": "stdout",
     "output_type": "stream",
     "text": [
      "[Voting] ...................... (1 of 4) Processing KNN, total=   0.0s\n",
      "[Voting] ...................... (2 of 4) Processing SVC, total=   4.7s\n",
      "[Voting] ..................... (3 of 4) Processing LGBM, total=   0.3s\n",
      "WARNING:tensorflow:Error in loading the saved optimizer state. As a result, your model is starting with a freshly initialized optimizer.\n",
      "[Voting] ...................... (4 of 4) Processing ANN, total=  22.7s\n",
      "Iterazione 867 [[0 0]\n",
      " [2 0]]\n",
      "accuracy 0.0\n"
     ]
    },
    {
     "name": "stderr",
     "output_type": "stream",
     "text": [
      "<ipython-input-54-0786b9e49dc3>:22: DeprecationWarning: KerasClassifier is deprecated, use Sci-Keras (https://github.com/adriangb/scikeras) instead.\n",
      "  ANN_best = keras.wrappers.scikit_learn.KerasClassifier(build_nn, epochs= 200, verbose=False)\n"
     ]
    },
    {
     "name": "stdout",
     "output_type": "stream",
     "text": [
      "[Voting] ...................... (1 of 4) Processing KNN, total=   0.0s\n",
      "[Voting] ...................... (2 of 4) Processing SVC, total=   6.6s\n",
      "[Voting] ..................... (3 of 4) Processing LGBM, total=   0.6s\n",
      "WARNING:tensorflow:Error in loading the saved optimizer state. As a result, your model is starting with a freshly initialized optimizer.\n",
      "[Voting] ...................... (4 of 4) Processing ANN, total=  23.5s\n",
      "Iterazione 868 [[0 0]\n",
      " [1 2]]\n",
      "accuracy 0.6666666666666666\n"
     ]
    },
    {
     "name": "stderr",
     "output_type": "stream",
     "text": [
      "<ipython-input-54-0786b9e49dc3>:22: DeprecationWarning: KerasClassifier is deprecated, use Sci-Keras (https://github.com/adriangb/scikeras) instead.\n",
      "  ANN_best = keras.wrappers.scikit_learn.KerasClassifier(build_nn, epochs= 200, verbose=False)\n"
     ]
    },
    {
     "name": "stdout",
     "output_type": "stream",
     "text": [
      "[Voting] ...................... (1 of 4) Processing KNN, total=   0.0s\n",
      "[Voting] ...................... (2 of 4) Processing SVC, total=   5.1s\n",
      "[Voting] ..................... (3 of 4) Processing LGBM, total=   0.2s\n",
      "WARNING:tensorflow:Error in loading the saved optimizer state. As a result, your model is starting with a freshly initialized optimizer.\n",
      "[Voting] ...................... (4 of 4) Processing ANN, total=  24.4s\n",
      "Iterazione 869 [[0 0]\n",
      " [1 1]]\n",
      "accuracy 0.5\n"
     ]
    }
   ],
   "source": [
    "from sklearn.model_selection import LeaveOneOut\n",
    "from sklearn.metrics import accuracy_score,f1_score, zero_one_loss\n",
    "\n",
    "loo = LeaveOneOut()\n",
    "\n",
    "final_cm=np.array([[0, 0],[0, 0]])\n",
    "\n",
    "dataset_covid_healthy = pd.read_pickle(\"dataset_covid_healthy.pkl\")\n",
    "uuids_status_unique= dataset_covid_healthy.filter(items=['uuid','status']).drop_duplicates()\n",
    "uuids = np.array(uuids_status_unique['uuid'])\n",
    "y_uuids = np.array(uuids_status_unique['status'])\n",
    "\n",
    "for i, (train, test) in enumerate(loo.split(uuids)):\n",
    "    train_uuids = uuids[train]\n",
    "    test_uuids = uuids[test]\n",
    "    \n",
    "    #Loading best folds classifiers\n",
    "    KNN_best = KNeighborsClassifier(algorithm='auto', leaf_size=10, metric='minkowski', n_neighbors= 1, weights='uniform')\n",
    "    SVC_best = SVC( C=10, degree= 5, gamma='auto', kernel='poly')\n",
    "    SVC_best.probability=True\n",
    "    LGBM_best = LGBMClassifier(learning_rate=0.3, max_depth=50, min_child_samples=2, n_estimators=160)\n",
    "    ANN_best = keras.wrappers.scikit_learn.KerasClassifier(build_nn, epochs= 200, verbose=False)\n",
    "    ANN_best._estimator_type = \"classifier\"\n",
    "    \n",
    "    X_train = []\n",
    "    y_train = []\n",
    "    X_test = []\n",
    "    y_test = []\n",
    "    \n",
    "    for x in dataset_covid_healthy.iterrows():\n",
    "        if x[1]['uuid'] in train_uuids:\n",
    "            X_train.append(x[1][1:48])\n",
    "            if x[1]['status']=='healthy':\n",
    "                y_train.append(1)\n",
    "            else:\n",
    "                y_train.append(0)\n",
    "        elif x[1]['uuid'] in test_uuids:\n",
    "            X_test.append(x[1][1:48])\n",
    "            if x[1]['status']=='healthy':\n",
    "                y_test.append(1)\n",
    "            else:\n",
    "                y_test.append(0)\n",
    "    \n",
    "    X_train = np.array(X_train)\n",
    "    y_train = np.array(y_train)\n",
    "    X_test = np.array(X_test)\n",
    "    y_test = np.array(y_test)\n",
    "    \n",
    "    #Normalization\n",
    "    scaler = StandardScaler()\n",
    "    X_train = scaler.fit_transform(X_train)\n",
    "    X_test = scaler.transform(X_test)\n",
    "    \n",
    "    \n",
    "    voting_clf = VotingClassifier(estimators=[('KNN', KNN_best), ('SVC', SVC_best), ('LGBM', LGBM_best), ('ANN', ANN_best)], \n",
    "                                              voting='soft', flatten_transform=True, verbose=True)\n",
    "    voting_clf.fit(X_train, y_train)\n",
    "    preds =  voting_clf.predict(X_test)\n",
    "    \n",
    "    cm = np.array([[0, 0],[0, 0]])\n",
    "    for pred in preds:\n",
    "        if y_test[0] == pred:\n",
    "            if pred == 1:\n",
    "                cm += np.array([[0, 0],[0, 1]])\n",
    "            else:\n",
    "                cm += np.array([[1, 0],[0, 0]])\n",
    "        else:\n",
    "            if pred == 1:\n",
    "                cm += np.array([[0, 1],[0, 0]])\n",
    "            else:\n",
    "                cm+= np.array([[0, 0],[1, 0]])\n",
    "    final_cm += cm\n",
    "    \n",
    "    print('Iterazione', i, cm)\n",
    "    print('accuracy', accuracy_score(y_test, preds))"
   ]
  },
  {
   "cell_type": "code",
   "execution_count": 55,
   "metadata": {},
   "outputs": [
    {
     "data": {
      "text/plain": [
       "array([[1095,  734],\n",
       "       [ 761, 1327]])"
      ]
     },
     "execution_count": 55,
     "metadata": {},
     "output_type": "execute_result"
    }
   ],
   "source": [
    "final_cm"
   ]
  }
 ],
 "metadata": {
  "kernelspec": {
   "display_name": "Python 3",
   "language": "python",
   "name": "python3"
  },
  "language_info": {
   "codemirror_mode": {
    "name": "ipython",
    "version": 3
   },
   "file_extension": ".py",
   "mimetype": "text/x-python",
   "name": "python",
   "nbconvert_exporter": "python",
   "pygments_lexer": "ipython3",
   "version": "3.8.3"
  }
 },
 "nbformat": 4,
 "nbformat_minor": 4
}
